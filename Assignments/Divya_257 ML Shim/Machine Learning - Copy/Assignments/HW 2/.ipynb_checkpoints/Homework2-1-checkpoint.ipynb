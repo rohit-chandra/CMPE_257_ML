{
 "cells": [
  {
   "cell_type": "markdown",
   "metadata": {
    "id": "nGYZwqFjj0Bw"
   },
   "source": [
    "# CMPE 257 Homework 2"
   ]
  },
  {
   "cell_type": "markdown",
   "metadata": {
    "id": "arAFh8GIj0B_"
   },
   "source": [
    "## Question 1"
   ]
  },
  {
   "cell_type": "markdown",
   "metadata": {
    "id": "Aq8gtMYbj0CC"
   },
   "source": [
    "### a. Load dataset from csv file."
   ]
  },
  {
   "cell_type": "code",
   "execution_count": 1,
   "metadata": {
    "id": "kbdxXP5tj0CE"
   },
   "outputs": [
    {
     "name": "stdout",
     "output_type": "stream",
     "text": [
      "               0         1                   2            3               4  \\\n",
      "0      longitude  latitude  housing_median_age  total_rooms  total_bedrooms   \n",
      "1        -122.23     37.88                41.0        880.0           129.0   \n",
      "2        -122.22     37.86                21.0       7099.0          1106.0   \n",
      "3        -122.24     37.85                52.0       1467.0           190.0   \n",
      "4        -122.25     37.85                52.0       1274.0           235.0   \n",
      "5        -122.25     37.85                52.0       1627.0           280.0   \n",
      "6        -122.25     37.85                52.0        919.0           213.0   \n",
      "7        -122.25     37.84                52.0       2535.0           489.0   \n",
      "8        -122.25     37.84                52.0       3104.0           687.0   \n",
      "9        -122.26     37.84                42.0       2555.0           665.0   \n",
      "10       -122.25     37.84                52.0       3549.0           707.0   \n",
      "11       -122.26     37.85                52.0       2202.0           434.0   \n",
      "12       -122.26     37.85                52.0       3503.0           752.0   \n",
      "13       -122.26     37.85                52.0       2491.0           474.0   \n",
      "14       -122.26     37.84                52.0        696.0           191.0   \n",
      "15       -122.26     37.85                52.0       2643.0           626.0   \n",
      "16       -122.26     37.85                50.0       1120.0           283.0   \n",
      "17       -122.27     37.85                52.0       1966.0           347.0   \n",
      "18       -122.27     37.85                52.0       1228.0           293.0   \n",
      "19       -122.26     37.84                50.0       2239.0           455.0   \n",
      "20       -122.27     37.84                52.0       1503.0           298.0   \n",
      "21       -122.27     37.85                40.0        751.0           184.0   \n",
      "22       -122.27     37.85                42.0       1639.0           367.0   \n",
      "23       -122.27     37.84                52.0       2436.0           541.0   \n",
      "24       -122.27     37.84                52.0       1688.0           337.0   \n",
      "25       -122.27     37.84                52.0       2224.0           437.0   \n",
      "26       -122.28     37.85                41.0        535.0           123.0   \n",
      "27       -122.28     37.85                49.0       1130.0           244.0   \n",
      "28       -122.28     37.85                52.0       1898.0           421.0   \n",
      "29       -122.28     37.84                50.0       2082.0           492.0   \n",
      "...          ...       ...                 ...          ...             ...   \n",
      "20611    -121.56      39.1                28.0       2130.0           484.0   \n",
      "20612    -121.55      39.1                27.0       1783.0           441.0   \n",
      "20613    -121.56     39.08                26.0       1377.0           289.0   \n",
      "20614    -121.55     39.09                31.0       1728.0           365.0   \n",
      "20615    -121.54     39.08                26.0       2276.0           460.0   \n",
      "20616    -121.54     39.08                23.0       1076.0           216.0   \n",
      "20617    -121.53     39.08                15.0       1810.0           441.0   \n",
      "20618    -121.53     39.06                20.0        561.0           109.0   \n",
      "20619    -121.55     39.06                25.0       1332.0           247.0   \n",
      "20620    -121.56     39.01                22.0       1891.0           340.0   \n",
      "20621    -121.48     39.05                40.0        198.0            41.0   \n",
      "20622    -121.47     39.01                37.0       1244.0           247.0   \n",
      "20623    -121.44      39.0                20.0        755.0           147.0   \n",
      "20624    -121.37     39.03                32.0       1158.0           244.0   \n",
      "20625    -121.41     39.04                16.0       1698.0           300.0   \n",
      "20626    -121.52     39.12                37.0        102.0            17.0   \n",
      "20627    -121.43     39.18                36.0       1124.0           184.0   \n",
      "20628    -121.32     39.13                 5.0        358.0            65.0   \n",
      "20629    -121.48      39.1                19.0       2043.0           421.0   \n",
      "20630    -121.39     39.12                28.0      10035.0          1856.0   \n",
      "20631    -121.32     39.29                11.0       2640.0           505.0   \n",
      "20632     -121.4     39.33                15.0       2655.0           493.0   \n",
      "20633    -121.45     39.26                15.0       2319.0           416.0   \n",
      "20634    -121.53     39.19                27.0       2080.0           412.0   \n",
      "20635    -121.56     39.27                28.0       2332.0           395.0   \n",
      "20636    -121.09     39.48                25.0       1665.0           374.0   \n",
      "20637    -121.21     39.49                18.0        697.0           150.0   \n",
      "20638    -121.22     39.43                17.0       2254.0           485.0   \n",
      "20639    -121.32     39.43                18.0       1860.0           409.0   \n",
      "20640    -121.24     39.37                16.0       2785.0           616.0   \n",
      "\n",
      "                5           6              7                   8  \\\n",
      "0      population  households  median_income  median_house_value   \n",
      "1           322.0       126.0         8.3252            452600.0   \n",
      "2          2401.0      1138.0         8.3014            358500.0   \n",
      "3           496.0       177.0         7.2574            352100.0   \n",
      "4           558.0       219.0         5.6431            341300.0   \n",
      "5           565.0       259.0         3.8462            342200.0   \n",
      "6           413.0       193.0         4.0368            269700.0   \n",
      "7          1094.0       514.0         3.6591            299200.0   \n",
      "8          1157.0       647.0           3.12            241400.0   \n",
      "9          1206.0       595.0         2.0804            226700.0   \n",
      "10         1551.0       714.0         3.6912            261100.0   \n",
      "11          910.0       402.0         3.2031            281500.0   \n",
      "12         1504.0       734.0         3.2705            241800.0   \n",
      "13         1098.0       468.0          3.075            213500.0   \n",
      "14          345.0       174.0         2.6736            191300.0   \n",
      "15         1212.0       620.0         1.9167            159200.0   \n",
      "16          697.0       264.0          2.125            140000.0   \n",
      "17          793.0       331.0          2.775            152500.0   \n",
      "18          648.0       303.0         2.1202            155500.0   \n",
      "19          990.0       419.0         1.9911            158700.0   \n",
      "20          690.0       275.0         2.6033            162900.0   \n",
      "21          409.0       166.0         1.3578            147500.0   \n",
      "22          929.0       366.0         1.7135            159800.0   \n",
      "23         1015.0       478.0          1.725            113900.0   \n",
      "24          853.0       325.0         2.1806             99700.0   \n",
      "25         1006.0       422.0            2.6            132600.0   \n",
      "26          317.0       119.0         2.4038            107500.0   \n",
      "27          607.0       239.0         2.4597             93800.0   \n",
      "28         1102.0       397.0          1.808            105500.0   \n",
      "29         1131.0       473.0         1.6424            108900.0   \n",
      "...           ...         ...            ...                 ...   \n",
      "20611      1195.0       439.0         1.3631             45500.0   \n",
      "20612      1163.0       409.0         1.2857             47000.0   \n",
      "20613       761.0       267.0         1.4934             48300.0   \n",
      "20614      1167.0       384.0         1.4958             53400.0   \n",
      "20615      1455.0       474.0         2.4695             58000.0   \n",
      "20616       724.0       197.0         2.3598             57500.0   \n",
      "20617      1157.0       375.0         2.0469             55100.0   \n",
      "20618       308.0       114.0         3.3021             70800.0   \n",
      "20619       726.0       226.0           2.25             63400.0   \n",
      "20620      1023.0       296.0         2.7303             99100.0   \n",
      "20621       151.0        48.0         4.5625            100000.0   \n",
      "20622       484.0       157.0         2.3661             77500.0   \n",
      "20623       457.0       157.0         2.4167             67000.0   \n",
      "20624       598.0       227.0         2.8235             65500.0   \n",
      "20625       731.0       291.0         3.0739             87200.0   \n",
      "20626        29.0        14.0          4.125             72000.0   \n",
      "20627       504.0       171.0         2.1667             93800.0   \n",
      "20628       169.0        59.0            3.0            162500.0   \n",
      "20629      1018.0       390.0         2.5952             92400.0   \n",
      "20630      6912.0      1818.0         2.0943            108300.0   \n",
      "20631      1257.0       445.0         3.5673            112000.0   \n",
      "20632      1200.0       432.0         3.5179            107200.0   \n",
      "20633      1047.0       385.0          3.125            115600.0   \n",
      "20634      1082.0       382.0         2.5495             98300.0   \n",
      "20635      1041.0       344.0         3.7125            116800.0   \n",
      "20636       845.0       330.0         1.5603             78100.0   \n",
      "20637       356.0       114.0         2.5568             77100.0   \n",
      "20638      1007.0       433.0            1.7             92300.0   \n",
      "20639       741.0       349.0         1.8672             84700.0   \n",
      "20640      1387.0       530.0         2.3886             89400.0   \n",
      "\n",
      "                     9  \n",
      "0      ocean_proximity  \n",
      "1             NEAR BAY  \n",
      "2             NEAR BAY  \n",
      "3             NEAR BAY  \n",
      "4             NEAR BAY  \n",
      "5             NEAR BAY  \n",
      "6             NEAR BAY  \n",
      "7             NEAR BAY  \n",
      "8             NEAR BAY  \n",
      "9             NEAR BAY  \n",
      "10            NEAR BAY  \n",
      "11            NEAR BAY  \n",
      "12            NEAR BAY  \n",
      "13            NEAR BAY  \n",
      "14            NEAR BAY  \n",
      "15            NEAR BAY  \n",
      "16            NEAR BAY  \n",
      "17            NEAR BAY  \n",
      "18            NEAR BAY  \n",
      "19            NEAR BAY  \n",
      "20            NEAR BAY  \n",
      "21            NEAR BAY  \n",
      "22            NEAR BAY  \n",
      "23            NEAR BAY  \n",
      "24            NEAR BAY  \n",
      "25            NEAR BAY  \n",
      "26            NEAR BAY  \n",
      "27            NEAR BAY  \n",
      "28            NEAR BAY  \n",
      "29            NEAR BAY  \n",
      "...                ...  \n",
      "20611           INLAND  \n",
      "20612           INLAND  \n",
      "20613           INLAND  \n",
      "20614           INLAND  \n",
      "20615           INLAND  \n",
      "20616           INLAND  \n",
      "20617           INLAND  \n",
      "20618           INLAND  \n",
      "20619           INLAND  \n",
      "20620           INLAND  \n",
      "20621           INLAND  \n",
      "20622           INLAND  \n",
      "20623           INLAND  \n",
      "20624           INLAND  \n",
      "20625           INLAND  \n",
      "20626           INLAND  \n",
      "20627           INLAND  \n",
      "20628           INLAND  \n",
      "20629           INLAND  \n",
      "20630           INLAND  \n",
      "20631           INLAND  \n",
      "20632           INLAND  \n",
      "20633           INLAND  \n",
      "20634           INLAND  \n",
      "20635           INLAND  \n",
      "20636           INLAND  \n",
      "20637           INLAND  \n",
      "20638           INLAND  \n",
      "20639           INLAND  \n",
      "20640           INLAND  \n",
      "\n",
      "[20641 rows x 10 columns]\n"
     ]
    },
    {
     "data": {
      "text/plain": [
       "20641"
      ]
     },
     "execution_count": 1,
     "metadata": {},
     "output_type": "execute_result"
    }
   ],
   "source": [
    "import pandas as pd\n",
    "import numpy as np\n",
    "import matplotlib.pyplot as plt\n",
    "import seaborn as sns\n",
    "import sklearn \n",
    "\n",
    "whole_data_set = pd.read_csv(\"datasetHW2.csv\", header=None, skipinitialspace=True)\n",
    "print(whole_data_set)\n",
    "len(whole_data_set)"
   ]
  },
  {
   "cell_type": "markdown",
   "metadata": {
    "id": "s57PIQWKj0CG"
   },
   "source": [
    "### b. Remove the header which is 0th row."
   ]
  },
  {
   "cell_type": "code",
   "execution_count": 2,
   "metadata": {
    "id": "Wn1DoWrPj0CI"
   },
   "outputs": [
    {
     "name": "stdout",
     "output_type": "stream",
     "text": [
      "20640\n"
     ]
    }
   ],
   "source": [
    "data_set = whole_data_set.iloc[1:,:]\n",
    "print(len(data_set))"
   ]
  },
  {
   "cell_type": "markdown",
   "metadata": {
    "id": "BC9srdJnj0CQ"
   },
   "source": [
    "### c. Split the dataset into 70:30 training set and test set (non-repetitive random selection)."
   ]
  },
  {
   "cell_type": "code",
   "execution_count": 3,
   "metadata": {
    "id": "WL89z-76j0CU"
   },
   "outputs": [
    {
     "name": "stdout",
     "output_type": "stream",
     "text": [
      "20640\n",
      "14447 6192\n"
     ]
    }
   ],
   "source": [
    "data = data_set.drop_duplicates(keep='first')  # we are removing duplicates from the dataset which can affect the accuracy of the model\n",
    "print(len(data)) # in this case there are no duplicates\n",
    "\n",
    "import sklearn.utils \n",
    "import sklearn.model_selection\n",
    "\n",
    "training_data, test_data = sklearn.model_selection.train_test_split(data, shuffle='True', test_size=0.3, train_size=0.7)\n",
    "print(len(training_data), len(test_data))"
   ]
  },
  {
   "cell_type": "markdown",
   "metadata": {
    "id": "yCltyI0gj0CX"
   },
   "source": [
    "### d. Plot each feature against the target in the training set."
   ]
  },
  {
   "cell_type": "code",
   "execution_count": 4,
   "metadata": {
    "id": "5p4BuJQCj0CZ"
   },
   "outputs": [
    {
     "name": "stdout",
     "output_type": "stream",
     "text": [
      "0       ocean_proximity\n",
      "1              NEAR BAY\n",
      "702           <1H OCEAN\n",
      "955              INLAND\n",
      "1851         NEAR OCEAN\n",
      "8315             ISLAND\n",
      "Name: 9, dtype: object\n",
      "             0      1     2        3       4       5       6       7  \\\n",
      "1      -122.23  37.88  41.0    880.0   129.0   322.0   126.0  8.3252   \n",
      "2      -122.22  37.86  21.0   7099.0  1106.0  2401.0  1138.0  8.3014   \n",
      "3      -122.24  37.85  52.0   1467.0   190.0   496.0   177.0  7.2574   \n",
      "4      -122.25  37.85  52.0   1274.0   235.0   558.0   219.0  5.6431   \n",
      "5      -122.25  37.85  52.0   1627.0   280.0   565.0   259.0  3.8462   \n",
      "6      -122.25  37.85  52.0    919.0   213.0   413.0   193.0  4.0368   \n",
      "7      -122.25  37.84  52.0   2535.0   489.0  1094.0   514.0  3.6591   \n",
      "8      -122.25  37.84  52.0   3104.0   687.0  1157.0   647.0    3.12   \n",
      "9      -122.26  37.84  42.0   2555.0   665.0  1206.0   595.0  2.0804   \n",
      "10     -122.25  37.84  52.0   3549.0   707.0  1551.0   714.0  3.6912   \n",
      "11     -122.26  37.85  52.0   2202.0   434.0   910.0   402.0  3.2031   \n",
      "12     -122.26  37.85  52.0   3503.0   752.0  1504.0   734.0  3.2705   \n",
      "13     -122.26  37.85  52.0   2491.0   474.0  1098.0   468.0   3.075   \n",
      "14     -122.26  37.84  52.0    696.0   191.0   345.0   174.0  2.6736   \n",
      "15     -122.26  37.85  52.0   2643.0   626.0  1212.0   620.0  1.9167   \n",
      "16     -122.26  37.85  50.0   1120.0   283.0   697.0   264.0   2.125   \n",
      "17     -122.27  37.85  52.0   1966.0   347.0   793.0   331.0   2.775   \n",
      "18     -122.27  37.85  52.0   1228.0   293.0   648.0   303.0  2.1202   \n",
      "19     -122.26  37.84  50.0   2239.0   455.0   990.0   419.0  1.9911   \n",
      "20     -122.27  37.84  52.0   1503.0   298.0   690.0   275.0  2.6033   \n",
      "21     -122.27  37.85  40.0    751.0   184.0   409.0   166.0  1.3578   \n",
      "22     -122.27  37.85  42.0   1639.0   367.0   929.0   366.0  1.7135   \n",
      "23     -122.27  37.84  52.0   2436.0   541.0  1015.0   478.0   1.725   \n",
      "24     -122.27  37.84  52.0   1688.0   337.0   853.0   325.0  2.1806   \n",
      "25     -122.27  37.84  52.0   2224.0   437.0  1006.0   422.0     2.6   \n",
      "26     -122.28  37.85  41.0    535.0   123.0   317.0   119.0  2.4038   \n",
      "27     -122.28  37.85  49.0   1130.0   244.0   607.0   239.0  2.4597   \n",
      "28     -122.28  37.85  52.0   1898.0   421.0  1102.0   397.0   1.808   \n",
      "29     -122.28  37.84  50.0   2082.0   492.0  1131.0   473.0  1.6424   \n",
      "30     -122.28  37.84  52.0    729.0   160.0   395.0   155.0  1.6875   \n",
      "...        ...    ...   ...      ...     ...     ...     ...     ...   \n",
      "20611  -121.56   39.1  28.0   2130.0   484.0  1195.0   439.0  1.3631   \n",
      "20612  -121.55   39.1  27.0   1783.0   441.0  1163.0   409.0  1.2857   \n",
      "20613  -121.56  39.08  26.0   1377.0   289.0   761.0   267.0  1.4934   \n",
      "20614  -121.55  39.09  31.0   1728.0   365.0  1167.0   384.0  1.4958   \n",
      "20615  -121.54  39.08  26.0   2276.0   460.0  1455.0   474.0  2.4695   \n",
      "20616  -121.54  39.08  23.0   1076.0   216.0   724.0   197.0  2.3598   \n",
      "20617  -121.53  39.08  15.0   1810.0   441.0  1157.0   375.0  2.0469   \n",
      "20618  -121.53  39.06  20.0    561.0   109.0   308.0   114.0  3.3021   \n",
      "20619  -121.55  39.06  25.0   1332.0   247.0   726.0   226.0    2.25   \n",
      "20620  -121.56  39.01  22.0   1891.0   340.0  1023.0   296.0  2.7303   \n",
      "20621  -121.48  39.05  40.0    198.0    41.0   151.0    48.0  4.5625   \n",
      "20622  -121.47  39.01  37.0   1244.0   247.0   484.0   157.0  2.3661   \n",
      "20623  -121.44   39.0  20.0    755.0   147.0   457.0   157.0  2.4167   \n",
      "20624  -121.37  39.03  32.0   1158.0   244.0   598.0   227.0  2.8235   \n",
      "20625  -121.41  39.04  16.0   1698.0   300.0   731.0   291.0  3.0739   \n",
      "20626  -121.52  39.12  37.0    102.0    17.0    29.0    14.0   4.125   \n",
      "20627  -121.43  39.18  36.0   1124.0   184.0   504.0   171.0  2.1667   \n",
      "20628  -121.32  39.13   5.0    358.0    65.0   169.0    59.0     3.0   \n",
      "20629  -121.48   39.1  19.0   2043.0   421.0  1018.0   390.0  2.5952   \n",
      "20630  -121.39  39.12  28.0  10035.0  1856.0  6912.0  1818.0  2.0943   \n",
      "20631  -121.32  39.29  11.0   2640.0   505.0  1257.0   445.0  3.5673   \n",
      "20632   -121.4  39.33  15.0   2655.0   493.0  1200.0   432.0  3.5179   \n",
      "20633  -121.45  39.26  15.0   2319.0   416.0  1047.0   385.0   3.125   \n",
      "20634  -121.53  39.19  27.0   2080.0   412.0  1082.0   382.0  2.5495   \n",
      "20635  -121.56  39.27  28.0   2332.0   395.0  1041.0   344.0  3.7125   \n",
      "20636  -121.09  39.48  25.0   1665.0   374.0   845.0   330.0  1.5603   \n",
      "20637  -121.21  39.49  18.0    697.0   150.0   356.0   114.0  2.5568   \n",
      "20638  -121.22  39.43  17.0   2254.0   485.0  1007.0   433.0     1.7   \n",
      "20639  -121.32  39.43  18.0   1860.0   409.0   741.0   349.0  1.8672   \n",
      "20640  -121.24  39.37  16.0   2785.0   616.0  1387.0   530.0  2.3886   \n",
      "\n",
      "              8  9  \n",
      "1      452600.0  0  \n",
      "2      358500.0  0  \n",
      "3      352100.0  0  \n",
      "4      341300.0  0  \n",
      "5      342200.0  0  \n",
      "6      269700.0  0  \n",
      "7      299200.0  0  \n",
      "8      241400.0  0  \n",
      "9      226700.0  0  \n",
      "10     261100.0  0  \n",
      "11     281500.0  0  \n",
      "12     241800.0  0  \n",
      "13     213500.0  0  \n",
      "14     191300.0  0  \n",
      "15     159200.0  0  \n",
      "16     140000.0  0  \n",
      "17     152500.0  0  \n",
      "18     155500.0  0  \n",
      "19     158700.0  0  \n",
      "20     162900.0  0  \n",
      "21     147500.0  0  \n",
      "22     159800.0  0  \n",
      "23     113900.0  0  \n",
      "24      99700.0  0  \n",
      "25     132600.0  0  \n",
      "26     107500.0  0  \n",
      "27      93800.0  0  \n",
      "28     105500.0  0  \n",
      "29     108900.0  0  \n",
      "30     132000.0  0  \n",
      "...         ... ..  \n",
      "20611   45500.0  3  \n",
      "20612   47000.0  3  \n",
      "20613   48300.0  3  \n",
      "20614   53400.0  3  \n",
      "20615   58000.0  3  \n",
      "20616   57500.0  3  \n",
      "20617   55100.0  3  \n",
      "20618   70800.0  3  \n",
      "20619   63400.0  3  \n",
      "20620   99100.0  3  \n",
      "20621  100000.0  3  \n",
      "20622   77500.0  3  \n",
      "20623   67000.0  3  \n",
      "20624   65500.0  3  \n",
      "20625   87200.0  3  \n",
      "20626   72000.0  3  \n",
      "20627   93800.0  3  \n",
      "20628  162500.0  3  \n",
      "20629   92400.0  3  \n",
      "20630  108300.0  3  \n",
      "20631  112000.0  3  \n",
      "20632  107200.0  3  \n",
      "20633  115600.0  3  \n",
      "20634   98300.0  3  \n",
      "20635  116800.0  3  \n",
      "20636   78100.0  3  \n",
      "20637   77100.0  3  \n",
      "20638   92300.0  3  \n",
      "20639   84700.0  3  \n",
      "20640   89400.0  3  \n",
      "\n",
      "[20640 rows x 10 columns]\n"
     ]
    }
   ],
   "source": [
    "vals = whole_data_set.iloc[:,9].drop_duplicates(keep='first') # to find unique values of ocean_proximity\n",
    "print(vals)\n",
    "\n",
    "data.iloc[:,9] = data.iloc[:,9].map({'NEAR BAY':0, '<1H OCEAN':1, 'NEAR OCEAN':2,  'INLAND':3, 'ISLAND':4})\n",
    "print(data)\n"
   ]
  },
  {
   "cell_type": "code",
   "execution_count": 5,
   "metadata": {},
   "outputs": [
    {
     "name": "stdout",
     "output_type": "stream",
     "text": [
      "          0         1         2         3         4         5         6  \\\n",
      "0  1.000000 -0.924664 -0.108197  0.044568  0.069608  0.099773  0.055310   \n",
      "1 -0.924664  1.000000  0.011173 -0.036100 -0.066983 -0.108785 -0.071035   \n",
      "2 -0.108197  0.011173  1.000000 -0.361262 -0.320451 -0.296244 -0.302916   \n",
      "3  0.044568 -0.036100 -0.361262  1.000000  0.930380  0.857126  0.918484   \n",
      "4  0.069608 -0.066983 -0.320451  0.930380  1.000000  0.877747  0.979728   \n",
      "5  0.099773 -0.108785 -0.296244  0.857126  0.877747  1.000000  0.907222   \n",
      "6  0.055310 -0.071035 -0.302916  0.918484  0.979728  0.907222  1.000000   \n",
      "7 -0.015176 -0.079809 -0.119034  0.198050 -0.007723  0.004834  0.013033   \n",
      "8 -0.045967 -0.144160  0.105623  0.134153  0.049686 -0.024650  0.065843   \n",
      "9  0.108475  0.153237 -0.280764  0.026557  0.000239 -0.008443 -0.032032   \n",
      "\n",
      "          7         8         9  \n",
      "0 -0.015176 -0.045967  0.108475  \n",
      "1 -0.079809 -0.144160  0.153237  \n",
      "2 -0.119034  0.105623 -0.280764  \n",
      "3  0.198050  0.134153  0.026557  \n",
      "4 -0.007723  0.049686  0.000239  \n",
      "5  0.004834 -0.024650 -0.008443  \n",
      "6  0.013033  0.065843 -0.032032  \n",
      "7  1.000000  0.688075 -0.220857  \n",
      "8  0.688075  1.000000 -0.435062  \n",
      "9 -0.220857 -0.435062  1.000000  \n"
     ]
    },
    {
     "data": {
      "text/plain": [
       "<matplotlib.axes._subplots.AxesSubplot at 0x1346beb0>"
      ]
     },
     "execution_count": 5,
     "metadata": {},
     "output_type": "execute_result"
    },
    {
     "data": {
      "image/png": "[encoded data removed]",
      "text/plain": [
       "<Figure size 432x288 with 2 Axes>"
      ]
     },
     "metadata": {
      "needs_background": "light"
     },
     "output_type": "display_data"
    }
   ],
   "source": [
    "data[0:] = data[0:].astype(float) # as the numeric values were stored as string object we converted them to float for computation of correlation\n",
    "data_hm = data.corr()\n",
    "print(data_hm)\n",
    "sns.heatmap(data_hm,cmap='Blues')"
   ]
  },
  {
   "cell_type": "markdown",
   "metadata": {
    "id": "JNm4lX80j0Ca"
   },
   "source": [
    "### e. Write down your observations on the above plots to find which features had maximum influence on the target."
   ]
  },
  {
   "cell_type": "code",
   "execution_count": 6,
   "metadata": {
    "id": "O-wDW8_1j0Cb"
   },
   "outputs": [],
   "source": [
    "# from heatmap we notice that median_income and ocean_proximity are most influencing the value of house \n",
    "# the degree of correlation for median_income is 0.688075 and for ocean_proximity its - 0.435062"
   ]
  },
  {
   "cell_type": "markdown",
   "metadata": {
    "id": "LwpkU5Haj0Cc"
   },
   "source": [
    "### f. What kind of a problem is this? (eg. classification, regression, clustering, etc)."
   ]
  },
  {
   "cell_type": "code",
   "execution_count": 7,
   "metadata": {
    "id": "DeorWXPHj0Cd"
   },
   "outputs": [],
   "source": [
    "# Its a regression problem as we have are using one(univariate) or more(multivariate) features to predict the value of the target"
   ]
  },
  {
   "cell_type": "markdown",
   "metadata": {
    "collapsed": true,
    "id": "Ku5jiCXcj0Ce"
   },
   "source": [
    "### g. Get the quick description of data using info() and description() functions."
   ]
  },
  {
   "cell_type": "code",
   "execution_count": 8,
   "metadata": {
    "id": "ZaS5m_hxj0Cg"
   },
   "outputs": [
    {
     "name": "stdout",
     "output_type": "stream",
     "text": [
      "<class 'pandas.core.frame.DataFrame'>\n",
      "Int64Index: 20640 entries, 1 to 20640\n",
      "Data columns (total 10 columns):\n",
      "0    20640 non-null float64\n",
      "1    20640 non-null float64\n",
      "2    20640 non-null int64\n",
      "3    20640 non-null int64\n",
      "4    20433 non-null float64\n",
      "5    20640 non-null int64\n",
      "6    20640 non-null int64\n",
      "7    20640 non-null float64\n",
      "8    20640 non-null int64\n",
      "9    20640 non-null float64\n",
      "dtypes: float64(5), int64(5)\n",
      "memory usage: 1.7 MB\n",
      "None\n"
     ]
    }
   ],
   "source": [
    "print(data.info(null_counts='False'))\n",
    "# we notice that 20433 values are numeric values for total_bedrooms "
   ]
  },
  {
   "cell_type": "code",
   "execution_count": 9,
   "metadata": {},
   "outputs": [
    {
     "name": "stdout",
     "output_type": "stream",
     "text": [
      "                  0             1             2             3             4  \\\n",
      "count  20640.000000  20640.000000  20640.000000  20640.000000  20433.000000   \n",
      "mean    -119.569704     35.631861     28.639486   2635.763081    537.870553   \n",
      "std        2.003532      2.135952     12.585558   2181.615252    421.385070   \n",
      "min     -124.350000     32.540000      1.000000      2.000000      1.000000   \n",
      "25%     -121.800000     33.930000     18.000000   1447.750000    296.000000   \n",
      "50%     -118.490000     34.260000     29.000000   2127.000000    435.000000   \n",
      "75%     -118.010000     37.710000     37.000000   3148.000000    647.000000   \n",
      "max     -114.310000     41.950000     52.000000  39320.000000   6445.000000   \n",
      "\n",
      "                  5             6             7              8             9  \n",
      "count  20640.000000  20640.000000  20640.000000   20640.000000  20640.000000  \n",
      "mean    1425.476744    499.539680      3.870671  206855.816909      1.653343  \n",
      "std     1132.462122    382.329753      1.899822  115395.615874      1.041479  \n",
      "min        3.000000      1.000000      0.499900   14999.000000      0.000000  \n",
      "25%      787.000000    280.000000      2.563400  119600.000000      1.000000  \n",
      "50%     1166.000000    409.000000      3.534800  179700.000000      1.000000  \n",
      "75%     1725.000000    605.000000      4.743250  264725.000000      3.000000  \n",
      "max    35682.000000   6082.000000     15.000100  500001.000000      4.000000  \n"
     ]
    }
   ],
   "source": [
    "print(data.describe())"
   ]
  },
  {
   "cell_type": "markdown",
   "metadata": {
    "id": "bC_D53Sgj0Ch"
   },
   "source": [
    "### h. Perform min-max normalization on features and target."
   ]
  },
  {
   "cell_type": "code",
   "execution_count": 10,
   "metadata": {
    "id": "jklYt279j0Ci"
   },
   "outputs": [],
   "source": [
    "from sklearn.preprocessing import MinMaxScaler\n",
    "\n",
    "scaler = MinMaxScaler()\n",
    "norm_values = scaler.fit_transform(data[[7,8,9]])\n"
   ]
  },
  {
   "cell_type": "markdown",
   "metadata": {
    "id": "1T2I0Snbj0Ci"
   },
   "source": [
    "### i. Describe rules of NumPy Broadcasting."
   ]
  },
  {
   "cell_type": "code",
   "execution_count": 11,
   "metadata": {
    "id": "IaJgbblBj0Cq"
   },
   "outputs": [
    {
     "name": "stdout",
     "output_type": "stream",
     "text": [
      "[ 3 12 24]\n",
      "[[1. 1. 1. 1. 1.]\n",
      " [1. 1. 1. 1. 1.]\n",
      " [1. 1. 1. 1. 1.]\n",
      " [1. 1. 1. 1. 1.]]\n"
     ]
    },
    {
     "ename": "ValueError",
     "evalue": "operands could not be broadcast together with shapes (4,6) (3,5,4) ",
     "output_type": "error",
     "traceback": [
      "\u001b[1;31m---------------------------------------------------------------------------\u001b[0m",
      "\u001b[1;31mValueError\u001b[0m                                Traceback (most recent call last)",
      "\u001b[1;32m<ipython-input-11-6f11f25ded52>\u001b[0m in \u001b[0;36m<module>\u001b[1;34m()\u001b[0m\n\u001b[0;32m     17\u001b[0m \u001b[0mq\u001b[0m \u001b[1;33m=\u001b[0m \u001b[0mnp\u001b[0m\u001b[1;33m.\u001b[0m\u001b[0mones\u001b[0m\u001b[1;33m(\u001b[0m\u001b[1;33m(\u001b[0m\u001b[1;36m3\u001b[0m\u001b[1;33m,\u001b[0m\u001b[1;36m5\u001b[0m\u001b[1;33m,\u001b[0m\u001b[1;36m4\u001b[0m\u001b[1;33m)\u001b[0m\u001b[1;33m)\u001b[0m\u001b[1;33m\u001b[0m\u001b[0m\n\u001b[0;32m     18\u001b[0m \u001b[1;31m# p.shape is (4,6) and q.shape is (3,5,4) so trailing dimension i.e 6 and 4 are not equal hence they are not compatible for broadcasting\u001b[0m\u001b[1;33m\u001b[0m\u001b[1;33m\u001b[0m\u001b[0m\n\u001b[1;32m---> 19\u001b[1;33m \u001b[0mprint\u001b[0m\u001b[1;33m(\u001b[0m\u001b[0mp\u001b[0m\u001b[1;33m+\u001b[0m\u001b[0mq\u001b[0m\u001b[1;33m)\u001b[0m\u001b[1;33m\u001b[0m\u001b[0m\n\u001b[0m",
      "\u001b[1;31mValueError\u001b[0m: operands could not be broadcast together with shapes (4,6) (3,5,4) "
     ]
    }
   ],
   "source": [
    "# broadcasting describes how numpy treats arrays with different shapes during arithmetic operations\n",
    "# while operating on arrays numpy checks the dimensions of the two arrays starting from rightmost dimension. two dimensions are compatible iff they are equal OR one of them is 1\n",
    "\n",
    "# eg 1 : when multiplying a scalar value with an array -> here the scalar value is broadcasted to be of same dimensions as array a \n",
    "a = np.array([1,4,8])\n",
    "b = 3\n",
    "print(a*b)\n",
    "\n",
    "# eg 2 : when dimension are compatible\n",
    "p = np.ones(5)\n",
    "q = np.ones((4,5))\n",
    "# p.shape is (5,) and q.shape is (4,5) so trailing dimension i.e 5 is equal and rest dimension are stretched to match the longer one \n",
    "print(p*q)\n",
    "\n",
    "#eg 3 : when dimension are not compatible\n",
    "p = np.ones((4,6))\n",
    "q = np.ones((3,5,4))\n",
    "# p.shape is (4,6) and q.shape is (3,5,4) so trailing dimension i.e 6 and 4 are not equal hence they are not compatible for broadcasting\n",
    "print(p+q)\n"
   ]
  },
  {
   "cell_type": "markdown",
   "metadata": {
    "id": "f88vnxykj0Cr"
   },
   "source": [
    "### j. Describe the purpose of numpy.reshape with a valid example\n"
   ]
  },
  {
   "cell_type": "code",
   "execution_count": 12,
   "metadata": {},
   "outputs": [
    {
     "name": "stdout",
     "output_type": "stream",
     "text": [
      "oneD * twoD =  [[ 2  6 12]\n",
      " [20 35 48]\n",
      " [21 40 63]]\n",
      "\n",
      " oneD twoD =  [[ 21  32  41]\n",
      " [ 51  77  98]\n",
      " [ 81 122 155]]\n"
     ]
    }
   ],
   "source": [
    "# we have a 1D array and a 2D array and we need to perform matrix multiplication \n",
    "oneD = np.array([1,2,3,4,5,6,7,8,9])\n",
    "twoD = np.array([[2,3,4],[5,7,8],[3,5,7]])\n",
    "# 2D array has dimension \n",
    "# twoD.shape is (3,3) and oneD.shape is (9,) hance numpy broad cast rule doesnt apply so we need to reshape the oneD array\n",
    "\n",
    "oneD = oneD.reshape(3,3)\n",
    "print(\"oneD * twoD = \",oneD*twoD)\n",
    "print(\"\\n oneD twoD = \", np.dot(oneD,twoD))"
   ]
  },
  {
   "cell_type": "markdown",
   "metadata": {
    "id": "yXGbJJXaj0Cr"
   },
   "source": [
    "## Question 2\n",
    "Boston housing dataset is a famous dataset widely used for machine learning. In this problem, you will train\n",
    "a linear regression model that predicts the house price using the Boston housing dataset."
   ]
  },
  {
   "cell_type": "markdown",
   "metadata": {
    "id": "_nkmjR4Pj0Cs"
   },
   "source": [
    "### a. Load Boston house prices dataset. Plot each feature against the target in the training set.  Write down your observations on the above plots to find which features had maximum influence on the target.\n",
    "https://scikit-learn.org/stable/modules/generated/sklearn.datasets.load_boston.html\n"
   ]
  },
  {
   "cell_type": "code",
   "execution_count": 13,
   "metadata": {
    "id": "xs8vnHhNj0Ct"
   },
   "outputs": [
    {
     "name": "stdout",
     "output_type": "stream",
     "text": [
      "         CRIM    ZN  INDUS  CHAS    NOX     RM    AGE     DIS   RAD    TAX  \\\n",
      "0     0.00632  18.0   2.31   0.0  0.538  6.575   65.2  4.0900   1.0  296.0   \n",
      "1     0.02731   0.0   7.07   0.0  0.469  6.421   78.9  4.9671   2.0  242.0   \n",
      "2     0.02729   0.0   7.07   0.0  0.469  7.185   61.1  4.9671   2.0  242.0   \n",
      "3     0.03237   0.0   2.18   0.0  0.458  6.998   45.8  6.0622   3.0  222.0   \n",
      "4     0.06905   0.0   2.18   0.0  0.458  7.147   54.2  6.0622   3.0  222.0   \n",
      "5     0.02985   0.0   2.18   0.0  0.458  6.430   58.7  6.0622   3.0  222.0   \n",
      "6     0.08829  12.5   7.87   0.0  0.524  6.012   66.6  5.5605   5.0  311.0   \n",
      "7     0.14455  12.5   7.87   0.0  0.524  6.172   96.1  5.9505   5.0  311.0   \n",
      "8     0.21124  12.5   7.87   0.0  0.524  5.631  100.0  6.0821   5.0  311.0   \n",
      "9     0.17004  12.5   7.87   0.0  0.524  6.004   85.9  6.5921   5.0  311.0   \n",
      "10    0.22489  12.5   7.87   0.0  0.524  6.377   94.3  6.3467   5.0  311.0   \n",
      "11    0.11747  12.5   7.87   0.0  0.524  6.009   82.9  6.2267   5.0  311.0   \n",
      "12    0.09378  12.5   7.87   0.0  0.524  5.889   39.0  5.4509   5.0  311.0   \n",
      "13    0.62976   0.0   8.14   0.0  0.538  5.949   61.8  4.7075   4.0  307.0   \n",
      "14    0.63796   0.0   8.14   0.0  0.538  6.096   84.5  4.4619   4.0  307.0   \n",
      "15    0.62739   0.0   8.14   0.0  0.538  5.834   56.5  4.4986   4.0  307.0   \n",
      "16    1.05393   0.0   8.14   0.0  0.538  5.935   29.3  4.4986   4.0  307.0   \n",
      "17    0.78420   0.0   8.14   0.0  0.538  5.990   81.7  4.2579   4.0  307.0   \n",
      "18    0.80271   0.0   8.14   0.0  0.538  5.456   36.6  3.7965   4.0  307.0   \n",
      "19    0.72580   0.0   8.14   0.0  0.538  5.727   69.5  3.7965   4.0  307.0   \n",
      "20    1.25179   0.0   8.14   0.0  0.538  5.570   98.1  3.7979   4.0  307.0   \n",
      "21    0.85204   0.0   8.14   0.0  0.538  5.965   89.2  4.0123   4.0  307.0   \n",
      "22    1.23247   0.0   8.14   0.0  0.538  6.142   91.7  3.9769   4.0  307.0   \n",
      "23    0.98843   0.0   8.14   0.0  0.538  5.813  100.0  4.0952   4.0  307.0   \n",
      "24    0.75026   0.0   8.14   0.0  0.538  5.924   94.1  4.3996   4.0  307.0   \n",
      "25    0.84054   0.0   8.14   0.0  0.538  5.599   85.7  4.4546   4.0  307.0   \n",
      "26    0.67191   0.0   8.14   0.0  0.538  5.813   90.3  4.6820   4.0  307.0   \n",
      "27    0.95577   0.0   8.14   0.0  0.538  6.047   88.8  4.4534   4.0  307.0   \n",
      "28    0.77299   0.0   8.14   0.0  0.538  6.495   94.4  4.4547   4.0  307.0   \n",
      "29    1.00245   0.0   8.14   0.0  0.538  6.674   87.3  4.2390   4.0  307.0   \n",
      "..        ...   ...    ...   ...    ...    ...    ...     ...   ...    ...   \n",
      "476   4.87141   0.0  18.10   0.0  0.614  6.484   93.6  2.3053  24.0  666.0   \n",
      "477  15.02340   0.0  18.10   0.0  0.614  5.304   97.3  2.1007  24.0  666.0   \n",
      "478  10.23300   0.0  18.10   0.0  0.614  6.185   96.7  2.1705  24.0  666.0   \n",
      "479  14.33370   0.0  18.10   0.0  0.614  6.229   88.0  1.9512  24.0  666.0   \n",
      "480   5.82401   0.0  18.10   0.0  0.532  6.242   64.7  3.4242  24.0  666.0   \n",
      "481   5.70818   0.0  18.10   0.0  0.532  6.750   74.9  3.3317  24.0  666.0   \n",
      "482   5.73116   0.0  18.10   0.0  0.532  7.061   77.0  3.4106  24.0  666.0   \n",
      "483   2.81838   0.0  18.10   0.0  0.532  5.762   40.3  4.0983  24.0  666.0   \n",
      "484   2.37857   0.0  18.10   0.0  0.583  5.871   41.9  3.7240  24.0  666.0   \n",
      "485   3.67367   0.0  18.10   0.0  0.583  6.312   51.9  3.9917  24.0  666.0   \n",
      "486   5.69175   0.0  18.10   0.0  0.583  6.114   79.8  3.5459  24.0  666.0   \n",
      "487   4.83567   0.0  18.10   0.0  0.583  5.905   53.2  3.1523  24.0  666.0   \n",
      "488   0.15086   0.0  27.74   0.0  0.609  5.454   92.7  1.8209   4.0  711.0   \n",
      "489   0.18337   0.0  27.74   0.0  0.609  5.414   98.3  1.7554   4.0  711.0   \n",
      "490   0.20746   0.0  27.74   0.0  0.609  5.093   98.0  1.8226   4.0  711.0   \n",
      "491   0.10574   0.0  27.74   0.0  0.609  5.983   98.8  1.8681   4.0  711.0   \n",
      "492   0.11132   0.0  27.74   0.0  0.609  5.983   83.5  2.1099   4.0  711.0   \n",
      "493   0.17331   0.0   9.69   0.0  0.585  5.707   54.0  2.3817   6.0  391.0   \n",
      "494   0.27957   0.0   9.69   0.0  0.585  5.926   42.6  2.3817   6.0  391.0   \n",
      "495   0.17899   0.0   9.69   0.0  0.585  5.670   28.8  2.7986   6.0  391.0   \n",
      "496   0.28960   0.0   9.69   0.0  0.585  5.390   72.9  2.7986   6.0  391.0   \n",
      "497   0.26838   0.0   9.69   0.0  0.585  5.794   70.6  2.8927   6.0  391.0   \n",
      "498   0.23912   0.0   9.69   0.0  0.585  6.019   65.3  2.4091   6.0  391.0   \n",
      "499   0.17783   0.0   9.69   0.0  0.585  5.569   73.5  2.3999   6.0  391.0   \n",
      "500   0.22438   0.0   9.69   0.0  0.585  6.027   79.7  2.4982   6.0  391.0   \n",
      "501   0.06263   0.0  11.93   0.0  0.573  6.593   69.1  2.4786   1.0  273.0   \n",
      "502   0.04527   0.0  11.93   0.0  0.573  6.120   76.7  2.2875   1.0  273.0   \n",
      "503   0.06076   0.0  11.93   0.0  0.573  6.976   91.0  2.1675   1.0  273.0   \n",
      "504   0.10959   0.0  11.93   0.0  0.573  6.794   89.3  2.3889   1.0  273.0   \n",
      "505   0.04741   0.0  11.93   0.0  0.573  6.030   80.8  2.5050   1.0  273.0   \n",
      "\n",
      "     PTRATIO       B  LSTAT  \n",
      "0       15.3  396.90   4.98  \n",
      "1       17.8  396.90   9.14  \n",
      "2       17.8  392.83   4.03  \n",
      "3       18.7  394.63   2.94  \n",
      "4       18.7  396.90   5.33  \n",
      "5       18.7  394.12   5.21  \n",
      "6       15.2  395.60  12.43  \n",
      "7       15.2  396.90  19.15  \n",
      "8       15.2  386.63  29.93  \n",
      "9       15.2  386.71  17.10  \n",
      "10      15.2  392.52  20.45  \n",
      "11      15.2  396.90  13.27  \n",
      "12      15.2  390.50  15.71  \n",
      "13      21.0  396.90   8.26  \n",
      "14      21.0  380.02  10.26  \n",
      "15      21.0  395.62   8.47  \n",
      "16      21.0  386.85   6.58  \n",
      "17      21.0  386.75  14.67  \n",
      "18      21.0  288.99  11.69  \n",
      "19      21.0  390.95  11.28  \n",
      "20      21.0  376.57  21.02  \n",
      "21      21.0  392.53  13.83  \n",
      "22      21.0  396.90  18.72  \n",
      "23      21.0  394.54  19.88  \n",
      "24      21.0  394.33  16.30  \n",
      "25      21.0  303.42  16.51  \n",
      "26      21.0  376.88  14.81  \n",
      "27      21.0  306.38  17.28  \n",
      "28      21.0  387.94  12.80  \n",
      "29      21.0  380.23  11.98  \n",
      "..       ...     ...    ...  \n",
      "476     20.2  396.21  18.68  \n",
      "477     20.2  349.48  24.91  \n",
      "478     20.2  379.70  18.03  \n",
      "479     20.2  383.32  13.11  \n",
      "480     20.2  396.90  10.74  \n",
      "481     20.2  393.07   7.74  \n",
      "482     20.2  395.28   7.01  \n",
      "483     20.2  392.92  10.42  \n",
      "484     20.2  370.73  13.34  \n",
      "485     20.2  388.62  10.58  \n",
      "486     20.2  392.68  14.98  \n",
      "487     20.2  388.22  11.45  \n",
      "488     20.1  395.09  18.06  \n",
      "489     20.1  344.05  23.97  \n",
      "490     20.1  318.43  29.68  \n",
      "491     20.1  390.11  18.07  \n",
      "492     20.1  396.90  13.35  \n",
      "493     19.2  396.90  12.01  \n",
      "494     19.2  396.90  13.59  \n",
      "495     19.2  393.29  17.60  \n",
      "496     19.2  396.90  21.14  \n",
      "497     19.2  396.90  14.10  \n",
      "498     19.2  396.90  12.92  \n",
      "499     19.2  395.77  15.10  \n",
      "500     19.2  396.90  14.33  \n",
      "501     21.0  391.99   9.67  \n",
      "502     21.0  396.90   9.08  \n",
      "503     21.0  396.90   5.64  \n",
      "504     21.0  393.45   6.48  \n",
      "505     21.0  396.90   7.88  \n",
      "\n",
      "[506 rows x 13 columns]\n"
     ]
    },
    {
     "data": {
      "text/plain": [
       "\"CRIM - per capita crime rate by town\\nZN - proportion of residential land zoned for lots over 25,000 sq.ft.\\nINDUS - proportion of non-retail business acres per town.\\nCHAS - Charles River dummy variable (1 if tract bounds river; 0 otherwise)\\nNOX - nitric oxides concentration (parts per 10 million)\\nRM - average number of rooms per dwelling\\nAGE - proportion of owner-occupied units built prior to 1940\\nDIS - weighted distances to five Boston employment centres\\nRAD - index of accessibility to radial highways\\nTAX - full-value property-tax rate per $10,000\\nPTRATIO - pupil-teacher ratio by town\\nB - 1000(Bk - 0.63)^2 where Bk is the proportion of blacks by town\\nLSTAT - % lower status of the population\\nMEDV - Median value of owner-occupied homes in $1000's\""
      ]
     },
     "execution_count": 13,
     "metadata": {},
     "output_type": "execute_result"
    }
   ],
   "source": [
    "from sklearn import datasets\n",
    "bdata = datasets.load_boston()\n",
    "boston_data = pd.DataFrame(data=bdata['data'], columns=bdata['feature_names'])\n",
    "print(boston_data)\n",
    "\n",
    "'''CRIM - per capita crime rate by town\n",
    "ZN - proportion of residential land zoned for lots over 25,000 sq.ft.\n",
    "INDUS - proportion of non-retail business acres per town.\n",
    "CHAS - Charles River dummy variable (1 if tract bounds river; 0 otherwise)\n",
    "NOX - nitric oxides concentration (parts per 10 million)\n",
    "RM - average number of rooms per dwelling\n",
    "AGE - proportion of owner-occupied units built prior to 1940\n",
    "DIS - weighted distances to five Boston employment centres\n",
    "RAD - index of accessibility to radial highways\n",
    "TAX - full-value property-tax rate per $10,000\n",
    "PTRATIO - pupil-teacher ratio by town\n",
    "B - 1000(Bk - 0.63)^2 where Bk is the proportion of blacks by town\n",
    "LSTAT - % lower status of the population\n",
    "MEDV - Median value of owner-occupied homes in $1000's'''"
   ]
  },
  {
   "cell_type": "code",
   "execution_count": 14,
   "metadata": {},
   "outputs": [
    {
     "name": "stdout",
     "output_type": "stream",
     "text": [
      "             CRIM        ZN     INDUS      CHAS       NOX        RM       AGE  \\\n",
      "CRIM     1.000000 -0.200469  0.406583 -0.055892  0.420972 -0.219247  0.352734   \n",
      "ZN      -0.200469  1.000000 -0.533828 -0.042697 -0.516604  0.311991 -0.569537   \n",
      "INDUS    0.406583 -0.533828  1.000000  0.062938  0.763651 -0.391676  0.644779   \n",
      "CHAS    -0.055892 -0.042697  0.062938  1.000000  0.091203  0.091251  0.086518   \n",
      "NOX      0.420972 -0.516604  0.763651  0.091203  1.000000 -0.302188  0.731470   \n",
      "RM      -0.219247  0.311991 -0.391676  0.091251 -0.302188  1.000000 -0.240265   \n",
      "AGE      0.352734 -0.569537  0.644779  0.086518  0.731470 -0.240265  1.000000   \n",
      "DIS     -0.379670  0.664408 -0.708027 -0.099176 -0.769230  0.205246 -0.747881   \n",
      "RAD      0.625505 -0.311948  0.595129 -0.007368  0.611441 -0.209847  0.456022   \n",
      "TAX      0.582764 -0.314563  0.720760 -0.035587  0.668023 -0.292048  0.506456   \n",
      "PTRATIO  0.289946 -0.391679  0.383248 -0.121515  0.188933 -0.355501  0.261515   \n",
      "B       -0.385064  0.175520 -0.356977  0.048788 -0.380051  0.128069 -0.273534   \n",
      "LSTAT    0.455621 -0.412995  0.603800 -0.053929  0.590879 -0.613808  0.602339   \n",
      "MEDV    -0.388305  0.360445 -0.483725  0.175260 -0.427321  0.695360 -0.376955   \n",
      "\n",
      "              DIS       RAD       TAX   PTRATIO         B     LSTAT      MEDV  \n",
      "CRIM    -0.379670  0.625505  0.582764  0.289946 -0.385064  0.455621 -0.388305  \n",
      "ZN       0.664408 -0.311948 -0.314563 -0.391679  0.175520 -0.412995  0.360445  \n",
      "INDUS   -0.708027  0.595129  0.720760  0.383248 -0.356977  0.603800 -0.483725  \n",
      "CHAS    -0.099176 -0.007368 -0.035587 -0.121515  0.048788 -0.053929  0.175260  \n",
      "NOX     -0.769230  0.611441  0.668023  0.188933 -0.380051  0.590879 -0.427321  \n",
      "RM       0.205246 -0.209847 -0.292048 -0.355501  0.128069 -0.613808  0.695360  \n",
      "AGE     -0.747881  0.456022  0.506456  0.261515 -0.273534  0.602339 -0.376955  \n",
      "DIS      1.000000 -0.494588 -0.534432 -0.232471  0.291512 -0.496996  0.249929  \n",
      "RAD     -0.494588  1.000000  0.910228  0.464741 -0.444413  0.488676 -0.381626  \n",
      "TAX     -0.534432  0.910228  1.000000  0.460853 -0.441808  0.543993 -0.468536  \n",
      "PTRATIO -0.232471  0.464741  0.460853  1.000000 -0.177383  0.374044 -0.507787  \n",
      "B        0.291512 -0.444413 -0.441808 -0.177383  1.000000 -0.366087  0.333461  \n",
      "LSTAT   -0.496996  0.488676  0.543993  0.374044 -0.366087  1.000000 -0.737663  \n",
      "MEDV     0.249929 -0.381626 -0.468536 -0.507787  0.333461 -0.737663  1.000000  \n"
     ]
    },
    {
     "data": {
      "text/plain": [
       "<matplotlib.axes._subplots.AxesSubplot at 0xc17f30>"
      ]
     },
     "execution_count": 14,
     "metadata": {},
     "output_type": "execute_result"
    },
    {
     "data": {
      "image/png": "[encoded data removed]",
      "text/plain": [
       "<Figure size 432x288 with 2 Axes>"
      ]
     },
     "metadata": {
      "needs_background": "light"
     },
     "output_type": "display_data"
    }
   ],
   "source": [
    "boston_data['MEDV'] = bdata['target']\n",
    "data_hm = boston_data.corr()\n",
    "print(data_hm)\n",
    "sns.heatmap(data_hm,cmap='Blues')"
   ]
  },
  {
   "cell_type": "code",
   "execution_count": 15,
   "metadata": {},
   "outputs": [],
   "source": [
    "# from the correlation matrix we notice that RM and LSTAT have most influence on the MEDV as their degree of correlation is 0.69 and -0.73 respectively.\n",
    "# negative degree of correlation emphasize that the value of one variable increases with decrease in other."
   ]
  },
  {
   "cell_type": "markdown",
   "metadata": {
    "id": "QKDN0Gdlj0Cu"
   },
   "source": [
    "### b. Store all the features and targets into X and Y respectively. How many instances and how many features does the dataset have? Split the data into 70% training set and 30% test set."
   ]
  },
  {
   "cell_type": "code",
   "execution_count": 16,
   "metadata": {
    "id": "BTyIM39kj0Cu"
   },
   "outputs": [
    {
     "name": "stdout",
     "output_type": "stream",
     "text": [
      "Instances in dataset :  506\n",
      "Features in dataset :  13\n",
      "354 152\n"
     ]
    }
   ],
   "source": [
    "cols = ['CRIM','ZN','INDUS','CHAS','NOX','AGE','DIS','RAD','TAX','PTRATIO','B','RM','LSTAT']\n",
    "X = boston_data[cols] # ALL the features \n",
    "Y = boston_data['MEDV'] # target \n",
    "# print(X,Y)\n",
    "\n",
    "print(\"Instances in dataset : \",len(boston_data))\n",
    "print(\"Features in dataset : \",len(bdata['feature_names']))\n",
    "# totally the dataset has 13 features but using the heatmap plot we notice that LSTAT has most influence on target (MEDV) hence we use that for regression model \n",
    "# removing redundant features from dataset \n",
    "for col in ['CRIM','ZN','INDUS','CHAS','NOX','AGE','DIS','RAD','TAX','PTRATIO','B','RM']:\n",
    "    del boston_data[col]\n",
    "\n",
    "training_bdata, test_bdata = sklearn.model_selection.train_test_split(boston_data, shuffle='True', test_size=0.3, train_size=0.7)\n",
    "print(len(training_bdata), len(test_bdata))\n",
    "#print(training_bdata)\n",
    "#print(test_bdata)"
   ]
  },
  {
   "cell_type": "markdown",
   "metadata": {
    "id": "cv9f5tpCj0Cv"
   },
   "source": [
    "### c. Train a linear regression model using  selected feature."
   ]
  },
  {
   "cell_type": "code",
   "execution_count": 17,
   "metadata": {
    "id": "a5j6OW_sj0Cv"
   },
   "outputs": [
    {
     "name": "stdout",
     "output_type": "stream",
     "text": [
      "(354, 1)\n",
      "(354,)\n"
     ]
    },
    {
     "data": {
      "text/plain": [
       "LinearRegression(copy_X=True, fit_intercept=True, n_jobs=None, normalize=False)"
      ]
     },
     "execution_count": 17,
     "metadata": {},
     "output_type": "execute_result"
    }
   ],
   "source": [
    "# as mentioned we are using only one feature LSTAT to train the model instead of RM and LSTAT\n",
    "\n",
    "from sklearn.linear_model import LinearRegression\n",
    "\n",
    "x = training_bdata['LSTAT'].values.reshape(-1,1)\n",
    "y = training_bdata['MEDV']\n",
    "print(x.shape)\n",
    "print(y.shape)\n",
    "model = LinearRegression()\n",
    "model.fit(x,y) # using training data to train the model i.e. fitting\n"
   ]
  },
  {
   "cell_type": "markdown",
   "metadata": {
    "id": "6V9WHA5Uj0Cw"
   },
   "source": [
    "### d. Test the model using the test set. Report sklearn.metrics.mean squared error and sklearn.metrics.r2 score between the predicting result and target."
   ]
  },
  {
   "cell_type": "code",
   "execution_count": 18,
   "metadata": {
    "id": "ioFzIHfuj0Cw"
   },
   "outputs": [
    {
     "name": "stdout",
     "output_type": "stream",
     "text": [
      "Mean squared error :  42.74677038016889\n",
      "r2 score :  -0.03249496360299653\n"
     ]
    }
   ],
   "source": [
    "medv_predicted = model.predict(test_bdata['LSTAT'].values.reshape(-1,1))\n",
    "medv_test = test_bdata['MEDV']\n",
    "\n",
    "print(\"Mean squared error : \",sklearn.metrics.mean_squared_error(medv_predicted,medv_test))\n",
    "print(\"r2 score : \",sklearn.metrics.r2_score(medv_predicted,test_bdata['MEDV']))"
   ]
  },
  {
   "cell_type": "code",
   "execution_count": null,
   "metadata": {},
   "outputs": [],
   "source": []
  }
 ],
 "metadata": {
  "colab": {
   "name": "Homework2.ipynb",
   "provenance": []
  },
  "kernelspec": {
   "display_name": "Python 3",
   "language": "python",
   "name": "python3"
  },
  "language_info": {
   "codemirror_mode": {
    "name": "ipython",
    "version": 3
   },
   "file_extension": ".py",
   "mimetype": "text/x-python",
   "name": "python",
   "nbconvert_exporter": "python",
   "pygments_lexer": "ipython3",
   "version": "3.6.4"
  }
 },
 "nbformat": 4,
 "nbformat_minor": 1
}
