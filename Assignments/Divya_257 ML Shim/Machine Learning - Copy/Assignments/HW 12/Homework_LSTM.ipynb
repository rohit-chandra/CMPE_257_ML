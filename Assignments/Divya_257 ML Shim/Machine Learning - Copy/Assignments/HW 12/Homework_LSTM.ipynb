{
  "nbformat": 4,
  "nbformat_minor": 0,
  "metadata": {
    "colab": {
      "name": "Homework_LSTM.ipynb",
      "provenance": [],
      "collapsed_sections": []
    },
    "kernelspec": {
      "name": "python3",
      "display_name": "Python 3"
    },
    "language_info": {
      "name": "python"
    }
  },
  "cells": [
    {
      "cell_type": "markdown",
      "metadata": {
        "id": "SNQukjssyIx5"
      },
      "source": [
        "Train a 2-layer bidirectional LSTM\n",
        "\n",
        "Use the IMDB movie review sentiment data using keras.datasets.imdb"
      ]
    },
    {
      "cell_type": "code",
      "metadata": {
        "id": "duF0bXbWyLMk",
        "colab": {
          "base_uri": "https://localhost:8080/"
        },
        "outputId": "431d37c2-8da0-4ec6-e7d5-d4a26e3ef98e"
      },
      "source": [
        "import numpy as np \n",
        "import pandas as pd\n",
        "from tensorflow import keras \n",
        "\n",
        "(x_train, y_train), (x_test, y_test) = keras.datasets.imdb.load_data(num_words=20000)\n",
        "x_train.shape"
      ],
      "execution_count": 2,
      "outputs": [
        {
          "output_type": "stream",
          "name": "stdout",
          "text": [
            "Downloading data from https://storage.googleapis.com/tensorflow/tf-keras-datasets/imdb.npz\n",
            "17465344/17464789 [==============================] - 0s 0us/step\n",
            "17473536/17464789 [==============================] - 0s 0us/step\n"
          ]
        },
        {
          "output_type": "execute_result",
          "data": {
            "text/plain": [
              "(25000,)"
            ]
          },
          "metadata": {},
          "execution_count": 2
        }
      ]
    },
    {
      "cell_type": "code",
      "metadata": {
        "id": "e4Kd9-WDyLRI",
        "colab": {
          "base_uri": "https://localhost:8080/"
        },
        "outputId": "d3edb584-cdcc-45b8-a738-fbca6b67cc45"
      },
      "source": [
        "from tensorflow.keras import layers\n",
        "\n",
        "inputs = keras.Input(shape=(None,), dtype=\"int32\")\n",
        "\n",
        "x = layers.Embedding(20000,128)(inputs)\n",
        "\n",
        "# Add 2 bidirectional layers \n",
        "x = layers.Bidirectional(layers.LSTM(64, return_sequences=True))(x)\n",
        "x = layers.Bidirectional(layers.LSTM(64))(x)\n",
        "\n",
        "outputs = layers.Dense(1, activation=\"sigmoid\")(x)\n",
        "model = keras.Model(inputs, outputs)\n",
        "model.summary()"
      ],
      "execution_count": 3,
      "outputs": [
        {
          "output_type": "stream",
          "name": "stdout",
          "text": [
            "Model: \"model\"\n",
            "_________________________________________________________________\n",
            " Layer (type)                Output Shape              Param #   \n",
            "=================================================================\n",
            " input_1 (InputLayer)        [(None, None)]            0         \n",
            "                                                                 \n",
            " embedding (Embedding)       (None, None, 128)         2560000   \n",
            "                                                                 \n",
            " bidirectional (Bidirectiona  (None, None, 128)        98816     \n",
            " l)                                                              \n",
            "                                                                 \n",
            " bidirectional_1 (Bidirectio  (None, 128)              98816     \n",
            " nal)                                                            \n",
            "                                                                 \n",
            " dense (Dense)               (None, 1)                 129       \n",
            "                                                                 \n",
            "=================================================================\n",
            "Total params: 2,757,761\n",
            "Trainable params: 2,757,761\n",
            "Non-trainable params: 0\n",
            "_________________________________________________________________\n"
          ]
        }
      ]
    },
    {
      "cell_type": "code",
      "metadata": {
        "id": "C0aFw98iyLVJ",
        "colab": {
          "base_uri": "https://localhost:8080/"
        },
        "outputId": "00470beb-68e4-46e6-ff6e-e2a1e79f053a"
      },
      "source": [
        "x_train = keras.preprocessing.sequence.pad_sequences(x_train)\n",
        "x_test = keras.preprocessing.sequence.pad_sequences(x_test)\n",
        "\n",
        "model.compile(\"adam\", \"binary_crossentropy\", metrics=[\"accuracy\"])\n",
        "model.fit(x_train, y_train, batch_size=32, epochs=2)"
      ],
      "execution_count": 4,
      "outputs": [
        {
          "output_type": "stream",
          "name": "stdout",
          "text": [
            "Epoch 1/2\n",
            "782/782 [==============================] - 5605s 7s/step - loss: 0.3968 - accuracy: 0.8238\n",
            "Epoch 2/2\n",
            "782/782 [==============================] - 5583s 7s/step - loss: 0.2209 - accuracy: 0.9166\n"
          ]
        },
        {
          "output_type": "execute_result",
          "data": {
            "text/plain": [
              "<keras.callbacks.History at 0x7feb207b4550>"
            ]
          },
          "metadata": {},
          "execution_count": 4
        }
      ]
    },
    {
      "cell_type": "code",
      "metadata": {
        "colab": {
          "base_uri": "https://localhost:8080/"
        },
        "id": "OMbCOOESSLiO",
        "outputId": "6360f6f4-a9c6-4ade-867f-015b9df207e4"
      },
      "source": [
        "y_pred = model.predict(x_test)\n",
        "print(y_pred)"
      ],
      "execution_count": 5,
      "outputs": [
        {
          "output_type": "stream",
          "name": "stdout",
          "text": [
            "[[0.28768998]\n",
            " [0.9897307 ]\n",
            " [0.96105134]\n",
            " ...\n",
            " [0.11855209]\n",
            " [0.46957976]\n",
            " [0.8870006 ]]\n"
          ]
        }
      ]
    },
    {
      "cell_type": "code",
      "metadata": {
        "colab": {
          "base_uri": "https://localhost:8080/"
        },
        "id": "T8GTCAamqhaL",
        "outputId": "2072cf0a-a08b-45df-c382-e20c4f833325"
      },
      "source": [
        "from sklearn import metrics\n",
        "\n",
        "y_pred = (y_pred> 0.5).astype(\"int32\")\n",
        "\n",
        "print(\"Accuracy of the model is : \", metrics.accuracy_score(y_pred,y_test))"
      ],
      "execution_count": 6,
      "outputs": [
        {
          "output_type": "stream",
          "name": "stdout",
          "text": [
            "Accuracy of the model is :  0.84448\n"
          ]
        }
      ]
    },
    {
      "cell_type": "code",
      "metadata": {
        "id": "V_YA_aQJrJtH"
      },
      "source": [
        ""
      ],
      "execution_count": 6,
      "outputs": []
    }
  ]
}