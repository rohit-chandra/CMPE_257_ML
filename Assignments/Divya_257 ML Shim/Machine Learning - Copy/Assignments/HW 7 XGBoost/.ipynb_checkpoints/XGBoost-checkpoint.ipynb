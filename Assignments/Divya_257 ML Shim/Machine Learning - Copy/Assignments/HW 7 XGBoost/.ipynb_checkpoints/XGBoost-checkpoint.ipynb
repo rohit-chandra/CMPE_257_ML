{
 "cells": [
  {
   "cell_type": "markdown",
   "metadata": {
    "id": "vAIYjjuMd_KM"
   },
   "source": [
    "### Please follow the instructions given in the class"
   ]
  },
  {
   "cell_type": "markdown",
   "metadata": {
    "id": "5I9eGsDLeDkz"
   },
   "source": [
    "XGBoost"
   ]
  },
  {
   "cell_type": "code",
   "execution_count": null,
   "metadata": {
    "id": "fz4MR-mAeFhw"
   },
   "outputs": [],
   "source": [
    "#Import XGBoost, Pandas, and sklearn for the function that we will use to calculate the accuracy. \n",
    "#The accuracy is required to understand how our model is performing.\n"
   ]
  },
  {
   "cell_type": "code",
   "execution_count": null,
   "metadata": {
    "id": "avgD9WNheIDk"
   },
   "outputs": [],
   "source": [
    "#Import the wholesale customer dataset - 1 point"
   ]
  },
  {
   "cell_type": "code",
   "execution_count": null,
   "metadata": {
    "id": "7UW6TgjjeQhP"
   },
   "outputs": [],
   "source": [
    "#Create training and test sets - 80:20 - 1 point"
   ]
  },
  {
   "cell_type": "code",
   "execution_count": null,
   "metadata": {
    "id": "gDfMIZc7fGL_"
   },
   "outputs": [],
   "source": [
    "#Convert the pandas dataframe into a DMatrix, an internal data structure that is used by XGBoost to store training and testing datasets.\n",
    "# - 2 points"
   ]
  },
  {
   "cell_type": "code",
   "execution_count": null,
   "metadata": {
    "id": "GvJv3uAEfLP2"
   },
   "outputs": [],
   "source": [
    "#Specify the training parameters and train the model. - 4 points"
   ]
  },
  {
   "cell_type": "code",
   "execution_count": null,
   "metadata": {
    "id": "shj4kSw8fP-n"
   },
   "outputs": [],
   "source": [
    "#Predict the \"Channel\" values of the test set using the model that we just created. - 1 point"
   ]
  },
  {
   "cell_type": "code",
   "execution_count": null,
   "metadata": {
    "id": "BL0_-K71fShz"
   },
   "outputs": [],
   "source": [
    "#Get the accuracy of the model that we have trained for the test dataset. - 1 point"
   ]
  }
 ],
 "metadata": {
  "colab": {
   "authorship_tag": "ABX9TyOqL4BHwoUesuYpNcxAfEJd",
   "collapsed_sections": [],
   "name": "XGBoost.ipynb",
   "provenance": []
  },
  "kernelspec": {
   "display_name": "Python 3",
   "language": "python",
   "name": "python3"
  },
  "language_info": {
   "codemirror_mode": {
    "name": "ipython",
    "version": 3
   },
   "file_extension": ".py",
   "mimetype": "text/x-python",
   "name": "python",
   "nbconvert_exporter": "python",
   "pygments_lexer": "ipython3",
   "version": "3.6.4"
  }
 },
 "nbformat": 4,
 "nbformat_minor": 1
}
