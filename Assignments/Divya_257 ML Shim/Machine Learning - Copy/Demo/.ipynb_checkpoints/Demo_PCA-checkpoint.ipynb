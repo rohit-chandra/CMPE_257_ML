{
 "cells": [
  {
   "cell_type": "markdown",
   "metadata": {
    "id": "G5nwnN8Hq33G"
   },
   "source": [
    "<h1 align=\"center\"> Principle Component Analysis </h1>"
   ]
  },
  {
   "cell_type": "code",
   "execution_count": null,
   "metadata": {
    "collapsed": true,
    "id": "QkhD9pF2q33Q"
   },
   "outputs": [],
   "source": [
    "import pandas as pd \n",
    "import numpy as np\n",
    "import matplotlib.pyplot as plt\n",
    "from sklearn.decomposition import PCA\n",
    "from sklearn.preprocessing import StandardScaler\n",
    "%matplotlib inline"
   ]
  },
  {
   "cell_type": "markdown",
   "metadata": {
    "id": "MPgNRCBFq33S"
   },
   "source": [
    "## Load Iris Dataset"
   ]
  },
  {
   "cell_type": "code",
   "execution_count": null,
   "metadata": {
    "collapsed": true,
    "id": "agibQMpPq33T"
   },
   "outputs": [],
   "source": [
    "url = \"https://archive.ics.uci.edu/ml/machine-learning-databases/iris/iris.data\""
   ]
  },
  {
   "cell_type": "code",
   "execution_count": null,
   "metadata": {
    "collapsed": true,
    "id": "aCA-Qa3Jq33V"
   },
   "outputs": [],
   "source": [
    "# loading dataset into Pandas DataFrame\n",
    "df = pd.read_csv(url\n",
    "                 , names=['sepal length','sepal width','petal length','petal width','target'])"
   ]
  },
  {
   "cell_type": "code",
   "execution_count": null,
   "metadata": {
    "colab": {
     "base_uri": "https://localhost:8080/",
     "height": 204
    },
    "id": "71dno0x2q33W",
    "outputId": "46eeda9d-66a5-46a7-f0cf-415f918bb4aa"
   },
   "outputs": [
    {
     "data": {
      "text/html": [
       "<div>\n",
       "<style scoped>\n",
       "    .dataframe tbody tr th:only-of-type {\n",
       "        vertical-align: middle;\n",
       "    }\n",
       "\n",
       "    .dataframe tbody tr th {\n",
       "        vertical-align: top;\n",
       "    }\n",
       "\n",
       "    .dataframe thead th {\n",
       "        text-align: right;\n",
       "    }\n",
       "</style>\n",
       "<table border=\"1\" class=\"dataframe\">\n",
       "  <thead>\n",
       "    <tr style=\"text-align: right;\">\n",
       "      <th></th>\n",
       "      <th>sepal length</th>\n",
       "      <th>sepal width</th>\n",
       "      <th>petal length</th>\n",
       "      <th>petal width</th>\n",
       "      <th>target</th>\n",
       "    </tr>\n",
       "  </thead>\n",
       "  <tbody>\n",
       "    <tr>\n",
       "      <th>0</th>\n",
       "      <td>5.1</td>\n",
       "      <td>3.5</td>\n",
       "      <td>1.4</td>\n",
       "      <td>0.2</td>\n",
       "      <td>Iris-setosa</td>\n",
       "    </tr>\n",
       "    <tr>\n",
       "      <th>1</th>\n",
       "      <td>4.9</td>\n",
       "      <td>3.0</td>\n",
       "      <td>1.4</td>\n",
       "      <td>0.2</td>\n",
       "      <td>Iris-setosa</td>\n",
       "    </tr>\n",
       "    <tr>\n",
       "      <th>2</th>\n",
       "      <td>4.7</td>\n",
       "      <td>3.2</td>\n",
       "      <td>1.3</td>\n",
       "      <td>0.2</td>\n",
       "      <td>Iris-setosa</td>\n",
       "    </tr>\n",
       "    <tr>\n",
       "      <th>3</th>\n",
       "      <td>4.6</td>\n",
       "      <td>3.1</td>\n",
       "      <td>1.5</td>\n",
       "      <td>0.2</td>\n",
       "      <td>Iris-setosa</td>\n",
       "    </tr>\n",
       "    <tr>\n",
       "      <th>4</th>\n",
       "      <td>5.0</td>\n",
       "      <td>3.6</td>\n",
       "      <td>1.4</td>\n",
       "      <td>0.2</td>\n",
       "      <td>Iris-setosa</td>\n",
       "    </tr>\n",
       "  </tbody>\n",
       "</table>\n",
       "</div>"
      ],
      "text/plain": [
       "   sepal length  sepal width  petal length  petal width       target\n",
       "0           5.1          3.5           1.4          0.2  Iris-setosa\n",
       "1           4.9          3.0           1.4          0.2  Iris-setosa\n",
       "2           4.7          3.2           1.3          0.2  Iris-setosa\n",
       "3           4.6          3.1           1.5          0.2  Iris-setosa\n",
       "4           5.0          3.6           1.4          0.2  Iris-setosa"
      ]
     },
     "execution_count": 5,
     "metadata": {
      "tags": []
     },
     "output_type": "execute_result"
    }
   ],
   "source": [
    "df.head()"
   ]
  },
  {
   "cell_type": "markdown",
   "metadata": {
    "id": "vOt2RA6Uq33Y"
   },
   "source": [
    "## Standardize the Data"
   ]
  },
  {
   "cell_type": "markdown",
   "metadata": {
    "id": "nFjoEhCaq33Y"
   },
   "source": [
    "Since PCA yields a feature subspace that maximizes the variance along the axes, it makes sense to standardize the data, especially, if it was measured on different scales. Although, all features in the Iris dataset were measured in centimeters, let us continue with the transformation of the data onto unit scale (mean=0 and variance=1), which is a requirement for the optimal performance of many machine learning algorithms."
   ]
  },
  {
   "cell_type": "code",
   "execution_count": null,
   "metadata": {
    "collapsed": true,
    "id": "U1etFpt_q33Z"
   },
   "outputs": [],
   "source": [
    "features = ['sepal length', 'sepal width', 'petal length', 'petal width']\n",
    "x = df.loc[:, features].values"
   ]
  },
  {
   "cell_type": "code",
   "execution_count": null,
   "metadata": {
    "collapsed": true,
    "id": "6cV6x4tKq33a"
   },
   "outputs": [],
   "source": [
    "y = df.loc[:,['target']].values"
   ]
  },
  {
   "cell_type": "code",
   "execution_count": null,
   "metadata": {
    "collapsed": true,
    "id": "i8YIAwdIq33a"
   },
   "outputs": [],
   "source": [
    "x = StandardScaler().fit_transform(x)"
   ]
  },
  {
   "cell_type": "code",
   "execution_count": null,
   "metadata": {
    "colab": {
     "base_uri": "https://localhost:8080/",
     "height": 204
    },
    "id": "7OtFNHgYq33a",
    "outputId": "d588cd7f-0a77-4c67-8dff-76ddcdef1bbd"
   },
   "outputs": [
    {
     "data": {
      "text/html": [
       "<div>\n",
       "<style scoped>\n",
       "    .dataframe tbody tr th:only-of-type {\n",
       "        vertical-align: middle;\n",
       "    }\n",
       "\n",
       "    .dataframe tbody tr th {\n",
       "        vertical-align: top;\n",
       "    }\n",
       "\n",
       "    .dataframe thead th {\n",
       "        text-align: right;\n",
       "    }\n",
       "</style>\n",
       "<table border=\"1\" class=\"dataframe\">\n",
       "  <thead>\n",
       "    <tr style=\"text-align: right;\">\n",
       "      <th></th>\n",
       "      <th>sepal length</th>\n",
       "      <th>sepal width</th>\n",
       "      <th>petal length</th>\n",
       "      <th>petal width</th>\n",
       "    </tr>\n",
       "  </thead>\n",
       "  <tbody>\n",
       "    <tr>\n",
       "      <th>0</th>\n",
       "      <td>-0.900681</td>\n",
       "      <td>1.032057</td>\n",
       "      <td>-1.341272</td>\n",
       "      <td>-1.312977</td>\n",
       "    </tr>\n",
       "    <tr>\n",
       "      <th>1</th>\n",
       "      <td>-1.143017</td>\n",
       "      <td>-0.124958</td>\n",
       "      <td>-1.341272</td>\n",
       "      <td>-1.312977</td>\n",
       "    </tr>\n",
       "    <tr>\n",
       "      <th>2</th>\n",
       "      <td>-1.385353</td>\n",
       "      <td>0.337848</td>\n",
       "      <td>-1.398138</td>\n",
       "      <td>-1.312977</td>\n",
       "    </tr>\n",
       "    <tr>\n",
       "      <th>3</th>\n",
       "      <td>-1.506521</td>\n",
       "      <td>0.106445</td>\n",
       "      <td>-1.284407</td>\n",
       "      <td>-1.312977</td>\n",
       "    </tr>\n",
       "    <tr>\n",
       "      <th>4</th>\n",
       "      <td>-1.021849</td>\n",
       "      <td>1.263460</td>\n",
       "      <td>-1.341272</td>\n",
       "      <td>-1.312977</td>\n",
       "    </tr>\n",
       "  </tbody>\n",
       "</table>\n",
       "</div>"
      ],
      "text/plain": [
       "   sepal length  sepal width  petal length  petal width\n",
       "0     -0.900681     1.032057     -1.341272    -1.312977\n",
       "1     -1.143017    -0.124958     -1.341272    -1.312977\n",
       "2     -1.385353     0.337848     -1.398138    -1.312977\n",
       "3     -1.506521     0.106445     -1.284407    -1.312977\n",
       "4     -1.021849     1.263460     -1.341272    -1.312977"
      ]
     },
     "execution_count": 9,
     "metadata": {
      "tags": []
     },
     "output_type": "execute_result"
    }
   ],
   "source": [
    "pd.DataFrame(data = x, columns = features).head()"
   ]
  },
  {
   "cell_type": "markdown",
   "metadata": {
    "id": "2QG-KtSnq33b"
   },
   "source": [
    "## PCA Projection to 2D"
   ]
  },
  {
   "cell_type": "code",
   "execution_count": null,
   "metadata": {
    "collapsed": true,
    "id": "z87QuxQ0q33b"
   },
   "outputs": [],
   "source": [
    "pca = PCA(n_components=2)"
   ]
  },
  {
   "cell_type": "code",
   "execution_count": null,
   "metadata": {
    "collapsed": true,
    "id": "Auc2mntKq33b"
   },
   "outputs": [],
   "source": [
    "principalComponents = pca.fit_transform(x)"
   ]
  },
  {
   "cell_type": "code",
   "execution_count": null,
   "metadata": {
    "collapsed": true,
    "id": "yC32cd3Iq33c"
   },
   "outputs": [],
   "source": [
    "principalDf = pd.DataFrame(data = principalComponents\n",
    "             , columns = ['principal component 1', 'principal component 2'])"
   ]
  },
  {
   "cell_type": "code",
   "execution_count": null,
   "metadata": {
    "colab": {
     "base_uri": "https://localhost:8080/",
     "height": 204
    },
    "id": "UChrBD_9q33c",
    "outputId": "435c64fa-8584-4ebc-93a9-77463e149c12"
   },
   "outputs": [
    {
     "data": {
      "text/html": [
       "<div>\n",
       "<style scoped>\n",
       "    .dataframe tbody tr th:only-of-type {\n",
       "        vertical-align: middle;\n",
       "    }\n",
       "\n",
       "    .dataframe tbody tr th {\n",
       "        vertical-align: top;\n",
       "    }\n",
       "\n",
       "    .dataframe thead th {\n",
       "        text-align: right;\n",
       "    }\n",
       "</style>\n",
       "<table border=\"1\" class=\"dataframe\">\n",
       "  <thead>\n",
       "    <tr style=\"text-align: right;\">\n",
       "      <th></th>\n",
       "      <th>principal component 1</th>\n",
       "      <th>principal component 2</th>\n",
       "    </tr>\n",
       "  </thead>\n",
       "  <tbody>\n",
       "    <tr>\n",
       "      <th>0</th>\n",
       "      <td>-2.264542</td>\n",
       "      <td>0.505704</td>\n",
       "    </tr>\n",
       "    <tr>\n",
       "      <th>1</th>\n",
       "      <td>-2.086426</td>\n",
       "      <td>-0.655405</td>\n",
       "    </tr>\n",
       "    <tr>\n",
       "      <th>2</th>\n",
       "      <td>-2.367950</td>\n",
       "      <td>-0.318477</td>\n",
       "    </tr>\n",
       "    <tr>\n",
       "      <th>3</th>\n",
       "      <td>-2.304197</td>\n",
       "      <td>-0.575368</td>\n",
       "    </tr>\n",
       "    <tr>\n",
       "      <th>4</th>\n",
       "      <td>-2.388777</td>\n",
       "      <td>0.674767</td>\n",
       "    </tr>\n",
       "  </tbody>\n",
       "</table>\n",
       "</div>"
      ],
      "text/plain": [
       "   principal component 1  principal component 2\n",
       "0              -2.264542               0.505704\n",
       "1              -2.086426              -0.655405\n",
       "2              -2.367950              -0.318477\n",
       "3              -2.304197              -0.575368\n",
       "4              -2.388777               0.674767"
      ]
     },
     "execution_count": 13,
     "metadata": {
      "tags": []
     },
     "output_type": "execute_result"
    }
   ],
   "source": [
    "principalDf.head(5)"
   ]
  },
  {
   "cell_type": "code",
   "execution_count": null,
   "metadata": {
    "colab": {
     "base_uri": "https://localhost:8080/",
     "height": 204
    },
    "id": "DLRqLmEZq33c",
    "outputId": "ec200edc-5a47-44cb-8e87-bfae19425d11"
   },
   "outputs": [
    {
     "data": {
      "text/html": [
       "<div>\n",
       "<style scoped>\n",
       "    .dataframe tbody tr th:only-of-type {\n",
       "        vertical-align: middle;\n",
       "    }\n",
       "\n",
       "    .dataframe tbody tr th {\n",
       "        vertical-align: top;\n",
       "    }\n",
       "\n",
       "    .dataframe thead th {\n",
       "        text-align: right;\n",
       "    }\n",
       "</style>\n",
       "<table border=\"1\" class=\"dataframe\">\n",
       "  <thead>\n",
       "    <tr style=\"text-align: right;\">\n",
       "      <th></th>\n",
       "      <th>target</th>\n",
       "    </tr>\n",
       "  </thead>\n",
       "  <tbody>\n",
       "    <tr>\n",
       "      <th>0</th>\n",
       "      <td>Iris-setosa</td>\n",
       "    </tr>\n",
       "    <tr>\n",
       "      <th>1</th>\n",
       "      <td>Iris-setosa</td>\n",
       "    </tr>\n",
       "    <tr>\n",
       "      <th>2</th>\n",
       "      <td>Iris-setosa</td>\n",
       "    </tr>\n",
       "    <tr>\n",
       "      <th>3</th>\n",
       "      <td>Iris-setosa</td>\n",
       "    </tr>\n",
       "    <tr>\n",
       "      <th>4</th>\n",
       "      <td>Iris-setosa</td>\n",
       "    </tr>\n",
       "  </tbody>\n",
       "</table>\n",
       "</div>"
      ],
      "text/plain": [
       "        target\n",
       "0  Iris-setosa\n",
       "1  Iris-setosa\n",
       "2  Iris-setosa\n",
       "3  Iris-setosa\n",
       "4  Iris-setosa"
      ]
     },
     "execution_count": 14,
     "metadata": {
      "tags": []
     },
     "output_type": "execute_result"
    }
   ],
   "source": [
    "df[['target']].head()"
   ]
  },
  {
   "cell_type": "code",
   "execution_count": null,
   "metadata": {
    "colab": {
     "base_uri": "https://localhost:8080/",
     "height": 204
    },
    "id": "RDK32Fckq33d",
    "outputId": "49fb3f60-357b-4753-dbc7-603bd3bcbfd5"
   },
   "outputs": [
    {
     "data": {
      "text/html": [
       "<div>\n",
       "<style scoped>\n",
       "    .dataframe tbody tr th:only-of-type {\n",
       "        vertical-align: middle;\n",
       "    }\n",
       "\n",
       "    .dataframe tbody tr th {\n",
       "        vertical-align: top;\n",
       "    }\n",
       "\n",
       "    .dataframe thead th {\n",
       "        text-align: right;\n",
       "    }\n",
       "</style>\n",
       "<table border=\"1\" class=\"dataframe\">\n",
       "  <thead>\n",
       "    <tr style=\"text-align: right;\">\n",
       "      <th></th>\n",
       "      <th>principal component 1</th>\n",
       "      <th>principal component 2</th>\n",
       "      <th>target</th>\n",
       "    </tr>\n",
       "  </thead>\n",
       "  <tbody>\n",
       "    <tr>\n",
       "      <th>0</th>\n",
       "      <td>-2.264542</td>\n",
       "      <td>0.505704</td>\n",
       "      <td>Iris-setosa</td>\n",
       "    </tr>\n",
       "    <tr>\n",
       "      <th>1</th>\n",
       "      <td>-2.086426</td>\n",
       "      <td>-0.655405</td>\n",
       "      <td>Iris-setosa</td>\n",
       "    </tr>\n",
       "    <tr>\n",
       "      <th>2</th>\n",
       "      <td>-2.367950</td>\n",
       "      <td>-0.318477</td>\n",
       "      <td>Iris-setosa</td>\n",
       "    </tr>\n",
       "    <tr>\n",
       "      <th>3</th>\n",
       "      <td>-2.304197</td>\n",
       "      <td>-0.575368</td>\n",
       "      <td>Iris-setosa</td>\n",
       "    </tr>\n",
       "    <tr>\n",
       "      <th>4</th>\n",
       "      <td>-2.388777</td>\n",
       "      <td>0.674767</td>\n",
       "      <td>Iris-setosa</td>\n",
       "    </tr>\n",
       "  </tbody>\n",
       "</table>\n",
       "</div>"
      ],
      "text/plain": [
       "   principal component 1  principal component 2       target\n",
       "0              -2.264542               0.505704  Iris-setosa\n",
       "1              -2.086426              -0.655405  Iris-setosa\n",
       "2              -2.367950              -0.318477  Iris-setosa\n",
       "3              -2.304197              -0.575368  Iris-setosa\n",
       "4              -2.388777               0.674767  Iris-setosa"
      ]
     },
     "execution_count": 15,
     "metadata": {
      "tags": []
     },
     "output_type": "execute_result"
    }
   ],
   "source": [
    "finalDf = pd.concat([principalDf, df[['target']]], axis = 1)\n",
    "finalDf.head(5)"
   ]
  },
  {
   "cell_type": "markdown",
   "metadata": {
    "id": "4uB9w5J4q33d"
   },
   "source": [
    "## Visualize 2D Projection"
   ]
  },
  {
   "cell_type": "markdown",
   "metadata": {
    "id": "UxiRv3NDq33d"
   },
   "source": [
    "Use a PCA projection to 2d to visualize the entire data set. You should plot different classes using different colors or shapes. Do the classes seem well-separated from each other? "
   ]
  },
  {
   "cell_type": "code",
   "execution_count": null,
   "metadata": {
    "colab": {
     "base_uri": "https://localhost:8080/",
     "height": 523
    },
    "id": "yzDUyz29q33d",
    "outputId": "6df5ae45-a60a-497f-9dac-4f21b2b07f5a"
   },
   "outputs": [
    {
     "data": {
      "image/png": "[encoded data removed]",
      "text/plain": [
       "<Figure size 576x576 with 1 Axes>"
      ]
     },
     "metadata": {
      "needs_background": "light",
      "tags": []
     },
     "output_type": "display_data"
    }
   ],
   "source": [
    "fig = plt.figure(figsize = (8,8))\n",
    "ax = fig.add_subplot(1,1,1) \n",
    "ax.set_xlabel('Principal Component 1', fontsize = 15)\n",
    "ax.set_ylabel('Principal Component 2', fontsize = 15)\n",
    "ax.set_title('2 Component PCA', fontsize = 20)\n",
    "\n",
    "\n",
    "targets = ['Iris-setosa', 'Iris-versicolor', 'Iris-virginica']\n",
    "colors = ['r', 'g', 'b']\n",
    "for target, color in zip(targets,colors):\n",
    "    indicesToKeep = finalDf['target'] == target\n",
    "    ax.scatter(finalDf.loc[indicesToKeep, 'principal component 1']\n",
    "               , finalDf.loc[indicesToKeep, 'principal component 2']\n",
    "               , c = color\n",
    "               , s = 50)\n",
    "ax.legend(targets)\n",
    "ax.grid()"
   ]
  },
  {
   "cell_type": "markdown",
   "metadata": {
    "id": "ckBoQ1OHq33e"
   },
   "source": [
    "The three classes appear to be well separated! \n",
    "\n",
    "iris-virginica and iris-versicolor could be better separated, but still good!"
   ]
  },
  {
   "cell_type": "markdown",
   "metadata": {
    "id": "rHDK2xAVq33e"
   },
   "source": [
    "## Explained Variance"
   ]
  },
  {
   "cell_type": "markdown",
   "metadata": {
    "id": "pcReuCGEq33f"
   },
   "source": [
    "The explained variance tells us how much information (variance) can be attributed to each of the principal components."
   ]
  },
  {
   "cell_type": "code",
   "execution_count": null,
   "metadata": {
    "colab": {
     "base_uri": "https://localhost:8080/"
    },
    "id": "p7JiaIsoq33f",
    "outputId": "4df4840e-16e5-40f2-bdd9-dcb040f70551"
   },
   "outputs": [
    {
     "data": {
      "text/plain": [
       "array([0.72770452, 0.23030523])"
      ]
     },
     "execution_count": 17,
     "metadata": {
      "tags": []
     },
     "output_type": "execute_result"
    }
   ],
   "source": [
    "pca.explained_variance_ratio_"
   ]
  },
  {
   "cell_type": "markdown",
   "metadata": {
    "id": "aqf4txRUq33g"
   },
   "source": [
    "Together, the first two principal components contain 95.80% of the information. The first principal component contains 72.77% of the variance and the second principal component contains 23.03% of the variance. The third and fourth principal component contained the rest of the variance of the dataset. "
   ]
  },
  {
   "cell_type": "markdown",
   "metadata": {
    "id": "gjqDNyOryrQR"
   },
   "source": [
    "About PCA, variance, Eigenvectors\n",
    "\n",
    "https://stats.stackexchange.com/questions/110508/questions-on-pca-when-are-pcs-independent-why-is-pca-sensitive-to-scaling-why/110546#110546\n",
    "\n",
    "https://stats.stackexchange.com/questions/2691/making-sense-of-principal-component-analysis-eigenvectors-eigenvalues/140579#140579\n"
   ]
  },
  {
   "cell_type": "code",
   "execution_count": null,
   "metadata": {
    "colab": {
     "base_uri": "https://localhost:8080/"
    },
    "id": "stGltyqr2CFh",
    "outputId": "6a1855e4-5025-4ca9-b44c-ad11321c63f1"
   },
   "outputs": [
    {
     "name": "stdout",
     "output_type": "stream",
     "text": [
      "Drive already mounted at /content/drive; to attempt to forcibly remount, call drive.mount(\"/content/drive\", force_remount=True).\n"
     ]
    }
   ],
   "source": [
    "from google.colab import drive\n",
    "from sklearn.model_selection import train_test_split\n",
    "drive.mount('/content/drive')"
   ]
  },
  {
   "cell_type": "code",
   "execution_count": null,
   "metadata": {
    "colab": {
     "base_uri": "https://localhost:8080/",
     "height": 258
    },
    "id": "tvM8uX2ir9n4",
    "outputId": "0766bcdd-954e-41b6-d9ae-62310052f114"
   },
   "outputs": [
    {
     "name": "stderr",
     "output_type": "stream",
     "text": [
      "/usr/local/lib/python3.7/dist-packages/ipykernel_launcher.py:1: ParserWarning: Falling back to the 'python' engine because the 'c' engine does not support regex separators (separators > 1 char and different from '\\s+' are interpreted as regex); you can avoid this warning by specifying engine='python'.\n",
      "  \"\"\"Entry point for launching an IPython kernel.\n"
     ]
    },
    {
     "data": {
      "text/html": [
       "<div>\n",
       "<style scoped>\n",
       "    .dataframe tbody tr th:only-of-type {\n",
       "        vertical-align: middle;\n",
       "    }\n",
       "\n",
       "    .dataframe tbody tr th {\n",
       "        vertical-align: top;\n",
       "    }\n",
       "\n",
       "    .dataframe thead th {\n",
       "        text-align: right;\n",
       "    }\n",
       "</style>\n",
       "<table border=\"1\" class=\"dataframe\">\n",
       "  <thead>\n",
       "    <tr style=\"text-align: right;\">\n",
       "      <th></th>\n",
       "      <th>0</th>\n",
       "      <th>1</th>\n",
       "      <th>2</th>\n",
       "      <th>3</th>\n",
       "      <th>4</th>\n",
       "      <th>5</th>\n",
       "      <th>6</th>\n",
       "      <th>7</th>\n",
       "      <th>8</th>\n",
       "      <th>9</th>\n",
       "      <th>10</th>\n",
       "      <th>11</th>\n",
       "      <th>12</th>\n",
       "      <th>13</th>\n",
       "      <th>14</th>\n",
       "      <th>15</th>\n",
       "      <th>16</th>\n",
       "      <th>17</th>\n",
       "      <th>18</th>\n",
       "      <th>19</th>\n",
       "      <th>20</th>\n",
       "      <th>21</th>\n",
       "      <th>22</th>\n",
       "      <th>23</th>\n",
       "      <th>24</th>\n",
       "      <th>25</th>\n",
       "      <th>26</th>\n",
       "      <th>27</th>\n",
       "      <th>28</th>\n",
       "      <th>29</th>\n",
       "      <th>30</th>\n",
       "      <th>31</th>\n",
       "    </tr>\n",
       "  </thead>\n",
       "  <tbody>\n",
       "    <tr>\n",
       "      <th>0</th>\n",
       "      <td>84</td>\n",
       "      <td>152</td>\n",
       "      <td>100</td>\n",
       "      <td>52</td>\n",
       "      <td>95</td>\n",
       "      <td>186</td>\n",
       "      <td>169</td>\n",
       "      <td>106</td>\n",
       "      <td>37</td>\n",
       "      <td>186</td>\n",
       "      <td>140</td>\n",
       "      <td>202</td>\n",
       "      <td>99</td>\n",
       "      <td>105</td>\n",
       "      <td>88</td>\n",
       "      <td>114</td>\n",
       "      <td>55</td>\n",
       "      <td>186</td>\n",
       "      <td>78</td>\n",
       "      <td>152</td>\n",
       "      <td>155</td>\n",
       "      <td>69</td>\n",
       "      <td>190</td>\n",
       "      <td>65</td>\n",
       "      <td>214</td>\n",
       "      <td>116</td>\n",
       "      <td>75</td>\n",
       "      <td>55</td>\n",
       "      <td>123</td>\n",
       "      <td>65</td>\n",
       "      <td>154</td>\n",
       "      <td>177</td>\n",
       "    </tr>\n",
       "    <tr>\n",
       "      <th>1</th>\n",
       "      <td>86</td>\n",
       "      <td>149</td>\n",
       "      <td>101</td>\n",
       "      <td>56</td>\n",
       "      <td>93</td>\n",
       "      <td>181</td>\n",
       "      <td>171</td>\n",
       "      <td>116</td>\n",
       "      <td>37</td>\n",
       "      <td>192</td>\n",
       "      <td>141</td>\n",
       "      <td>195</td>\n",
       "      <td>100</td>\n",
       "      <td>106</td>\n",
       "      <td>85</td>\n",
       "      <td>113</td>\n",
       "      <td>50</td>\n",
       "      <td>188</td>\n",
       "      <td>83</td>\n",
       "      <td>145</td>\n",
       "      <td>154</td>\n",
       "      <td>75</td>\n",
       "      <td>191</td>\n",
       "      <td>79</td>\n",
       "      <td>215</td>\n",
       "      <td>116</td>\n",
       "      <td>76</td>\n",
       "      <td>60</td>\n",
       "      <td>130</td>\n",
       "      <td>71</td>\n",
       "      <td>151</td>\n",
       "      <td>181</td>\n",
       "    </tr>\n",
       "    <tr>\n",
       "      <th>2</th>\n",
       "      <td>83</td>\n",
       "      <td>149</td>\n",
       "      <td>99</td>\n",
       "      <td>51</td>\n",
       "      <td>96</td>\n",
       "      <td>187</td>\n",
       "      <td>169</td>\n",
       "      <td>108</td>\n",
       "      <td>34</td>\n",
       "      <td>191</td>\n",
       "      <td>142</td>\n",
       "      <td>198</td>\n",
       "      <td>102</td>\n",
       "      <td>102</td>\n",
       "      <td>91</td>\n",
       "      <td>114</td>\n",
       "      <td>55</td>\n",
       "      <td>184</td>\n",
       "      <td>81</td>\n",
       "      <td>149</td>\n",
       "      <td>153</td>\n",
       "      <td>68</td>\n",
       "      <td>190</td>\n",
       "      <td>65</td>\n",
       "      <td>213</td>\n",
       "      <td>118</td>\n",
       "      <td>73</td>\n",
       "      <td>55</td>\n",
       "      <td>125</td>\n",
       "      <td>63</td>\n",
       "      <td>155</td>\n",
       "      <td>178</td>\n",
       "    </tr>\n",
       "    <tr>\n",
       "      <th>3</th>\n",
       "      <td>86</td>\n",
       "      <td>142</td>\n",
       "      <td>101</td>\n",
       "      <td>64</td>\n",
       "      <td>105</td>\n",
       "      <td>183</td>\n",
       "      <td>172</td>\n",
       "      <td>116</td>\n",
       "      <td>49</td>\n",
       "      <td>180</td>\n",
       "      <td>147</td>\n",
       "      <td>196</td>\n",
       "      <td>90</td>\n",
       "      <td>91</td>\n",
       "      <td>90</td>\n",
       "      <td>122</td>\n",
       "      <td>64</td>\n",
       "      <td>176</td>\n",
       "      <td>75</td>\n",
       "      <td>153</td>\n",
       "      <td>153</td>\n",
       "      <td>72</td>\n",
       "      <td>186</td>\n",
       "      <td>69</td>\n",
       "      <td>209</td>\n",
       "      <td>120</td>\n",
       "      <td>68</td>\n",
       "      <td>56</td>\n",
       "      <td>123</td>\n",
       "      <td>67</td>\n",
       "      <td>144</td>\n",
       "      <td>181</td>\n",
       "    </tr>\n",
       "    <tr>\n",
       "      <th>4</th>\n",
       "      <td>89</td>\n",
       "      <td>145</td>\n",
       "      <td>108</td>\n",
       "      <td>54</td>\n",
       "      <td>91</td>\n",
       "      <td>180</td>\n",
       "      <td>175</td>\n",
       "      <td>107</td>\n",
       "      <td>35</td>\n",
       "      <td>192</td>\n",
       "      <td>142</td>\n",
       "      <td>207</td>\n",
       "      <td>99</td>\n",
       "      <td>100</td>\n",
       "      <td>95</td>\n",
       "      <td>110</td>\n",
       "      <td>47</td>\n",
       "      <td>183</td>\n",
       "      <td>80</td>\n",
       "      <td>149</td>\n",
       "      <td>155</td>\n",
       "      <td>75</td>\n",
       "      <td>188</td>\n",
       "      <td>67</td>\n",
       "      <td>212</td>\n",
       "      <td>118</td>\n",
       "      <td>91</td>\n",
       "      <td>50</td>\n",
       "      <td>135</td>\n",
       "      <td>58</td>\n",
       "      <td>147</td>\n",
       "      <td>165</td>\n",
       "    </tr>\n",
       "  </tbody>\n",
       "</table>\n",
       "</div>"
      ],
      "text/plain": [
       "   0    1    2   3    4    5    6    7   ...   24   25  26  27   28  29   30   31\n",
       "0  84  152  100  52   95  186  169  106  ...  214  116  75  55  123  65  154  177\n",
       "1  86  149  101  56   93  181  171  116  ...  215  116  76  60  130  71  151  181\n",
       "2  83  149   99  51   96  187  169  108  ...  213  118  73  55  125  63  155  178\n",
       "3  86  142  101  64  105  183  172  116  ...  209  120  68  56  123  67  144  181\n",
       "4  89  145  108  54   91  180  175  107  ...  212  118  91  50  135  58  147  165\n",
       "\n",
       "[5 rows x 32 columns]"
      ]
     },
     "execution_count": 23,
     "metadata": {
      "tags": []
     },
     "output_type": "execute_result"
    }
   ],
   "source": [
    "data = pd.read_csv(\"/content/drive/MyDrive/Homework/dim32.txt\", header=None, sep='   ')\n",
    "data.head()"
   ]
  },
  {
   "cell_type": "code",
   "execution_count": null,
   "metadata": {
    "id": "S2VbVAdmnkWL"
   },
   "outputs": [],
   "source": [
    "data = StandardScaler().fit_transform(data)"
   ]
  },
  {
   "cell_type": "code",
   "execution_count": null,
   "metadata": {
    "id": "y5uxwvioFhht"
   },
   "outputs": [],
   "source": [
    "from sklearn.decomposition import PCA\n",
    "pca=PCA(n_components=0.95)\n",
    "data_1=pca.fit_transform(data)\n",
    "df=pd.DataFrame(data_1)"
   ]
  },
  {
   "cell_type": "code",
   "execution_count": null,
   "metadata": {
    "colab": {
     "base_uri": "https://localhost:8080/",
     "height": 419
    },
    "id": "QZT_I_aZJazR",
    "outputId": "e024c996-8b30-43a8-dfe0-fae3a5dbf208"
   },
   "outputs": [
    {
     "data": {
      "text/html": [
       "<div>\n",
       "<style scoped>\n",
       "    .dataframe tbody tr th:only-of-type {\n",
       "        vertical-align: middle;\n",
       "    }\n",
       "\n",
       "    .dataframe tbody tr th {\n",
       "        vertical-align: top;\n",
       "    }\n",
       "\n",
       "    .dataframe thead th {\n",
       "        text-align: right;\n",
       "    }\n",
       "</style>\n",
       "<table border=\"1\" class=\"dataframe\">\n",
       "  <thead>\n",
       "    <tr style=\"text-align: right;\">\n",
       "      <th></th>\n",
       "      <th>0</th>\n",
       "      <th>1</th>\n",
       "      <th>2</th>\n",
       "      <th>3</th>\n",
       "      <th>4</th>\n",
       "      <th>5</th>\n",
       "      <th>6</th>\n",
       "      <th>7</th>\n",
       "      <th>8</th>\n",
       "      <th>9</th>\n",
       "      <th>10</th>\n",
       "      <th>11</th>\n",
       "    </tr>\n",
       "  </thead>\n",
       "  <tbody>\n",
       "    <tr>\n",
       "      <th>0</th>\n",
       "      <td>-2.211443</td>\n",
       "      <td>-0.285083</td>\n",
       "      <td>-1.742721</td>\n",
       "      <td>-0.718431</td>\n",
       "      <td>1.002930</td>\n",
       "      <td>-2.134333</td>\n",
       "      <td>-0.307521</td>\n",
       "      <td>-1.585287</td>\n",
       "      <td>3.011625</td>\n",
       "      <td>-1.247648</td>\n",
       "      <td>0.055362</td>\n",
       "      <td>-0.606031</td>\n",
       "    </tr>\n",
       "    <tr>\n",
       "      <th>1</th>\n",
       "      <td>-2.026775</td>\n",
       "      <td>-0.245458</td>\n",
       "      <td>-1.626524</td>\n",
       "      <td>-0.786889</td>\n",
       "      <td>1.065684</td>\n",
       "      <td>-2.097073</td>\n",
       "      <td>-0.485918</td>\n",
       "      <td>-1.466745</td>\n",
       "      <td>2.875145</td>\n",
       "      <td>-1.256000</td>\n",
       "      <td>0.016448</td>\n",
       "      <td>-0.654228</td>\n",
       "    </tr>\n",
       "    <tr>\n",
       "      <th>2</th>\n",
       "      <td>-2.194425</td>\n",
       "      <td>-0.283386</td>\n",
       "      <td>-1.734073</td>\n",
       "      <td>-0.762020</td>\n",
       "      <td>0.989872</td>\n",
       "      <td>-2.123762</td>\n",
       "      <td>-0.331454</td>\n",
       "      <td>-1.615137</td>\n",
       "      <td>2.977218</td>\n",
       "      <td>-1.307157</td>\n",
       "      <td>0.041835</td>\n",
       "      <td>-0.580356</td>\n",
       "    </tr>\n",
       "    <tr>\n",
       "      <th>3</th>\n",
       "      <td>-2.092403</td>\n",
       "      <td>-0.311279</td>\n",
       "      <td>-1.600469</td>\n",
       "      <td>-0.687246</td>\n",
       "      <td>0.978185</td>\n",
       "      <td>-1.955358</td>\n",
       "      <td>-0.245413</td>\n",
       "      <td>-1.551006</td>\n",
       "      <td>2.671741</td>\n",
       "      <td>-1.083249</td>\n",
       "      <td>0.392677</td>\n",
       "      <td>-0.695161</td>\n",
       "    </tr>\n",
       "    <tr>\n",
       "      <th>4</th>\n",
       "      <td>-2.286585</td>\n",
       "      <td>0.048241</td>\n",
       "      <td>-1.772806</td>\n",
       "      <td>-0.740647</td>\n",
       "      <td>0.875427</td>\n",
       "      <td>-2.049897</td>\n",
       "      <td>-0.296521</td>\n",
       "      <td>-1.561730</td>\n",
       "      <td>2.951375</td>\n",
       "      <td>-1.125168</td>\n",
       "      <td>0.023700</td>\n",
       "      <td>-0.560553</td>\n",
       "    </tr>\n",
       "    <tr>\n",
       "      <th>...</th>\n",
       "      <td>...</td>\n",
       "      <td>...</td>\n",
       "      <td>...</td>\n",
       "      <td>...</td>\n",
       "      <td>...</td>\n",
       "      <td>...</td>\n",
       "      <td>...</td>\n",
       "      <td>...</td>\n",
       "      <td>...</td>\n",
       "      <td>...</td>\n",
       "      <td>...</td>\n",
       "      <td>...</td>\n",
       "    </tr>\n",
       "    <tr>\n",
       "      <th>1019</th>\n",
       "      <td>-1.547440</td>\n",
       "      <td>-1.410893</td>\n",
       "      <td>0.404916</td>\n",
       "      <td>0.474867</td>\n",
       "      <td>1.296879</td>\n",
       "      <td>1.685939</td>\n",
       "      <td>1.502486</td>\n",
       "      <td>-0.556093</td>\n",
       "      <td>-1.160778</td>\n",
       "      <td>-0.291468</td>\n",
       "      <td>1.652770</td>\n",
       "      <td>-1.477818</td>\n",
       "    </tr>\n",
       "    <tr>\n",
       "      <th>1020</th>\n",
       "      <td>-1.554566</td>\n",
       "      <td>-1.403732</td>\n",
       "      <td>0.408716</td>\n",
       "      <td>0.476986</td>\n",
       "      <td>1.304672</td>\n",
       "      <td>1.695482</td>\n",
       "      <td>1.511847</td>\n",
       "      <td>-0.539397</td>\n",
       "      <td>-1.164379</td>\n",
       "      <td>-0.311081</td>\n",
       "      <td>1.644978</td>\n",
       "      <td>-1.445292</td>\n",
       "    </tr>\n",
       "    <tr>\n",
       "      <th>1021</th>\n",
       "      <td>-1.565578</td>\n",
       "      <td>-1.379893</td>\n",
       "      <td>0.384625</td>\n",
       "      <td>0.468534</td>\n",
       "      <td>1.289618</td>\n",
       "      <td>1.713679</td>\n",
       "      <td>1.535976</td>\n",
       "      <td>-0.516414</td>\n",
       "      <td>-1.256214</td>\n",
       "      <td>-0.344933</td>\n",
       "      <td>1.652810</td>\n",
       "      <td>-1.441412</td>\n",
       "    </tr>\n",
       "    <tr>\n",
       "      <th>1022</th>\n",
       "      <td>-1.554563</td>\n",
       "      <td>-1.368950</td>\n",
       "      <td>0.350498</td>\n",
       "      <td>0.519591</td>\n",
       "      <td>1.362157</td>\n",
       "      <td>1.590814</td>\n",
       "      <td>1.469601</td>\n",
       "      <td>-0.565688</td>\n",
       "      <td>-1.185435</td>\n",
       "      <td>-0.311490</td>\n",
       "      <td>1.558582</td>\n",
       "      <td>-1.549991</td>\n",
       "    </tr>\n",
       "    <tr>\n",
       "      <th>1023</th>\n",
       "      <td>-1.555634</td>\n",
       "      <td>-1.417984</td>\n",
       "      <td>0.396236</td>\n",
       "      <td>0.453666</td>\n",
       "      <td>1.318331</td>\n",
       "      <td>1.688527</td>\n",
       "      <td>1.485477</td>\n",
       "      <td>-0.566144</td>\n",
       "      <td>-1.167990</td>\n",
       "      <td>-0.305222</td>\n",
       "      <td>1.633373</td>\n",
       "      <td>-1.463717</td>\n",
       "    </tr>\n",
       "  </tbody>\n",
       "</table>\n",
       "<p>1024 rows × 12 columns</p>\n",
       "</div>"
      ],
      "text/plain": [
       "            0         1         2   ...        9         10        11\n",
       "0    -2.211443 -0.285083 -1.742721  ... -1.247648  0.055362 -0.606031\n",
       "1    -2.026775 -0.245458 -1.626524  ... -1.256000  0.016448 -0.654228\n",
       "2    -2.194425 -0.283386 -1.734073  ... -1.307157  0.041835 -0.580356\n",
       "3    -2.092403 -0.311279 -1.600469  ... -1.083249  0.392677 -0.695161\n",
       "4    -2.286585  0.048241 -1.772806  ... -1.125168  0.023700 -0.560553\n",
       "...        ...       ...       ...  ...       ...       ...       ...\n",
       "1019 -1.547440 -1.410893  0.404916  ... -0.291468  1.652770 -1.477818\n",
       "1020 -1.554566 -1.403732  0.408716  ... -0.311081  1.644978 -1.445292\n",
       "1021 -1.565578 -1.379893  0.384625  ... -0.344933  1.652810 -1.441412\n",
       "1022 -1.554563 -1.368950  0.350498  ... -0.311490  1.558582 -1.549991\n",
       "1023 -1.555634 -1.417984  0.396236  ... -0.305222  1.633373 -1.463717\n",
       "\n",
       "[1024 rows x 12 columns]"
      ]
     },
     "execution_count": 53,
     "metadata": {
      "tags": []
     },
     "output_type": "execute_result"
    }
   ],
   "source": [
    "df #converting the obtained PCA matrix to a dataFrame."
   ]
  },
  {
   "cell_type": "code",
   "execution_count": null,
   "metadata": {
    "colab": {
     "base_uri": "https://localhost:8080/"
    },
    "id": "_Tp-PluunN2D",
    "outputId": "e55dbe88-735b-495f-d5ab-83e84480a818"
   },
   "outputs": [
    {
     "data": {
      "text/plain": [
       "array([0.19613649, 0.14800335, 0.13402202, 0.098203  , 0.08049897,\n",
       "       0.07285851, 0.05637812, 0.04271108, 0.04048602, 0.0321076 ,\n",
       "       0.02796533, 0.02474225])"
      ]
     },
     "execution_count": 54,
     "metadata": {
      "tags": []
     },
     "output_type": "execute_result"
    }
   ],
   "source": [
    "pca.explained_variance_ratio_"
   ]
  },
  {
   "cell_type": "code",
   "execution_count": null,
   "metadata": {
    "colab": {
     "base_uri": "https://localhost:8080/"
    },
    "id": "m7XzPiKMX13B",
    "outputId": "77256b39-aa92-4b81-9155-228c2c06713e"
   },
   "outputs": [
    {
     "data": {
      "text/plain": [
       "array([[ 1],\n",
       "       [ 1],\n",
       "       [ 1],\n",
       "       ...,\n",
       "       [16],\n",
       "       [16],\n",
       "       [16]])"
      ]
     },
     "execution_count": 47,
     "metadata": {
      "tags": []
     },
     "output_type": "execute_result"
    }
   ],
   "source": [
    "labels=pd.read_csv(\"/content/drive/MyDrive/Homework/dim32_ground_truth.txt\", header=None)\n",
    "labels=labels.values\n",
    "labels= labels.astype(int)\n",
    "labels"
   ]
  },
  {
   "cell_type": "code",
   "execution_count": null,
   "metadata": {
    "id": "O_on-WhjeZPd"
   },
   "outputs": [],
   "source": [
    "from sklearn.neighbors import KNeighborsClassifier\n",
    "from sklearn.metrics import accuracy_score\n",
    "from sklearn.metrics import confusion_matrix"
   ]
  },
  {
   "cell_type": "code",
   "execution_count": null,
   "metadata": {
    "id": "cLuEkp1jeZPk"
   },
   "outputs": [],
   "source": [
    "X = df.values\n",
    "X_train, X_test, y_train, y_test=train_test_split(X, labels, test_size=0.3, random_state=0) "
   ]
  },
  {
   "cell_type": "code",
   "execution_count": null,
   "metadata": {
    "colab": {
     "base_uri": "https://localhost:8080/"
    },
    "id": "-b7Pf0WReZPn",
    "outputId": "595c02fe-1aa0-4ab4-f3d5-5a0f643b64f7"
   },
   "outputs": [
    {
     "name": "stderr",
     "output_type": "stream",
     "text": [
      "/usr/local/lib/python3.7/dist-packages/ipykernel_launcher.py:2: DataConversionWarning: A column-vector y was passed when a 1d array was expected. Please change the shape of y to (n_samples, ), for example using ravel().\n",
      "  \n"
     ]
    }
   ],
   "source": [
    "knn_Classifier=KNeighborsClassifier()\n",
    "knn_Classifier.fit(X_train, y_train)\n",
    "ypred=knn_Classifier.predict(X_test)"
   ]
  },
  {
   "cell_type": "code",
   "execution_count": null,
   "metadata": {
    "colab": {
     "base_uri": "https://localhost:8080/"
    },
    "id": "C_IfzqpnmgHy",
    "outputId": "ff68142b-4cb1-438e-d66b-311b3cb5a8e0"
   },
   "outputs": [
    {
     "data": {
      "text/plain": [
       "1.0"
      ]
     },
     "execution_count": 63,
     "metadata": {
      "tags": []
     },
     "output_type": "execute_result"
    }
   ],
   "source": [
    "accuracy_score(y_test,ypred)"
   ]
  },
  {
   "cell_type": "code",
   "execution_count": null,
   "metadata": {
    "colab": {
     "base_uri": "https://localhost:8080/"
    },
    "id": "6sumTUXEpXB7",
    "outputId": "c64c57e0-1068-40eb-f28b-3a0b5418b78a"
   },
   "outputs": [
    {
     "data": {
      "text/plain": [
       "array([[20,  0,  0,  0,  0,  0,  0,  0,  0,  0,  0,  0,  0,  0,  0,  0],\n",
       "       [ 0, 11,  0,  0,  0,  0,  0,  0,  0,  0,  0,  0,  0,  0,  0,  0],\n",
       "       [ 0,  0, 15,  0,  0,  0,  0,  0,  0,  0,  0,  0,  0,  0,  0,  0],\n",
       "       [ 0,  0,  0, 21,  0,  0,  0,  0,  0,  0,  0,  0,  0,  0,  0,  0],\n",
       "       [ 0,  0,  0,  0, 24,  0,  0,  0,  0,  0,  0,  0,  0,  0,  0,  0],\n",
       "       [ 0,  0,  0,  0,  0, 18,  0,  0,  0,  0,  0,  0,  0,  0,  0,  0],\n",
       "       [ 0,  0,  0,  0,  0,  0, 20,  0,  0,  0,  0,  0,  0,  0,  0,  0],\n",
       "       [ 0,  0,  0,  0,  0,  0,  0, 24,  0,  0,  0,  0,  0,  0,  0,  0],\n",
       "       [ 0,  0,  0,  0,  0,  0,  0,  0, 15,  0,  0,  0,  0,  0,  0,  0],\n",
       "       [ 0,  0,  0,  0,  0,  0,  0,  0,  0, 18,  0,  0,  0,  0,  0,  0],\n",
       "       [ 0,  0,  0,  0,  0,  0,  0,  0,  0,  0, 18,  0,  0,  0,  0,  0],\n",
       "       [ 0,  0,  0,  0,  0,  0,  0,  0,  0,  0,  0, 19,  0,  0,  0,  0],\n",
       "       [ 0,  0,  0,  0,  0,  0,  0,  0,  0,  0,  0,  0, 25,  0,  0,  0],\n",
       "       [ 0,  0,  0,  0,  0,  0,  0,  0,  0,  0,  0,  0,  0, 19,  0,  0],\n",
       "       [ 0,  0,  0,  0,  0,  0,  0,  0,  0,  0,  0,  0,  0,  0, 16,  0],\n",
       "       [ 0,  0,  0,  0,  0,  0,  0,  0,  0,  0,  0,  0,  0,  0,  0, 25]])"
      ]
     },
     "execution_count": 67,
     "metadata": {
      "tags": []
     },
     "output_type": "execute_result"
    }
   ],
   "source": [
    "confusion_matrix(y_test, ypred)"
   ]
  }
 ],
 "metadata": {
  "anaconda-cloud": {},
  "colab": {
   "name": "Demo - PCA.ipynb",
   "provenance": [],
   "toc_visible": true
  },
  "kernelspec": {
   "display_name": "Python 3",
   "language": "python",
   "name": "python3"
  },
  "language_info": {
   "codemirror_mode": {
    "name": "ipython",
    "version": 3
   },
   "file_extension": ".py",
   "mimetype": "text/x-python",
   "name": "python",
   "nbconvert_exporter": "python",
   "pygments_lexer": "ipython3",
   "version": "3.6.4"
  }
 },
 "nbformat": 4,
 "nbformat_minor": 1
}
