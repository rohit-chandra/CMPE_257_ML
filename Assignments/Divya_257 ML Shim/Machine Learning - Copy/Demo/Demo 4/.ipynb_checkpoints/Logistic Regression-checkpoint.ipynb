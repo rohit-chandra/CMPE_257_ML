{
 "cells": [
  {
   "cell_type": "code",
   "execution_count": 15,
   "metadata": {
    "id": "GNZAnr5s9G31"
   },
   "outputs": [],
   "source": [
    "# Import the dependencies\n",
    "import matplotlib.pyplot as plt\n",
    "import seaborn as sns\n",
    "from sklearn.linear_model import LogisticRegression\n",
    "from sklearn.metrics import classification_report\n",
    "from sklearn.metrics import accuracy_score\n",
    "from sklearn.model_selection import train_test_split\n",
    "from sklearn.model_selection import KFold, cross_val_score"
   ]
  },
  {
   "cell_type": "code",
   "execution_count": 16,
   "metadata": {
    "colab": {
     "base_uri": "https://localhost:8080/",
     "height": 204
    },
    "id": "a1sjuqNA9G34",
    "outputId": "88e2422b-81ff-4d3a-fd60-f07d791b2dbf"
   },
   "outputs": [
    {
     "data": {
      "text/html": [
       "<div>\n",
       "<style scoped>\n",
       "    .dataframe tbody tr th:only-of-type {\n",
       "        vertical-align: middle;\n",
       "    }\n",
       "\n",
       "    .dataframe tbody tr th {\n",
       "        vertical-align: top;\n",
       "    }\n",
       "\n",
       "    .dataframe thead th {\n",
       "        text-align: right;\n",
       "    }\n",
       "</style>\n",
       "<table border=\"1\" class=\"dataframe\">\n",
       "  <thead>\n",
       "    <tr style=\"text-align: right;\">\n",
       "      <th></th>\n",
       "      <th>sepal_length</th>\n",
       "      <th>sepal_width</th>\n",
       "      <th>petal_length</th>\n",
       "      <th>petal_width</th>\n",
       "      <th>species</th>\n",
       "    </tr>\n",
       "  </thead>\n",
       "  <tbody>\n",
       "    <tr>\n",
       "      <th>0</th>\n",
       "      <td>5.1</td>\n",
       "      <td>3.5</td>\n",
       "      <td>1.4</td>\n",
       "      <td>0.2</td>\n",
       "      <td>setosa</td>\n",
       "    </tr>\n",
       "    <tr>\n",
       "      <th>1</th>\n",
       "      <td>4.9</td>\n",
       "      <td>3.0</td>\n",
       "      <td>1.4</td>\n",
       "      <td>0.2</td>\n",
       "      <td>setosa</td>\n",
       "    </tr>\n",
       "    <tr>\n",
       "      <th>2</th>\n",
       "      <td>4.7</td>\n",
       "      <td>3.2</td>\n",
       "      <td>1.3</td>\n",
       "      <td>0.2</td>\n",
       "      <td>setosa</td>\n",
       "    </tr>\n",
       "    <tr>\n",
       "      <th>3</th>\n",
       "      <td>4.6</td>\n",
       "      <td>3.1</td>\n",
       "      <td>1.5</td>\n",
       "      <td>0.2</td>\n",
       "      <td>setosa</td>\n",
       "    </tr>\n",
       "    <tr>\n",
       "      <th>4</th>\n",
       "      <td>5.0</td>\n",
       "      <td>3.6</td>\n",
       "      <td>1.4</td>\n",
       "      <td>0.2</td>\n",
       "      <td>setosa</td>\n",
       "    </tr>\n",
       "  </tbody>\n",
       "</table>\n",
       "</div>"
      ],
      "text/plain": [
       "   sepal_length  sepal_width  petal_length  petal_width species\n",
       "0           5.1          3.5           1.4          0.2  setosa\n",
       "1           4.9          3.0           1.4          0.2  setosa\n",
       "2           4.7          3.2           1.3          0.2  setosa\n",
       "3           4.6          3.1           1.5          0.2  setosa\n",
       "4           5.0          3.6           1.4          0.2  setosa"
      ]
     },
     "execution_count": 16,
     "metadata": {},
     "output_type": "execute_result"
    }
   ],
   "source": [
    "#Load the data set\n",
    "data = sns.load_dataset(\"iris\")\n",
    "data.head()"
   ]
  },
  {
   "cell_type": "code",
   "execution_count": 17,
   "metadata": {
    "id": "sSWD_Txc9G35"
   },
   "outputs": [],
   "source": [
    "#Prepare the training set\n",
    "\n",
    "# X = feature values, all the columns except the last column\n",
    "X = data.iloc[:, :-1]\n",
    "\n",
    "# y = target values, last column of the data frame\n",
    "y = data.iloc[:, -1]"
   ]
  },
  {
   "cell_type": "code",
   "execution_count": 19,
   "metadata": {
    "id": "0tDudxdF9G36"
   },
   "outputs": [],
   "source": [
    "#Split the data into 80% training and 20% testing\n",
    "x_train, x_test, y_train, y_test = train_test_split(X, y, test_size=0.2)"
   ]
  },
  {
   "cell_type": "code",
   "execution_count": 20,
   "metadata": {
    "colab": {
     "base_uri": "https://localhost:8080/"
    },
    "id": "jBFk365g9G37",
    "outputId": "216a111f-5528-48f2-c034-9bec2f515479"
   },
   "outputs": [
    {
     "data": {
      "text/plain": [
       "LogisticRegression(C=1.0, class_weight=None, dual=False, fit_intercept=True,\n",
       "                   intercept_scaling=1, l1_ratio=None, max_iter=1000,\n",
       "                   multi_class='auto', n_jobs=None, penalty='l2',\n",
       "                   random_state=None, solver='lbfgs', tol=0.0001, verbose=0,\n",
       "                   warm_start=False)"
      ]
     },
     "execution_count": 20,
     "metadata": {},
     "output_type": "execute_result"
    }
   ],
   "source": [
    "#Train the model\n",
    "model = LogisticRegression(max_iter=1000)\n",
    "model.fit(x_train, y_train) #Training the model"
   ]
  },
  {
   "cell_type": "code",
   "execution_count": 21,
   "metadata": {
    "colab": {
     "base_uri": "https://localhost:8080/"
    },
    "id": "GwifJrvl9G37",
    "outputId": "910bddb1-9215-4767-9055-1069603d4dfa"
   },
   "outputs": [
    {
     "name": "stdout",
     "output_type": "stream",
     "text": [
      "['versicolor' 'versicolor' 'virginica' 'setosa' 'versicolor' 'setosa'\n",
      " 'versicolor' 'versicolor' 'setosa' 'virginica' 'setosa' 'versicolor'\n",
      " 'versicolor' 'versicolor' 'versicolor' 'setosa' 'setosa' 'versicolor'\n",
      " 'versicolor' 'virginica' 'virginica' 'virginica' 'setosa' 'virginica'\n",
      " 'virginica' 'setosa' 'setosa' 'virginica' 'setosa' 'versicolor']\n"
     ]
    }
   ],
   "source": [
    "#Test the model\n",
    "predictions = model.predict(x_test)\n",
    "print(predictions)# printing predictions\n",
    "#print(y_test)"
   ]
  },
  {
   "cell_type": "code",
   "execution_count": 22,
   "metadata": {
    "colab": {
     "base_uri": "https://localhost:8080/"
    },
    "id": "UGbe2fLb9G38",
    "outputId": "86fd9536-6889-4235-8518-e0111041f2fc"
   },
   "outputs": [
    {
     "name": "stdout",
     "output_type": "stream",
     "text": [
      "0.9666666666666667\n"
     ]
    }
   ],
   "source": [
    "print( accuracy_score(y_test, predictions))"
   ]
  },
  {
   "cell_type": "code",
   "execution_count": 23,
   "metadata": {
    "colab": {
     "base_uri": "https://localhost:8080/"
    },
    "id": "qm6W9q3Z9G39",
    "outputId": "44396c80-4ad1-4fc3-e612-5badf407bc30"
   },
   "outputs": [
    {
     "name": "stdout",
     "output_type": "stream",
     "text": [
      "[[10  0  0]\n",
      " [ 0 11  0]\n",
      " [ 0  1  8]]\n"
     ]
    }
   ],
   "source": [
    "from sklearn.metrics import confusion_matrix\n",
    "cm = confusion_matrix(y_test, predictions)\n",
    "print(cm)"
   ]
  },
  {
   "cell_type": "markdown",
   "metadata": {
    "id": "pDm9cAe9QTmu"
   },
   "source": [
    "Actual count: setosa - 8 versicolor - 12 virginica - 10\n",
    "\n",
    "Predicted count: setosa - 8 versicolor - 12 virginica - 10\n",
    "\n"
   ]
  },
  {
   "cell_type": "code",
   "execution_count": 24,
   "metadata": {
    "colab": {
     "base_uri": "https://localhost:8080/",
     "height": 281
    },
    "id": "0DH93XIZ9G3_",
    "outputId": "22a9001c-5bab-4173-d74a-6aab8dfcf217"
   },
   "outputs": [
    {
     "data": {
      "image/png": "[encoded data removed]",
      "text/plain": [
       "<Figure size 432x288 with 2 Axes>"
      ]
     },
     "metadata": {
      "needs_background": "light"
     },
     "output_type": "display_data"
    }
   ],
   "source": [
    "# Plot confusion matrix\n",
    "import seaborn as sns\n",
    "import pandas as pd\n",
    "# confusion matrix sns heatmap \n",
    "ax = plt.axes()\n",
    "df_cm = cm\n",
    "sns.heatmap(df_cm, annot=True, annot_kws={\"size\": 10}, fmt='d',cmap=\"Blues\", ax = ax )\n",
    "ax.set_title('Confusion Matrix')\n",
    "plt.show()"
   ]
  },
  {
   "cell_type": "markdown",
   "metadata": {
    "id": "OR8JDAY-O-mY"
   },
   "source": [
    "# K-Fold"
   ]
  },
  {
   "cell_type": "code",
   "execution_count": 25,
   "metadata": {
    "colab": {
     "base_uri": "https://localhost:8080/",
     "height": 204
    },
    "id": "poTFgndcoH0t",
    "outputId": "75b44127-8ee7-4294-ce53-76bba3e38b05"
   },
   "outputs": [
    {
     "data": {
      "text/html": [
       "<div>\n",
       "<style scoped>\n",
       "    .dataframe tbody tr th:only-of-type {\n",
       "        vertical-align: middle;\n",
       "    }\n",
       "\n",
       "    .dataframe tbody tr th {\n",
       "        vertical-align: top;\n",
       "    }\n",
       "\n",
       "    .dataframe thead th {\n",
       "        text-align: right;\n",
       "    }\n",
       "</style>\n",
       "<table border=\"1\" class=\"dataframe\">\n",
       "  <thead>\n",
       "    <tr style=\"text-align: right;\">\n",
       "      <th></th>\n",
       "      <th>sepal_length</th>\n",
       "      <th>sepal_width</th>\n",
       "      <th>petal_length</th>\n",
       "      <th>petal_width</th>\n",
       "      <th>species</th>\n",
       "    </tr>\n",
       "  </thead>\n",
       "  <tbody>\n",
       "    <tr>\n",
       "      <th>0</th>\n",
       "      <td>5.1</td>\n",
       "      <td>3.5</td>\n",
       "      <td>1.4</td>\n",
       "      <td>0.2</td>\n",
       "      <td>setosa</td>\n",
       "    </tr>\n",
       "    <tr>\n",
       "      <th>1</th>\n",
       "      <td>4.9</td>\n",
       "      <td>3.0</td>\n",
       "      <td>1.4</td>\n",
       "      <td>0.2</td>\n",
       "      <td>setosa</td>\n",
       "    </tr>\n",
       "    <tr>\n",
       "      <th>2</th>\n",
       "      <td>4.7</td>\n",
       "      <td>3.2</td>\n",
       "      <td>1.3</td>\n",
       "      <td>0.2</td>\n",
       "      <td>setosa</td>\n",
       "    </tr>\n",
       "    <tr>\n",
       "      <th>3</th>\n",
       "      <td>4.6</td>\n",
       "      <td>3.1</td>\n",
       "      <td>1.5</td>\n",
       "      <td>0.2</td>\n",
       "      <td>setosa</td>\n",
       "    </tr>\n",
       "    <tr>\n",
       "      <th>4</th>\n",
       "      <td>5.0</td>\n",
       "      <td>3.6</td>\n",
       "      <td>1.4</td>\n",
       "      <td>0.2</td>\n",
       "      <td>setosa</td>\n",
       "    </tr>\n",
       "  </tbody>\n",
       "</table>\n",
       "</div>"
      ],
      "text/plain": [
       "   sepal_length  sepal_width  petal_length  petal_width species\n",
       "0           5.1          3.5           1.4          0.2  setosa\n",
       "1           4.9          3.0           1.4          0.2  setosa\n",
       "2           4.7          3.2           1.3          0.2  setosa\n",
       "3           4.6          3.1           1.5          0.2  setosa\n",
       "4           5.0          3.6           1.4          0.2  setosa"
      ]
     },
     "execution_count": 25,
     "metadata": {},
     "output_type": "execute_result"
    }
   ],
   "source": [
    "#Load the data set\n",
    "data = sns.load_dataset(\"iris\")\n",
    "data.head()"
   ]
  },
  {
   "cell_type": "code",
   "execution_count": 26,
   "metadata": {
    "id": "H0ckn4mgoevz"
   },
   "outputs": [],
   "source": [
    "#Prepare the training set\n",
    "\n",
    "# X = feature values, all the columns except the last column\n",
    "X = data.iloc[:, :-1]\n",
    "\n",
    "# y = target values, last column of the data frame\n",
    "y = data.iloc[:, -1]"
   ]
  },
  {
   "cell_type": "code",
   "execution_count": 27,
   "metadata": {
    "id": "Cp41mzGnogp7"
   },
   "outputs": [],
   "source": [
    "# Declaring a model\n",
    "model = LogisticRegression(max_iter=1000)"
   ]
  },
  {
   "cell_type": "code",
   "execution_count": 28,
   "metadata": {
    "colab": {
     "base_uri": "https://localhost:8080/"
    },
    "id": "FIPYvviKorLQ",
    "outputId": "df4b3c68-c115-4cb6-d8d0-20cba10443d7"
   },
   "outputs": [
    {
     "name": "stdout",
     "output_type": "stream",
     "text": [
      "Train Index:  [  0   1   2   3   4   5   6   7   8  10  11  13  14  15  16  17  20  21\n",
      "  22  23  24  25  26  27  28  29  30  32  33  34  35  37  38  39  40  41\n",
      "  42  43  44  45  46  47  48  49  50  51  52  53  54  55  56  57  58  59\n",
      "  60  61  62  63  65  66  67  69  70  71  72  74  75  77  79  80  81  83\n",
      "  84  85  86  87  88  89  90  91  92  93  94  95  96  97  98  99 100 101\n",
      " 102 103 104 105 106 107 108 109 111 112 113 114 115 116 117 119 120 121\n",
      " 122 123 124 125 126 127 128 129 130 131 132 133 134 135 136 137 138 139\n",
      " 140 142 143 144 145 146 147 148 149]\n",
      "Test Index:  [  9  12  18  19  31  36  64  68  73  76  78  82 110 118 141] \n",
      "\n",
      "Train Index:  [  0   1   2   3   4   5   6   7   8   9  10  11  12  13  14  15  16  17\n",
      "  18  19  20  21  22  23  24  25  27  28  31  32  33  34  35  36  37  38\n",
      "  39  40  41  42  43  44  46  47  48  49  50  51  52  53  54  57  58  59\n",
      "  60  61  62  63  64  65  66  67  68  70  71  72  73  74  75  76  77  78\n",
      "  79  80  81  82  83  84  85  86  87  88  89  90  91  92  93  94  95  96\n",
      "  97  98  99 100 101 102 103 105 106 107 109 110 111 112 113 114 115 116\n",
      " 117 118 119 120 121 122 123 124 125 126 129 130 133 134 135 136 137 138\n",
      " 139 140 141 142 144 146 147 148 149]\n",
      "Test Index:  [ 26  29  30  45  55  56  69 104 108 127 128 131 132 143 145] \n",
      "\n",
      "Train Index:  [  0   1   2   3   5   6   7   8   9  12  13  14  17  18  19  20  21  23\n",
      "  24  25  26  28  29  30  31  33  34  35  36  37  38  39  40  41  43  44\n",
      "  45  46  47  48  49  50  52  53  54  55  56  57  58  59  60  61  62  63\n",
      "  64  66  67  68  69  70  71  72  73  74  75  76  77  78  79  80  81  82\n",
      "  83  84  87  88  89  90  91  92  93  94  95  96  97  98  99 100 101 102\n",
      " 103 104 105 106 107 108 109 110 111 112 113 114 115 116 117 118 119 120\n",
      " 121 122 123 124 125 126 127 128 129 130 131 132 133 134 135 136 137 138\n",
      " 139 140 141 143 144 145 147 148 149]\n",
      "Test Index:  [  4  10  11  15  16  22  27  32  42  51  65  85  86 142 146] \n",
      "\n",
      "Train Index:  [  1   2   3   4   5   6   7   8   9  10  11  12  13  14  15  16  17  18\n",
      "  19  20  21  22  23  24  25  26  27  29  30  31  32  33  34  35  36  37\n",
      "  38  39  41  42  43  45  46  47  48  49  50  51  52  53  54  55  56  57\n",
      "  58  59  61  62  63  64  65  68  69  70  71  72  73  74  76  77  78  79\n",
      "  80  82  83  84  85  86  87  88  89  90  91  92  93  94  95  97  98  99\n",
      " 100 101 102 103 104 106 107 108 110 111 112 113 114 115 116 117 118 119\n",
      " 120 121 123 124 125 126 127 128 129 130 131 132 134 135 136 138 139 140\n",
      " 141 142 143 144 145 146 147 148 149]\n",
      "Test Index:  [  0  28  40  44  60  66  67  75  81  96 105 109 122 133 137] \n",
      "\n",
      "Train Index:  [  0   1   2   3   4   5   6   7   8   9  10  11  12  13  14  15  16  17\n",
      "  18  19  20  21  22  26  27  28  29  30  31  32  34  35  36  37  38  40\n",
      "  41  42  43  44  45  46  48  49  50  51  52  53  54  55  56  57  58  59\n",
      "  60  61  63  64  65  66  67  68  69  70  71  72  73  74  75  76  77  78\n",
      "  79  80  81  82  83  84  85  86  87  88  89  90  91  92  93  96  98  99\n",
      " 100 102 103 104 105 106 107 108 109 110 111 112 114 115 116 118 119 120\n",
      " 121 122 124 125 126 127 128 129 130 131 132 133 134 135 136 137 139 140\n",
      " 141 142 143 144 145 146 147 148 149]\n",
      "Test Index:  [ 23  24  25  33  39  47  62  94  95  97 101 113 117 123 138] \n",
      "\n",
      "Train Index:  [  0   1   2   3   4   6   8   9  10  11  12  13  14  15  16  17  18  19\n",
      "  20  21  22  23  24  25  26  27  28  29  30  31  32  33  36  37  38  39\n",
      "  40  41  42  44  45  46  47  48  50  51  52  54  55  56  57  58  59  60\n",
      "  61  62  63  64  65  66  67  68  69  71  72  73  74  75  76  78  79  81\n",
      "  82  83  85  86  87  88  89  90  91  92  94  95  96  97  98  99 100 101\n",
      " 102 103 104 105 106 107 108 109 110 112 113 115 116 117 118 119 120 121\n",
      " 122 123 124 125 126 127 128 129 130 131 132 133 134 135 136 137 138 139\n",
      " 140 141 142 143 144 145 146 147 149]\n",
      "Test Index:  [  5   7  34  35  43  49  53  70  77  80  84  93 111 114 148] \n",
      "\n",
      "Train Index:  [  0   1   2   4   5   6   7   9  10  11  12  14  15  16  18  19  20  21\n",
      "  22  23  24  25  26  27  28  29  30  31  32  33  34  35  36  37  39  40\n",
      "  41  42  43  44  45  46  47  48  49  50  51  52  53  54  55  56  57  58\n",
      "  59  60  61  62  63  64  65  66  67  68  69  70  71  73  74  75  76  77\n",
      "  78  79  80  81  82  84  85  86  87  88  90  91  92  93  94  95  96  97\n",
      "  99 100 101 102 103 104 105 106 107 108 109 110 111 112 113 114 115 116\n",
      " 117 118 121 122 123 124 126 127 128 129 130 131 132 133 137 138 139 140\n",
      " 141 142 143 144 145 146 147 148 149]\n",
      "Test Index:  [  3   8  13  17  38  72  83  89  98 119 120 125 134 135 136] \n",
      "\n",
      "Train Index:  [  0   1   3   4   5   7   8   9  10  11  12  13  14  15  16  17  18  19\n",
      "  20  21  22  23  24  25  26  27  28  29  30  31  32  33  34  35  36  37\n",
      "  38  39  40  41  42  43  44  45  47  48  49  51  52  53  55  56  57  58\n",
      "  60  62  64  65  66  67  68  69  70  71  72  73  74  75  76  77  78  80\n",
      "  81  82  83  84  85  86  87  88  89  90  91  92  93  94  95  96  97  98\n",
      "  99 101 102 103 104 105 106 107 108 109 110 111 113 114 116 117 118 119\n",
      " 120 121 122 123 124 125 127 128 129 130 131 132 133 134 135 136 137 138\n",
      " 140 141 142 143 144 145 146 148 149]\n",
      "Test Index:  [  2   6  46  50  54  59  61  63  79 100 112 115 126 139 147] \n",
      "\n",
      "Train Index:  [  0   2   3   4   5   6   7   8   9  10  11  12  13  14  15  16  17  18\n",
      "  19  20  22  23  24  25  26  27  28  29  30  31  32  33  34  35  36  38\n",
      "  39  40  42  43  44  45  46  47  49  50  51  52  53  54  55  56  59  60\n",
      "  61  62  63  64  65  66  67  68  69  70  71  72  73  74  75  76  77  78\n",
      "  79  80  81  82  83  84  85  86  87  89  92  93  94  95  96  97  98  99\n",
      " 100 101 102 103 104 105 106 108 109 110 111 112 113 114 115 116 117 118\n",
      " 119 120 121 122 123 125 126 127 128 130 131 132 133 134 135 136 137 138\n",
      " 139 141 142 143 145 146 147 148 149]\n",
      "Test Index:  [  1  21  37  41  48  57  58  88  90  91 107 124 129 140 144] \n",
      "\n",
      "Train Index:  [  0   1   2   3   4   5   6   7   8   9  10  11  12  13  15  16  17  18\n",
      "  19  21  22  23  24  25  26  27  28  29  30  31  32  33  34  35  36  37\n",
      "  38  39  40  41  42  43  44  45  46  47  48  49  50  51  53  54  55  56\n",
      "  57  58  59  60  61  62  63  64  65  66  67  68  69  70  72  73  75  76\n",
      "  77  78  79  80  81  82  83  84  85  86  88  89  90  91  93  94  95  96\n",
      "  97  98 100 101 104 105 107 108 109 110 111 112 113 114 115 117 118 119\n",
      " 120 122 123 124 125 126 127 128 129 131 132 133 134 135 136 137 138 139\n",
      " 140 141 142 143 144 145 146 147 148]\n",
      "Test Index:  [ 14  20  52  71  74  87  92  99 102 103 106 116 121 130 149] \n",
      "\n",
      "accuracy of each fold - [1.0, 1.0, 1.0, 1.0, 1.0, 0.8666666666666667, 0.9333333333333333, 1.0, 1.0, 0.9333333333333333]\n",
      "Avg accuracy : 0.9733333333333334\n"
     ]
    }
   ],
   "source": [
    "k = 10\n",
    "acc_score = []\n",
    "cv = KFold(n_splits=k, random_state=42, shuffle=True)\n",
    "for train_index , test_index in cv.split(X):\n",
    "  print(\"Train Index: \", train_index)\n",
    "  print(\"Test Index: \", test_index, \"\\n\")\n",
    "  X_train , X_test = X.iloc[train_index,:],X.iloc[test_index,:]\n",
    "  y_train , y_test = y[train_index] , y[test_index]\n",
    "\n",
    "  model.fit(X_train,y_train)\n",
    "  pred_values = model.predict(X_test)\n",
    "     \n",
    "  acc = accuracy_score(pred_values , y_test)\n",
    "  acc_score.append(acc)\n",
    "     \n",
    "avg_acc_score = sum(acc_score)/k\n",
    " \n",
    "print('accuracy of each fold - {}'.format(acc_score))\n",
    "print('Avg accuracy : {}'.format(avg_acc_score))"
   ]
  }
 ],
 "metadata": {
  "accelerator": "GPU",
  "colab": {
   "collapsed_sections": [],
   "name": "Logistic Regression.ipynb",
   "provenance": []
  },
  "kernelspec": {
   "display_name": "Python 3",
   "language": "python",
   "name": "python3"
  },
  "language_info": {
   "codemirror_mode": {
    "name": "ipython",
    "version": 3
   },
   "file_extension": ".py",
   "mimetype": "text/x-python",
   "name": "python",
   "nbconvert_exporter": "python",
   "pygments_lexer": "ipython3",
   "version": "3.6.4"
  }
 },
 "nbformat": 4,
 "nbformat_minor": 1
}
