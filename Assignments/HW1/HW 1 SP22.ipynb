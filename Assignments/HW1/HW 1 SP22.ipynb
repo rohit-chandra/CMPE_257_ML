{
 "cells": [
  {
   "cell_type": "markdown",
   "id": "cdeaa2db",
   "metadata": {},
   "source": [
    "# Name: Rohit Chandra"
   ]
  },
  {
   "cell_type": "markdown",
   "id": "47c0f908",
   "metadata": {},
   "source": [
    "\n",
    "# 1 Matrices and Numpy"
   ]
  },
  {
   "cell_type": "markdown",
   "id": "f9c687c3",
   "metadata": {},
   "source": [
    "## 1.1 Matrices Theory"
   ]
  },
  {
   "cell_type": "markdown",
   "id": "99dcc604",
   "metadata": {},
   "source": [
    "### 1.1.1 Write properties of matrices"
   ]
  },
  {
   "cell_type": "markdown",
   "id": "725b95b5",
   "metadata": {},
   "source": [
    "Let A, B and C be m x n matrices:\n",
    "\n",
    "a) **Commutative property:** A + B  =  B + A    \n",
    "\n",
    "b) **Associative property:** A + (B + C)  =  (A + B) + C    \n",
    "\n",
    "c) There is a unique m x n matrix O with\n",
    "\n",
    "        A + O  =  A    (**additive identity**)\n",
    "\n",
    "In other words, O is the **additive identity** for matrix addition.\n",
    "\n",
    "\n",
    "d) For any  m x n matrix A there is an m x n matrix -A with\n",
    "\n",
    "       A + -(A) = (-A) + A  =  O   (**additive inverse**)\n",
    "       \n",
    "So the matrix – A is the **additive inverse** of A or the negative of matrix A."
   ]
  },
  {
   "cell_type": "markdown",
   "id": "eb0eeb06",
   "metadata": {},
   "source": [
    "### 1.1.2 Write a python function to get a matrix from user"
   ]
  },
  {
   "cell_type": "code",
   "execution_count": 2,
   "id": "973bce66",
   "metadata": {
    "ExecuteTime": {
     "end_time": "2022-02-10T19:50:42.091485Z",
     "start_time": "2022-02-10T19:50:42.071538Z"
    }
   },
   "outputs": [],
   "source": [
    "import numpy as np\n",
    "\n",
    "\n",
    "def matrixFromUser():\n",
    "    row = int(input(\"Enter the number of rows in a matrix: \"))\n",
    "\n",
    "    col = int(input(\"Enter the number of columns in a matrix: \"))\n",
    "\n",
    "    matrix = [[int(input()) for i in range (col)] for j in range(row)]\n",
    "    \n",
    "    #print(np.array(matrix))\n",
    "    return np.array(matrix)\n",
    "    \n",
    "#matrixFromUser()"
   ]
  },
  {
   "cell_type": "markdown",
   "id": "1e9509eb",
   "metadata": {},
   "source": [
    "### 1.1.3 Get two matrices from the user and give them names A and B"
   ]
  },
  {
   "cell_type": "code",
   "execution_count": 3,
   "id": "91ea9769",
   "metadata": {
    "ExecuteTime": {
     "end_time": "2022-02-10T19:50:56.458112Z",
     "start_time": "2022-02-10T19:50:43.157633Z"
    }
   },
   "outputs": [
    {
     "name": "stdout",
     "output_type": "stream",
     "text": [
      "Enter the number of rows in a matrix: 2\n",
      "Enter the number of columns in a matrix: 2\n",
      "1\n",
      "2\n",
      "3\n",
      "4\n",
      "Enter the number of rows in a matrix: 2\n",
      "Enter the number of columns in a matrix: 2\n",
      "5\n",
      "6\n",
      "7\n",
      "8\n"
     ]
    }
   ],
   "source": [
    "A = matrixFromUser()\n",
    "B = matrixFromUser()"
   ]
  },
  {
   "cell_type": "code",
   "execution_count": 4,
   "id": "c8552ed9",
   "metadata": {
    "ExecuteTime": {
     "end_time": "2022-02-10T19:50:59.087055Z",
     "start_time": "2022-02-10T19:50:59.072096Z"
    }
   },
   "outputs": [
    {
     "name": "stdout",
     "output_type": "stream",
     "text": [
      "Matrix A: \n",
      " [[1 2]\n",
      " [3 4]]\n"
     ]
    }
   ],
   "source": [
    "print(\"Matrix A: \\n\",A)"
   ]
  },
  {
   "cell_type": "code",
   "execution_count": 5,
   "id": "affa6bbf",
   "metadata": {
    "ExecuteTime": {
     "end_time": "2022-02-10T19:50:59.370331Z",
     "start_time": "2022-02-10T19:50:59.350352Z"
    }
   },
   "outputs": [
    {
     "name": "stdout",
     "output_type": "stream",
     "text": [
      "Matrix B: \n",
      " [[5 6]\n",
      " [7 8]]\n"
     ]
    }
   ],
   "source": [
    "print(\"Matrix B: \\n\", B)"
   ]
  },
  {
   "cell_type": "code",
   "execution_count": 6,
   "id": "e555b078",
   "metadata": {
    "ExecuteTime": {
     "end_time": "2022-02-10T19:51:00.790535Z",
     "start_time": "2022-02-10T19:51:00.766594Z"
    }
   },
   "outputs": [
    {
     "data": {
      "text/plain": [
       "2"
      ]
     },
     "execution_count": 6,
     "metadata": {},
     "output_type": "execute_result"
    }
   ],
   "source": [
    "len(B)"
   ]
  },
  {
   "cell_type": "markdown",
   "id": "c22f308a",
   "metadata": {},
   "source": [
    "## 1.2 Matrix manipulation without using Numpy"
   ]
  },
  {
   "cell_type": "markdown",
   "id": "9508bb2e",
   "metadata": {},
   "source": [
    "### 1.2.1 Perform A^n (n is a user entered values)"
   ]
  },
  {
   "cell_type": "code",
   "execution_count": 100,
   "id": "4f38b2f2",
   "metadata": {
    "ExecuteTime": {
     "end_time": "2022-02-11T05:59:50.662380Z",
     "start_time": "2022-02-11T05:59:46.391789Z"
    }
   },
   "outputs": [
    {
     "name": "stdout",
     "output_type": "stream",
     "text": [
      "enter power of the matrix:2\n",
      "[[ 7. 10.]\n",
      " [15. 22.]]\n"
     ]
    }
   ],
   "source": [
    "def matrix_power(a, power):\n",
    "    rows, columns = len(a), len(a[0])\n",
    "    result = np.zeros((rows, columns))\n",
    "    b = a\n",
    "    for step in range(1, power):\n",
    "        result = np.zeros((rows, columns)) # reset result to all zeroes matrix here\n",
    "        for i in range(0, rows):\n",
    "            for j in range(0, columns):\n",
    "                for m in range(0, rows):\n",
    "                    result[i][j] += a[i][m] * b[m][j]\n",
    "        \n",
    "        a = result\n",
    "        \n",
    "    return result\n",
    "\n",
    "n = int(input(\"enter power of the matrix:\"))\n",
    "print(matrix_power(A,n)) "
   ]
  },
  {
   "cell_type": "markdown",
   "id": "37557ddc",
   "metadata": {},
   "source": [
    "### 1.2.2 Perform A Transpose"
   ]
  },
  {
   "cell_type": "code",
   "execution_count": 101,
   "id": "1cda5682",
   "metadata": {
    "ExecuteTime": {
     "end_time": "2022-02-11T05:59:53.222503Z",
     "start_time": "2022-02-11T05:59:53.208541Z"
    },
    "code_folding": []
   },
   "outputs": [
    {
     "name": "stdout",
     "output_type": "stream",
     "text": [
      "Transpose of Matrix A is: \n",
      "[(1, 3)]\n",
      "[(2, 4)]\n"
     ]
    }
   ],
   "source": [
    "#Method 1:\n",
    "transMatA = zip(*A)\n",
    "print(\"Transpose of Matrix A is: \") \n",
    "for row in transMatA:\n",
    "    print([row])"
   ]
  },
  {
   "cell_type": "code",
   "execution_count": 103,
   "id": "566e7b83",
   "metadata": {
    "ExecuteTime": {
     "end_time": "2022-02-11T06:00:05.934732Z",
     "start_time": "2022-02-11T06:00:05.927722Z"
    }
   },
   "outputs": [
    {
     "name": "stdout",
     "output_type": "stream",
     "text": [
      "Transpose of Matrix A is: \n",
      "[1, 3]\n",
      "[2, 4]\n"
     ]
    }
   ],
   "source": [
    "#method2:\n",
    "\n",
    "result = [[0,0],\n",
    "          [0,0]]\n",
    "          \n",
    "# iterate through rows\n",
    "for i in range(len(A)):\n",
    "   # iterate through columns\n",
    "   for j in range(len(A[0])):\n",
    "        result[j][i] = A[i][j]\n",
    "print(\"Transpose of Matrix A is: \")        \n",
    "for i in result:\n",
    "    print(i)"
   ]
  },
  {
   "cell_type": "markdown",
   "id": "2e25f652",
   "metadata": {},
   "source": [
    "### 1.2.3 Calculate Determinant of A"
   ]
  },
  {
   "cell_type": "code",
   "execution_count": 104,
   "id": "a455406b",
   "metadata": {
    "ExecuteTime": {
     "end_time": "2022-02-11T06:00:10.383759Z",
     "start_time": "2022-02-11T06:00:10.375780Z"
    }
   },
   "outputs": [
    {
     "name": "stdout",
     "output_type": "stream",
     "text": [
      "Determinant of matrix A:  -2\n"
     ]
    }
   ],
   "source": [
    "\n",
    "def getMatrixMinor(m,i,j):\n",
    "    return [row[:j] + row[j+1:] for row in (m[:i]+m[i+1:])]\n",
    "\n",
    "def getMatrixDeterminant(m):\n",
    "    #base case for 2x2 matrix\n",
    "    if len(m) == 2:\n",
    "        return m[0][0]*m[1][1]-m[0][1]*m[1][0]\n",
    "\n",
    "    determinant = 0\n",
    "    for c in range(len(m)):\n",
    "        determinant += ((-1)**c)*m[0][c]*getMatrixDeterminant(getMatrixMinor(m,0,c))\n",
    "    return determinant\n",
    "\n",
    "detA = getMatrixDeterminant(A)\n",
    "print(\"Determinant of matrix A: \", detA)"
   ]
  },
  {
   "cell_type": "markdown",
   "id": "d82f51f0",
   "metadata": {},
   "source": [
    "### 1.2.4 Calculate A Inverse (If not possible code should give relevant reason)"
   ]
  },
  {
   "cell_type": "code",
   "execution_count": 105,
   "id": "da9bc879",
   "metadata": {
    "ExecuteTime": {
     "end_time": "2022-02-11T06:00:12.956910Z",
     "start_time": "2022-02-11T06:00:12.942938Z"
    }
   },
   "outputs": [
    {
     "name": "stdout",
     "output_type": "stream",
     "text": [
      "[[-2.0, 1.0], [1.5, -0.5]]\n"
     ]
    }
   ],
   "source": [
    "def transposeMatrix(m):\n",
    "    return map(list,zip(*m))\n",
    "\n",
    "def getMatrixInverse(m):\n",
    "    determinant = getMatrixDeterminant(m)\n",
    "    \n",
    "    #If not possible code should give relevant reason\n",
    "    if determinant == 0:\n",
    "        print('Inverse cannot be calculated for determinant = 0')\n",
    "        sys.exit()\n",
    "    #special case for 2x2 matrix:\n",
    "    if len(m) == 2:\n",
    "        return [[m[1][1]/determinant, -1*m[0][1]/determinant],\n",
    "                [-1*m[1][0]/determinant, m[0][0]/determinant]]\n",
    "\n",
    "    #find matrix of cofactors\n",
    "    cofactors = []\n",
    "    for r in range(len(m)):\n",
    "        cofactorRow = []\n",
    "        for c in range(len(m)):\n",
    "            minor = getMatrixMinor(m,r,c)\n",
    "            cofactorRow.append(((-1)**(r+c)) * getMatrixDeterminant(minor))\n",
    "        cofactors.append(cofactorRow)\n",
    "    cofactors = transposeMatrix(cofactors)\n",
    "    for r in range(len(cofactors)):\n",
    "        for c in range(len(cofactors)):\n",
    "            cofactors[r][c] = cofactors[r][c]/determinant\n",
    "    return cofactors\n",
    "\n",
    "print(getMatrixInverse(A))"
   ]
  },
  {
   "cell_type": "markdown",
   "id": "308f8844",
   "metadata": {},
   "source": [
    "### 1.2.5 Calculate A*B (If not possible, code should give relevant reason)"
   ]
  },
  {
   "cell_type": "code",
   "execution_count": 106,
   "id": "3daf72d2",
   "metadata": {
    "ExecuteTime": {
     "end_time": "2022-02-11T06:00:16.263046Z",
     "start_time": "2022-02-11T06:00:16.249084Z"
    }
   },
   "outputs": [
    {
     "name": "stdout",
     "output_type": "stream",
     "text": [
      "[[19, 22], [43, 50]]\n"
     ]
    }
   ],
   "source": [
    "def zeros_matrix(rows, cols):\n",
    "    A = []\n",
    "    for i in range(rows):\n",
    "        A.append([])\n",
    "        for j in range(cols):\n",
    "            A[-1].append(0.0)\n",
    "\n",
    "    return A\n",
    "\n",
    "\n",
    "\n",
    "def matrix_multiply(A,B):\n",
    "    rowsA = len(A)\n",
    "    colsA = len(A[0])\n",
    "\n",
    "    rowsB = len(B)\n",
    "    colsB = len(B[0])\n",
    "    #If not possible, code should give relevant reason\n",
    "    if colsA != rowsB:\n",
    "        print('Number of A columns must equal number of B rows.')\n",
    "        sys.exit()\n",
    "\n",
    "    C = zeros_matrix(rowsA, colsB)\n",
    "\n",
    "    for i in range(rowsA):\n",
    "        for j in range(colsB):\n",
    "            total = 0\n",
    "            for ii in range(colsA):\n",
    "                total += A[i][ii] * B[ii][j]\n",
    "            C[i][j] = total\n",
    "\n",
    "    return C\n",
    "\n",
    "print(matrix_multiply(A,B))"
   ]
  },
  {
   "cell_type": "markdown",
   "id": "cfc40ab4",
   "metadata": {},
   "source": [
    "### 1.2.6 Calculate A+B (If not possible, code should give relevant reason)"
   ]
  },
  {
   "cell_type": "code",
   "execution_count": 107,
   "id": "0c500223",
   "metadata": {
    "ExecuteTime": {
     "end_time": "2022-02-11T06:00:18.466155Z",
     "start_time": "2022-02-11T06:00:18.447206Z"
    }
   },
   "outputs": [
    {
     "name": "stdout",
     "output_type": "stream",
     "text": [
      "[[6, 8], [10, 12]]\n"
     ]
    }
   ],
   "source": [
    "mat_sum_res = [[0,0],\n",
    "         [0,0]]\n",
    "\n",
    "def mat_sum(A, B):\n",
    "    rowsA = len(A)\n",
    "    colsA = len(A[0])\n",
    "    rowsB = len(B)\n",
    "    colsB = len(B[0])\n",
    "    \n",
    "    ##If not possible, code should give relevant reason\n",
    "    if rowsA != rowsB and colsA != colsB:\n",
    "        print('Number of A rows, columns must equal number of B rows, columns.')\n",
    "        sys.exit()\n",
    "\n",
    "    # iterate through rows\n",
    "    for i in range(rowsA):\n",
    "        # iterate through columns\n",
    "        for j in range(colsB):\n",
    "            mat_sum_res[i][j] = A[i][j] + B[i][j]\n",
    "            \n",
    "    return mat_sum_res\n",
    "            \n",
    "        \n",
    "print(mat_sum(A, B))"
   ]
  },
  {
   "cell_type": "markdown",
   "id": "f61c91ab",
   "metadata": {},
   "source": [
    "## 1.3 Matrix manipulation using Numpy\n"
   ]
  },
  {
   "cell_type": "markdown",
   "id": "07374ed1",
   "metadata": {},
   "source": [
    "### 1.3.1 Perform all the operations in the previous question using Numpy"
   ]
  },
  {
   "cell_type": "code",
   "execution_count": 108,
   "id": "52d20fca",
   "metadata": {
    "ExecuteTime": {
     "end_time": "2022-02-11T06:00:37.180233Z",
     "start_time": "2022-02-11T06:00:37.176227Z"
    }
   },
   "outputs": [],
   "source": [
    "from numpy.linalg import inv"
   ]
  },
  {
   "cell_type": "code",
   "execution_count": 109,
   "id": "418ae1f2",
   "metadata": {
    "ExecuteTime": {
     "end_time": "2022-02-11T06:00:38.301220Z",
     "start_time": "2022-02-11T06:00:38.296231Z"
    }
   },
   "outputs": [
    {
     "name": "stdout",
     "output_type": "stream",
     "text": [
      "[[ 7 10]\n",
      " [15 22]]\n"
     ]
    }
   ],
   "source": [
    "#A^n power using numpy\n",
    "\n",
    "power = np.linalg.matrix_power(A, 2)\n",
    "print(power)"
   ]
  },
  {
   "cell_type": "code",
   "execution_count": 110,
   "id": "d31ef707",
   "metadata": {
    "ExecuteTime": {
     "end_time": "2022-02-11T06:00:38.724087Z",
     "start_time": "2022-02-11T06:00:38.712148Z"
    }
   },
   "outputs": [
    {
     "data": {
      "text/plain": [
       "array([[1, 3],\n",
       "       [2, 4]])"
      ]
     },
     "execution_count": 110,
     "metadata": {},
     "output_type": "execute_result"
    }
   ],
   "source": [
    "#A Transpose using numpy\n",
    "atrans = np.transpose(A)\n",
    "atrans"
   ]
  },
  {
   "cell_type": "code",
   "execution_count": 113,
   "id": "1b6780db",
   "metadata": {
    "ExecuteTime": {
     "end_time": "2022-02-11T06:01:24.695009Z",
     "start_time": "2022-02-11T06:01:24.632193Z"
    }
   },
   "outputs": [
    {
     "data": {
      "text/plain": [
       "-2.0000000000000004"
      ]
     },
     "execution_count": 113,
     "metadata": {},
     "output_type": "execute_result"
    }
   ],
   "source": [
    "#determinant using numpy\n",
    "np.linalg.det(A)"
   ]
  },
  {
   "cell_type": "code",
   "execution_count": 111,
   "id": "8ff7824e",
   "metadata": {
    "ExecuteTime": {
     "end_time": "2022-02-11T06:00:49.441442Z",
     "start_time": "2022-02-11T06:00:49.431490Z"
    }
   },
   "outputs": [
    {
     "data": {
      "text/plain": [
       "matrix([[-2. ,  1. ],\n",
       "        [ 1.5, -0.5]])"
      ]
     },
     "execution_count": 111,
     "metadata": {},
     "output_type": "execute_result"
    }
   ],
   "source": [
    "#inverse using numpy\n",
    "\n",
    "ainv = inv(np.matrix(A))\n",
    "ainv"
   ]
  },
  {
   "cell_type": "code",
   "execution_count": 112,
   "id": "f7154a13",
   "metadata": {
    "ExecuteTime": {
     "end_time": "2022-02-11T06:00:50.225346Z",
     "start_time": "2022-02-11T06:00:50.176476Z"
    }
   },
   "outputs": [
    {
     "name": "stderr",
     "output_type": "stream",
     "text": [
      "D:\\IDEs\\Anaconda\\lib\\site-packages\\ipykernel_launcher.py:3: VisibleDeprecationWarning: Creating an ndarray from ragged nested sequences (which is a list-or-tuple of lists-or-tuples-or ndarrays with different lengths or shapes) is deprecated. If you meant to do this, you must specify 'dtype=object' when creating the ndarray\n",
      "  This is separate from the ipykernel package so we can avoid doing imports until\n"
     ]
    },
    {
     "ename": "LinAlgError",
     "evalue": "Last 2 dimensions of the array must be square",
     "output_type": "error",
     "traceback": [
      "\u001b[1;31m---------------------------------------------------------------------------\u001b[0m",
      "\u001b[1;31mLinAlgError\u001b[0m                               Traceback (most recent call last)",
      "\u001b[1;32m<ipython-input-112-72b4affaf4f7>\u001b[0m in \u001b[0;36m<module>\u001b[1;34m\u001b[0m\n\u001b[0;32m      2\u001b[0m C = np.array([[1,2],\n\u001b[0;32m      3\u001b[0m     [5,7,8]])\n\u001b[1;32m----> 4\u001b[1;33m \u001b[0mcinv\u001b[0m \u001b[1;33m=\u001b[0m \u001b[0minv\u001b[0m\u001b[1;33m(\u001b[0m\u001b[0mnp\u001b[0m\u001b[1;33m.\u001b[0m\u001b[0mmatrix\u001b[0m\u001b[1;33m(\u001b[0m\u001b[0mC\u001b[0m\u001b[1;33m)\u001b[0m\u001b[1;33m)\u001b[0m\u001b[1;33m\u001b[0m\u001b[1;33m\u001b[0m\u001b[0m\n\u001b[0m\u001b[0;32m      5\u001b[0m \u001b[0mcinv\u001b[0m\u001b[1;33m\u001b[0m\u001b[1;33m\u001b[0m\u001b[0m\n",
      "\u001b[1;32m<__array_function__ internals>\u001b[0m in \u001b[0;36minv\u001b[1;34m(*args, **kwargs)\u001b[0m\n",
      "\u001b[1;32mD:\\IDEs\\Anaconda\\lib\\site-packages\\numpy\\linalg\\linalg.py\u001b[0m in \u001b[0;36minv\u001b[1;34m(a)\u001b[0m\n\u001b[0;32m    539\u001b[0m     \u001b[0m_assert_stacked_2d\u001b[0m\u001b[1;33m(\u001b[0m\u001b[0ma\u001b[0m\u001b[1;33m)\u001b[0m\u001b[1;33m\u001b[0m\u001b[1;33m\u001b[0m\u001b[0m\n\u001b[0;32m    540\u001b[0m     \u001b[0m_assert_stacked_square\u001b[0m\u001b[1;33m(\u001b[0m\u001b[0ma\u001b[0m\u001b[1;33m)\u001b[0m\u001b[1;33m\u001b[0m\u001b[1;33m\u001b[0m\u001b[0m\n\u001b[1;32m--> 541\u001b[1;33m     \u001b[0mt\u001b[0m\u001b[1;33m,\u001b[0m \u001b[0mresult_t\u001b[0m \u001b[1;33m=\u001b[0m \u001b[0m_commonType\u001b[0m\u001b[1;33m(\u001b[0m\u001b[0ma\u001b[0m\u001b[1;33m)\u001b[0m\u001b[1;33m\u001b[0m\u001b[1;33m\u001b[0m\u001b[0m\n\u001b[0m\u001b[0;32m    542\u001b[0m \u001b[1;33m\u001b[0m\u001b[0m\n\u001b[0;32m    543\u001b[0m     \u001b[0msignature\u001b[0m \u001b[1;33m=\u001b[0m \u001b[1;34m'D->D'\u001b[0m \u001b[1;32mif\u001b[0m \u001b[0misComplexType\u001b[0m\u001b[1;33m(\u001b[0m\u001b[0mt\u001b[0m\u001b[1;33m)\u001b[0m \u001b[1;32melse\u001b[0m \u001b[1;34m'd->d'\u001b[0m\u001b[1;33m\u001b[0m\u001b[1;33m\u001b[0m\u001b[0m\n",
      "\u001b[1;32mD:\\IDEs\\Anaconda\\lib\\site-packages\\numpy\\linalg\\linalg.py\u001b[0m in \u001b[0;36m_assert_stacked_square\u001b[1;34m(*arrays)\u001b[0m\n\u001b[0;32m    202\u001b[0m         \u001b[1;32mif\u001b[0m \u001b[0mm\u001b[0m \u001b[1;33m!=\u001b[0m \u001b[0mn\u001b[0m\u001b[1;33m:\u001b[0m\u001b[1;33m\u001b[0m\u001b[1;33m\u001b[0m\u001b[0m\n\u001b[0;32m    203\u001b[0m             \u001b[1;32mraise\u001b[0m \u001b[0mLinAlgError\u001b[0m\u001b[1;33m(\u001b[0m\u001b[1;34m'Last 2 dimensions of the array must be square'\u001b[0m\u001b[1;33m)\u001b[0m\u001b[1;33m\u001b[0m\u001b[1;33m\u001b[0m\u001b[0m\n\u001b[1;32m--> 204\u001b[1;33m \u001b[1;33m\u001b[0m\u001b[0m\n\u001b[0m\u001b[0;32m    205\u001b[0m \u001b[1;32mdef\u001b[0m \u001b[0m_assert_finite\u001b[0m\u001b[1;33m(\u001b[0m\u001b[1;33m*\u001b[0m\u001b[0marrays\u001b[0m\u001b[1;33m)\u001b[0m\u001b[1;33m:\u001b[0m\u001b[1;33m\u001b[0m\u001b[1;33m\u001b[0m\u001b[0m\n\u001b[0;32m    206\u001b[0m     \u001b[1;32mfor\u001b[0m \u001b[0ma\u001b[0m \u001b[1;32min\u001b[0m \u001b[0marrays\u001b[0m\u001b[1;33m:\u001b[0m\u001b[1;33m\u001b[0m\u001b[1;33m\u001b[0m\u001b[0m\n",
      "\u001b[1;31mLinAlgError\u001b[0m: Last 2 dimensions of the array must be square"
     ]
    }
   ],
   "source": [
    "#Inverse when matrix is not square matrix - throws LinAlgError  error\n",
    "C = np.array([[1,2],\n",
    "    [5,7,8]])\n",
    "cinv = inv(np.matrix(C))\n",
    "cinv"
   ]
  },
  {
   "cell_type": "code",
   "execution_count": 46,
   "id": "af39cd95",
   "metadata": {
    "ExecuteTime": {
     "end_time": "2022-02-10T21:17:40.020061Z",
     "start_time": "2022-02-10T21:17:40.005101Z"
    }
   },
   "outputs": [
    {
     "data": {
      "text/plain": [
       "array([[19, 22],\n",
       "       [43, 50]])"
      ]
     },
     "execution_count": 46,
     "metadata": {},
     "output_type": "execute_result"
    }
   ],
   "source": [
    "#Method 1: A*B using np.matmul()\n",
    "\n",
    "np.matmul(A, B)"
   ]
  },
  {
   "cell_type": "code",
   "execution_count": 75,
   "id": "b6ef9e9a",
   "metadata": {
    "ExecuteTime": {
     "end_time": "2022-02-11T03:32:25.299949Z",
     "start_time": "2022-02-11T03:32:25.288972Z"
    }
   },
   "outputs": [
    {
     "data": {
      "text/plain": [
       "array([[19, 22],\n",
       "       [43, 50]])"
      ]
     },
     "execution_count": 75,
     "metadata": {},
     "output_type": "execute_result"
    }
   ],
   "source": [
    "# Method-2: multiplication A*B using numpy\n",
    "matmul_result = np.dot(A,B)\n",
    "matmul_result"
   ]
  },
  {
   "cell_type": "code",
   "execution_count": 47,
   "id": "0f1bf521",
   "metadata": {
    "ExecuteTime": {
     "end_time": "2022-02-10T21:19:06.692076Z",
     "start_time": "2022-02-10T21:19:06.675122Z"
    }
   },
   "outputs": [
    {
     "data": {
      "text/plain": [
       "array([[ 6,  8],\n",
       "       [10, 12]])"
      ]
     },
     "execution_count": 47,
     "metadata": {},
     "output_type": "execute_result"
    }
   ],
   "source": [
    "#A+B: The operator + can be used to add multiple matrices:\n",
    "\n",
    "A + B"
   ]
  },
  {
   "cell_type": "markdown",
   "id": "68858b57",
   "metadata": {},
   "source": [
    "### 1.3.2 Perform following operations in Numpy: Reduced Mean, Reduced Sum, Argmax, Zip and One Hot Encoding"
   ]
  },
  {
   "cell_type": "code",
   "execution_count": 39,
   "id": "d47493ca",
   "metadata": {
    "ExecuteTime": {
     "end_time": "2022-02-10T20:57:33.971003Z",
     "start_time": "2022-02-10T20:57:33.954048Z"
    }
   },
   "outputs": [
    {
     "data": {
      "text/plain": [
       "2.5"
      ]
     },
     "execution_count": 39,
     "metadata": {},
     "output_type": "execute_result"
    }
   ],
   "source": [
    "#Reduced Mean for matrix A\n",
    "np.mean(A)"
   ]
  },
  {
   "cell_type": "code",
   "execution_count": 40,
   "id": "8e652245",
   "metadata": {
    "ExecuteTime": {
     "end_time": "2022-02-10T20:57:49.272176Z",
     "start_time": "2022-02-10T20:57:49.266203Z"
    }
   },
   "outputs": [
    {
     "data": {
      "text/plain": [
       "6.5"
      ]
     },
     "execution_count": 40,
     "metadata": {},
     "output_type": "execute_result"
    }
   ],
   "source": [
    "#Reduced Mean for matrix B\n",
    "np.mean(B)"
   ]
  },
  {
   "cell_type": "code",
   "execution_count": 41,
   "id": "2a6a6017",
   "metadata": {
    "ExecuteTime": {
     "end_time": "2022-02-10T20:58:20.585480Z",
     "start_time": "2022-02-10T20:58:20.578497Z"
    }
   },
   "outputs": [
    {
     "data": {
      "text/plain": [
       "10"
      ]
     },
     "execution_count": 41,
     "metadata": {},
     "output_type": "execute_result"
    }
   ],
   "source": [
    "#Reduced sum for matrix A\n",
    "np.sum(A)"
   ]
  },
  {
   "cell_type": "code",
   "execution_count": 42,
   "id": "b0161e0f",
   "metadata": {
    "ExecuteTime": {
     "end_time": "2022-02-10T20:58:41.586344Z",
     "start_time": "2022-02-10T20:58:41.571385Z"
    }
   },
   "outputs": [
    {
     "data": {
      "text/plain": [
       "26"
      ]
     },
     "execution_count": 42,
     "metadata": {},
     "output_type": "execute_result"
    }
   ],
   "source": [
    "#Reduced Mean for matrix B\n",
    "np.sum(B)"
   ]
  },
  {
   "cell_type": "code",
   "execution_count": 49,
   "id": "2a968a2f",
   "metadata": {
    "ExecuteTime": {
     "end_time": "2022-02-10T21:21:57.201915Z",
     "start_time": "2022-02-10T21:21:57.185958Z"
    }
   },
   "outputs": [
    {
     "data": {
      "text/plain": [
       "3"
      ]
     },
     "execution_count": 49,
     "metadata": {},
     "output_type": "execute_result"
    }
   ],
   "source": [
    "#argmax: Returns the indices of the maximum values along an axis.\n",
    "# Max = 4 which is at 3rd index\n",
    "np.argmax(A)"
   ]
  },
  {
   "cell_type": "code",
   "execution_count": 48,
   "id": "bcb45cd6",
   "metadata": {
    "ExecuteTime": {
     "end_time": "2022-02-10T21:21:51.780407Z",
     "start_time": "2022-02-10T21:21:51.772428Z"
    }
   },
   "outputs": [
    {
     "data": {
      "text/plain": [
       "3"
      ]
     },
     "execution_count": 48,
     "metadata": {},
     "output_type": "execute_result"
    }
   ],
   "source": [
    "#Max = 8 which is at 3rd index position\n",
    "np.argmax(B)"
   ]
  },
  {
   "cell_type": "code",
   "execution_count": 60,
   "id": "bb430d81",
   "metadata": {
    "ExecuteTime": {
     "end_time": "2022-02-10T21:30:17.319932Z",
     "start_time": "2022-02-10T21:30:17.309960Z"
    }
   },
   "outputs": [
    {
     "name": "stdout",
     "output_type": "stream",
     "text": [
      "(('John', 'Cena'), ('Charles', 'Babbage'), ('Mike', 'Tyson'))\n"
     ]
    }
   ],
   "source": [
    "#zip\n",
    "\n",
    "i = (\"John\", \"Charles\", \"Mike\")\n",
    "j = (\"Cena\", \"Babbage\", \"Tyson\")\n",
    "\n",
    "x = zip(i, j)\n",
    "print(tuple(x))"
   ]
  },
  {
   "cell_type": "code",
   "execution_count": 72,
   "id": "b124b373",
   "metadata": {
    "ExecuteTime": {
     "end_time": "2022-02-11T01:21:15.971608Z",
     "start_time": "2022-02-11T01:21:15.960638Z"
    }
   },
   "outputs": [
    {
     "data": {
      "text/plain": [
       "array([[0., 0., 0., 1.],\n",
       "       [1., 0., 0., 0.],\n",
       "       [0., 0., 0., 1.],\n",
       "       [0., 1., 0., 0.]])"
      ]
     },
     "execution_count": 72,
     "metadata": {},
     "output_type": "execute_result"
    }
   ],
   "source": [
    "#one hot encoding\n",
    "#one_hot = np.array(['a','b','c'])\n",
    "\n",
    "a = np.array([3, 0, 3, 1])\n",
    "b = np.zeros((a.size, a.max()+1))\n",
    "b[np.arange(a.size),a] = 1\n",
    "b"
   ]
  },
  {
   "cell_type": "markdown",
   "id": "625e59f7",
   "metadata": {},
   "source": [
    "# 2 Pandas"
   ]
  },
  {
   "cell_type": "markdown",
   "id": "6f63d216",
   "metadata": {},
   "source": [
    "## 2.1 read a csv data to pandas dataframe (data 1)"
   ]
  },
  {
   "cell_type": "code",
   "execution_count": 17,
   "id": "dcea58e8",
   "metadata": {
    "ExecuteTime": {
     "end_time": "2022-02-10T20:21:39.033625Z",
     "start_time": "2022-02-10T20:21:31.025032Z"
    }
   },
   "outputs": [
    {
     "data": {
      "application/javascript": [
       "\n",
       "        if (window._pyforest_update_imports_cell) { window._pyforest_update_imports_cell('import pandas as pd'); }\n",
       "    "
      ],
      "text/plain": [
       "<IPython.core.display.Javascript object>"
      ]
     },
     "metadata": {},
     "output_type": "display_data"
    },
    {
     "data": {
      "text/html": [
       "<div>\n",
       "<style scoped>\n",
       "    .dataframe tbody tr th:only-of-type {\n",
       "        vertical-align: middle;\n",
       "    }\n",
       "\n",
       "    .dataframe tbody tr th {\n",
       "        vertical-align: top;\n",
       "    }\n",
       "\n",
       "    .dataframe thead th {\n",
       "        text-align: right;\n",
       "    }\n",
       "</style>\n",
       "<table border=\"1\" class=\"dataframe\">\n",
       "  <thead>\n",
       "    <tr style=\"text-align: right;\">\n",
       "      <th></th>\n",
       "      <th>0</th>\n",
       "      <th>1</th>\n",
       "    </tr>\n",
       "  </thead>\n",
       "  <tbody>\n",
       "    <tr>\n",
       "      <th>0</th>\n",
       "      <td>-0.752400</td>\n",
       "      <td>-1.992827</td>\n",
       "    </tr>\n",
       "    <tr>\n",
       "      <th>1</th>\n",
       "      <td>-0.702025</td>\n",
       "      <td>-1.935445</td>\n",
       "    </tr>\n",
       "    <tr>\n",
       "      <th>2</th>\n",
       "      <td>0.058185</td>\n",
       "      <td>-1.020321</td>\n",
       "    </tr>\n",
       "    <tr>\n",
       "      <th>3</th>\n",
       "      <td>-0.097662</td>\n",
       "      <td>-1.857889</td>\n",
       "    </tr>\n",
       "    <tr>\n",
       "      <th>4</th>\n",
       "      <td>-0.369050</td>\n",
       "      <td>0.209050</td>\n",
       "    </tr>\n",
       "  </tbody>\n",
       "</table>\n",
       "</div>"
      ],
      "text/plain": [
       "          0         1\n",
       "0 -0.752400 -1.992827\n",
       "1 -0.702025 -1.935445\n",
       "2  0.058185 -1.020321\n",
       "3 -0.097662 -1.857889\n",
       "4 -0.369050  0.209050"
      ]
     },
     "execution_count": 17,
     "metadata": {},
     "output_type": "execute_result"
    }
   ],
   "source": [
    "#reading data1 in CSV\n",
    "\n",
    "df1 = pd.read_csv(\"D:/Masters/SJSU/Academics/sem_2/CMPE_257_ML/Assignments/HW1/Data/data_1.csv\",  header=None)\n",
    "df1.head()"
   ]
  },
  {
   "cell_type": "markdown",
   "id": "ed00daa4",
   "metadata": {},
   "source": [
    "## 2.2 Demonstrate any 5 functions from the following link on the loaded dataset\n",
    "\n",
    "https://pandas.pydata.org/docs/reference/general_functions.html"
   ]
  },
  {
   "cell_type": "code",
   "execution_count": 18,
   "id": "fc856fc4",
   "metadata": {
    "ExecuteTime": {
     "end_time": "2022-02-10T20:21:39.128410Z",
     "start_time": "2022-02-10T20:21:39.098452Z"
    }
   },
   "outputs": [
    {
     "data": {
      "text/plain": [
       "0    0\n",
       "1    0\n",
       "dtype: int64"
      ]
     },
     "execution_count": 18,
     "metadata": {},
     "output_type": "execute_result"
    }
   ],
   "source": [
    "#1 isna: check for null values in each column\n",
    "\n",
    "df1.isna().sum()"
   ]
  },
  {
   "cell_type": "code",
   "execution_count": 19,
   "id": "ddb88123",
   "metadata": {
    "ExecuteTime": {
     "end_time": "2022-02-10T20:21:39.192206Z",
     "start_time": "2022-02-10T20:21:39.178239Z"
    }
   },
   "outputs": [
    {
     "data": {
      "application/javascript": [
       "\n",
       "        if (window._pyforest_update_imports_cell) { window._pyforest_update_imports_cell('import pandas as pd'); }\n",
       "    "
      ],
      "text/plain": [
       "<IPython.core.display.Javascript object>"
      ]
     },
     "metadata": {},
     "output_type": "display_data"
    },
    {
     "data": {
      "text/plain": [
       "array([-0.75240029, -0.70202519,  0.05818474, ...,  1.35851447,\n",
       "        0.66805519,  0.19084289])"
      ]
     },
     "execution_count": 19,
     "metadata": {},
     "output_type": "execute_result"
    }
   ],
   "source": [
    "#2 unique: Return unique values based on a hash table.\n",
    "pd.unique(df1[0])"
   ]
  },
  {
   "cell_type": "code",
   "execution_count": 20,
   "id": "73e454f8",
   "metadata": {
    "ExecuteTime": {
     "end_time": "2022-02-10T20:21:39.317865Z",
     "start_time": "2022-02-10T20:21:39.240074Z"
    }
   },
   "outputs": [
    {
     "data": {
      "application/javascript": [
       "\n",
       "        if (window._pyforest_update_imports_cell) { window._pyforest_update_imports_cell('import pandas as pd'); }\n",
       "    "
      ],
      "text/plain": [
       "<IPython.core.display.Javascript object>"
      ]
     },
     "metadata": {},
     "output_type": "display_data"
    },
    {
     "data": {
      "text/plain": [
       "0       (-3.424, 1.811]\n",
       "1       (-3.424, 1.811]\n",
       "2       (-3.424, 1.811]\n",
       "3       (-3.424, 1.811]\n",
       "4       (-3.424, 1.811]\n",
       "             ...       \n",
       "9995    (-3.424, 1.811]\n",
       "9996    (-3.424, 1.811]\n",
       "9997     (1.811, 7.045]\n",
       "9998     (1.811, 7.045]\n",
       "9999     (1.811, 7.045]\n",
       "Name: 1, Length: 10000, dtype: category\n",
       "Categories (5, interval[float64, right]): [(-13.919, -8.658] < (-8.658, -3.424] < (-3.424, 1.811] < (1.811, 7.045] < (7.045, 12.279]]"
      ]
     },
     "execution_count": 20,
     "metadata": {},
     "output_type": "execute_result"
    }
   ],
   "source": [
    "#3 pandas.cut: Bin values into discrete intervals.\n",
    "pd.cut(df1[1], 5)\n"
   ]
  },
  {
   "cell_type": "code",
   "execution_count": 115,
   "id": "f864c791",
   "metadata": {
    "ExecuteTime": {
     "end_time": "2022-02-11T06:41:20.901625Z",
     "start_time": "2022-02-11T06:41:20.450826Z"
    }
   },
   "outputs": [
    {
     "data": {
      "text/plain": [
       "0      -1.992827\n",
       "1      -1.935445\n",
       "2      -1.020321\n",
       "3      -1.857889\n",
       "4       0.209050\n",
       "          ...   \n",
       "9995   -1.723467\n",
       "9996   -2.009323\n",
       "9997    4.867444\n",
       "9998    2.753525\n",
       "9999    2.156421\n",
       "Name: 1, Length: 10000, dtype: float32"
      ]
     },
     "execution_count": 115,
     "metadata": {},
     "output_type": "execute_result"
    }
   ],
   "source": [
    "#4 Take separate series and convert to numeric, coercing when told to\n",
    "pd.to_numeric(df1[1], downcast='float')"
   ]
  },
  {
   "cell_type": "code",
   "execution_count": 114,
   "id": "0753bff3",
   "metadata": {
    "ExecuteTime": {
     "end_time": "2022-02-11T06:37:20.237957Z",
     "start_time": "2022-02-11T06:37:19.849991Z"
    }
   },
   "outputs": [
    {
     "data": {
      "text/plain": [
       "0       (-3.9499999999999997, -0.434]\n",
       "1       (-3.9499999999999997, -0.434]\n",
       "2                      (-0.434, 0.43]\n",
       "3                      (-0.434, 0.43]\n",
       "4                      (-0.434, 0.43]\n",
       "                    ...              \n",
       "9995                   (-0.434, 0.43]\n",
       "9996    (-3.9499999999999997, -0.434]\n",
       "9997                    (0.43, 3.583]\n",
       "9998                    (0.43, 3.583]\n",
       "9999                   (-0.434, 0.43]\n",
       "Name: 0, Length: 10000, dtype: category\n",
       "Categories (3, interval[float64, right]): [(-3.9499999999999997, -0.434] < (-0.434, 0.43] < (0.43, 3.583]]"
      ]
     },
     "execution_count": 114,
     "metadata": {},
     "output_type": "execute_result"
    }
   ],
   "source": [
    "#5 Quantile-based discretization function.\n",
    "pd.qcut(df1[0], 3)"
   ]
  },
  {
   "cell_type": "markdown",
   "id": "887f85ee",
   "metadata": {},
   "source": [
    "# 3 Plotting"
   ]
  },
  {
   "cell_type": "markdown",
   "id": "b11fb4e0",
   "metadata": {},
   "source": [
    "## 3.1 read a csv data to pandas dataframe (data 2)"
   ]
  },
  {
   "cell_type": "code",
   "execution_count": 29,
   "id": "c353ebd1",
   "metadata": {
    "ExecuteTime": {
     "end_time": "2022-02-10T20:29:28.236610Z",
     "start_time": "2022-02-10T20:29:28.209684Z"
    }
   },
   "outputs": [
    {
     "data": {
      "application/javascript": [
       "\n",
       "        if (window._pyforest_update_imports_cell) { window._pyforest_update_imports_cell('import pandas as pd'); }\n",
       "    "
      ],
      "text/plain": [
       "<IPython.core.display.Javascript object>"
      ]
     },
     "metadata": {},
     "output_type": "display_data"
    },
    {
     "data": {
      "text/html": [
       "<div>\n",
       "<style scoped>\n",
       "    .dataframe tbody tr th:only-of-type {\n",
       "        vertical-align: middle;\n",
       "    }\n",
       "\n",
       "    .dataframe tbody tr th {\n",
       "        vertical-align: top;\n",
       "    }\n",
       "\n",
       "    .dataframe thead th {\n",
       "        text-align: right;\n",
       "    }\n",
       "</style>\n",
       "<table border=\"1\" class=\"dataframe\">\n",
       "  <thead>\n",
       "    <tr style=\"text-align: right;\">\n",
       "      <th></th>\n",
       "      <th>0</th>\n",
       "      <th>1</th>\n",
       "    </tr>\n",
       "  </thead>\n",
       "  <tbody>\n",
       "    <tr>\n",
       "      <th>0</th>\n",
       "      <td>-6.283185</td>\n",
       "      <td>0.043487</td>\n",
       "    </tr>\n",
       "    <tr>\n",
       "      <th>1</th>\n",
       "      <td>-6.281929</td>\n",
       "      <td>0.084347</td>\n",
       "    </tr>\n",
       "    <tr>\n",
       "      <th>2</th>\n",
       "      <td>-6.280672</td>\n",
       "      <td>-0.028693</td>\n",
       "    </tr>\n",
       "    <tr>\n",
       "      <th>3</th>\n",
       "      <td>-6.279415</td>\n",
       "      <td>0.021445</td>\n",
       "    </tr>\n",
       "    <tr>\n",
       "      <th>4</th>\n",
       "      <td>-6.278158</td>\n",
       "      <td>0.020871</td>\n",
       "    </tr>\n",
       "  </tbody>\n",
       "</table>\n",
       "</div>"
      ],
      "text/plain": [
       "          0         1\n",
       "0 -6.283185  0.043487\n",
       "1 -6.281929  0.084347\n",
       "2 -6.280672 -0.028693\n",
       "3 -6.279415  0.021445\n",
       "4 -6.278158  0.020871"
      ]
     },
     "execution_count": 29,
     "metadata": {},
     "output_type": "execute_result"
    }
   ],
   "source": [
    "#reading data2 in CSV\n",
    "df2 = pd.read_csv(\"D:/Masters/SJSU/Academics/sem_2/CMPE_257_ML/Assignments/HW1/Data/data_2.csv\",  header=None)\n",
    "df2.head()"
   ]
  },
  {
   "cell_type": "markdown",
   "id": "f7e75b66",
   "metadata": {},
   "source": [
    "## 3.2 plot the above dataset using matplotlib"
   ]
  },
  {
   "cell_type": "code",
   "execution_count": 25,
   "id": "ca7ca227",
   "metadata": {
    "ExecuteTime": {
     "end_time": "2022-02-10T20:27:25.663674Z",
     "start_time": "2022-02-10T20:27:25.121089Z"
    }
   },
   "outputs": [
    {
     "data": {
      "text/plain": [
       "<AxesSubplot:>"
      ]
     },
     "execution_count": 25,
     "metadata": {},
     "output_type": "execute_result"
    },
    {
     "data": {
      "image/png": "[encoded data removed]",
      "text/plain": [
       "<Figure size 432x288 with 1 Axes>"
      ]
     },
     "metadata": {
      "needs_background": "light"
     },
     "output_type": "display_data"
    }
   ],
   "source": [
    "# importing matplotlib\n",
    "import matplotlib.pyplot as plt\n",
    "\n",
    "#df2.plot(kind='scatter',x=df2[0],y=df2[1],color='red')\n",
    "#plt.show()\n",
    "\n",
    "df2.plot()"
   ]
  },
  {
   "cell_type": "markdown",
   "id": "ec5a0aca",
   "metadata": {
    "ExecuteTime": {
     "end_time": "2022-02-10T20:33:06.143651Z",
     "start_time": "2022-02-10T20:33:06.129693Z"
    }
   },
   "source": [
    "**Observation:** Values in the 1st column forms a straight line(y=mx + b) and in 2nd column they form a wave like pattern "
   ]
  },
  {
   "cell_type": "markdown",
   "id": "4afadc8a",
   "metadata": {},
   "source": [
    "## 3.3 load the tips dataset from seaborn"
   ]
  },
  {
   "cell_type": "code",
   "execution_count": 32,
   "id": "e013a541",
   "metadata": {
    "ExecuteTime": {
     "end_time": "2022-02-10T20:37:01.547215Z",
     "start_time": "2022-02-10T20:36:49.857385Z"
    }
   },
   "outputs": [
    {
     "data": {
      "text/html": [
       "<div>\n",
       "<style scoped>\n",
       "    .dataframe tbody tr th:only-of-type {\n",
       "        vertical-align: middle;\n",
       "    }\n",
       "\n",
       "    .dataframe tbody tr th {\n",
       "        vertical-align: top;\n",
       "    }\n",
       "\n",
       "    .dataframe thead th {\n",
       "        text-align: right;\n",
       "    }\n",
       "</style>\n",
       "<table border=\"1\" class=\"dataframe\">\n",
       "  <thead>\n",
       "    <tr style=\"text-align: right;\">\n",
       "      <th></th>\n",
       "      <th>total_bill</th>\n",
       "      <th>tip</th>\n",
       "      <th>sex</th>\n",
       "      <th>smoker</th>\n",
       "      <th>day</th>\n",
       "      <th>time</th>\n",
       "      <th>size</th>\n",
       "    </tr>\n",
       "  </thead>\n",
       "  <tbody>\n",
       "    <tr>\n",
       "      <th>0</th>\n",
       "      <td>16.99</td>\n",
       "      <td>1.01</td>\n",
       "      <td>Female</td>\n",
       "      <td>No</td>\n",
       "      <td>Sun</td>\n",
       "      <td>Dinner</td>\n",
       "      <td>2</td>\n",
       "    </tr>\n",
       "    <tr>\n",
       "      <th>1</th>\n",
       "      <td>10.34</td>\n",
       "      <td>1.66</td>\n",
       "      <td>Male</td>\n",
       "      <td>No</td>\n",
       "      <td>Sun</td>\n",
       "      <td>Dinner</td>\n",
       "      <td>3</td>\n",
       "    </tr>\n",
       "    <tr>\n",
       "      <th>2</th>\n",
       "      <td>21.01</td>\n",
       "      <td>3.50</td>\n",
       "      <td>Male</td>\n",
       "      <td>No</td>\n",
       "      <td>Sun</td>\n",
       "      <td>Dinner</td>\n",
       "      <td>3</td>\n",
       "    </tr>\n",
       "    <tr>\n",
       "      <th>3</th>\n",
       "      <td>23.68</td>\n",
       "      <td>3.31</td>\n",
       "      <td>Male</td>\n",
       "      <td>No</td>\n",
       "      <td>Sun</td>\n",
       "      <td>Dinner</td>\n",
       "      <td>2</td>\n",
       "    </tr>\n",
       "    <tr>\n",
       "      <th>4</th>\n",
       "      <td>24.59</td>\n",
       "      <td>3.61</td>\n",
       "      <td>Female</td>\n",
       "      <td>No</td>\n",
       "      <td>Sun</td>\n",
       "      <td>Dinner</td>\n",
       "      <td>4</td>\n",
       "    </tr>\n",
       "  </tbody>\n",
       "</table>\n",
       "</div>"
      ],
      "text/plain": [
       "   total_bill   tip     sex smoker  day    time  size\n",
       "0       16.99  1.01  Female     No  Sun  Dinner     2\n",
       "1       10.34  1.66    Male     No  Sun  Dinner     3\n",
       "2       21.01  3.50    Male     No  Sun  Dinner     3\n",
       "3       23.68  3.31    Male     No  Sun  Dinner     2\n",
       "4       24.59  3.61  Female     No  Sun  Dinner     4"
      ]
     },
     "execution_count": 32,
     "metadata": {},
     "output_type": "execute_result"
    }
   ],
   "source": [
    "import seaborn as sb\n",
    "tips_df = sb.load_dataset('tips')\n",
    "tips_df.head()"
   ]
  },
  {
   "cell_type": "markdown",
   "id": "a897f23c",
   "metadata": {},
   "source": [
    "## 3.4 plot pairplot, jointplot, catplot, displot, and HeatMap for the above dataset and give your comments on each plot"
   ]
  },
  {
   "cell_type": "code",
   "execution_count": 33,
   "id": "407c6025",
   "metadata": {
    "ExecuteTime": {
     "end_time": "2022-02-10T20:38:08.975159Z",
     "start_time": "2022-02-10T20:38:05.881395Z"
    }
   },
   "outputs": [
    {
     "data": {
      "image/png": "[encoded data removed]",
      "text/plain": [
       "<Figure size 612.125x540 with 12 Axes>"
      ]
     },
     "metadata": {
      "needs_background": "light"
     },
     "output_type": "display_data"
    }
   ],
   "source": [
    "sb.pairplot(tips_df, hue ='sex')\n",
    "# to show\n",
    "plt.show()"
   ]
  },
  {
   "cell_type": "markdown",
   "id": "3bd35223",
   "metadata": {},
   "source": [
    "**Observation:**\n",
    "\n",
    "1) total bill and tip are the most positively correlated. This means that as tip increases, total bill increases and vice versa  if we set the cutoff at 0.6 then we can drop one of them based on the correlation value with the label column. \n",
    "\n",
    "2) total_bill and size is more for male compared to female\n",
    "\n",
    "3) tip and size have least correlation since the distribution is flat "
   ]
  },
  {
   "cell_type": "code",
   "execution_count": 35,
   "id": "e1c63a86",
   "metadata": {
    "ExecuteTime": {
     "end_time": "2022-02-10T20:40:29.857538Z",
     "start_time": "2022-02-10T20:40:28.657746Z"
    }
   },
   "outputs": [
    {
     "data": {
      "application/javascript": [
       "\n",
       "        if (window._pyforest_update_imports_cell) { window._pyforest_update_imports_cell('import seaborn as sns\\nimport pandas as pd'); }\n",
       "    "
      ],
      "text/plain": [
       "<IPython.core.display.Javascript object>"
      ]
     },
     "metadata": {},
     "output_type": "display_data"
    },
    {
     "name": "stderr",
     "output_type": "stream",
     "text": [
      "D:\\IDEs\\Anaconda\\lib\\site-packages\\seaborn\\_decorators.py:43: FutureWarning: Pass the following variables as keyword args: x, y. From version 0.12, the only valid positional argument will be `data`, and passing other arguments without an explicit keyword will result in an error or misinterpretation.\n",
      "  FutureWarning\n"
     ]
    },
    {
     "data": {
      "image/png": "[encoded data removed]",
      "text/plain": [
       "<Figure size 504x504 with 3 Axes>"
      ]
     },
     "metadata": {
      "needs_background": "light"
     },
     "output_type": "display_data"
    }
   ],
   "source": [
    "g = sns.jointplot(\"total_bill\", \"tip\", data=tips_df, kind=\"reg\",\n",
    "                  xlim=(0, 60), ylim=(0, 12), color=\"m\", height=7)"
   ]
  },
  {
   "cell_type": "markdown",
   "id": "903157c1",
   "metadata": {},
   "source": [
    "**Observation:**\n",
    "\n",
    "1) The distribution is right skewed( the tail is on the right side).Hence the mean, median, and mode are all different.The mean lies around value 18. Data skewed to the right is usually a result of a lower boundary in a data set (whereas data skewed to the left is a result of a higher boundary). So if the data set's lower bounds are extremely low relative to the rest of the data, this will cause the data to skew right.\n",
    "\n",
    "2) As the total bill increases the tip increases to some extent. We see 2 data points of total bill which increase significantly as tip increases and vice versa.\n",
    "\n",
    "3) There is a positive correlations between total bill and tip"
   ]
  },
  {
   "cell_type": "code",
   "execution_count": 36,
   "id": "a7b44c55",
   "metadata": {
    "ExecuteTime": {
     "end_time": "2022-02-10T20:42:11.292174Z",
     "start_time": "2022-02-10T20:42:10.745634Z"
    }
   },
   "outputs": [
    {
     "data": {
      "application/javascript": [
       "\n",
       "        if (window._pyforest_update_imports_cell) { window._pyforest_update_imports_cell('import seaborn as sns\\nimport pandas as pd'); }\n",
       "    "
      ],
      "text/plain": [
       "<IPython.core.display.Javascript object>"
      ]
     },
     "metadata": {},
     "output_type": "display_data"
    },
    {
     "data": {
      "text/plain": [
       "<seaborn.axisgrid.FacetGrid at 0x2910a318fc8>"
      ]
     },
     "execution_count": 36,
     "metadata": {},
     "output_type": "execute_result"
    },
    {
     "data": {
      "image/png": "[encoded data removed]",
      "text/plain": [
       "<Figure size 360x360 with 1 Axes>"
      ]
     },
     "metadata": {
      "needs_background": "light"
     },
     "output_type": "display_data"
    }
   ],
   "source": [
    "\n",
    "sns.catplot(x=\"day\", y=\"total_bill\", data=tips_df)"
   ]
  },
  {
   "cell_type": "markdown",
   "id": "446c6321",
   "metadata": {},
   "source": [
    "**Observations:**\n",
    "\n",
    "1) The total bills on friday are the least\n",
    "\n",
    "2) the highest total bill is on Saturday which is over 50 followed by Sunday"
   ]
  },
  {
   "cell_type": "code",
   "execution_count": 37,
   "id": "3829b1bc",
   "metadata": {
    "ExecuteTime": {
     "end_time": "2022-02-10T20:43:25.187395Z",
     "start_time": "2022-02-10T20:43:24.594961Z"
    }
   },
   "outputs": [
    {
     "data": {
      "application/javascript": [
       "\n",
       "        if (window._pyforest_update_imports_cell) { window._pyforest_update_imports_cell('import seaborn as sns\\nimport pandas as pd'); }\n",
       "    "
      ],
      "text/plain": [
       "<IPython.core.display.Javascript object>"
      ]
     },
     "metadata": {},
     "output_type": "display_data"
    },
    {
     "data": {
      "text/plain": [
       "<seaborn.axisgrid.FacetGrid at 0x2910a39b848>"
      ]
     },
     "execution_count": 37,
     "metadata": {},
     "output_type": "execute_result"
    },
    {
     "data": {
      "image/png": "[encoded data removed]",
      "text/plain": [
       "<Figure size 360x360 with 1 Axes>"
      ]
     },
     "metadata": {
      "needs_background": "light"
     },
     "output_type": "display_data"
    }
   ],
   "source": [
    "sns.displot(tips_df, x=\"size\")"
   ]
  },
  {
   "cell_type": "markdown",
   "id": "999c60a5",
   "metadata": {},
   "source": [
    "**Observation:**\n",
    "\n",
    "1) the count is highest for size 2 and least for 1 and 6(approx)\n",
    "\n",
    "2) siez = 3 has the 2nd highest count"
   ]
  },
  {
   "cell_type": "code",
   "execution_count": 66,
   "id": "b9e386b4",
   "metadata": {
    "ExecuteTime": {
     "end_time": "2022-02-10T21:47:05.162998Z",
     "start_time": "2022-02-10T21:47:04.981456Z"
    }
   },
   "outputs": [
    {
     "data": {
      "application/javascript": [
       "\n",
       "        if (window._pyforest_update_imports_cell) { window._pyforest_update_imports_cell('import seaborn as sns\\nimport pandas as pd'); }\n",
       "    "
      ],
      "text/plain": [
       "<IPython.core.display.Javascript object>"
      ]
     },
     "metadata": {},
     "output_type": "display_data"
    },
    {
     "data": {
      "text/plain": [
       "<AxesSubplot:>"
      ]
     },
     "execution_count": 66,
     "metadata": {},
     "output_type": "execute_result"
    },
    {
     "data": {
      "image/png": "[encoded data removed]",
      "text/plain": [
       "<Figure size 432x288 with 2 Axes>"
      ]
     },
     "metadata": {
      "needs_background": "light"
     },
     "output_type": "display_data"
    }
   ],
   "source": [
    "sns.heatmap(tips_df.corr(), annot=True)"
   ]
  },
  {
   "cell_type": "markdown",
   "id": "8811e6c9",
   "metadata": {
    "ExecuteTime": {
     "end_time": "2022-02-10T21:45:45.208115Z",
     "start_time": "2022-02-10T21:45:41.701140Z"
    }
   },
   "source": [
    "**Observation:**\n",
    "\n",
    "1) total bills and tips have highest correlation with the value 0.68\n",
    "\n",
    "2) tips and size are least correlated with value 0.49\n",
    "\n",
    "3) size and total bills have high correlation wit value 0.6"
   ]
  }
 ],
 "metadata": {
  "kernelspec": {
   "display_name": "Python 3",
   "language": "python",
   "name": "python3"
  },
  "language_info": {
   "codemirror_mode": {
    "name": "ipython",
    "version": 3
   },
   "file_extension": ".py",
   "mimetype": "text/x-python",
   "name": "python",
   "nbconvert_exporter": "python",
   "pygments_lexer": "ipython3",
   "version": "3.7.11"
  },
  "latex_envs": {
   "LaTeX_envs_menu_present": true,
   "autoclose": false,
   "autocomplete": true,
   "bibliofile": "biblio.bib",
   "cite_by": "apalike",
   "current_citInitial": 1,
   "eqLabelWithNumbers": true,
   "eqNumInitial": 1,
   "hotkeys": {
    "equation": "Ctrl-E",
    "itemize": "Ctrl-I"
   },
   "labels_anchors": false,
   "latex_user_defs": false,
   "report_style_numbering": false,
   "user_envs_cfg": false
  },
  "toc": {
   "base_numbering": 1,
   "nav_menu": {},
   "number_sections": true,
   "sideBar": true,
   "skip_h1_title": false,
   "title_cell": "Table of Contents",
   "title_sidebar": "Contents",
   "toc_cell": false,
   "toc_position": {},
   "toc_section_display": true,
   "toc_window_display": false
  },
  "varInspector": {
   "cols": {
    "lenName": 16,
    "lenType": 16,
    "lenVar": 40
   },
   "kernels_config": {
    "python": {
     "delete_cmd_postfix": "",
     "delete_cmd_prefix": "del ",
     "library": "var_list.py",
     "varRefreshCmd": "print(var_dic_list())"
    },
    "r": {
     "delete_cmd_postfix": ") ",
     "delete_cmd_prefix": "rm(",
     "library": "var_list.r",
     "varRefreshCmd": "cat(var_dic_list()) "
    }
   },
   "types_to_exclude": [
    "module",
    "function",
    "builtin_function_or_method",
    "instance",
    "_Feature"
   ],
   "window_display": false
  }
 },
 "nbformat": 4,
 "nbformat_minor": 5
}
