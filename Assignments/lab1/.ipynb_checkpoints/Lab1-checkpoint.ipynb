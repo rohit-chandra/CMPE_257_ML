{
 "cells": [
  {
   "cell_type": "code",
   "execution_count": null,
   "id": "005371c6",
   "metadata": {},
   "outputs": [],
   "source": []
  },
  {
   "cell_type": "code",
   "execution_count": null,
   "id": "bbc99c75",
   "metadata": {},
   "outputs": [],
   "source": []
  },
  {
   "cell_type": "code",
   "execution_count": null,
   "id": "7fa8ac46",
   "metadata": {},
   "outputs": [],
   "source": []
  },
  {
   "cell_type": "code",
   "execution_count": null,
   "id": "1a1f8220",
   "metadata": {},
   "outputs": [],
   "source": []
  },
  {
   "cell_type": "code",
   "execution_count": null,
   "id": "19966f15",
   "metadata": {},
   "outputs": [],
   "source": []
  },
  {
   "cell_type": "code",
   "execution_count": 1,
   "id": "eb069784",
   "metadata": {
    "ExecuteTime": {
     "end_time": "2022-03-11T22:58:26.323231Z",
     "start_time": "2022-03-11T22:58:05.401225Z"
    }
   },
   "outputs": [],
   "source": [
    "import numpy as np\n",
    "import pylab as pl\n",
    "import pandas as pd\n",
    "import matplotlib.pyplot as plt \n",
    "%matplotlib inline\n",
    "import seaborn as sns\n",
    "from sklearn.utils import shuffle\n",
    "from sklearn.svm import SVC\n",
    "from sklearn.metrics import confusion_matrix,classification_report\n",
    "from sklearn.model_selection import cross_val_score, GridSearchCV\n",
    "\n",
    "from sklearn.preprocessing import LabelEncoder, OneHotEncoder\n",
    "from sklearn.impute import KNNImputer\n",
    "from sklearn.metrics import roc_auc_score, roc_curve, accuracy_score, confusion_matrix, log_loss, plot_roc_curve, auc, precision_recall_curve\n",
    "from sklearn.cluster import KMeans\n",
    "from sklearn.model_selection import StratifiedKFold \n",
    "from sklearn.svm import SVC\n",
    "from sklearn.linear_model import LogisticRegression\n",
    "from sklearn.gaussian_process import GaussianProcessClassifier\n",
    "from sklearn.ensemble import RandomForestClassifier\n",
    "%matplotlib inline\n",
    "from xgboost import XGBClassifier\n",
    "from functools import partial"
   ]
  },
  {
   "cell_type": "markdown",
   "id": "5f18d8f2",
   "metadata": {},
   "source": [
    "### Load the training and testing dataset provided with this lab and join the Kaggle competition. (1 point)"
   ]
  },
  {
   "cell_type": "code",
   "execution_count": 15,
   "id": "26157ec0",
   "metadata": {
    "ExecuteTime": {
     "end_time": "2022-03-11T22:58:44.757677Z",
     "start_time": "2022-03-11T22:58:44.699793Z"
    }
   },
   "outputs": [
    {
     "data": {
      "text/html": [
       "<div>\n",
       "<style scoped>\n",
       "    .dataframe tbody tr th:only-of-type {\n",
       "        vertical-align: middle;\n",
       "    }\n",
       "\n",
       "    .dataframe tbody tr th {\n",
       "        vertical-align: top;\n",
       "    }\n",
       "\n",
       "    .dataframe thead th {\n",
       "        text-align: right;\n",
       "    }\n",
       "</style>\n",
       "<table border=\"1\" class=\"dataframe\">\n",
       "  <thead>\n",
       "    <tr style=\"text-align: right;\">\n",
       "      <th></th>\n",
       "      <th>index</th>\n",
       "      <th>city</th>\n",
       "      <th>city_development_index</th>\n",
       "      <th>gender</th>\n",
       "      <th>relevent_experience</th>\n",
       "      <th>enrolled_university</th>\n",
       "      <th>education_level</th>\n",
       "      <th>major_discipline</th>\n",
       "      <th>experience</th>\n",
       "      <th>company_size</th>\n",
       "      <th>company_type</th>\n",
       "      <th>last_new_job</th>\n",
       "      <th>training_hours</th>\n",
       "    </tr>\n",
       "  </thead>\n",
       "  <tbody>\n",
       "    <tr>\n",
       "      <th>0</th>\n",
       "      <td>17007</td>\n",
       "      <td>city_61</td>\n",
       "      <td>0.913</td>\n",
       "      <td>Male</td>\n",
       "      <td>Has relevent experience</td>\n",
       "      <td>no_enrollment</td>\n",
       "      <td>Masters</td>\n",
       "      <td>STEM</td>\n",
       "      <td>4</td>\n",
       "      <td>100-500</td>\n",
       "      <td>NGO</td>\n",
       "      <td>1</td>\n",
       "      <td>22</td>\n",
       "    </tr>\n",
       "    <tr>\n",
       "      <th>1</th>\n",
       "      <td>631</td>\n",
       "      <td>city_94</td>\n",
       "      <td>0.698</td>\n",
       "      <td>Male</td>\n",
       "      <td>Has relevent experience</td>\n",
       "      <td>NaN</td>\n",
       "      <td>High School</td>\n",
       "      <td>NaN</td>\n",
       "      <td>3</td>\n",
       "      <td>NaN</td>\n",
       "      <td>NaN</td>\n",
       "      <td>1</td>\n",
       "      <td>22</td>\n",
       "    </tr>\n",
       "    <tr>\n",
       "      <th>2</th>\n",
       "      <td>669</td>\n",
       "      <td>city_114</td>\n",
       "      <td>0.926</td>\n",
       "      <td>NaN</td>\n",
       "      <td>Has relevent experience</td>\n",
       "      <td>Full time course</td>\n",
       "      <td>Masters</td>\n",
       "      <td>STEM</td>\n",
       "      <td>9</td>\n",
       "      <td>50-99</td>\n",
       "      <td>Pvt Ltd</td>\n",
       "      <td>1</td>\n",
       "      <td>88</td>\n",
       "    </tr>\n",
       "    <tr>\n",
       "      <th>3</th>\n",
       "      <td>8949</td>\n",
       "      <td>city_114</td>\n",
       "      <td>0.926</td>\n",
       "      <td>Male</td>\n",
       "      <td>No relevent experience</td>\n",
       "      <td>Full time course</td>\n",
       "      <td>Graduate</td>\n",
       "      <td>STEM</td>\n",
       "      <td>14</td>\n",
       "      <td>NaN</td>\n",
       "      <td>NaN</td>\n",
       "      <td>4</td>\n",
       "      <td>91</td>\n",
       "    </tr>\n",
       "    <tr>\n",
       "      <th>4</th>\n",
       "      <td>2341</td>\n",
       "      <td>city_16</td>\n",
       "      <td>0.910</td>\n",
       "      <td>NaN</td>\n",
       "      <td>Has relevent experience</td>\n",
       "      <td>no_enrollment</td>\n",
       "      <td>Graduate</td>\n",
       "      <td>STEM</td>\n",
       "      <td>1</td>\n",
       "      <td>5000-9999</td>\n",
       "      <td>Pvt Ltd</td>\n",
       "      <td>1</td>\n",
       "      <td>92</td>\n",
       "    </tr>\n",
       "  </tbody>\n",
       "</table>\n",
       "</div>"
      ],
      "text/plain": [
       "   index      city  city_development_index gender      relevent_experience  \\\n",
       "0  17007   city_61                   0.913   Male  Has relevent experience   \n",
       "1    631   city_94                   0.698   Male  Has relevent experience   \n",
       "2    669  city_114                   0.926    NaN  Has relevent experience   \n",
       "3   8949  city_114                   0.926   Male   No relevent experience   \n",
       "4   2341   city_16                   0.910    NaN  Has relevent experience   \n",
       "\n",
       "  enrolled_university education_level major_discipline experience  \\\n",
       "0       no_enrollment         Masters             STEM          4   \n",
       "1                 NaN     High School              NaN          3   \n",
       "2    Full time course         Masters             STEM          9   \n",
       "3    Full time course        Graduate             STEM         14   \n",
       "4       no_enrollment        Graduate             STEM          1   \n",
       "\n",
       "  company_size company_type last_new_job  training_hours  \n",
       "0      100-500          NGO            1              22  \n",
       "1          NaN          NaN            1              22  \n",
       "2        50-99      Pvt Ltd            1              88  \n",
       "3          NaN          NaN            4              91  \n",
       "4    5000-9999      Pvt Ltd            1              92  "
      ]
     },
     "execution_count": 15,
     "metadata": {},
     "output_type": "execute_result"
    }
   ],
   "source": [
    "df_train= pd.read_csv('D:/Masters/SJSU/Academics/sem_2/CMPE_257_ML/CMPE_257_ML_git/Assignments/lab1/Data/x_train.csv')\n",
    "df_train.head()"
   ]
  },
  {
   "cell_type": "code",
   "execution_count": 16,
   "id": "1ad92c2f",
   "metadata": {
    "ExecuteTime": {
     "end_time": "2022-03-11T22:58:45.009172Z",
     "start_time": "2022-03-11T22:58:44.990186Z"
    }
   },
   "outputs": [
    {
     "data": {
      "text/html": [
       "<div>\n",
       "<style scoped>\n",
       "    .dataframe tbody tr th:only-of-type {\n",
       "        vertical-align: middle;\n",
       "    }\n",
       "\n",
       "    .dataframe tbody tr th {\n",
       "        vertical-align: top;\n",
       "    }\n",
       "\n",
       "    .dataframe thead th {\n",
       "        text-align: right;\n",
       "    }\n",
       "</style>\n",
       "<table border=\"1\" class=\"dataframe\">\n",
       "  <thead>\n",
       "    <tr style=\"text-align: right;\">\n",
       "      <th></th>\n",
       "      <th>index</th>\n",
       "      <th>target</th>\n",
       "    </tr>\n",
       "  </thead>\n",
       "  <tbody>\n",
       "    <tr>\n",
       "      <th>0</th>\n",
       "      <td>17007</td>\n",
       "      <td>0.0</td>\n",
       "    </tr>\n",
       "    <tr>\n",
       "      <th>1</th>\n",
       "      <td>631</td>\n",
       "      <td>1.0</td>\n",
       "    </tr>\n",
       "    <tr>\n",
       "      <th>2</th>\n",
       "      <td>669</td>\n",
       "      <td>0.0</td>\n",
       "    </tr>\n",
       "    <tr>\n",
       "      <th>3</th>\n",
       "      <td>8949</td>\n",
       "      <td>0.0</td>\n",
       "    </tr>\n",
       "    <tr>\n",
       "      <th>4</th>\n",
       "      <td>2341</td>\n",
       "      <td>0.0</td>\n",
       "    </tr>\n",
       "  </tbody>\n",
       "</table>\n",
       "</div>"
      ],
      "text/plain": [
       "   index  target\n",
       "0  17007     0.0\n",
       "1    631     1.0\n",
       "2    669     0.0\n",
       "3   8949     0.0\n",
       "4   2341     0.0"
      ]
     },
     "execution_count": 16,
     "metadata": {},
     "output_type": "execute_result"
    }
   ],
   "source": [
    "df_output = pd.read_csv('D:/Masters/SJSU/Academics/sem_2/CMPE_257_ML/CMPE_257_ML_git/Assignments/lab1/Data/y_train.csv')\n",
    "df_output.head()"
   ]
  },
  {
   "cell_type": "code",
   "execution_count": 17,
   "id": "a8cb8507",
   "metadata": {
    "ExecuteTime": {
     "end_time": "2022-03-11T22:58:45.246003Z",
     "start_time": "2022-03-11T22:58:45.207100Z"
    }
   },
   "outputs": [
    {
     "data": {
      "text/html": [
       "<div>\n",
       "<style scoped>\n",
       "    .dataframe tbody tr th:only-of-type {\n",
       "        vertical-align: middle;\n",
       "    }\n",
       "\n",
       "    .dataframe tbody tr th {\n",
       "        vertical-align: top;\n",
       "    }\n",
       "\n",
       "    .dataframe thead th {\n",
       "        text-align: right;\n",
       "    }\n",
       "</style>\n",
       "<table border=\"1\" class=\"dataframe\">\n",
       "  <thead>\n",
       "    <tr style=\"text-align: right;\">\n",
       "      <th></th>\n",
       "      <th>index</th>\n",
       "      <th>city</th>\n",
       "      <th>city_development_index</th>\n",
       "      <th>gender</th>\n",
       "      <th>relevent_experience</th>\n",
       "      <th>enrolled_university</th>\n",
       "      <th>education_level</th>\n",
       "      <th>major_discipline</th>\n",
       "      <th>experience</th>\n",
       "      <th>company_size</th>\n",
       "      <th>company_type</th>\n",
       "      <th>last_new_job</th>\n",
       "      <th>training_hours</th>\n",
       "    </tr>\n",
       "  </thead>\n",
       "  <tbody>\n",
       "    <tr>\n",
       "      <th>0</th>\n",
       "      <td>16834</td>\n",
       "      <td>city_104</td>\n",
       "      <td>0.924</td>\n",
       "      <td>Male</td>\n",
       "      <td>Has relevent experience</td>\n",
       "      <td>no_enrollment</td>\n",
       "      <td>Primary School</td>\n",
       "      <td>NaN</td>\n",
       "      <td>15</td>\n",
       "      <td>100-500</td>\n",
       "      <td>Pvt Ltd</td>\n",
       "      <td>2</td>\n",
       "      <td>58</td>\n",
       "    </tr>\n",
       "    <tr>\n",
       "      <th>1</th>\n",
       "      <td>15437</td>\n",
       "      <td>city_114</td>\n",
       "      <td>0.926</td>\n",
       "      <td>Male</td>\n",
       "      <td>No relevent experience</td>\n",
       "      <td>no_enrollment</td>\n",
       "      <td>Masters</td>\n",
       "      <td>STEM</td>\n",
       "      <td>&gt;20</td>\n",
       "      <td>10000+</td>\n",
       "      <td>Pvt Ltd</td>\n",
       "      <td>&gt;4</td>\n",
       "      <td>308</td>\n",
       "    </tr>\n",
       "    <tr>\n",
       "      <th>2</th>\n",
       "      <td>8549</td>\n",
       "      <td>city_83</td>\n",
       "      <td>0.923</td>\n",
       "      <td>Male</td>\n",
       "      <td>No relevent experience</td>\n",
       "      <td>Full time course</td>\n",
       "      <td>High School</td>\n",
       "      <td>NaN</td>\n",
       "      <td>2</td>\n",
       "      <td>NaN</td>\n",
       "      <td>NaN</td>\n",
       "      <td>never</td>\n",
       "      <td>8</td>\n",
       "    </tr>\n",
       "    <tr>\n",
       "      <th>3</th>\n",
       "      <td>7222</td>\n",
       "      <td>city_103</td>\n",
       "      <td>0.920</td>\n",
       "      <td>Male</td>\n",
       "      <td>No relevent experience</td>\n",
       "      <td>no_enrollment</td>\n",
       "      <td>Primary School</td>\n",
       "      <td>NaN</td>\n",
       "      <td>6</td>\n",
       "      <td>NaN</td>\n",
       "      <td>NaN</td>\n",
       "      <td>never</td>\n",
       "      <td>85</td>\n",
       "    </tr>\n",
       "    <tr>\n",
       "      <th>4</th>\n",
       "      <td>17054</td>\n",
       "      <td>city_103</td>\n",
       "      <td>0.920</td>\n",
       "      <td>Female</td>\n",
       "      <td>Has relevent experience</td>\n",
       "      <td>no_enrollment</td>\n",
       "      <td>Graduate</td>\n",
       "      <td>STEM</td>\n",
       "      <td>7</td>\n",
       "      <td>500-999</td>\n",
       "      <td>NaN</td>\n",
       "      <td>1</td>\n",
       "      <td>3</td>\n",
       "    </tr>\n",
       "  </tbody>\n",
       "</table>\n",
       "</div>"
      ],
      "text/plain": [
       "   index      city  city_development_index  gender      relevent_experience  \\\n",
       "0  16834  city_104                   0.924    Male  Has relevent experience   \n",
       "1  15437  city_114                   0.926    Male   No relevent experience   \n",
       "2   8549   city_83                   0.923    Male   No relevent experience   \n",
       "3   7222  city_103                   0.920    Male   No relevent experience   \n",
       "4  17054  city_103                   0.920  Female  Has relevent experience   \n",
       "\n",
       "  enrolled_university education_level major_discipline experience  \\\n",
       "0       no_enrollment  Primary School              NaN         15   \n",
       "1       no_enrollment         Masters             STEM        >20   \n",
       "2    Full time course     High School              NaN          2   \n",
       "3       no_enrollment  Primary School              NaN          6   \n",
       "4       no_enrollment        Graduate             STEM          7   \n",
       "\n",
       "  company_size company_type last_new_job  training_hours  \n",
       "0      100-500      Pvt Ltd            2              58  \n",
       "1       10000+      Pvt Ltd           >4             308  \n",
       "2          NaN          NaN        never               8  \n",
       "3          NaN          NaN        never              85  \n",
       "4      500-999          NaN            1               3  "
      ]
     },
     "execution_count": 17,
     "metadata": {},
     "output_type": "execute_result"
    }
   ],
   "source": [
    "df_test = pd.read_csv('D:/Masters/SJSU/Academics/sem_2/CMPE_257_ML/CMPE_257_ML_git/Assignments/lab1/Data/x_test.csv')\n",
    "df_test.head()"
   ]
  },
  {
   "cell_type": "code",
   "execution_count": 18,
   "id": "a71259b3",
   "metadata": {
    "ExecuteTime": {
     "end_time": "2022-03-11T22:58:45.466722Z",
     "start_time": "2022-03-11T22:58:45.434774Z"
    }
   },
   "outputs": [
    {
     "name": "stdout",
     "output_type": "stream",
     "text": [
      "<class 'pandas.core.frame.DataFrame'>\n",
      "RangeIndex: 14368 entries, 0 to 14367\n",
      "Data columns (total 13 columns):\n",
      " #   Column                  Non-Null Count  Dtype  \n",
      "---  ------                  --------------  -----  \n",
      " 0   index                   14368 non-null  int64  \n",
      " 1   city                    14368 non-null  object \n",
      " 2   city_development_index  14368 non-null  float64\n",
      " 3   gender                  10975 non-null  object \n",
      " 4   relevent_experience     14368 non-null  object \n",
      " 5   enrolled_university     14076 non-null  object \n",
      " 6   education_level         14030 non-null  object \n",
      " 7   major_discipline        12279 non-null  object \n",
      " 8   experience              14323 non-null  object \n",
      " 9   company_size            9938 non-null   object \n",
      " 10  company_type            9770 non-null   object \n",
      " 11  last_new_job            14041 non-null  object \n",
      " 12  training_hours          14368 non-null  int64  \n",
      "dtypes: float64(1), int64(2), object(10)\n",
      "memory usage: 1.4+ MB\n"
     ]
    }
   ],
   "source": [
    "df_train.info()"
   ]
  },
  {
   "cell_type": "code",
   "execution_count": 19,
   "id": "ac414892",
   "metadata": {
    "ExecuteTime": {
     "end_time": "2022-03-11T22:58:45.685302Z",
     "start_time": "2022-03-11T22:58:45.659373Z"
    }
   },
   "outputs": [
    {
     "name": "stdout",
     "output_type": "stream",
     "text": [
      "<class 'pandas.core.frame.DataFrame'>\n",
      "RangeIndex: 14368 entries, 0 to 14367\n",
      "Data columns (total 2 columns):\n",
      " #   Column  Non-Null Count  Dtype  \n",
      "---  ------  --------------  -----  \n",
      " 0   index   14368 non-null  int64  \n",
      " 1   target  14368 non-null  float64\n",
      "dtypes: float64(1), int64(1)\n",
      "memory usage: 224.6 KB\n"
     ]
    }
   ],
   "source": [
    "df_output.info()"
   ]
  },
  {
   "cell_type": "code",
   "execution_count": 20,
   "id": "893189d7",
   "metadata": {
    "ExecuteTime": {
     "end_time": "2022-03-11T22:58:46.619525Z",
     "start_time": "2022-03-11T22:58:46.585579Z"
    }
   },
   "outputs": [
    {
     "data": {
      "text/html": [
       "<div>\n",
       "<style scoped>\n",
       "    .dataframe tbody tr th:only-of-type {\n",
       "        vertical-align: middle;\n",
       "    }\n",
       "\n",
       "    .dataframe tbody tr th {\n",
       "        vertical-align: top;\n",
       "    }\n",
       "\n",
       "    .dataframe thead th {\n",
       "        text-align: right;\n",
       "    }\n",
       "</style>\n",
       "<table border=\"1\" class=\"dataframe\">\n",
       "  <thead>\n",
       "    <tr style=\"text-align: right;\">\n",
       "      <th></th>\n",
       "      <th>index</th>\n",
       "      <th>city</th>\n",
       "      <th>city_development_index</th>\n",
       "      <th>gender</th>\n",
       "      <th>relevent_experience</th>\n",
       "      <th>enrolled_university</th>\n",
       "      <th>education_level</th>\n",
       "      <th>major_discipline</th>\n",
       "      <th>experience</th>\n",
       "      <th>company_size</th>\n",
       "      <th>company_type</th>\n",
       "      <th>last_new_job</th>\n",
       "      <th>training_hours</th>\n",
       "      <th>target</th>\n",
       "    </tr>\n",
       "  </thead>\n",
       "  <tbody>\n",
       "    <tr>\n",
       "      <th>0</th>\n",
       "      <td>17007</td>\n",
       "      <td>city_61</td>\n",
       "      <td>0.913</td>\n",
       "      <td>Male</td>\n",
       "      <td>Has relevent experience</td>\n",
       "      <td>no_enrollment</td>\n",
       "      <td>Masters</td>\n",
       "      <td>STEM</td>\n",
       "      <td>4</td>\n",
       "      <td>100-500</td>\n",
       "      <td>NGO</td>\n",
       "      <td>1</td>\n",
       "      <td>22</td>\n",
       "      <td>0.0</td>\n",
       "    </tr>\n",
       "    <tr>\n",
       "      <th>1</th>\n",
       "      <td>631</td>\n",
       "      <td>city_94</td>\n",
       "      <td>0.698</td>\n",
       "      <td>Male</td>\n",
       "      <td>Has relevent experience</td>\n",
       "      <td>NaN</td>\n",
       "      <td>High School</td>\n",
       "      <td>NaN</td>\n",
       "      <td>3</td>\n",
       "      <td>NaN</td>\n",
       "      <td>NaN</td>\n",
       "      <td>1</td>\n",
       "      <td>22</td>\n",
       "      <td>1.0</td>\n",
       "    </tr>\n",
       "    <tr>\n",
       "      <th>2</th>\n",
       "      <td>669</td>\n",
       "      <td>city_114</td>\n",
       "      <td>0.926</td>\n",
       "      <td>NaN</td>\n",
       "      <td>Has relevent experience</td>\n",
       "      <td>Full time course</td>\n",
       "      <td>Masters</td>\n",
       "      <td>STEM</td>\n",
       "      <td>9</td>\n",
       "      <td>50-99</td>\n",
       "      <td>Pvt Ltd</td>\n",
       "      <td>1</td>\n",
       "      <td>88</td>\n",
       "      <td>0.0</td>\n",
       "    </tr>\n",
       "    <tr>\n",
       "      <th>3</th>\n",
       "      <td>8949</td>\n",
       "      <td>city_114</td>\n",
       "      <td>0.926</td>\n",
       "      <td>Male</td>\n",
       "      <td>No relevent experience</td>\n",
       "      <td>Full time course</td>\n",
       "      <td>Graduate</td>\n",
       "      <td>STEM</td>\n",
       "      <td>14</td>\n",
       "      <td>NaN</td>\n",
       "      <td>NaN</td>\n",
       "      <td>4</td>\n",
       "      <td>91</td>\n",
       "      <td>0.0</td>\n",
       "    </tr>\n",
       "    <tr>\n",
       "      <th>4</th>\n",
       "      <td>2341</td>\n",
       "      <td>city_16</td>\n",
       "      <td>0.910</td>\n",
       "      <td>NaN</td>\n",
       "      <td>Has relevent experience</td>\n",
       "      <td>no_enrollment</td>\n",
       "      <td>Graduate</td>\n",
       "      <td>STEM</td>\n",
       "      <td>1</td>\n",
       "      <td>5000-9999</td>\n",
       "      <td>Pvt Ltd</td>\n",
       "      <td>1</td>\n",
       "      <td>92</td>\n",
       "      <td>0.0</td>\n",
       "    </tr>\n",
       "  </tbody>\n",
       "</table>\n",
       "</div>"
      ],
      "text/plain": [
       "   index      city  city_development_index gender      relevent_experience  \\\n",
       "0  17007   city_61                   0.913   Male  Has relevent experience   \n",
       "1    631   city_94                   0.698   Male  Has relevent experience   \n",
       "2    669  city_114                   0.926    NaN  Has relevent experience   \n",
       "3   8949  city_114                   0.926   Male   No relevent experience   \n",
       "4   2341   city_16                   0.910    NaN  Has relevent experience   \n",
       "\n",
       "  enrolled_university education_level major_discipline experience  \\\n",
       "0       no_enrollment         Masters             STEM          4   \n",
       "1                 NaN     High School              NaN          3   \n",
       "2    Full time course         Masters             STEM          9   \n",
       "3    Full time course        Graduate             STEM         14   \n",
       "4       no_enrollment        Graduate             STEM          1   \n",
       "\n",
       "  company_size company_type last_new_job  training_hours  target  \n",
       "0      100-500          NGO            1              22     0.0  \n",
       "1          NaN          NaN            1              22     1.0  \n",
       "2        50-99      Pvt Ltd            1              88     0.0  \n",
       "3          NaN          NaN            4              91     0.0  \n",
       "4    5000-9999      Pvt Ltd            1              92     0.0  "
      ]
     },
     "execution_count": 20,
     "metadata": {},
     "output_type": "execute_result"
    }
   ],
   "source": [
    "merged_df = df_train.merge(df_output, on='index')\n",
    "merged_df.head()"
   ]
  },
  {
   "cell_type": "code",
   "execution_count": 21,
   "id": "d4d83bf2",
   "metadata": {
    "ExecuteTime": {
     "end_time": "2022-03-11T22:58:47.209457Z",
     "start_time": "2022-03-11T22:58:47.193499Z"
    }
   },
   "outputs": [
    {
     "data": {
      "text/plain": [
       "(14368, 14)"
      ]
     },
     "execution_count": 21,
     "metadata": {},
     "output_type": "execute_result"
    }
   ],
   "source": [
    "merged_df.shape"
   ]
  },
  {
   "cell_type": "markdown",
   "id": "22f1057f",
   "metadata": {},
   "source": [
    "### Explain in your own words what is NOIR classification of data. (2 points)"
   ]
  },
  {
   "cell_type": "markdown",
   "id": "5893931d",
   "metadata": {},
   "source": [
    "**Nominal**\n",
    "\n",
    "+ Basically refers to categorically discrete data such as name of your school, type of car you drive or name of a book. \n",
    "\n",
    "**Ordinal**\n",
    "\n",
    "+ Ordinal refers to quantities that have a natural ordering. The ranking of favorite sports, the order of people's place in a line, the order of runners finishing a race or more often the choice on a rating scale from 1 to 5. With ordinal data you cannot state with certainty whether the intervals between each value are equal. For example, we often using rating scales (Likert questions). On a 10 point scale, the difference between a 9 and a 10 is not necessarily the same difference as the difference between a 6 and a 7. This is also an easy one to remember, ordinal sounds like order.\n",
    "\n",
    "**Interval**\n",
    "\n",
    "+ Interval data is like ordinal except we can say the intervals between each value are equally split. The most common example is temperature in degrees Fahrenheit. The difference between 29 and 30 degrees is the same magnitude as the difference between 78 and 79. With attitudinal scales and the Like questions you usually see on a survey, these are rarely interval, although many points on the scale likely are of equal intervals.\n",
    "\n",
    "**Ratio**\n",
    "\n",
    "+ Ratio data is interval data with a natural zero point. For example, time is ratio since 0 time is meaningful. Degrees Kelvin has a 0 point (absolute 0) and the steps in both these scales have the same degree of magnitude."
   ]
  },
  {
   "cell_type": "markdown",
   "id": "4238e6be",
   "metadata": {},
   "source": [
    "### Classify the given dataset features into NOIR categories. (2 points)"
   ]
  },
  {
   "cell_type": "code",
   "execution_count": null,
   "id": "326329d1",
   "metadata": {},
   "outputs": [],
   "source": []
  },
  {
   "cell_type": "markdown",
   "id": "4f9627d6",
   "metadata": {},
   "source": [
    "### Summarize the dataset: (10 points)\n",
    "#### a. Number of columns and rows present (1 point)\n"
   ]
  },
  {
   "cell_type": "code",
   "execution_count": 22,
   "id": "f05db510",
   "metadata": {
    "ExecuteTime": {
     "end_time": "2022-03-11T22:58:49.388490Z",
     "start_time": "2022-03-11T22:58:49.381481Z"
    }
   },
   "outputs": [
    {
     "name": "stdout",
     "output_type": "stream",
     "text": [
      "Train data shape:  (14368, 13)\n",
      "Output label shape: (14368, 2)\n",
      "Test data shape:  (4790, 13)\n"
     ]
    }
   ],
   "source": [
    "print(\"Train data shape: \", df_train.shape)\n",
    "\n",
    "print(\"Output label shape:\", df_output.shape)\n",
    "\n",
    "print(\"Test data shape: \", df_test.shape)"
   ]
  },
  {
   "cell_type": "markdown",
   "id": "a5d7e122",
   "metadata": {},
   "source": [
    "#### b. Min, max, avg, std dev etc. stats for continuous features (hint: use pandas describe function) (1 point)\n"
   ]
  },
  {
   "cell_type": "code",
   "execution_count": 23,
   "id": "7cc84db8",
   "metadata": {
    "ExecuteTime": {
     "end_time": "2022-03-11T22:58:50.557512Z",
     "start_time": "2022-03-11T22:58:50.529587Z"
    }
   },
   "outputs": [
    {
     "data": {
      "text/html": [
       "<div>\n",
       "<style scoped>\n",
       "    .dataframe tbody tr th:only-of-type {\n",
       "        vertical-align: middle;\n",
       "    }\n",
       "\n",
       "    .dataframe tbody tr th {\n",
       "        vertical-align: top;\n",
       "    }\n",
       "\n",
       "    .dataframe thead th {\n",
       "        text-align: right;\n",
       "    }\n",
       "</style>\n",
       "<table border=\"1\" class=\"dataframe\">\n",
       "  <thead>\n",
       "    <tr style=\"text-align: right;\">\n",
       "      <th></th>\n",
       "      <th>index</th>\n",
       "      <th>city_development_index</th>\n",
       "      <th>training_hours</th>\n",
       "    </tr>\n",
       "  </thead>\n",
       "  <tbody>\n",
       "    <tr>\n",
       "      <th>count</th>\n",
       "      <td>14368.000000</td>\n",
       "      <td>14368.000000</td>\n",
       "      <td>14368.000000</td>\n",
       "    </tr>\n",
       "    <tr>\n",
       "      <th>mean</th>\n",
       "      <td>9634.231765</td>\n",
       "      <td>0.828252</td>\n",
       "      <td>65.396645</td>\n",
       "    </tr>\n",
       "    <tr>\n",
       "      <th>std</th>\n",
       "      <td>5522.764568</td>\n",
       "      <td>0.123419</td>\n",
       "      <td>60.277583</td>\n",
       "    </tr>\n",
       "    <tr>\n",
       "      <th>min</th>\n",
       "      <td>0.000000</td>\n",
       "      <td>0.448000</td>\n",
       "      <td>1.000000</td>\n",
       "    </tr>\n",
       "    <tr>\n",
       "      <th>25%</th>\n",
       "      <td>4840.750000</td>\n",
       "      <td>0.738000</td>\n",
       "      <td>23.000000</td>\n",
       "    </tr>\n",
       "    <tr>\n",
       "      <th>50%</th>\n",
       "      <td>9693.500000</td>\n",
       "      <td>0.899000</td>\n",
       "      <td>47.000000</td>\n",
       "    </tr>\n",
       "    <tr>\n",
       "      <th>75%</th>\n",
       "      <td>14405.250000</td>\n",
       "      <td>0.920000</td>\n",
       "      <td>88.000000</td>\n",
       "    </tr>\n",
       "    <tr>\n",
       "      <th>max</th>\n",
       "      <td>19157.000000</td>\n",
       "      <td>0.949000</td>\n",
       "      <td>336.000000</td>\n",
       "    </tr>\n",
       "  </tbody>\n",
       "</table>\n",
       "</div>"
      ],
      "text/plain": [
       "              index  city_development_index  training_hours\n",
       "count  14368.000000            14368.000000    14368.000000\n",
       "mean    9634.231765                0.828252       65.396645\n",
       "std     5522.764568                0.123419       60.277583\n",
       "min        0.000000                0.448000        1.000000\n",
       "25%     4840.750000                0.738000       23.000000\n",
       "50%     9693.500000                0.899000       47.000000\n",
       "75%    14405.250000                0.920000       88.000000\n",
       "max    19157.000000                0.949000      336.000000"
      ]
     },
     "execution_count": 23,
     "metadata": {},
     "output_type": "execute_result"
    }
   ],
   "source": [
    "df_train.describe()"
   ]
  },
  {
   "cell_type": "markdown",
   "id": "508ba5fe",
   "metadata": {
    "ExecuteTime": {
     "end_time": "2022-03-11T22:58:51.060024Z",
     "start_time": "2022-03-11T22:58:51.046061Z"
    }
   },
   "source": [
    "c. Number of unique values for categorical features (1 point)\n"
   ]
  },
  {
   "cell_type": "code",
   "execution_count": 25,
   "id": "544bba61",
   "metadata": {
    "ExecuteTime": {
     "end_time": "2022-03-11T22:58:58.975611Z",
     "start_time": "2022-03-11T22:58:58.930697Z"
    }
   },
   "outputs": [
    {
     "name": "stdout",
     "output_type": "stream",
     "text": [
      "city_103    3229\n",
      "city_21     2043\n",
      "city_16     1139\n",
      "city_114     989\n",
      "city_160     629\n",
      "            ... \n",
      "city_8         3\n",
      "city_129       2\n",
      "city_166       2\n",
      "city_140       1\n",
      "city_171       1\n",
      "Name: city, Length: 123, dtype: int64\n",
      "Male      9914\n",
      "Female     914\n",
      "Other      147\n",
      "Name: gender, dtype: int64\n",
      "Has relevent experience    10385\n",
      "No relevent experience      3983\n",
      "Name: relevent_experience, dtype: int64\n",
      "no_enrollment       10366\n",
      "Full time course     2810\n",
      "Part time course      900\n",
      "Name: enrolled_university, dtype: int64\n",
      "Graduate          8679\n",
      "Masters           3311\n",
      "High School       1505\n",
      "Phd                310\n",
      "Primary School     225\n",
      "Name: education_level, dtype: int64\n",
      "STEM               10925\n",
      "Humanities           493\n",
      "Other                268\n",
      "Business Degree      226\n",
      "Arts                 195\n",
      "No Major             172\n",
      "Name: major_discipline, dtype: int64\n",
      ">20    2425\n",
      "5      1103\n",
      "4      1035\n",
      "3      1021\n",
      "6       935\n",
      "2       832\n",
      "7       786\n",
      "9       748\n",
      "10      732\n",
      "8       605\n",
      "15      509\n",
      "11      505\n",
      "14      438\n",
      "1       405\n",
      "16      397\n",
      "<1      378\n",
      "12      371\n",
      "13      297\n",
      "17      262\n",
      "19      228\n",
      "18      205\n",
      "20      106\n",
      "Name: experience, dtype: int64\n",
      "50-99        2301\n",
      "100-500      1969\n",
      "10000+       1494\n",
      "10/49        1105\n",
      "1000-4999     992\n",
      "<10           977\n",
      "500-999       664\n",
      "5000-9999     436\n",
      "Name: company_size, dtype: int64\n",
      "Pvt Ltd                7410\n",
      "Funded Startup          772\n",
      "Public Sector           698\n",
      "Early Stage Startup     428\n",
      "NGO                     380\n",
      "Other                    82\n",
      "Name: company_type, dtype: int64\n",
      "1        6020\n",
      ">4       2459\n",
      "2        2211\n",
      "never    1816\n",
      "4         774\n",
      "3         761\n",
      "Name: last_new_job, dtype: int64\n"
     ]
    }
   ],
   "source": [
    "df_select_dtypes = df_train.select_dtypes(exclude=['int64', 'float64'])\n",
    "for col in df_select_dtypes.columns:\n",
    "    print(df_select_dtypes[col].value_counts()) # to print count of every category"
   ]
  },
  {
   "cell_type": "markdown",
   "id": "323fea15",
   "metadata": {},
   "source": [
    "#### d. Number of nulls and Nans in each column (1 point)\n"
   ]
  },
  {
   "cell_type": "code",
   "execution_count": 26,
   "id": "235b26f9",
   "metadata": {
    "ExecuteTime": {
     "end_time": "2022-03-11T22:58:59.820011Z",
     "start_time": "2022-03-11T22:58:59.795051Z"
    }
   },
   "outputs": [
    {
     "data": {
      "text/plain": [
       "index                        0\n",
       "city                         0\n",
       "city_development_index       0\n",
       "gender                    3393\n",
       "relevent_experience          0\n",
       "enrolled_university        292\n",
       "education_level            338\n",
       "major_discipline          2089\n",
       "experience                  45\n",
       "company_size              4430\n",
       "company_type              4598\n",
       "last_new_job               327\n",
       "training_hours               0\n",
       "dtype: int64"
      ]
     },
     "execution_count": 26,
     "metadata": {},
     "output_type": "execute_result"
    }
   ],
   "source": [
    "df_train.isna().sum()"
   ]
  },
  {
   "cell_type": "markdown",
   "id": "f9c2825e",
   "metadata": {},
   "source": [
    "### e. Visualize distribution of each feature using graphs (6 points)"
   ]
  },
  {
   "cell_type": "code",
   "execution_count": 27,
   "id": "5db8417e",
   "metadata": {
    "ExecuteTime": {
     "end_time": "2022-03-11T22:59:03.585006Z",
     "start_time": "2022-03-11T22:59:00.738125Z"
    }
   },
   "outputs": [
    {
     "data": {
      "text/plain": [
       "<seaborn.axisgrid.PairGrid at 0x273f7fd1148>"
      ]
     },
     "execution_count": 27,
     "metadata": {},
     "output_type": "execute_result"
    },
    {
     "data": {
      "image/png": "[encoded data removed]",
      "text/plain": [
       "<Figure size 720x720 with 20 Axes>"
      ]
     },
     "metadata": {
      "needs_background": "light"
     },
     "output_type": "display_data"
    }
   ],
   "source": [
    "sns.pairplot(merged_df)"
   ]
  },
  {
   "cell_type": "code",
   "execution_count": 32,
   "id": "154ec441",
   "metadata": {
    "ExecuteTime": {
     "end_time": "2022-03-11T23:01:17.054997Z",
     "start_time": "2022-03-11T23:01:10.563267Z"
    }
   },
   "outputs": [
    {
     "data": {
      "image/png": "[encoded data removed]",
      "text/plain": [
       "<Figure size 1296x1224 with 8 Axes>"
      ]
     },
     "metadata": {
      "needs_background": "light"
     },
     "output_type": "display_data"
    }
   ],
   "source": [
    "#barplots showing the frequency of each category separated by label\n",
    "plt.figure(figsize=[18,17])\n",
    "category_df=merged_df[[\"relevent_experience\", \"education_level\",\"major_discipline\", \"experience\",\"company_size\",\"company_type\", \"training_hours\", \"target\"]]\n",
    "n=1\n",
    "for f in category_df:\n",
    "    plt.subplot(4,2,n)\n",
    "    sns.countplot(x=f, hue='education_level', edgecolor=\"black\", alpha=0.7, data=merged_df)\n",
    "    sns.despine()\n",
    "    plt.title(\"Countplot of {}  by education_level\".format(f))\n",
    "    n=n+1\n",
    "plt.tight_layout()\n",
    "plt.show()\n",
    "\n",
    "\n",
    "\n"
   ]
  },
  {
   "cell_type": "code",
   "execution_count": 33,
   "id": "252f73d1",
   "metadata": {
    "ExecuteTime": {
     "end_time": "2022-03-11T23:01:24.904816Z",
     "start_time": "2022-03-11T23:01:24.476197Z"
    }
   },
   "outputs": [
    {
     "data": {
      "image/png": "[encoded data removed]",
      "text/plain": [
       "<Figure size 1080x288 with 1 Axes>"
      ]
     },
     "metadata": {
      "needs_background": "light"
     },
     "output_type": "display_data"
    }
   ],
   "source": [
    "plt.figure(figsize=[15,4])\n",
    "sns.countplot(x='experience', hue='education_level',edgecolor=\"black\", alpha=0.7, data=merged_df)\n",
    "sns.despine()\n",
    "plt.title(\"Countplot of experience by education_level\")\n",
    "plt.show()"
   ]
  },
  {
   "cell_type": "markdown",
   "id": "67500248",
   "metadata": {},
   "source": [
    "**Target**\n",
    "\n",
    "+ 0 – Not looking for job change\n",
    "\n",
    "+ 1 – Looking for a job change\n"
   ]
  },
  {
   "cell_type": "code",
   "execution_count": 34,
   "id": "5f3344e9",
   "metadata": {
    "ExecuteTime": {
     "end_time": "2022-03-11T23:01:29.292348Z",
     "start_time": "2022-03-11T23:01:29.189693Z"
    }
   },
   "outputs": [
    {
     "name": "stderr",
     "output_type": "stream",
     "text": [
      "D:\\IDEs\\Anaconda\\lib\\site-packages\\seaborn\\_decorators.py:43: FutureWarning: Pass the following variables as keyword args: x, y. From version 0.12, the only valid positional argument will be `data`, and passing other arguments without an explicit keyword will result in an error or misinterpretation.\n",
      "  FutureWarning\n"
     ]
    },
    {
     "data": {
      "image/png": "[encoded data removed]",
      "text/plain": [
       "<Figure size 576x432 with 1 Axes>"
      ]
     },
     "metadata": {
      "needs_background": "light"
     },
     "output_type": "display_data"
    }
   ],
   "source": [
    "target_plot = merged_df['target'].value_counts()  \n",
    "plt.figure(figsize=(8,6))\n",
    "sns.barplot(target_plot.index, target_plot.values, alpha=0.8)\n",
    "plt.ylabel('Number of Data Points', fontsize=12)\n",
    "plt.xlabel('target', fontsize=9)\n",
    "plt.xticks(rotation=90)\n",
    "plt.show();"
   ]
  },
  {
   "cell_type": "markdown",
   "id": "ec24ecc7",
   "metadata": {},
   "source": [
    "**Observation:**\n",
    "\n",
    "+ we have imbalanced data, the number of 1 ( Looking for a job change) < 0 (Not looking for job change)"
   ]
  },
  {
   "cell_type": "markdown",
   "id": "c0134ace",
   "metadata": {},
   "source": [
    "**Education Level**\n",
    "\n",
    "+ This dataset contains 5 education level:\n",
    "\n",
    "    + Graduate\n",
    "    + Masters\n",
    "    + High School\n",
    "    + PhD\n",
    "    + Primary School"
   ]
  },
  {
   "cell_type": "code",
   "execution_count": 35,
   "id": "d684771d",
   "metadata": {
    "ExecuteTime": {
     "end_time": "2022-03-11T23:01:40.505337Z",
     "start_time": "2022-03-11T23:01:40.389402Z"
    }
   },
   "outputs": [
    {
     "name": "stderr",
     "output_type": "stream",
     "text": [
      "D:\\IDEs\\Anaconda\\lib\\site-packages\\seaborn\\_decorators.py:43: FutureWarning: Pass the following variables as keyword args: x, y. From version 0.12, the only valid positional argument will be `data`, and passing other arguments without an explicit keyword will result in an error or misinterpretation.\n",
      "  FutureWarning\n"
     ]
    },
    {
     "data": {
      "image/png": "[encoded data removed]",
      "text/plain": [
       "<Figure size 432x288 with 1 Axes>"
      ]
     },
     "metadata": {
      "needs_background": "light"
     },
     "output_type": "display_data"
    }
   ],
   "source": [
    "edu_level = merged_df['education_level'].value_counts()  \n",
    "plt.figure(figsize=(6,4))\n",
    "sns.barplot(edu_level.index, edu_level.values, alpha=0.8)\n",
    "plt.ylabel('Number of Data', fontsize=12)\n",
    "plt.xlabel('education_level', fontsize=9)\n",
    "plt.xticks(rotation=90)\n",
    "plt.show();"
   ]
  },
  {
   "cell_type": "code",
   "execution_count": 36,
   "id": "3134f472",
   "metadata": {
    "ExecuteTime": {
     "end_time": "2022-03-11T23:01:46.473809Z",
     "start_time": "2022-03-11T23:01:45.641575Z"
    }
   },
   "outputs": [
    {
     "name": "stderr",
     "output_type": "stream",
     "text": [
      "D:\\IDEs\\Anaconda\\lib\\site-packages\\seaborn\\distributions.py:2619: FutureWarning: `distplot` is a deprecated function and will be removed in a future version. Please adapt your code to use either `displot` (a figure-level function with similar flexibility) or `histplot` (an axes-level function for histograms).\n",
      "  warnings.warn(msg, FutureWarning)\n"
     ]
    },
    {
     "data": {
      "text/plain": [
       "Text(0.5, 1.0, 'Distributional of city_development_index')"
      ]
     },
     "execution_count": 36,
     "metadata": {},
     "output_type": "execute_result"
    },
    {
     "data": {
      "image/png": "[encoded data removed]",
      "text/plain": [
       "<Figure size 1152x360 with 1 Axes>"
      ]
     },
     "metadata": {
      "needs_background": "light"
     },
     "output_type": "display_data"
    }
   ],
   "source": [
    "f, axes = plt.subplots(1,1, figsize = (16, 5))\n",
    "g1 = sns.distplot(merged_df[\"city_development_index\"], color=\"red\",ax = axes)\n",
    "plt.title(\"Distributional of city_development_index\")"
   ]
  },
  {
   "cell_type": "code",
   "execution_count": null,
   "id": "c5a5c8f8",
   "metadata": {},
   "outputs": [],
   "source": []
  },
  {
   "cell_type": "code",
   "execution_count": null,
   "id": "c977d1b1",
   "metadata": {},
   "outputs": [],
   "source": []
  },
  {
   "cell_type": "code",
   "execution_count": null,
   "id": "d632a596",
   "metadata": {},
   "outputs": [],
   "source": []
  },
  {
   "cell_type": "code",
   "execution_count": null,
   "id": "32377292",
   "metadata": {},
   "outputs": [],
   "source": []
  },
  {
   "cell_type": "code",
   "execution_count": null,
   "id": "7561171d",
   "metadata": {},
   "outputs": [],
   "source": []
  },
  {
   "cell_type": "code",
   "execution_count": null,
   "id": "462e4d87",
   "metadata": {},
   "outputs": [],
   "source": []
  },
  {
   "cell_type": "code",
   "execution_count": null,
   "id": "bd7234e7",
   "metadata": {},
   "outputs": [],
   "source": []
  },
  {
   "cell_type": "code",
   "execution_count": null,
   "id": "40fb7d9e",
   "metadata": {},
   "outputs": [],
   "source": []
  },
  {
   "cell_type": "code",
   "execution_count": null,
   "id": "46093d76",
   "metadata": {},
   "outputs": [],
   "source": []
  },
  {
   "cell_type": "code",
   "execution_count": null,
   "id": "befe752c",
   "metadata": {},
   "outputs": [],
   "source": []
  },
  {
   "cell_type": "code",
   "execution_count": null,
   "id": "88a75c42",
   "metadata": {},
   "outputs": [],
   "source": []
  },
  {
   "cell_type": "code",
   "execution_count": null,
   "id": "46460a1d",
   "metadata": {},
   "outputs": [],
   "source": []
  },
  {
   "cell_type": "code",
   "execution_count": null,
   "id": "0747b0be",
   "metadata": {},
   "outputs": [],
   "source": []
  },
  {
   "cell_type": "code",
   "execution_count": null,
   "id": "befc9b4d",
   "metadata": {},
   "outputs": [],
   "source": []
  },
  {
   "cell_type": "code",
   "execution_count": null,
   "id": "7c117467",
   "metadata": {},
   "outputs": [],
   "source": []
  },
  {
   "cell_type": "code",
   "execution_count": null,
   "id": "0a2aedff",
   "metadata": {},
   "outputs": [],
   "source": []
  },
  {
   "cell_type": "code",
   "execution_count": null,
   "id": "680c8429",
   "metadata": {},
   "outputs": [],
   "source": []
  },
  {
   "cell_type": "code",
   "execution_count": null,
   "id": "2ac781b6",
   "metadata": {},
   "outputs": [],
   "source": []
  },
  {
   "cell_type": "code",
   "execution_count": null,
   "id": "a09674d3",
   "metadata": {},
   "outputs": [],
   "source": []
  },
  {
   "cell_type": "code",
   "execution_count": null,
   "id": "5bd6bd05",
   "metadata": {},
   "outputs": [],
   "source": []
  },
  {
   "cell_type": "code",
   "execution_count": null,
   "id": "9009c990",
   "metadata": {},
   "outputs": [],
   "source": []
  },
  {
   "cell_type": "code",
   "execution_count": null,
   "id": "ece4ceb3",
   "metadata": {},
   "outputs": [],
   "source": []
  },
  {
   "cell_type": "code",
   "execution_count": null,
   "id": "e8bc88e3",
   "metadata": {},
   "outputs": [],
   "source": []
  },
  {
   "cell_type": "code",
   "execution_count": 37,
   "id": "10171c4e",
   "metadata": {
    "ExecuteTime": {
     "end_time": "2022-03-11T23:01:53.530886Z",
     "start_time": "2022-03-11T23:01:53.494948Z"
    }
   },
   "outputs": [],
   "source": [
    "# Creating a function that converts all values of , ['gender'], ['relevent_experience'] , ['enrolled_university'],\n",
    "# , ['education_level'], ['major_discipline'], ['experience'], ['company_type'],  ['company_size']\n",
    "# , ['last_new_job'], ['city'] into numbers\n",
    "\n",
    "def gender_to_numeric(x):\n",
    "    if x=='Female': return 2\n",
    "    if x=='Male':   return 1\n",
    "    if x=='Other':   return 0\n",
    "    \n",
    "def rel_experience(x):\n",
    "    if x=='Has relevent experience': return 1\n",
    "    if x=='No relevent experience':   return 0\n",
    "    \n",
    "def enrollment(x):\n",
    "    if x=='no_enrollment'   : return 0\n",
    "    if x=='Full time course':   return 1 \n",
    "    if x=='Part time course':   return 2 \n",
    "    \n",
    "    \n",
    "def edu_level(x):\n",
    "    if x=='Graduate'       :   return 0\n",
    "    if x=='Masters'        :   return 1 \n",
    "    if x=='High School'    :   return 2 \n",
    "    if x=='Phd'            :   return 3 \n",
    "    if x=='Primary School' :   return 4 \n",
    "    \n",
    "def major(x):\n",
    "    if x=='STEM'                   :   return 0\n",
    "    if x=='Business Degree'        :   return 1 \n",
    "    if x=='Arts'                   :   return 2 \n",
    "    if x=='Humanities'             :   return 3 \n",
    "    if x=='No Major'               :   return 4 \n",
    "    if x=='Other'                  :   return 5 \n",
    "    \n",
    "    \n",
    "def experience(x):\n",
    "    if x=='<1'      :   return 0\n",
    "    if x=='1'       :   return 1 \n",
    "    if x=='2'       :   return 2 \n",
    "    if x=='3'       :   return 3 \n",
    "    if x=='4'       :   return 4 \n",
    "    if x=='5'       :   return 5\n",
    "    if x=='6'       :   return 6\n",
    "    if x=='7'       :   return 7\n",
    "    if x=='8'       :   return 8 \n",
    "    if x=='9'       :   return 9 \n",
    "    if x=='10'      :   return 10 \n",
    "    if x=='11'      :   return 11\n",
    "    if x=='12'      :   return 12\n",
    "    if x=='13'      :   return 13 \n",
    "    if x=='14'      :   return 14 \n",
    "    if x=='15'      :   return 15 \n",
    "    if x=='16'      :   return 16\n",
    "    if x=='17'      :   return 17\n",
    "    if x=='18'      :   return 18\n",
    "    if x=='19'      :   return 19 \n",
    "    if x=='20'      :   return 20 \n",
    "    if x=='>20'     :   return 21 \n",
    "    \n",
    "def company_t(x):\n",
    "    if x=='Pvt Ltd'               :   return 0\n",
    "    if x=='Funded Startup'        :   return 1 \n",
    "    if x=='Early Stage Startup'   :   return 2 \n",
    "    if x=='Other'                 :   return 3 \n",
    "    if x=='Public Sector'         :   return 4 \n",
    "    if x=='NGO'                   :   return 5 \n",
    "    \n",
    "def company_s(x):\n",
    "    if x=='<10'          :   return 0\n",
    "    if x=='10/49'        :   return 1 \n",
    "    if x=='100-500'      :   return 2 \n",
    "    if x=='1000-4999'    :   return 3 \n",
    "    if x=='10000+'       :   return 4 \n",
    "    if x=='50-99'        :   return 5 \n",
    "    if x=='500-999'      :   return 6 \n",
    "    if x=='5000-9999'    :   return 7\n",
    "    \n",
    "\n",
    "def last_job(x):\n",
    "    if x=='never'        :   return 0\n",
    "    if x=='1'            :   return 1 \n",
    "    if x=='2'            :   return 2 \n",
    "    if x=='3'            :   return 3 \n",
    "    if x=='4'            :   return 4 \n",
    "    if x=='>4'           :   return 5 \n",
    "    \n",
    "def city(x):\n",
    "    if x=='city_103'         : return  0\n",
    "    if x=='city_40'          : return  1\n",
    "    if x=='city_21'          : return  2\n",
    "    if x=='city_115'         : return  3\n",
    "    if x=='city_162'         : return  4\n",
    "    if x=='city_176'         : return  5\n",
    "    if x=='city_160'         : return  6\n",
    "    if x=='city_46'          : return  7\n",
    "    if x=='city_61'          : return  8\n",
    "    if x=='city_114'         : return  9\n",
    "    if x=='city_13'          : return  10\n",
    "    if x=='city_159'         : return  11\n",
    "    if x=='city_102'         : return  12\n",
    "    if x=='city_67'          : return  13\n",
    "    if x=='city_100'         : return  14\n",
    "    if x=='city_16'          : return  15\n",
    "    if x=='city_71'          : return  16\n",
    "    if x=='city_104'         : return  17\n",
    "    if x=='city_64'          : return  18\n",
    "    if x=='city_101'         : return  19\n",
    "    if x=='city_83'          : return  20\n",
    "    if x=='city_105'         : return  21\n",
    "    if x=='city_73'          : return  22\n",
    "    if x=='city_75'          : return  23\n",
    "    if x=='city_41'          : return  24\n",
    "    if x=='city_11'          : return  25\n",
    "    if x=='city_93'          : return  26\n",
    "    if x=='city_90'          : return  27\n",
    "    if x=='city_36'          : return  28\n",
    "    if x=='city_20'          : return  29\n",
    "    if x=='city_57'          : return  30\n",
    "    if x=='city_152'         : return  31\n",
    "    if x=='city_19'          : return  32\n",
    "    if x=='city_65'          : return  33\n",
    "    if x=='city_74'          : return  34\n",
    "    if x=='city_173'         : return  35\n",
    "    if x=='city_136'         : return  36\n",
    "    if x=='city_98'          : return  37\n",
    "    if x=='city_97'          : return  38\n",
    "    if x=='city_50'          : return  39\n",
    "    if x=='city_138'         : return  40\n",
    "    if x=='city_82'          : return  41\n",
    "    if x=='city_157'         : return  42\n",
    "    if x=='city_89'          : return  43\n",
    "    if x=='city_150'         : return  44\n",
    "    if x=='city_70'          : return  45\n",
    "    if x=='city_175'         : return  46\n",
    "    if x=='city_94'          : return  47\n",
    "    if x=='city_28'          : return  48\n",
    "    if x=='city_59'          : return  49\n",
    "    if x=='city_165'         : return  50\n",
    "    if x=='city_145'         : return  51\n",
    "    if x=='city_142'         : return  52\n",
    "    if x=='city_26'          : return  53\n",
    "    if x=='city_12'          : return  54\n",
    "    if x=='city_37'          : return  55\n",
    "    if x=='city_43'          : return  56\n",
    "    if x=='city_116'         : return  57\n",
    "    if x=='city_23'          : return  58\n",
    "    if x=='city_99'          : return  59\n",
    "    if x=='city_149'         : return  60\n",
    "    if x=='city_10'          : return  61\n",
    "    if x=='city_45'          : return  62\n",
    "    if x=='city_80'          : return  63\n",
    "    if x=='city_128'         : return  64\n",
    "    if x=='city_158'         : return  65\n",
    "    if x=='city_123'         : return  66\n",
    "    if x=='city_7'           : return  67\n",
    "    if x=='city_72'          : return  68\n",
    "    if x=='city_106'         : return  69\n",
    "    if x=='city_143'         : return  70\n",
    "    if x=='city_78'          : return  71\n",
    "    if x=='city_109'         : return  72\n",
    "    if x=='city_24'          : return  73\n",
    "    if x=='city_134'         : return  74\n",
    "    if x=='city_48'          : return  75\n",
    "    if x=='city_144'         : return  76\n",
    "    if x=='city_91'          : return  77\n",
    "    if x=='city_146'         : return  78\n",
    "    if x=='city_133'         : return  79\n",
    "    if x=='city_126'         : return  80\n",
    "    if x=='city_118'         : return  81\n",
    "    if x=='city_9'           : return  82\n",
    "    if x=='city_167'         : return  83\n",
    "    if x=='city_27'          : return  84\n",
    "    if x=='city_84'          : return  85\n",
    "    if x=='city_54'          : return  86\n",
    "    if x=='city_39'          : return  87\n",
    "    if x=='city_79'          : return  88\n",
    "    if x=='city_76'          : return  89\n",
    "    if x=='city_77'          : return  90\n",
    "    if x=='city_81'          : return  91\n",
    "    if x=='city_131'         : return  92\n",
    "    if x=='city_44'          : return  93\n",
    "    if x=='city_117'         : return  94\n",
    "    if x=='city_155'         : return  95\n",
    "    if x=='city_33'          : return  96\n",
    "    if x=='city_141'         : return  97\n",
    "    if x=='city_127'         : return  98\n",
    "    if x=='city_62'          : return  99\n",
    "    if x=='city_53'          : return  100\n",
    "    if x=='city_25'          : return  101\n",
    "    if x=='city_2'           : return  102\n",
    "    if x=='city_69'          : return  103\n",
    "    if x=='city_120'         : return  104\n",
    "    if x=='city_111'         : return  105\n",
    "    if x=='city_30'          : return  106\n",
    "    if x=='city_1'           : return  107\n",
    "    if x=='city_140'         : return  108\n",
    "    if x=='city_179'         : return  109\n",
    "    if x=='city_55'          : return  110\n",
    "    if x=='city_14'          : return  111\n",
    "    if x=='city_42'          : return  112\n",
    "    if x=='city_107'         : return  113\n",
    "    if x=='city_18'          : return  114\n",
    "    if x=='city_139'         : return  115\n",
    "    if x=='city_180'         : return  116\n",
    "    if x=='city_166'         : return  117\n",
    "    if x=='city_121'         : return  118\n",
    "    if x=='city_129'         : return  119\n",
    "    if x=='city_8'           : return  120\n",
    "    if x=='city_31'          : return  121\n",
    "    if x=='city_171'         : return  122"
   ]
  },
  {
   "cell_type": "code",
   "execution_count": 38,
   "id": "e7c406cf",
   "metadata": {
    "ExecuteTime": {
     "end_time": "2022-03-11T23:01:54.498501Z",
     "start_time": "2022-03-11T23:01:54.410736Z"
    }
   },
   "outputs": [
    {
     "data": {
      "text/html": [
       "<div>\n",
       "<style scoped>\n",
       "    .dataframe tbody tr th:only-of-type {\n",
       "        vertical-align: middle;\n",
       "    }\n",
       "\n",
       "    .dataframe tbody tr th {\n",
       "        vertical-align: top;\n",
       "    }\n",
       "\n",
       "    .dataframe thead th {\n",
       "        text-align: right;\n",
       "    }\n",
       "</style>\n",
       "<table border=\"1\" class=\"dataframe\">\n",
       "  <thead>\n",
       "    <tr style=\"text-align: right;\">\n",
       "      <th></th>\n",
       "      <th>index</th>\n",
       "      <th>city</th>\n",
       "      <th>city_development_index</th>\n",
       "      <th>gender</th>\n",
       "      <th>relevent_experience</th>\n",
       "      <th>enrolled_university</th>\n",
       "      <th>education_level</th>\n",
       "      <th>major_discipline</th>\n",
       "      <th>experience</th>\n",
       "      <th>company_size</th>\n",
       "      <th>company_type</th>\n",
       "      <th>last_new_job</th>\n",
       "      <th>training_hours</th>\n",
       "    </tr>\n",
       "  </thead>\n",
       "  <tbody>\n",
       "    <tr>\n",
       "      <th>0</th>\n",
       "      <td>17007</td>\n",
       "      <td>8</td>\n",
       "      <td>0.913</td>\n",
       "      <td>1.0</td>\n",
       "      <td>1</td>\n",
       "      <td>0.0</td>\n",
       "      <td>1.0</td>\n",
       "      <td>0.0</td>\n",
       "      <td>4.0</td>\n",
       "      <td>2.0</td>\n",
       "      <td>5.0</td>\n",
       "      <td>1.0</td>\n",
       "      <td>22</td>\n",
       "    </tr>\n",
       "    <tr>\n",
       "      <th>1</th>\n",
       "      <td>631</td>\n",
       "      <td>47</td>\n",
       "      <td>0.698</td>\n",
       "      <td>1.0</td>\n",
       "      <td>1</td>\n",
       "      <td>NaN</td>\n",
       "      <td>2.0</td>\n",
       "      <td>NaN</td>\n",
       "      <td>3.0</td>\n",
       "      <td>NaN</td>\n",
       "      <td>NaN</td>\n",
       "      <td>1.0</td>\n",
       "      <td>22</td>\n",
       "    </tr>\n",
       "    <tr>\n",
       "      <th>2</th>\n",
       "      <td>669</td>\n",
       "      <td>9</td>\n",
       "      <td>0.926</td>\n",
       "      <td>NaN</td>\n",
       "      <td>1</td>\n",
       "      <td>1.0</td>\n",
       "      <td>1.0</td>\n",
       "      <td>0.0</td>\n",
       "      <td>9.0</td>\n",
       "      <td>5.0</td>\n",
       "      <td>0.0</td>\n",
       "      <td>1.0</td>\n",
       "      <td>88</td>\n",
       "    </tr>\n",
       "    <tr>\n",
       "      <th>3</th>\n",
       "      <td>8949</td>\n",
       "      <td>9</td>\n",
       "      <td>0.926</td>\n",
       "      <td>1.0</td>\n",
       "      <td>0</td>\n",
       "      <td>1.0</td>\n",
       "      <td>0.0</td>\n",
       "      <td>0.0</td>\n",
       "      <td>14.0</td>\n",
       "      <td>NaN</td>\n",
       "      <td>NaN</td>\n",
       "      <td>4.0</td>\n",
       "      <td>91</td>\n",
       "    </tr>\n",
       "    <tr>\n",
       "      <th>4</th>\n",
       "      <td>2341</td>\n",
       "      <td>15</td>\n",
       "      <td>0.910</td>\n",
       "      <td>NaN</td>\n",
       "      <td>1</td>\n",
       "      <td>0.0</td>\n",
       "      <td>0.0</td>\n",
       "      <td>0.0</td>\n",
       "      <td>1.0</td>\n",
       "      <td>7.0</td>\n",
       "      <td>0.0</td>\n",
       "      <td>1.0</td>\n",
       "      <td>92</td>\n",
       "    </tr>\n",
       "    <tr>\n",
       "      <th>5</th>\n",
       "      <td>10586</td>\n",
       "      <td>37</td>\n",
       "      <td>0.949</td>\n",
       "      <td>1.0</td>\n",
       "      <td>1</td>\n",
       "      <td>0.0</td>\n",
       "      <td>0.0</td>\n",
       "      <td>0.0</td>\n",
       "      <td>17.0</td>\n",
       "      <td>NaN</td>\n",
       "      <td>NaN</td>\n",
       "      <td>1.0</td>\n",
       "      <td>18</td>\n",
       "    </tr>\n",
       "    <tr>\n",
       "      <th>6</th>\n",
       "      <td>5241</td>\n",
       "      <td>25</td>\n",
       "      <td>0.550</td>\n",
       "      <td>1.0</td>\n",
       "      <td>1</td>\n",
       "      <td>0.0</td>\n",
       "      <td>0.0</td>\n",
       "      <td>0.0</td>\n",
       "      <td>3.0</td>\n",
       "      <td>5.0</td>\n",
       "      <td>0.0</td>\n",
       "      <td>1.0</td>\n",
       "      <td>7</td>\n",
       "    </tr>\n",
       "    <tr>\n",
       "      <th>7</th>\n",
       "      <td>2523</td>\n",
       "      <td>6</td>\n",
       "      <td>0.920</td>\n",
       "      <td>1.0</td>\n",
       "      <td>1</td>\n",
       "      <td>0.0</td>\n",
       "      <td>0.0</td>\n",
       "      <td>0.0</td>\n",
       "      <td>21.0</td>\n",
       "      <td>5.0</td>\n",
       "      <td>0.0</td>\n",
       "      <td>2.0</td>\n",
       "      <td>276</td>\n",
       "    </tr>\n",
       "    <tr>\n",
       "      <th>8</th>\n",
       "      <td>2705</td>\n",
       "      <td>58</td>\n",
       "      <td>0.899</td>\n",
       "      <td>1.0</td>\n",
       "      <td>1</td>\n",
       "      <td>1.0</td>\n",
       "      <td>0.0</td>\n",
       "      <td>0.0</td>\n",
       "      <td>12.0</td>\n",
       "      <td>4.0</td>\n",
       "      <td>0.0</td>\n",
       "      <td>2.0</td>\n",
       "      <td>69</td>\n",
       "    </tr>\n",
       "    <tr>\n",
       "      <th>9</th>\n",
       "      <td>3074</td>\n",
       "      <td>2</td>\n",
       "      <td>0.624</td>\n",
       "      <td>NaN</td>\n",
       "      <td>1</td>\n",
       "      <td>0.0</td>\n",
       "      <td>1.0</td>\n",
       "      <td>0.0</td>\n",
       "      <td>11.0</td>\n",
       "      <td>4.0</td>\n",
       "      <td>NaN</td>\n",
       "      <td>1.0</td>\n",
       "      <td>16</td>\n",
       "    </tr>\n",
       "  </tbody>\n",
       "</table>\n",
       "</div>"
      ],
      "text/plain": [
       "   index  city  city_development_index  gender  relevent_experience  \\\n",
       "0  17007     8                   0.913     1.0                    1   \n",
       "1    631    47                   0.698     1.0                    1   \n",
       "2    669     9                   0.926     NaN                    1   \n",
       "3   8949     9                   0.926     1.0                    0   \n",
       "4   2341    15                   0.910     NaN                    1   \n",
       "5  10586    37                   0.949     1.0                    1   \n",
       "6   5241    25                   0.550     1.0                    1   \n",
       "7   2523     6                   0.920     1.0                    1   \n",
       "8   2705    58                   0.899     1.0                    1   \n",
       "9   3074     2                   0.624     NaN                    1   \n",
       "\n",
       "   enrolled_university  education_level  major_discipline  experience  \\\n",
       "0                  0.0              1.0               0.0         4.0   \n",
       "1                  NaN              2.0               NaN         3.0   \n",
       "2                  1.0              1.0               0.0         9.0   \n",
       "3                  1.0              0.0               0.0        14.0   \n",
       "4                  0.0              0.0               0.0         1.0   \n",
       "5                  0.0              0.0               0.0        17.0   \n",
       "6                  0.0              0.0               0.0         3.0   \n",
       "7                  0.0              0.0               0.0        21.0   \n",
       "8                  1.0              0.0               0.0        12.0   \n",
       "9                  0.0              1.0               0.0        11.0   \n",
       "\n",
       "   company_size  company_type  last_new_job  training_hours  \n",
       "0           2.0           5.0           1.0              22  \n",
       "1           NaN           NaN           1.0              22  \n",
       "2           5.0           0.0           1.0              88  \n",
       "3           NaN           NaN           4.0              91  \n",
       "4           7.0           0.0           1.0              92  \n",
       "5           NaN           NaN           1.0              18  \n",
       "6           5.0           0.0           1.0               7  \n",
       "7           5.0           0.0           2.0             276  \n",
       "8           4.0           0.0           2.0              69  \n",
       "9           4.0           NaN           1.0              16  "
      ]
     },
     "execution_count": 38,
     "metadata": {},
     "output_type": "execute_result"
    }
   ],
   "source": [
    "# Transforming Categorical features into numarical features\n",
    "\n",
    "df_train['gender'] = df_train['gender'].apply(gender_to_numeric)\n",
    "df_train['relevent_experience'] = df_train['relevent_experience'].apply(rel_experience)\n",
    "df_train['enrolled_university'] = df_train['enrolled_university'].apply(enrollment)\n",
    "df_train['education_level'] = df_train['education_level'].apply(edu_level)\n",
    "df_train['major_discipline'] = df_train['major_discipline'].apply(major)\n",
    "df_train['experience'] = df_train['experience'].apply(experience)\n",
    "df_train['company_type'] = df_train['company_type'].apply(company_t)\n",
    "df_train['company_size'] = df_train['company_size'].apply(company_s)\n",
    "df_train['last_new_job'] = df_train['last_new_job'].apply(last_job)\n",
    "df_train['city'] = df_train['city'].apply(city)\n",
    "\n",
    "df_train.head(10)"
   ]
  },
  {
   "cell_type": "code",
   "execution_count": 44,
   "id": "f0a0a096",
   "metadata": {
    "ExecuteTime": {
     "end_time": "2022-03-11T23:11:28.986815Z",
     "start_time": "2022-03-11T23:11:28.973814Z"
    }
   },
   "outputs": [],
   "source": [
    "df_train['gender'] = df_train['gender'].fillna((df_train['gender'].mean()))\n",
    "df_train['enrolled_university'] = df_train['enrolled_university'].fillna((df_train['enrolled_university'].mean()))\n",
    "df_train['major_discipline'] = df_train['major_discipline'].fillna((df_train['major_discipline'].mean()))\n",
    "df_train['company_size'] = df_train['company_size'].fillna((df_train['company_size'].mean()))\n",
    "df_train['company_type'] = df_train['company_type'].fillna((df_train['company_type'].mean()))\n",
    "df_train['company_type'] = df_train['company_type'].fillna((df_train['company_type'].mean()))"
   ]
  },
  {
   "cell_type": "code",
   "execution_count": 45,
   "id": "c1d4070a",
   "metadata": {
    "ExecuteTime": {
     "end_time": "2022-03-11T23:11:33.416333Z",
     "start_time": "2022-03-11T23:11:33.376416Z"
    }
   },
   "outputs": [],
   "source": [
    "#test data\n",
    "\n",
    "df_test['gender'] = df_test['gender'].apply(gender_to_numeric)\n",
    "df_test['relevent_experience'] = df_test['relevent_experience'].apply(rel_experience)\n",
    "df_test['enrolled_university'] = df_test['enrolled_university'].apply(enrollment)\n",
    "df_test['education_level'] = df_test['education_level'].apply(edu_level)\n",
    "df_test['major_discipline'] = df_test['major_discipline'].apply(major)\n",
    "df_test['experience'] = df_test['experience'].apply(experience)\n",
    "df_test['company_type'] = df_test['company_type'].apply(company_t)\n",
    "df_test['company_size'] = df_test['company_size'].apply(company_s)\n",
    "df_test['last_new_job'] = df_test['last_new_job'].apply(last_job)\n",
    "df_test['city'] = df_test['city'].apply(city)"
   ]
  },
  {
   "cell_type": "code",
   "execution_count": 46,
   "id": "595090aa",
   "metadata": {
    "ExecuteTime": {
     "end_time": "2022-03-11T23:11:34.897101Z",
     "start_time": "2022-03-11T23:11:34.885099Z"
    }
   },
   "outputs": [],
   "source": [
    "df_test['gender'] = df_test['gender'].fillna((df_test['gender'].mean()))\n",
    "df_test['enrolled_university'] = df_test['enrolled_university'].fillna((df_test['enrolled_university'].mean()))\n",
    "df_test['major_discipline'] = df_test['major_discipline'].fillna((df_test['major_discipline'].mean()))\n",
    "df_test['company_size'] = df_test['company_size'].fillna((df_test['company_size'].mean()))\n",
    "df_test['company_type'] = df_test['company_type'].fillna((df_test['company_type'].mean()))\n",
    "df_test['company_type'] = df_test['company_type'].fillna((df_test['company_type'].mean()))"
   ]
  },
  {
   "cell_type": "code",
   "execution_count": 47,
   "id": "8f6e7ed9",
   "metadata": {
    "ExecuteTime": {
     "end_time": "2022-03-11T23:11:35.797205Z",
     "start_time": "2022-03-11T23:11:35.784276Z"
    }
   },
   "outputs": [],
   "source": [
    "from sklearn.model_selection import train_test_split\n",
    "X = df_train\n",
    "y = df_output['target']\n",
    "X_train, X_test, Y_train, Y_test = train_test_split(X, y, test_size=0.2, random_state=100)"
   ]
  },
  {
   "cell_type": "code",
   "execution_count": 48,
   "id": "0e7a0b5c",
   "metadata": {
    "ExecuteTime": {
     "end_time": "2022-03-11T23:11:45.047672Z",
     "start_time": "2022-03-11T23:11:38.297969Z"
    }
   },
   "outputs": [
    {
     "name": "stdout",
     "output_type": "stream",
     "text": [
      "Learning rate set to 0.060219\n",
      "0:\tlearn: 0.4259823\ttotal: 134ms\tremaining: 2m 14s\n",
      "1:\tlearn: 0.4212977\ttotal: 137ms\tremaining: 1m 8s\n",
      "2:\tlearn: 0.4170686\ttotal: 140ms\tremaining: 46.7s\n",
      "3:\tlearn: 0.4133782\ttotal: 143ms\tremaining: 35.7s\n",
      "4:\tlearn: 0.4093659\ttotal: 146ms\tremaining: 29.1s\n",
      "5:\tlearn: 0.4066710\ttotal: 150ms\tremaining: 24.8s\n",
      "6:\tlearn: 0.4038865\ttotal: 152ms\tremaining: 21.6s\n",
      "7:\tlearn: 0.4010516\ttotal: 156ms\tremaining: 19.3s\n",
      "8:\tlearn: 0.3986886\ttotal: 158ms\tremaining: 17.4s\n",
      "9:\tlearn: 0.3963607\ttotal: 161ms\tremaining: 16s\n",
      "10:\tlearn: 0.3944398\ttotal: 165ms\tremaining: 14.8s\n",
      "11:\tlearn: 0.3925517\ttotal: 168ms\tremaining: 13.8s\n",
      "12:\tlearn: 0.3909734\ttotal: 171ms\tremaining: 13s\n",
      "13:\tlearn: 0.3892926\ttotal: 174ms\tremaining: 12.2s\n",
      "14:\tlearn: 0.3880749\ttotal: 177ms\tremaining: 11.6s\n",
      "15:\tlearn: 0.3865520\ttotal: 180ms\tremaining: 11.1s\n",
      "16:\tlearn: 0.3851664\ttotal: 183ms\tremaining: 10.6s\n",
      "17:\tlearn: 0.3839112\ttotal: 186ms\tremaining: 10.1s\n",
      "18:\tlearn: 0.3828681\ttotal: 189ms\tremaining: 9.76s\n",
      "19:\tlearn: 0.3820501\ttotal: 192ms\tremaining: 9.4s\n",
      "20:\tlearn: 0.3811173\ttotal: 195ms\tremaining: 9.08s\n",
      "21:\tlearn: 0.3804588\ttotal: 198ms\tremaining: 8.81s\n",
      "22:\tlearn: 0.3799089\ttotal: 201ms\tremaining: 8.56s\n",
      "23:\tlearn: 0.3794169\ttotal: 205ms\tremaining: 8.32s\n",
      "24:\tlearn: 0.3788415\ttotal: 208ms\tremaining: 8.11s\n",
      "25:\tlearn: 0.3783855\ttotal: 211ms\tremaining: 7.91s\n",
      "26:\tlearn: 0.3779734\ttotal: 214ms\tremaining: 7.73s\n",
      "27:\tlearn: 0.3775936\ttotal: 217ms\tremaining: 7.55s\n",
      "28:\tlearn: 0.3769611\ttotal: 220ms\tremaining: 7.38s\n",
      "29:\tlearn: 0.3763069\ttotal: 223ms\tremaining: 7.22s\n",
      "30:\tlearn: 0.3756283\ttotal: 227ms\tremaining: 7.08s\n",
      "31:\tlearn: 0.3753331\ttotal: 230ms\tremaining: 6.95s\n",
      "32:\tlearn: 0.3750422\ttotal: 233ms\tremaining: 6.82s\n",
      "33:\tlearn: 0.3747504\ttotal: 236ms\tremaining: 6.7s\n",
      "34:\tlearn: 0.3744521\ttotal: 239ms\tremaining: 6.59s\n",
      "35:\tlearn: 0.3742276\ttotal: 242ms\tremaining: 6.48s\n",
      "36:\tlearn: 0.3739118\ttotal: 245ms\tremaining: 6.39s\n",
      "37:\tlearn: 0.3735777\ttotal: 249ms\tremaining: 6.29s\n",
      "38:\tlearn: 0.3734021\ttotal: 252ms\tremaining: 6.22s\n",
      "39:\tlearn: 0.3728805\ttotal: 255ms\tremaining: 6.13s\n",
      "40:\tlearn: 0.3725639\ttotal: 259ms\tremaining: 6.05s\n",
      "41:\tlearn: 0.3721556\ttotal: 262ms\tremaining: 5.97s\n",
      "42:\tlearn: 0.3719098\ttotal: 265ms\tremaining: 5.89s\n",
      "43:\tlearn: 0.3717472\ttotal: 268ms\tremaining: 5.82s\n",
      "44:\tlearn: 0.3715352\ttotal: 271ms\tremaining: 5.75s\n",
      "45:\tlearn: 0.3713892\ttotal: 274ms\tremaining: 5.68s\n",
      "46:\tlearn: 0.3712704\ttotal: 277ms\tremaining: 5.61s\n",
      "47:\tlearn: 0.3711145\ttotal: 280ms\tremaining: 5.55s\n",
      "48:\tlearn: 0.3709740\ttotal: 283ms\tremaining: 5.49s\n",
      "49:\tlearn: 0.3706803\ttotal: 286ms\tremaining: 5.43s\n",
      "50:\tlearn: 0.3704888\ttotal: 289ms\tremaining: 5.38s\n",
      "51:\tlearn: 0.3702422\ttotal: 293ms\tremaining: 5.34s\n",
      "52:\tlearn: 0.3700735\ttotal: 298ms\tremaining: 5.32s\n",
      "53:\tlearn: 0.3699142\ttotal: 301ms\tremaining: 5.27s\n",
      "54:\tlearn: 0.3697432\ttotal: 304ms\tremaining: 5.22s\n",
      "55:\tlearn: 0.3695905\ttotal: 307ms\tremaining: 5.18s\n",
      "56:\tlearn: 0.3693790\ttotal: 310ms\tremaining: 5.13s\n",
      "57:\tlearn: 0.3692169\ttotal: 313ms\tremaining: 5.09s\n",
      "58:\tlearn: 0.3691397\ttotal: 316ms\tremaining: 5.05s\n",
      "59:\tlearn: 0.3688478\ttotal: 320ms\tremaining: 5.01s\n",
      "60:\tlearn: 0.3686969\ttotal: 323ms\tremaining: 4.98s\n",
      "61:\tlearn: 0.3685505\ttotal: 327ms\tremaining: 4.94s\n",
      "62:\tlearn: 0.3684316\ttotal: 330ms\tremaining: 4.9s\n",
      "63:\tlearn: 0.3683122\ttotal: 333ms\tremaining: 4.87s\n",
      "64:\tlearn: 0.3682262\ttotal: 336ms\tremaining: 4.83s\n",
      "65:\tlearn: 0.3681211\ttotal: 339ms\tremaining: 4.79s\n",
      "66:\tlearn: 0.3679356\ttotal: 342ms\tremaining: 4.76s\n",
      "67:\tlearn: 0.3678350\ttotal: 344ms\tremaining: 4.72s\n",
      "68:\tlearn: 0.3677453\ttotal: 347ms\tremaining: 4.68s\n",
      "69:\tlearn: 0.3676472\ttotal: 350ms\tremaining: 4.65s\n",
      "70:\tlearn: 0.3674506\ttotal: 353ms\tremaining: 4.62s\n",
      "71:\tlearn: 0.3673199\ttotal: 356ms\tremaining: 4.58s\n",
      "72:\tlearn: 0.3672289\ttotal: 359ms\tremaining: 4.55s\n",
      "73:\tlearn: 0.3671198\ttotal: 361ms\tremaining: 4.52s\n",
      "74:\tlearn: 0.3670114\ttotal: 364ms\tremaining: 4.49s\n",
      "75:\tlearn: 0.3669418\ttotal: 367ms\tremaining: 4.46s\n",
      "76:\tlearn: 0.3668237\ttotal: 370ms\tremaining: 4.43s\n",
      "77:\tlearn: 0.3667187\ttotal: 372ms\tremaining: 4.4s\n",
      "78:\tlearn: 0.3666291\ttotal: 375ms\tremaining: 4.37s\n",
      "79:\tlearn: 0.3665458\ttotal: 378ms\tremaining: 4.34s\n",
      "80:\tlearn: 0.3664670\ttotal: 380ms\tremaining: 4.32s\n",
      "81:\tlearn: 0.3663492\ttotal: 383ms\tremaining: 4.29s\n",
      "82:\tlearn: 0.3662667\ttotal: 386ms\tremaining: 4.26s\n",
      "83:\tlearn: 0.3660938\ttotal: 389ms\tremaining: 4.24s\n",
      "84:\tlearn: 0.3659878\ttotal: 392ms\tremaining: 4.21s\n",
      "85:\tlearn: 0.3659339\ttotal: 394ms\tremaining: 4.19s\n",
      "86:\tlearn: 0.3658355\ttotal: 397ms\tremaining: 4.17s\n",
      "87:\tlearn: 0.3657459\ttotal: 400ms\tremaining: 4.14s\n",
      "88:\tlearn: 0.3656349\ttotal: 403ms\tremaining: 4.12s\n",
      "89:\tlearn: 0.3655121\ttotal: 405ms\tremaining: 4.1s\n",
      "90:\tlearn: 0.3653941\ttotal: 408ms\tremaining: 4.07s\n",
      "91:\tlearn: 0.3653264\ttotal: 411ms\tremaining: 4.05s\n",
      "92:\tlearn: 0.3652406\ttotal: 413ms\tremaining: 4.03s\n",
      "93:\tlearn: 0.3651252\ttotal: 416ms\tremaining: 4.01s\n",
      "94:\tlearn: 0.3650237\ttotal: 419ms\tremaining: 3.99s\n",
      "95:\tlearn: 0.3649004\ttotal: 422ms\tremaining: 3.97s\n",
      "96:\tlearn: 0.3647969\ttotal: 424ms\tremaining: 3.95s\n",
      "97:\tlearn: 0.3647337\ttotal: 427ms\tremaining: 3.93s\n",
      "98:\tlearn: 0.3646626\ttotal: 430ms\tremaining: 3.91s\n",
      "99:\tlearn: 0.3645670\ttotal: 433ms\tremaining: 3.89s\n",
      "100:\tlearn: 0.3644824\ttotal: 436ms\tremaining: 3.88s\n",
      "101:\tlearn: 0.3644246\ttotal: 438ms\tremaining: 3.86s\n",
      "102:\tlearn: 0.3643484\ttotal: 441ms\tremaining: 3.84s\n",
      "103:\tlearn: 0.3642340\ttotal: 444ms\tremaining: 3.82s\n",
      "104:\tlearn: 0.3641437\ttotal: 446ms\tremaining: 3.8s\n",
      "105:\tlearn: 0.3640899\ttotal: 449ms\tremaining: 3.79s\n",
      "106:\tlearn: 0.3640335\ttotal: 452ms\tremaining: 3.77s\n",
      "107:\tlearn: 0.3639372\ttotal: 454ms\tremaining: 3.75s\n",
      "108:\tlearn: 0.3638659\ttotal: 457ms\tremaining: 3.73s\n",
      "109:\tlearn: 0.3637665\ttotal: 460ms\tremaining: 3.72s\n",
      "110:\tlearn: 0.3636837\ttotal: 462ms\tremaining: 3.7s\n",
      "111:\tlearn: 0.3636233\ttotal: 465ms\tremaining: 3.69s\n",
      "112:\tlearn: 0.3635540\ttotal: 468ms\tremaining: 3.67s\n",
      "113:\tlearn: 0.3634806\ttotal: 470ms\tremaining: 3.65s\n",
      "114:\tlearn: 0.3633781\ttotal: 473ms\tremaining: 3.64s\n",
      "115:\tlearn: 0.3632967\ttotal: 476ms\tremaining: 3.63s\n",
      "116:\tlearn: 0.3632057\ttotal: 478ms\tremaining: 3.61s\n",
      "117:\tlearn: 0.3631104\ttotal: 482ms\tremaining: 3.6s\n",
      "118:\tlearn: 0.3629980\ttotal: 485ms\tremaining: 3.59s\n",
      "119:\tlearn: 0.3629141\ttotal: 488ms\tremaining: 3.58s\n",
      "120:\tlearn: 0.3628539\ttotal: 491ms\tremaining: 3.56s\n",
      "121:\tlearn: 0.3627683\ttotal: 494ms\tremaining: 3.55s\n",
      "122:\tlearn: 0.3626604\ttotal: 497ms\tremaining: 3.54s\n",
      "123:\tlearn: 0.3625696\ttotal: 500ms\tremaining: 3.53s\n",
      "124:\tlearn: 0.3624991\ttotal: 503ms\tremaining: 3.52s\n",
      "125:\tlearn: 0.3624033\ttotal: 506ms\tremaining: 3.51s\n",
      "126:\tlearn: 0.3623406\ttotal: 510ms\tremaining: 3.5s\n",
      "127:\tlearn: 0.3622296\ttotal: 513ms\tremaining: 3.5s\n",
      "128:\tlearn: 0.3621585\ttotal: 516ms\tremaining: 3.48s\n",
      "129:\tlearn: 0.3620741\ttotal: 519ms\tremaining: 3.47s\n",
      "130:\tlearn: 0.3620122\ttotal: 522ms\tremaining: 3.46s\n",
      "131:\tlearn: 0.3619212\ttotal: 525ms\tremaining: 3.45s\n",
      "132:\tlearn: 0.3618385\ttotal: 539ms\tremaining: 3.51s\n",
      "133:\tlearn: 0.3617986\ttotal: 542ms\tremaining: 3.5s\n",
      "134:\tlearn: 0.3617201\ttotal: 545ms\tremaining: 3.49s\n",
      "135:\tlearn: 0.3615889\ttotal: 548ms\tremaining: 3.48s\n",
      "136:\tlearn: 0.3615136\ttotal: 551ms\tremaining: 3.47s\n",
      "137:\tlearn: 0.3613597\ttotal: 553ms\tremaining: 3.46s\n",
      "138:\tlearn: 0.3612836\ttotal: 556ms\tremaining: 3.44s\n",
      "139:\tlearn: 0.3612104\ttotal: 559ms\tremaining: 3.43s\n",
      "140:\tlearn: 0.3611235\ttotal: 562ms\tremaining: 3.42s\n",
      "141:\tlearn: 0.3610515\ttotal: 565ms\tremaining: 3.41s\n",
      "142:\tlearn: 0.3609325\ttotal: 567ms\tremaining: 3.4s\n",
      "143:\tlearn: 0.3608250\ttotal: 570ms\tremaining: 3.39s\n",
      "144:\tlearn: 0.3607252\ttotal: 572ms\tremaining: 3.37s\n",
      "145:\tlearn: 0.3606141\ttotal: 575ms\tremaining: 3.36s\n",
      "146:\tlearn: 0.3605108\ttotal: 578ms\tremaining: 3.35s\n",
      "147:\tlearn: 0.3604314\ttotal: 580ms\tremaining: 3.34s\n",
      "148:\tlearn: 0.3603284\ttotal: 583ms\tremaining: 3.33s\n",
      "149:\tlearn: 0.3602558\ttotal: 586ms\tremaining: 3.32s\n",
      "150:\tlearn: 0.3601600\ttotal: 589ms\tremaining: 3.31s\n",
      "151:\tlearn: 0.3600781\ttotal: 591ms\tremaining: 3.3s\n",
      "152:\tlearn: 0.3599594\ttotal: 594ms\tremaining: 3.29s\n",
      "153:\tlearn: 0.3598914\ttotal: 596ms\tremaining: 3.28s\n",
      "154:\tlearn: 0.3597962\ttotal: 599ms\tremaining: 3.27s\n",
      "155:\tlearn: 0.3597460\ttotal: 602ms\tremaining: 3.26s\n",
      "156:\tlearn: 0.3596500\ttotal: 605ms\tremaining: 3.25s\n",
      "157:\tlearn: 0.3595781\ttotal: 607ms\tremaining: 3.24s\n",
      "158:\tlearn: 0.3594777\ttotal: 610ms\tremaining: 3.23s\n",
      "159:\tlearn: 0.3594314\ttotal: 612ms\tremaining: 3.21s\n",
      "160:\tlearn: 0.3593312\ttotal: 616ms\tremaining: 3.21s\n",
      "161:\tlearn: 0.3591988\ttotal: 618ms\tremaining: 3.2s\n",
      "162:\tlearn: 0.3590831\ttotal: 621ms\tremaining: 3.19s\n",
      "163:\tlearn: 0.3590477\ttotal: 623ms\tremaining: 3.18s\n",
      "164:\tlearn: 0.3589529\ttotal: 626ms\tremaining: 3.17s\n",
      "165:\tlearn: 0.3588810\ttotal: 629ms\tremaining: 3.16s\n",
      "166:\tlearn: 0.3587701\ttotal: 631ms\tremaining: 3.15s\n",
      "167:\tlearn: 0.3586846\ttotal: 634ms\tremaining: 3.14s\n",
      "168:\tlearn: 0.3585950\ttotal: 637ms\tremaining: 3.13s\n",
      "169:\tlearn: 0.3585388\ttotal: 639ms\tremaining: 3.12s\n",
      "170:\tlearn: 0.3584966\ttotal: 642ms\tremaining: 3.11s\n",
      "171:\tlearn: 0.3583843\ttotal: 645ms\tremaining: 3.1s\n",
      "172:\tlearn: 0.3582933\ttotal: 647ms\tremaining: 3.09s\n",
      "173:\tlearn: 0.3582347\ttotal: 650ms\tremaining: 3.08s\n",
      "174:\tlearn: 0.3581589\ttotal: 653ms\tremaining: 3.08s\n"
     ]
    },
    {
     "name": "stdout",
     "output_type": "stream",
     "text": [
      "175:\tlearn: 0.3581052\ttotal: 656ms\tremaining: 3.07s\n",
      "176:\tlearn: 0.3580722\ttotal: 659ms\tremaining: 3.06s\n",
      "177:\tlearn: 0.3580313\ttotal: 662ms\tremaining: 3.06s\n",
      "178:\tlearn: 0.3579227\ttotal: 665ms\tremaining: 3.05s\n",
      "179:\tlearn: 0.3578601\ttotal: 667ms\tremaining: 3.04s\n",
      "180:\tlearn: 0.3577770\ttotal: 670ms\tremaining: 3.03s\n",
      "181:\tlearn: 0.3577034\ttotal: 674ms\tremaining: 3.03s\n",
      "182:\tlearn: 0.3576397\ttotal: 677ms\tremaining: 3.02s\n",
      "183:\tlearn: 0.3575542\ttotal: 680ms\tremaining: 3.01s\n",
      "184:\tlearn: 0.3574789\ttotal: 683ms\tremaining: 3.01s\n",
      "185:\tlearn: 0.3574209\ttotal: 686ms\tremaining: 3s\n",
      "186:\tlearn: 0.3573365\ttotal: 688ms\tremaining: 2.99s\n",
      "187:\tlearn: 0.3572968\ttotal: 691ms\tremaining: 2.98s\n",
      "188:\tlearn: 0.3571759\ttotal: 693ms\tremaining: 2.98s\n",
      "189:\tlearn: 0.3571563\ttotal: 696ms\tremaining: 2.96s\n",
      "190:\tlearn: 0.3571320\ttotal: 698ms\tremaining: 2.96s\n",
      "191:\tlearn: 0.3570979\ttotal: 701ms\tremaining: 2.95s\n",
      "192:\tlearn: 0.3570525\ttotal: 703ms\tremaining: 2.94s\n",
      "193:\tlearn: 0.3570038\ttotal: 706ms\tremaining: 2.93s\n",
      "194:\tlearn: 0.3569109\ttotal: 709ms\tremaining: 2.92s\n",
      "195:\tlearn: 0.3568845\ttotal: 711ms\tremaining: 2.92s\n",
      "196:\tlearn: 0.3567949\ttotal: 714ms\tremaining: 2.91s\n",
      "197:\tlearn: 0.3567199\ttotal: 716ms\tremaining: 2.9s\n",
      "198:\tlearn: 0.3566193\ttotal: 719ms\tremaining: 2.9s\n",
      "199:\tlearn: 0.3565405\ttotal: 722ms\tremaining: 2.89s\n",
      "200:\tlearn: 0.3564715\ttotal: 725ms\tremaining: 2.88s\n",
      "201:\tlearn: 0.3563823\ttotal: 727ms\tremaining: 2.87s\n",
      "202:\tlearn: 0.3562848\ttotal: 730ms\tremaining: 2.86s\n",
      "203:\tlearn: 0.3562507\ttotal: 732ms\tremaining: 2.86s\n",
      "204:\tlearn: 0.3561636\ttotal: 735ms\tremaining: 2.85s\n",
      "205:\tlearn: 0.3561182\ttotal: 738ms\tremaining: 2.84s\n",
      "206:\tlearn: 0.3560781\ttotal: 740ms\tremaining: 2.83s\n",
      "207:\tlearn: 0.3560225\ttotal: 743ms\tremaining: 2.83s\n",
      "208:\tlearn: 0.3559430\ttotal: 745ms\tremaining: 2.82s\n",
      "209:\tlearn: 0.3558966\ttotal: 748ms\tremaining: 2.81s\n",
      "210:\tlearn: 0.3557862\ttotal: 751ms\tremaining: 2.81s\n",
      "211:\tlearn: 0.3557377\ttotal: 754ms\tremaining: 2.8s\n",
      "212:\tlearn: 0.3556168\ttotal: 756ms\tremaining: 2.79s\n",
      "213:\tlearn: 0.3554785\ttotal: 759ms\tremaining: 2.79s\n",
      "214:\tlearn: 0.3554500\ttotal: 761ms\tremaining: 2.78s\n",
      "215:\tlearn: 0.3554151\ttotal: 764ms\tremaining: 2.77s\n",
      "216:\tlearn: 0.3553298\ttotal: 767ms\tremaining: 2.77s\n",
      "217:\tlearn: 0.3552437\ttotal: 769ms\tremaining: 2.76s\n",
      "218:\tlearn: 0.3551800\ttotal: 772ms\tremaining: 2.75s\n",
      "219:\tlearn: 0.3550951\ttotal: 774ms\tremaining: 2.75s\n",
      "220:\tlearn: 0.3550589\ttotal: 777ms\tremaining: 2.74s\n",
      "221:\tlearn: 0.3550055\ttotal: 779ms\tremaining: 2.73s\n",
      "222:\tlearn: 0.3549751\ttotal: 782ms\tremaining: 2.72s\n",
      "223:\tlearn: 0.3549064\ttotal: 785ms\tremaining: 2.72s\n",
      "224:\tlearn: 0.3547889\ttotal: 788ms\tremaining: 2.71s\n",
      "225:\tlearn: 0.3546802\ttotal: 790ms\tremaining: 2.71s\n",
      "226:\tlearn: 0.3545993\ttotal: 793ms\tremaining: 2.7s\n",
      "227:\tlearn: 0.3545666\ttotal: 795ms\tremaining: 2.69s\n",
      "228:\tlearn: 0.3544816\ttotal: 798ms\tremaining: 2.69s\n",
      "229:\tlearn: 0.3543805\ttotal: 801ms\tremaining: 2.68s\n",
      "230:\tlearn: 0.3543548\ttotal: 803ms\tremaining: 2.67s\n",
      "231:\tlearn: 0.3542787\ttotal: 806ms\tremaining: 2.67s\n",
      "232:\tlearn: 0.3542557\ttotal: 808ms\tremaining: 2.66s\n",
      "233:\tlearn: 0.3541523\ttotal: 811ms\tremaining: 2.65s\n",
      "234:\tlearn: 0.3540544\ttotal: 814ms\tremaining: 2.65s\n",
      "235:\tlearn: 0.3538690\ttotal: 817ms\tremaining: 2.64s\n",
      "236:\tlearn: 0.3537701\ttotal: 819ms\tremaining: 2.64s\n",
      "237:\tlearn: 0.3536962\ttotal: 822ms\tremaining: 2.63s\n",
      "238:\tlearn: 0.3536116\ttotal: 824ms\tremaining: 2.63s\n",
      "239:\tlearn: 0.3535577\ttotal: 828ms\tremaining: 2.62s\n",
      "240:\tlearn: 0.3534330\ttotal: 831ms\tremaining: 2.62s\n",
      "241:\tlearn: 0.3533412\ttotal: 834ms\tremaining: 2.61s\n",
      "242:\tlearn: 0.3532912\ttotal: 836ms\tremaining: 2.6s\n",
      "243:\tlearn: 0.3531953\ttotal: 840ms\tremaining: 2.6s\n",
      "244:\tlearn: 0.3530956\ttotal: 843ms\tremaining: 2.6s\n",
      "245:\tlearn: 0.3530053\ttotal: 845ms\tremaining: 2.59s\n",
      "246:\tlearn: 0.3529400\ttotal: 848ms\tremaining: 2.58s\n",
      "247:\tlearn: 0.3527977\ttotal: 851ms\tremaining: 2.58s\n",
      "248:\tlearn: 0.3527364\ttotal: 854ms\tremaining: 2.58s\n",
      "249:\tlearn: 0.3526545\ttotal: 857ms\tremaining: 2.57s\n",
      "250:\tlearn: 0.3525626\ttotal: 859ms\tremaining: 2.56s\n",
      "251:\tlearn: 0.3525005\ttotal: 862ms\tremaining: 2.56s\n",
      "252:\tlearn: 0.3524561\ttotal: 865ms\tremaining: 2.55s\n",
      "253:\tlearn: 0.3523622\ttotal: 868ms\tremaining: 2.55s\n",
      "254:\tlearn: 0.3523342\ttotal: 870ms\tremaining: 2.54s\n",
      "255:\tlearn: 0.3523064\ttotal: 873ms\tremaining: 2.54s\n",
      "256:\tlearn: 0.3522187\ttotal: 875ms\tremaining: 2.53s\n",
      "257:\tlearn: 0.3521342\ttotal: 878ms\tremaining: 2.52s\n",
      "258:\tlearn: 0.3521079\ttotal: 881ms\tremaining: 2.52s\n",
      "259:\tlearn: 0.3520171\ttotal: 883ms\tremaining: 2.51s\n",
      "260:\tlearn: 0.3519080\ttotal: 886ms\tremaining: 2.51s\n",
      "261:\tlearn: 0.3518283\ttotal: 888ms\tremaining: 2.5s\n",
      "262:\tlearn: 0.3517460\ttotal: 891ms\tremaining: 2.5s\n",
      "263:\tlearn: 0.3516739\ttotal: 894ms\tremaining: 2.49s\n",
      "264:\tlearn: 0.3516501\ttotal: 896ms\tremaining: 2.48s\n",
      "265:\tlearn: 0.3515607\ttotal: 899ms\tremaining: 2.48s\n",
      "266:\tlearn: 0.3515190\ttotal: 901ms\tremaining: 2.47s\n",
      "267:\tlearn: 0.3514989\ttotal: 904ms\tremaining: 2.47s\n",
      "268:\tlearn: 0.3514810\ttotal: 906ms\tremaining: 2.46s\n",
      "269:\tlearn: 0.3514006\ttotal: 909ms\tremaining: 2.46s\n",
      "270:\tlearn: 0.3513175\ttotal: 912ms\tremaining: 2.45s\n",
      "271:\tlearn: 0.3512050\ttotal: 915ms\tremaining: 2.45s\n",
      "272:\tlearn: 0.3511799\ttotal: 918ms\tremaining: 2.44s\n",
      "273:\tlearn: 0.3511560\ttotal: 920ms\tremaining: 2.44s\n",
      "274:\tlearn: 0.3510998\ttotal: 923ms\tremaining: 2.43s\n",
      "275:\tlearn: 0.3510055\ttotal: 925ms\tremaining: 2.43s\n",
      "276:\tlearn: 0.3509041\ttotal: 928ms\tremaining: 2.42s\n",
      "277:\tlearn: 0.3508398\ttotal: 931ms\tremaining: 2.42s\n",
      "278:\tlearn: 0.3508157\ttotal: 933ms\tremaining: 2.41s\n",
      "279:\tlearn: 0.3507640\ttotal: 936ms\tremaining: 2.41s\n",
      "280:\tlearn: 0.3507065\ttotal: 938ms\tremaining: 2.4s\n",
      "281:\tlearn: 0.3505944\ttotal: 941ms\tremaining: 2.4s\n",
      "282:\tlearn: 0.3505141\ttotal: 944ms\tremaining: 2.39s\n",
      "283:\tlearn: 0.3504550\ttotal: 946ms\tremaining: 2.38s\n",
      "284:\tlearn: 0.3503422\ttotal: 949ms\tremaining: 2.38s\n",
      "285:\tlearn: 0.3502800\ttotal: 951ms\tremaining: 2.38s\n",
      "286:\tlearn: 0.3501731\ttotal: 954ms\tremaining: 2.37s\n",
      "287:\tlearn: 0.3501007\ttotal: 957ms\tremaining: 2.37s\n",
      "288:\tlearn: 0.3500116\ttotal: 959ms\tremaining: 2.36s\n",
      "289:\tlearn: 0.3499832\ttotal: 962ms\tremaining: 2.35s\n",
      "290:\tlearn: 0.3498894\ttotal: 965ms\tremaining: 2.35s\n",
      "291:\tlearn: 0.3497763\ttotal: 967ms\tremaining: 2.35s\n",
      "292:\tlearn: 0.3497038\ttotal: 970ms\tremaining: 2.34s\n",
      "293:\tlearn: 0.3496222\ttotal: 973ms\tremaining: 2.33s\n",
      "294:\tlearn: 0.3495325\ttotal: 975ms\tremaining: 2.33s\n",
      "295:\tlearn: 0.3494401\ttotal: 978ms\tremaining: 2.33s\n",
      "296:\tlearn: 0.3493609\ttotal: 981ms\tremaining: 2.32s\n",
      "297:\tlearn: 0.3492928\ttotal: 983ms\tremaining: 2.32s\n",
      "298:\tlearn: 0.3492121\ttotal: 986ms\tremaining: 2.31s\n",
      "299:\tlearn: 0.3491621\ttotal: 989ms\tremaining: 2.31s\n",
      "300:\tlearn: 0.3491298\ttotal: 991ms\tremaining: 2.3s\n",
      "301:\tlearn: 0.3490572\ttotal: 994ms\tremaining: 2.3s\n",
      "302:\tlearn: 0.3490393\ttotal: 996ms\tremaining: 2.29s\n",
      "303:\tlearn: 0.3489301\ttotal: 999ms\tremaining: 2.29s\n",
      "304:\tlearn: 0.3488412\ttotal: 1s\tremaining: 2.28s\n",
      "305:\tlearn: 0.3487487\ttotal: 1s\tremaining: 2.28s\n",
      "306:\tlearn: 0.3486698\ttotal: 1.01s\tremaining: 2.27s\n",
      "307:\tlearn: 0.3485599\ttotal: 1.01s\tremaining: 2.27s\n",
      "308:\tlearn: 0.3484561\ttotal: 1.01s\tremaining: 2.26s\n",
      "309:\tlearn: 0.3483925\ttotal: 1.01s\tremaining: 2.26s\n",
      "310:\tlearn: 0.3483278\ttotal: 1.02s\tremaining: 2.25s\n",
      "311:\tlearn: 0.3482832\ttotal: 1.02s\tremaining: 2.25s\n",
      "312:\tlearn: 0.3482174\ttotal: 1.02s\tremaining: 2.25s\n",
      "313:\tlearn: 0.3480903\ttotal: 1.03s\tremaining: 2.24s\n",
      "314:\tlearn: 0.3480187\ttotal: 1.03s\tremaining: 2.24s\n",
      "315:\tlearn: 0.3479492\ttotal: 1.03s\tremaining: 2.23s\n",
      "316:\tlearn: 0.3478458\ttotal: 1.03s\tremaining: 2.23s\n",
      "317:\tlearn: 0.3477957\ttotal: 1.04s\tremaining: 2.23s\n",
      "318:\tlearn: 0.3477226\ttotal: 1.04s\tremaining: 2.22s\n",
      "319:\tlearn: 0.3476347\ttotal: 1.04s\tremaining: 2.22s\n",
      "320:\tlearn: 0.3475817\ttotal: 1.05s\tremaining: 2.22s\n",
      "321:\tlearn: 0.3474950\ttotal: 1.05s\tremaining: 2.21s\n",
      "322:\tlearn: 0.3474267\ttotal: 1.05s\tremaining: 2.21s\n",
      "323:\tlearn: 0.3473554\ttotal: 1.06s\tremaining: 2.21s\n",
      "324:\tlearn: 0.3472963\ttotal: 1.06s\tremaining: 2.2s\n",
      "325:\tlearn: 0.3471952\ttotal: 1.06s\tremaining: 2.2s\n",
      "326:\tlearn: 0.3471726\ttotal: 1.06s\tremaining: 2.19s\n",
      "327:\tlearn: 0.3470917\ttotal: 1.07s\tremaining: 2.19s\n",
      "328:\tlearn: 0.3470211\ttotal: 1.07s\tremaining: 2.19s\n",
      "329:\tlearn: 0.3469576\ttotal: 1.07s\tremaining: 2.18s\n",
      "330:\tlearn: 0.3468864\ttotal: 1.08s\tremaining: 2.18s\n",
      "331:\tlearn: 0.3468705\ttotal: 1.08s\tremaining: 2.17s\n",
      "332:\tlearn: 0.3467834\ttotal: 1.08s\tremaining: 2.17s\n",
      "333:\tlearn: 0.3467616\ttotal: 1.08s\tremaining: 2.16s\n",
      "334:\tlearn: 0.3467334\ttotal: 1.09s\tremaining: 2.16s\n",
      "335:\tlearn: 0.3466555\ttotal: 1.09s\tremaining: 2.16s\n",
      "336:\tlearn: 0.3465831\ttotal: 1.09s\tremaining: 2.15s\n",
      "337:\tlearn: 0.3465134\ttotal: 1.1s\tremaining: 2.15s\n",
      "338:\tlearn: 0.3464679\ttotal: 1.1s\tremaining: 2.14s\n",
      "339:\tlearn: 0.3464362\ttotal: 1.1s\tremaining: 2.14s\n",
      "340:\tlearn: 0.3463755\ttotal: 1.1s\tremaining: 2.13s\n",
      "341:\tlearn: 0.3463041\ttotal: 1.11s\tremaining: 2.13s\n",
      "342:\tlearn: 0.3462170\ttotal: 1.11s\tremaining: 2.13s\n",
      "343:\tlearn: 0.3461324\ttotal: 1.11s\tremaining: 2.12s\n",
      "344:\tlearn: 0.3460701\ttotal: 1.11s\tremaining: 2.12s\n",
      "345:\tlearn: 0.3459756\ttotal: 1.12s\tremaining: 2.11s\n",
      "346:\tlearn: 0.3458843\ttotal: 1.12s\tremaining: 2.11s\n",
      "347:\tlearn: 0.3457755\ttotal: 1.12s\tremaining: 2.1s\n",
      "348:\tlearn: 0.3456991\ttotal: 1.13s\tremaining: 2.1s\n",
      "349:\tlearn: 0.3456795\ttotal: 1.13s\tremaining: 2.09s\n",
      "350:\tlearn: 0.3455871\ttotal: 1.13s\tremaining: 2.09s\n",
      "351:\tlearn: 0.3454668\ttotal: 1.13s\tremaining: 2.08s\n",
      "352:\tlearn: 0.3453821\ttotal: 1.14s\tremaining: 2.08s\n",
      "353:\tlearn: 0.3453110\ttotal: 1.14s\tremaining: 2.08s\n",
      "354:\tlearn: 0.3451987\ttotal: 1.14s\tremaining: 2.07s\n",
      "355:\tlearn: 0.3451309\ttotal: 1.14s\tremaining: 2.07s\n",
      "356:\tlearn: 0.3450285\ttotal: 1.15s\tremaining: 2.06s\n",
      "357:\tlearn: 0.3449611\ttotal: 1.15s\tremaining: 2.06s\n",
      "358:\tlearn: 0.3448773\ttotal: 1.15s\tremaining: 2.06s\n",
      "359:\tlearn: 0.3448025\ttotal: 1.15s\tremaining: 2.05s\n",
      "360:\tlearn: 0.3446980\ttotal: 1.16s\tremaining: 2.05s\n",
      "361:\tlearn: 0.3446450\ttotal: 1.16s\tremaining: 2.04s\n",
      "362:\tlearn: 0.3446267\ttotal: 1.16s\tremaining: 2.04s\n",
      "363:\tlearn: 0.3446146\ttotal: 1.16s\tremaining: 2.04s\n",
      "364:\tlearn: 0.3445358\ttotal: 1.17s\tremaining: 2.03s\n",
      "365:\tlearn: 0.3444666\ttotal: 1.17s\tremaining: 2.03s\n",
      "366:\tlearn: 0.3443765\ttotal: 1.17s\tremaining: 2.02s\n",
      "367:\tlearn: 0.3443538\ttotal: 1.18s\tremaining: 2.02s\n",
      "368:\tlearn: 0.3442780\ttotal: 1.18s\tremaining: 2.01s\n",
      "369:\tlearn: 0.3442154\ttotal: 1.18s\tremaining: 2.01s\n",
      "370:\tlearn: 0.3441605\ttotal: 1.18s\tremaining: 2.01s\n",
      "371:\tlearn: 0.3440716\ttotal: 1.19s\tremaining: 2s\n",
      "372:\tlearn: 0.3439915\ttotal: 1.19s\tremaining: 2s\n",
      "373:\tlearn: 0.3439211\ttotal: 1.19s\tremaining: 2s\n",
      "374:\tlearn: 0.3438948\ttotal: 1.19s\tremaining: 1.99s\n",
      "375:\tlearn: 0.3438017\ttotal: 1.2s\tremaining: 1.99s\n",
      "376:\tlearn: 0.3437010\ttotal: 1.2s\tremaining: 1.98s\n",
      "377:\tlearn: 0.3436156\ttotal: 1.2s\tremaining: 1.98s\n"
     ]
    },
    {
     "name": "stdout",
     "output_type": "stream",
     "text": [
      "378:\tlearn: 0.3435726\ttotal: 1.21s\tremaining: 1.98s\n",
      "379:\tlearn: 0.3435042\ttotal: 1.21s\tremaining: 1.97s\n",
      "380:\tlearn: 0.3434197\ttotal: 1.21s\tremaining: 1.97s\n",
      "381:\tlearn: 0.3433492\ttotal: 1.21s\tremaining: 1.97s\n",
      "382:\tlearn: 0.3432521\ttotal: 1.22s\tremaining: 1.96s\n",
      "383:\tlearn: 0.3431967\ttotal: 1.22s\tremaining: 1.96s\n",
      "384:\tlearn: 0.3431714\ttotal: 1.22s\tremaining: 1.95s\n",
      "385:\tlearn: 0.3431639\ttotal: 1.23s\tremaining: 1.95s\n",
      "386:\tlearn: 0.3431370\ttotal: 1.23s\tremaining: 1.95s\n",
      "387:\tlearn: 0.3430631\ttotal: 1.23s\tremaining: 1.94s\n",
      "388:\tlearn: 0.3430400\ttotal: 1.23s\tremaining: 1.94s\n",
      "389:\tlearn: 0.3429688\ttotal: 1.24s\tremaining: 1.94s\n",
      "390:\tlearn: 0.3428784\ttotal: 1.24s\tremaining: 1.93s\n",
      "391:\tlearn: 0.3428025\ttotal: 1.24s\tremaining: 1.93s\n",
      "392:\tlearn: 0.3427204\ttotal: 1.25s\tremaining: 1.92s\n",
      "393:\tlearn: 0.3426517\ttotal: 1.25s\tremaining: 1.92s\n",
      "394:\tlearn: 0.3425700\ttotal: 1.25s\tremaining: 1.92s\n",
      "395:\tlearn: 0.3425063\ttotal: 1.25s\tremaining: 1.91s\n",
      "396:\tlearn: 0.3424563\ttotal: 1.26s\tremaining: 1.91s\n",
      "397:\tlearn: 0.3423439\ttotal: 1.26s\tremaining: 1.9s\n",
      "398:\tlearn: 0.3422972\ttotal: 1.26s\tremaining: 1.9s\n",
      "399:\tlearn: 0.3421932\ttotal: 1.26s\tremaining: 1.9s\n",
      "400:\tlearn: 0.3421389\ttotal: 1.27s\tremaining: 1.89s\n",
      "401:\tlearn: 0.3420108\ttotal: 1.27s\tremaining: 1.89s\n",
      "402:\tlearn: 0.3418939\ttotal: 1.27s\tremaining: 1.89s\n",
      "403:\tlearn: 0.3418236\ttotal: 1.28s\tremaining: 1.88s\n",
      "404:\tlearn: 0.3417428\ttotal: 1.28s\tremaining: 1.88s\n",
      "405:\tlearn: 0.3416785\ttotal: 1.28s\tremaining: 1.88s\n",
      "406:\tlearn: 0.3415946\ttotal: 1.28s\tremaining: 1.87s\n",
      "407:\tlearn: 0.3415449\ttotal: 1.29s\tremaining: 1.87s\n",
      "408:\tlearn: 0.3414528\ttotal: 1.29s\tremaining: 1.86s\n",
      "409:\tlearn: 0.3413843\ttotal: 1.29s\tremaining: 1.86s\n",
      "410:\tlearn: 0.3413178\ttotal: 1.29s\tremaining: 1.86s\n",
      "411:\tlearn: 0.3412238\ttotal: 1.3s\tremaining: 1.85s\n",
      "412:\tlearn: 0.3412056\ttotal: 1.3s\tremaining: 1.85s\n",
      "413:\tlearn: 0.3411413\ttotal: 1.3s\tremaining: 1.85s\n",
      "414:\tlearn: 0.3410710\ttotal: 1.31s\tremaining: 1.84s\n",
      "415:\tlearn: 0.3410187\ttotal: 1.31s\tremaining: 1.84s\n",
      "416:\tlearn: 0.3409453\ttotal: 1.31s\tremaining: 1.83s\n",
      "417:\tlearn: 0.3408523\ttotal: 1.31s\tremaining: 1.83s\n",
      "418:\tlearn: 0.3407934\ttotal: 1.32s\tremaining: 1.83s\n",
      "419:\tlearn: 0.3407123\ttotal: 1.32s\tremaining: 1.82s\n",
      "420:\tlearn: 0.3406034\ttotal: 1.32s\tremaining: 1.82s\n",
      "421:\tlearn: 0.3405439\ttotal: 1.33s\tremaining: 1.82s\n",
      "422:\tlearn: 0.3404610\ttotal: 1.33s\tremaining: 1.81s\n",
      "423:\tlearn: 0.3404312\ttotal: 1.33s\tremaining: 1.81s\n",
      "424:\tlearn: 0.3403462\ttotal: 1.33s\tremaining: 1.81s\n",
      "425:\tlearn: 0.3402552\ttotal: 1.34s\tremaining: 1.8s\n",
      "426:\tlearn: 0.3402017\ttotal: 1.34s\tremaining: 1.8s\n",
      "427:\tlearn: 0.3401231\ttotal: 1.34s\tremaining: 1.79s\n",
      "428:\tlearn: 0.3400566\ttotal: 1.35s\tremaining: 1.79s\n",
      "429:\tlearn: 0.3399775\ttotal: 1.35s\tremaining: 1.79s\n",
      "430:\tlearn: 0.3399281\ttotal: 1.35s\tremaining: 1.78s\n",
      "431:\tlearn: 0.3398421\ttotal: 1.35s\tremaining: 1.78s\n",
      "432:\tlearn: 0.3397520\ttotal: 1.36s\tremaining: 1.78s\n",
      "433:\tlearn: 0.3396903\ttotal: 1.36s\tremaining: 1.77s\n",
      "434:\tlearn: 0.3396086\ttotal: 1.36s\tremaining: 1.77s\n",
      "435:\tlearn: 0.3395586\ttotal: 1.37s\tremaining: 1.77s\n",
      "436:\tlearn: 0.3394710\ttotal: 1.37s\tremaining: 1.76s\n",
      "437:\tlearn: 0.3393512\ttotal: 1.37s\tremaining: 1.76s\n",
      "438:\tlearn: 0.3392685\ttotal: 1.37s\tremaining: 1.76s\n",
      "439:\tlearn: 0.3392020\ttotal: 1.38s\tremaining: 1.75s\n",
      "440:\tlearn: 0.3391774\ttotal: 1.38s\tremaining: 1.75s\n",
      "441:\tlearn: 0.3391118\ttotal: 1.38s\tremaining: 1.75s\n",
      "442:\tlearn: 0.3390185\ttotal: 1.39s\tremaining: 1.74s\n",
      "443:\tlearn: 0.3389486\ttotal: 1.39s\tremaining: 1.74s\n",
      "444:\tlearn: 0.3388891\ttotal: 1.39s\tremaining: 1.74s\n",
      "445:\tlearn: 0.3388686\ttotal: 1.4s\tremaining: 1.73s\n",
      "446:\tlearn: 0.3387765\ttotal: 1.4s\tremaining: 1.73s\n",
      "447:\tlearn: 0.3386907\ttotal: 1.4s\tremaining: 1.73s\n",
      "448:\tlearn: 0.3386033\ttotal: 1.4s\tremaining: 1.72s\n",
      "449:\tlearn: 0.3385220\ttotal: 1.41s\tremaining: 1.72s\n",
      "450:\tlearn: 0.3384411\ttotal: 1.41s\tremaining: 1.72s\n",
      "451:\tlearn: 0.3383623\ttotal: 1.41s\tremaining: 1.71s\n",
      "452:\tlearn: 0.3382991\ttotal: 1.42s\tremaining: 1.71s\n",
      "453:\tlearn: 0.3382426\ttotal: 1.42s\tremaining: 1.71s\n",
      "454:\tlearn: 0.3381342\ttotal: 1.42s\tremaining: 1.7s\n",
      "455:\tlearn: 0.3380372\ttotal: 1.43s\tremaining: 1.7s\n",
      "456:\tlearn: 0.3379812\ttotal: 1.43s\tremaining: 1.7s\n",
      "457:\tlearn: 0.3379130\ttotal: 1.43s\tremaining: 1.69s\n",
      "458:\tlearn: 0.3378548\ttotal: 1.43s\tremaining: 1.69s\n",
      "459:\tlearn: 0.3378001\ttotal: 1.44s\tremaining: 1.69s\n",
      "460:\tlearn: 0.3377476\ttotal: 1.44s\tremaining: 1.68s\n",
      "461:\tlearn: 0.3376795\ttotal: 1.44s\tremaining: 1.68s\n",
      "462:\tlearn: 0.3376248\ttotal: 1.45s\tremaining: 1.68s\n",
      "463:\tlearn: 0.3375633\ttotal: 1.45s\tremaining: 1.67s\n",
      "464:\tlearn: 0.3374701\ttotal: 1.45s\tremaining: 1.67s\n",
      "465:\tlearn: 0.3374129\ttotal: 1.45s\tremaining: 1.67s\n",
      "466:\tlearn: 0.3373783\ttotal: 1.46s\tremaining: 1.66s\n",
      "467:\tlearn: 0.3373397\ttotal: 1.46s\tremaining: 1.66s\n",
      "468:\tlearn: 0.3372818\ttotal: 1.46s\tremaining: 1.66s\n",
      "469:\tlearn: 0.3372029\ttotal: 1.47s\tremaining: 1.65s\n",
      "470:\tlearn: 0.3371545\ttotal: 1.47s\tremaining: 1.65s\n",
      "471:\tlearn: 0.3371013\ttotal: 1.47s\tremaining: 1.65s\n",
      "472:\tlearn: 0.3370313\ttotal: 1.47s\tremaining: 1.64s\n",
      "473:\tlearn: 0.3369694\ttotal: 1.48s\tremaining: 1.64s\n",
      "474:\tlearn: 0.3368980\ttotal: 1.48s\tremaining: 1.64s\n",
      "475:\tlearn: 0.3368039\ttotal: 1.48s\tremaining: 1.63s\n",
      "476:\tlearn: 0.3367364\ttotal: 1.48s\tremaining: 1.63s\n",
      "477:\tlearn: 0.3366918\ttotal: 1.49s\tremaining: 1.62s\n",
      "478:\tlearn: 0.3366300\ttotal: 1.49s\tremaining: 1.62s\n",
      "479:\tlearn: 0.3365593\ttotal: 1.49s\tremaining: 1.62s\n",
      "480:\tlearn: 0.3364754\ttotal: 1.5s\tremaining: 1.61s\n",
      "481:\tlearn: 0.3364137\ttotal: 1.5s\tremaining: 1.61s\n",
      "482:\tlearn: 0.3363708\ttotal: 1.5s\tremaining: 1.61s\n",
      "483:\tlearn: 0.3363215\ttotal: 1.5s\tremaining: 1.6s\n",
      "484:\tlearn: 0.3362428\ttotal: 1.51s\tremaining: 1.6s\n",
      "485:\tlearn: 0.3361939\ttotal: 1.51s\tremaining: 1.6s\n",
      "486:\tlearn: 0.3361310\ttotal: 1.51s\tremaining: 1.59s\n",
      "487:\tlearn: 0.3360729\ttotal: 1.52s\tremaining: 1.59s\n",
      "488:\tlearn: 0.3360110\ttotal: 1.52s\tremaining: 1.59s\n",
      "489:\tlearn: 0.3359521\ttotal: 1.52s\tremaining: 1.58s\n",
      "490:\tlearn: 0.3358501\ttotal: 1.52s\tremaining: 1.58s\n",
      "491:\tlearn: 0.3357812\ttotal: 1.53s\tremaining: 1.58s\n",
      "492:\tlearn: 0.3357388\ttotal: 1.53s\tremaining: 1.57s\n",
      "493:\tlearn: 0.3356672\ttotal: 1.53s\tremaining: 1.57s\n",
      "494:\tlearn: 0.3355975\ttotal: 1.53s\tremaining: 1.57s\n",
      "495:\tlearn: 0.3355461\ttotal: 1.54s\tremaining: 1.56s\n",
      "496:\tlearn: 0.3354728\ttotal: 1.54s\tremaining: 1.56s\n",
      "497:\tlearn: 0.3354173\ttotal: 1.54s\tremaining: 1.56s\n",
      "498:\tlearn: 0.3353768\ttotal: 1.55s\tremaining: 1.55s\n",
      "499:\tlearn: 0.3353503\ttotal: 1.55s\tremaining: 1.55s\n",
      "500:\tlearn: 0.3353346\ttotal: 1.55s\tremaining: 1.55s\n",
      "501:\tlearn: 0.3352673\ttotal: 1.55s\tremaining: 1.54s\n",
      "502:\tlearn: 0.3352139\ttotal: 1.56s\tremaining: 1.54s\n",
      "503:\tlearn: 0.3351272\ttotal: 1.56s\tremaining: 1.54s\n",
      "504:\tlearn: 0.3350664\ttotal: 1.56s\tremaining: 1.53s\n",
      "505:\tlearn: 0.3350282\ttotal: 1.57s\tremaining: 1.53s\n",
      "506:\tlearn: 0.3349531\ttotal: 1.57s\tremaining: 1.53s\n",
      "507:\tlearn: 0.3348659\ttotal: 1.57s\tremaining: 1.52s\n",
      "508:\tlearn: 0.3348148\ttotal: 1.58s\tremaining: 1.52s\n",
      "509:\tlearn: 0.3347169\ttotal: 1.58s\tremaining: 1.52s\n",
      "510:\tlearn: 0.3346592\ttotal: 1.58s\tremaining: 1.51s\n",
      "511:\tlearn: 0.3345632\ttotal: 1.59s\tremaining: 1.51s\n",
      "512:\tlearn: 0.3345273\ttotal: 1.59s\tremaining: 1.51s\n",
      "513:\tlearn: 0.3344679\ttotal: 1.59s\tremaining: 1.5s\n",
      "514:\tlearn: 0.3344107\ttotal: 1.59s\tremaining: 1.5s\n",
      "515:\tlearn: 0.3343723\ttotal: 1.6s\tremaining: 1.5s\n",
      "516:\tlearn: 0.3343383\ttotal: 1.6s\tremaining: 1.5s\n",
      "517:\tlearn: 0.3342421\ttotal: 1.6s\tremaining: 1.49s\n",
      "518:\tlearn: 0.3341891\ttotal: 1.61s\tremaining: 1.49s\n",
      "519:\tlearn: 0.3341394\ttotal: 1.61s\tremaining: 1.49s\n",
      "520:\tlearn: 0.3340806\ttotal: 1.61s\tremaining: 1.48s\n",
      "521:\tlearn: 0.3339920\ttotal: 1.61s\tremaining: 1.48s\n",
      "522:\tlearn: 0.3339291\ttotal: 1.62s\tremaining: 1.48s\n",
      "523:\tlearn: 0.3338521\ttotal: 1.62s\tremaining: 1.47s\n",
      "524:\tlearn: 0.3338125\ttotal: 1.62s\tremaining: 1.47s\n",
      "525:\tlearn: 0.3337738\ttotal: 1.63s\tremaining: 1.47s\n",
      "526:\tlearn: 0.3337043\ttotal: 1.63s\tremaining: 1.46s\n",
      "527:\tlearn: 0.3336381\ttotal: 1.63s\tremaining: 1.46s\n",
      "528:\tlearn: 0.3335514\ttotal: 1.64s\tremaining: 1.46s\n",
      "529:\tlearn: 0.3335093\ttotal: 1.64s\tremaining: 1.45s\n",
      "530:\tlearn: 0.3334017\ttotal: 1.64s\tremaining: 1.45s\n",
      "531:\tlearn: 0.3333675\ttotal: 1.64s\tremaining: 1.45s\n",
      "532:\tlearn: 0.3333156\ttotal: 1.65s\tremaining: 1.44s\n",
      "533:\tlearn: 0.3332781\ttotal: 1.65s\tremaining: 1.44s\n",
      "534:\tlearn: 0.3332002\ttotal: 1.65s\tremaining: 1.44s\n",
      "535:\tlearn: 0.3331395\ttotal: 1.66s\tremaining: 1.43s\n",
      "536:\tlearn: 0.3330982\ttotal: 1.66s\tremaining: 1.43s\n",
      "537:\tlearn: 0.3330307\ttotal: 1.66s\tremaining: 1.43s\n",
      "538:\tlearn: 0.3329642\ttotal: 1.66s\tremaining: 1.42s\n",
      "539:\tlearn: 0.3328795\ttotal: 1.67s\tremaining: 1.42s\n",
      "540:\tlearn: 0.3327746\ttotal: 1.67s\tremaining: 1.42s\n",
      "541:\tlearn: 0.3327298\ttotal: 1.67s\tremaining: 1.41s\n",
      "542:\tlearn: 0.3326420\ttotal: 1.67s\tremaining: 1.41s\n",
      "543:\tlearn: 0.3326209\ttotal: 1.68s\tremaining: 1.41s\n",
      "544:\tlearn: 0.3325624\ttotal: 1.68s\tremaining: 1.4s\n",
      "545:\tlearn: 0.3325056\ttotal: 1.68s\tremaining: 1.4s\n",
      "546:\tlearn: 0.3324576\ttotal: 1.69s\tremaining: 1.4s\n",
      "547:\tlearn: 0.3324043\ttotal: 1.69s\tremaining: 1.39s\n",
      "548:\tlearn: 0.3323510\ttotal: 1.69s\tremaining: 1.39s\n",
      "549:\tlearn: 0.3323041\ttotal: 1.69s\tremaining: 1.39s\n",
      "550:\tlearn: 0.3322906\ttotal: 1.7s\tremaining: 1.38s\n",
      "551:\tlearn: 0.3322506\ttotal: 1.7s\tremaining: 1.38s\n",
      "552:\tlearn: 0.3321836\ttotal: 1.7s\tremaining: 1.38s\n",
      "553:\tlearn: 0.3321213\ttotal: 1.71s\tremaining: 1.37s\n",
      "554:\tlearn: 0.3320356\ttotal: 1.71s\tremaining: 1.37s\n",
      "555:\tlearn: 0.3319846\ttotal: 1.71s\tremaining: 1.37s\n",
      "556:\tlearn: 0.3319301\ttotal: 1.71s\tremaining: 1.36s\n",
      "557:\tlearn: 0.3318742\ttotal: 1.72s\tremaining: 1.36s\n",
      "558:\tlearn: 0.3318467\ttotal: 1.72s\tremaining: 1.36s\n",
      "559:\tlearn: 0.3318109\ttotal: 1.72s\tremaining: 1.35s\n",
      "560:\tlearn: 0.3317343\ttotal: 1.73s\tremaining: 1.35s\n",
      "561:\tlearn: 0.3316963\ttotal: 1.73s\tremaining: 1.35s\n",
      "562:\tlearn: 0.3316539\ttotal: 1.73s\tremaining: 1.34s\n"
     ]
    },
    {
     "name": "stdout",
     "output_type": "stream",
     "text": [
      "563:\tlearn: 0.3315860\ttotal: 1.73s\tremaining: 1.34s\n",
      "564:\tlearn: 0.3315293\ttotal: 1.74s\tremaining: 1.34s\n",
      "565:\tlearn: 0.3314317\ttotal: 1.74s\tremaining: 1.33s\n",
      "566:\tlearn: 0.3313583\ttotal: 1.74s\tremaining: 1.33s\n",
      "567:\tlearn: 0.3313172\ttotal: 1.75s\tremaining: 1.33s\n",
      "568:\tlearn: 0.3312319\ttotal: 1.75s\tremaining: 1.32s\n",
      "569:\tlearn: 0.3311854\ttotal: 1.75s\tremaining: 1.32s\n",
      "570:\tlearn: 0.3311223\ttotal: 1.75s\tremaining: 1.32s\n",
      "571:\tlearn: 0.3310413\ttotal: 1.76s\tremaining: 1.31s\n",
      "572:\tlearn: 0.3309422\ttotal: 1.76s\tremaining: 1.31s\n",
      "573:\tlearn: 0.3309113\ttotal: 1.76s\tremaining: 1.31s\n",
      "574:\tlearn: 0.3308597\ttotal: 1.77s\tremaining: 1.3s\n",
      "575:\tlearn: 0.3308256\ttotal: 1.77s\tremaining: 1.3s\n",
      "576:\tlearn: 0.3307464\ttotal: 1.77s\tremaining: 1.3s\n",
      "577:\tlearn: 0.3306682\ttotal: 1.77s\tremaining: 1.29s\n",
      "578:\tlearn: 0.3306144\ttotal: 1.78s\tremaining: 1.29s\n",
      "579:\tlearn: 0.3305628\ttotal: 1.78s\tremaining: 1.29s\n",
      "580:\tlearn: 0.3305408\ttotal: 1.78s\tremaining: 1.29s\n",
      "581:\tlearn: 0.3304906\ttotal: 1.79s\tremaining: 1.28s\n",
      "582:\tlearn: 0.3304001\ttotal: 1.79s\tremaining: 1.28s\n",
      "583:\tlearn: 0.3303533\ttotal: 1.79s\tremaining: 1.28s\n",
      "584:\tlearn: 0.3302921\ttotal: 1.79s\tremaining: 1.27s\n",
      "585:\tlearn: 0.3302424\ttotal: 1.8s\tremaining: 1.27s\n",
      "586:\tlearn: 0.3302027\ttotal: 1.8s\tremaining: 1.27s\n",
      "587:\tlearn: 0.3301370\ttotal: 1.8s\tremaining: 1.26s\n",
      "588:\tlearn: 0.3300892\ttotal: 1.81s\tremaining: 1.26s\n",
      "589:\tlearn: 0.3300325\ttotal: 1.81s\tremaining: 1.26s\n",
      "590:\tlearn: 0.3299598\ttotal: 1.81s\tremaining: 1.25s\n",
      "591:\tlearn: 0.3298957\ttotal: 1.81s\tremaining: 1.25s\n",
      "592:\tlearn: 0.3298435\ttotal: 1.82s\tremaining: 1.25s\n",
      "593:\tlearn: 0.3298091\ttotal: 1.82s\tremaining: 1.24s\n",
      "594:\tlearn: 0.3297609\ttotal: 1.82s\tremaining: 1.24s\n",
      "595:\tlearn: 0.3296902\ttotal: 1.82s\tremaining: 1.24s\n",
      "596:\tlearn: 0.3296538\ttotal: 1.83s\tremaining: 1.23s\n",
      "597:\tlearn: 0.3295863\ttotal: 1.83s\tremaining: 1.23s\n",
      "598:\tlearn: 0.3295240\ttotal: 1.83s\tremaining: 1.23s\n",
      "599:\tlearn: 0.3294793\ttotal: 1.84s\tremaining: 1.22s\n",
      "600:\tlearn: 0.3294220\ttotal: 1.84s\tremaining: 1.22s\n",
      "601:\tlearn: 0.3293484\ttotal: 1.84s\tremaining: 1.22s\n",
      "602:\tlearn: 0.3292824\ttotal: 1.84s\tremaining: 1.21s\n",
      "603:\tlearn: 0.3292148\ttotal: 1.85s\tremaining: 1.21s\n",
      "604:\tlearn: 0.3291195\ttotal: 1.85s\tremaining: 1.21s\n",
      "605:\tlearn: 0.3290739\ttotal: 1.85s\tremaining: 1.21s\n",
      "606:\tlearn: 0.3290521\ttotal: 1.86s\tremaining: 1.2s\n",
      "607:\tlearn: 0.3290021\ttotal: 1.86s\tremaining: 1.2s\n",
      "608:\tlearn: 0.3289346\ttotal: 1.86s\tremaining: 1.2s\n",
      "609:\tlearn: 0.3288531\ttotal: 1.86s\tremaining: 1.19s\n",
      "610:\tlearn: 0.3288173\ttotal: 1.87s\tremaining: 1.19s\n",
      "611:\tlearn: 0.3287831\ttotal: 1.87s\tremaining: 1.19s\n",
      "612:\tlearn: 0.3287335\ttotal: 1.87s\tremaining: 1.18s\n",
      "613:\tlearn: 0.3286675\ttotal: 1.87s\tremaining: 1.18s\n",
      "614:\tlearn: 0.3286379\ttotal: 1.88s\tremaining: 1.18s\n",
      "615:\tlearn: 0.3285886\ttotal: 1.88s\tremaining: 1.17s\n",
      "616:\tlearn: 0.3285423\ttotal: 1.88s\tremaining: 1.17s\n",
      "617:\tlearn: 0.3284944\ttotal: 1.88s\tremaining: 1.17s\n",
      "618:\tlearn: 0.3283930\ttotal: 1.89s\tremaining: 1.16s\n",
      "619:\tlearn: 0.3283574\ttotal: 1.89s\tremaining: 1.16s\n",
      "620:\tlearn: 0.3282956\ttotal: 1.89s\tremaining: 1.16s\n",
      "621:\tlearn: 0.3282761\ttotal: 1.9s\tremaining: 1.15s\n",
      "622:\tlearn: 0.3282323\ttotal: 1.9s\tremaining: 1.15s\n",
      "623:\tlearn: 0.3281791\ttotal: 1.9s\tremaining: 1.15s\n",
      "624:\tlearn: 0.3281282\ttotal: 1.9s\tremaining: 1.14s\n",
      "625:\tlearn: 0.3280939\ttotal: 1.91s\tremaining: 1.14s\n",
      "626:\tlearn: 0.3280246\ttotal: 1.91s\tremaining: 1.14s\n",
      "627:\tlearn: 0.3279576\ttotal: 1.91s\tremaining: 1.13s\n",
      "628:\tlearn: 0.3279330\ttotal: 1.91s\tremaining: 1.13s\n",
      "629:\tlearn: 0.3278918\ttotal: 1.92s\tremaining: 1.13s\n",
      "630:\tlearn: 0.3278484\ttotal: 1.92s\tremaining: 1.12s\n",
      "631:\tlearn: 0.3278305\ttotal: 1.92s\tremaining: 1.12s\n",
      "632:\tlearn: 0.3277931\ttotal: 1.93s\tremaining: 1.12s\n",
      "633:\tlearn: 0.3277510\ttotal: 1.93s\tremaining: 1.11s\n",
      "634:\tlearn: 0.3276944\ttotal: 1.93s\tremaining: 1.11s\n",
      "635:\tlearn: 0.3276241\ttotal: 1.93s\tremaining: 1.11s\n",
      "636:\tlearn: 0.3275906\ttotal: 1.94s\tremaining: 1.1s\n",
      "637:\tlearn: 0.3275102\ttotal: 1.94s\tremaining: 1.1s\n",
      "638:\tlearn: 0.3274597\ttotal: 1.94s\tremaining: 1.1s\n",
      "639:\tlearn: 0.3274181\ttotal: 1.95s\tremaining: 1.09s\n",
      "640:\tlearn: 0.3273833\ttotal: 1.95s\tremaining: 1.09s\n",
      "641:\tlearn: 0.3273392\ttotal: 1.95s\tremaining: 1.09s\n",
      "642:\tlearn: 0.3273076\ttotal: 1.95s\tremaining: 1.08s\n",
      "643:\tlearn: 0.3272619\ttotal: 1.96s\tremaining: 1.08s\n",
      "644:\tlearn: 0.3271384\ttotal: 1.96s\tremaining: 1.08s\n",
      "645:\tlearn: 0.3271210\ttotal: 1.96s\tremaining: 1.07s\n",
      "646:\tlearn: 0.3270674\ttotal: 1.96s\tremaining: 1.07s\n",
      "647:\tlearn: 0.3270072\ttotal: 1.97s\tremaining: 1.07s\n",
      "648:\tlearn: 0.3269182\ttotal: 1.97s\tremaining: 1.06s\n",
      "649:\tlearn: 0.3268448\ttotal: 1.97s\tremaining: 1.06s\n",
      "650:\tlearn: 0.3267824\ttotal: 1.98s\tremaining: 1.06s\n",
      "651:\tlearn: 0.3267390\ttotal: 1.98s\tremaining: 1.05s\n",
      "652:\tlearn: 0.3266891\ttotal: 1.98s\tremaining: 1.05s\n",
      "653:\tlearn: 0.3266275\ttotal: 1.98s\tremaining: 1.05s\n",
      "654:\tlearn: 0.3265633\ttotal: 1.99s\tremaining: 1.05s\n",
      "655:\tlearn: 0.3264645\ttotal: 1.99s\tremaining: 1.04s\n",
      "656:\tlearn: 0.3263892\ttotal: 1.99s\tremaining: 1.04s\n",
      "657:\tlearn: 0.3263579\ttotal: 1.99s\tremaining: 1.04s\n",
      "658:\tlearn: 0.3263076\ttotal: 2s\tremaining: 1.03s\n",
      "659:\tlearn: 0.3262617\ttotal: 2s\tremaining: 1.03s\n",
      "660:\tlearn: 0.3262299\ttotal: 2s\tremaining: 1.03s\n",
      "661:\tlearn: 0.3261916\ttotal: 2s\tremaining: 1.02s\n",
      "662:\tlearn: 0.3261298\ttotal: 2.01s\tremaining: 1.02s\n",
      "663:\tlearn: 0.3260742\ttotal: 2.01s\tremaining: 1.02s\n",
      "664:\tlearn: 0.3260013\ttotal: 2.01s\tremaining: 1.01s\n",
      "665:\tlearn: 0.3259350\ttotal: 2.02s\tremaining: 1.01s\n",
      "666:\tlearn: 0.3259025\ttotal: 2.02s\tremaining: 1.01s\n",
      "667:\tlearn: 0.3258786\ttotal: 2.02s\tremaining: 1s\n",
      "668:\tlearn: 0.3258616\ttotal: 2.02s\tremaining: 1s\n",
      "669:\tlearn: 0.3258031\ttotal: 2.03s\tremaining: 999ms\n",
      "670:\tlearn: 0.3257428\ttotal: 2.03s\tremaining: 995ms\n",
      "671:\tlearn: 0.3257167\ttotal: 2.03s\tremaining: 992ms\n",
      "672:\tlearn: 0.3256525\ttotal: 2.04s\tremaining: 989ms\n",
      "673:\tlearn: 0.3256056\ttotal: 2.04s\tremaining: 986ms\n",
      "674:\tlearn: 0.3255379\ttotal: 2.04s\tremaining: 983ms\n",
      "675:\tlearn: 0.3254656\ttotal: 2.04s\tremaining: 980ms\n",
      "676:\tlearn: 0.3254116\ttotal: 2.05s\tremaining: 977ms\n",
      "677:\tlearn: 0.3253819\ttotal: 2.05s\tremaining: 973ms\n",
      "678:\tlearn: 0.3253137\ttotal: 2.05s\tremaining: 970ms\n",
      "679:\tlearn: 0.3252369\ttotal: 2.06s\tremaining: 967ms\n",
      "680:\tlearn: 0.3251658\ttotal: 2.06s\tremaining: 964ms\n",
      "681:\tlearn: 0.3250885\ttotal: 2.06s\tremaining: 961ms\n",
      "682:\tlearn: 0.3250200\ttotal: 2.06s\tremaining: 958ms\n",
      "683:\tlearn: 0.3249732\ttotal: 2.06s\tremaining: 954ms\n",
      "684:\tlearn: 0.3249291\ttotal: 2.07s\tremaining: 951ms\n",
      "685:\tlearn: 0.3249030\ttotal: 2.07s\tremaining: 948ms\n",
      "686:\tlearn: 0.3248418\ttotal: 2.07s\tremaining: 945ms\n",
      "687:\tlearn: 0.3247936\ttotal: 2.08s\tremaining: 942ms\n",
      "688:\tlearn: 0.3247240\ttotal: 2.08s\tremaining: 939ms\n",
      "689:\tlearn: 0.3246653\ttotal: 2.08s\tremaining: 935ms\n",
      "690:\tlearn: 0.3246082\ttotal: 2.08s\tremaining: 932ms\n",
      "691:\tlearn: 0.3245550\ttotal: 2.09s\tremaining: 929ms\n",
      "692:\tlearn: 0.3244989\ttotal: 2.09s\tremaining: 926ms\n",
      "693:\tlearn: 0.3244419\ttotal: 2.09s\tremaining: 923ms\n",
      "694:\tlearn: 0.3244113\ttotal: 2.1s\tremaining: 920ms\n",
      "695:\tlearn: 0.3243591\ttotal: 2.1s\tremaining: 917ms\n",
      "696:\tlearn: 0.3243202\ttotal: 2.1s\tremaining: 914ms\n",
      "697:\tlearn: 0.3242552\ttotal: 2.1s\tremaining: 911ms\n",
      "698:\tlearn: 0.3241804\ttotal: 2.11s\tremaining: 908ms\n",
      "699:\tlearn: 0.3240981\ttotal: 2.11s\tremaining: 905ms\n",
      "700:\tlearn: 0.3240527\ttotal: 2.11s\tremaining: 902ms\n",
      "701:\tlearn: 0.3240246\ttotal: 2.12s\tremaining: 898ms\n",
      "702:\tlearn: 0.3239834\ttotal: 2.12s\tremaining: 895ms\n",
      "703:\tlearn: 0.3239363\ttotal: 2.12s\tremaining: 892ms\n",
      "704:\tlearn: 0.3238804\ttotal: 2.12s\tremaining: 889ms\n",
      "705:\tlearn: 0.3238053\ttotal: 2.13s\tremaining: 886ms\n",
      "706:\tlearn: 0.3237358\ttotal: 2.13s\tremaining: 883ms\n",
      "707:\tlearn: 0.3236344\ttotal: 2.13s\tremaining: 880ms\n",
      "708:\tlearn: 0.3235887\ttotal: 2.14s\tremaining: 877ms\n",
      "709:\tlearn: 0.3235171\ttotal: 2.14s\tremaining: 874ms\n",
      "710:\tlearn: 0.3234785\ttotal: 2.14s\tremaining: 871ms\n",
      "711:\tlearn: 0.3234060\ttotal: 2.14s\tremaining: 868ms\n",
      "712:\tlearn: 0.3233291\ttotal: 2.15s\tremaining: 864ms\n",
      "713:\tlearn: 0.3233022\ttotal: 2.15s\tremaining: 861ms\n",
      "714:\tlearn: 0.3232114\ttotal: 2.15s\tremaining: 858ms\n",
      "715:\tlearn: 0.3231931\ttotal: 2.15s\tremaining: 855ms\n",
      "716:\tlearn: 0.3231351\ttotal: 2.16s\tremaining: 852ms\n",
      "717:\tlearn: 0.3230661\ttotal: 2.16s\tremaining: 849ms\n",
      "718:\tlearn: 0.3230340\ttotal: 2.16s\tremaining: 845ms\n",
      "719:\tlearn: 0.3229446\ttotal: 2.17s\tremaining: 842ms\n",
      "720:\tlearn: 0.3228777\ttotal: 2.17s\tremaining: 839ms\n",
      "721:\tlearn: 0.3228309\ttotal: 2.17s\tremaining: 836ms\n",
      "722:\tlearn: 0.3227777\ttotal: 2.17s\tremaining: 833ms\n",
      "723:\tlearn: 0.3227147\ttotal: 2.18s\tremaining: 830ms\n",
      "724:\tlearn: 0.3226365\ttotal: 2.18s\tremaining: 827ms\n",
      "725:\tlearn: 0.3225856\ttotal: 2.18s\tremaining: 824ms\n",
      "726:\tlearn: 0.3225572\ttotal: 2.19s\tremaining: 821ms\n",
      "727:\tlearn: 0.3225044\ttotal: 2.19s\tremaining: 817ms\n",
      "728:\tlearn: 0.3224620\ttotal: 2.19s\tremaining: 814ms\n",
      "729:\tlearn: 0.3224159\ttotal: 2.19s\tremaining: 811ms\n",
      "730:\tlearn: 0.3223585\ttotal: 2.19s\tremaining: 808ms\n",
      "731:\tlearn: 0.3222920\ttotal: 2.2s\tremaining: 805ms\n",
      "732:\tlearn: 0.3222554\ttotal: 2.2s\tremaining: 802ms\n",
      "733:\tlearn: 0.3222199\ttotal: 2.2s\tremaining: 798ms\n",
      "734:\tlearn: 0.3221595\ttotal: 2.21s\tremaining: 795ms\n",
      "735:\tlearn: 0.3221178\ttotal: 2.21s\tremaining: 792ms\n",
      "736:\tlearn: 0.3221046\ttotal: 2.21s\tremaining: 789ms\n",
      "737:\tlearn: 0.3220577\ttotal: 2.21s\tremaining: 786ms\n",
      "738:\tlearn: 0.3220292\ttotal: 2.22s\tremaining: 783ms\n",
      "739:\tlearn: 0.3219438\ttotal: 2.22s\tremaining: 780ms\n",
      "740:\tlearn: 0.3218835\ttotal: 2.22s\tremaining: 777ms\n",
      "741:\tlearn: 0.3218302\ttotal: 2.22s\tremaining: 774ms\n",
      "742:\tlearn: 0.3217454\ttotal: 2.23s\tremaining: 770ms\n",
      "743:\tlearn: 0.3216879\ttotal: 2.23s\tremaining: 767ms\n",
      "744:\tlearn: 0.3216492\ttotal: 2.23s\tremaining: 764ms\n",
      "745:\tlearn: 0.3215909\ttotal: 2.23s\tremaining: 761ms\n",
      "746:\tlearn: 0.3215119\ttotal: 2.24s\tremaining: 758ms\n",
      "747:\tlearn: 0.3214415\ttotal: 2.24s\tremaining: 755ms\n",
      "748:\tlearn: 0.3214135\ttotal: 2.24s\tremaining: 752ms\n",
      "749:\tlearn: 0.3213328\ttotal: 2.25s\tremaining: 749ms\n",
      "750:\tlearn: 0.3213070\ttotal: 2.25s\tremaining: 746ms\n",
      "751:\tlearn: 0.3212527\ttotal: 2.25s\tremaining: 743ms\n",
      "752:\tlearn: 0.3211931\ttotal: 2.25s\tremaining: 739ms\n",
      "753:\tlearn: 0.3211611\ttotal: 2.26s\tremaining: 736ms\n",
      "754:\tlearn: 0.3211017\ttotal: 2.26s\tremaining: 733ms\n"
     ]
    },
    {
     "name": "stdout",
     "output_type": "stream",
     "text": [
      "755:\tlearn: 0.3210903\ttotal: 2.26s\tremaining: 730ms\n",
      "756:\tlearn: 0.3210200\ttotal: 2.27s\tremaining: 727ms\n",
      "757:\tlearn: 0.3209690\ttotal: 2.27s\tremaining: 724ms\n",
      "758:\tlearn: 0.3208682\ttotal: 2.27s\tremaining: 721ms\n",
      "759:\tlearn: 0.3208537\ttotal: 2.27s\tremaining: 718ms\n",
      "760:\tlearn: 0.3208127\ttotal: 2.28s\tremaining: 716ms\n",
      "761:\tlearn: 0.3207546\ttotal: 2.28s\tremaining: 713ms\n",
      "762:\tlearn: 0.3207069\ttotal: 2.28s\tremaining: 710ms\n",
      "763:\tlearn: 0.3206381\ttotal: 2.29s\tremaining: 706ms\n",
      "764:\tlearn: 0.3205814\ttotal: 2.29s\tremaining: 703ms\n",
      "765:\tlearn: 0.3205357\ttotal: 2.29s\tremaining: 700ms\n",
      "766:\tlearn: 0.3205166\ttotal: 2.29s\tremaining: 697ms\n",
      "767:\tlearn: 0.3204764\ttotal: 2.3s\tremaining: 694ms\n",
      "768:\tlearn: 0.3204355\ttotal: 2.3s\tremaining: 691ms\n",
      "769:\tlearn: 0.3203839\ttotal: 2.3s\tremaining: 688ms\n",
      "770:\tlearn: 0.3203292\ttotal: 2.31s\tremaining: 685ms\n",
      "771:\tlearn: 0.3202508\ttotal: 2.31s\tremaining: 682ms\n",
      "772:\tlearn: 0.3202093\ttotal: 2.31s\tremaining: 679ms\n",
      "773:\tlearn: 0.3201492\ttotal: 2.31s\tremaining: 676ms\n",
      "774:\tlearn: 0.3201006\ttotal: 2.32s\tremaining: 673ms\n",
      "775:\tlearn: 0.3200608\ttotal: 2.32s\tremaining: 670ms\n",
      "776:\tlearn: 0.3200133\ttotal: 2.32s\tremaining: 667ms\n",
      "777:\tlearn: 0.3199797\ttotal: 2.33s\tremaining: 664ms\n",
      "778:\tlearn: 0.3199434\ttotal: 2.33s\tremaining: 661ms\n",
      "779:\tlearn: 0.3198879\ttotal: 2.33s\tremaining: 657ms\n",
      "780:\tlearn: 0.3198546\ttotal: 2.33s\tremaining: 654ms\n",
      "781:\tlearn: 0.3198114\ttotal: 2.34s\tremaining: 651ms\n",
      "782:\tlearn: 0.3197343\ttotal: 2.34s\tremaining: 648ms\n",
      "783:\tlearn: 0.3197181\ttotal: 2.34s\tremaining: 645ms\n",
      "784:\tlearn: 0.3196223\ttotal: 2.35s\tremaining: 642ms\n",
      "785:\tlearn: 0.3195762\ttotal: 2.35s\tremaining: 640ms\n",
      "786:\tlearn: 0.3194996\ttotal: 2.35s\tremaining: 637ms\n",
      "787:\tlearn: 0.3194595\ttotal: 2.35s\tremaining: 634ms\n",
      "788:\tlearn: 0.3193947\ttotal: 2.36s\tremaining: 631ms\n",
      "789:\tlearn: 0.3193614\ttotal: 2.36s\tremaining: 628ms\n",
      "790:\tlearn: 0.3193296\ttotal: 2.36s\tremaining: 625ms\n",
      "791:\tlearn: 0.3192940\ttotal: 2.37s\tremaining: 622ms\n",
      "792:\tlearn: 0.3192468\ttotal: 2.37s\tremaining: 619ms\n",
      "793:\tlearn: 0.3192180\ttotal: 2.37s\tremaining: 616ms\n",
      "794:\tlearn: 0.3191853\ttotal: 2.38s\tremaining: 613ms\n",
      "795:\tlearn: 0.3191185\ttotal: 2.38s\tremaining: 610ms\n",
      "796:\tlearn: 0.3190742\ttotal: 2.38s\tremaining: 607ms\n",
      "797:\tlearn: 0.3190429\ttotal: 2.38s\tremaining: 604ms\n",
      "798:\tlearn: 0.3189807\ttotal: 2.39s\tremaining: 601ms\n",
      "799:\tlearn: 0.3189551\ttotal: 2.39s\tremaining: 598ms\n",
      "800:\tlearn: 0.3188907\ttotal: 2.4s\tremaining: 595ms\n",
      "801:\tlearn: 0.3188406\ttotal: 2.4s\tremaining: 592ms\n",
      "802:\tlearn: 0.3187985\ttotal: 2.4s\tremaining: 589ms\n",
      "803:\tlearn: 0.3187676\ttotal: 2.4s\tremaining: 586ms\n",
      "804:\tlearn: 0.3187135\ttotal: 2.41s\tremaining: 583ms\n",
      "805:\tlearn: 0.3186691\ttotal: 2.41s\tremaining: 580ms\n",
      "806:\tlearn: 0.3186023\ttotal: 2.41s\tremaining: 577ms\n",
      "807:\tlearn: 0.3185452\ttotal: 2.42s\tremaining: 574ms\n",
      "808:\tlearn: 0.3185302\ttotal: 2.42s\tremaining: 571ms\n",
      "809:\tlearn: 0.3184943\ttotal: 2.42s\tremaining: 568ms\n",
      "810:\tlearn: 0.3184280\ttotal: 2.42s\tremaining: 565ms\n",
      "811:\tlearn: 0.3183837\ttotal: 2.43s\tremaining: 562ms\n",
      "812:\tlearn: 0.3183206\ttotal: 2.43s\tremaining: 559ms\n",
      "813:\tlearn: 0.3182614\ttotal: 2.43s\tremaining: 556ms\n",
      "814:\tlearn: 0.3182432\ttotal: 2.43s\tremaining: 553ms\n",
      "815:\tlearn: 0.3182090\ttotal: 2.44s\tremaining: 549ms\n",
      "816:\tlearn: 0.3181735\ttotal: 2.44s\tremaining: 546ms\n",
      "817:\tlearn: 0.3181595\ttotal: 2.44s\tremaining: 543ms\n",
      "818:\tlearn: 0.3181082\ttotal: 2.44s\tremaining: 540ms\n",
      "819:\tlearn: 0.3180474\ttotal: 2.45s\tremaining: 537ms\n",
      "820:\tlearn: 0.3180163\ttotal: 2.45s\tremaining: 534ms\n",
      "821:\tlearn: 0.3180049\ttotal: 2.45s\tremaining: 531ms\n",
      "822:\tlearn: 0.3179434\ttotal: 2.46s\tremaining: 528ms\n",
      "823:\tlearn: 0.3178900\ttotal: 2.46s\tremaining: 526ms\n",
      "824:\tlearn: 0.3178385\ttotal: 2.46s\tremaining: 523ms\n",
      "825:\tlearn: 0.3177823\ttotal: 2.47s\tremaining: 520ms\n",
      "826:\tlearn: 0.3177074\ttotal: 2.47s\tremaining: 517ms\n",
      "827:\tlearn: 0.3176699\ttotal: 2.47s\tremaining: 514ms\n",
      "828:\tlearn: 0.3175858\ttotal: 2.47s\tremaining: 510ms\n",
      "829:\tlearn: 0.3175389\ttotal: 2.48s\tremaining: 507ms\n",
      "830:\tlearn: 0.3175221\ttotal: 2.48s\tremaining: 504ms\n",
      "831:\tlearn: 0.3174894\ttotal: 2.48s\tremaining: 501ms\n",
      "832:\tlearn: 0.3174691\ttotal: 2.48s\tremaining: 498ms\n",
      "833:\tlearn: 0.3173780\ttotal: 2.49s\tremaining: 495ms\n",
      "834:\tlearn: 0.3173261\ttotal: 2.49s\tremaining: 492ms\n",
      "835:\tlearn: 0.3172607\ttotal: 2.49s\tremaining: 489ms\n",
      "836:\tlearn: 0.3171969\ttotal: 2.5s\tremaining: 486ms\n",
      "837:\tlearn: 0.3171298\ttotal: 2.5s\tremaining: 483ms\n",
      "838:\tlearn: 0.3170785\ttotal: 2.5s\tremaining: 480ms\n",
      "839:\tlearn: 0.3170342\ttotal: 2.5s\tremaining: 477ms\n",
      "840:\tlearn: 0.3169917\ttotal: 2.51s\tremaining: 474ms\n",
      "841:\tlearn: 0.3169605\ttotal: 2.51s\tremaining: 471ms\n",
      "842:\tlearn: 0.3169140\ttotal: 2.51s\tremaining: 468ms\n",
      "843:\tlearn: 0.3168711\ttotal: 2.52s\tremaining: 465ms\n",
      "844:\tlearn: 0.3168618\ttotal: 2.52s\tremaining: 462ms\n",
      "845:\tlearn: 0.3167896\ttotal: 2.52s\tremaining: 459ms\n",
      "846:\tlearn: 0.3167462\ttotal: 2.52s\tremaining: 456ms\n",
      "847:\tlearn: 0.3166710\ttotal: 2.53s\tremaining: 453ms\n",
      "848:\tlearn: 0.3166372\ttotal: 2.53s\tremaining: 450ms\n",
      "849:\tlearn: 0.3165640\ttotal: 2.53s\tremaining: 447ms\n",
      "850:\tlearn: 0.3165490\ttotal: 2.53s\tremaining: 444ms\n",
      "851:\tlearn: 0.3164981\ttotal: 2.54s\tremaining: 441ms\n",
      "852:\tlearn: 0.3164295\ttotal: 2.54s\tremaining: 438ms\n",
      "853:\tlearn: 0.3164012\ttotal: 2.54s\tremaining: 435ms\n",
      "854:\tlearn: 0.3163431\ttotal: 2.54s\tremaining: 432ms\n",
      "855:\tlearn: 0.3163284\ttotal: 2.55s\tremaining: 429ms\n",
      "856:\tlearn: 0.3162696\ttotal: 2.55s\tremaining: 426ms\n",
      "857:\tlearn: 0.3162542\ttotal: 2.55s\tremaining: 423ms\n",
      "858:\tlearn: 0.3161920\ttotal: 2.56s\tremaining: 420ms\n",
      "859:\tlearn: 0.3161276\ttotal: 2.56s\tremaining: 417ms\n",
      "860:\tlearn: 0.3160903\ttotal: 2.56s\tremaining: 414ms\n",
      "861:\tlearn: 0.3160490\ttotal: 2.56s\tremaining: 411ms\n",
      "862:\tlearn: 0.3159852\ttotal: 2.57s\tremaining: 408ms\n",
      "863:\tlearn: 0.3159738\ttotal: 2.57s\tremaining: 405ms\n",
      "864:\tlearn: 0.3159217\ttotal: 2.57s\tremaining: 401ms\n",
      "865:\tlearn: 0.3158802\ttotal: 2.58s\tremaining: 398ms\n",
      "866:\tlearn: 0.3158322\ttotal: 2.58s\tremaining: 395ms\n",
      "867:\tlearn: 0.3158023\ttotal: 2.58s\tremaining: 392ms\n",
      "868:\tlearn: 0.3157455\ttotal: 2.58s\tremaining: 389ms\n",
      "869:\tlearn: 0.3157005\ttotal: 2.58s\tremaining: 386ms\n",
      "870:\tlearn: 0.3156353\ttotal: 2.59s\tremaining: 383ms\n",
      "871:\tlearn: 0.3155802\ttotal: 2.59s\tremaining: 380ms\n",
      "872:\tlearn: 0.3155305\ttotal: 2.59s\tremaining: 377ms\n",
      "873:\tlearn: 0.3154594\ttotal: 2.6s\tremaining: 374ms\n",
      "874:\tlearn: 0.3154213\ttotal: 2.6s\tremaining: 371ms\n",
      "875:\tlearn: 0.3153768\ttotal: 2.6s\tremaining: 368ms\n",
      "876:\tlearn: 0.3153141\ttotal: 2.6s\tremaining: 365ms\n",
      "877:\tlearn: 0.3152621\ttotal: 2.61s\tremaining: 362ms\n",
      "878:\tlearn: 0.3152201\ttotal: 2.61s\tremaining: 359ms\n",
      "879:\tlearn: 0.3151752\ttotal: 2.61s\tremaining: 356ms\n",
      "880:\tlearn: 0.3151310\ttotal: 2.62s\tremaining: 353ms\n",
      "881:\tlearn: 0.3150796\ttotal: 2.62s\tremaining: 350ms\n",
      "882:\tlearn: 0.3150385\ttotal: 2.62s\tremaining: 347ms\n",
      "883:\tlearn: 0.3149862\ttotal: 2.63s\tremaining: 345ms\n",
      "884:\tlearn: 0.3149206\ttotal: 2.63s\tremaining: 342ms\n",
      "885:\tlearn: 0.3148547\ttotal: 2.63s\tremaining: 339ms\n",
      "886:\tlearn: 0.3148109\ttotal: 2.63s\tremaining: 336ms\n",
      "887:\tlearn: 0.3147812\ttotal: 2.64s\tremaining: 333ms\n",
      "888:\tlearn: 0.3147271\ttotal: 2.64s\tremaining: 330ms\n",
      "889:\tlearn: 0.3146600\ttotal: 2.64s\tremaining: 327ms\n",
      "890:\tlearn: 0.3145948\ttotal: 2.65s\tremaining: 324ms\n",
      "891:\tlearn: 0.3145249\ttotal: 2.65s\tremaining: 321ms\n",
      "892:\tlearn: 0.3144787\ttotal: 2.65s\tremaining: 318ms\n",
      "893:\tlearn: 0.3144229\ttotal: 2.65s\tremaining: 315ms\n",
      "894:\tlearn: 0.3143771\ttotal: 2.66s\tremaining: 312ms\n",
      "895:\tlearn: 0.3143479\ttotal: 2.66s\tremaining: 309ms\n",
      "896:\tlearn: 0.3143167\ttotal: 2.66s\tremaining: 306ms\n",
      "897:\tlearn: 0.3142424\ttotal: 2.66s\tremaining: 303ms\n",
      "898:\tlearn: 0.3141898\ttotal: 2.67s\tremaining: 300ms\n",
      "899:\tlearn: 0.3141629\ttotal: 2.67s\tremaining: 297ms\n",
      "900:\tlearn: 0.3141110\ttotal: 2.67s\tremaining: 294ms\n",
      "901:\tlearn: 0.3140767\ttotal: 2.67s\tremaining: 291ms\n",
      "902:\tlearn: 0.3140255\ttotal: 2.68s\tremaining: 288ms\n",
      "903:\tlearn: 0.3139737\ttotal: 2.68s\tremaining: 285ms\n",
      "904:\tlearn: 0.3139358\ttotal: 2.68s\tremaining: 282ms\n",
      "905:\tlearn: 0.3138875\ttotal: 2.69s\tremaining: 279ms\n",
      "906:\tlearn: 0.3138439\ttotal: 2.69s\tremaining: 276ms\n",
      "907:\tlearn: 0.3138201\ttotal: 2.69s\tremaining: 273ms\n",
      "908:\tlearn: 0.3137911\ttotal: 2.69s\tremaining: 270ms\n",
      "909:\tlearn: 0.3137535\ttotal: 2.7s\tremaining: 267ms\n",
      "910:\tlearn: 0.3137046\ttotal: 2.7s\tremaining: 264ms\n",
      "911:\tlearn: 0.3136683\ttotal: 2.7s\tremaining: 261ms\n",
      "912:\tlearn: 0.3136211\ttotal: 2.71s\tremaining: 258ms\n",
      "913:\tlearn: 0.3135944\ttotal: 2.71s\tremaining: 255ms\n",
      "914:\tlearn: 0.3135571\ttotal: 2.71s\tremaining: 252ms\n",
      "915:\tlearn: 0.3134972\ttotal: 2.71s\tremaining: 249ms\n",
      "916:\tlearn: 0.3134499\ttotal: 2.71s\tremaining: 246ms\n",
      "917:\tlearn: 0.3134290\ttotal: 2.72s\tremaining: 243ms\n",
      "918:\tlearn: 0.3133658\ttotal: 2.72s\tremaining: 240ms\n",
      "919:\tlearn: 0.3133065\ttotal: 2.72s\tremaining: 237ms\n",
      "920:\tlearn: 0.3132691\ttotal: 2.73s\tremaining: 234ms\n",
      "921:\tlearn: 0.3132422\ttotal: 2.73s\tremaining: 231ms\n",
      "922:\tlearn: 0.3131881\ttotal: 2.73s\tremaining: 228ms\n",
      "923:\tlearn: 0.3131461\ttotal: 2.73s\tremaining: 225ms\n",
      "924:\tlearn: 0.3131152\ttotal: 2.74s\tremaining: 222ms\n",
      "925:\tlearn: 0.3130449\ttotal: 2.74s\tremaining: 219ms\n",
      "926:\tlearn: 0.3130160\ttotal: 2.74s\tremaining: 216ms\n",
      "927:\tlearn: 0.3129827\ttotal: 2.75s\tremaining: 213ms\n",
      "928:\tlearn: 0.3129376\ttotal: 2.75s\tremaining: 210ms\n",
      "929:\tlearn: 0.3128957\ttotal: 2.75s\tremaining: 207ms\n",
      "930:\tlearn: 0.3128671\ttotal: 2.75s\tremaining: 204ms\n",
      "931:\tlearn: 0.3128049\ttotal: 2.75s\tremaining: 201ms\n",
      "932:\tlearn: 0.3127396\ttotal: 2.76s\tremaining: 198ms\n",
      "933:\tlearn: 0.3126773\ttotal: 2.76s\tremaining: 195ms\n",
      "934:\tlearn: 0.3126179\ttotal: 2.76s\tremaining: 192ms\n",
      "935:\tlearn: 0.3125883\ttotal: 2.77s\tremaining: 189ms\n",
      "936:\tlearn: 0.3125349\ttotal: 2.77s\tremaining: 186ms\n",
      "937:\tlearn: 0.3124814\ttotal: 2.77s\tremaining: 183ms\n",
      "938:\tlearn: 0.3124247\ttotal: 2.77s\tremaining: 180ms\n",
      "939:\tlearn: 0.3123813\ttotal: 2.78s\tremaining: 177ms\n",
      "940:\tlearn: 0.3123570\ttotal: 2.78s\tremaining: 174ms\n",
      "941:\tlearn: 0.3123209\ttotal: 2.78s\tremaining: 171ms\n",
      "942:\tlearn: 0.3122869\ttotal: 2.79s\tremaining: 168ms\n",
      "943:\tlearn: 0.3122172\ttotal: 2.79s\tremaining: 165ms\n",
      "944:\tlearn: 0.3121534\ttotal: 2.79s\tremaining: 162ms\n"
     ]
    },
    {
     "name": "stdout",
     "output_type": "stream",
     "text": [
      "945:\tlearn: 0.3120893\ttotal: 2.79s\tremaining: 159ms\n",
      "946:\tlearn: 0.3120509\ttotal: 2.8s\tremaining: 157ms\n",
      "947:\tlearn: 0.3120172\ttotal: 2.8s\tremaining: 154ms\n",
      "948:\tlearn: 0.3119955\ttotal: 2.8s\tremaining: 151ms\n",
      "949:\tlearn: 0.3119453\ttotal: 2.81s\tremaining: 148ms\n",
      "950:\tlearn: 0.3118658\ttotal: 2.81s\tremaining: 145ms\n",
      "951:\tlearn: 0.3118255\ttotal: 2.81s\tremaining: 142ms\n",
      "952:\tlearn: 0.3117838\ttotal: 2.81s\tremaining: 139ms\n",
      "953:\tlearn: 0.3116827\ttotal: 2.82s\tremaining: 136ms\n",
      "954:\tlearn: 0.3116162\ttotal: 2.82s\tremaining: 133ms\n",
      "955:\tlearn: 0.3115699\ttotal: 2.82s\tremaining: 130ms\n",
      "956:\tlearn: 0.3115451\ttotal: 2.83s\tremaining: 127ms\n",
      "957:\tlearn: 0.3114910\ttotal: 2.83s\tremaining: 124ms\n",
      "958:\tlearn: 0.3114438\ttotal: 2.83s\tremaining: 121ms\n",
      "959:\tlearn: 0.3114023\ttotal: 2.83s\tremaining: 118ms\n",
      "960:\tlearn: 0.3113466\ttotal: 2.84s\tremaining: 115ms\n",
      "961:\tlearn: 0.3112804\ttotal: 2.84s\tremaining: 112ms\n",
      "962:\tlearn: 0.3112423\ttotal: 2.84s\tremaining: 109ms\n",
      "963:\tlearn: 0.3112251\ttotal: 2.85s\tremaining: 106ms\n",
      "964:\tlearn: 0.3111616\ttotal: 2.85s\tremaining: 103ms\n",
      "965:\tlearn: 0.3111154\ttotal: 2.85s\tremaining: 100ms\n",
      "966:\tlearn: 0.3110704\ttotal: 2.85s\tremaining: 97.4ms\n",
      "967:\tlearn: 0.3110375\ttotal: 2.85s\tremaining: 94.4ms\n",
      "968:\tlearn: 0.3109949\ttotal: 2.86s\tremaining: 91.4ms\n",
      "969:\tlearn: 0.3109478\ttotal: 2.86s\tremaining: 88.5ms\n",
      "970:\tlearn: 0.3109096\ttotal: 2.86s\tremaining: 85.5ms\n",
      "971:\tlearn: 0.3108633\ttotal: 2.87s\tremaining: 82.6ms\n",
      "972:\tlearn: 0.3108134\ttotal: 2.87s\tremaining: 79.6ms\n",
      "973:\tlearn: 0.3107798\ttotal: 2.87s\tremaining: 76.7ms\n",
      "974:\tlearn: 0.3107023\ttotal: 2.87s\tremaining: 73.7ms\n",
      "975:\tlearn: 0.3106621\ttotal: 2.88s\tremaining: 70.7ms\n",
      "976:\tlearn: 0.3106198\ttotal: 2.88s\tremaining: 67.8ms\n",
      "977:\tlearn: 0.3105723\ttotal: 2.88s\tremaining: 64.8ms\n",
      "978:\tlearn: 0.3105331\ttotal: 2.88s\tremaining: 61.9ms\n",
      "979:\tlearn: 0.3104990\ttotal: 2.89s\tremaining: 58.9ms\n",
      "980:\tlearn: 0.3104488\ttotal: 2.89s\tremaining: 56ms\n",
      "981:\tlearn: 0.3103997\ttotal: 2.89s\tremaining: 53ms\n",
      "982:\tlearn: 0.3103328\ttotal: 2.9s\tremaining: 50.1ms\n",
      "983:\tlearn: 0.3102864\ttotal: 2.9s\tremaining: 47.1ms\n",
      "984:\tlearn: 0.3102261\ttotal: 2.9s\tremaining: 44.2ms\n",
      "985:\tlearn: 0.3101646\ttotal: 2.9s\tremaining: 41.3ms\n",
      "986:\tlearn: 0.3101164\ttotal: 2.91s\tremaining: 38.3ms\n",
      "987:\tlearn: 0.3100550\ttotal: 2.91s\tremaining: 35.4ms\n",
      "988:\tlearn: 0.3100395\ttotal: 2.91s\tremaining: 32.4ms\n",
      "989:\tlearn: 0.3100065\ttotal: 2.92s\tremaining: 29.5ms\n",
      "990:\tlearn: 0.3099613\ttotal: 2.92s\tremaining: 26.5ms\n",
      "991:\tlearn: 0.3098989\ttotal: 2.92s\tremaining: 23.6ms\n",
      "992:\tlearn: 0.3098479\ttotal: 2.92s\tremaining: 20.6ms\n",
      "993:\tlearn: 0.3098060\ttotal: 2.93s\tremaining: 17.7ms\n",
      "994:\tlearn: 0.3097475\ttotal: 2.93s\tremaining: 14.7ms\n",
      "995:\tlearn: 0.3096914\ttotal: 2.93s\tremaining: 11.8ms\n",
      "996:\tlearn: 0.3096596\ttotal: 2.94s\tremaining: 8.84ms\n",
      "997:\tlearn: 0.3096320\ttotal: 2.94s\tremaining: 5.89ms\n",
      "998:\tlearn: 0.3096075\ttotal: 2.94s\tremaining: 2.95ms\n",
      "999:\tlearn: 0.3095479\ttotal: 2.94s\tremaining: 0us\n"
     ]
    },
    {
     "data": {
      "text/plain": [
       "<catboost.core.CatBoostRegressor at 0x273fe7b5a48>"
      ]
     },
     "execution_count": 48,
     "metadata": {},
     "output_type": "execute_result"
    }
   ],
   "source": [
    "from catboost import CatBoostRegressor, Pool\n",
    "from sklearn.metrics import r2_score, mean_squared_error\n",
    "from sklearn.model_selection import cross_val_score\n",
    "\n",
    "\n",
    "# We define the model\n",
    "model = CatBoostRegressor(objective='RMSE')\n",
    "\n",
    "# We train model\n",
    "model.fit(X_train, Y_train)"
   ]
  },
  {
   "cell_type": "code",
   "execution_count": null,
   "id": "73a5d9dc",
   "metadata": {},
   "outputs": [],
   "source": []
  },
  {
   "cell_type": "code",
   "execution_count": null,
   "id": "3c739763",
   "metadata": {},
   "outputs": [],
   "source": []
  },
  {
   "cell_type": "code",
   "execution_count": null,
   "id": "b35dea8c",
   "metadata": {},
   "outputs": [],
   "source": []
  },
  {
   "cell_type": "code",
   "execution_count": null,
   "id": "1a584f9d",
   "metadata": {},
   "outputs": [],
   "source": []
  },
  {
   "cell_type": "markdown",
   "id": "02f21b04",
   "metadata": {},
   "source": [
    "**Applying GridSearchCV**"
   ]
  },
  {
   "cell_type": "code",
   "execution_count": 49,
   "id": "d4546872",
   "metadata": {
    "ExecuteTime": {
     "end_time": "2022-03-11T23:12:03.800603Z",
     "start_time": "2022-03-11T23:11:45.240150Z"
    }
   },
   "outputs": [
    {
     "name": "stdout",
     "output_type": "stream",
     "text": [
      "0:\tlearn: 0.4266667\ttotal: 6.79ms\tremaining: 673ms\n",
      "1:\tlearn: 0.4223959\ttotal: 12.4ms\tremaining: 606ms\n",
      "2:\tlearn: 0.4184871\ttotal: 17.5ms\tremaining: 564ms\n",
      "3:\tlearn: 0.4150442\ttotal: 24ms\tremaining: 576ms\n",
      "4:\tlearn: 0.4113303\ttotal: 29.3ms\tremaining: 557ms\n",
      "5:\tlearn: 0.4081682\ttotal: 34.5ms\tremaining: 541ms\n",
      "6:\tlearn: 0.4053983\ttotal: 40.7ms\tremaining: 541ms\n",
      "7:\tlearn: 0.4026253\ttotal: 46ms\tremaining: 529ms\n",
      "8:\tlearn: 0.4001340\ttotal: 52.1ms\tremaining: 527ms\n",
      "9:\tlearn: 0.3975646\ttotal: 57.5ms\tremaining: 518ms\n",
      "10:\tlearn: 0.3957160\ttotal: 60.4ms\tremaining: 488ms\n",
      "11:\tlearn: 0.3937707\ttotal: 65.5ms\tremaining: 480ms\n",
      "12:\tlearn: 0.3917924\ttotal: 71.8ms\tremaining: 480ms\n",
      "13:\tlearn: 0.3897875\ttotal: 77.5ms\tremaining: 476ms\n",
      "14:\tlearn: 0.3880931\ttotal: 83.8ms\tremaining: 475ms\n",
      "15:\tlearn: 0.3865440\ttotal: 89.9ms\tremaining: 472ms\n",
      "16:\tlearn: 0.3852419\ttotal: 96.3ms\tremaining: 470ms\n",
      "17:\tlearn: 0.3840450\ttotal: 103ms\tremaining: 468ms\n",
      "18:\tlearn: 0.3830221\ttotal: 108ms\tremaining: 462ms\n",
      "19:\tlearn: 0.3818941\ttotal: 114ms\tremaining: 457ms\n",
      "20:\tlearn: 0.3809275\ttotal: 120ms\tremaining: 452ms\n",
      "21:\tlearn: 0.3798817\ttotal: 126ms\tremaining: 446ms\n",
      "22:\tlearn: 0.3791351\ttotal: 132ms\tremaining: 442ms\n",
      "23:\tlearn: 0.3784621\ttotal: 138ms\tremaining: 437ms\n",
      "24:\tlearn: 0.3776661\ttotal: 144ms\tremaining: 433ms\n",
      "25:\tlearn: 0.3767794\ttotal: 150ms\tremaining: 427ms\n",
      "26:\tlearn: 0.3759774\ttotal: 156ms\tremaining: 421ms\n",
      "27:\tlearn: 0.3751210\ttotal: 162ms\tremaining: 416ms\n",
      "28:\tlearn: 0.3745682\ttotal: 168ms\tremaining: 411ms\n",
      "29:\tlearn: 0.3739143\ttotal: 174ms\tremaining: 406ms\n",
      "30:\tlearn: 0.3733478\ttotal: 180ms\tremaining: 400ms\n",
      "31:\tlearn: 0.3727607\ttotal: 186ms\tremaining: 395ms\n",
      "32:\tlearn: 0.3719648\ttotal: 192ms\tremaining: 390ms\n",
      "33:\tlearn: 0.3714348\ttotal: 197ms\tremaining: 383ms\n",
      "34:\tlearn: 0.3708383\ttotal: 203ms\tremaining: 378ms\n",
      "35:\tlearn: 0.3704953\ttotal: 210ms\tremaining: 373ms\n",
      "36:\tlearn: 0.3699908\ttotal: 216ms\tremaining: 367ms\n",
      "37:\tlearn: 0.3698561\ttotal: 219ms\tremaining: 357ms\n",
      "38:\tlearn: 0.3694518\ttotal: 224ms\tremaining: 351ms\n",
      "39:\tlearn: 0.3690968\ttotal: 230ms\tremaining: 345ms\n",
      "40:\tlearn: 0.3686993\ttotal: 236ms\tremaining: 339ms\n",
      "41:\tlearn: 0.3682680\ttotal: 241ms\tremaining: 333ms\n",
      "42:\tlearn: 0.3679158\ttotal: 247ms\tremaining: 327ms\n",
      "43:\tlearn: 0.3677083\ttotal: 251ms\tremaining: 320ms\n",
      "44:\tlearn: 0.3672033\ttotal: 256ms\tremaining: 313ms\n",
      "45:\tlearn: 0.3669265\ttotal: 262ms\tremaining: 307ms\n",
      "46:\tlearn: 0.3666480\ttotal: 267ms\tremaining: 302ms\n",
      "47:\tlearn: 0.3663666\ttotal: 273ms\tremaining: 296ms\n",
      "48:\tlearn: 0.3659795\ttotal: 278ms\tremaining: 290ms\n",
      "49:\tlearn: 0.3656884\ttotal: 284ms\tremaining: 284ms\n",
      "50:\tlearn: 0.3652477\ttotal: 289ms\tremaining: 277ms\n",
      "51:\tlearn: 0.3649093\ttotal: 294ms\tremaining: 271ms\n",
      "52:\tlearn: 0.3646708\ttotal: 299ms\tremaining: 265ms\n",
      "53:\tlearn: 0.3643752\ttotal: 304ms\tremaining: 259ms\n",
      "54:\tlearn: 0.3641106\ttotal: 309ms\tremaining: 253ms\n",
      "55:\tlearn: 0.3638719\ttotal: 314ms\tremaining: 247ms\n",
      "56:\tlearn: 0.3638243\ttotal: 317ms\tremaining: 239ms\n",
      "57:\tlearn: 0.3635934\ttotal: 321ms\tremaining: 233ms\n",
      "58:\tlearn: 0.3633891\ttotal: 326ms\tremaining: 227ms\n",
      "59:\tlearn: 0.3631672\ttotal: 331ms\tremaining: 221ms\n",
      "60:\tlearn: 0.3628749\ttotal: 337ms\tremaining: 215ms\n",
      "61:\tlearn: 0.3626344\ttotal: 342ms\tremaining: 209ms\n",
      "62:\tlearn: 0.3625145\ttotal: 346ms\tremaining: 203ms\n",
      "63:\tlearn: 0.3622754\ttotal: 351ms\tremaining: 198ms\n",
      "64:\tlearn: 0.3619771\ttotal: 356ms\tremaining: 192ms\n",
      "65:\tlearn: 0.3617910\ttotal: 361ms\tremaining: 186ms\n",
      "66:\tlearn: 0.3615436\ttotal: 366ms\tremaining: 180ms\n",
      "67:\tlearn: 0.3613896\ttotal: 371ms\tremaining: 175ms\n",
      "68:\tlearn: 0.3611873\ttotal: 377ms\tremaining: 169ms\n",
      "69:\tlearn: 0.3610260\ttotal: 381ms\tremaining: 163ms\n",
      "70:\tlearn: 0.3608344\ttotal: 386ms\tremaining: 158ms\n",
      "71:\tlearn: 0.3606667\ttotal: 391ms\tremaining: 152ms\n",
      "72:\tlearn: 0.3604503\ttotal: 397ms\tremaining: 147ms\n",
      "73:\tlearn: 0.3602697\ttotal: 402ms\tremaining: 141ms\n",
      "74:\tlearn: 0.3600650\ttotal: 407ms\tremaining: 136ms\n",
      "75:\tlearn: 0.3598609\ttotal: 412ms\tremaining: 130ms\n",
      "76:\tlearn: 0.3595744\ttotal: 418ms\tremaining: 125ms\n",
      "77:\tlearn: 0.3593230\ttotal: 424ms\tremaining: 120ms\n",
      "78:\tlearn: 0.3591781\ttotal: 429ms\tremaining: 114ms\n",
      "79:\tlearn: 0.3590641\ttotal: 434ms\tremaining: 109ms\n",
      "80:\tlearn: 0.3587914\ttotal: 439ms\tremaining: 103ms\n",
      "81:\tlearn: 0.3586168\ttotal: 444ms\tremaining: 97.5ms\n",
      "82:\tlearn: 0.3584062\ttotal: 449ms\tremaining: 92ms\n",
      "83:\tlearn: 0.3581256\ttotal: 455ms\tremaining: 86.6ms\n",
      "84:\tlearn: 0.3579601\ttotal: 460ms\tremaining: 81.1ms\n",
      "85:\tlearn: 0.3577217\ttotal: 465ms\tremaining: 75.7ms\n",
      "86:\tlearn: 0.3575476\ttotal: 470ms\tremaining: 70.2ms\n",
      "87:\tlearn: 0.3573566\ttotal: 475ms\tremaining: 64.7ms\n",
      "88:\tlearn: 0.3572139\ttotal: 480ms\tremaining: 59.3ms\n",
      "89:\tlearn: 0.3570744\ttotal: 485ms\tremaining: 53.8ms\n",
      "90:\tlearn: 0.3569284\ttotal: 489ms\tremaining: 48.4ms\n",
      "91:\tlearn: 0.3566876\ttotal: 494ms\tremaining: 43ms\n",
      "92:\tlearn: 0.3564824\ttotal: 499ms\tremaining: 37.6ms\n",
      "93:\tlearn: 0.3562920\ttotal: 504ms\tremaining: 32.2ms\n",
      "94:\tlearn: 0.3561712\ttotal: 509ms\tremaining: 26.8ms\n",
      "95:\tlearn: 0.3560152\ttotal: 514ms\tremaining: 21.4ms\n",
      "96:\tlearn: 0.3557526\ttotal: 519ms\tremaining: 16ms\n",
      "97:\tlearn: 0.3555141\ttotal: 524ms\tremaining: 10.7ms\n",
      "98:\tlearn: 0.3552809\ttotal: 529ms\tremaining: 5.34ms\n",
      "99:\tlearn: 0.3550917\ttotal: 534ms\tremaining: 0us\n",
      " Results from Grid Search \n",
      "\n",
      " The best estimator across ALL searched params:\n",
      " <catboost.core.CatBoostRegressor object at 0x00000273FE863EC8>\n",
      "\n",
      " The best score across ALL searched params:\n",
      " 0.2440766605002807\n",
      "\n",
      " The best parameters across ALL searched params:\n",
      " {'depth': 8, 'iterations': 100, 'learning_rate': 0.05}\n"
     ]
    }
   ],
   "source": [
    "model_CBR = CatBoostRegressor()\n",
    "    \n",
    "parameters = {'depth'         : [6,8,10],\n",
    "              'learning_rate' : [0.01, 0.05, 0.1],\n",
    "               'iterations'    : [30, 50, 100]\n",
    "                 }\n",
    "grid = GridSearchCV(estimator=model_CBR, param_grid = parameters, cv = 2, n_jobs=-1)\n",
    "grid.fit(X_train, Y_train)\n",
    "best_param = grid.best_estimator_\n",
    "\n",
    "print(\" Results from Grid Search \" )\n",
    "print(\"\\n The best estimator across ALL searched params:\\n\", grid.best_estimator_)\n",
    "print(\"\\n The best score across ALL searched params:\\n\", grid.best_score_)\n",
    "print(\"\\n The best parameters across ALL searched params:\\n\", grid.best_params_)"
   ]
  },
  {
   "cell_type": "code",
   "execution_count": 52,
   "id": "209eae6b",
   "metadata": {
    "ExecuteTime": {
     "end_time": "2022-03-11T23:12:27.068140Z",
     "start_time": "2022-03-11T23:12:27.055178Z"
    }
   },
   "outputs": [
    {
     "data": {
      "text/plain": [
       "array([0.07659169, 0.09785196, 0.03289955, ..., 0.54195888, 0.48104324,\n",
       "       0.02295844])"
      ]
     },
     "execution_count": 52,
     "metadata": {},
     "output_type": "execute_result"
    }
   ],
   "source": [
    "#Make predictions using the features from the test data set with base line model\n",
    "\n",
    "predictions = model.predict(df_test[:])\n",
    "\n",
    "predictions"
   ]
  },
  {
   "cell_type": "code",
   "execution_count": 176,
   "id": "18cc6c93",
   "metadata": {
    "ExecuteTime": {
     "end_time": "2022-03-12T01:12:13.220306Z",
     "start_time": "2022-03-12T01:12:13.197367Z"
    }
   },
   "outputs": [
    {
     "data": {
      "text/plain": [
       "array([0.09730056, 0.08385846, 0.1231179 , ..., 0.48132425, 0.57033092,\n",
       "       0.04481426])"
      ]
     },
     "execution_count": 176,
     "metadata": {},
     "output_type": "execute_result"
    }
   ],
   "source": [
    "#2 Make predictions using the features from the test data set with best params\n",
    "\n",
    "predictions_best_params = best_param.predict(df_test[:])\n",
    "\n",
    "predictions_best_params"
   ]
  },
  {
   "cell_type": "code",
   "execution_count": 177,
   "id": "db94bfa9",
   "metadata": {
    "ExecuteTime": {
     "end_time": "2022-03-12T01:12:32.264575Z",
     "start_time": "2022-03-12T01:12:32.252640Z"
    }
   },
   "outputs": [
    {
     "data": {
      "text/plain": [
       "4790"
      ]
     },
     "execution_count": 177,
     "metadata": {},
     "output_type": "execute_result"
    }
   ],
   "source": [
    "len(predictions_best_params)"
   ]
  },
  {
   "cell_type": "code",
   "execution_count": 171,
   "id": "b0741236",
   "metadata": {
    "ExecuteTime": {
     "end_time": "2022-03-12T00:55:50.007110Z",
     "start_time": "2022-03-12T00:55:49.997102Z"
    }
   },
   "outputs": [
    {
     "data": {
      "text/plain": [
       "4790"
      ]
     },
     "execution_count": 171,
     "metadata": {},
     "output_type": "execute_result"
    }
   ],
   "source": [
    "len(predictions)"
   ]
  },
  {
   "cell_type": "code",
   "execution_count": 53,
   "id": "69f03f10",
   "metadata": {
    "ExecuteTime": {
     "end_time": "2022-03-11T23:12:28.036572Z",
     "start_time": "2022-03-11T23:12:28.018655Z"
    }
   },
   "outputs": [
    {
     "data": {
      "text/plain": [
       "(4790, 13)"
      ]
     },
     "execution_count": 53,
     "metadata": {},
     "output_type": "execute_result"
    }
   ],
   "source": [
    "df_test[:].shape"
   ]
  },
  {
   "cell_type": "code",
   "execution_count": 67,
   "id": "af70d317",
   "metadata": {
    "ExecuteTime": {
     "end_time": "2022-03-02T23:44:36.893769Z",
     "start_time": "2022-03-02T23:44:36.882185Z"
    }
   },
   "outputs": [
    {
     "data": {
      "text/html": [
       "<div>\n",
       "<style scoped>\n",
       "    .dataframe tbody tr th:only-of-type {\n",
       "        vertical-align: middle;\n",
       "    }\n",
       "\n",
       "    .dataframe tbody tr th {\n",
       "        vertical-align: top;\n",
       "    }\n",
       "\n",
       "    .dataframe thead th {\n",
       "        text-align: right;\n",
       "    }\n",
       "</style>\n",
       "<table border=\"1\" class=\"dataframe\">\n",
       "  <thead>\n",
       "    <tr style=\"text-align: right;\">\n",
       "      <th></th>\n",
       "      <th>index</th>\n",
       "      <th>target</th>\n",
       "    </tr>\n",
       "  </thead>\n",
       "  <tbody>\n",
       "    <tr>\n",
       "      <th>0</th>\n",
       "      <td>16834</td>\n",
       "      <td>0.094983</td>\n",
       "    </tr>\n",
       "    <tr>\n",
       "      <th>1</th>\n",
       "      <td>15437</td>\n",
       "      <td>0.150020</td>\n",
       "    </tr>\n",
       "    <tr>\n",
       "      <th>2</th>\n",
       "      <td>8549</td>\n",
       "      <td>0.152779</td>\n",
       "    </tr>\n",
       "    <tr>\n",
       "      <th>3</th>\n",
       "      <td>7222</td>\n",
       "      <td>0.047479</td>\n",
       "    </tr>\n",
       "    <tr>\n",
       "      <th>4</th>\n",
       "      <td>17054</td>\n",
       "      <td>0.042249</td>\n",
       "    </tr>\n",
       "    <tr>\n",
       "      <th>5</th>\n",
       "      <td>11377</td>\n",
       "      <td>0.068399</td>\n",
       "    </tr>\n",
       "    <tr>\n",
       "      <th>6</th>\n",
       "      <td>7631</td>\n",
       "      <td>0.050913</td>\n",
       "    </tr>\n",
       "    <tr>\n",
       "      <th>7</th>\n",
       "      <td>14569</td>\n",
       "      <td>0.584594</td>\n",
       "    </tr>\n",
       "    <tr>\n",
       "      <th>8</th>\n",
       "      <td>10441</td>\n",
       "      <td>0.032570</td>\n",
       "    </tr>\n",
       "    <tr>\n",
       "      <th>9</th>\n",
       "      <td>4487</td>\n",
       "      <td>0.048840</td>\n",
       "    </tr>\n",
       "  </tbody>\n",
       "</table>\n",
       "</div>"
      ],
      "text/plain": [
       "   index    target\n",
       "0  16834  0.094983\n",
       "1  15437  0.150020\n",
       "2   8549  0.152779\n",
       "3   7222  0.047479\n",
       "4  17054  0.042249\n",
       "5  11377  0.068399\n",
       "6   7631  0.050913\n",
       "7  14569  0.584594\n",
       "8  10441  0.032570\n",
       "9   4487  0.048840"
      ]
     },
     "execution_count": 67,
     "metadata": {},
     "output_type": "execute_result"
    }
   ],
   "source": [
    "#Create a  DataFrame to save the submissions with base model\n",
    "submission = pd.DataFrame({'index':df_test['index'],'target':predictions})\n",
    "                        \n",
    "\n",
    "#Visualize the first 10 rows\n",
    "submission.head(10)"
   ]
  },
  {
   "cell_type": "code",
   "execution_count": 178,
   "id": "34392297",
   "metadata": {
    "ExecuteTime": {
     "end_time": "2022-03-12T01:13:37.415107Z",
     "start_time": "2022-03-12T01:13:37.399823Z"
    }
   },
   "outputs": [
    {
     "data": {
      "text/html": [
       "<div>\n",
       "<style scoped>\n",
       "    .dataframe tbody tr th:only-of-type {\n",
       "        vertical-align: middle;\n",
       "    }\n",
       "\n",
       "    .dataframe tbody tr th {\n",
       "        vertical-align: top;\n",
       "    }\n",
       "\n",
       "    .dataframe thead th {\n",
       "        text-align: right;\n",
       "    }\n",
       "</style>\n",
       "<table border=\"1\" class=\"dataframe\">\n",
       "  <thead>\n",
       "    <tr style=\"text-align: right;\">\n",
       "      <th></th>\n",
       "      <th>index</th>\n",
       "      <th>target</th>\n",
       "    </tr>\n",
       "  </thead>\n",
       "  <tbody>\n",
       "    <tr>\n",
       "      <th>0</th>\n",
       "      <td>16834</td>\n",
       "      <td>0.097301</td>\n",
       "    </tr>\n",
       "    <tr>\n",
       "      <th>1</th>\n",
       "      <td>15437</td>\n",
       "      <td>0.083858</td>\n",
       "    </tr>\n",
       "    <tr>\n",
       "      <th>2</th>\n",
       "      <td>8549</td>\n",
       "      <td>0.123118</td>\n",
       "    </tr>\n",
       "    <tr>\n",
       "      <th>3</th>\n",
       "      <td>7222</td>\n",
       "      <td>0.123568</td>\n",
       "    </tr>\n",
       "    <tr>\n",
       "      <th>4</th>\n",
       "      <td>17054</td>\n",
       "      <td>0.186713</td>\n",
       "    </tr>\n",
       "    <tr>\n",
       "      <th>5</th>\n",
       "      <td>11377</td>\n",
       "      <td>0.456575</td>\n",
       "    </tr>\n",
       "    <tr>\n",
       "      <th>6</th>\n",
       "      <td>7631</td>\n",
       "      <td>0.317581</td>\n",
       "    </tr>\n",
       "    <tr>\n",
       "      <th>7</th>\n",
       "      <td>14569</td>\n",
       "      <td>0.542315</td>\n",
       "    </tr>\n",
       "    <tr>\n",
       "      <th>8</th>\n",
       "      <td>10441</td>\n",
       "      <td>0.020262</td>\n",
       "    </tr>\n",
       "    <tr>\n",
       "      <th>9</th>\n",
       "      <td>4487</td>\n",
       "      <td>0.186412</td>\n",
       "    </tr>\n",
       "  </tbody>\n",
       "</table>\n",
       "</div>"
      ],
      "text/plain": [
       "   index    target\n",
       "0  16834  0.097301\n",
       "1  15437  0.083858\n",
       "2   8549  0.123118\n",
       "3   7222  0.123568\n",
       "4  17054  0.186713\n",
       "5  11377  0.456575\n",
       "6   7631  0.317581\n",
       "7  14569  0.542315\n",
       "8  10441  0.020262\n",
       "9   4487  0.186412"
      ]
     },
     "execution_count": 178,
     "metadata": {},
     "output_type": "execute_result"
    }
   ],
   "source": [
    "#Create a  DataFrame to save the submissions with best params\n",
    "submission_best_params = pd.DataFrame({'index':df_test['index'],'target':predictions_best_params})\n",
    "                        \n",
    "\n",
    "#Visualize the first 10 rows\n",
    "submission_best_params.head(10)"
   ]
  },
  {
   "cell_type": "code",
   "execution_count": 70,
   "id": "0b7c0c1e",
   "metadata": {
    "ExecuteTime": {
     "end_time": "2022-03-02T23:48:02.742178Z",
     "start_time": "2022-03-02T23:48:02.639580Z"
    }
   },
   "outputs": [
    {
     "name": "stdout",
     "output_type": "stream",
     "text": [
      "Saved file: submission.csv\n"
     ]
    }
   ],
   "source": [
    "#This is base line model output csv file without best params\n",
    "\n",
    "filename = 'submission.csv'\n",
    "filepath = 'D:/Masters/SJSU/Academics/sem_2/CMPE_257_ML/CMPE_257_ML_git/Assignments/lab1/'\n",
    "submission.to_csv( filepath + filename,index=False)\n",
    "\n",
    "print('Saved file: ' + filename)"
   ]
  },
  {
   "cell_type": "code",
   "execution_count": 180,
   "id": "69f63a7b",
   "metadata": {
    "ExecuteTime": {
     "end_time": "2022-03-12T01:14:07.381602Z",
     "start_time": "2022-03-12T01:14:07.291838Z"
    }
   },
   "outputs": [
    {
     "name": "stdout",
     "output_type": "stream",
     "text": [
      "Saved file: submission_best_params.csv\n"
     ]
    }
   ],
   "source": [
    "#This is giving the best output cvs file which is trained with best params\n",
    "\n",
    "filename = 'submission_best_params.csv'\n",
    "filepath = 'D:/Masters/SJSU/Academics/sem_2/CMPE_257_ML/CMPE_257_ML_git/Assignments/lab1/'\n",
    "submission_best_params.to_csv( filepath + filename,index=False)\n",
    "\n",
    "print('Saved file: ' + filename)"
   ]
  },
  {
   "cell_type": "markdown",
   "id": "a743e352",
   "metadata": {},
   "source": [
    "# Method 2"
   ]
  },
  {
   "cell_type": "code",
   "execution_count": 20,
   "id": "2cc95f8b",
   "metadata": {
    "ExecuteTime": {
     "end_time": "2022-03-02T21:57:20.287149Z",
     "start_time": "2022-03-02T21:57:20.248271Z"
    }
   },
   "outputs": [],
   "source": [
    "#df_pre = pd.concat([df_train, df_test], axis = 0).reset_index(drop = True)\n"
   ]
  },
  {
   "cell_type": "code",
   "execution_count": 102,
   "id": "31bdeac8",
   "metadata": {
    "ExecuteTime": {
     "end_time": "2022-03-12T00:14:33.935009Z",
     "start_time": "2022-03-12T00:14:33.889134Z"
    }
   },
   "outputs": [
    {
     "data": {
      "text/html": [
       "<div>\n",
       "<style scoped>\n",
       "    .dataframe tbody tr th:only-of-type {\n",
       "        vertical-align: middle;\n",
       "    }\n",
       "\n",
       "    .dataframe tbody tr th {\n",
       "        vertical-align: top;\n",
       "    }\n",
       "\n",
       "    .dataframe thead th {\n",
       "        text-align: right;\n",
       "    }\n",
       "</style>\n",
       "<table border=\"1\" class=\"dataframe\">\n",
       "  <thead>\n",
       "    <tr style=\"text-align: right;\">\n",
       "      <th></th>\n",
       "      <th>index</th>\n",
       "      <th>city</th>\n",
       "      <th>city_development_index</th>\n",
       "      <th>gender</th>\n",
       "      <th>relevent_experience</th>\n",
       "      <th>enrolled_university</th>\n",
       "      <th>education_level</th>\n",
       "      <th>major_discipline</th>\n",
       "      <th>experience</th>\n",
       "      <th>company_size</th>\n",
       "      <th>company_type</th>\n",
       "      <th>last_new_job</th>\n",
       "      <th>training_hours</th>\n",
       "    </tr>\n",
       "  </thead>\n",
       "  <tbody>\n",
       "    <tr>\n",
       "      <th>0</th>\n",
       "      <td>17007</td>\n",
       "      <td>city_61</td>\n",
       "      <td>0.913</td>\n",
       "      <td>Male</td>\n",
       "      <td>Has relevent experience</td>\n",
       "      <td>no_enrollment</td>\n",
       "      <td>Masters</td>\n",
       "      <td>STEM</td>\n",
       "      <td>4</td>\n",
       "      <td>100-500</td>\n",
       "      <td>NGO</td>\n",
       "      <td>1</td>\n",
       "      <td>22</td>\n",
       "    </tr>\n",
       "    <tr>\n",
       "      <th>1</th>\n",
       "      <td>631</td>\n",
       "      <td>city_94</td>\n",
       "      <td>0.698</td>\n",
       "      <td>Male</td>\n",
       "      <td>Has relevent experience</td>\n",
       "      <td>NaN</td>\n",
       "      <td>High School</td>\n",
       "      <td>NaN</td>\n",
       "      <td>3</td>\n",
       "      <td>NaN</td>\n",
       "      <td>NaN</td>\n",
       "      <td>1</td>\n",
       "      <td>22</td>\n",
       "    </tr>\n",
       "    <tr>\n",
       "      <th>2</th>\n",
       "      <td>669</td>\n",
       "      <td>city_114</td>\n",
       "      <td>0.926</td>\n",
       "      <td>NaN</td>\n",
       "      <td>Has relevent experience</td>\n",
       "      <td>Full time course</td>\n",
       "      <td>Masters</td>\n",
       "      <td>STEM</td>\n",
       "      <td>9</td>\n",
       "      <td>50-99</td>\n",
       "      <td>Pvt Ltd</td>\n",
       "      <td>1</td>\n",
       "      <td>88</td>\n",
       "    </tr>\n",
       "    <tr>\n",
       "      <th>3</th>\n",
       "      <td>8949</td>\n",
       "      <td>city_114</td>\n",
       "      <td>0.926</td>\n",
       "      <td>Male</td>\n",
       "      <td>No relevent experience</td>\n",
       "      <td>Full time course</td>\n",
       "      <td>Graduate</td>\n",
       "      <td>STEM</td>\n",
       "      <td>14</td>\n",
       "      <td>NaN</td>\n",
       "      <td>NaN</td>\n",
       "      <td>4</td>\n",
       "      <td>91</td>\n",
       "    </tr>\n",
       "    <tr>\n",
       "      <th>4</th>\n",
       "      <td>2341</td>\n",
       "      <td>city_16</td>\n",
       "      <td>0.910</td>\n",
       "      <td>NaN</td>\n",
       "      <td>Has relevent experience</td>\n",
       "      <td>no_enrollment</td>\n",
       "      <td>Graduate</td>\n",
       "      <td>STEM</td>\n",
       "      <td>1</td>\n",
       "      <td>5000-9999</td>\n",
       "      <td>Pvt Ltd</td>\n",
       "      <td>1</td>\n",
       "      <td>92</td>\n",
       "    </tr>\n",
       "  </tbody>\n",
       "</table>\n",
       "</div>"
      ],
      "text/plain": [
       "   index      city  city_development_index gender      relevent_experience  \\\n",
       "0  17007   city_61                   0.913   Male  Has relevent experience   \n",
       "1    631   city_94                   0.698   Male  Has relevent experience   \n",
       "2    669  city_114                   0.926    NaN  Has relevent experience   \n",
       "3   8949  city_114                   0.926   Male   No relevent experience   \n",
       "4   2341   city_16                   0.910    NaN  Has relevent experience   \n",
       "\n",
       "  enrolled_university education_level major_discipline experience  \\\n",
       "0       no_enrollment         Masters             STEM          4   \n",
       "1                 NaN     High School              NaN          3   \n",
       "2    Full time course         Masters             STEM          9   \n",
       "3    Full time course        Graduate             STEM         14   \n",
       "4       no_enrollment        Graduate             STEM          1   \n",
       "\n",
       "  company_size company_type last_new_job  training_hours  \n",
       "0      100-500          NGO            1              22  \n",
       "1          NaN          NaN            1              22  \n",
       "2        50-99      Pvt Ltd            1              88  \n",
       "3          NaN          NaN            4              91  \n",
       "4    5000-9999      Pvt Ltd            1              92  "
      ]
     },
     "execution_count": 102,
     "metadata": {},
     "output_type": "execute_result"
    }
   ],
   "source": [
    "df_train_meth_2= pd.read_csv('D:/Masters/SJSU/Academics/sem_2/CMPE_257_ML/CMPE_257_ML_git/Assignments/lab1/Data/x_train.csv')\n",
    "df_train_meth_2.head()"
   ]
  },
  {
   "cell_type": "code",
   "execution_count": 103,
   "id": "5ea58fdd",
   "metadata": {
    "ExecuteTime": {
     "end_time": "2022-03-12T00:14:46.845529Z",
     "start_time": "2022-03-12T00:14:46.830536Z"
    }
   },
   "outputs": [
    {
     "data": {
      "text/html": [
       "<div>\n",
       "<style scoped>\n",
       "    .dataframe tbody tr th:only-of-type {\n",
       "        vertical-align: middle;\n",
       "    }\n",
       "\n",
       "    .dataframe tbody tr th {\n",
       "        vertical-align: top;\n",
       "    }\n",
       "\n",
       "    .dataframe thead th {\n",
       "        text-align: right;\n",
       "    }\n",
       "</style>\n",
       "<table border=\"1\" class=\"dataframe\">\n",
       "  <thead>\n",
       "    <tr style=\"text-align: right;\">\n",
       "      <th></th>\n",
       "      <th>index</th>\n",
       "      <th>target</th>\n",
       "    </tr>\n",
       "  </thead>\n",
       "  <tbody>\n",
       "    <tr>\n",
       "      <th>0</th>\n",
       "      <td>17007</td>\n",
       "      <td>0.0</td>\n",
       "    </tr>\n",
       "    <tr>\n",
       "      <th>1</th>\n",
       "      <td>631</td>\n",
       "      <td>1.0</td>\n",
       "    </tr>\n",
       "    <tr>\n",
       "      <th>2</th>\n",
       "      <td>669</td>\n",
       "      <td>0.0</td>\n",
       "    </tr>\n",
       "    <tr>\n",
       "      <th>3</th>\n",
       "      <td>8949</td>\n",
       "      <td>0.0</td>\n",
       "    </tr>\n",
       "    <tr>\n",
       "      <th>4</th>\n",
       "      <td>2341</td>\n",
       "      <td>0.0</td>\n",
       "    </tr>\n",
       "  </tbody>\n",
       "</table>\n",
       "</div>"
      ],
      "text/plain": [
       "   index  target\n",
       "0  17007     0.0\n",
       "1    631     1.0\n",
       "2    669     0.0\n",
       "3   8949     0.0\n",
       "4   2341     0.0"
      ]
     },
     "execution_count": 103,
     "metadata": {},
     "output_type": "execute_result"
    }
   ],
   "source": [
    "df_output_meth_2 = pd.read_csv('D:/Masters/SJSU/Academics/sem_2/CMPE_257_ML/CMPE_257_ML_git/Assignments/lab1/Data/y_train.csv')\n",
    "df_output_meth_2.head()"
   ]
  },
  {
   "cell_type": "code",
   "execution_count": 104,
   "id": "82e37738",
   "metadata": {
    "ExecuteTime": {
     "end_time": "2022-03-12T00:15:01.405018Z",
     "start_time": "2022-03-12T00:15:01.371108Z"
    }
   },
   "outputs": [
    {
     "data": {
      "text/html": [
       "<div>\n",
       "<style scoped>\n",
       "    .dataframe tbody tr th:only-of-type {\n",
       "        vertical-align: middle;\n",
       "    }\n",
       "\n",
       "    .dataframe tbody tr th {\n",
       "        vertical-align: top;\n",
       "    }\n",
       "\n",
       "    .dataframe thead th {\n",
       "        text-align: right;\n",
       "    }\n",
       "</style>\n",
       "<table border=\"1\" class=\"dataframe\">\n",
       "  <thead>\n",
       "    <tr style=\"text-align: right;\">\n",
       "      <th></th>\n",
       "      <th>index</th>\n",
       "      <th>city</th>\n",
       "      <th>city_development_index</th>\n",
       "      <th>gender</th>\n",
       "      <th>relevent_experience</th>\n",
       "      <th>enrolled_university</th>\n",
       "      <th>education_level</th>\n",
       "      <th>major_discipline</th>\n",
       "      <th>experience</th>\n",
       "      <th>company_size</th>\n",
       "      <th>company_type</th>\n",
       "      <th>last_new_job</th>\n",
       "      <th>training_hours</th>\n",
       "      <th>target</th>\n",
       "    </tr>\n",
       "  </thead>\n",
       "  <tbody>\n",
       "    <tr>\n",
       "      <th>0</th>\n",
       "      <td>17007</td>\n",
       "      <td>city_61</td>\n",
       "      <td>0.913</td>\n",
       "      <td>Male</td>\n",
       "      <td>Has relevent experience</td>\n",
       "      <td>no_enrollment</td>\n",
       "      <td>Masters</td>\n",
       "      <td>STEM</td>\n",
       "      <td>4</td>\n",
       "      <td>100-500</td>\n",
       "      <td>NGO</td>\n",
       "      <td>1</td>\n",
       "      <td>22</td>\n",
       "      <td>0.0</td>\n",
       "    </tr>\n",
       "    <tr>\n",
       "      <th>1</th>\n",
       "      <td>631</td>\n",
       "      <td>city_94</td>\n",
       "      <td>0.698</td>\n",
       "      <td>Male</td>\n",
       "      <td>Has relevent experience</td>\n",
       "      <td>NaN</td>\n",
       "      <td>High School</td>\n",
       "      <td>NaN</td>\n",
       "      <td>3</td>\n",
       "      <td>NaN</td>\n",
       "      <td>NaN</td>\n",
       "      <td>1</td>\n",
       "      <td>22</td>\n",
       "      <td>1.0</td>\n",
       "    </tr>\n",
       "    <tr>\n",
       "      <th>2</th>\n",
       "      <td>669</td>\n",
       "      <td>city_114</td>\n",
       "      <td>0.926</td>\n",
       "      <td>NaN</td>\n",
       "      <td>Has relevent experience</td>\n",
       "      <td>Full time course</td>\n",
       "      <td>Masters</td>\n",
       "      <td>STEM</td>\n",
       "      <td>9</td>\n",
       "      <td>50-99</td>\n",
       "      <td>Pvt Ltd</td>\n",
       "      <td>1</td>\n",
       "      <td>88</td>\n",
       "      <td>0.0</td>\n",
       "    </tr>\n",
       "    <tr>\n",
       "      <th>3</th>\n",
       "      <td>8949</td>\n",
       "      <td>city_114</td>\n",
       "      <td>0.926</td>\n",
       "      <td>Male</td>\n",
       "      <td>No relevent experience</td>\n",
       "      <td>Full time course</td>\n",
       "      <td>Graduate</td>\n",
       "      <td>STEM</td>\n",
       "      <td>14</td>\n",
       "      <td>NaN</td>\n",
       "      <td>NaN</td>\n",
       "      <td>4</td>\n",
       "      <td>91</td>\n",
       "      <td>0.0</td>\n",
       "    </tr>\n",
       "    <tr>\n",
       "      <th>4</th>\n",
       "      <td>2341</td>\n",
       "      <td>city_16</td>\n",
       "      <td>0.910</td>\n",
       "      <td>NaN</td>\n",
       "      <td>Has relevent experience</td>\n",
       "      <td>no_enrollment</td>\n",
       "      <td>Graduate</td>\n",
       "      <td>STEM</td>\n",
       "      <td>1</td>\n",
       "      <td>5000-9999</td>\n",
       "      <td>Pvt Ltd</td>\n",
       "      <td>1</td>\n",
       "      <td>92</td>\n",
       "      <td>0.0</td>\n",
       "    </tr>\n",
       "  </tbody>\n",
       "</table>\n",
       "</div>"
      ],
      "text/plain": [
       "   index      city  city_development_index gender      relevent_experience  \\\n",
       "0  17007   city_61                   0.913   Male  Has relevent experience   \n",
       "1    631   city_94                   0.698   Male  Has relevent experience   \n",
       "2    669  city_114                   0.926    NaN  Has relevent experience   \n",
       "3   8949  city_114                   0.926   Male   No relevent experience   \n",
       "4   2341   city_16                   0.910    NaN  Has relevent experience   \n",
       "\n",
       "  enrolled_university education_level major_discipline experience  \\\n",
       "0       no_enrollment         Masters             STEM          4   \n",
       "1                 NaN     High School              NaN          3   \n",
       "2    Full time course         Masters             STEM          9   \n",
       "3    Full time course        Graduate             STEM         14   \n",
       "4       no_enrollment        Graduate             STEM          1   \n",
       "\n",
       "  company_size company_type last_new_job  training_hours  target  \n",
       "0      100-500          NGO            1              22     0.0  \n",
       "1          NaN          NaN            1              22     1.0  \n",
       "2        50-99      Pvt Ltd            1              88     0.0  \n",
       "3          NaN          NaN            4              91     0.0  \n",
       "4    5000-9999      Pvt Ltd            1              92     0.0  "
      ]
     },
     "execution_count": 104,
     "metadata": {},
     "output_type": "execute_result"
    }
   ],
   "source": [
    "merged_df_meth_2 = df_train_meth_2.merge(df_output_meth_2, on='index')\n",
    "merged_df_meth_2.head()"
   ]
  },
  {
   "cell_type": "code",
   "execution_count": 105,
   "id": "be0633d3",
   "metadata": {
    "ExecuteTime": {
     "end_time": "2022-03-12T00:15:05.480652Z",
     "start_time": "2022-03-12T00:15:05.451730Z"
    }
   },
   "outputs": [
    {
     "data": {
      "text/html": [
       "<div>\n",
       "<style scoped>\n",
       "    .dataframe tbody tr th:only-of-type {\n",
       "        vertical-align: middle;\n",
       "    }\n",
       "\n",
       "    .dataframe tbody tr th {\n",
       "        vertical-align: top;\n",
       "    }\n",
       "\n",
       "    .dataframe thead th {\n",
       "        text-align: right;\n",
       "    }\n",
       "</style>\n",
       "<table border=\"1\" class=\"dataframe\">\n",
       "  <thead>\n",
       "    <tr style=\"text-align: right;\">\n",
       "      <th></th>\n",
       "      <th>index</th>\n",
       "      <th>city</th>\n",
       "      <th>city_development_index</th>\n",
       "      <th>gender</th>\n",
       "      <th>relevent_experience</th>\n",
       "      <th>enrolled_university</th>\n",
       "      <th>education_level</th>\n",
       "      <th>major_discipline</th>\n",
       "      <th>experience</th>\n",
       "      <th>company_size</th>\n",
       "      <th>company_type</th>\n",
       "      <th>last_new_job</th>\n",
       "      <th>training_hours</th>\n",
       "    </tr>\n",
       "  </thead>\n",
       "  <tbody>\n",
       "    <tr>\n",
       "      <th>0</th>\n",
       "      <td>16834</td>\n",
       "      <td>city_104</td>\n",
       "      <td>0.924</td>\n",
       "      <td>Male</td>\n",
       "      <td>Has relevent experience</td>\n",
       "      <td>no_enrollment</td>\n",
       "      <td>Primary School</td>\n",
       "      <td>NaN</td>\n",
       "      <td>15</td>\n",
       "      <td>100-500</td>\n",
       "      <td>Pvt Ltd</td>\n",
       "      <td>2</td>\n",
       "      <td>58</td>\n",
       "    </tr>\n",
       "    <tr>\n",
       "      <th>1</th>\n",
       "      <td>15437</td>\n",
       "      <td>city_114</td>\n",
       "      <td>0.926</td>\n",
       "      <td>Male</td>\n",
       "      <td>No relevent experience</td>\n",
       "      <td>no_enrollment</td>\n",
       "      <td>Masters</td>\n",
       "      <td>STEM</td>\n",
       "      <td>&gt;20</td>\n",
       "      <td>10000+</td>\n",
       "      <td>Pvt Ltd</td>\n",
       "      <td>&gt;4</td>\n",
       "      <td>308</td>\n",
       "    </tr>\n",
       "    <tr>\n",
       "      <th>2</th>\n",
       "      <td>8549</td>\n",
       "      <td>city_83</td>\n",
       "      <td>0.923</td>\n",
       "      <td>Male</td>\n",
       "      <td>No relevent experience</td>\n",
       "      <td>Full time course</td>\n",
       "      <td>High School</td>\n",
       "      <td>NaN</td>\n",
       "      <td>2</td>\n",
       "      <td>NaN</td>\n",
       "      <td>NaN</td>\n",
       "      <td>never</td>\n",
       "      <td>8</td>\n",
       "    </tr>\n",
       "    <tr>\n",
       "      <th>3</th>\n",
       "      <td>7222</td>\n",
       "      <td>city_103</td>\n",
       "      <td>0.920</td>\n",
       "      <td>Male</td>\n",
       "      <td>No relevent experience</td>\n",
       "      <td>no_enrollment</td>\n",
       "      <td>Primary School</td>\n",
       "      <td>NaN</td>\n",
       "      <td>6</td>\n",
       "      <td>NaN</td>\n",
       "      <td>NaN</td>\n",
       "      <td>never</td>\n",
       "      <td>85</td>\n",
       "    </tr>\n",
       "    <tr>\n",
       "      <th>4</th>\n",
       "      <td>17054</td>\n",
       "      <td>city_103</td>\n",
       "      <td>0.920</td>\n",
       "      <td>Female</td>\n",
       "      <td>Has relevent experience</td>\n",
       "      <td>no_enrollment</td>\n",
       "      <td>Graduate</td>\n",
       "      <td>STEM</td>\n",
       "      <td>7</td>\n",
       "      <td>500-999</td>\n",
       "      <td>NaN</td>\n",
       "      <td>1</td>\n",
       "      <td>3</td>\n",
       "    </tr>\n",
       "  </tbody>\n",
       "</table>\n",
       "</div>"
      ],
      "text/plain": [
       "   index      city  city_development_index  gender      relevent_experience  \\\n",
       "0  16834  city_104                   0.924    Male  Has relevent experience   \n",
       "1  15437  city_114                   0.926    Male   No relevent experience   \n",
       "2   8549   city_83                   0.923    Male   No relevent experience   \n",
       "3   7222  city_103                   0.920    Male   No relevent experience   \n",
       "4  17054  city_103                   0.920  Female  Has relevent experience   \n",
       "\n",
       "  enrolled_university education_level major_discipline experience  \\\n",
       "0       no_enrollment  Primary School              NaN         15   \n",
       "1       no_enrollment         Masters             STEM        >20   \n",
       "2    Full time course     High School              NaN          2   \n",
       "3       no_enrollment  Primary School              NaN          6   \n",
       "4       no_enrollment        Graduate             STEM          7   \n",
       "\n",
       "  company_size company_type last_new_job  training_hours  \n",
       "0      100-500      Pvt Ltd            2              58  \n",
       "1       10000+      Pvt Ltd           >4             308  \n",
       "2          NaN          NaN        never               8  \n",
       "3          NaN          NaN        never              85  \n",
       "4      500-999          NaN            1               3  "
      ]
     },
     "execution_count": 105,
     "metadata": {},
     "output_type": "execute_result"
    }
   ],
   "source": [
    "df_test_meth_2 = pd.read_csv('D:/Masters/SJSU/Academics/sem_2/CMPE_257_ML/CMPE_257_ML_git/Assignments/lab1/Data/x_test.csv')\n",
    "df_test_meth_2.head()"
   ]
  },
  {
   "cell_type": "code",
   "execution_count": 109,
   "id": "7f23859b",
   "metadata": {
    "ExecuteTime": {
     "end_time": "2022-03-12T00:15:43.025460Z",
     "start_time": "2022-03-12T00:15:43.012471Z"
    }
   },
   "outputs": [],
   "source": [
    "#remeber that we have to drop this column later\n",
    "df_test_meth_2['target'] = -1 "
   ]
  },
  {
   "cell_type": "code",
   "execution_count": 110,
   "id": "23e006e7",
   "metadata": {
    "ExecuteTime": {
     "end_time": "2022-03-12T00:15:43.959285Z",
     "start_time": "2022-03-12T00:15:43.941299Z"
    }
   },
   "outputs": [
    {
     "data": {
      "text/html": [
       "<div>\n",
       "<style scoped>\n",
       "    .dataframe tbody tr th:only-of-type {\n",
       "        vertical-align: middle;\n",
       "    }\n",
       "\n",
       "    .dataframe tbody tr th {\n",
       "        vertical-align: top;\n",
       "    }\n",
       "\n",
       "    .dataframe thead th {\n",
       "        text-align: right;\n",
       "    }\n",
       "</style>\n",
       "<table border=\"1\" class=\"dataframe\">\n",
       "  <thead>\n",
       "    <tr style=\"text-align: right;\">\n",
       "      <th></th>\n",
       "      <th>index</th>\n",
       "      <th>city</th>\n",
       "      <th>city_development_index</th>\n",
       "      <th>gender</th>\n",
       "      <th>relevent_experience</th>\n",
       "      <th>enrolled_university</th>\n",
       "      <th>education_level</th>\n",
       "      <th>major_discipline</th>\n",
       "      <th>experience</th>\n",
       "      <th>company_size</th>\n",
       "      <th>company_type</th>\n",
       "      <th>last_new_job</th>\n",
       "      <th>training_hours</th>\n",
       "      <th>target</th>\n",
       "    </tr>\n",
       "  </thead>\n",
       "  <tbody>\n",
       "    <tr>\n",
       "      <th>0</th>\n",
       "      <td>16834</td>\n",
       "      <td>city_104</td>\n",
       "      <td>0.924</td>\n",
       "      <td>Male</td>\n",
       "      <td>Has relevent experience</td>\n",
       "      <td>no_enrollment</td>\n",
       "      <td>Primary School</td>\n",
       "      <td>NaN</td>\n",
       "      <td>15</td>\n",
       "      <td>100-500</td>\n",
       "      <td>Pvt Ltd</td>\n",
       "      <td>2</td>\n",
       "      <td>58</td>\n",
       "      <td>-1</td>\n",
       "    </tr>\n",
       "    <tr>\n",
       "      <th>1</th>\n",
       "      <td>15437</td>\n",
       "      <td>city_114</td>\n",
       "      <td>0.926</td>\n",
       "      <td>Male</td>\n",
       "      <td>No relevent experience</td>\n",
       "      <td>no_enrollment</td>\n",
       "      <td>Masters</td>\n",
       "      <td>STEM</td>\n",
       "      <td>&gt;20</td>\n",
       "      <td>10000+</td>\n",
       "      <td>Pvt Ltd</td>\n",
       "      <td>&gt;4</td>\n",
       "      <td>308</td>\n",
       "      <td>-1</td>\n",
       "    </tr>\n",
       "    <tr>\n",
       "      <th>2</th>\n",
       "      <td>8549</td>\n",
       "      <td>city_83</td>\n",
       "      <td>0.923</td>\n",
       "      <td>Male</td>\n",
       "      <td>No relevent experience</td>\n",
       "      <td>Full time course</td>\n",
       "      <td>High School</td>\n",
       "      <td>NaN</td>\n",
       "      <td>2</td>\n",
       "      <td>NaN</td>\n",
       "      <td>NaN</td>\n",
       "      <td>never</td>\n",
       "      <td>8</td>\n",
       "      <td>-1</td>\n",
       "    </tr>\n",
       "    <tr>\n",
       "      <th>3</th>\n",
       "      <td>7222</td>\n",
       "      <td>city_103</td>\n",
       "      <td>0.920</td>\n",
       "      <td>Male</td>\n",
       "      <td>No relevent experience</td>\n",
       "      <td>no_enrollment</td>\n",
       "      <td>Primary School</td>\n",
       "      <td>NaN</td>\n",
       "      <td>6</td>\n",
       "      <td>NaN</td>\n",
       "      <td>NaN</td>\n",
       "      <td>never</td>\n",
       "      <td>85</td>\n",
       "      <td>-1</td>\n",
       "    </tr>\n",
       "    <tr>\n",
       "      <th>4</th>\n",
       "      <td>17054</td>\n",
       "      <td>city_103</td>\n",
       "      <td>0.920</td>\n",
       "      <td>Female</td>\n",
       "      <td>Has relevent experience</td>\n",
       "      <td>no_enrollment</td>\n",
       "      <td>Graduate</td>\n",
       "      <td>STEM</td>\n",
       "      <td>7</td>\n",
       "      <td>500-999</td>\n",
       "      <td>NaN</td>\n",
       "      <td>1</td>\n",
       "      <td>3</td>\n",
       "      <td>-1</td>\n",
       "    </tr>\n",
       "  </tbody>\n",
       "</table>\n",
       "</div>"
      ],
      "text/plain": [
       "   index      city  city_development_index  gender      relevent_experience  \\\n",
       "0  16834  city_104                   0.924    Male  Has relevent experience   \n",
       "1  15437  city_114                   0.926    Male   No relevent experience   \n",
       "2   8549   city_83                   0.923    Male   No relevent experience   \n",
       "3   7222  city_103                   0.920    Male   No relevent experience   \n",
       "4  17054  city_103                   0.920  Female  Has relevent experience   \n",
       "\n",
       "  enrolled_university education_level major_discipline experience  \\\n",
       "0       no_enrollment  Primary School              NaN         15   \n",
       "1       no_enrollment         Masters             STEM        >20   \n",
       "2    Full time course     High School              NaN          2   \n",
       "3       no_enrollment  Primary School              NaN          6   \n",
       "4       no_enrollment        Graduate             STEM          7   \n",
       "\n",
       "  company_size company_type last_new_job  training_hours  target  \n",
       "0      100-500      Pvt Ltd            2              58      -1  \n",
       "1       10000+      Pvt Ltd           >4             308      -1  \n",
       "2          NaN          NaN        never               8      -1  \n",
       "3          NaN          NaN        never              85      -1  \n",
       "4      500-999          NaN            1               3      -1  "
      ]
     },
     "execution_count": 110,
     "metadata": {},
     "output_type": "execute_result"
    }
   ],
   "source": [
    "df_test_meth_2.head()"
   ]
  },
  {
   "cell_type": "markdown",
   "id": "16bbd340",
   "metadata": {},
   "source": [
    "1 = Train; 0 = Test"
   ]
  },
  {
   "cell_type": "code",
   "execution_count": 78,
   "id": "7c4f4097",
   "metadata": {
    "ExecuteTime": {
     "end_time": "2022-03-11T23:46:05.664353Z",
     "start_time": "2022-03-11T23:46:05.652369Z"
    }
   },
   "outputs": [],
   "source": [
    "#df_pre99 = pd.concat([df_test_meth_2.assign(indic=0), df_train_meth_2.assign(indic=1)])\n"
   ]
  },
  {
   "cell_type": "code",
   "execution_count": null,
   "id": "494f1ed2",
   "metadata": {},
   "outputs": [],
   "source": []
  },
  {
   "cell_type": "code",
   "execution_count": 111,
   "id": "744f3362",
   "metadata": {
    "ExecuteTime": {
     "end_time": "2022-03-12T00:18:30.764794Z",
     "start_time": "2022-03-12T00:18:30.739829Z"
    }
   },
   "outputs": [],
   "source": [
    "df_pre99 = pd.concat([merged_df_meth_2, df_test_meth_2], axis = 0).reset_index(drop = True)"
   ]
  },
  {
   "cell_type": "code",
   "execution_count": 112,
   "id": "469fb3bc",
   "metadata": {
    "ExecuteTime": {
     "end_time": "2022-03-12T00:18:31.774881Z",
     "start_time": "2022-03-12T00:18:31.767866Z"
    }
   },
   "outputs": [
    {
     "data": {
      "text/plain": [
       "(19158, 14)"
      ]
     },
     "execution_count": 112,
     "metadata": {},
     "output_type": "execute_result"
    }
   ],
   "source": [
    "df_pre99.shape"
   ]
  },
  {
   "cell_type": "code",
   "execution_count": 113,
   "id": "d3199b2f",
   "metadata": {
    "ExecuteTime": {
     "end_time": "2022-03-12T00:18:37.611811Z",
     "start_time": "2022-03-12T00:18:37.596156Z"
    }
   },
   "outputs": [
    {
     "data": {
      "text/html": [
       "<div>\n",
       "<style scoped>\n",
       "    .dataframe tbody tr th:only-of-type {\n",
       "        vertical-align: middle;\n",
       "    }\n",
       "\n",
       "    .dataframe tbody tr th {\n",
       "        vertical-align: top;\n",
       "    }\n",
       "\n",
       "    .dataframe thead th {\n",
       "        text-align: right;\n",
       "    }\n",
       "</style>\n",
       "<table border=\"1\" class=\"dataframe\">\n",
       "  <thead>\n",
       "    <tr style=\"text-align: right;\">\n",
       "      <th></th>\n",
       "      <th>index</th>\n",
       "      <th>city</th>\n",
       "      <th>city_development_index</th>\n",
       "      <th>gender</th>\n",
       "      <th>relevent_experience</th>\n",
       "      <th>enrolled_university</th>\n",
       "      <th>education_level</th>\n",
       "      <th>major_discipline</th>\n",
       "      <th>experience</th>\n",
       "      <th>company_size</th>\n",
       "      <th>company_type</th>\n",
       "      <th>last_new_job</th>\n",
       "      <th>training_hours</th>\n",
       "      <th>target</th>\n",
       "    </tr>\n",
       "  </thead>\n",
       "  <tbody>\n",
       "    <tr>\n",
       "      <th>0</th>\n",
       "      <td>17007</td>\n",
       "      <td>city_61</td>\n",
       "      <td>0.913</td>\n",
       "      <td>Male</td>\n",
       "      <td>Has relevent experience</td>\n",
       "      <td>no_enrollment</td>\n",
       "      <td>Masters</td>\n",
       "      <td>STEM</td>\n",
       "      <td>4</td>\n",
       "      <td>100-500</td>\n",
       "      <td>NGO</td>\n",
       "      <td>1</td>\n",
       "      <td>22</td>\n",
       "      <td>0.0</td>\n",
       "    </tr>\n",
       "    <tr>\n",
       "      <th>1</th>\n",
       "      <td>631</td>\n",
       "      <td>city_94</td>\n",
       "      <td>0.698</td>\n",
       "      <td>Male</td>\n",
       "      <td>Has relevent experience</td>\n",
       "      <td>NaN</td>\n",
       "      <td>High School</td>\n",
       "      <td>NaN</td>\n",
       "      <td>3</td>\n",
       "      <td>NaN</td>\n",
       "      <td>NaN</td>\n",
       "      <td>1</td>\n",
       "      <td>22</td>\n",
       "      <td>1.0</td>\n",
       "    </tr>\n",
       "    <tr>\n",
       "      <th>2</th>\n",
       "      <td>669</td>\n",
       "      <td>city_114</td>\n",
       "      <td>0.926</td>\n",
       "      <td>NaN</td>\n",
       "      <td>Has relevent experience</td>\n",
       "      <td>Full time course</td>\n",
       "      <td>Masters</td>\n",
       "      <td>STEM</td>\n",
       "      <td>9</td>\n",
       "      <td>50-99</td>\n",
       "      <td>Pvt Ltd</td>\n",
       "      <td>1</td>\n",
       "      <td>88</td>\n",
       "      <td>0.0</td>\n",
       "    </tr>\n",
       "    <tr>\n",
       "      <th>3</th>\n",
       "      <td>8949</td>\n",
       "      <td>city_114</td>\n",
       "      <td>0.926</td>\n",
       "      <td>Male</td>\n",
       "      <td>No relevent experience</td>\n",
       "      <td>Full time course</td>\n",
       "      <td>Graduate</td>\n",
       "      <td>STEM</td>\n",
       "      <td>14</td>\n",
       "      <td>NaN</td>\n",
       "      <td>NaN</td>\n",
       "      <td>4</td>\n",
       "      <td>91</td>\n",
       "      <td>0.0</td>\n",
       "    </tr>\n",
       "    <tr>\n",
       "      <th>4</th>\n",
       "      <td>2341</td>\n",
       "      <td>city_16</td>\n",
       "      <td>0.910</td>\n",
       "      <td>NaN</td>\n",
       "      <td>Has relevent experience</td>\n",
       "      <td>no_enrollment</td>\n",
       "      <td>Graduate</td>\n",
       "      <td>STEM</td>\n",
       "      <td>1</td>\n",
       "      <td>5000-9999</td>\n",
       "      <td>Pvt Ltd</td>\n",
       "      <td>1</td>\n",
       "      <td>92</td>\n",
       "      <td>0.0</td>\n",
       "    </tr>\n",
       "  </tbody>\n",
       "</table>\n",
       "</div>"
      ],
      "text/plain": [
       "   index      city  city_development_index gender      relevent_experience  \\\n",
       "0  17007   city_61                   0.913   Male  Has relevent experience   \n",
       "1    631   city_94                   0.698   Male  Has relevent experience   \n",
       "2    669  city_114                   0.926    NaN  Has relevent experience   \n",
       "3   8949  city_114                   0.926   Male   No relevent experience   \n",
       "4   2341   city_16                   0.910    NaN  Has relevent experience   \n",
       "\n",
       "  enrolled_university education_level major_discipline experience  \\\n",
       "0       no_enrollment         Masters             STEM          4   \n",
       "1                 NaN     High School              NaN          3   \n",
       "2    Full time course         Masters             STEM          9   \n",
       "3    Full time course        Graduate             STEM         14   \n",
       "4       no_enrollment        Graduate             STEM          1   \n",
       "\n",
       "  company_size company_type last_new_job  training_hours  target  \n",
       "0      100-500          NGO            1              22     0.0  \n",
       "1          NaN          NaN            1              22     1.0  \n",
       "2        50-99      Pvt Ltd            1              88     0.0  \n",
       "3          NaN          NaN            4              91     0.0  \n",
       "4    5000-9999      Pvt Ltd            1              92     0.0  "
      ]
     },
     "execution_count": 113,
     "metadata": {},
     "output_type": "execute_result"
    }
   ],
   "source": [
    "df_pre99.head()"
   ]
  },
  {
   "cell_type": "code",
   "execution_count": 81,
   "id": "6bffd2ea",
   "metadata": {
    "ExecuteTime": {
     "end_time": "2022-03-11T23:46:12.927960Z",
     "start_time": "2022-03-11T23:46:12.917987Z"
    }
   },
   "outputs": [],
   "source": [
    "#df_pre.shape"
   ]
  },
  {
   "cell_type": "code",
   "execution_count": 82,
   "id": "710c0767",
   "metadata": {
    "ExecuteTime": {
     "end_time": "2022-03-11T23:46:13.379658Z",
     "start_time": "2022-03-11T23:46:13.368714Z"
    }
   },
   "outputs": [],
   "source": [
    "#df_pre.info()"
   ]
  },
  {
   "cell_type": "code",
   "execution_count": 114,
   "id": "bf95835f",
   "metadata": {
    "ExecuteTime": {
     "end_time": "2022-03-12T00:18:51.890728Z",
     "start_time": "2022-03-12T00:18:51.880757Z"
    }
   },
   "outputs": [
    {
     "data": {
      "text/plain": [
       "Graduate          11598\n",
       "Masters            4361\n",
       "High School        2017\n",
       "Phd                 414\n",
       "Primary School      308\n",
       "Name: education_level, dtype: int64"
      ]
     },
     "execution_count": 114,
     "metadata": {},
     "output_type": "execute_result"
    }
   ],
   "source": [
    "from sklearn.preprocessing import LabelEncoder\n",
    "\n",
    "#Making Copy of data just for example\n",
    "df_lb = df_pre99.copy()\n",
    "df_lb['education_level'].value_counts()"
   ]
  },
  {
   "cell_type": "code",
   "execution_count": 115,
   "id": "25d7411a",
   "metadata": {
    "ExecuteTime": {
     "end_time": "2022-03-12T00:18:57.556510Z",
     "start_time": "2022-03-12T00:18:57.549529Z"
    }
   },
   "outputs": [],
   "source": [
    "#Fill nan values\n",
    "df_lb.loc[:, \"education_level\"] = df_lb['education_level'].fillna(\"NONE\")"
   ]
  },
  {
   "cell_type": "code",
   "execution_count": 116,
   "id": "d5a81838",
   "metadata": {
    "ExecuteTime": {
     "end_time": "2022-03-12T00:19:07.679689Z",
     "start_time": "2022-03-12T00:19:07.658488Z"
    }
   },
   "outputs": [
    {
     "data": {
      "text/plain": [
       "Graduate          11598\n",
       "Masters            4361\n",
       "High School        2017\n",
       "NONE                460\n",
       "Phd                 414\n",
       "Primary School      308\n",
       "Name: education_level, dtype: int64"
      ]
     },
     "execution_count": 116,
     "metadata": {},
     "output_type": "execute_result"
    }
   ],
   "source": [
    "df_lb[\"education_level\"].value_counts()"
   ]
  },
  {
   "cell_type": "code",
   "execution_count": 117,
   "id": "6c2735d5",
   "metadata": {
    "ExecuteTime": {
     "end_time": "2022-03-12T00:19:11.187105Z",
     "start_time": "2022-03-12T00:19:11.167161Z"
    }
   },
   "outputs": [
    {
     "data": {
      "text/plain": [
       "0    11598\n",
       "2     4361\n",
       "1     2017\n",
       "3      460\n",
       "4      414\n",
       "5      308\n",
       "Name: education_level, dtype: int64"
      ]
     },
     "execution_count": 117,
     "metadata": {},
     "output_type": "execute_result"
    }
   ],
   "source": [
    "# initialize LabelEncoder\n",
    "lbl_enc = LabelEncoder()\n",
    "\n",
    "# fit label encoder and transform values on ord_2 column\n",
    "df_lb.loc[:, \"education_level\"] = lbl_enc.fit_transform(df_lb['education_level'].values.astype(str))\n",
    "\n",
    "df_lb['education_level'].value_counts()"
   ]
  },
  {
   "cell_type": "code",
   "execution_count": 118,
   "id": "195cfd24",
   "metadata": {
    "ExecuteTime": {
     "end_time": "2022-03-12T00:19:12.237486Z",
     "start_time": "2022-03-12T00:19:12.224520Z"
    }
   },
   "outputs": [],
   "source": [
    "# Making Dictionaries of ordinal features\n",
    "\n",
    "gender_map = {\n",
    "        'Female': 2,\n",
    "        'Male': 1,\n",
    "        'Other': 0\n",
    "         }\n",
    "\n",
    "relevent_experience_map = {\n",
    "    'Has relevent experience':  1,\n",
    "    'No relevent experience':    0\n",
    "}\n",
    "\n",
    "enrolled_university_map = {\n",
    "    'no_enrollment'   :  0,\n",
    "    'Full time course':    1, \n",
    "    'Part time course':    2 \n",
    "}\n",
    "\n",
    "education_level_map = {\n",
    "    'Primary School' :    0,\n",
    "    'Graduate'       :    2,\n",
    "    'Masters'        :    3, \n",
    "    'High School'    :    1, \n",
    "    'Phd'            :    4\n",
    "    } \n",
    "    \n",
    "major_map ={ \n",
    "    'STEM'                   :    0,\n",
    "    'Business Degree'        :    1, \n",
    "    'Arts'                   :    2, \n",
    "    'Humanities'             :    3, \n",
    "    'No Major'               :    4, \n",
    "    'Other'                  :    5 \n",
    "}\n",
    "\n",
    "\n",
    "experience_map = {\n",
    "    '<1'      :    0,\n",
    "    '1'       :    1, \n",
    "    '2'       :    2, \n",
    "    '3'       :    3, \n",
    "    '4'       :    4, \n",
    "    '5'       :    5,\n",
    "    '6'       :    6,\n",
    "    '7'       :    7,\n",
    "    '8'       :    8, \n",
    "    '9'       :    9, \n",
    "    '10'      :    10, \n",
    "    '11'      :    11,\n",
    "    '12'      :    12,\n",
    "    '13'      :    13, \n",
    "    '14'      :    14, \n",
    "    '15'      :    15,\n",
    "    '16'      :    16,\n",
    "    '17'      :    17,\n",
    "    '18'      :    18,\n",
    "    '19'      :    19, \n",
    "    '20'      :    20, \n",
    "    '>20'     :    21\n",
    "} \n",
    "    \n",
    "company_type_map = {\n",
    "    'Pvt Ltd'               :    0,\n",
    "    'Funded Startup'        :    1, \n",
    "    'Early Stage Startup'   :    2, \n",
    "    'Other'                 :    3, \n",
    "    'Public Sector'         :    4, \n",
    "    'NGO'                   :    5\n",
    "}\n",
    "\n",
    "\n",
    "company_size_map = {\n",
    "    '<10'          :    0,\n",
    "    '10/49'        :    1, \n",
    "    '100-500'      :    2, \n",
    "    '1000-4999'    :    3, \n",
    "    '10000+'       :    4, \n",
    "    '50-99'        :    5, \n",
    "    '500-999'      :    6, \n",
    "    '5000-9999'    :    7\n",
    "}\n",
    "    \n",
    "last_new_job_map = {\n",
    "    'never'        :    0,\n",
    "    '1'            :    1, \n",
    "    '2'            :    2, \n",
    "    '3'            :    3, \n",
    "    '4'            :    4, \n",
    "    '>4'           :    5\n",
    "}"
   ]
  },
  {
   "cell_type": "code",
   "execution_count": 119,
   "id": "291bbc5b",
   "metadata": {
    "ExecuteTime": {
     "end_time": "2022-03-12T00:19:16.476243Z",
     "start_time": "2022-03-12T00:19:16.432360Z"
    }
   },
   "outputs": [],
   "source": [
    "# Transforming Categorical features into numarical features\n",
    "\n",
    "df_pre99.loc[:,'education_level'] = df_pre99['education_level'].map(education_level_map)\n",
    "df_pre99.loc[:,'company_size'] = df_pre99['company_size'].map(company_size_map)\n",
    "df_pre99.loc[:,'company_type'] = df_pre99['company_type'].map(company_type_map)\n",
    "df_pre99.loc[:,'last_new_job'] = df_pre99['last_new_job'].map(last_new_job_map)\n",
    "df_pre99.loc[:,'major_discipline'] = df_pre99['major_discipline'].map(major_map)\n",
    "df_pre99.loc[:,'enrolled_university'] = df_pre99['enrolled_university'].map(enrolled_university_map)\n",
    "df_pre99.loc[:,'relevent_experience'] = df_pre99['relevent_experience'].map(relevent_experience_map)\n",
    "df_pre99.loc[:,'gender'] = df_pre99['gender'].map(gender_map)\n",
    "df_pre99.loc[:,'experience'] = df_pre99['experience'].map(experience_map)\n",
    "\n",
    "#encoding city feature using label encoder\n",
    "lb_en = LabelEncoder()\n",
    "\n",
    "df_pre99.loc[:,'city'] = lb_en.fit_transform(df_pre99.loc[:,'city']) "
   ]
  },
  {
   "cell_type": "code",
   "execution_count": 120,
   "id": "c94d1598",
   "metadata": {
    "ExecuteTime": {
     "end_time": "2022-03-12T00:19:17.415693Z",
     "start_time": "2022-03-12T00:19:17.377795Z"
    }
   },
   "outputs": [
    {
     "data": {
      "text/html": [
       "<div>\n",
       "<style scoped>\n",
       "    .dataframe tbody tr th:only-of-type {\n",
       "        vertical-align: middle;\n",
       "    }\n",
       "\n",
       "    .dataframe tbody tr th {\n",
       "        vertical-align: top;\n",
       "    }\n",
       "\n",
       "    .dataframe thead th {\n",
       "        text-align: right;\n",
       "    }\n",
       "</style>\n",
       "<table border=\"1\" class=\"dataframe\">\n",
       "  <thead>\n",
       "    <tr style=\"text-align: right;\">\n",
       "      <th></th>\n",
       "      <th>index</th>\n",
       "      <th>city</th>\n",
       "      <th>city_development_index</th>\n",
       "      <th>gender</th>\n",
       "      <th>relevent_experience</th>\n",
       "      <th>enrolled_university</th>\n",
       "      <th>education_level</th>\n",
       "      <th>major_discipline</th>\n",
       "      <th>experience</th>\n",
       "      <th>company_size</th>\n",
       "      <th>company_type</th>\n",
       "      <th>last_new_job</th>\n",
       "      <th>training_hours</th>\n",
       "      <th>target</th>\n",
       "    </tr>\n",
       "  </thead>\n",
       "  <tbody>\n",
       "    <tr>\n",
       "      <th>0</th>\n",
       "      <td>17007</td>\n",
       "      <td>91</td>\n",
       "      <td>0.913</td>\n",
       "      <td>1.0</td>\n",
       "      <td>1</td>\n",
       "      <td>0.0</td>\n",
       "      <td>3.0</td>\n",
       "      <td>0.0</td>\n",
       "      <td>4.0</td>\n",
       "      <td>2.0</td>\n",
       "      <td>5.0</td>\n",
       "      <td>1.0</td>\n",
       "      <td>22</td>\n",
       "      <td>0.0</td>\n",
       "    </tr>\n",
       "    <tr>\n",
       "      <th>1</th>\n",
       "      <td>631</td>\n",
       "      <td>119</td>\n",
       "      <td>0.698</td>\n",
       "      <td>1.0</td>\n",
       "      <td>1</td>\n",
       "      <td>NaN</td>\n",
       "      <td>1.0</td>\n",
       "      <td>NaN</td>\n",
       "      <td>3.0</td>\n",
       "      <td>NaN</td>\n",
       "      <td>NaN</td>\n",
       "      <td>1.0</td>\n",
       "      <td>22</td>\n",
       "      <td>1.0</td>\n",
       "    </tr>\n",
       "    <tr>\n",
       "      <th>2</th>\n",
       "      <td>669</td>\n",
       "      <td>13</td>\n",
       "      <td>0.926</td>\n",
       "      <td>NaN</td>\n",
       "      <td>1</td>\n",
       "      <td>1.0</td>\n",
       "      <td>3.0</td>\n",
       "      <td>0.0</td>\n",
       "      <td>9.0</td>\n",
       "      <td>5.0</td>\n",
       "      <td>0.0</td>\n",
       "      <td>1.0</td>\n",
       "      <td>88</td>\n",
       "      <td>0.0</td>\n",
       "    </tr>\n",
       "    <tr>\n",
       "      <th>3</th>\n",
       "      <td>8949</td>\n",
       "      <td>13</td>\n",
       "      <td>0.926</td>\n",
       "      <td>1.0</td>\n",
       "      <td>0</td>\n",
       "      <td>1.0</td>\n",
       "      <td>2.0</td>\n",
       "      <td>0.0</td>\n",
       "      <td>14.0</td>\n",
       "      <td>NaN</td>\n",
       "      <td>NaN</td>\n",
       "      <td>4.0</td>\n",
       "      <td>91</td>\n",
       "      <td>0.0</td>\n",
       "    </tr>\n",
       "    <tr>\n",
       "      <th>4</th>\n",
       "      <td>2341</td>\n",
       "      <td>48</td>\n",
       "      <td>0.910</td>\n",
       "      <td>NaN</td>\n",
       "      <td>1</td>\n",
       "      <td>0.0</td>\n",
       "      <td>2.0</td>\n",
       "      <td>0.0</td>\n",
       "      <td>1.0</td>\n",
       "      <td>7.0</td>\n",
       "      <td>0.0</td>\n",
       "      <td>1.0</td>\n",
       "      <td>92</td>\n",
       "      <td>0.0</td>\n",
       "    </tr>\n",
       "    <tr>\n",
       "      <th>5</th>\n",
       "      <td>10586</td>\n",
       "      <td>121</td>\n",
       "      <td>0.949</td>\n",
       "      <td>1.0</td>\n",
       "      <td>1</td>\n",
       "      <td>0.0</td>\n",
       "      <td>2.0</td>\n",
       "      <td>0.0</td>\n",
       "      <td>17.0</td>\n",
       "      <td>NaN</td>\n",
       "      <td>NaN</td>\n",
       "      <td>1.0</td>\n",
       "      <td>18</td>\n",
       "      <td>0.0</td>\n",
       "    </tr>\n",
       "    <tr>\n",
       "      <th>6</th>\n",
       "      <td>5241</td>\n",
       "      <td>11</td>\n",
       "      <td>0.550</td>\n",
       "      <td>1.0</td>\n",
       "      <td>1</td>\n",
       "      <td>0.0</td>\n",
       "      <td>2.0</td>\n",
       "      <td>0.0</td>\n",
       "      <td>3.0</td>\n",
       "      <td>5.0</td>\n",
       "      <td>0.0</td>\n",
       "      <td>1.0</td>\n",
       "      <td>7</td>\n",
       "      <td>1.0</td>\n",
       "    </tr>\n",
       "    <tr>\n",
       "      <th>7</th>\n",
       "      <td>2523</td>\n",
       "      <td>49</td>\n",
       "      <td>0.920</td>\n",
       "      <td>1.0</td>\n",
       "      <td>1</td>\n",
       "      <td>0.0</td>\n",
       "      <td>2.0</td>\n",
       "      <td>0.0</td>\n",
       "      <td>21.0</td>\n",
       "      <td>5.0</td>\n",
       "      <td>0.0</td>\n",
       "      <td>2.0</td>\n",
       "      <td>276</td>\n",
       "      <td>0.0</td>\n",
       "    </tr>\n",
       "    <tr>\n",
       "      <th>8</th>\n",
       "      <td>2705</td>\n",
       "      <td>65</td>\n",
       "      <td>0.899</td>\n",
       "      <td>1.0</td>\n",
       "      <td>1</td>\n",
       "      <td>1.0</td>\n",
       "      <td>2.0</td>\n",
       "      <td>0.0</td>\n",
       "      <td>12.0</td>\n",
       "      <td>4.0</td>\n",
       "      <td>0.0</td>\n",
       "      <td>2.0</td>\n",
       "      <td>69</td>\n",
       "      <td>0.0</td>\n",
       "    </tr>\n",
       "    <tr>\n",
       "      <th>9</th>\n",
       "      <td>3074</td>\n",
       "      <td>64</td>\n",
       "      <td>0.624</td>\n",
       "      <td>NaN</td>\n",
       "      <td>1</td>\n",
       "      <td>0.0</td>\n",
       "      <td>3.0</td>\n",
       "      <td>0.0</td>\n",
       "      <td>11.0</td>\n",
       "      <td>4.0</td>\n",
       "      <td>NaN</td>\n",
       "      <td>1.0</td>\n",
       "      <td>16</td>\n",
       "      <td>1.0</td>\n",
       "    </tr>\n",
       "    <tr>\n",
       "      <th>10</th>\n",
       "      <td>1526</td>\n",
       "      <td>95</td>\n",
       "      <td>0.855</td>\n",
       "      <td>1.0</td>\n",
       "      <td>1</td>\n",
       "      <td>0.0</td>\n",
       "      <td>3.0</td>\n",
       "      <td>0.0</td>\n",
       "      <td>21.0</td>\n",
       "      <td>NaN</td>\n",
       "      <td>NaN</td>\n",
       "      <td>5.0</td>\n",
       "      <td>39</td>\n",
       "      <td>1.0</td>\n",
       "    </tr>\n",
       "    <tr>\n",
       "      <th>11</th>\n",
       "      <td>12441</td>\n",
       "      <td>103</td>\n",
       "      <td>0.939</td>\n",
       "      <td>1.0</td>\n",
       "      <td>1</td>\n",
       "      <td>2.0</td>\n",
       "      <td>2.0</td>\n",
       "      <td>0.0</td>\n",
       "      <td>13.0</td>\n",
       "      <td>6.0</td>\n",
       "      <td>0.0</td>\n",
       "      <td>1.0</td>\n",
       "      <td>22</td>\n",
       "      <td>0.0</td>\n",
       "    </tr>\n",
       "    <tr>\n",
       "      <th>12</th>\n",
       "      <td>9100</td>\n",
       "      <td>13</td>\n",
       "      <td>0.926</td>\n",
       "      <td>1.0</td>\n",
       "      <td>1</td>\n",
       "      <td>0.0</td>\n",
       "      <td>2.0</td>\n",
       "      <td>0.0</td>\n",
       "      <td>20.0</td>\n",
       "      <td>0.0</td>\n",
       "      <td>0.0</td>\n",
       "      <td>4.0</td>\n",
       "      <td>40</td>\n",
       "      <td>0.0</td>\n",
       "    </tr>\n",
       "    <tr>\n",
       "      <th>13</th>\n",
       "      <td>11149</td>\n",
       "      <td>97</td>\n",
       "      <td>0.647</td>\n",
       "      <td>1.0</td>\n",
       "      <td>1</td>\n",
       "      <td>1.0</td>\n",
       "      <td>3.0</td>\n",
       "      <td>0.0</td>\n",
       "      <td>4.0</td>\n",
       "      <td>NaN</td>\n",
       "      <td>NaN</td>\n",
       "      <td>1.0</td>\n",
       "      <td>13</td>\n",
       "      <td>1.0</td>\n",
       "    </tr>\n",
       "    <tr>\n",
       "      <th>14</th>\n",
       "      <td>17676</td>\n",
       "      <td>94</td>\n",
       "      <td>0.802</td>\n",
       "      <td>1.0</td>\n",
       "      <td>0</td>\n",
       "      <td>1.0</td>\n",
       "      <td>2.0</td>\n",
       "      <td>0.0</td>\n",
       "      <td>4.0</td>\n",
       "      <td>NaN</td>\n",
       "      <td>NaN</td>\n",
       "      <td>0.0</td>\n",
       "      <td>134</td>\n",
       "      <td>0.0</td>\n",
       "    </tr>\n",
       "  </tbody>\n",
       "</table>\n",
       "</div>"
      ],
      "text/plain": [
       "    index  city  city_development_index  gender  relevent_experience  \\\n",
       "0   17007    91                   0.913     1.0                    1   \n",
       "1     631   119                   0.698     1.0                    1   \n",
       "2     669    13                   0.926     NaN                    1   \n",
       "3    8949    13                   0.926     1.0                    0   \n",
       "4    2341    48                   0.910     NaN                    1   \n",
       "5   10586   121                   0.949     1.0                    1   \n",
       "6    5241    11                   0.550     1.0                    1   \n",
       "7    2523    49                   0.920     1.0                    1   \n",
       "8    2705    65                   0.899     1.0                    1   \n",
       "9    3074    64                   0.624     NaN                    1   \n",
       "10   1526    95                   0.855     1.0                    1   \n",
       "11  12441   103                   0.939     1.0                    1   \n",
       "12   9100    13                   0.926     1.0                    1   \n",
       "13  11149    97                   0.647     1.0                    1   \n",
       "14  17676    94                   0.802     1.0                    0   \n",
       "\n",
       "    enrolled_university  education_level  major_discipline  experience  \\\n",
       "0                   0.0              3.0               0.0         4.0   \n",
       "1                   NaN              1.0               NaN         3.0   \n",
       "2                   1.0              3.0               0.0         9.0   \n",
       "3                   1.0              2.0               0.0        14.0   \n",
       "4                   0.0              2.0               0.0         1.0   \n",
       "5                   0.0              2.0               0.0        17.0   \n",
       "6                   0.0              2.0               0.0         3.0   \n",
       "7                   0.0              2.0               0.0        21.0   \n",
       "8                   1.0              2.0               0.0        12.0   \n",
       "9                   0.0              3.0               0.0        11.0   \n",
       "10                  0.0              3.0               0.0        21.0   \n",
       "11                  2.0              2.0               0.0        13.0   \n",
       "12                  0.0              2.0               0.0        20.0   \n",
       "13                  1.0              3.0               0.0         4.0   \n",
       "14                  1.0              2.0               0.0         4.0   \n",
       "\n",
       "    company_size  company_type  last_new_job  training_hours  target  \n",
       "0            2.0           5.0           1.0              22     0.0  \n",
       "1            NaN           NaN           1.0              22     1.0  \n",
       "2            5.0           0.0           1.0              88     0.0  \n",
       "3            NaN           NaN           4.0              91     0.0  \n",
       "4            7.0           0.0           1.0              92     0.0  \n",
       "5            NaN           NaN           1.0              18     0.0  \n",
       "6            5.0           0.0           1.0               7     1.0  \n",
       "7            5.0           0.0           2.0             276     0.0  \n",
       "8            4.0           0.0           2.0              69     0.0  \n",
       "9            4.0           NaN           1.0              16     1.0  \n",
       "10           NaN           NaN           5.0              39     1.0  \n",
       "11           6.0           0.0           1.0              22     0.0  \n",
       "12           0.0           0.0           4.0              40     0.0  \n",
       "13           NaN           NaN           1.0              13     1.0  \n",
       "14           NaN           NaN           0.0             134     0.0  "
      ]
     },
     "execution_count": 120,
     "metadata": {},
     "output_type": "execute_result"
    }
   ],
   "source": [
    "df_pre99.head(15)"
   ]
  },
  {
   "cell_type": "code",
   "execution_count": 121,
   "id": "12adec38",
   "metadata": {
    "ExecuteTime": {
     "end_time": "2022-03-12T00:19:32.462560Z",
     "start_time": "2022-03-12T00:19:32.442613Z"
    }
   },
   "outputs": [],
   "source": [
    "df_pre1 = df_pre99.copy()"
   ]
  },
  {
   "cell_type": "code",
   "execution_count": 122,
   "id": "996f4029",
   "metadata": {
    "ExecuteTime": {
     "end_time": "2022-03-12T00:19:33.407872Z",
     "start_time": "2022-03-12T00:19:33.386894Z"
    }
   },
   "outputs": [
    {
     "data": {
      "text/html": [
       "<div>\n",
       "<style scoped>\n",
       "    .dataframe tbody tr th:only-of-type {\n",
       "        vertical-align: middle;\n",
       "    }\n",
       "\n",
       "    .dataframe tbody tr th {\n",
       "        vertical-align: top;\n",
       "    }\n",
       "\n",
       "    .dataframe thead th {\n",
       "        text-align: right;\n",
       "    }\n",
       "</style>\n",
       "<table border=\"1\" class=\"dataframe\">\n",
       "  <thead>\n",
       "    <tr style=\"text-align: right;\">\n",
       "      <th></th>\n",
       "      <th>index</th>\n",
       "      <th>city</th>\n",
       "      <th>city_development_index</th>\n",
       "      <th>gender</th>\n",
       "      <th>relevent_experience</th>\n",
       "      <th>enrolled_university</th>\n",
       "      <th>education_level</th>\n",
       "      <th>major_discipline</th>\n",
       "      <th>experience</th>\n",
       "      <th>company_size</th>\n",
       "      <th>company_type</th>\n",
       "      <th>last_new_job</th>\n",
       "      <th>training_hours</th>\n",
       "      <th>target</th>\n",
       "    </tr>\n",
       "  </thead>\n",
       "  <tbody>\n",
       "    <tr>\n",
       "      <th>0</th>\n",
       "      <td>17007</td>\n",
       "      <td>91</td>\n",
       "      <td>0.913</td>\n",
       "      <td>1.0</td>\n",
       "      <td>1</td>\n",
       "      <td>0.0</td>\n",
       "      <td>3.0</td>\n",
       "      <td>0.0</td>\n",
       "      <td>4.0</td>\n",
       "      <td>2.0</td>\n",
       "      <td>5.0</td>\n",
       "      <td>1.0</td>\n",
       "      <td>22</td>\n",
       "      <td>0.0</td>\n",
       "    </tr>\n",
       "    <tr>\n",
       "      <th>1</th>\n",
       "      <td>631</td>\n",
       "      <td>119</td>\n",
       "      <td>0.698</td>\n",
       "      <td>1.0</td>\n",
       "      <td>1</td>\n",
       "      <td>NaN</td>\n",
       "      <td>1.0</td>\n",
       "      <td>NaN</td>\n",
       "      <td>3.0</td>\n",
       "      <td>NaN</td>\n",
       "      <td>NaN</td>\n",
       "      <td>1.0</td>\n",
       "      <td>22</td>\n",
       "      <td>1.0</td>\n",
       "    </tr>\n",
       "    <tr>\n",
       "      <th>2</th>\n",
       "      <td>669</td>\n",
       "      <td>13</td>\n",
       "      <td>0.926</td>\n",
       "      <td>NaN</td>\n",
       "      <td>1</td>\n",
       "      <td>1.0</td>\n",
       "      <td>3.0</td>\n",
       "      <td>0.0</td>\n",
       "      <td>9.0</td>\n",
       "      <td>5.0</td>\n",
       "      <td>0.0</td>\n",
       "      <td>1.0</td>\n",
       "      <td>88</td>\n",
       "      <td>0.0</td>\n",
       "    </tr>\n",
       "    <tr>\n",
       "      <th>3</th>\n",
       "      <td>8949</td>\n",
       "      <td>13</td>\n",
       "      <td>0.926</td>\n",
       "      <td>1.0</td>\n",
       "      <td>0</td>\n",
       "      <td>1.0</td>\n",
       "      <td>2.0</td>\n",
       "      <td>0.0</td>\n",
       "      <td>14.0</td>\n",
       "      <td>NaN</td>\n",
       "      <td>NaN</td>\n",
       "      <td>4.0</td>\n",
       "      <td>91</td>\n",
       "      <td>0.0</td>\n",
       "    </tr>\n",
       "    <tr>\n",
       "      <th>4</th>\n",
       "      <td>2341</td>\n",
       "      <td>48</td>\n",
       "      <td>0.910</td>\n",
       "      <td>NaN</td>\n",
       "      <td>1</td>\n",
       "      <td>0.0</td>\n",
       "      <td>2.0</td>\n",
       "      <td>0.0</td>\n",
       "      <td>1.0</td>\n",
       "      <td>7.0</td>\n",
       "      <td>0.0</td>\n",
       "      <td>1.0</td>\n",
       "      <td>92</td>\n",
       "      <td>0.0</td>\n",
       "    </tr>\n",
       "  </tbody>\n",
       "</table>\n",
       "</div>"
      ],
      "text/plain": [
       "   index  city  city_development_index  gender  relevent_experience  \\\n",
       "0  17007    91                   0.913     1.0                    1   \n",
       "1    631   119                   0.698     1.0                    1   \n",
       "2    669    13                   0.926     NaN                    1   \n",
       "3   8949    13                   0.926     1.0                    0   \n",
       "4   2341    48                   0.910     NaN                    1   \n",
       "\n",
       "   enrolled_university  education_level  major_discipline  experience  \\\n",
       "0                  0.0              3.0               0.0         4.0   \n",
       "1                  NaN              1.0               NaN         3.0   \n",
       "2                  1.0              3.0               0.0         9.0   \n",
       "3                  1.0              2.0               0.0        14.0   \n",
       "4                  0.0              2.0               0.0         1.0   \n",
       "\n",
       "   company_size  company_type  last_new_job  training_hours  target  \n",
       "0           2.0           5.0           1.0              22     0.0  \n",
       "1           NaN           NaN           1.0              22     1.0  \n",
       "2           5.0           0.0           1.0              88     0.0  \n",
       "3           NaN           NaN           4.0              91     0.0  \n",
       "4           7.0           0.0           1.0              92     0.0  "
      ]
     },
     "execution_count": 122,
     "metadata": {},
     "output_type": "execute_result"
    }
   ],
   "source": [
    "df_pre1.head(5)"
   ]
  },
  {
   "cell_type": "code",
   "execution_count": null,
   "id": "babf5e9a",
   "metadata": {},
   "outputs": [],
   "source": []
  },
  {
   "cell_type": "code",
   "execution_count": 123,
   "id": "f6637130",
   "metadata": {
    "ExecuteTime": {
     "end_time": "2022-03-12T00:19:58.818209Z",
     "start_time": "2022-03-12T00:19:40.601140Z"
    }
   },
   "outputs": [],
   "source": [
    "knn_imputer = KNNImputer(n_neighbors = 3)\n",
    "\n",
    "X = np.round(knn_imputer.fit_transform(df_pre1))\n",
    "df_pre1 = pd.DataFrame(X, columns = df_pre1.columns)"
   ]
  },
  {
   "cell_type": "code",
   "execution_count": 124,
   "id": "dd16dfba",
   "metadata": {
    "ExecuteTime": {
     "end_time": "2022-03-12T00:19:59.203137Z",
     "start_time": "2022-03-12T00:19:59.188701Z"
    }
   },
   "outputs": [
    {
     "data": {
      "text/plain": [
       "['gender',\n",
       " 'enrolled_university',\n",
       " 'education_level',\n",
       " 'major_discipline',\n",
       " 'experience',\n",
       " 'company_size',\n",
       " 'company_type',\n",
       " 'last_new_job']"
      ]
     },
     "execution_count": 124,
     "metadata": {},
     "output_type": "execute_result"
    }
   ],
   "source": [
    "missing_cols = df_pre99.columns[df_pre99.isna().any()].tolist()\n",
    "missing_cols"
   ]
  },
  {
   "cell_type": "code",
   "execution_count": 125,
   "id": "2cb7cf03",
   "metadata": {
    "ExecuteTime": {
     "end_time": "2022-03-12T00:19:59.566500Z",
     "start_time": "2022-03-12T00:19:59.551804Z"
    }
   },
   "outputs": [],
   "source": [
    "#dataframe having features with missing values\n",
    "df_missing = df_pre99[['index'] + missing_cols]\n",
    "\n",
    "#dataframe having features without missing values\n",
    "df_non_missing = df_pre99.drop(missing_cols, axis = 1)"
   ]
  },
  {
   "cell_type": "code",
   "execution_count": 126,
   "id": "86209346",
   "metadata": {
    "ExecuteTime": {
     "end_time": "2022-03-12T00:20:17.916988Z",
     "start_time": "2022-03-12T00:19:59.965317Z"
    }
   },
   "outputs": [],
   "source": [
    "#k-Nearest Neighbour Imputation\n",
    "\n",
    "knn_imputer = KNNImputer(n_neighbors = 3)\n",
    "\n",
    "X = np.round(knn_imputer.fit_transform(df_missing))\n",
    "#Rounding them because these are categorical features\n",
    "\n",
    "df_missing = pd.DataFrame(X, columns = df_missing.columns)"
   ]
  },
  {
   "cell_type": "code",
   "execution_count": 127,
   "id": "c0ce8e85",
   "metadata": {
    "ExecuteTime": {
     "end_time": "2022-03-12T00:20:18.232717Z",
     "start_time": "2022-03-12T00:20:18.217143Z"
    }
   },
   "outputs": [],
   "source": [
    "#now lets join both dataframes \n",
    "\n",
    "df_pre2 = pd.merge(df_missing, df_non_missing, on = 'index')"
   ]
  },
  {
   "cell_type": "code",
   "execution_count": 128,
   "id": "44478d5c",
   "metadata": {
    "ExecuteTime": {
     "end_time": "2022-03-12T00:20:18.586111Z",
     "start_time": "2022-03-12T00:20:18.555192Z"
    }
   },
   "outputs": [
    {
     "data": {
      "text/html": [
       "<div>\n",
       "<style scoped>\n",
       "    .dataframe tbody tr th:only-of-type {\n",
       "        vertical-align: middle;\n",
       "    }\n",
       "\n",
       "    .dataframe tbody tr th {\n",
       "        vertical-align: top;\n",
       "    }\n",
       "\n",
       "    .dataframe thead th {\n",
       "        text-align: right;\n",
       "    }\n",
       "</style>\n",
       "<table border=\"1\" class=\"dataframe\">\n",
       "  <thead>\n",
       "    <tr style=\"text-align: right;\">\n",
       "      <th></th>\n",
       "      <th>index</th>\n",
       "      <th>gender</th>\n",
       "      <th>enrolled_university</th>\n",
       "      <th>education_level</th>\n",
       "      <th>major_discipline</th>\n",
       "      <th>experience</th>\n",
       "      <th>company_size</th>\n",
       "      <th>company_type</th>\n",
       "      <th>last_new_job</th>\n",
       "      <th>city</th>\n",
       "      <th>city_development_index</th>\n",
       "      <th>relevent_experience</th>\n",
       "      <th>training_hours</th>\n",
       "      <th>target</th>\n",
       "    </tr>\n",
       "  </thead>\n",
       "  <tbody>\n",
       "    <tr>\n",
       "      <th>0</th>\n",
       "      <td>17007.0</td>\n",
       "      <td>1.0</td>\n",
       "      <td>0.0</td>\n",
       "      <td>3.0</td>\n",
       "      <td>0.0</td>\n",
       "      <td>4.0</td>\n",
       "      <td>2.0</td>\n",
       "      <td>5.0</td>\n",
       "      <td>1.0</td>\n",
       "      <td>91</td>\n",
       "      <td>0.913</td>\n",
       "      <td>1</td>\n",
       "      <td>22</td>\n",
       "      <td>0.0</td>\n",
       "    </tr>\n",
       "    <tr>\n",
       "      <th>1</th>\n",
       "      <td>631.0</td>\n",
       "      <td>1.0</td>\n",
       "      <td>0.0</td>\n",
       "      <td>1.0</td>\n",
       "      <td>0.0</td>\n",
       "      <td>3.0</td>\n",
       "      <td>2.0</td>\n",
       "      <td>0.0</td>\n",
       "      <td>1.0</td>\n",
       "      <td>119</td>\n",
       "      <td>0.698</td>\n",
       "      <td>1</td>\n",
       "      <td>22</td>\n",
       "      <td>1.0</td>\n",
       "    </tr>\n",
       "    <tr>\n",
       "      <th>2</th>\n",
       "      <td>669.0</td>\n",
       "      <td>2.0</td>\n",
       "      <td>1.0</td>\n",
       "      <td>3.0</td>\n",
       "      <td>0.0</td>\n",
       "      <td>9.0</td>\n",
       "      <td>5.0</td>\n",
       "      <td>0.0</td>\n",
       "      <td>1.0</td>\n",
       "      <td>13</td>\n",
       "      <td>0.926</td>\n",
       "      <td>1</td>\n",
       "      <td>88</td>\n",
       "      <td>0.0</td>\n",
       "    </tr>\n",
       "    <tr>\n",
       "      <th>3</th>\n",
       "      <td>8949.0</td>\n",
       "      <td>1.0</td>\n",
       "      <td>1.0</td>\n",
       "      <td>2.0</td>\n",
       "      <td>0.0</td>\n",
       "      <td>14.0</td>\n",
       "      <td>3.0</td>\n",
       "      <td>0.0</td>\n",
       "      <td>4.0</td>\n",
       "      <td>13</td>\n",
       "      <td>0.926</td>\n",
       "      <td>0</td>\n",
       "      <td>91</td>\n",
       "      <td>0.0</td>\n",
       "    </tr>\n",
       "    <tr>\n",
       "      <th>4</th>\n",
       "      <td>2341.0</td>\n",
       "      <td>1.0</td>\n",
       "      <td>0.0</td>\n",
       "      <td>2.0</td>\n",
       "      <td>0.0</td>\n",
       "      <td>1.0</td>\n",
       "      <td>7.0</td>\n",
       "      <td>0.0</td>\n",
       "      <td>1.0</td>\n",
       "      <td>48</td>\n",
       "      <td>0.910</td>\n",
       "      <td>1</td>\n",
       "      <td>92</td>\n",
       "      <td>0.0</td>\n",
       "    </tr>\n",
       "  </tbody>\n",
       "</table>\n",
       "</div>"
      ],
      "text/plain": [
       "     index  gender  enrolled_university  education_level  major_discipline  \\\n",
       "0  17007.0     1.0                  0.0              3.0               0.0   \n",
       "1    631.0     1.0                  0.0              1.0               0.0   \n",
       "2    669.0     2.0                  1.0              3.0               0.0   \n",
       "3   8949.0     1.0                  1.0              2.0               0.0   \n",
       "4   2341.0     1.0                  0.0              2.0               0.0   \n",
       "\n",
       "   experience  company_size  company_type  last_new_job  city  \\\n",
       "0         4.0           2.0           5.0           1.0    91   \n",
       "1         3.0           2.0           0.0           1.0   119   \n",
       "2         9.0           5.0           0.0           1.0    13   \n",
       "3        14.0           3.0           0.0           4.0    13   \n",
       "4         1.0           7.0           0.0           1.0    48   \n",
       "\n",
       "   city_development_index  relevent_experience  training_hours  target  \n",
       "0                   0.913                    1              22     0.0  \n",
       "1                   0.698                    1              22     1.0  \n",
       "2                   0.926                    1              88     0.0  \n",
       "3                   0.926                    0              91     0.0  \n",
       "4                   0.910                    1              92     0.0  "
      ]
     },
     "execution_count": 128,
     "metadata": {},
     "output_type": "execute_result"
    }
   ],
   "source": [
    "df_pre2.head()"
   ]
  },
  {
   "cell_type": "code",
   "execution_count": 129,
   "id": "ac3e5170",
   "metadata": {
    "ExecuteTime": {
     "end_time": "2022-03-12T00:21:15.518660Z",
     "start_time": "2022-03-12T00:21:15.499688Z"
    }
   },
   "outputs": [],
   "source": [
    "train_meth_2 = df_pre2[df_pre2['target'] != -1].reset_index(drop = True)\n"
   ]
  },
  {
   "cell_type": "code",
   "execution_count": 130,
   "id": "f6b72476",
   "metadata": {
    "ExecuteTime": {
     "end_time": "2022-03-12T00:21:19.178746Z",
     "start_time": "2022-03-12T00:21:19.158801Z"
    }
   },
   "outputs": [],
   "source": [
    "test_meth_2 = df_pre2[df_pre2['target'] == -1].reset_index(drop = True)"
   ]
  },
  {
   "cell_type": "code",
   "execution_count": 100,
   "id": "61dfc3e0",
   "metadata": {
    "ExecuteTime": {
     "end_time": "2022-03-11T23:51:24.634745Z",
     "start_time": "2022-03-11T23:51:24.622797Z"
    }
   },
   "outputs": [],
   "source": [
    "#train_meth_2 = df_pre2.reset_index(drop = True)\n"
   ]
  },
  {
   "cell_type": "code",
   "execution_count": 131,
   "id": "635acdfa",
   "metadata": {
    "ExecuteTime": {
     "end_time": "2022-03-12T00:21:38.576475Z",
     "start_time": "2022-03-12T00:21:38.545537Z"
    }
   },
   "outputs": [
    {
     "data": {
      "text/html": [
       "<div>\n",
       "<style scoped>\n",
       "    .dataframe tbody tr th:only-of-type {\n",
       "        vertical-align: middle;\n",
       "    }\n",
       "\n",
       "    .dataframe tbody tr th {\n",
       "        vertical-align: top;\n",
       "    }\n",
       "\n",
       "    .dataframe thead th {\n",
       "        text-align: right;\n",
       "    }\n",
       "</style>\n",
       "<table border=\"1\" class=\"dataframe\">\n",
       "  <thead>\n",
       "    <tr style=\"text-align: right;\">\n",
       "      <th></th>\n",
       "      <th>index</th>\n",
       "      <th>gender</th>\n",
       "      <th>enrolled_university</th>\n",
       "      <th>education_level</th>\n",
       "      <th>major_discipline</th>\n",
       "      <th>experience</th>\n",
       "      <th>company_size</th>\n",
       "      <th>company_type</th>\n",
       "      <th>last_new_job</th>\n",
       "      <th>city</th>\n",
       "      <th>city_development_index</th>\n",
       "      <th>relevent_experience</th>\n",
       "      <th>training_hours</th>\n",
       "      <th>target</th>\n",
       "    </tr>\n",
       "  </thead>\n",
       "  <tbody>\n",
       "    <tr>\n",
       "      <th>0</th>\n",
       "      <td>17007.0</td>\n",
       "      <td>1.0</td>\n",
       "      <td>0.0</td>\n",
       "      <td>3.0</td>\n",
       "      <td>0.0</td>\n",
       "      <td>4.0</td>\n",
       "      <td>2.0</td>\n",
       "      <td>5.0</td>\n",
       "      <td>1.0</td>\n",
       "      <td>91</td>\n",
       "      <td>0.913</td>\n",
       "      <td>1</td>\n",
       "      <td>22</td>\n",
       "      <td>0.0</td>\n",
       "    </tr>\n",
       "    <tr>\n",
       "      <th>1</th>\n",
       "      <td>631.0</td>\n",
       "      <td>1.0</td>\n",
       "      <td>0.0</td>\n",
       "      <td>1.0</td>\n",
       "      <td>0.0</td>\n",
       "      <td>3.0</td>\n",
       "      <td>2.0</td>\n",
       "      <td>0.0</td>\n",
       "      <td>1.0</td>\n",
       "      <td>119</td>\n",
       "      <td>0.698</td>\n",
       "      <td>1</td>\n",
       "      <td>22</td>\n",
       "      <td>1.0</td>\n",
       "    </tr>\n",
       "    <tr>\n",
       "      <th>2</th>\n",
       "      <td>669.0</td>\n",
       "      <td>2.0</td>\n",
       "      <td>1.0</td>\n",
       "      <td>3.0</td>\n",
       "      <td>0.0</td>\n",
       "      <td>9.0</td>\n",
       "      <td>5.0</td>\n",
       "      <td>0.0</td>\n",
       "      <td>1.0</td>\n",
       "      <td>13</td>\n",
       "      <td>0.926</td>\n",
       "      <td>1</td>\n",
       "      <td>88</td>\n",
       "      <td>0.0</td>\n",
       "    </tr>\n",
       "    <tr>\n",
       "      <th>3</th>\n",
       "      <td>8949.0</td>\n",
       "      <td>1.0</td>\n",
       "      <td>1.0</td>\n",
       "      <td>2.0</td>\n",
       "      <td>0.0</td>\n",
       "      <td>14.0</td>\n",
       "      <td>3.0</td>\n",
       "      <td>0.0</td>\n",
       "      <td>4.0</td>\n",
       "      <td>13</td>\n",
       "      <td>0.926</td>\n",
       "      <td>0</td>\n",
       "      <td>91</td>\n",
       "      <td>0.0</td>\n",
       "    </tr>\n",
       "    <tr>\n",
       "      <th>4</th>\n",
       "      <td>2341.0</td>\n",
       "      <td>1.0</td>\n",
       "      <td>0.0</td>\n",
       "      <td>2.0</td>\n",
       "      <td>0.0</td>\n",
       "      <td>1.0</td>\n",
       "      <td>7.0</td>\n",
       "      <td>0.0</td>\n",
       "      <td>1.0</td>\n",
       "      <td>48</td>\n",
       "      <td>0.910</td>\n",
       "      <td>1</td>\n",
       "      <td>92</td>\n",
       "      <td>0.0</td>\n",
       "    </tr>\n",
       "  </tbody>\n",
       "</table>\n",
       "</div>"
      ],
      "text/plain": [
       "     index  gender  enrolled_university  education_level  major_discipline  \\\n",
       "0  17007.0     1.0                  0.0              3.0               0.0   \n",
       "1    631.0     1.0                  0.0              1.0               0.0   \n",
       "2    669.0     2.0                  1.0              3.0               0.0   \n",
       "3   8949.0     1.0                  1.0              2.0               0.0   \n",
       "4   2341.0     1.0                  0.0              2.0               0.0   \n",
       "\n",
       "   experience  company_size  company_type  last_new_job  city  \\\n",
       "0         4.0           2.0           5.0           1.0    91   \n",
       "1         3.0           2.0           0.0           1.0   119   \n",
       "2         9.0           5.0           0.0           1.0    13   \n",
       "3        14.0           3.0           0.0           4.0    13   \n",
       "4         1.0           7.0           0.0           1.0    48   \n",
       "\n",
       "   city_development_index  relevent_experience  training_hours  target  \n",
       "0                   0.913                    1              22     0.0  \n",
       "1                   0.698                    1              22     1.0  \n",
       "2                   0.926                    1              88     0.0  \n",
       "3                   0.926                    0              91     0.0  \n",
       "4                   0.910                    1              92     0.0  "
      ]
     },
     "execution_count": 131,
     "metadata": {},
     "output_type": "execute_result"
    }
   ],
   "source": [
    "train_meth_2.head()"
   ]
  },
  {
   "cell_type": "code",
   "execution_count": 132,
   "id": "0e0fe688",
   "metadata": {
    "ExecuteTime": {
     "end_time": "2022-03-12T00:22:59.499713Z",
     "start_time": "2022-03-12T00:22:59.469801Z"
    }
   },
   "outputs": [
    {
     "data": {
      "text/html": [
       "<div>\n",
       "<style scoped>\n",
       "    .dataframe tbody tr th:only-of-type {\n",
       "        vertical-align: middle;\n",
       "    }\n",
       "\n",
       "    .dataframe tbody tr th {\n",
       "        vertical-align: top;\n",
       "    }\n",
       "\n",
       "    .dataframe thead th {\n",
       "        text-align: right;\n",
       "    }\n",
       "</style>\n",
       "<table border=\"1\" class=\"dataframe\">\n",
       "  <thead>\n",
       "    <tr style=\"text-align: right;\">\n",
       "      <th></th>\n",
       "      <th>index</th>\n",
       "      <th>gender</th>\n",
       "      <th>enrolled_university</th>\n",
       "      <th>education_level</th>\n",
       "      <th>major_discipline</th>\n",
       "      <th>experience</th>\n",
       "      <th>company_size</th>\n",
       "      <th>company_type</th>\n",
       "      <th>last_new_job</th>\n",
       "      <th>city</th>\n",
       "      <th>city_development_index</th>\n",
       "      <th>relevent_experience</th>\n",
       "      <th>training_hours</th>\n",
       "      <th>target</th>\n",
       "    </tr>\n",
       "  </thead>\n",
       "  <tbody>\n",
       "    <tr>\n",
       "      <th>0</th>\n",
       "      <td>16834.0</td>\n",
       "      <td>1.0</td>\n",
       "      <td>0.0</td>\n",
       "      <td>0.0</td>\n",
       "      <td>0.0</td>\n",
       "      <td>15.0</td>\n",
       "      <td>2.0</td>\n",
       "      <td>0.0</td>\n",
       "      <td>2.0</td>\n",
       "      <td>6</td>\n",
       "      <td>0.924</td>\n",
       "      <td>1</td>\n",
       "      <td>58</td>\n",
       "      <td>-1.0</td>\n",
       "    </tr>\n",
       "    <tr>\n",
       "      <th>1</th>\n",
       "      <td>15437.0</td>\n",
       "      <td>1.0</td>\n",
       "      <td>0.0</td>\n",
       "      <td>3.0</td>\n",
       "      <td>0.0</td>\n",
       "      <td>21.0</td>\n",
       "      <td>4.0</td>\n",
       "      <td>0.0</td>\n",
       "      <td>5.0</td>\n",
       "      <td>13</td>\n",
       "      <td>0.926</td>\n",
       "      <td>0</td>\n",
       "      <td>308</td>\n",
       "      <td>-1.0</td>\n",
       "    </tr>\n",
       "    <tr>\n",
       "      <th>2</th>\n",
       "      <td>8549.0</td>\n",
       "      <td>1.0</td>\n",
       "      <td>1.0</td>\n",
       "      <td>1.0</td>\n",
       "      <td>0.0</td>\n",
       "      <td>2.0</td>\n",
       "      <td>2.0</td>\n",
       "      <td>2.0</td>\n",
       "      <td>0.0</td>\n",
       "      <td>112</td>\n",
       "      <td>0.923</td>\n",
       "      <td>0</td>\n",
       "      <td>8</td>\n",
       "      <td>-1.0</td>\n",
       "    </tr>\n",
       "    <tr>\n",
       "      <th>3</th>\n",
       "      <td>7222.0</td>\n",
       "      <td>1.0</td>\n",
       "      <td>0.0</td>\n",
       "      <td>0.0</td>\n",
       "      <td>0.0</td>\n",
       "      <td>6.0</td>\n",
       "      <td>2.0</td>\n",
       "      <td>1.0</td>\n",
       "      <td>0.0</td>\n",
       "      <td>5</td>\n",
       "      <td>0.920</td>\n",
       "      <td>0</td>\n",
       "      <td>85</td>\n",
       "      <td>-1.0</td>\n",
       "    </tr>\n",
       "    <tr>\n",
       "      <th>4</th>\n",
       "      <td>17054.0</td>\n",
       "      <td>2.0</td>\n",
       "      <td>0.0</td>\n",
       "      <td>2.0</td>\n",
       "      <td>0.0</td>\n",
       "      <td>7.0</td>\n",
       "      <td>6.0</td>\n",
       "      <td>1.0</td>\n",
       "      <td>1.0</td>\n",
       "      <td>5</td>\n",
       "      <td>0.920</td>\n",
       "      <td>1</td>\n",
       "      <td>3</td>\n",
       "      <td>-1.0</td>\n",
       "    </tr>\n",
       "  </tbody>\n",
       "</table>\n",
       "</div>"
      ],
      "text/plain": [
       "     index  gender  enrolled_university  education_level  major_discipline  \\\n",
       "0  16834.0     1.0                  0.0              0.0               0.0   \n",
       "1  15437.0     1.0                  0.0              3.0               0.0   \n",
       "2   8549.0     1.0                  1.0              1.0               0.0   \n",
       "3   7222.0     1.0                  0.0              0.0               0.0   \n",
       "4  17054.0     2.0                  0.0              2.0               0.0   \n",
       "\n",
       "   experience  company_size  company_type  last_new_job  city  \\\n",
       "0        15.0           2.0           0.0           2.0     6   \n",
       "1        21.0           4.0           0.0           5.0    13   \n",
       "2         2.0           2.0           2.0           0.0   112   \n",
       "3         6.0           2.0           1.0           0.0     5   \n",
       "4         7.0           6.0           1.0           1.0     5   \n",
       "\n",
       "   city_development_index  relevent_experience  training_hours  target  \n",
       "0                   0.924                    1              58    -1.0  \n",
       "1                   0.926                    0             308    -1.0  \n",
       "2                   0.923                    0               8    -1.0  \n",
       "3                   0.920                    0              85    -1.0  \n",
       "4                   0.920                    1               3    -1.0  "
      ]
     },
     "execution_count": 132,
     "metadata": {},
     "output_type": "execute_result"
    }
   ],
   "source": [
    "test_meth_2.head()"
   ]
  },
  {
   "cell_type": "code",
   "execution_count": 133,
   "id": "4b689382",
   "metadata": {
    "ExecuteTime": {
     "end_time": "2022-03-12T00:26:54.788610Z",
     "start_time": "2022-03-12T00:26:54.781586Z"
    }
   },
   "outputs": [],
   "source": [
    "y = train_meth_2['target'].reset_index(drop = True)"
   ]
  },
  {
   "cell_type": "code",
   "execution_count": 135,
   "id": "1a059587",
   "metadata": {
    "ExecuteTime": {
     "end_time": "2022-03-12T00:27:01.348442Z",
     "start_time": "2022-03-12T00:27:01.331488Z"
    }
   },
   "outputs": [
    {
     "data": {
      "text/plain": [
       "(14368,)"
      ]
     },
     "execution_count": 135,
     "metadata": {},
     "output_type": "execute_result"
    }
   ],
   "source": [
    "y.shape"
   ]
  },
  {
   "cell_type": "code",
   "execution_count": 137,
   "id": "51b260e1",
   "metadata": {
    "ExecuteTime": {
     "end_time": "2022-03-12T00:27:22.316402Z",
     "start_time": "2022-03-12T00:27:22.303435Z"
    }
   },
   "outputs": [],
   "source": [
    "X = train_meth_2.drop(['index', 'target'], axis = 1)`"
   ]
  },
  {
   "cell_type": "code",
   "execution_count": 138,
   "id": "c7c82958",
   "metadata": {
    "ExecuteTime": {
     "end_time": "2022-03-12T00:27:37.815872Z",
     "start_time": "2022-03-12T00:27:37.802907Z"
    }
   },
   "outputs": [
    {
     "data": {
      "text/plain": [
       "(14368, 12)"
      ]
     },
     "execution_count": 138,
     "metadata": {},
     "output_type": "execute_result"
    }
   ],
   "source": [
    "X.shape"
   ]
  },
  {
   "cell_type": "code",
   "execution_count": 140,
   "id": "4462d955",
   "metadata": {
    "ExecuteTime": {
     "end_time": "2022-03-12T00:29:24.771915Z",
     "start_time": "2022-03-12T00:29:24.756921Z"
    }
   },
   "outputs": [],
   "source": [
    "test_meth_2 = test_meth_2.drop('target', axis = 1)"
   ]
  },
  {
   "cell_type": "code",
   "execution_count": 141,
   "id": "3e5f688e",
   "metadata": {
    "ExecuteTime": {
     "end_time": "2022-03-12T00:29:25.307988Z",
     "start_time": "2022-03-12T00:29:25.277038Z"
    }
   },
   "outputs": [
    {
     "data": {
      "text/html": [
       "<div>\n",
       "<style scoped>\n",
       "    .dataframe tbody tr th:only-of-type {\n",
       "        vertical-align: middle;\n",
       "    }\n",
       "\n",
       "    .dataframe tbody tr th {\n",
       "        vertical-align: top;\n",
       "    }\n",
       "\n",
       "    .dataframe thead th {\n",
       "        text-align: right;\n",
       "    }\n",
       "</style>\n",
       "<table border=\"1\" class=\"dataframe\">\n",
       "  <thead>\n",
       "    <tr style=\"text-align: right;\">\n",
       "      <th></th>\n",
       "      <th>index</th>\n",
       "      <th>gender</th>\n",
       "      <th>enrolled_university</th>\n",
       "      <th>education_level</th>\n",
       "      <th>major_discipline</th>\n",
       "      <th>experience</th>\n",
       "      <th>company_size</th>\n",
       "      <th>company_type</th>\n",
       "      <th>last_new_job</th>\n",
       "      <th>city</th>\n",
       "      <th>city_development_index</th>\n",
       "      <th>relevent_experience</th>\n",
       "      <th>training_hours</th>\n",
       "    </tr>\n",
       "  </thead>\n",
       "  <tbody>\n",
       "    <tr>\n",
       "      <th>0</th>\n",
       "      <td>16834.0</td>\n",
       "      <td>1.0</td>\n",
       "      <td>0.0</td>\n",
       "      <td>0.0</td>\n",
       "      <td>0.0</td>\n",
       "      <td>15.0</td>\n",
       "      <td>2.0</td>\n",
       "      <td>0.0</td>\n",
       "      <td>2.0</td>\n",
       "      <td>6</td>\n",
       "      <td>0.924</td>\n",
       "      <td>1</td>\n",
       "      <td>58</td>\n",
       "    </tr>\n",
       "    <tr>\n",
       "      <th>1</th>\n",
       "      <td>15437.0</td>\n",
       "      <td>1.0</td>\n",
       "      <td>0.0</td>\n",
       "      <td>3.0</td>\n",
       "      <td>0.0</td>\n",
       "      <td>21.0</td>\n",
       "      <td>4.0</td>\n",
       "      <td>0.0</td>\n",
       "      <td>5.0</td>\n",
       "      <td>13</td>\n",
       "      <td>0.926</td>\n",
       "      <td>0</td>\n",
       "      <td>308</td>\n",
       "    </tr>\n",
       "    <tr>\n",
       "      <th>2</th>\n",
       "      <td>8549.0</td>\n",
       "      <td>1.0</td>\n",
       "      <td>1.0</td>\n",
       "      <td>1.0</td>\n",
       "      <td>0.0</td>\n",
       "      <td>2.0</td>\n",
       "      <td>2.0</td>\n",
       "      <td>2.0</td>\n",
       "      <td>0.0</td>\n",
       "      <td>112</td>\n",
       "      <td>0.923</td>\n",
       "      <td>0</td>\n",
       "      <td>8</td>\n",
       "    </tr>\n",
       "    <tr>\n",
       "      <th>3</th>\n",
       "      <td>7222.0</td>\n",
       "      <td>1.0</td>\n",
       "      <td>0.0</td>\n",
       "      <td>0.0</td>\n",
       "      <td>0.0</td>\n",
       "      <td>6.0</td>\n",
       "      <td>2.0</td>\n",
       "      <td>1.0</td>\n",
       "      <td>0.0</td>\n",
       "      <td>5</td>\n",
       "      <td>0.920</td>\n",
       "      <td>0</td>\n",
       "      <td>85</td>\n",
       "    </tr>\n",
       "    <tr>\n",
       "      <th>4</th>\n",
       "      <td>17054.0</td>\n",
       "      <td>2.0</td>\n",
       "      <td>0.0</td>\n",
       "      <td>2.0</td>\n",
       "      <td>0.0</td>\n",
       "      <td>7.0</td>\n",
       "      <td>6.0</td>\n",
       "      <td>1.0</td>\n",
       "      <td>1.0</td>\n",
       "      <td>5</td>\n",
       "      <td>0.920</td>\n",
       "      <td>1</td>\n",
       "      <td>3</td>\n",
       "    </tr>\n",
       "  </tbody>\n",
       "</table>\n",
       "</div>"
      ],
      "text/plain": [
       "     index  gender  enrolled_university  education_level  major_discipline  \\\n",
       "0  16834.0     1.0                  0.0              0.0               0.0   \n",
       "1  15437.0     1.0                  0.0              3.0               0.0   \n",
       "2   8549.0     1.0                  1.0              1.0               0.0   \n",
       "3   7222.0     1.0                  0.0              0.0               0.0   \n",
       "4  17054.0     2.0                  0.0              2.0               0.0   \n",
       "\n",
       "   experience  company_size  company_type  last_new_job  city  \\\n",
       "0        15.0           2.0           0.0           2.0     6   \n",
       "1        21.0           4.0           0.0           5.0    13   \n",
       "2         2.0           2.0           2.0           0.0   112   \n",
       "3         6.0           2.0           1.0           0.0     5   \n",
       "4         7.0           6.0           1.0           1.0     5   \n",
       "\n",
       "   city_development_index  relevent_experience  training_hours  \n",
       "0                   0.924                    1              58  \n",
       "1                   0.926                    0             308  \n",
       "2                   0.923                    0               8  \n",
       "3                   0.920                    0              85  \n",
       "4                   0.920                    1               3  "
      ]
     },
     "execution_count": 141,
     "metadata": {},
     "output_type": "execute_result"
    }
   ],
   "source": [
    "test_meth_2.head()"
   ]
  },
  {
   "cell_type": "code",
   "execution_count": 142,
   "id": "fa64f250",
   "metadata": {
    "ExecuteTime": {
     "end_time": "2022-03-12T00:30:47.053146Z",
     "start_time": "2022-03-12T00:30:46.176379Z"
    }
   },
   "outputs": [
    {
     "name": "stderr",
     "output_type": "stream",
     "text": [
      "D:\\IDEs\\Anaconda\\lib\\site-packages\\xgboost\\sklearn.py:1224: UserWarning: The use of label encoder in XGBClassifier is deprecated and will be removed in a future release. To remove this warning, do the following: 1) Pass option use_label_encoder=False when constructing XGBClassifier object; and 2) Encode your labels (y) as integers starting with 0, i.e. 0, 1, 2, ..., [num_class - 1].\n",
      "  warnings.warn(label_encoder_deprecation_msg, UserWarning)\n"
     ]
    },
    {
     "name": "stdout",
     "output_type": "stream",
     "text": [
      "[16:30:46] WARNING: ..\\src\\learner.cc:1115: Starting in XGBoost 1.3.0, the default evaluation metric used with the objective 'binary:logistic' was changed from 'error' to 'logloss'. Explicitly set eval_metric if you'd like to restore the old behavior.\n",
      "Train AUC Score 0.9400364574854918\n",
      "Test AUC Score 0.7683746237434202\n"
     ]
    }
   ],
   "source": [
    "from sklearn.model_selection import train_test_split\n",
    "\n",
    "X_train, X_val, y_train, y_val = train_test_split(X, y, test_size = 0.2 ,random_state = 42)\n",
    "\n",
    "clf = XGBClassifier()\n",
    "\n",
    "clf.fit(X_train, y_train)\n",
    "\n",
    "y_train_pred = clf.predict_proba(X_train)\n",
    "y_train_pred_pos = y_train_pred[:,1]\n",
    "\n",
    "y_val_pred = clf.predict_proba(X_val)\n",
    "y_val_pred_pos = y_val_pred[:,1]\n",
    "\n",
    "auc_train = roc_auc_score(y_train, y_train_pred_pos)\n",
    "auc_test = roc_auc_score(y_val, y_val_pred_pos)\n",
    "\n",
    "print(f\"Train AUC Score {auc_train}\")\n",
    "print(f\"Test AUC Score {auc_test}\")"
   ]
  },
  {
   "cell_type": "code",
   "execution_count": 143,
   "id": "f520d94f",
   "metadata": {
    "ExecuteTime": {
     "end_time": "2022-03-12T00:31:01.221769Z",
     "start_time": "2022-03-12T00:31:01.203819Z"
    }
   },
   "outputs": [],
   "source": []
  },
  {
   "cell_type": "code",
   "execution_count": 144,
   "id": "e5d2db80",
   "metadata": {
    "ExecuteTime": {
     "end_time": "2022-03-12T00:31:09.241126Z",
     "start_time": "2022-03-12T00:31:09.214199Z"
    }
   },
   "outputs": [
    {
     "ename": "NameError",
     "evalue": "name 'fpr' is not defined",
     "output_type": "error",
     "traceback": [
      "\u001b[1;31m---------------------------------------------------------------------------\u001b[0m",
      "\u001b[1;31mNameError\u001b[0m                                 Traceback (most recent call last)",
      "\u001b[1;32m~\\AppData\\Local\\Temp/ipykernel_2324/2994376422.py\u001b[0m in \u001b[0;36m<module>\u001b[1;34m\u001b[0m\n\u001b[1;32m----> 1\u001b[1;33m \u001b[0mplot_auc_curve\u001b[0m\u001b[1;33m(\u001b[0m\u001b[0mfpr\u001b[0m\u001b[1;33m,\u001b[0m \u001b[0mtpr\u001b[0m\u001b[1;33m,\u001b[0m \u001b[0mauc_test\u001b[0m\u001b[1;33m)\u001b[0m\u001b[1;33m\u001b[0m\u001b[1;33m\u001b[0m\u001b[0m\n\u001b[0m",
      "\u001b[1;31mNameError\u001b[0m: name 'fpr' is not defined"
     ]
    }
   ],
   "source": []
  },
  {
   "cell_type": "code",
   "execution_count": 145,
   "id": "4b7265a3",
   "metadata": {
    "ExecuteTime": {
     "end_time": "2022-03-12T00:31:32.051820Z",
     "start_time": "2022-03-12T00:31:32.036382Z"
    }
   },
   "outputs": [],
   "source": [
    "from imblearn.over_sampling import SMOTE"
   ]
  },
  {
   "cell_type": "code",
   "execution_count": 146,
   "id": "15e5ddc0",
   "metadata": {
    "ExecuteTime": {
     "end_time": "2022-03-12T00:32:36.376561Z",
     "start_time": "2022-03-12T00:32:35.774979Z"
    }
   },
   "outputs": [
    {
     "name": "stderr",
     "output_type": "stream",
     "text": [
      "D:\\IDEs\\Anaconda\\lib\\site-packages\\seaborn\\_decorators.py:43: FutureWarning: Pass the following variable as a keyword arg: x. From version 0.12, the only valid positional argument will be `data`, and passing other arguments without an explicit keyword will result in an error or misinterpretation.\n",
      "  FutureWarning\n"
     ]
    },
    {
     "data": {
      "text/plain": [
       "<AxesSubplot:xlabel='target', ylabel='count'>"
      ]
     },
     "execution_count": 146,
     "metadata": {},
     "output_type": "execute_result"
    },
    {
     "data": {
      "image/png": "[encoded data removed]",
      "text/plain": [
       "<Figure size 432x288 with 1 Axes>"
      ]
     },
     "metadata": {
      "needs_background": "light"
     },
     "output_type": "display_data"
    }
   ],
   "source": [
    "smote = SMOTE(random_state = 402)\n",
    "X_smote, Y_smote = smote.fit_resample(X,y)\n",
    "\n",
    "\n",
    "sns.countplot(Y_smote, edgecolor = 'black')"
   ]
  },
  {
   "cell_type": "code",
   "execution_count": 147,
   "id": "bb99ac9f",
   "metadata": {
    "ExecuteTime": {
     "end_time": "2022-03-12T00:32:55.345709Z",
     "start_time": "2022-03-12T00:32:55.336706Z"
    }
   },
   "outputs": [
    {
     "name": "stdout",
     "output_type": "stream",
     "text": [
      "(21610, 12)\n"
     ]
    }
   ],
   "source": [
    "print(X_smote.shape)"
   ]
  },
  {
   "cell_type": "code",
   "execution_count": 148,
   "id": "c1322eb0",
   "metadata": {
    "ExecuteTime": {
     "end_time": "2022-03-12T00:33:16.009004Z",
     "start_time": "2022-03-12T00:33:15.218144Z"
    }
   },
   "outputs": [
    {
     "name": "stderr",
     "output_type": "stream",
     "text": [
      "D:\\IDEs\\Anaconda\\lib\\site-packages\\xgboost\\sklearn.py:1224: UserWarning: The use of label encoder in XGBClassifier is deprecated and will be removed in a future release. To remove this warning, do the following: 1) Pass option use_label_encoder=False when constructing XGBClassifier object; and 2) Encode your labels (y) as integers starting with 0, i.e. 0, 1, 2, ..., [num_class - 1].\n",
      "  warnings.warn(label_encoder_deprecation_msg, UserWarning)\n"
     ]
    },
    {
     "name": "stdout",
     "output_type": "stream",
     "text": [
      "[16:33:15] WARNING: ..\\src\\learner.cc:1115: Starting in XGBoost 1.3.0, the default evaluation metric used with the objective 'binary:logistic' was changed from 'error' to 'logloss'. Explicitly set eval_metric if you'd like to restore the old behavior.\n",
      "Train AUC Score 0.9747369199410589\n",
      "Test AUC Score 0.9213413178268843\n"
     ]
    }
   ],
   "source": [
    "X_train, X_val, y_train, y_val = train_test_split(X_smote, Y_smote, test_size = 0.2 ,random_state = 42)\n",
    "\n",
    "clf = XGBClassifier()\n",
    "\n",
    "clf.fit(X_train, y_train)\n",
    "\n",
    "y_train_pred = clf.predict_proba(X_train)\n",
    "y_train_pred_pos = y_train_pred[:,1]\n",
    "\n",
    "y_val_pred = clf.predict_proba(X_val)\n",
    "y_val_pred_pos = y_val_pred[:,1]\n",
    "\n",
    "auc_train = roc_auc_score(y_train, y_train_pred_pos)\n",
    "auc_test = roc_auc_score(y_val, y_val_pred_pos)\n",
    "\n",
    "print(f\"Train AUC Score {auc_train}\")\n",
    "print(f\"Test AUC Score {auc_test}\")"
   ]
  },
  {
   "cell_type": "code",
   "execution_count": 150,
   "id": "67cd097d",
   "metadata": {
    "ExecuteTime": {
     "end_time": "2022-03-12T00:34:52.752008Z",
     "start_time": "2022-03-12T00:34:52.589802Z"
    }
   },
   "outputs": [
    {
     "name": "stderr",
     "output_type": "stream",
     "text": [
      "D:\\IDEs\\Anaconda\\lib\\site-packages\\seaborn\\_decorators.py:43: FutureWarning: Pass the following variable as a keyword arg: x. From version 0.12, the only valid positional argument will be `data`, and passing other arguments without an explicit keyword will result in an error or misinterpretation.\n",
      "  FutureWarning\n"
     ]
    },
    {
     "data": {
      "text/plain": [
       "<AxesSubplot:xlabel='target', ylabel='count'>"
      ]
     },
     "execution_count": 150,
     "metadata": {},
     "output_type": "execute_result"
    },
    {
     "data": {
      "image/png": "[encoded data removed]",
      "text/plain": [
       "<Figure size 432x288 with 1 Axes>"
      ]
     },
     "metadata": {
      "needs_background": "light"
     },
     "output_type": "display_data"
    }
   ],
   "source": [
    "#overconquer overfitting\n",
    "\n",
    "\n",
    "smote = SMOTE(random_state = 446)\n",
    "X_smote1, Y_smote1 = smote.fit_resample(X,y)\n",
    "\n",
    "\n",
    "X_final = pd.concat([X_smote, X_smote1], axis = 0).reset_index(drop = True)\n",
    "Y_final = pd.concat([Y_smote, Y_smote1], axis = 0).reset_index(drop = True)\n",
    "\n",
    "sns.countplot(Y_final, edgecolor = 'black')"
   ]
  },
  {
   "cell_type": "code",
   "execution_count": 151,
   "id": "6a11b830",
   "metadata": {
    "ExecuteTime": {
     "end_time": "2022-03-12T00:35:06.970830Z",
     "start_time": "2022-03-12T00:35:05.650526Z"
    }
   },
   "outputs": [
    {
     "name": "stderr",
     "output_type": "stream",
     "text": [
      "D:\\IDEs\\Anaconda\\lib\\site-packages\\xgboost\\sklearn.py:1224: UserWarning: The use of label encoder in XGBClassifier is deprecated and will be removed in a future release. To remove this warning, do the following: 1) Pass option use_label_encoder=False when constructing XGBClassifier object; and 2) Encode your labels (y) as integers starting with 0, i.e. 0, 1, 2, ..., [num_class - 1].\n",
      "  warnings.warn(label_encoder_deprecation_msg, UserWarning)\n"
     ]
    },
    {
     "name": "stdout",
     "output_type": "stream",
     "text": [
      "[16:35:05] WARNING: ..\\src\\learner.cc:1115: Starting in XGBoost 1.3.0, the default evaluation metric used with the objective 'binary:logistic' was changed from 'error' to 'logloss'. Explicitly set eval_metric if you'd like to restore the old behavior.\n",
      "Train AUC Score 0.9731065388052754\n",
      "Test AUC Score 0.952518675328865\n"
     ]
    }
   ],
   "source": [
    "X_train, X_val, y_train, y_val = train_test_split(X_final, Y_final, test_size = 0.2 ,random_state = 42)\n",
    "\n",
    "clf = XGBClassifier()\n",
    "\n",
    "\n",
    "clf.fit(X_train, y_train)\n",
    "\n",
    "y_train_pred = clf.predict_proba(X_train)\n",
    "y_train_pred_pos = y_train_pred[:,1]\n",
    "\n",
    "y_val_pred = clf.predict_proba(X_val)\n",
    "y_val_pred_pos = y_val_pred[:,1]\n",
    "\n",
    "auc_train = roc_auc_score(y_train, y_train_pred_pos)\n",
    "auc_test = roc_auc_score(y_val, y_val_pred_pos)\n",
    "\n",
    "print(f\"Train AUC Score {auc_train}\")\n",
    "print(f\"Test AUC Score {auc_test}\")"
   ]
  },
  {
   "cell_type": "code",
   "execution_count": 152,
   "id": "c0920690",
   "metadata": {
    "ExecuteTime": {
     "end_time": "2022-03-12T00:36:14.023706Z",
     "start_time": "2022-03-12T00:36:14.002743Z"
    }
   },
   "outputs": [],
   "source": [
    "def optimize(params, param_names, x, y):\n",
    "   \n",
    "\n",
    "    # convert params to dictionary\n",
    "    params = dict(zip(param_names, params))\n",
    "\n",
    "    # initialize model with current parameters\n",
    "    clf = XGBClassifier(tree_method = 'hist', **params)\n",
    "    \n",
    "    # initialize stratified k fold\n",
    "    kf = StratifiedKFold(n_splits = 5)\n",
    "    \n",
    "    i = 0\n",
    "    \n",
    "    # initialize auc scores list\n",
    "    auc_scores = []\n",
    "    \n",
    "    #loop over all folds\n",
    "    for index in kf.split(X = x, y = y):\n",
    "        train_index, test_index = index[0], index[1]\n",
    "        \n",
    "        x_train = x.iloc[train_index,:]\n",
    "        y_train = y[train_index]\n",
    "\n",
    "        smote = SMOTE(random_state = 446)\n",
    "        x_train, y_train = smote.fit_resample(x_train,y_train)\n",
    "        \n",
    "        x_test = x.iloc[test_index,:]\n",
    "        y_test = y[test_index]\n",
    "        \n",
    "        #fit model\n",
    "        clf.fit(x_train, y_train)\n",
    "        \n",
    "        y_pred = clf.predict_proba(x_test)\n",
    "        y_pred_pos = y_pred[:,1]\n",
    "        \n",
    "        auc = roc_auc_score(y_test, y_pred_pos)\n",
    "        print(f'Current parameters of fold number {i} -> {params}')\n",
    "        print(f'AUC score of test {i} f {auc}')\n",
    "\n",
    "        i = i+1\n",
    "        auc_scores.append(auc)\n",
    "        \n",
    "    return -1 * np.mean(auc_scores)"
   ]
  },
  {
   "cell_type": "code",
   "execution_count": 155,
   "id": "2ad0f85d",
   "metadata": {
    "ExecuteTime": {
     "end_time": "2022-03-12T00:38:47.373137Z",
     "start_time": "2022-03-12T00:38:47.233961Z"
    }
   },
   "outputs": [],
   "source": [
    "#define a parameter space\n",
    "from skopt import space\n",
    "param_spaces = [space.Integer(100, 2000, name = 'n_estimators'),\n",
    "                space.Real(0.01,100, name = 'min_child_weight'),\n",
    "                space.Real(0.01,1000, name = 'gamma'),\n",
    "                space.Real(0.1, 1, prior = 'uniform', name = 'colsample_bytree'),\n",
    "]\n",
    "\n",
    "# make a list of param names this has to be same order as the search space inside the main function\n",
    "param_names = ['n_estimators' ,'min_child_weight', 'gamma', 'colsample_bytree']\n",
    "\n",
    "\n",
    "optimize_function = partial(optimize, param_names = param_names, x = X, y = y)"
   ]
  },
  {
   "cell_type": "code",
   "execution_count": 157,
   "id": "5e91a13b",
   "metadata": {
    "ExecuteTime": {
     "end_time": "2022-03-12T00:44:21.530347Z",
     "start_time": "2022-03-12T00:41:00.111164Z"
    }
   },
   "outputs": [
    {
     "name": "stdout",
     "output_type": "stream",
     "text": [
      "Iteration No: 1 started. Evaluating function at random point.\n",
      "[16:41:00] WARNING: ..\\src\\learner.cc:1115: Starting in XGBoost 1.3.0, the default evaluation metric used with the objective 'binary:logistic' was changed from 'error' to 'logloss'. Explicitly set eval_metric if you'd like to restore the old behavior.\n"
     ]
    },
    {
     "name": "stderr",
     "output_type": "stream",
     "text": [
      "D:\\IDEs\\Anaconda\\lib\\site-packages\\xgboost\\sklearn.py:1224: UserWarning: The use of label encoder in XGBClassifier is deprecated and will be removed in a future release. To remove this warning, do the following: 1) Pass option use_label_encoder=False when constructing XGBClassifier object; and 2) Encode your labels (y) as integers starting with 0, i.e. 0, 1, 2, ..., [num_class - 1].\n",
      "  warnings.warn(label_encoder_deprecation_msg, UserWarning)\n"
     ]
    },
    {
     "name": "stdout",
     "output_type": "stream",
     "text": [
      "Current parameters of fold number 0 -> {'n_estimators': 857, 'min_child_weight': 63.45093827943151, 'gamma': 913.3526207723453, 'colsample_bytree': 0.4369612720997541}\n",
      "AUC score of test 0 f 0.7206990166751797\n",
      "[16:41:01] WARNING: ..\\src\\learner.cc:1115: Starting in XGBoost 1.3.0, the default evaluation metric used with the objective 'binary:logistic' was changed from 'error' to 'logloss'. Explicitly set eval_metric if you'd like to restore the old behavior.\n"
     ]
    },
    {
     "name": "stderr",
     "output_type": "stream",
     "text": [
      "D:\\IDEs\\Anaconda\\lib\\site-packages\\xgboost\\sklearn.py:1224: UserWarning: The use of label encoder in XGBClassifier is deprecated and will be removed in a future release. To remove this warning, do the following: 1) Pass option use_label_encoder=False when constructing XGBClassifier object; and 2) Encode your labels (y) as integers starting with 0, i.e. 0, 1, 2, ..., [num_class - 1].\n",
      "  warnings.warn(label_encoder_deprecation_msg, UserWarning)\n"
     ]
    },
    {
     "name": "stdout",
     "output_type": "stream",
     "text": [
      "Current parameters of fold number 1 -> {'n_estimators': 857, 'min_child_weight': 63.45093827943151, 'gamma': 913.3526207723453, 'colsample_bytree': 0.4369612720997541}\n",
      "AUC score of test 1 f 0.7267387637404894\n",
      "[16:41:03] WARNING: ..\\src\\learner.cc:1115: Starting in XGBoost 1.3.0, the default evaluation metric used with the objective 'binary:logistic' was changed from 'error' to 'logloss'. Explicitly set eval_metric if you'd like to restore the old behavior.\n"
     ]
    },
    {
     "name": "stderr",
     "output_type": "stream",
     "text": [
      "D:\\IDEs\\Anaconda\\lib\\site-packages\\xgboost\\sklearn.py:1224: UserWarning: The use of label encoder in XGBClassifier is deprecated and will be removed in a future release. To remove this warning, do the following: 1) Pass option use_label_encoder=False when constructing XGBClassifier object; and 2) Encode your labels (y) as integers starting with 0, i.e. 0, 1, 2, ..., [num_class - 1].\n",
      "  warnings.warn(label_encoder_deprecation_msg, UserWarning)\n"
     ]
    },
    {
     "name": "stdout",
     "output_type": "stream",
     "text": [
      "Current parameters of fold number 2 -> {'n_estimators': 857, 'min_child_weight': 63.45093827943151, 'gamma': 913.3526207723453, 'colsample_bytree': 0.4369612720997541}\n",
      "AUC score of test 2 f 0.723485893302994\n",
      "[16:41:05] WARNING: ..\\src\\learner.cc:1115: Starting in XGBoost 1.3.0, the default evaluation metric used with the objective 'binary:logistic' was changed from 'error' to 'logloss'. Explicitly set eval_metric if you'd like to restore the old behavior.\n"
     ]
    },
    {
     "name": "stderr",
     "output_type": "stream",
     "text": [
      "D:\\IDEs\\Anaconda\\lib\\site-packages\\xgboost\\sklearn.py:1224: UserWarning: The use of label encoder in XGBClassifier is deprecated and will be removed in a future release. To remove this warning, do the following: 1) Pass option use_label_encoder=False when constructing XGBClassifier object; and 2) Encode your labels (y) as integers starting with 0, i.e. 0, 1, 2, ..., [num_class - 1].\n",
      "  warnings.warn(label_encoder_deprecation_msg, UserWarning)\n"
     ]
    },
    {
     "name": "stdout",
     "output_type": "stream",
     "text": [
      "Current parameters of fold number 3 -> {'n_estimators': 857, 'min_child_weight': 63.45093827943151, 'gamma': 913.3526207723453, 'colsample_bytree': 0.4369612720997541}\n",
      "AUC score of test 3 f 0.702370677328952\n",
      "[16:41:06] WARNING: ..\\src\\learner.cc:1115: Starting in XGBoost 1.3.0, the default evaluation metric used with the objective 'binary:logistic' was changed from 'error' to 'logloss'. Explicitly set eval_metric if you'd like to restore the old behavior.\n"
     ]
    },
    {
     "name": "stderr",
     "output_type": "stream",
     "text": [
      "D:\\IDEs\\Anaconda\\lib\\site-packages\\xgboost\\sklearn.py:1224: UserWarning: The use of label encoder in XGBClassifier is deprecated and will be removed in a future release. To remove this warning, do the following: 1) Pass option use_label_encoder=False when constructing XGBClassifier object; and 2) Encode your labels (y) as integers starting with 0, i.e. 0, 1, 2, ..., [num_class - 1].\n",
      "  warnings.warn(label_encoder_deprecation_msg, UserWarning)\n"
     ]
    },
    {
     "name": "stdout",
     "output_type": "stream",
     "text": [
      "Current parameters of fold number 4 -> {'n_estimators': 857, 'min_child_weight': 63.45093827943151, 'gamma': 913.3526207723453, 'colsample_bytree': 0.4369612720997541}\n",
      "AUC score of test 4 f 0.705114998258193\n",
      "Iteration No: 1 ended. Evaluation done at random point.\n",
      "Time taken: 8.1446\n",
      "Function value obtained: -0.7157\n",
      "Current minimum: -0.7157\n",
      "Iteration No: 2 started. Evaluating function at random point.\n",
      "[16:41:08] WARNING: ..\\src\\learner.cc:1115: Starting in XGBoost 1.3.0, the default evaluation metric used with the objective 'binary:logistic' was changed from 'error' to 'logloss'. Explicitly set eval_metric if you'd like to restore the old behavior.\n"
     ]
    },
    {
     "name": "stderr",
     "output_type": "stream",
     "text": [
      "D:\\IDEs\\Anaconda\\lib\\site-packages\\xgboost\\sklearn.py:1224: UserWarning: The use of label encoder in XGBClassifier is deprecated and will be removed in a future release. To remove this warning, do the following: 1) Pass option use_label_encoder=False when constructing XGBClassifier object; and 2) Encode your labels (y) as integers starting with 0, i.e. 0, 1, 2, ..., [num_class - 1].\n",
      "  warnings.warn(label_encoder_deprecation_msg, UserWarning)\n"
     ]
    },
    {
     "name": "stdout",
     "output_type": "stream",
     "text": [
      "Current parameters of fold number 0 -> {'n_estimators': 220, 'min_child_weight': 14.246680878307844, 'gamma': 349.9826460733118, 'colsample_bytree': 0.12759923724796293}\n",
      "AUC score of test 0 f 0.7308765681048656\n",
      "[16:41:08] WARNING: ..\\src\\learner.cc:1115: Starting in XGBoost 1.3.0, the default evaluation metric used with the objective 'binary:logistic' was changed from 'error' to 'logloss'. Explicitly set eval_metric if you'd like to restore the old behavior.\n"
     ]
    },
    {
     "name": "stderr",
     "output_type": "stream",
     "text": [
      "D:\\IDEs\\Anaconda\\lib\\site-packages\\xgboost\\sklearn.py:1224: UserWarning: The use of label encoder in XGBClassifier is deprecated and will be removed in a future release. To remove this warning, do the following: 1) Pass option use_label_encoder=False when constructing XGBClassifier object; and 2) Encode your labels (y) as integers starting with 0, i.e. 0, 1, 2, ..., [num_class - 1].\n",
      "  warnings.warn(label_encoder_deprecation_msg, UserWarning)\n"
     ]
    },
    {
     "name": "stdout",
     "output_type": "stream",
     "text": [
      "Current parameters of fold number 1 -> {'n_estimators': 220, 'min_child_weight': 14.246680878307844, 'gamma': 349.9826460733118, 'colsample_bytree': 0.12759923724796293}\n",
      "AUC score of test 1 f 0.7490892676693105\n",
      "[16:41:09] WARNING: ..\\src\\learner.cc:1115: Starting in XGBoost 1.3.0, the default evaluation metric used with the objective 'binary:logistic' was changed from 'error' to 'logloss'. Explicitly set eval_metric if you'd like to restore the old behavior.\n"
     ]
    },
    {
     "name": "stderr",
     "output_type": "stream",
     "text": [
      "D:\\IDEs\\Anaconda\\lib\\site-packages\\xgboost\\sklearn.py:1224: UserWarning: The use of label encoder in XGBClassifier is deprecated and will be removed in a future release. To remove this warning, do the following: 1) Pass option use_label_encoder=False when constructing XGBClassifier object; and 2) Encode your labels (y) as integers starting with 0, i.e. 0, 1, 2, ..., [num_class - 1].\n",
      "  warnings.warn(label_encoder_deprecation_msg, UserWarning)\n"
     ]
    },
    {
     "name": "stdout",
     "output_type": "stream",
     "text": [
      "Current parameters of fold number 2 -> {'n_estimators': 220, 'min_child_weight': 14.246680878307844, 'gamma': 349.9826460733118, 'colsample_bytree': 0.12759923724796293}\n",
      "AUC score of test 2 f 0.7404518322707853\n",
      "[16:41:09] WARNING: ..\\src\\learner.cc:1115: Starting in XGBoost 1.3.0, the default evaluation metric used with the objective 'binary:logistic' was changed from 'error' to 'logloss'. Explicitly set eval_metric if you'd like to restore the old behavior.\n"
     ]
    },
    {
     "name": "stderr",
     "output_type": "stream",
     "text": [
      "D:\\IDEs\\Anaconda\\lib\\site-packages\\xgboost\\sklearn.py:1224: UserWarning: The use of label encoder in XGBClassifier is deprecated and will be removed in a future release. To remove this warning, do the following: 1) Pass option use_label_encoder=False when constructing XGBClassifier object; and 2) Encode your labels (y) as integers starting with 0, i.e. 0, 1, 2, ..., [num_class - 1].\n",
      "  warnings.warn(label_encoder_deprecation_msg, UserWarning)\n"
     ]
    },
    {
     "name": "stdout",
     "output_type": "stream",
     "text": [
      "Current parameters of fold number 3 -> {'n_estimators': 220, 'min_child_weight': 14.246680878307844, 'gamma': 349.9826460733118, 'colsample_bytree': 0.12759923724796293}\n",
      "AUC score of test 3 f 0.7352628828725777\n",
      "[16:41:10] WARNING: ..\\src\\learner.cc:1115: Starting in XGBoost 1.3.0, the default evaluation metric used with the objective 'binary:logistic' was changed from 'error' to 'logloss'. Explicitly set eval_metric if you'd like to restore the old behavior.\n"
     ]
    },
    {
     "name": "stderr",
     "output_type": "stream",
     "text": [
      "D:\\IDEs\\Anaconda\\lib\\site-packages\\xgboost\\sklearn.py:1224: UserWarning: The use of label encoder in XGBClassifier is deprecated and will be removed in a future release. To remove this warning, do the following: 1) Pass option use_label_encoder=False when constructing XGBClassifier object; and 2) Encode your labels (y) as integers starting with 0, i.e. 0, 1, 2, ..., [num_class - 1].\n",
      "  warnings.warn(label_encoder_deprecation_msg, UserWarning)\n"
     ]
    },
    {
     "name": "stdout",
     "output_type": "stream",
     "text": [
      "Current parameters of fold number 4 -> {'n_estimators': 220, 'min_child_weight': 14.246680878307844, 'gamma': 349.9826460733118, 'colsample_bytree': 0.12759923724796293}\n",
      "AUC score of test 4 f 0.731183609856028\n",
      "Iteration No: 2 ended. Evaluation done at random point.\n",
      "Time taken: 2.2939\n",
      "Function value obtained: -0.7374\n",
      "Current minimum: -0.7374\n",
      "Iteration No: 3 started. Evaluating function at random point.\n",
      "[16:41:10] WARNING: ..\\src\\learner.cc:1115: Starting in XGBoost 1.3.0, the default evaluation metric used with the objective 'binary:logistic' was changed from 'error' to 'logloss'. Explicitly set eval_metric if you'd like to restore the old behavior.\n"
     ]
    },
    {
     "name": "stderr",
     "output_type": "stream",
     "text": [
      "D:\\IDEs\\Anaconda\\lib\\site-packages\\xgboost\\sklearn.py:1224: UserWarning: The use of label encoder in XGBClassifier is deprecated and will be removed in a future release. To remove this warning, do the following: 1) Pass option use_label_encoder=False when constructing XGBClassifier object; and 2) Encode your labels (y) as integers starting with 0, i.e. 0, 1, 2, ..., [num_class - 1].\n",
      "  warnings.warn(label_encoder_deprecation_msg, UserWarning)\n"
     ]
    },
    {
     "name": "stdout",
     "output_type": "stream",
     "text": [
      "Current parameters of fold number 0 -> {'n_estimators': 1846, 'min_child_weight': 24.425487577040528, 'gamma': 798.4153981059495, 'colsample_bytree': 0.6759271680958682}\n",
      "AUC score of test 0 f 0.7357399728581321\n",
      "[16:41:14] WARNING: ..\\src\\learner.cc:1115: Starting in XGBoost 1.3.0, the default evaluation metric used with the objective 'binary:logistic' was changed from 'error' to 'logloss'. Explicitly set eval_metric if you'd like to restore the old behavior.\n"
     ]
    },
    {
     "name": "stderr",
     "output_type": "stream",
     "text": [
      "D:\\IDEs\\Anaconda\\lib\\site-packages\\xgboost\\sklearn.py:1224: UserWarning: The use of label encoder in XGBClassifier is deprecated and will be removed in a future release. To remove this warning, do the following: 1) Pass option use_label_encoder=False when constructing XGBClassifier object; and 2) Encode your labels (y) as integers starting with 0, i.e. 0, 1, 2, ..., [num_class - 1].\n",
      "  warnings.warn(label_encoder_deprecation_msg, UserWarning)\n"
     ]
    },
    {
     "name": "stdout",
     "output_type": "stream",
     "text": [
      "Current parameters of fold number 1 -> {'n_estimators': 1846, 'min_child_weight': 24.425487577040528, 'gamma': 798.4153981059495, 'colsample_bytree': 0.6759271680958682}\n",
      "AUC score of test 1 f 0.7526786531351064\n",
      "[16:41:18] WARNING: ..\\src\\learner.cc:1115: Starting in XGBoost 1.3.0, the default evaluation metric used with the objective 'binary:logistic' was changed from 'error' to 'logloss'. Explicitly set eval_metric if you'd like to restore the old behavior.\n"
     ]
    },
    {
     "name": "stderr",
     "output_type": "stream",
     "text": [
      "D:\\IDEs\\Anaconda\\lib\\site-packages\\xgboost\\sklearn.py:1224: UserWarning: The use of label encoder in XGBClassifier is deprecated and will be removed in a future release. To remove this warning, do the following: 1) Pass option use_label_encoder=False when constructing XGBClassifier object; and 2) Encode your labels (y) as integers starting with 0, i.e. 0, 1, 2, ..., [num_class - 1].\n",
      "  warnings.warn(label_encoder_deprecation_msg, UserWarning)\n"
     ]
    },
    {
     "name": "stdout",
     "output_type": "stream",
     "text": [
      "Current parameters of fold number 2 -> {'n_estimators': 1846, 'min_child_weight': 24.425487577040528, 'gamma': 798.4153981059495, 'colsample_bytree': 0.6759271680958682}\n",
      "AUC score of test 2 f 0.7264690974063355\n",
      "[16:41:22] WARNING: ..\\src\\learner.cc:1115: Starting in XGBoost 1.3.0, the default evaluation metric used with the objective 'binary:logistic' was changed from 'error' to 'logloss'. Explicitly set eval_metric if you'd like to restore the old behavior.\n"
     ]
    },
    {
     "name": "stderr",
     "output_type": "stream",
     "text": [
      "D:\\IDEs\\Anaconda\\lib\\site-packages\\xgboost\\sklearn.py:1224: UserWarning: The use of label encoder in XGBClassifier is deprecated and will be removed in a future release. To remove this warning, do the following: 1) Pass option use_label_encoder=False when constructing XGBClassifier object; and 2) Encode your labels (y) as integers starting with 0, i.e. 0, 1, 2, ..., [num_class - 1].\n",
      "  warnings.warn(label_encoder_deprecation_msg, UserWarning)\n"
     ]
    },
    {
     "name": "stdout",
     "output_type": "stream",
     "text": [
      "Current parameters of fold number 3 -> {'n_estimators': 1846, 'min_child_weight': 24.425487577040528, 'gamma': 798.4153981059495, 'colsample_bytree': 0.6759271680958682}\n",
      "AUC score of test 3 f 0.7267647494657592\n",
      "[16:41:26] WARNING: ..\\src\\learner.cc:1115: Starting in XGBoost 1.3.0, the default evaluation metric used with the objective 'binary:logistic' was changed from 'error' to 'logloss'. Explicitly set eval_metric if you'd like to restore the old behavior.\n"
     ]
    },
    {
     "name": "stderr",
     "output_type": "stream",
     "text": [
      "D:\\IDEs\\Anaconda\\lib\\site-packages\\xgboost\\sklearn.py:1224: UserWarning: The use of label encoder in XGBClassifier is deprecated and will be removed in a future release. To remove this warning, do the following: 1) Pass option use_label_encoder=False when constructing XGBClassifier object; and 2) Encode your labels (y) as integers starting with 0, i.e. 0, 1, 2, ..., [num_class - 1].\n",
      "  warnings.warn(label_encoder_deprecation_msg, UserWarning)\n"
     ]
    },
    {
     "name": "stdout",
     "output_type": "stream",
     "text": [
      "Current parameters of fold number 4 -> {'n_estimators': 1846, 'min_child_weight': 24.425487577040528, 'gamma': 798.4153981059495, 'colsample_bytree': 0.6759271680958682}\n",
      "AUC score of test 4 f 0.7099231655132612\n",
      "Iteration No: 3 ended. Evaluation done at random point.\n",
      "Time taken: 19.9097\n",
      "Function value obtained: -0.7303\n",
      "Current minimum: -0.7374\n",
      "Iteration No: 4 started. Evaluating function at random point.\n",
      "[16:41:30] WARNING: ..\\src\\learner.cc:1115: Starting in XGBoost 1.3.0, the default evaluation metric used with the objective 'binary:logistic' was changed from 'error' to 'logloss'. Explicitly set eval_metric if you'd like to restore the old behavior.\n"
     ]
    },
    {
     "name": "stderr",
     "output_type": "stream",
     "text": [
      "D:\\IDEs\\Anaconda\\lib\\site-packages\\xgboost\\sklearn.py:1224: UserWarning: The use of label encoder in XGBClassifier is deprecated and will be removed in a future release. To remove this warning, do the following: 1) Pass option use_label_encoder=False when constructing XGBClassifier object; and 2) Encode your labels (y) as integers starting with 0, i.e. 0, 1, 2, ..., [num_class - 1].\n",
      "  warnings.warn(label_encoder_deprecation_msg, UserWarning)\n"
     ]
    },
    {
     "name": "stdout",
     "output_type": "stream",
     "text": [
      "Current parameters of fold number 0 -> {'n_estimators': 1109, 'min_child_weight': 22.268214671183028, 'gamma': 294.15008056361825, 'colsample_bytree': 0.3907923641864055}\n",
      "AUC score of test 0 f 0.7485359811473702\n",
      "[16:41:32] WARNING: ..\\src\\learner.cc:1115: Starting in XGBoost 1.3.0, the default evaluation metric used with the objective 'binary:logistic' was changed from 'error' to 'logloss'. Explicitly set eval_metric if you'd like to restore the old behavior.\n"
     ]
    },
    {
     "name": "stderr",
     "output_type": "stream",
     "text": [
      "D:\\IDEs\\Anaconda\\lib\\site-packages\\xgboost\\sklearn.py:1224: UserWarning: The use of label encoder in XGBClassifier is deprecated and will be removed in a future release. To remove this warning, do the following: 1) Pass option use_label_encoder=False when constructing XGBClassifier object; and 2) Encode your labels (y) as integers starting with 0, i.e. 0, 1, 2, ..., [num_class - 1].\n",
      "  warnings.warn(label_encoder_deprecation_msg, UserWarning)\n"
     ]
    },
    {
     "name": "stdout",
     "output_type": "stream",
     "text": [
      "Current parameters of fold number 1 -> {'n_estimators': 1109, 'min_child_weight': 22.268214671183028, 'gamma': 294.15008056361825, 'colsample_bytree': 0.3907923641864055}\n",
      "AUC score of test 1 f 0.7559970742338523\n",
      "[16:41:34] WARNING: ..\\src\\learner.cc:1115: Starting in XGBoost 1.3.0, the default evaluation metric used with the objective 'binary:logistic' was changed from 'error' to 'logloss'. Explicitly set eval_metric if you'd like to restore the old behavior.\n"
     ]
    },
    {
     "name": "stderr",
     "output_type": "stream",
     "text": [
      "D:\\IDEs\\Anaconda\\lib\\site-packages\\xgboost\\sklearn.py:1224: UserWarning: The use of label encoder in XGBClassifier is deprecated and will be removed in a future release. To remove this warning, do the following: 1) Pass option use_label_encoder=False when constructing XGBClassifier object; and 2) Encode your labels (y) as integers starting with 0, i.e. 0, 1, 2, ..., [num_class - 1].\n",
      "  warnings.warn(label_encoder_deprecation_msg, UserWarning)\n"
     ]
    },
    {
     "name": "stdout",
     "output_type": "stream",
     "text": [
      "Current parameters of fold number 2 -> {'n_estimators': 1109, 'min_child_weight': 22.268214671183028, 'gamma': 294.15008056361825, 'colsample_bytree': 0.3907923641864055}\n",
      "AUC score of test 2 f 0.7494228621235947\n",
      "[16:41:36] WARNING: ..\\src\\learner.cc:1115: Starting in XGBoost 1.3.0, the default evaluation metric used with the objective 'binary:logistic' was changed from 'error' to 'logloss'. Explicitly set eval_metric if you'd like to restore the old behavior.\n"
     ]
    },
    {
     "name": "stderr",
     "output_type": "stream",
     "text": [
      "D:\\IDEs\\Anaconda\\lib\\site-packages\\xgboost\\sklearn.py:1224: UserWarning: The use of label encoder in XGBClassifier is deprecated and will be removed in a future release. To remove this warning, do the following: 1) Pass option use_label_encoder=False when constructing XGBClassifier object; and 2) Encode your labels (y) as integers starting with 0, i.e. 0, 1, 2, ..., [num_class - 1].\n",
      "  warnings.warn(label_encoder_deprecation_msg, UserWarning)\n"
     ]
    },
    {
     "name": "stdout",
     "output_type": "stream",
     "text": [
      "Current parameters of fold number 3 -> {'n_estimators': 1109, 'min_child_weight': 22.268214671183028, 'gamma': 294.15008056361825, 'colsample_bytree': 0.3907923641864055}\n",
      "AUC score of test 3 f 0.7422271862277658\n",
      "[16:41:38] WARNING: ..\\src\\learner.cc:1115: Starting in XGBoost 1.3.0, the default evaluation metric used with the objective 'binary:logistic' was changed from 'error' to 'logloss'. Explicitly set eval_metric if you'd like to restore the old behavior.\n"
     ]
    },
    {
     "name": "stderr",
     "output_type": "stream",
     "text": [
      "D:\\IDEs\\Anaconda\\lib\\site-packages\\xgboost\\sklearn.py:1224: UserWarning: The use of label encoder in XGBClassifier is deprecated and will be removed in a future release. To remove this warning, do the following: 1) Pass option use_label_encoder=False when constructing XGBClassifier object; and 2) Encode your labels (y) as integers starting with 0, i.e. 0, 1, 2, ..., [num_class - 1].\n",
      "  warnings.warn(label_encoder_deprecation_msg, UserWarning)\n"
     ]
    },
    {
     "name": "stdout",
     "output_type": "stream",
     "text": [
      "Current parameters of fold number 4 -> {'n_estimators': 1109, 'min_child_weight': 22.268214671183028, 'gamma': 294.15008056361825, 'colsample_bytree': 0.3907923641864055}\n",
      "AUC score of test 4 f 0.7300299876773653\n",
      "Iteration No: 4 ended. Evaluation done at random point.\n",
      "Time taken: 10.4394\n",
      "Function value obtained: -0.7452\n",
      "Current minimum: -0.7452\n",
      "Iteration No: 5 started. Evaluating function at random point.\n",
      "[16:41:41] WARNING: ..\\src\\learner.cc:1115: Starting in XGBoost 1.3.0, the default evaluation metric used with the objective 'binary:logistic' was changed from 'error' to 'logloss'. Explicitly set eval_metric if you'd like to restore the old behavior.\n"
     ]
    },
    {
     "name": "stderr",
     "output_type": "stream",
     "text": [
      "D:\\IDEs\\Anaconda\\lib\\site-packages\\xgboost\\sklearn.py:1224: UserWarning: The use of label encoder in XGBClassifier is deprecated and will be removed in a future release. To remove this warning, do the following: 1) Pass option use_label_encoder=False when constructing XGBClassifier object; and 2) Encode your labels (y) as integers starting with 0, i.e. 0, 1, 2, ..., [num_class - 1].\n",
      "  warnings.warn(label_encoder_deprecation_msg, UserWarning)\n"
     ]
    },
    {
     "name": "stdout",
     "output_type": "stream",
     "text": [
      "Current parameters of fold number 0 -> {'n_estimators': 202, 'min_child_weight': 14.564692620281674, 'gamma': 358.62150050523604, 'colsample_bytree': 0.9542884786497764}\n",
      "AUC score of test 0 f 0.7508425856036469\n",
      "[16:41:41] WARNING: ..\\src\\learner.cc:1115: Starting in XGBoost 1.3.0, the default evaluation metric used with the objective 'binary:logistic' was changed from 'error' to 'logloss'. Explicitly set eval_metric if you'd like to restore the old behavior.\n"
     ]
    },
    {
     "name": "stderr",
     "output_type": "stream",
     "text": [
      "D:\\IDEs\\Anaconda\\lib\\site-packages\\xgboost\\sklearn.py:1224: UserWarning: The use of label encoder in XGBClassifier is deprecated and will be removed in a future release. To remove this warning, do the following: 1) Pass option use_label_encoder=False when constructing XGBClassifier object; and 2) Encode your labels (y) as integers starting with 0, i.e. 0, 1, 2, ..., [num_class - 1].\n",
      "  warnings.warn(label_encoder_deprecation_msg, UserWarning)\n"
     ]
    },
    {
     "name": "stdout",
     "output_type": "stream",
     "text": [
      "Current parameters of fold number 1 -> {'n_estimators': 202, 'min_child_weight': 14.564692620281674, 'gamma': 358.62150050523604, 'colsample_bytree': 0.9542884786497764}\n",
      "AUC score of test 1 f 0.7652685987020968\n",
      "[16:41:42] WARNING: ..\\src\\learner.cc:1115: Starting in XGBoost 1.3.0, the default evaluation metric used with the objective 'binary:logistic' was changed from 'error' to 'logloss'. Explicitly set eval_metric if you'd like to restore the old behavior.\n"
     ]
    },
    {
     "name": "stderr",
     "output_type": "stream",
     "text": [
      "D:\\IDEs\\Anaconda\\lib\\site-packages\\xgboost\\sklearn.py:1224: UserWarning: The use of label encoder in XGBClassifier is deprecated and will be removed in a future release. To remove this warning, do the following: 1) Pass option use_label_encoder=False when constructing XGBClassifier object; and 2) Encode your labels (y) as integers starting with 0, i.e. 0, 1, 2, ..., [num_class - 1].\n",
      "  warnings.warn(label_encoder_deprecation_msg, UserWarning)\n"
     ]
    },
    {
     "name": "stdout",
     "output_type": "stream",
     "text": [
      "Current parameters of fold number 2 -> {'n_estimators': 202, 'min_child_weight': 14.564692620281674, 'gamma': 358.62150050523604, 'colsample_bytree': 0.9542884786497764}\n",
      "AUC score of test 2 f 0.7434347118659029\n",
      "[16:41:42] WARNING: ..\\src\\learner.cc:1115: Starting in XGBoost 1.3.0, the default evaluation metric used with the objective 'binary:logistic' was changed from 'error' to 'logloss'. Explicitly set eval_metric if you'd like to restore the old behavior.\n"
     ]
    },
    {
     "name": "stderr",
     "output_type": "stream",
     "text": [
      "D:\\IDEs\\Anaconda\\lib\\site-packages\\xgboost\\sklearn.py:1224: UserWarning: The use of label encoder in XGBClassifier is deprecated and will be removed in a future release. To remove this warning, do the following: 1) Pass option use_label_encoder=False when constructing XGBClassifier object; and 2) Encode your labels (y) as integers starting with 0, i.e. 0, 1, 2, ..., [num_class - 1].\n",
      "  warnings.warn(label_encoder_deprecation_msg, UserWarning)\n"
     ]
    },
    {
     "name": "stdout",
     "output_type": "stream",
     "text": [
      "Current parameters of fold number 3 -> {'n_estimators': 202, 'min_child_weight': 14.564692620281674, 'gamma': 358.62150050523604, 'colsample_bytree': 0.9542884786497764}\n",
      "AUC score of test 3 f 0.7518919403730067\n",
      "[16:41:43] WARNING: ..\\src\\learner.cc:1115: Starting in XGBoost 1.3.0, the default evaluation metric used with the objective 'binary:logistic' was changed from 'error' to 'logloss'. Explicitly set eval_metric if you'd like to restore the old behavior.\n"
     ]
    },
    {
     "name": "stderr",
     "output_type": "stream",
     "text": [
      "D:\\IDEs\\Anaconda\\lib\\site-packages\\xgboost\\sklearn.py:1224: UserWarning: The use of label encoder in XGBClassifier is deprecated and will be removed in a future release. To remove this warning, do the following: 1) Pass option use_label_encoder=False when constructing XGBClassifier object; and 2) Encode your labels (y) as integers starting with 0, i.e. 0, 1, 2, ..., [num_class - 1].\n",
      "  warnings.warn(label_encoder_deprecation_msg, UserWarning)\n"
     ]
    },
    {
     "name": "stdout",
     "output_type": "stream",
     "text": [
      "Current parameters of fold number 4 -> {'n_estimators': 202, 'min_child_weight': 14.564692620281674, 'gamma': 358.62150050523604, 'colsample_bytree': 0.9542884786497764}\n",
      "AUC score of test 4 f 0.7342554944912103\n",
      "Iteration No: 5 ended. Evaluation done at random point.\n",
      "Time taken: 4.0383\n",
      "Function value obtained: -0.7491\n",
      "Current minimum: -0.7491\n",
      "Iteration No: 6 started. Searching for the next optimal point.\n",
      "[16:41:45] WARNING: ..\\src\\learner.cc:1115: Starting in XGBoost 1.3.0, the default evaluation metric used with the objective 'binary:logistic' was changed from 'error' to 'logloss'. Explicitly set eval_metric if you'd like to restore the old behavior.\n"
     ]
    },
    {
     "name": "stderr",
     "output_type": "stream",
     "text": [
      "D:\\IDEs\\Anaconda\\lib\\site-packages\\xgboost\\sklearn.py:1224: UserWarning: The use of label encoder in XGBClassifier is deprecated and will be removed in a future release. To remove this warning, do the following: 1) Pass option use_label_encoder=False when constructing XGBClassifier object; and 2) Encode your labels (y) as integers starting with 0, i.e. 0, 1, 2, ..., [num_class - 1].\n",
      "  warnings.warn(label_encoder_deprecation_msg, UserWarning)\n"
     ]
    },
    {
     "name": "stdout",
     "output_type": "stream",
     "text": [
      "Current parameters of fold number 0 -> {'n_estimators': 2000, 'min_child_weight': 28.94768019683909, 'gamma': 0.01, 'colsample_bytree': 0.9786588169586365}\n",
      "AUC score of test 0 f 0.7223916515716258\n",
      "[16:41:48] WARNING: ..\\src\\learner.cc:1115: Starting in XGBoost 1.3.0, the default evaluation metric used with the objective 'binary:logistic' was changed from 'error' to 'logloss'. Explicitly set eval_metric if you'd like to restore the old behavior.\n"
     ]
    },
    {
     "name": "stderr",
     "output_type": "stream",
     "text": [
      "D:\\IDEs\\Anaconda\\lib\\site-packages\\xgboost\\sklearn.py:1224: UserWarning: The use of label encoder in XGBClassifier is deprecated and will be removed in a future release. To remove this warning, do the following: 1) Pass option use_label_encoder=False when constructing XGBClassifier object; and 2) Encode your labels (y) as integers starting with 0, i.e. 0, 1, 2, ..., [num_class - 1].\n",
      "  warnings.warn(label_encoder_deprecation_msg, UserWarning)\n"
     ]
    },
    {
     "name": "stdout",
     "output_type": "stream",
     "text": [
      "Current parameters of fold number 1 -> {'n_estimators': 2000, 'min_child_weight': 28.94768019683909, 'gamma': 0.01, 'colsample_bytree': 0.9786588169586365}\n",
      "AUC score of test 1 f 0.7149091409423588\n",
      "[16:41:52] WARNING: ..\\src\\learner.cc:1115: Starting in XGBoost 1.3.0, the default evaluation metric used with the objective 'binary:logistic' was changed from 'error' to 'logloss'. Explicitly set eval_metric if you'd like to restore the old behavior.\n"
     ]
    },
    {
     "name": "stderr",
     "output_type": "stream",
     "text": [
      "D:\\IDEs\\Anaconda\\lib\\site-packages\\xgboost\\sklearn.py:1224: UserWarning: The use of label encoder in XGBClassifier is deprecated and will be removed in a future release. To remove this warning, do the following: 1) Pass option use_label_encoder=False when constructing XGBClassifier object; and 2) Encode your labels (y) as integers starting with 0, i.e. 0, 1, 2, ..., [num_class - 1].\n",
      "  warnings.warn(label_encoder_deprecation_msg, UserWarning)\n"
     ]
    },
    {
     "name": "stdout",
     "output_type": "stream",
     "text": [
      "Current parameters of fold number 2 -> {'n_estimators': 2000, 'min_child_weight': 28.94768019683909, 'gamma': 0.01, 'colsample_bytree': 0.9786588169586365}\n",
      "AUC score of test 2 f 0.7158787715157064\n",
      "[16:41:56] WARNING: ..\\src\\learner.cc:1115: Starting in XGBoost 1.3.0, the default evaluation metric used with the objective 'binary:logistic' was changed from 'error' to 'logloss'. Explicitly set eval_metric if you'd like to restore the old behavior.\n"
     ]
    },
    {
     "name": "stderr",
     "output_type": "stream",
     "text": [
      "D:\\IDEs\\Anaconda\\lib\\site-packages\\xgboost\\sklearn.py:1224: UserWarning: The use of label encoder in XGBClassifier is deprecated and will be removed in a future release. To remove this warning, do the following: 1) Pass option use_label_encoder=False when constructing XGBClassifier object; and 2) Encode your labels (y) as integers starting with 0, i.e. 0, 1, 2, ..., [num_class - 1].\n",
      "  warnings.warn(label_encoder_deprecation_msg, UserWarning)\n"
     ]
    },
    {
     "name": "stdout",
     "output_type": "stream",
     "text": [
      "Current parameters of fold number 3 -> {'n_estimators': 2000, 'min_child_weight': 28.94768019683909, 'gamma': 0.01, 'colsample_bytree': 0.9786588169586365}\n",
      "AUC score of test 3 f 0.7157487950335103\n",
      "[16:42:00] WARNING: ..\\src\\learner.cc:1115: Starting in XGBoost 1.3.0, the default evaluation metric used with the objective 'binary:logistic' was changed from 'error' to 'logloss'. Explicitly set eval_metric if you'd like to restore the old behavior.\n"
     ]
    },
    {
     "name": "stderr",
     "output_type": "stream",
     "text": [
      "D:\\IDEs\\Anaconda\\lib\\site-packages\\xgboost\\sklearn.py:1224: UserWarning: The use of label encoder in XGBClassifier is deprecated and will be removed in a future release. To remove this warning, do the following: 1) Pass option use_label_encoder=False when constructing XGBClassifier object; and 2) Encode your labels (y) as integers starting with 0, i.e. 0, 1, 2, ..., [num_class - 1].\n",
      "  warnings.warn(label_encoder_deprecation_msg, UserWarning)\n"
     ]
    },
    {
     "name": "stdout",
     "output_type": "stream",
     "text": [
      "Current parameters of fold number 4 -> {'n_estimators': 2000, 'min_child_weight': 28.94768019683909, 'gamma': 0.01, 'colsample_bytree': 0.9786588169586365}\n",
      "AUC score of test 4 f 0.7072363632109563\n",
      "Iteration No: 6 ended. Search finished for the next optimal point.\n",
      "Time taken: 19.4762\n",
      "Function value obtained: -0.7152\n",
      "Current minimum: -0.7491\n",
      "Iteration No: 7 started. Searching for the next optimal point.\n",
      "[16:42:04] WARNING: ..\\src\\learner.cc:1115: Starting in XGBoost 1.3.0, the default evaluation metric used with the objective 'binary:logistic' was changed from 'error' to 'logloss'. Explicitly set eval_metric if you'd like to restore the old behavior.\n"
     ]
    },
    {
     "name": "stderr",
     "output_type": "stream",
     "text": [
      "D:\\IDEs\\Anaconda\\lib\\site-packages\\xgboost\\sklearn.py:1224: UserWarning: The use of label encoder in XGBClassifier is deprecated and will be removed in a future release. To remove this warning, do the following: 1) Pass option use_label_encoder=False when constructing XGBClassifier object; and 2) Encode your labels (y) as integers starting with 0, i.e. 0, 1, 2, ..., [num_class - 1].\n",
      "  warnings.warn(label_encoder_deprecation_msg, UserWarning)\n"
     ]
    },
    {
     "name": "stdout",
     "output_type": "stream",
     "text": [
      "Current parameters of fold number 0 -> {'n_estimators': 1626, 'min_child_weight': 66.62085299073989, 'gamma': 325.4632058713006, 'colsample_bytree': 1.0}\n",
      "AUC score of test 0 f 0.7437381270553539\n",
      "[16:42:07] WARNING: ..\\src\\learner.cc:1115: Starting in XGBoost 1.3.0, the default evaluation metric used with the objective 'binary:logistic' was changed from 'error' to 'logloss'. Explicitly set eval_metric if you'd like to restore the old behavior.\n"
     ]
    },
    {
     "name": "stderr",
     "output_type": "stream",
     "text": [
      "D:\\IDEs\\Anaconda\\lib\\site-packages\\xgboost\\sklearn.py:1224: UserWarning: The use of label encoder in XGBClassifier is deprecated and will be removed in a future release. To remove this warning, do the following: 1) Pass option use_label_encoder=False when constructing XGBClassifier object; and 2) Encode your labels (y) as integers starting with 0, i.e. 0, 1, 2, ..., [num_class - 1].\n",
      "  warnings.warn(label_encoder_deprecation_msg, UserWarning)\n"
     ]
    },
    {
     "name": "stdout",
     "output_type": "stream",
     "text": [
      "Current parameters of fold number 1 -> {'n_estimators': 1626, 'min_child_weight': 66.62085299073989, 'gamma': 325.4632058713006, 'colsample_bytree': 1.0}\n",
      "AUC score of test 1 f 0.7739696377125284\n",
      "[16:42:10] WARNING: ..\\src\\learner.cc:1115: Starting in XGBoost 1.3.0, the default evaluation metric used with the objective 'binary:logistic' was changed from 'error' to 'logloss'. Explicitly set eval_metric if you'd like to restore the old behavior.\n"
     ]
    },
    {
     "name": "stderr",
     "output_type": "stream",
     "text": [
      "D:\\IDEs\\Anaconda\\lib\\site-packages\\xgboost\\sklearn.py:1224: UserWarning: The use of label encoder in XGBClassifier is deprecated and will be removed in a future release. To remove this warning, do the following: 1) Pass option use_label_encoder=False when constructing XGBClassifier object; and 2) Encode your labels (y) as integers starting with 0, i.e. 0, 1, 2, ..., [num_class - 1].\n",
      "  warnings.warn(label_encoder_deprecation_msg, UserWarning)\n"
     ]
    },
    {
     "name": "stdout",
     "output_type": "stream",
     "text": [
      "Current parameters of fold number 2 -> {'n_estimators': 1626, 'min_child_weight': 66.62085299073989, 'gamma': 325.4632058713006, 'colsample_bytree': 1.0}\n",
      "AUC score of test 2 f 0.748119637095963\n",
      "[16:42:14] WARNING: ..\\src\\learner.cc:1115: Starting in XGBoost 1.3.0, the default evaluation metric used with the objective 'binary:logistic' was changed from 'error' to 'logloss'. Explicitly set eval_metric if you'd like to restore the old behavior.\n"
     ]
    },
    {
     "name": "stderr",
     "output_type": "stream",
     "text": [
      "D:\\IDEs\\Anaconda\\lib\\site-packages\\xgboost\\sklearn.py:1224: UserWarning: The use of label encoder in XGBClassifier is deprecated and will be removed in a future release. To remove this warning, do the following: 1) Pass option use_label_encoder=False when constructing XGBClassifier object; and 2) Encode your labels (y) as integers starting with 0, i.e. 0, 1, 2, ..., [num_class - 1].\n",
      "  warnings.warn(label_encoder_deprecation_msg, UserWarning)\n"
     ]
    },
    {
     "name": "stdout",
     "output_type": "stream",
     "text": [
      "Current parameters of fold number 3 -> {'n_estimators': 1626, 'min_child_weight': 66.62085299073989, 'gamma': 325.4632058713006, 'colsample_bytree': 1.0}\n",
      "AUC score of test 3 f 0.7529987677365348\n",
      "[16:42:17] WARNING: ..\\src\\learner.cc:1115: Starting in XGBoost 1.3.0, the default evaluation metric used with the objective 'binary:logistic' was changed from 'error' to 'logloss'. Explicitly set eval_metric if you'd like to restore the old behavior.\n"
     ]
    },
    {
     "name": "stderr",
     "output_type": "stream",
     "text": [
      "D:\\IDEs\\Anaconda\\lib\\site-packages\\xgboost\\sklearn.py:1224: UserWarning: The use of label encoder in XGBClassifier is deprecated and will be removed in a future release. To remove this warning, do the following: 1) Pass option use_label_encoder=False when constructing XGBClassifier object; and 2) Encode your labels (y) as integers starting with 0, i.e. 0, 1, 2, ..., [num_class - 1].\n",
      "  warnings.warn(label_encoder_deprecation_msg, UserWarning)\n"
     ]
    },
    {
     "name": "stdout",
     "output_type": "stream",
     "text": [
      "Current parameters of fold number 4 -> {'n_estimators': 1626, 'min_child_weight': 66.62085299073989, 'gamma': 325.4632058713006, 'colsample_bytree': 1.0}\n",
      "AUC score of test 4 f 0.7343659822491668\n",
      "Iteration No: 7 ended. Search finished for the next optimal point.\n",
      "Time taken: 16.8084\n",
      "Function value obtained: -0.7506\n",
      "Current minimum: -0.7506\n",
      "Iteration No: 8 started. Searching for the next optimal point.\n",
      "[16:42:21] WARNING: ..\\src\\learner.cc:1115: Starting in XGBoost 1.3.0, the default evaluation metric used with the objective 'binary:logistic' was changed from 'error' to 'logloss'. Explicitly set eval_metric if you'd like to restore the old behavior.\n"
     ]
    },
    {
     "name": "stderr",
     "output_type": "stream",
     "text": [
      "D:\\IDEs\\Anaconda\\lib\\site-packages\\xgboost\\sklearn.py:1224: UserWarning: The use of label encoder in XGBClassifier is deprecated and will be removed in a future release. To remove this warning, do the following: 1) Pass option use_label_encoder=False when constructing XGBClassifier object; and 2) Encode your labels (y) as integers starting with 0, i.e. 0, 1, 2, ..., [num_class - 1].\n",
      "  warnings.warn(label_encoder_deprecation_msg, UserWarning)\n"
     ]
    },
    {
     "name": "stdout",
     "output_type": "stream",
     "text": [
      "Current parameters of fold number 0 -> {'n_estimators': 1912, 'min_child_weight': 92.44683368191895, 'gamma': 573.4669702311838, 'colsample_bytree': 1.0}\n",
      "AUC score of test 0 f 0.7328109616282005\n",
      "[16:42:25] WARNING: ..\\src\\learner.cc:1115: Starting in XGBoost 1.3.0, the default evaluation metric used with the objective 'binary:logistic' was changed from 'error' to 'logloss'. Explicitly set eval_metric if you'd like to restore the old behavior.\n"
     ]
    },
    {
     "name": "stderr",
     "output_type": "stream",
     "text": [
      "D:\\IDEs\\Anaconda\\lib\\site-packages\\xgboost\\sklearn.py:1224: UserWarning: The use of label encoder in XGBClassifier is deprecated and will be removed in a future release. To remove this warning, do the following: 1) Pass option use_label_encoder=False when constructing XGBClassifier object; and 2) Encode your labels (y) as integers starting with 0, i.e. 0, 1, 2, ..., [num_class - 1].\n",
      "  warnings.warn(label_encoder_deprecation_msg, UserWarning)\n"
     ]
    },
    {
     "name": "stdout",
     "output_type": "stream",
     "text": [
      "Current parameters of fold number 1 -> {'n_estimators': 1912, 'min_child_weight': 92.44683368191895, 'gamma': 573.4669702311838, 'colsample_bytree': 1.0}\n",
      "AUC score of test 1 f 0.7445847690118012\n",
      "[16:42:28] WARNING: ..\\src\\learner.cc:1115: Starting in XGBoost 1.3.0, the default evaluation metric used with the objective 'binary:logistic' was changed from 'error' to 'logloss'. Explicitly set eval_metric if you'd like to restore the old behavior.\n"
     ]
    },
    {
     "name": "stderr",
     "output_type": "stream",
     "text": [
      "D:\\IDEs\\Anaconda\\lib\\site-packages\\xgboost\\sklearn.py:1224: UserWarning: The use of label encoder in XGBClassifier is deprecated and will be removed in a future release. To remove this warning, do the following: 1) Pass option use_label_encoder=False when constructing XGBClassifier object; and 2) Encode your labels (y) as integers starting with 0, i.e. 0, 1, 2, ..., [num_class - 1].\n",
      "  warnings.warn(label_encoder_deprecation_msg, UserWarning)\n"
     ]
    },
    {
     "name": "stdout",
     "output_type": "stream",
     "text": [
      "Current parameters of fold number 2 -> {'n_estimators': 1912, 'min_child_weight': 92.44683368191895, 'gamma': 573.4669702311838, 'colsample_bytree': 1.0}\n",
      "AUC score of test 2 f 0.7337079023593696\n",
      "[16:42:32] WARNING: ..\\src\\learner.cc:1115: Starting in XGBoost 1.3.0, the default evaluation metric used with the objective 'binary:logistic' was changed from 'error' to 'logloss'. Explicitly set eval_metric if you'd like to restore the old behavior.\n"
     ]
    },
    {
     "name": "stderr",
     "output_type": "stream",
     "text": [
      "D:\\IDEs\\Anaconda\\lib\\site-packages\\xgboost\\sklearn.py:1224: UserWarning: The use of label encoder in XGBClassifier is deprecated and will be removed in a future release. To remove this warning, do the following: 1) Pass option use_label_encoder=False when constructing XGBClassifier object; and 2) Encode your labels (y) as integers starting with 0, i.e. 0, 1, 2, ..., [num_class - 1].\n",
      "  warnings.warn(label_encoder_deprecation_msg, UserWarning)\n"
     ]
    },
    {
     "name": "stdout",
     "output_type": "stream",
     "text": [
      "Current parameters of fold number 3 -> {'n_estimators': 1912, 'min_child_weight': 92.44683368191895, 'gamma': 573.4669702311838, 'colsample_bytree': 1.0}\n",
      "AUC score of test 3 f 0.721590347789465\n",
      "[16:42:36] WARNING: ..\\src\\learner.cc:1115: Starting in XGBoost 1.3.0, the default evaluation metric used with the objective 'binary:logistic' was changed from 'error' to 'logloss'. Explicitly set eval_metric if you'd like to restore the old behavior.\n"
     ]
    },
    {
     "name": "stderr",
     "output_type": "stream",
     "text": [
      "D:\\IDEs\\Anaconda\\lib\\site-packages\\xgboost\\sklearn.py:1224: UserWarning: The use of label encoder in XGBClassifier is deprecated and will be removed in a future release. To remove this warning, do the following: 1) Pass option use_label_encoder=False when constructing XGBClassifier object; and 2) Encode your labels (y) as integers starting with 0, i.e. 0, 1, 2, ..., [num_class - 1].\n",
      "  warnings.warn(label_encoder_deprecation_msg, UserWarning)\n"
     ]
    },
    {
     "name": "stdout",
     "output_type": "stream",
     "text": [
      "Current parameters of fold number 4 -> {'n_estimators': 1912, 'min_child_weight': 92.44683368191895, 'gamma': 573.4669702311838, 'colsample_bytree': 1.0}\n",
      "AUC score of test 4 f 0.7137382428026975\n",
      "Iteration No: 8 ended. Search finished for the next optimal point.\n",
      "Time taken: 18.9064\n",
      "Function value obtained: -0.7293\n",
      "Current minimum: -0.7506\n",
      "Iteration No: 9 started. Searching for the next optimal point.\n",
      "[16:42:40] WARNING: ..\\src\\learner.cc:1115: Starting in XGBoost 1.3.0, the default evaluation metric used with the objective 'binary:logistic' was changed from 'error' to 'logloss'. Explicitly set eval_metric if you'd like to restore the old behavior.\n"
     ]
    },
    {
     "name": "stderr",
     "output_type": "stream",
     "text": [
      "D:\\IDEs\\Anaconda\\lib\\site-packages\\xgboost\\sklearn.py:1224: UserWarning: The use of label encoder in XGBClassifier is deprecated and will be removed in a future release. To remove this warning, do the following: 1) Pass option use_label_encoder=False when constructing XGBClassifier object; and 2) Encode your labels (y) as integers starting with 0, i.e. 0, 1, 2, ..., [num_class - 1].\n",
      "  warnings.warn(label_encoder_deprecation_msg, UserWarning)\n"
     ]
    },
    {
     "name": "stdout",
     "output_type": "stream",
     "text": [
      "Current parameters of fold number 0 -> {'n_estimators': 1632, 'min_child_weight': 5.98690246583553, 'gamma': 218.18072880019818, 'colsample_bytree': 1.0}\n",
      "AUC score of test 0 f 0.7483805417080684\n",
      "[16:42:44] WARNING: ..\\src\\learner.cc:1115: Starting in XGBoost 1.3.0, the default evaluation metric used with the objective 'binary:logistic' was changed from 'error' to 'logloss'. Explicitly set eval_metric if you'd like to restore the old behavior.\n"
     ]
    },
    {
     "name": "stderr",
     "output_type": "stream",
     "text": [
      "D:\\IDEs\\Anaconda\\lib\\site-packages\\xgboost\\sklearn.py:1224: UserWarning: The use of label encoder in XGBClassifier is deprecated and will be removed in a future release. To remove this warning, do the following: 1) Pass option use_label_encoder=False when constructing XGBClassifier object; and 2) Encode your labels (y) as integers starting with 0, i.e. 0, 1, 2, ..., [num_class - 1].\n",
      "  warnings.warn(label_encoder_deprecation_msg, UserWarning)\n"
     ]
    },
    {
     "name": "stdout",
     "output_type": "stream",
     "text": [
      "Current parameters of fold number 1 -> {'n_estimators': 1632, 'min_child_weight': 5.98690246583553, 'gamma': 218.18072880019818, 'colsample_bytree': 1.0}\n",
      "AUC score of test 1 f 0.7758884548411111\n",
      "[16:42:48] WARNING: ..\\src\\learner.cc:1115: Starting in XGBoost 1.3.0, the default evaluation metric used with the objective 'binary:logistic' was changed from 'error' to 'logloss'. Explicitly set eval_metric if you'd like to restore the old behavior.\n"
     ]
    },
    {
     "name": "stderr",
     "output_type": "stream",
     "text": [
      "D:\\IDEs\\Anaconda\\lib\\site-packages\\xgboost\\sklearn.py:1224: UserWarning: The use of label encoder in XGBClassifier is deprecated and will be removed in a future release. To remove this warning, do the following: 1) Pass option use_label_encoder=False when constructing XGBClassifier object; and 2) Encode your labels (y) as integers starting with 0, i.e. 0, 1, 2, ..., [num_class - 1].\n",
      "  warnings.warn(label_encoder_deprecation_msg, UserWarning)\n"
     ]
    },
    {
     "name": "stdout",
     "output_type": "stream",
     "text": [
      "Current parameters of fold number 2 -> {'n_estimators': 1632, 'min_child_weight': 5.98690246583553, 'gamma': 218.18072880019818, 'colsample_bytree': 1.0}\n",
      "AUC score of test 2 f 0.751280671706063\n",
      "[16:42:52] WARNING: ..\\src\\learner.cc:1115: Starting in XGBoost 1.3.0, the default evaluation metric used with the objective 'binary:logistic' was changed from 'error' to 'logloss'. Explicitly set eval_metric if you'd like to restore the old behavior.\n"
     ]
    },
    {
     "name": "stderr",
     "output_type": "stream",
     "text": [
      "D:\\IDEs\\Anaconda\\lib\\site-packages\\xgboost\\sklearn.py:1224: UserWarning: The use of label encoder in XGBClassifier is deprecated and will be removed in a future release. To remove this warning, do the following: 1) Pass option use_label_encoder=False when constructing XGBClassifier object; and 2) Encode your labels (y) as integers starting with 0, i.e. 0, 1, 2, ..., [num_class - 1].\n",
      "  warnings.warn(label_encoder_deprecation_msg, UserWarning)\n"
     ]
    },
    {
     "name": "stdout",
     "output_type": "stream",
     "text": [
      "Current parameters of fold number 3 -> {'n_estimators': 1632, 'min_child_weight': 5.98690246583553, 'gamma': 218.18072880019818, 'colsample_bytree': 1.0}\n",
      "AUC score of test 3 f 0.7406764580484482\n",
      "[16:42:56] WARNING: ..\\src\\learner.cc:1115: Starting in XGBoost 1.3.0, the default evaluation metric used with the objective 'binary:logistic' was changed from 'error' to 'logloss'. Explicitly set eval_metric if you'd like to restore the old behavior.\n"
     ]
    },
    {
     "name": "stderr",
     "output_type": "stream",
     "text": [
      "D:\\IDEs\\Anaconda\\lib\\site-packages\\xgboost\\sklearn.py:1224: UserWarning: The use of label encoder in XGBClassifier is deprecated and will be removed in a future release. To remove this warning, do the following: 1) Pass option use_label_encoder=False when constructing XGBClassifier object; and 2) Encode your labels (y) as integers starting with 0, i.e. 0, 1, 2, ..., [num_class - 1].\n",
      "  warnings.warn(label_encoder_deprecation_msg, UserWarning)\n"
     ]
    },
    {
     "name": "stdout",
     "output_type": "stream",
     "text": [
      "Current parameters of fold number 4 -> {'n_estimators': 1632, 'min_child_weight': 5.98690246583553, 'gamma': 218.18072880019818, 'colsample_bytree': 1.0}\n",
      "AUC score of test 4 f 0.739478965730597\n",
      "Iteration No: 9 ended. Search finished for the next optimal point.\n",
      "Time taken: 20.3515\n",
      "Function value obtained: -0.7511\n",
      "Current minimum: -0.7511\n",
      "Iteration No: 10 started. Searching for the next optimal point.\n",
      "[16:43:00] WARNING: ..\\src\\learner.cc:1115: Starting in XGBoost 1.3.0, the default evaluation metric used with the objective 'binary:logistic' was changed from 'error' to 'logloss'. Explicitly set eval_metric if you'd like to restore the old behavior.\n"
     ]
    },
    {
     "name": "stderr",
     "output_type": "stream",
     "text": [
      "D:\\IDEs\\Anaconda\\lib\\site-packages\\xgboost\\sklearn.py:1224: UserWarning: The use of label encoder in XGBClassifier is deprecated and will be removed in a future release. To remove this warning, do the following: 1) Pass option use_label_encoder=False when constructing XGBClassifier object; and 2) Encode your labels (y) as integers starting with 0, i.e. 0, 1, 2, ..., [num_class - 1].\n",
      "  warnings.warn(label_encoder_deprecation_msg, UserWarning)\n"
     ]
    },
    {
     "name": "stdout",
     "output_type": "stream",
     "text": [
      "Current parameters of fold number 0 -> {'n_estimators': 667, 'min_child_weight': 86.19845400825668, 'gamma': 166.48061700822348, 'colsample_bytree': 0.1}\n",
      "AUC score of test 0 f 0.7326243693993937\n",
      "[16:43:01] WARNING: ..\\src\\learner.cc:1115: Starting in XGBoost 1.3.0, the default evaluation metric used with the objective 'binary:logistic' was changed from 'error' to 'logloss'. Explicitly set eval_metric if you'd like to restore the old behavior.\n"
     ]
    },
    {
     "name": "stderr",
     "output_type": "stream",
     "text": [
      "D:\\IDEs\\Anaconda\\lib\\site-packages\\xgboost\\sklearn.py:1224: UserWarning: The use of label encoder in XGBClassifier is deprecated and will be removed in a future release. To remove this warning, do the following: 1) Pass option use_label_encoder=False when constructing XGBClassifier object; and 2) Encode your labels (y) as integers starting with 0, i.e. 0, 1, 2, ..., [num_class - 1].\n",
      "  warnings.warn(label_encoder_deprecation_msg, UserWarning)\n"
     ]
    },
    {
     "name": "stdout",
     "output_type": "stream",
     "text": [
      "Current parameters of fold number 1 -> {'n_estimators': 667, 'min_child_weight': 86.19845400825668, 'gamma': 166.48061700822348, 'colsample_bytree': 0.1}\n",
      "AUC score of test 1 f 0.7392586155310934\n",
      "[16:43:02] WARNING: ..\\src\\learner.cc:1115: Starting in XGBoost 1.3.0, the default evaluation metric used with the objective 'binary:logistic' was changed from 'error' to 'logloss'. Explicitly set eval_metric if you'd like to restore the old behavior.\n"
     ]
    },
    {
     "name": "stderr",
     "output_type": "stream",
     "text": [
      "D:\\IDEs\\Anaconda\\lib\\site-packages\\xgboost\\sklearn.py:1224: UserWarning: The use of label encoder in XGBClassifier is deprecated and will be removed in a future release. To remove this warning, do the following: 1) Pass option use_label_encoder=False when constructing XGBClassifier object; and 2) Encode your labels (y) as integers starting with 0, i.e. 0, 1, 2, ..., [num_class - 1].\n",
      "  warnings.warn(label_encoder_deprecation_msg, UserWarning)\n"
     ]
    },
    {
     "name": "stdout",
     "output_type": "stream",
     "text": [
      "Current parameters of fold number 2 -> {'n_estimators': 667, 'min_child_weight': 86.19845400825668, 'gamma': 166.48061700822348, 'colsample_bytree': 0.1}\n",
      "AUC score of test 2 f 0.7415704121189544\n",
      "[16:43:03] WARNING: ..\\src\\learner.cc:1115: Starting in XGBoost 1.3.0, the default evaluation metric used with the objective 'binary:logistic' was changed from 'error' to 'logloss'. Explicitly set eval_metric if you'd like to restore the old behavior.\n"
     ]
    },
    {
     "name": "stderr",
     "output_type": "stream",
     "text": [
      "D:\\IDEs\\Anaconda\\lib\\site-packages\\xgboost\\sklearn.py:1224: UserWarning: The use of label encoder in XGBClassifier is deprecated and will be removed in a future release. To remove this warning, do the following: 1) Pass option use_label_encoder=False when constructing XGBClassifier object; and 2) Encode your labels (y) as integers starting with 0, i.e. 0, 1, 2, ..., [num_class - 1].\n",
      "  warnings.warn(label_encoder_deprecation_msg, UserWarning)\n"
     ]
    },
    {
     "name": "stdout",
     "output_type": "stream",
     "text": [
      "Current parameters of fold number 3 -> {'n_estimators': 667, 'min_child_weight': 86.19845400825668, 'gamma': 166.48061700822348, 'colsample_bytree': 0.1}\n",
      "AUC score of test 3 f 0.730967833764019\n",
      "[16:43:03] WARNING: ..\\src\\learner.cc:1115: Starting in XGBoost 1.3.0, the default evaluation metric used with the objective 'binary:logistic' was changed from 'error' to 'logloss'. Explicitly set eval_metric if you'd like to restore the old behavior.\n"
     ]
    },
    {
     "name": "stderr",
     "output_type": "stream",
     "text": [
      "D:\\IDEs\\Anaconda\\lib\\site-packages\\xgboost\\sklearn.py:1224: UserWarning: The use of label encoder in XGBClassifier is deprecated and will be removed in a future release. To remove this warning, do the following: 1) Pass option use_label_encoder=False when constructing XGBClassifier object; and 2) Encode your labels (y) as integers starting with 0, i.e. 0, 1, 2, ..., [num_class - 1].\n",
      "  warnings.warn(label_encoder_deprecation_msg, UserWarning)\n"
     ]
    },
    {
     "name": "stdout",
     "output_type": "stream",
     "text": [
      "Current parameters of fold number 4 -> {'n_estimators': 667, 'min_child_weight': 86.19845400825668, 'gamma': 166.48061700822348, 'colsample_bytree': 0.1}\n",
      "AUC score of test 4 f 0.7310935948296928\n",
      "Iteration No: 10 ended. Search finished for the next optimal point.\n",
      "Time taken: 4.6881\n",
      "Function value obtained: -0.7351\n",
      "Current minimum: -0.7511\n",
      "Iteration No: 11 started. Searching for the next optimal point.\n",
      "[16:43:05] WARNING: ..\\src\\learner.cc:1115: Starting in XGBoost 1.3.0, the default evaluation metric used with the objective 'binary:logistic' was changed from 'error' to 'logloss'. Explicitly set eval_metric if you'd like to restore the old behavior.\n"
     ]
    },
    {
     "name": "stderr",
     "output_type": "stream",
     "text": [
      "D:\\IDEs\\Anaconda\\lib\\site-packages\\xgboost\\sklearn.py:1224: UserWarning: The use of label encoder in XGBClassifier is deprecated and will be removed in a future release. To remove this warning, do the following: 1) Pass option use_label_encoder=False when constructing XGBClassifier object; and 2) Encode your labels (y) as integers starting with 0, i.e. 0, 1, 2, ..., [num_class - 1].\n",
      "  warnings.warn(label_encoder_deprecation_msg, UserWarning)\n"
     ]
    },
    {
     "name": "stdout",
     "output_type": "stream",
     "text": [
      "Current parameters of fold number 0 -> {'n_estimators': 622, 'min_child_weight': 40.5740358034544, 'gamma': 673.3726848693464, 'colsample_bytree': 0.10235808812585888}\n",
      "AUC score of test 0 f 0.7192741010635434\n",
      "[16:43:06] WARNING: ..\\src\\learner.cc:1115: Starting in XGBoost 1.3.0, the default evaluation metric used with the objective 'binary:logistic' was changed from 'error' to 'logloss'. Explicitly set eval_metric if you'd like to restore the old behavior.\n"
     ]
    },
    {
     "name": "stderr",
     "output_type": "stream",
     "text": [
      "D:\\IDEs\\Anaconda\\lib\\site-packages\\xgboost\\sklearn.py:1224: UserWarning: The use of label encoder in XGBClassifier is deprecated and will be removed in a future release. To remove this warning, do the following: 1) Pass option use_label_encoder=False when constructing XGBClassifier object; and 2) Encode your labels (y) as integers starting with 0, i.e. 0, 1, 2, ..., [num_class - 1].\n",
      "  warnings.warn(label_encoder_deprecation_msg, UserWarning)\n"
     ]
    },
    {
     "name": "stdout",
     "output_type": "stream",
     "text": [
      "Current parameters of fold number 1 -> {'n_estimators': 622, 'min_child_weight': 40.5740358034544, 'gamma': 673.3726848693464, 'colsample_bytree': 0.10235808812585888}\n",
      "AUC score of test 1 f 0.7114287902398311\n",
      "[16:43:07] WARNING: ..\\src\\learner.cc:1115: Starting in XGBoost 1.3.0, the default evaluation metric used with the objective 'binary:logistic' was changed from 'error' to 'logloss'. Explicitly set eval_metric if you'd like to restore the old behavior.\n"
     ]
    },
    {
     "name": "stderr",
     "output_type": "stream",
     "text": [
      "D:\\IDEs\\Anaconda\\lib\\site-packages\\xgboost\\sklearn.py:1224: UserWarning: The use of label encoder in XGBClassifier is deprecated and will be removed in a future release. To remove this warning, do the following: 1) Pass option use_label_encoder=False when constructing XGBClassifier object; and 2) Encode your labels (y) as integers starting with 0, i.e. 0, 1, 2, ..., [num_class - 1].\n",
      "  warnings.warn(label_encoder_deprecation_msg, UserWarning)\n"
     ]
    },
    {
     "name": "stdout",
     "output_type": "stream",
     "text": [
      "Current parameters of fold number 2 -> {'n_estimators': 622, 'min_child_weight': 40.5740358034544, 'gamma': 673.3726848693464, 'colsample_bytree': 0.10235808812585888}\n",
      "AUC score of test 2 f 0.7023276325891928\n",
      "[16:43:07] WARNING: ..\\src\\learner.cc:1115: Starting in XGBoost 1.3.0, the default evaluation metric used with the objective 'binary:logistic' was changed from 'error' to 'logloss'. Explicitly set eval_metric if you'd like to restore the old behavior.\n"
     ]
    },
    {
     "name": "stderr",
     "output_type": "stream",
     "text": [
      "D:\\IDEs\\Anaconda\\lib\\site-packages\\xgboost\\sklearn.py:1224: UserWarning: The use of label encoder in XGBClassifier is deprecated and will be removed in a future release. To remove this warning, do the following: 1) Pass option use_label_encoder=False when constructing XGBClassifier object; and 2) Encode your labels (y) as integers starting with 0, i.e. 0, 1, 2, ..., [num_class - 1].\n",
      "  warnings.warn(label_encoder_deprecation_msg, UserWarning)\n"
     ]
    },
    {
     "name": "stdout",
     "output_type": "stream",
     "text": [
      "Current parameters of fold number 3 -> {'n_estimators': 622, 'min_child_weight': 40.5740358034544, 'gamma': 673.3726848693464, 'colsample_bytree': 0.10235808812585888}\n",
      "AUC score of test 3 f 0.7094838141933874\n",
      "[16:43:08] WARNING: ..\\src\\learner.cc:1115: Starting in XGBoost 1.3.0, the default evaluation metric used with the objective 'binary:logistic' was changed from 'error' to 'logloss'. Explicitly set eval_metric if you'd like to restore the old behavior.\n"
     ]
    },
    {
     "name": "stderr",
     "output_type": "stream",
     "text": [
      "D:\\IDEs\\Anaconda\\lib\\site-packages\\xgboost\\sklearn.py:1224: UserWarning: The use of label encoder in XGBClassifier is deprecated and will be removed in a future release. To remove this warning, do the following: 1) Pass option use_label_encoder=False when constructing XGBClassifier object; and 2) Encode your labels (y) as integers starting with 0, i.e. 0, 1, 2, ..., [num_class - 1].\n",
      "  warnings.warn(label_encoder_deprecation_msg, UserWarning)\n"
     ]
    },
    {
     "name": "stdout",
     "output_type": "stream",
     "text": [
      "Current parameters of fold number 4 -> {'n_estimators': 622, 'min_child_weight': 40.5740358034544, 'gamma': 673.3726848693464, 'colsample_bytree': 0.10235808812585888}\n",
      "AUC score of test 4 f 0.7050100348881345\n",
      "Iteration No: 11 ended. Search finished for the next optimal point.\n",
      "Time taken: 4.6987\n",
      "Function value obtained: -0.7095\n",
      "Current minimum: -0.7511\n",
      "Iteration No: 12 started. Searching for the next optimal point.\n",
      "[16:43:09] WARNING: ..\\src\\learner.cc:1115: Starting in XGBoost 1.3.0, the default evaluation metric used with the objective 'binary:logistic' was changed from 'error' to 'logloss'. Explicitly set eval_metric if you'd like to restore the old behavior.\n"
     ]
    },
    {
     "name": "stderr",
     "output_type": "stream",
     "text": [
      "D:\\IDEs\\Anaconda\\lib\\site-packages\\xgboost\\sklearn.py:1224: UserWarning: The use of label encoder in XGBClassifier is deprecated and will be removed in a future release. To remove this warning, do the following: 1) Pass option use_label_encoder=False when constructing XGBClassifier object; and 2) Encode your labels (y) as integers starting with 0, i.e. 0, 1, 2, ..., [num_class - 1].\n",
      "  warnings.warn(label_encoder_deprecation_msg, UserWarning)\n"
     ]
    },
    {
     "name": "stdout",
     "output_type": "stream",
     "text": [
      "Current parameters of fold number 0 -> {'n_estimators': 100, 'min_child_weight': 17.366442614829328, 'gamma': 260.72695178983446, 'colsample_bytree': 0.8535657151376207}\n",
      "AUC score of test 0 f 0.7477552143603976\n",
      "[16:43:10] WARNING: ..\\src\\learner.cc:1115: Starting in XGBoost 1.3.0, the default evaluation metric used with the objective 'binary:logistic' was changed from 'error' to 'logloss'. Explicitly set eval_metric if you'd like to restore the old behavior.\n"
     ]
    },
    {
     "name": "stderr",
     "output_type": "stream",
     "text": [
      "D:\\IDEs\\Anaconda\\lib\\site-packages\\xgboost\\sklearn.py:1224: UserWarning: The use of label encoder in XGBClassifier is deprecated and will be removed in a future release. To remove this warning, do the following: 1) Pass option use_label_encoder=False when constructing XGBClassifier object; and 2) Encode your labels (y) as integers starting with 0, i.e. 0, 1, 2, ..., [num_class - 1].\n",
      "  warnings.warn(label_encoder_deprecation_msg, UserWarning)\n"
     ]
    },
    {
     "name": "stdout",
     "output_type": "stream",
     "text": [
      "Current parameters of fold number 1 -> {'n_estimators': 100, 'min_child_weight': 17.366442614829328, 'gamma': 260.72695178983446, 'colsample_bytree': 0.8535657151376207}\n",
      "AUC score of test 1 f 0.7702306539554632\n",
      "[16:43:10] WARNING: ..\\src\\learner.cc:1115: Starting in XGBoost 1.3.0, the default evaluation metric used with the objective 'binary:logistic' was changed from 'error' to 'logloss'. Explicitly set eval_metric if you'd like to restore the old behavior.\n"
     ]
    },
    {
     "name": "stderr",
     "output_type": "stream",
     "text": [
      "D:\\IDEs\\Anaconda\\lib\\site-packages\\xgboost\\sklearn.py:1224: UserWarning: The use of label encoder in XGBClassifier is deprecated and will be removed in a future release. To remove this warning, do the following: 1) Pass option use_label_encoder=False when constructing XGBClassifier object; and 2) Encode your labels (y) as integers starting with 0, i.e. 0, 1, 2, ..., [num_class - 1].\n",
      "  warnings.warn(label_encoder_deprecation_msg, UserWarning)\n"
     ]
    },
    {
     "name": "stdout",
     "output_type": "stream",
     "text": [
      "Current parameters of fold number 2 -> {'n_estimators': 100, 'min_child_weight': 17.366442614829328, 'gamma': 260.72695178983446, 'colsample_bytree': 0.8535657151376207}\n",
      "AUC score of test 2 f 0.7541674968668731\n",
      "[16:43:11] WARNING: ..\\src\\learner.cc:1115: Starting in XGBoost 1.3.0, the default evaluation metric used with the objective 'binary:logistic' was changed from 'error' to 'logloss'. Explicitly set eval_metric if you'd like to restore the old behavior.\n"
     ]
    },
    {
     "name": "stderr",
     "output_type": "stream",
     "text": [
      "D:\\IDEs\\Anaconda\\lib\\site-packages\\xgboost\\sklearn.py:1224: UserWarning: The use of label encoder in XGBClassifier is deprecated and will be removed in a future release. To remove this warning, do the following: 1) Pass option use_label_encoder=False when constructing XGBClassifier object; and 2) Encode your labels (y) as integers starting with 0, i.e. 0, 1, 2, ..., [num_class - 1].\n",
      "  warnings.warn(label_encoder_deprecation_msg, UserWarning)\n"
     ]
    },
    {
     "name": "stdout",
     "output_type": "stream",
     "text": [
      "Current parameters of fold number 3 -> {'n_estimators': 100, 'min_child_weight': 17.366442614829328, 'gamma': 260.72695178983446, 'colsample_bytree': 0.8535657151376207}\n",
      "AUC score of test 3 f 0.7442221401868673\n",
      "[16:43:11] WARNING: ..\\src\\learner.cc:1115: Starting in XGBoost 1.3.0, the default evaluation metric used with the objective 'binary:logistic' was changed from 'error' to 'logloss'. Explicitly set eval_metric if you'd like to restore the old behavior.\n"
     ]
    },
    {
     "name": "stderr",
     "output_type": "stream",
     "text": [
      "D:\\IDEs\\Anaconda\\lib\\site-packages\\xgboost\\sklearn.py:1224: UserWarning: The use of label encoder in XGBClassifier is deprecated and will be removed in a future release. To remove this warning, do the following: 1) Pass option use_label_encoder=False when constructing XGBClassifier object; and 2) Encode your labels (y) as integers starting with 0, i.e. 0, 1, 2, ..., [num_class - 1].\n",
      "  warnings.warn(label_encoder_deprecation_msg, UserWarning)\n"
     ]
    },
    {
     "name": "stdout",
     "output_type": "stream",
     "text": [
      "Current parameters of fold number 4 -> {'n_estimators': 100, 'min_child_weight': 17.366442614829328, 'gamma': 260.72695178983446, 'colsample_bytree': 0.8535657151376207}\n",
      "AUC score of test 4 f 0.7285968964638717\n",
      "Iteration No: 12 ended. Search finished for the next optimal point.\n",
      "Time taken: 2.1820\n",
      "Function value obtained: -0.7490\n",
      "Current minimum: -0.7511\n",
      "Iteration No: 13 started. Searching for the next optimal point.\n",
      "[16:43:12] WARNING: ..\\src\\learner.cc:1115: Starting in XGBoost 1.3.0, the default evaluation metric used with the objective 'binary:logistic' was changed from 'error' to 'logloss'. Explicitly set eval_metric if you'd like to restore the old behavior.\n"
     ]
    },
    {
     "name": "stderr",
     "output_type": "stream",
     "text": [
      "D:\\IDEs\\Anaconda\\lib\\site-packages\\xgboost\\sklearn.py:1224: UserWarning: The use of label encoder in XGBClassifier is deprecated and will be removed in a future release. To remove this warning, do the following: 1) Pass option use_label_encoder=False when constructing XGBClassifier object; and 2) Encode your labels (y) as integers starting with 0, i.e. 0, 1, 2, ..., [num_class - 1].\n",
      "  warnings.warn(label_encoder_deprecation_msg, UserWarning)\n"
     ]
    },
    {
     "name": "stdout",
     "output_type": "stream",
     "text": [
      "Current parameters of fold number 0 -> {'n_estimators': 796, 'min_child_weight': 12.10962923200724, 'gamma': 1000.0, 'colsample_bytree': 1.0}\n",
      "AUC score of test 0 f 0.7289450951555465\n",
      "[16:43:14] WARNING: ..\\src\\learner.cc:1115: Starting in XGBoost 1.3.0, the default evaluation metric used with the objective 'binary:logistic' was changed from 'error' to 'logloss'. Explicitly set eval_metric if you'd like to restore the old behavior.\n"
     ]
    },
    {
     "name": "stderr",
     "output_type": "stream",
     "text": [
      "D:\\IDEs\\Anaconda\\lib\\site-packages\\xgboost\\sklearn.py:1224: UserWarning: The use of label encoder in XGBClassifier is deprecated and will be removed in a future release. To remove this warning, do the following: 1) Pass option use_label_encoder=False when constructing XGBClassifier object; and 2) Encode your labels (y) as integers starting with 0, i.e. 0, 1, 2, ..., [num_class - 1].\n",
      "  warnings.warn(label_encoder_deprecation_msg, UserWarning)\n"
     ]
    },
    {
     "name": "stdout",
     "output_type": "stream",
     "text": [
      "Current parameters of fold number 1 -> {'n_estimators': 796, 'min_child_weight': 12.10962923200724, 'gamma': 1000.0, 'colsample_bytree': 1.0}\n",
      "AUC score of test 1 f 0.7450514118379303\n",
      "[16:43:15] WARNING: ..\\src\\learner.cc:1115: Starting in XGBoost 1.3.0, the default evaluation metric used with the objective 'binary:logistic' was changed from 'error' to 'logloss'. Explicitly set eval_metric if you'd like to restore the old behavior.\n"
     ]
    },
    {
     "name": "stderr",
     "output_type": "stream",
     "text": [
      "D:\\IDEs\\Anaconda\\lib\\site-packages\\xgboost\\sklearn.py:1224: UserWarning: The use of label encoder in XGBClassifier is deprecated and will be removed in a future release. To remove this warning, do the following: 1) Pass option use_label_encoder=False when constructing XGBClassifier object; and 2) Encode your labels (y) as integers starting with 0, i.e. 0, 1, 2, ..., [num_class - 1].\n",
      "  warnings.warn(label_encoder_deprecation_msg, UserWarning)\n"
     ]
    },
    {
     "name": "stdout",
     "output_type": "stream",
     "text": [
      "Current parameters of fold number 2 -> {'n_estimators': 796, 'min_child_weight': 12.10962923200724, 'gamma': 1000.0, 'colsample_bytree': 1.0}\n",
      "AUC score of test 2 f 0.7161169605521313\n",
      "[16:43:18] WARNING: ..\\src\\learner.cc:1115: Starting in XGBoost 1.3.0, the default evaluation metric used with the objective 'binary:logistic' was changed from 'error' to 'logloss'. Explicitly set eval_metric if you'd like to restore the old behavior.\n"
     ]
    },
    {
     "name": "stderr",
     "output_type": "stream",
     "text": [
      "D:\\IDEs\\Anaconda\\lib\\site-packages\\xgboost\\sklearn.py:1224: UserWarning: The use of label encoder in XGBClassifier is deprecated and will be removed in a future release. To remove this warning, do the following: 1) Pass option use_label_encoder=False when constructing XGBClassifier object; and 2) Encode your labels (y) as integers starting with 0, i.e. 0, 1, 2, ..., [num_class - 1].\n",
      "  warnings.warn(label_encoder_deprecation_msg, UserWarning)\n"
     ]
    },
    {
     "name": "stdout",
     "output_type": "stream",
     "text": [
      "Current parameters of fold number 3 -> {'n_estimators': 796, 'min_child_weight': 12.10962923200724, 'gamma': 1000.0, 'colsample_bytree': 1.0}\n",
      "AUC score of test 3 f 0.7182646662749768\n",
      "[16:43:20] WARNING: ..\\src\\learner.cc:1115: Starting in XGBoost 1.3.0, the default evaluation metric used with the objective 'binary:logistic' was changed from 'error' to 'logloss'. Explicitly set eval_metric if you'd like to restore the old behavior.\n"
     ]
    },
    {
     "name": "stderr",
     "output_type": "stream",
     "text": [
      "D:\\IDEs\\Anaconda\\lib\\site-packages\\xgboost\\sklearn.py:1224: UserWarning: The use of label encoder in XGBClassifier is deprecated and will be removed in a future release. To remove this warning, do the following: 1) Pass option use_label_encoder=False when constructing XGBClassifier object; and 2) Encode your labels (y) as integers starting with 0, i.e. 0, 1, 2, ..., [num_class - 1].\n",
      "  warnings.warn(label_encoder_deprecation_msg, UserWarning)\n"
     ]
    },
    {
     "name": "stdout",
     "output_type": "stream",
     "text": [
      "Current parameters of fold number 4 -> {'n_estimators': 796, 'min_child_weight': 12.10962923200724, 'gamma': 1000.0, 'colsample_bytree': 1.0}\n",
      "AUC score of test 4 f 0.7133892314731527\n",
      "Iteration No: 13 ended. Search finished for the next optimal point.\n",
      "Time taken: 10.4057\n",
      "Function value obtained: -0.7244\n",
      "Current minimum: -0.7511\n",
      "Iteration No: 14 started. Searching for the next optimal point.\n",
      "[16:43:22] WARNING: ..\\src\\learner.cc:1115: Starting in XGBoost 1.3.0, the default evaluation metric used with the objective 'binary:logistic' was changed from 'error' to 'logloss'. Explicitly set eval_metric if you'd like to restore the old behavior.\n"
     ]
    },
    {
     "name": "stderr",
     "output_type": "stream",
     "text": [
      "D:\\IDEs\\Anaconda\\lib\\site-packages\\xgboost\\sklearn.py:1224: UserWarning: The use of label encoder in XGBClassifier is deprecated and will be removed in a future release. To remove this warning, do the following: 1) Pass option use_label_encoder=False when constructing XGBClassifier object; and 2) Encode your labels (y) as integers starting with 0, i.e. 0, 1, 2, ..., [num_class - 1].\n",
      "  warnings.warn(label_encoder_deprecation_msg, UserWarning)\n"
     ]
    },
    {
     "name": "stdout",
     "output_type": "stream",
     "text": [
      "Current parameters of fold number 0 -> {'n_estimators': 2000, 'min_child_weight': 100.0, 'gamma': 269.3119155513481, 'colsample_bytree': 1.0}\n",
      "AUC score of test 0 f 0.747605616069128\n",
      "[16:43:25] WARNING: ..\\src\\learner.cc:1115: Starting in XGBoost 1.3.0, the default evaluation metric used with the objective 'binary:logistic' was changed from 'error' to 'logloss'. Explicitly set eval_metric if you'd like to restore the old behavior.\n"
     ]
    },
    {
     "name": "stderr",
     "output_type": "stream",
     "text": [
      "D:\\IDEs\\Anaconda\\lib\\site-packages\\xgboost\\sklearn.py:1224: UserWarning: The use of label encoder in XGBClassifier is deprecated and will be removed in a future release. To remove this warning, do the following: 1) Pass option use_label_encoder=False when constructing XGBClassifier object; and 2) Encode your labels (y) as integers starting with 0, i.e. 0, 1, 2, ..., [num_class - 1].\n",
      "  warnings.warn(label_encoder_deprecation_msg, UserWarning)\n"
     ]
    },
    {
     "name": "stdout",
     "output_type": "stream",
     "text": [
      "Current parameters of fold number 1 -> {'n_estimators': 2000, 'min_child_weight': 100.0, 'gamma': 269.3119155513481, 'colsample_bytree': 1.0}\n",
      "AUC score of test 1 f 0.7723026389657794\n",
      "[16:43:29] WARNING: ..\\src\\learner.cc:1115: Starting in XGBoost 1.3.0, the default evaluation metric used with the objective 'binary:logistic' was changed from 'error' to 'logloss'. Explicitly set eval_metric if you'd like to restore the old behavior.\n"
     ]
    },
    {
     "name": "stderr",
     "output_type": "stream",
     "text": [
      "D:\\IDEs\\Anaconda\\lib\\site-packages\\xgboost\\sklearn.py:1224: UserWarning: The use of label encoder in XGBClassifier is deprecated and will be removed in a future release. To remove this warning, do the following: 1) Pass option use_label_encoder=False when constructing XGBClassifier object; and 2) Encode your labels (y) as integers starting with 0, i.e. 0, 1, 2, ..., [num_class - 1].\n",
      "  warnings.warn(label_encoder_deprecation_msg, UserWarning)\n"
     ]
    },
    {
     "name": "stdout",
     "output_type": "stream",
     "text": [
      "Current parameters of fold number 2 -> {'n_estimators': 2000, 'min_child_weight': 100.0, 'gamma': 269.3119155513481, 'colsample_bytree': 1.0}\n",
      "AUC score of test 2 f 0.7529629223393407\n",
      "[16:43:32] WARNING: ..\\src\\learner.cc:1115: Starting in XGBoost 1.3.0, the default evaluation metric used with the objective 'binary:logistic' was changed from 'error' to 'logloss'. Explicitly set eval_metric if you'd like to restore the old behavior.\n"
     ]
    },
    {
     "name": "stderr",
     "output_type": "stream",
     "text": [
      "D:\\IDEs\\Anaconda\\lib\\site-packages\\xgboost\\sklearn.py:1224: UserWarning: The use of label encoder in XGBClassifier is deprecated and will be removed in a future release. To remove this warning, do the following: 1) Pass option use_label_encoder=False when constructing XGBClassifier object; and 2) Encode your labels (y) as integers starting with 0, i.e. 0, 1, 2, ..., [num_class - 1].\n",
      "  warnings.warn(label_encoder_deprecation_msg, UserWarning)\n"
     ]
    },
    {
     "name": "stdout",
     "output_type": "stream",
     "text": [
      "Current parameters of fold number 3 -> {'n_estimators': 2000, 'min_child_weight': 100.0, 'gamma': 269.3119155513481, 'colsample_bytree': 1.0}\n",
      "AUC score of test 3 f 0.7534504676881801\n",
      "[16:43:36] WARNING: ..\\src\\learner.cc:1115: Starting in XGBoost 1.3.0, the default evaluation metric used with the objective 'binary:logistic' was changed from 'error' to 'logloss'. Explicitly set eval_metric if you'd like to restore the old behavior.\n"
     ]
    },
    {
     "name": "stderr",
     "output_type": "stream",
     "text": [
      "D:\\IDEs\\Anaconda\\lib\\site-packages\\xgboost\\sklearn.py:1224: UserWarning: The use of label encoder in XGBClassifier is deprecated and will be removed in a future release. To remove this warning, do the following: 1) Pass option use_label_encoder=False when constructing XGBClassifier object; and 2) Encode your labels (y) as integers starting with 0, i.e. 0, 1, 2, ..., [num_class - 1].\n",
      "  warnings.warn(label_encoder_deprecation_msg, UserWarning)\n"
     ]
    },
    {
     "name": "stdout",
     "output_type": "stream",
     "text": [
      "Current parameters of fold number 4 -> {'n_estimators': 2000, 'min_child_weight': 100.0, 'gamma': 269.3119155513481, 'colsample_bytree': 1.0}\n",
      "AUC score of test 4 f 0.7377592562744049\n",
      "Iteration No: 14 ended. Search finished for the next optimal point.\n",
      "Time taken: 18.0536\n",
      "Function value obtained: -0.7528\n",
      "Current minimum: -0.7528\n",
      "Iteration No: 15 started. Searching for the next optimal point.\n",
      "[16:43:40] WARNING: ..\\src\\learner.cc:1115: Starting in XGBoost 1.3.0, the default evaluation metric used with the objective 'binary:logistic' was changed from 'error' to 'logloss'. Explicitly set eval_metric if you'd like to restore the old behavior.\n"
     ]
    },
    {
     "name": "stderr",
     "output_type": "stream",
     "text": [
      "D:\\IDEs\\Anaconda\\lib\\site-packages\\xgboost\\sklearn.py:1224: UserWarning: The use of label encoder in XGBClassifier is deprecated and will be removed in a future release. To remove this warning, do the following: 1) Pass option use_label_encoder=False when constructing XGBClassifier object; and 2) Encode your labels (y) as integers starting with 0, i.e. 0, 1, 2, ..., [num_class - 1].\n",
      "  warnings.warn(label_encoder_deprecation_msg, UserWarning)\n"
     ]
    },
    {
     "name": "stdout",
     "output_type": "stream",
     "text": [
      "Current parameters of fold number 0 -> {'n_estimators': 795, 'min_child_weight': 82.47686120180038, 'gamma': 0.2449624727120716, 'colsample_bytree': 0.10627155320888912}\n",
      "AUC score of test 0 f 0.7627111493886589\n",
      "[16:43:41] WARNING: ..\\src\\learner.cc:1115: Starting in XGBoost 1.3.0, the default evaluation metric used with the objective 'binary:logistic' was changed from 'error' to 'logloss'. Explicitly set eval_metric if you'd like to restore the old behavior.\n"
     ]
    },
    {
     "name": "stderr",
     "output_type": "stream",
     "text": [
      "D:\\IDEs\\Anaconda\\lib\\site-packages\\xgboost\\sklearn.py:1224: UserWarning: The use of label encoder in XGBClassifier is deprecated and will be removed in a future release. To remove this warning, do the following: 1) Pass option use_label_encoder=False when constructing XGBClassifier object; and 2) Encode your labels (y) as integers starting with 0, i.e. 0, 1, 2, ..., [num_class - 1].\n",
      "  warnings.warn(label_encoder_deprecation_msg, UserWarning)\n"
     ]
    },
    {
     "name": "stdout",
     "output_type": "stream",
     "text": [
      "Current parameters of fold number 1 -> {'n_estimators': 795, 'min_child_weight': 82.47686120180038, 'gamma': 0.2449624727120716, 'colsample_bytree': 0.10627155320888912}\n",
      "AUC score of test 1 f 0.7775548045714124\n",
      "[16:43:42] WARNING: ..\\src\\learner.cc:1115: Starting in XGBoost 1.3.0, the default evaluation metric used with the objective 'binary:logistic' was changed from 'error' to 'logloss'. Explicitly set eval_metric if you'd like to restore the old behavior.\n"
     ]
    },
    {
     "name": "stderr",
     "output_type": "stream",
     "text": [
      "D:\\IDEs\\Anaconda\\lib\\site-packages\\xgboost\\sklearn.py:1224: UserWarning: The use of label encoder in XGBClassifier is deprecated and will be removed in a future release. To remove this warning, do the following: 1) Pass option use_label_encoder=False when constructing XGBClassifier object; and 2) Encode your labels (y) as integers starting with 0, i.e. 0, 1, 2, ..., [num_class - 1].\n",
      "  warnings.warn(label_encoder_deprecation_msg, UserWarning)\n"
     ]
    },
    {
     "name": "stdout",
     "output_type": "stream",
     "text": [
      "Current parameters of fold number 2 -> {'n_estimators': 795, 'min_child_weight': 82.47686120180038, 'gamma': 0.2449624727120716, 'colsample_bytree': 0.10627155320888912}\n",
      "AUC score of test 2 f 0.7622302282006732\n",
      "[16:43:43] WARNING: ..\\src\\learner.cc:1115: Starting in XGBoost 1.3.0, the default evaluation metric used with the objective 'binary:logistic' was changed from 'error' to 'logloss'. Explicitly set eval_metric if you'd like to restore the old behavior.\n"
     ]
    },
    {
     "name": "stderr",
     "output_type": "stream",
     "text": [
      "D:\\IDEs\\Anaconda\\lib\\site-packages\\xgboost\\sklearn.py:1224: UserWarning: The use of label encoder in XGBClassifier is deprecated and will be removed in a future release. To remove this warning, do the following: 1) Pass option use_label_encoder=False when constructing XGBClassifier object; and 2) Encode your labels (y) as integers starting with 0, i.e. 0, 1, 2, ..., [num_class - 1].\n",
      "  warnings.warn(label_encoder_deprecation_msg, UserWarning)\n"
     ]
    },
    {
     "name": "stdout",
     "output_type": "stream",
     "text": [
      "Current parameters of fold number 3 -> {'n_estimators': 795, 'min_child_weight': 82.47686120180038, 'gamma': 0.2449624727120716, 'colsample_bytree': 0.10627155320888912}\n",
      "AUC score of test 3 f 0.7636172912041346\n",
      "[16:43:44] WARNING: ..\\src\\learner.cc:1115: Starting in XGBoost 1.3.0, the default evaluation metric used with the objective 'binary:logistic' was changed from 'error' to 'logloss'. Explicitly set eval_metric if you'd like to restore the old behavior.\n"
     ]
    },
    {
     "name": "stderr",
     "output_type": "stream",
     "text": [
      "D:\\IDEs\\Anaconda\\lib\\site-packages\\xgboost\\sklearn.py:1224: UserWarning: The use of label encoder in XGBClassifier is deprecated and will be removed in a future release. To remove this warning, do the following: 1) Pass option use_label_encoder=False when constructing XGBClassifier object; and 2) Encode your labels (y) as integers starting with 0, i.e. 0, 1, 2, ..., [num_class - 1].\n",
      "  warnings.warn(label_encoder_deprecation_msg, UserWarning)\n"
     ]
    },
    {
     "name": "stdout",
     "output_type": "stream",
     "text": [
      "Current parameters of fold number 4 -> {'n_estimators': 795, 'min_child_weight': 82.47686120180038, 'gamma': 0.2449624727120716, 'colsample_bytree': 0.10627155320888912}\n",
      "AUC score of test 4 f 0.7526536559749181\n",
      "Iteration No: 15 ended. Search finished for the next optimal point.\n",
      "Time taken: 4.7961\n",
      "Function value obtained: -0.7638\n",
      "Current minimum: -0.7638\n",
      "Iteration No: 16 started. Searching for the next optimal point.\n",
      "[16:43:45] WARNING: ..\\src\\learner.cc:1115: Starting in XGBoost 1.3.0, the default evaluation metric used with the objective 'binary:logistic' was changed from 'error' to 'logloss'. Explicitly set eval_metric if you'd like to restore the old behavior.\n"
     ]
    },
    {
     "name": "stderr",
     "output_type": "stream",
     "text": [
      "D:\\IDEs\\Anaconda\\lib\\site-packages\\xgboost\\sklearn.py:1224: UserWarning: The use of label encoder in XGBClassifier is deprecated and will be removed in a future release. To remove this warning, do the following: 1) Pass option use_label_encoder=False when constructing XGBClassifier object; and 2) Encode your labels (y) as integers starting with 0, i.e. 0, 1, 2, ..., [num_class - 1].\n",
      "  warnings.warn(label_encoder_deprecation_msg, UserWarning)\n"
     ]
    },
    {
     "name": "stdout",
     "output_type": "stream",
     "text": [
      "Current parameters of fold number 0 -> {'n_estimators': 1264, 'min_child_weight': 4.682538555118288, 'gamma': 0.01, 'colsample_bytree': 0.2926351463500126}\n",
      "AUC score of test 0 f 0.7286449250483356\n",
      "[16:43:47] WARNING: ..\\src\\learner.cc:1115: Starting in XGBoost 1.3.0, the default evaluation metric used with the objective 'binary:logistic' was changed from 'error' to 'logloss'. Explicitly set eval_metric if you'd like to restore the old behavior.\n"
     ]
    },
    {
     "name": "stderr",
     "output_type": "stream",
     "text": [
      "D:\\IDEs\\Anaconda\\lib\\site-packages\\xgboost\\sklearn.py:1224: UserWarning: The use of label encoder in XGBClassifier is deprecated and will be removed in a future release. To remove this warning, do the following: 1) Pass option use_label_encoder=False when constructing XGBClassifier object; and 2) Encode your labels (y) as integers starting with 0, i.e. 0, 1, 2, ..., [num_class - 1].\n",
      "  warnings.warn(label_encoder_deprecation_msg, UserWarning)\n"
     ]
    },
    {
     "name": "stdout",
     "output_type": "stream",
     "text": [
      "Current parameters of fold number 1 -> {'n_estimators': 1264, 'min_child_weight': 4.682538555118288, 'gamma': 0.01, 'colsample_bytree': 0.2926351463500126}\n",
      "AUC score of test 1 f 0.7146800381362065\n",
      "[16:43:49] WARNING: ..\\src\\learner.cc:1115: Starting in XGBoost 1.3.0, the default evaluation metric used with the objective 'binary:logistic' was changed from 'error' to 'logloss'. Explicitly set eval_metric if you'd like to restore the old behavior.\n"
     ]
    },
    {
     "name": "stderr",
     "output_type": "stream",
     "text": [
      "D:\\IDEs\\Anaconda\\lib\\site-packages\\xgboost\\sklearn.py:1224: UserWarning: The use of label encoder in XGBClassifier is deprecated and will be removed in a future release. To remove this warning, do the following: 1) Pass option use_label_encoder=False when constructing XGBClassifier object; and 2) Encode your labels (y) as integers starting with 0, i.e. 0, 1, 2, ..., [num_class - 1].\n",
      "  warnings.warn(label_encoder_deprecation_msg, UserWarning)\n"
     ]
    },
    {
     "name": "stdout",
     "output_type": "stream",
     "text": [
      "Current parameters of fold number 2 -> {'n_estimators': 1264, 'min_child_weight': 4.682538555118288, 'gamma': 0.01, 'colsample_bytree': 0.2926351463500126}\n",
      "AUC score of test 2 f 0.7253524646075106\n",
      "[16:43:52] WARNING: ..\\src\\learner.cc:1115: Starting in XGBoost 1.3.0, the default evaluation metric used with the objective 'binary:logistic' was changed from 'error' to 'logloss'. Explicitly set eval_metric if you'd like to restore the old behavior.\n"
     ]
    },
    {
     "name": "stderr",
     "output_type": "stream",
     "text": [
      "D:\\IDEs\\Anaconda\\lib\\site-packages\\xgboost\\sklearn.py:1224: UserWarning: The use of label encoder in XGBClassifier is deprecated and will be removed in a future release. To remove this warning, do the following: 1) Pass option use_label_encoder=False when constructing XGBClassifier object; and 2) Encode your labels (y) as integers starting with 0, i.e. 0, 1, 2, ..., [num_class - 1].\n",
      "  warnings.warn(label_encoder_deprecation_msg, UserWarning)\n"
     ]
    },
    {
     "name": "stdout",
     "output_type": "stream",
     "text": [
      "Current parameters of fold number 3 -> {'n_estimators': 1264, 'min_child_weight': 4.682538555118288, 'gamma': 0.01, 'colsample_bytree': 0.2926351463500126}\n",
      "AUC score of test 3 f 0.7137099709352204\n",
      "[16:43:54] WARNING: ..\\src\\learner.cc:1115: Starting in XGBoost 1.3.0, the default evaluation metric used with the objective 'binary:logistic' was changed from 'error' to 'logloss'. Explicitly set eval_metric if you'd like to restore the old behavior.\n"
     ]
    },
    {
     "name": "stderr",
     "output_type": "stream",
     "text": [
      "D:\\IDEs\\Anaconda\\lib\\site-packages\\xgboost\\sklearn.py:1224: UserWarning: The use of label encoder in XGBClassifier is deprecated and will be removed in a future release. To remove this warning, do the following: 1) Pass option use_label_encoder=False when constructing XGBClassifier object; and 2) Encode your labels (y) as integers starting with 0, i.e. 0, 1, 2, ..., [num_class - 1].\n",
      "  warnings.warn(label_encoder_deprecation_msg, UserWarning)\n"
     ]
    },
    {
     "name": "stdout",
     "output_type": "stream",
     "text": [
      "Current parameters of fold number 4 -> {'n_estimators': 1264, 'min_child_weight': 4.682538555118288, 'gamma': 0.01, 'colsample_bytree': 0.2926351463500126}\n",
      "AUC score of test 4 f 0.7131175615741776\n",
      "Iteration No: 16 ended. Search finished for the next optimal point.\n",
      "Time taken: 11.7726\n",
      "Function value obtained: -0.7191\n",
      "Current minimum: -0.7638\n",
      "Iteration No: 17 started. Searching for the next optimal point.\n",
      "[16:43:57] WARNING: ..\\src\\learner.cc:1115: Starting in XGBoost 1.3.0, the default evaluation metric used with the objective 'binary:logistic' was changed from 'error' to 'logloss'. Explicitly set eval_metric if you'd like to restore the old behavior.\n"
     ]
    },
    {
     "name": "stderr",
     "output_type": "stream",
     "text": [
      "D:\\IDEs\\Anaconda\\lib\\site-packages\\xgboost\\sklearn.py:1224: UserWarning: The use of label encoder in XGBClassifier is deprecated and will be removed in a future release. To remove this warning, do the following: 1) Pass option use_label_encoder=False when constructing XGBClassifier object; and 2) Encode your labels (y) as integers starting with 0, i.e. 0, 1, 2, ..., [num_class - 1].\n",
      "  warnings.warn(label_encoder_deprecation_msg, UserWarning)\n"
     ]
    },
    {
     "name": "stdout",
     "output_type": "stream",
     "text": [
      "Current parameters of fold number 0 -> {'n_estimators': 713, 'min_child_weight': 100.0, 'gamma': 0.01, 'colsample_bytree': 0.1}\n",
      "AUC score of test 0 f 0.7620235164619777\n",
      "[16:43:57] WARNING: ..\\src\\learner.cc:1115: Starting in XGBoost 1.3.0, the default evaluation metric used with the objective 'binary:logistic' was changed from 'error' to 'logloss'. Explicitly set eval_metric if you'd like to restore the old behavior.\n"
     ]
    },
    {
     "name": "stderr",
     "output_type": "stream",
     "text": [
      "D:\\IDEs\\Anaconda\\lib\\site-packages\\xgboost\\sklearn.py:1224: UserWarning: The use of label encoder in XGBClassifier is deprecated and will be removed in a future release. To remove this warning, do the following: 1) Pass option use_label_encoder=False when constructing XGBClassifier object; and 2) Encode your labels (y) as integers starting with 0, i.e. 0, 1, 2, ..., [num_class - 1].\n",
      "  warnings.warn(label_encoder_deprecation_msg, UserWarning)\n"
     ]
    },
    {
     "name": "stdout",
     "output_type": "stream",
     "text": [
      "Current parameters of fold number 1 -> {'n_estimators': 713, 'min_child_weight': 100.0, 'gamma': 0.01, 'colsample_bytree': 0.1}\n",
      "AUC score of test 1 f 0.7765825779322725\n",
      "[16:43:58] WARNING: ..\\src\\learner.cc:1115: Starting in XGBoost 1.3.0, the default evaluation metric used with the objective 'binary:logistic' was changed from 'error' to 'logloss'. Explicitly set eval_metric if you'd like to restore the old behavior.\n"
     ]
    },
    {
     "name": "stderr",
     "output_type": "stream",
     "text": [
      "D:\\IDEs\\Anaconda\\lib\\site-packages\\xgboost\\sklearn.py:1224: UserWarning: The use of label encoder in XGBClassifier is deprecated and will be removed in a future release. To remove this warning, do the following: 1) Pass option use_label_encoder=False when constructing XGBClassifier object; and 2) Encode your labels (y) as integers starting with 0, i.e. 0, 1, 2, ..., [num_class - 1].\n",
      "  warnings.warn(label_encoder_deprecation_msg, UserWarning)\n"
     ]
    },
    {
     "name": "stdout",
     "output_type": "stream",
     "text": [
      "Current parameters of fold number 2 -> {'n_estimators': 713, 'min_child_weight': 100.0, 'gamma': 0.01, 'colsample_bytree': 0.1}\n",
      "AUC score of test 2 f 0.7625378619970367\n",
      "[16:43:59] WARNING: ..\\src\\learner.cc:1115: Starting in XGBoost 1.3.0, the default evaluation metric used with the objective 'binary:logistic' was changed from 'error' to 'logloss'. Explicitly set eval_metric if you'd like to restore the old behavior.\n"
     ]
    },
    {
     "name": "stderr",
     "output_type": "stream",
     "text": [
      "D:\\IDEs\\Anaconda\\lib\\site-packages\\xgboost\\sklearn.py:1224: UserWarning: The use of label encoder in XGBClassifier is deprecated and will be removed in a future release. To remove this warning, do the following: 1) Pass option use_label_encoder=False when constructing XGBClassifier object; and 2) Encode your labels (y) as integers starting with 0, i.e. 0, 1, 2, ..., [num_class - 1].\n",
      "  warnings.warn(label_encoder_deprecation_msg, UserWarning)\n"
     ]
    },
    {
     "name": "stdout",
     "output_type": "stream",
     "text": [
      "Current parameters of fold number 3 -> {'n_estimators': 713, 'min_child_weight': 100.0, 'gamma': 0.01, 'colsample_bytree': 0.1}\n",
      "AUC score of test 3 f 0.762739563456369\n",
      "[16:44:00] WARNING: ..\\src\\learner.cc:1115: Starting in XGBoost 1.3.0, the default evaluation metric used with the objective 'binary:logistic' was changed from 'error' to 'logloss'. Explicitly set eval_metric if you'd like to restore the old behavior.\n"
     ]
    },
    {
     "name": "stderr",
     "output_type": "stream",
     "text": [
      "D:\\IDEs\\Anaconda\\lib\\site-packages\\xgboost\\sklearn.py:1224: UserWarning: The use of label encoder in XGBClassifier is deprecated and will be removed in a future release. To remove this warning, do the following: 1) Pass option use_label_encoder=False when constructing XGBClassifier object; and 2) Encode your labels (y) as integers starting with 0, i.e. 0, 1, 2, ..., [num_class - 1].\n",
      "  warnings.warn(label_encoder_deprecation_msg, UserWarning)\n"
     ]
    },
    {
     "name": "stdout",
     "output_type": "stream",
     "text": [
      "Current parameters of fold number 4 -> {'n_estimators': 713, 'min_child_weight': 100.0, 'gamma': 0.01, 'colsample_bytree': 0.1}\n",
      "AUC score of test 4 f 0.7519982035990411\n",
      "Iteration No: 17 ended. Search finished for the next optimal point.\n",
      "Time taken: 4.4514\n",
      "Function value obtained: -0.7632\n",
      "Current minimum: -0.7638\n",
      "Iteration No: 18 started. Searching for the next optimal point.\n",
      "[16:44:01] WARNING: ..\\src\\learner.cc:1115: Starting in XGBoost 1.3.0, the default evaluation metric used with the objective 'binary:logistic' was changed from 'error' to 'logloss'. Explicitly set eval_metric if you'd like to restore the old behavior.\n"
     ]
    },
    {
     "name": "stderr",
     "output_type": "stream",
     "text": [
      "D:\\IDEs\\Anaconda\\lib\\site-packages\\xgboost\\sklearn.py:1224: UserWarning: The use of label encoder in XGBClassifier is deprecated and will be removed in a future release. To remove this warning, do the following: 1) Pass option use_label_encoder=False when constructing XGBClassifier object; and 2) Encode your labels (y) as integers starting with 0, i.e. 0, 1, 2, ..., [num_class - 1].\n",
      "  warnings.warn(label_encoder_deprecation_msg, UserWarning)\n"
     ]
    },
    {
     "name": "stdout",
     "output_type": "stream",
     "text": [
      "Current parameters of fold number 0 -> {'n_estimators': 656, 'min_child_weight': 100.0, 'gamma': 0.01, 'colsample_bytree': 1.0}\n",
      "AUC score of test 0 f 0.7550770934187784\n",
      "[16:44:02] WARNING: ..\\src\\learner.cc:1115: Starting in XGBoost 1.3.0, the default evaluation metric used with the objective 'binary:logistic' was changed from 'error' to 'logloss'. Explicitly set eval_metric if you'd like to restore the old behavior.\n"
     ]
    },
    {
     "name": "stderr",
     "output_type": "stream",
     "text": [
      "D:\\IDEs\\Anaconda\\lib\\site-packages\\xgboost\\sklearn.py:1224: UserWarning: The use of label encoder in XGBClassifier is deprecated and will be removed in a future release. To remove this warning, do the following: 1) Pass option use_label_encoder=False when constructing XGBClassifier object; and 2) Encode your labels (y) as integers starting with 0, i.e. 0, 1, 2, ..., [num_class - 1].\n",
      "  warnings.warn(label_encoder_deprecation_msg, UserWarning)\n"
     ]
    },
    {
     "name": "stdout",
     "output_type": "stream",
     "text": [
      "Current parameters of fold number 1 -> {'n_estimators': 656, 'min_child_weight': 100.0, 'gamma': 0.01, 'colsample_bytree': 1.0}\n",
      "AUC score of test 1 f 0.7553272892594918\n",
      "[16:44:03] WARNING: ..\\src\\learner.cc:1115: Starting in XGBoost 1.3.0, the default evaluation metric used with the objective 'binary:logistic' was changed from 'error' to 'logloss'. Explicitly set eval_metric if you'd like to restore the old behavior.\n"
     ]
    },
    {
     "name": "stderr",
     "output_type": "stream",
     "text": [
      "D:\\IDEs\\Anaconda\\lib\\site-packages\\xgboost\\sklearn.py:1224: UserWarning: The use of label encoder in XGBClassifier is deprecated and will be removed in a future release. To remove this warning, do the following: 1) Pass option use_label_encoder=False when constructing XGBClassifier object; and 2) Encode your labels (y) as integers starting with 0, i.e. 0, 1, 2, ..., [num_class - 1].\n",
      "  warnings.warn(label_encoder_deprecation_msg, UserWarning)\n"
     ]
    },
    {
     "name": "stdout",
     "output_type": "stream",
     "text": [
      "Current parameters of fold number 2 -> {'n_estimators': 656, 'min_child_weight': 100.0, 'gamma': 0.01, 'colsample_bytree': 1.0}\n",
      "AUC score of test 2 f 0.7524086622927284\n",
      "[16:44:04] WARNING: ..\\src\\learner.cc:1115: Starting in XGBoost 1.3.0, the default evaluation metric used with the objective 'binary:logistic' was changed from 'error' to 'logloss'. Explicitly set eval_metric if you'd like to restore the old behavior.\n"
     ]
    },
    {
     "name": "stderr",
     "output_type": "stream",
     "text": [
      "D:\\IDEs\\Anaconda\\lib\\site-packages\\xgboost\\sklearn.py:1224: UserWarning: The use of label encoder in XGBClassifier is deprecated and will be removed in a future release. To remove this warning, do the following: 1) Pass option use_label_encoder=False when constructing XGBClassifier object; and 2) Encode your labels (y) as integers starting with 0, i.e. 0, 1, 2, ..., [num_class - 1].\n",
      "  warnings.warn(label_encoder_deprecation_msg, UserWarning)\n"
     ]
    },
    {
     "name": "stdout",
     "output_type": "stream",
     "text": [
      "Current parameters of fold number 3 -> {'n_estimators': 656, 'min_child_weight': 100.0, 'gamma': 0.01, 'colsample_bytree': 1.0}\n",
      "AUC score of test 3 f 0.7492480333179083\n",
      "[16:44:06] WARNING: ..\\src\\learner.cc:1115: Starting in XGBoost 1.3.0, the default evaluation metric used with the objective 'binary:logistic' was changed from 'error' to 'logloss'. Explicitly set eval_metric if you'd like to restore the old behavior.\n"
     ]
    },
    {
     "name": "stderr",
     "output_type": "stream",
     "text": [
      "D:\\IDEs\\Anaconda\\lib\\site-packages\\xgboost\\sklearn.py:1224: UserWarning: The use of label encoder in XGBClassifier is deprecated and will be removed in a future release. To remove this warning, do the following: 1) Pass option use_label_encoder=False when constructing XGBClassifier object; and 2) Encode your labels (y) as integers starting with 0, i.e. 0, 1, 2, ..., [num_class - 1].\n",
      "  warnings.warn(label_encoder_deprecation_msg, UserWarning)\n"
     ]
    },
    {
     "name": "stdout",
     "output_type": "stream",
     "text": [
      "Current parameters of fold number 4 -> {'n_estimators': 656, 'min_child_weight': 100.0, 'gamma': 0.01, 'colsample_bytree': 1.0}\n",
      "AUC score of test 4 f 0.7475370978895539\n",
      "Iteration No: 18 ended. Search finished for the next optimal point.\n",
      "Time taken: 5.9202\n",
      "Function value obtained: -0.7519\n",
      "Current minimum: -0.7638\n",
      "Iteration No: 19 started. Searching for the next optimal point.\n",
      "[16:44:07] WARNING: ..\\src\\learner.cc:1115: Starting in XGBoost 1.3.0, the default evaluation metric used with the objective 'binary:logistic' was changed from 'error' to 'logloss'. Explicitly set eval_metric if you'd like to restore the old behavior.\n"
     ]
    },
    {
     "name": "stderr",
     "output_type": "stream",
     "text": [
      "D:\\IDEs\\Anaconda\\lib\\site-packages\\xgboost\\sklearn.py:1224: UserWarning: The use of label encoder in XGBClassifier is deprecated and will be removed in a future release. To remove this warning, do the following: 1) Pass option use_label_encoder=False when constructing XGBClassifier object; and 2) Encode your labels (y) as integers starting with 0, i.e. 0, 1, 2, ..., [num_class - 1].\n",
      "  warnings.warn(label_encoder_deprecation_msg, UserWarning)\n"
     ]
    },
    {
     "name": "stdout",
     "output_type": "stream",
     "text": [
      "Current parameters of fold number 0 -> {'n_estimators': 1764, 'min_child_weight': 91.39303025845516, 'gamma': 40.2656300442887, 'colsample_bytree': 0.1}\n",
      "AUC score of test 0 f 0.7526617787074579\n",
      "[16:44:09] WARNING: ..\\src\\learner.cc:1115: Starting in XGBoost 1.3.0, the default evaluation metric used with the objective 'binary:logistic' was changed from 'error' to 'logloss'. Explicitly set eval_metric if you'd like to restore the old behavior.\n"
     ]
    },
    {
     "name": "stderr",
     "output_type": "stream",
     "text": [
      "D:\\IDEs\\Anaconda\\lib\\site-packages\\xgboost\\sklearn.py:1224: UserWarning: The use of label encoder in XGBClassifier is deprecated and will be removed in a future release. To remove this warning, do the following: 1) Pass option use_label_encoder=False when constructing XGBClassifier object; and 2) Encode your labels (y) as integers starting with 0, i.e. 0, 1, 2, ..., [num_class - 1].\n",
      "  warnings.warn(label_encoder_deprecation_msg, UserWarning)\n"
     ]
    },
    {
     "name": "stdout",
     "output_type": "stream",
     "text": [
      "Current parameters of fold number 1 -> {'n_estimators': 1764, 'min_child_weight': 91.39303025845516, 'gamma': 40.2656300442887, 'colsample_bytree': 0.1}\n",
      "AUC score of test 1 f 0.7628688603855287\n",
      "[16:44:11] WARNING: ..\\src\\learner.cc:1115: Starting in XGBoost 1.3.0, the default evaluation metric used with the objective 'binary:logistic' was changed from 'error' to 'logloss'. Explicitly set eval_metric if you'd like to restore the old behavior.\n"
     ]
    },
    {
     "name": "stderr",
     "output_type": "stream",
     "text": [
      "D:\\IDEs\\Anaconda\\lib\\site-packages\\xgboost\\sklearn.py:1224: UserWarning: The use of label encoder in XGBClassifier is deprecated and will be removed in a future release. To remove this warning, do the following: 1) Pass option use_label_encoder=False when constructing XGBClassifier object; and 2) Encode your labels (y) as integers starting with 0, i.e. 0, 1, 2, ..., [num_class - 1].\n",
      "  warnings.warn(label_encoder_deprecation_msg, UserWarning)\n"
     ]
    },
    {
     "name": "stdout",
     "output_type": "stream",
     "text": [
      "Current parameters of fold number 2 -> {'n_estimators': 1764, 'min_child_weight': 91.39303025845516, 'gamma': 40.2656300442887, 'colsample_bytree': 0.1}\n",
      "AUC score of test 2 f 0.7599924194878871\n",
      "[16:44:13] WARNING: ..\\src\\learner.cc:1115: Starting in XGBoost 1.3.0, the default evaluation metric used with the objective 'binary:logistic' was changed from 'error' to 'logloss'. Explicitly set eval_metric if you'd like to restore the old behavior.\n"
     ]
    },
    {
     "name": "stderr",
     "output_type": "stream",
     "text": [
      "D:\\IDEs\\Anaconda\\lib\\site-packages\\xgboost\\sklearn.py:1224: UserWarning: The use of label encoder in XGBClassifier is deprecated and will be removed in a future release. To remove this warning, do the following: 1) Pass option use_label_encoder=False when constructing XGBClassifier object; and 2) Encode your labels (y) as integers starting with 0, i.e. 0, 1, 2, ..., [num_class - 1].\n",
      "  warnings.warn(label_encoder_deprecation_msg, UserWarning)\n"
     ]
    },
    {
     "name": "stdout",
     "output_type": "stream",
     "text": [
      "Current parameters of fold number 3 -> {'n_estimators': 1764, 'min_child_weight': 91.39303025845516, 'gamma': 40.2656300442887, 'colsample_bytree': 0.1}\n",
      "AUC score of test 3 f 0.7524762256341997\n",
      "[16:44:15] WARNING: ..\\src\\learner.cc:1115: Starting in XGBoost 1.3.0, the default evaluation metric used with the objective 'binary:logistic' was changed from 'error' to 'logloss'. Explicitly set eval_metric if you'd like to restore the old behavior.\n"
     ]
    },
    {
     "name": "stderr",
     "output_type": "stream",
     "text": [
      "D:\\IDEs\\Anaconda\\lib\\site-packages\\xgboost\\sklearn.py:1224: UserWarning: The use of label encoder in XGBClassifier is deprecated and will be removed in a future release. To remove this warning, do the following: 1) Pass option use_label_encoder=False when constructing XGBClassifier object; and 2) Encode your labels (y) as integers starting with 0, i.e. 0, 1, 2, ..., [num_class - 1].\n",
      "  warnings.warn(label_encoder_deprecation_msg, UserWarning)\n"
     ]
    },
    {
     "name": "stdout",
     "output_type": "stream",
     "text": [
      "Current parameters of fold number 4 -> {'n_estimators': 1764, 'min_child_weight': 91.39303025845516, 'gamma': 40.2656300442887, 'colsample_bytree': 0.1}\n",
      "AUC score of test 4 f 0.7513843466143951\n",
      "Iteration No: 19 ended. Search finished for the next optimal point.\n",
      "Time taken: 9.9932\n",
      "Function value obtained: -0.7559\n",
      "Current minimum: -0.7638\n",
      "Iteration No: 20 started. Searching for the next optimal point.\n",
      "[16:44:17] WARNING: ..\\src\\learner.cc:1115: Starting in XGBoost 1.3.0, the default evaluation metric used with the objective 'binary:logistic' was changed from 'error' to 'logloss'. Explicitly set eval_metric if you'd like to restore the old behavior.\n"
     ]
    },
    {
     "name": "stderr",
     "output_type": "stream",
     "text": [
      "D:\\IDEs\\Anaconda\\lib\\site-packages\\xgboost\\sklearn.py:1224: UserWarning: The use of label encoder in XGBClassifier is deprecated and will be removed in a future release. To remove this warning, do the following: 1) Pass option use_label_encoder=False when constructing XGBClassifier object; and 2) Encode your labels (y) as integers starting with 0, i.e. 0, 1, 2, ..., [num_class - 1].\n",
      "  warnings.warn(label_encoder_deprecation_msg, UserWarning)\n"
     ]
    },
    {
     "name": "stdout",
     "output_type": "stream",
     "text": [
      "Current parameters of fold number 0 -> {'n_estimators': 332, 'min_child_weight': 100.0, 'gamma': 382.7716867747638, 'colsample_bytree': 1.0}\n",
      "AUC score of test 0 f 0.7408694743550885\n",
      "[16:44:18] WARNING: ..\\src\\learner.cc:1115: Starting in XGBoost 1.3.0, the default evaluation metric used with the objective 'binary:logistic' was changed from 'error' to 'logloss'. Explicitly set eval_metric if you'd like to restore the old behavior.\n"
     ]
    },
    {
     "name": "stderr",
     "output_type": "stream",
     "text": [
      "D:\\IDEs\\Anaconda\\lib\\site-packages\\xgboost\\sklearn.py:1224: UserWarning: The use of label encoder in XGBClassifier is deprecated and will be removed in a future release. To remove this warning, do the following: 1) Pass option use_label_encoder=False when constructing XGBClassifier object; and 2) Encode your labels (y) as integers starting with 0, i.e. 0, 1, 2, ..., [num_class - 1].\n",
      "  warnings.warn(label_encoder_deprecation_msg, UserWarning)\n"
     ]
    },
    {
     "name": "stdout",
     "output_type": "stream",
     "text": [
      "Current parameters of fold number 1 -> {'n_estimators': 332, 'min_child_weight': 100.0, 'gamma': 382.7716867747638, 'colsample_bytree': 1.0}\n",
      "AUC score of test 1 f 0.7569495058713273\n",
      "[16:44:19] WARNING: ..\\src\\learner.cc:1115: Starting in XGBoost 1.3.0, the default evaluation metric used with the objective 'binary:logistic' was changed from 'error' to 'logloss'. Explicitly set eval_metric if you'd like to restore the old behavior.\n"
     ]
    },
    {
     "name": "stderr",
     "output_type": "stream",
     "text": [
      "D:\\IDEs\\Anaconda\\lib\\site-packages\\xgboost\\sklearn.py:1224: UserWarning: The use of label encoder in XGBClassifier is deprecated and will be removed in a future release. To remove this warning, do the following: 1) Pass option use_label_encoder=False when constructing XGBClassifier object; and 2) Encode your labels (y) as integers starting with 0, i.e. 0, 1, 2, ..., [num_class - 1].\n",
      "  warnings.warn(label_encoder_deprecation_msg, UserWarning)\n"
     ]
    },
    {
     "name": "stdout",
     "output_type": "stream",
     "text": [
      "Current parameters of fold number 2 -> {'n_estimators': 332, 'min_child_weight': 100.0, 'gamma': 382.7716867747638, 'colsample_bytree': 1.0}\n",
      "AUC score of test 2 f 0.7393319543897201\n",
      "[16:44:19] WARNING: ..\\src\\learner.cc:1115: Starting in XGBoost 1.3.0, the default evaluation metric used with the objective 'binary:logistic' was changed from 'error' to 'logloss'. Explicitly set eval_metric if you'd like to restore the old behavior.\n"
     ]
    },
    {
     "name": "stderr",
     "output_type": "stream",
     "text": [
      "D:\\IDEs\\Anaconda\\lib\\site-packages\\xgboost\\sklearn.py:1224: UserWarning: The use of label encoder in XGBClassifier is deprecated and will be removed in a future release. To remove this warning, do the following: 1) Pass option use_label_encoder=False when constructing XGBClassifier object; and 2) Encode your labels (y) as integers starting with 0, i.e. 0, 1, 2, ..., [num_class - 1].\n",
      "  warnings.warn(label_encoder_deprecation_msg, UserWarning)\n"
     ]
    },
    {
     "name": "stdout",
     "output_type": "stream",
     "text": [
      "Current parameters of fold number 3 -> {'n_estimators': 332, 'min_child_weight': 100.0, 'gamma': 382.7716867747638, 'colsample_bytree': 1.0}\n",
      "AUC score of test 3 f 0.7453773871854998\n",
      "[16:44:20] WARNING: ..\\src\\learner.cc:1115: Starting in XGBoost 1.3.0, the default evaluation metric used with the objective 'binary:logistic' was changed from 'error' to 'logloss'. Explicitly set eval_metric if you'd like to restore the old behavior.\n"
     ]
    },
    {
     "name": "stderr",
     "output_type": "stream",
     "text": [
      "D:\\IDEs\\Anaconda\\lib\\site-packages\\xgboost\\sklearn.py:1224: UserWarning: The use of label encoder in XGBClassifier is deprecated and will be removed in a future release. To remove this warning, do the following: 1) Pass option use_label_encoder=False when constructing XGBClassifier object; and 2) Encode your labels (y) as integers starting with 0, i.e. 0, 1, 2, ..., [num_class - 1].\n",
      "  warnings.warn(label_encoder_deprecation_msg, UserWarning)\n"
     ]
    },
    {
     "name": "stdout",
     "output_type": "stream",
     "text": [
      "Current parameters of fold number 4 -> {'n_estimators': 332, 'min_child_weight': 100.0, 'gamma': 382.7716867747638, 'colsample_bytree': 1.0}\n",
      "AUC score of test 4 f 0.7207974356441307\n",
      "Iteration No: 20 ended. Search finished for the next optimal point.\n",
      "Time taken: 4.0468\n",
      "Function value obtained: -0.7407\n",
      "Current minimum: -0.7638\n"
     ]
    }
   ],
   "source": [
    "# output of this cell is very large \n",
    "from skopt import gp_minimize\n",
    "result = gp_minimize(optimize_function, dimensions = param_spaces, n_calls = 20, n_random_starts = 5, verbose = 10)"
   ]
  },
  {
   "cell_type": "code",
   "execution_count": 158,
   "id": "33dcd437",
   "metadata": {
    "ExecuteTime": {
     "end_time": "2022-03-12T00:44:22.060881Z",
     "start_time": "2022-03-12T00:44:22.047917Z"
    }
   },
   "outputs": [
    {
     "name": "stdout",
     "output_type": "stream",
     "text": [
      "Best Parameters : {'n_estimators': 795, 'min_child_weight': 82.47686120180038, 'gamma': 0.2449624727120716, 'colsample_bytree': 0.10627155320888912}\n",
      "Best AUC score : -0.7637534258679594\n"
     ]
    }
   ],
   "source": [
    "best_params = dict(zip(param_names, result.x))\n",
    "print(f'Best Parameters : {best_params}')\n",
    "print(f'Best AUC score : {result.fun}')"
   ]
  },
  {
   "cell_type": "code",
   "execution_count": null,
   "id": "924dd27f",
   "metadata": {
    "ExecuteTime": {
     "end_time": "2022-03-12T00:44:22.589869Z",
     "start_time": "2022-03-12T00:44:22.589869Z"
    }
   },
   "outputs": [],
   "source": [
    "# splitting train and validation data\n",
    "\n",
    "X_train, X_val, y_train, y_val = train_test_split(X,y, test_size = 0.2, random_state = 24)\n",
    "\n",
    "smote = SMOTE(random_state = 446)\n",
    "X_train, y_train = smote.fit_resample(X_train,y_train)"
   ]
  },
  {
   "cell_type": "code",
   "execution_count": 173,
   "id": "539cabfa",
   "metadata": {
    "ExecuteTime": {
     "end_time": "2022-03-12T00:58:15.847755Z",
     "start_time": "2022-03-12T00:58:15.829824Z"
    }
   },
   "outputs": [
    {
     "data": {
      "text/plain": [
       "(34576, 12)"
      ]
     },
     "execution_count": 173,
     "metadata": {},
     "output_type": "execute_result"
    }
   ],
   "source": [
    "X_train.shape"
   ]
  },
  {
   "cell_type": "code",
   "execution_count": 174,
   "id": "30e901eb",
   "metadata": {
    "ExecuteTime": {
     "end_time": "2022-03-12T00:58:33.163232Z",
     "start_time": "2022-03-12T00:58:33.147275Z"
    }
   },
   "outputs": [
    {
     "data": {
      "text/plain": [
       "(8644, 12)"
      ]
     },
     "execution_count": 174,
     "metadata": {},
     "output_type": "execute_result"
    }
   ],
   "source": [
    "X_val.shape"
   ]
  },
  {
   "cell_type": "code",
   "execution_count": null,
   "id": "1685e0ca",
   "metadata": {},
   "outputs": [],
   "source": [
    "# initialize model with best parameters\n",
    "clf_meth_2 = XGBClassifier(**best_params)\n",
    "\n",
    "# fit model\n",
    "clf_meth_2.fit(X_train, y_train)\n",
    "\n",
    "# predicting probabilities of training data\n",
    "y_train_pred = clf_meth_2.predict_proba(X_train)\n",
    "\n",
    "\n",
    "y_train_pred_pos = y_train_pred[:,1]\n",
    "\n",
    "y_val_pred = clf_meth_2.predict_proba(X_val)\n",
    "y_val_pred_pos = y_val_pred[:,1]\n",
    "\n",
    "auc_train = roc_auc_score(y_train, y_train_pred_pos)\n",
    "auc_test = roc_auc_score(y_val, y_val_pred_pos)\n",
    "\n",
    "print(f\"Train AUC Score {auc_train}\")\n",
    "print(f\"Test AUC Score {auc_test}\")"
   ]
  },
  {
   "cell_type": "code",
   "execution_count": 163,
   "id": "50e07eb3",
   "metadata": {
    "ExecuteTime": {
     "end_time": "2022-03-12T00:48:10.130378Z",
     "start_time": "2022-03-12T00:48:10.121364Z"
    }
   },
   "outputs": [
    {
     "data": {
      "text/plain": [
       "(8644, 2)"
      ]
     },
     "execution_count": 163,
     "metadata": {},
     "output_type": "execute_result"
    }
   ],
   "source": [
    "y_val_pred.shape"
   ]
  },
  {
   "cell_type": "code",
   "execution_count": 165,
   "id": "46e1e0f7",
   "metadata": {
    "ExecuteTime": {
     "end_time": "2022-03-12T00:48:27.214001Z",
     "start_time": "2022-03-12T00:48:27.207053Z"
    }
   },
   "outputs": [
    {
     "data": {
      "text/plain": [
       "array([[1.8817186e-04, 9.9981183e-01],\n",
       "       [9.3941313e-01, 6.0586885e-02],\n",
       "       [3.2186759e-01, 6.7813241e-01],\n",
       "       ...,\n",
       "       [6.1392784e-04, 9.9938607e-01],\n",
       "       [4.2742491e-04, 9.9957258e-01],\n",
       "       [9.4508314e-01, 5.4916847e-02]], dtype=float32)"
      ]
     },
     "execution_count": 165,
     "metadata": {},
     "output_type": "execute_result"
    }
   ],
   "source": [
    "y_val_pred"
   ]
  },
  {
   "cell_type": "code",
   "execution_count": 170,
   "id": "2935c0af",
   "metadata": {
    "ExecuteTime": {
     "end_time": "2022-03-12T00:54:59.557709Z",
     "start_time": "2022-03-12T00:54:59.542900Z"
    }
   },
   "outputs": [
    {
     "data": {
      "text/plain": [
       "8644"
      ]
     },
     "execution_count": 170,
     "metadata": {},
     "output_type": "execute_result"
    }
   ],
   "source": [
    "len(y_val_pred)"
   ]
  },
  {
   "cell_type": "code",
   "execution_count": 168,
   "id": "f5bbff57",
   "metadata": {
    "ExecuteTime": {
     "end_time": "2022-03-12T00:53:56.351370Z",
     "start_time": "2022-03-12T00:53:56.343373Z"
    }
   },
   "outputs": [
    {
     "data": {
      "text/plain": [
       "8644"
      ]
     },
     "execution_count": 168,
     "metadata": {},
     "output_type": "execute_result"
    }
   ],
   "source": [
    "len(y_val_pred_pos)"
   ]
  },
  {
   "cell_type": "code",
   "execution_count": 169,
   "id": "8b3a13b7",
   "metadata": {
    "ExecuteTime": {
     "end_time": "2022-03-12T00:54:17.194260Z",
     "start_time": "2022-03-12T00:54:17.177275Z"
    }
   },
   "outputs": [
    {
     "data": {
      "text/plain": [
       "(4790, 14)"
      ]
     },
     "execution_count": 169,
     "metadata": {},
     "output_type": "execute_result"
    }
   ],
   "source": [
    "df_test_meth_2.shape"
   ]
  },
  {
   "cell_type": "code",
   "execution_count": 167,
   "id": "69de843c",
   "metadata": {
    "ExecuteTime": {
     "end_time": "2022-03-12T00:53:23.013050Z",
     "start_time": "2022-03-12T00:53:22.616010Z"
    }
   },
   "outputs": [
    {
     "ename": "ValueError",
     "evalue": "array length 8644 does not match index length 4790",
     "output_type": "error",
     "traceback": [
      "\u001b[1;31m---------------------------------------------------------------------------\u001b[0m",
      "\u001b[1;31mValueError\u001b[0m                                Traceback (most recent call last)",
      "\u001b[1;32m~\\AppData\\Local\\Temp/ipykernel_2324/2078779217.py\u001b[0m in \u001b[0;36m<module>\u001b[1;34m\u001b[0m\n\u001b[0;32m      1\u001b[0m \u001b[1;31m#Create a  DataFrame\u001b[0m\u001b[1;33m\u001b[0m\u001b[1;33m\u001b[0m\u001b[1;33m\u001b[0m\u001b[0m\n\u001b[1;32m----> 2\u001b[1;33m \u001b[0msubmission_meth_2\u001b[0m \u001b[1;33m=\u001b[0m \u001b[0mpd\u001b[0m\u001b[1;33m.\u001b[0m\u001b[0mDataFrame\u001b[0m\u001b[1;33m(\u001b[0m\u001b[1;33m{\u001b[0m\u001b[1;34m'index'\u001b[0m\u001b[1;33m:\u001b[0m\u001b[0mdf_test_meth_2\u001b[0m\u001b[1;33m[\u001b[0m\u001b[1;34m'index'\u001b[0m\u001b[1;33m]\u001b[0m\u001b[1;33m,\u001b[0m\u001b[1;34m'target'\u001b[0m\u001b[1;33m:\u001b[0m\u001b[0my_val_pred_pos\u001b[0m\u001b[1;33m}\u001b[0m\u001b[1;33m)\u001b[0m\u001b[1;33m\u001b[0m\u001b[1;33m\u001b[0m\u001b[0m\n\u001b[0m\u001b[0;32m      3\u001b[0m \u001b[1;33m\u001b[0m\u001b[0m\n\u001b[0;32m      4\u001b[0m \u001b[1;33m\u001b[0m\u001b[0m\n\u001b[0;32m      5\u001b[0m \u001b[1;31m#Visualize the first 10 rows\u001b[0m\u001b[1;33m\u001b[0m\u001b[1;33m\u001b[0m\u001b[1;33m\u001b[0m\u001b[0m\n",
      "\u001b[1;32mD:\\IDEs\\Anaconda\\lib\\site-packages\\pandas\\core\\frame.py\u001b[0m in \u001b[0;36m__init__\u001b[1;34m(self, data, index, columns, dtype, copy)\u001b[0m\n\u001b[0;32m    612\u001b[0m         \u001b[1;32melif\u001b[0m \u001b[0misinstance\u001b[0m\u001b[1;33m(\u001b[0m\u001b[0mdata\u001b[0m\u001b[1;33m,\u001b[0m \u001b[0mdict\u001b[0m\u001b[1;33m)\u001b[0m\u001b[1;33m:\u001b[0m\u001b[1;33m\u001b[0m\u001b[1;33m\u001b[0m\u001b[0m\n\u001b[0;32m    613\u001b[0m             \u001b[1;31m# GH#38939 de facto copy defaults to False only in non-dict cases\u001b[0m\u001b[1;33m\u001b[0m\u001b[1;33m\u001b[0m\u001b[1;33m\u001b[0m\u001b[0m\n\u001b[1;32m--> 614\u001b[1;33m             \u001b[0mmgr\u001b[0m \u001b[1;33m=\u001b[0m \u001b[0mdict_to_mgr\u001b[0m\u001b[1;33m(\u001b[0m\u001b[0mdata\u001b[0m\u001b[1;33m,\u001b[0m \u001b[0mindex\u001b[0m\u001b[1;33m,\u001b[0m \u001b[0mcolumns\u001b[0m\u001b[1;33m,\u001b[0m \u001b[0mdtype\u001b[0m\u001b[1;33m=\u001b[0m\u001b[0mdtype\u001b[0m\u001b[1;33m,\u001b[0m \u001b[0mcopy\u001b[0m\u001b[1;33m=\u001b[0m\u001b[0mcopy\u001b[0m\u001b[1;33m,\u001b[0m \u001b[0mtyp\u001b[0m\u001b[1;33m=\u001b[0m\u001b[0mmanager\u001b[0m\u001b[1;33m)\u001b[0m\u001b[1;33m\u001b[0m\u001b[1;33m\u001b[0m\u001b[0m\n\u001b[0m\u001b[0;32m    615\u001b[0m         \u001b[1;32melif\u001b[0m \u001b[0misinstance\u001b[0m\u001b[1;33m(\u001b[0m\u001b[0mdata\u001b[0m\u001b[1;33m,\u001b[0m \u001b[0mma\u001b[0m\u001b[1;33m.\u001b[0m\u001b[0mMaskedArray\u001b[0m\u001b[1;33m)\u001b[0m\u001b[1;33m:\u001b[0m\u001b[1;33m\u001b[0m\u001b[1;33m\u001b[0m\u001b[0m\n\u001b[0;32m    616\u001b[0m             \u001b[1;32mimport\u001b[0m \u001b[0mnumpy\u001b[0m\u001b[1;33m.\u001b[0m\u001b[0mma\u001b[0m\u001b[1;33m.\u001b[0m\u001b[0mmrecords\u001b[0m \u001b[1;32mas\u001b[0m \u001b[0mmrecords\u001b[0m\u001b[1;33m\u001b[0m\u001b[1;33m\u001b[0m\u001b[0m\n",
      "\u001b[1;32mD:\\IDEs\\Anaconda\\lib\\site-packages\\pandas\\core\\internals\\construction.py\u001b[0m in \u001b[0;36mdict_to_mgr\u001b[1;34m(data, index, columns, dtype, typ, copy)\u001b[0m\n\u001b[0;32m    463\u001b[0m \u001b[1;33m\u001b[0m\u001b[0m\n\u001b[0;32m    464\u001b[0m     return arrays_to_mgr(\n\u001b[1;32m--> 465\u001b[1;33m         \u001b[0marrays\u001b[0m\u001b[1;33m,\u001b[0m \u001b[0mdata_names\u001b[0m\u001b[1;33m,\u001b[0m \u001b[0mindex\u001b[0m\u001b[1;33m,\u001b[0m \u001b[0mcolumns\u001b[0m\u001b[1;33m,\u001b[0m \u001b[0mdtype\u001b[0m\u001b[1;33m=\u001b[0m\u001b[0mdtype\u001b[0m\u001b[1;33m,\u001b[0m \u001b[0mtyp\u001b[0m\u001b[1;33m=\u001b[0m\u001b[0mtyp\u001b[0m\u001b[1;33m,\u001b[0m \u001b[0mconsolidate\u001b[0m\u001b[1;33m=\u001b[0m\u001b[0mcopy\u001b[0m\u001b[1;33m\u001b[0m\u001b[1;33m\u001b[0m\u001b[0m\n\u001b[0m\u001b[0;32m    466\u001b[0m     )\n\u001b[0;32m    467\u001b[0m \u001b[1;33m\u001b[0m\u001b[0m\n",
      "\u001b[1;32mD:\\IDEs\\Anaconda\\lib\\site-packages\\pandas\\core\\internals\\construction.py\u001b[0m in \u001b[0;36marrays_to_mgr\u001b[1;34m(arrays, arr_names, index, columns, dtype, verify_integrity, typ, consolidate)\u001b[0m\n\u001b[0;32m    117\u001b[0m         \u001b[1;31m# figure out the index, if necessary\u001b[0m\u001b[1;33m\u001b[0m\u001b[1;33m\u001b[0m\u001b[1;33m\u001b[0m\u001b[0m\n\u001b[0;32m    118\u001b[0m         \u001b[1;32mif\u001b[0m \u001b[0mindex\u001b[0m \u001b[1;32mis\u001b[0m \u001b[1;32mNone\u001b[0m\u001b[1;33m:\u001b[0m\u001b[1;33m\u001b[0m\u001b[1;33m\u001b[0m\u001b[0m\n\u001b[1;32m--> 119\u001b[1;33m             \u001b[0mindex\u001b[0m \u001b[1;33m=\u001b[0m \u001b[0m_extract_index\u001b[0m\u001b[1;33m(\u001b[0m\u001b[0marrays\u001b[0m\u001b[1;33m)\u001b[0m\u001b[1;33m\u001b[0m\u001b[1;33m\u001b[0m\u001b[0m\n\u001b[0m\u001b[0;32m    120\u001b[0m         \u001b[1;32melse\u001b[0m\u001b[1;33m:\u001b[0m\u001b[1;33m\u001b[0m\u001b[1;33m\u001b[0m\u001b[0m\n\u001b[0;32m    121\u001b[0m             \u001b[0mindex\u001b[0m \u001b[1;33m=\u001b[0m \u001b[0mensure_index\u001b[0m\u001b[1;33m(\u001b[0m\u001b[0mindex\u001b[0m\u001b[1;33m)\u001b[0m\u001b[1;33m\u001b[0m\u001b[1;33m\u001b[0m\u001b[0m\n",
      "\u001b[1;32mD:\\IDEs\\Anaconda\\lib\\site-packages\\pandas\\core\\internals\\construction.py\u001b[0m in \u001b[0;36m_extract_index\u001b[1;34m(data)\u001b[0m\n\u001b[0;32m    647\u001b[0m                         \u001b[1;34mf\"length {len(index)}\"\u001b[0m\u001b[1;33m\u001b[0m\u001b[1;33m\u001b[0m\u001b[0m\n\u001b[0;32m    648\u001b[0m                     )\n\u001b[1;32m--> 649\u001b[1;33m                     \u001b[1;32mraise\u001b[0m \u001b[0mValueError\u001b[0m\u001b[1;33m(\u001b[0m\u001b[0mmsg\u001b[0m\u001b[1;33m)\u001b[0m\u001b[1;33m\u001b[0m\u001b[1;33m\u001b[0m\u001b[0m\n\u001b[0m\u001b[0;32m    650\u001b[0m             \u001b[1;32melse\u001b[0m\u001b[1;33m:\u001b[0m\u001b[1;33m\u001b[0m\u001b[1;33m\u001b[0m\u001b[0m\n\u001b[0;32m    651\u001b[0m                 \u001b[0mindex\u001b[0m \u001b[1;33m=\u001b[0m \u001b[0mibase\u001b[0m\u001b[1;33m.\u001b[0m\u001b[0mdefault_index\u001b[0m\u001b[1;33m(\u001b[0m\u001b[0mlengths\u001b[0m\u001b[1;33m[\u001b[0m\u001b[1;36m0\u001b[0m\u001b[1;33m]\u001b[0m\u001b[1;33m)\u001b[0m\u001b[1;33m\u001b[0m\u001b[1;33m\u001b[0m\u001b[0m\n",
      "\u001b[1;31mValueError\u001b[0m: array length 8644 does not match index length 4790"
     ]
    }
   ],
   "source": [
    "#Create a  DataFrame\n",
    "submission_meth_2 = pd.DataFrame({'index':df_test_meth_2['index'],'target':y_val_pred_pos})\n",
    "                        \n",
    "\n",
    "#Visualize the first 10 rows\n",
    "submission_meth_2.head(10)"
   ]
  },
  {
   "cell_type": "code",
   "execution_count": null,
   "id": "a4b67ca0",
   "metadata": {},
   "outputs": [],
   "source": [
    "filename = 'submission_2.csv'\n",
    "filepath = 'D:/Masters/SJSU/Academics/sem_2/CMPE_257_ML/CMPE_257_ML_git/Assignments/lab1/'\n",
    "submission.to_csv( filepath + filename,index=False)\n",
    "\n",
    "print('Saved file: ' + filename)"
   ]
  }
 ],
 "metadata": {
  "kernelspec": {
   "display_name": "Python 3 (ipykernel)",
   "language": "python",
   "name": "python3"
  },
  "language_info": {
   "codemirror_mode": {
    "name": "ipython",
    "version": 3
   },
   "file_extension": ".py",
   "mimetype": "text/x-python",
   "name": "python",
   "nbconvert_exporter": "python",
   "pygments_lexer": "ipython3",
   "version": "3.7.11"
  },
  "latex_envs": {
   "LaTeX_envs_menu_present": true,
   "autoclose": false,
   "autocomplete": true,
   "bibliofile": "biblio.bib",
   "cite_by": "apalike",
   "current_citInitial": 1,
   "eqLabelWithNumbers": true,
   "eqNumInitial": 1,
   "hotkeys": {
    "equation": "Ctrl-E",
    "itemize": "Ctrl-I"
   },
   "labels_anchors": false,
   "latex_user_defs": false,
   "report_style_numbering": false,
   "user_envs_cfg": false
  },
  "toc": {
   "base_numbering": 1,
   "nav_menu": {},
   "number_sections": true,
   "sideBar": true,
   "skip_h1_title": false,
   "title_cell": "Table of Contents",
   "title_sidebar": "Contents",
   "toc_cell": false,
   "toc_position": {},
   "toc_section_display": true,
   "toc_window_display": false
  },
  "varInspector": {
   "cols": {
    "lenName": 16,
    "lenType": 16,
    "lenVar": 40
   },
   "kernels_config": {
    "python": {
     "delete_cmd_postfix": "",
     "delete_cmd_prefix": "del ",
     "library": "var_list.py",
     "varRefreshCmd": "print(var_dic_list())"
    },
    "r": {
     "delete_cmd_postfix": ") ",
     "delete_cmd_prefix": "rm(",
     "library": "var_list.r",
     "varRefreshCmd": "cat(var_dic_list()) "
    }
   },
   "types_to_exclude": [
    "module",
    "function",
    "builtin_function_or_method",
    "instance",
    "_Feature"
   ],
   "window_display": false
  }
 },
 "nbformat": 4,
 "nbformat_minor": 5
}
