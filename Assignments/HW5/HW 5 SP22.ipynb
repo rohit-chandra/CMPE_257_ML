{
 "cells": [
  {
   "cell_type": "markdown",
   "id": "a32301db",
   "metadata": {},
   "source": [
    "# Neural Networks"
   ]
  },
  {
   "cell_type": "markdown",
   "id": "f3e3b67f",
   "metadata": {},
   "source": [
    "## 1. What are Neurons?"
   ]
  },
  {
   "cell_type": "markdown",
   "id": "e5ca1b7e",
   "metadata": {
    "ExecuteTime": {
     "end_time": "2022-03-07T18:56:37.785078Z",
     "start_time": "2022-03-07T18:56:37.769120Z"
    }
   },
   "source": [
    "#### What is a Neuron in Biology?\n",
    "\n",
    "+ Neurons in deep learning were inspired by neurons in the human brain. Here is a diagram of the anatomy of a brain neuron:"
   ]
  },
  {
   "cell_type": "markdown",
   "id": "be2ad040",
   "metadata": {},
   "source": [
    "![](images/neuron1.JPG)"
   ]
  },
  {
   "cell_type": "markdown",
   "id": "271270e3",
   "metadata": {},
   "source": [
    "+ As you can see, neurons have quite an interesting structure. Groups of neurons work together inside the human brain to perform the functionality that we require in our day-to-day lives.\n",
    "\n",
    "+ The question that Geoffrey Hinton asked during his seminal research in neural networks was whether we could build computer algorithms that behave similarly to neurons in the brain. The hope was that by mimicking the brain’s structure, we might capture some of its capability.\n",
    "\n",
    "+ To do this, researchers studied the way that neurons behaved in the brain. One important observation was that a neuron by itself is useless. Instead, you require networks of neurons to generate any meaningful functionality.\n",
    "\n",
    "+ This is because neurons function by receiving and sending signals. More specifically, the neuron’s dendrites receive signals and pass along those signals through the axon.\n",
    "\n",
    "+ The dendrites of one neuron are connected to the axon of another neuron. These connections are called synapses, which is a concept that has been generalized to the field of deep learning."
   ]
  },
  {
   "cell_type": "markdown",
   "id": "7cb6e11c",
   "metadata": {},
   "source": [
    "#### What is a Neuron in Deep Learning?\n",
    "\n",
    "+ Neurons in deep learning models are nodes through which data and computations flow.\n",
    "\n",
    "\n",
    "+ Neurons work like this:\n",
    "\n",
    "    + They receive one or more input signals. These input signals can come from either the raw data set or from neurons positioned at a previous layer of the neural net.\n",
    "\n",
    "    + They perform some calculations.\n",
    "\n",
    "    + They send some output signals to neurons deeper in the neural net through a synapse.\n",
    "\n",
    "\n",
    "+ Here is a diagram of the functionality of a neuron in a deep learning neural net:"
   ]
  },
  {
   "cell_type": "markdown",
   "id": "265a5cb8",
   "metadata": {},
   "source": [
    "![](images/neuron2.JPG)"
   ]
  },
  {
   "cell_type": "markdown",
   "id": "bd8e8f04",
   "metadata": {},
   "source": [
    "## 2. Explain the architecture of a neural network"
   ]
  },
  {
   "cell_type": "markdown",
   "id": "7db74c12",
   "metadata": {},
   "source": [
    "![](images/1.png)"
   ]
  },
  {
   "cell_type": "markdown",
   "id": "494c3774",
   "metadata": {},
   "source": [
    "**What are Neural Networks?**\n",
    "\n",
    "+ Neural Networks are the functional unit of Deep Learning and are known to mimic the behavior of the human brain to solve complex data-driven problems.\n",
    "\n",
    "\n",
    "+ The input data is processed through different layers of artificial neurons stacked together to produce the desired output.\n",
    "\n",
    "\n",
    "+ From speech recognition and person recognition to healthcare and marketing, Neural Networks have been used in a varied set of domains. "
   ]
  },
  {
   "cell_type": "markdown",
   "id": "45e467a5",
   "metadata": {},
   "source": [
    "**Key Components of the Neural Network Architecture**\n",
    "\n",
    "+ The Neural Network architecture is made of individual units called neurons that mimic the biological behavior of the brain. \n",
    "\n",
    "\n",
    "+ Here are the various components of a neuron."
   ]
  },
  {
   "cell_type": "markdown",
   "id": "fb06a48f",
   "metadata": {},
   "source": [
    "![](images/2.png)"
   ]
  },
  {
   "cell_type": "markdown",
   "id": "5e3b1ad1",
   "metadata": {},
   "source": [
    "+ **Input** - It is the set of features that are fed into the model for the learning process. For example, the input in object detection can be an array of pixel values pertaining to an image.\n",
    "\n",
    "\n",
    "+ **Weight** - Its main function is to give importance to those features that contribute more towards the learning. It does so by introducing scalar multiplication between the input value and the weight matrix. For example, a negative word would impact the decision of the sentiment analysis model more than a pair of neutral words.\n",
    "\n",
    "\n",
    "+ **Transfer function** - The job of the transfer function is to combine multiple inputs into one output value so that the activation function can be applied. It is done by a simple summation of all the inputs to the transfer function. \n",
    "\n",
    "\n",
    "+ **Activation Function** - It introduces non-linearity in the working of perceptrons to consider varying linearity with the inputs. Without this, the output would just be a linear combination of input values and would not be able to introduce non-linearity in the network.\n",
    "\n",
    "\n",
    "+ **Bias** - The role of bias is to shift the value produced by the activation function. Its role is similar to the role of a constant in a linear function.\n",
    "\n",
    "\n",
    "+ When multiple neurons are stacked together in a row, they constitute a layer, and multiple layers piled next to each other are called a multi-layer neural network.\n",
    "\n",
    "\n",
    "+ We've described the main components of this type of structure below."
   ]
  },
  {
   "cell_type": "markdown",
   "id": "5f52ccdf",
   "metadata": {},
   "source": [
    "![](images/3.png)"
   ]
  },
  {
   "cell_type": "markdown",
   "id": "4cb63f43",
   "metadata": {},
   "source": [
    "**Input Layer**\n",
    "\n",
    "+ The data that we feed to the model is loaded into the input layer from external sources like a CSV file or a web service. It is the only visible layer in the complete Neural Network architecture that passes the complete information from the outside world without any computation.\n",
    "\n",
    "**Hidden Layers**\n",
    "\n",
    "+ The hidden layers are what makes deep learning what it is today. They are intermediate layers that do all the computations and extract the features from the data.\n",
    "\n",
    "+ There can be multiple interconnected hidden layers that account for searching different hidden features in the data. For example, in image processing, the first hidden layers are responsible for higher-level features like edges, shapes, or boundaries. On the other hand, the later hidden layers perform more complicated tasks like identifying complete objects (a car, a building, a person).\n",
    "\n",
    "**Output Layer**\n",
    "\n",
    "+ The output layer takes input from preceding hidden layers and comes to a final prediction based on the model’s learnings. It is the most important layer where we get the final result.\n",
    "\n",
    "\n",
    "+ In the case of classification/regression models, the output layer generally has a single node. However, it is completely problem-specific and dependent on the way the model was built."
   ]
  },
  {
   "cell_type": "markdown",
   "id": "599b6f46",
   "metadata": {},
   "source": [
    "## 3. How many parameters are there in a neural network with 4 hidden layers having 30,25,20,15 neurons each and the input and output layer having 50 and 1 neuron respectively"
   ]
  },
  {
   "cell_type": "markdown",
   "id": "226f974e",
   "metadata": {},
   "source": [
    "The network has 50 inputs based on input neuron layer, (30,25,20,15) neurons in 4 hidden layers  respectively and 1 node in the output layer.\n",
    "\n",
    "\n",
    "The amount of parameters (weights and bias that make up the cost function) is:\n",
    "\n",
    "**For the weights:** \n",
    "\n",
    "50x30+30x25+25x20+20x 15+15=3065\n",
    "    \n",
    "\n",
    "**For the bias:**\n",
    "\n",
    "We have 90 neurons in the hidden layers and 1 in the output, so we have 90+ 1 =91 biases. So in \n",
    "total, the amount of parameters in this neural network is 3156.\n"
   ]
  },
  {
   "cell_type": "markdown",
   "id": "36ea5362",
   "metadata": {},
   "source": [
    "## 4. Explain gradient descent"
   ]
  },
  {
   "cell_type": "markdown",
   "id": "a439f4d3",
   "metadata": {},
   "source": [
    "+ Gradient descent is an iterative optimization algorithm for finding the local minimum of a function.\n",
    "\n",
    "\n",
    "+ To find the local minimum of a function using gradient descent, we must take steps proportional to the negative of the gradient (move away from the gradient) of the function at the current point. If we take steps proportional to the positive of the gradient (moving towards the gradient), we will approach a local maximum of the function, and the procedure is called Gradient Ascent.\n",
    "\n",
    "\n",
    "+ Gradient descent was originally proposed by CAUCHY in 1847. It is also known as steepest descent."
   ]
  },
  {
   "cell_type": "markdown",
   "id": "55c6d710",
   "metadata": {},
   "source": [
    "![](images/gd.png)"
   ]
  },
  {
   "cell_type": "markdown",
   "id": "cc29a357",
   "metadata": {},
   "source": [
    "+ The goal of the gradient descent algorithm is to minimize the given function (say cost function). To achieve this goal, it performs two steps iteratively:\n",
    "\n",
    "\n",
    "    1) Compute the gradient (slope), the first order derivative of the function at that point\n",
    "    \n",
    "    2)  Make a step (move) in the direction opposite to the gradient, opposite direction of slope increase from the current point by alpha times the gradient at that point"
   ]
  },
  {
   "cell_type": "markdown",
   "id": "9de26198",
   "metadata": {},
   "source": [
    "![](images/gd1.png)"
   ]
  },
  {
   "cell_type": "markdown",
   "id": "971be6ba",
   "metadata": {},
   "source": [
    "+ Alpha is called Learning rate – a tuning parameter in the optimization process. It decides the length of the steps."
   ]
  },
  {
   "cell_type": "markdown",
   "id": "cb706584",
   "metadata": {},
   "source": [
    "**Plotting the Gradient Descent Algorithm**\n",
    "\n",
    "+ When we have a single parameter (theta), we can plot the dependent variable cost on the y-axis and theta on the x-axis. If there are two parameters, we can go with a 3-D plot, with cost on one axis and the two parameters (thetas) along the other two axes."
   ]
  },
  {
   "cell_type": "markdown",
   "id": "6ca37514",
   "metadata": {},
   "source": [
    "![](images/cs.JPG)"
   ]
  },
  {
   "cell_type": "markdown",
   "id": "8e4bdbb1",
   "metadata": {},
   "source": [
    "**Alpha – The Learning Rate**\n",
    "\n",
    "+ We have the direction we want to move in, now we must decide the size of the step we must take.\n",
    "\n",
    "\n",
    "+ It must be chosen carefully to end up with local minima.\n",
    "\n",
    "\n",
    "+ If the learning rate is too high, we might OVERSHOOT the minima and keep bouncing, without reaching the minima\n",
    "\n",
    "\n",
    "+ If the learning rate is too small, the training might turn out to be too long"
   ]
  },
  {
   "cell_type": "markdown",
   "id": "684a2537",
   "metadata": {},
   "source": [
    "![](images/l.png)"
   ]
  },
  {
   "cell_type": "markdown",
   "id": "a462e3e3",
   "metadata": {
    "ExecuteTime": {
     "end_time": "2022-03-07T19:24:05.822779Z",
     "start_time": "2022-03-07T19:24:05.811809Z"
    }
   },
   "source": [
    "a) Learning rate is optimal, model converges to the minimum\n",
    "\n",
    "b) Learning rate is too small, it takes more time but converges to the minimum\n",
    "\n",
    "c) Learning rate is higher than the optimal value, it overshoots but converges ( 1/C < η <2/C)\n",
    "\n",
    "d) Learning rate is very large, it overshoots and diverges, moves away from the minima, performance decreases on learning"
   ]
  },
  {
   "cell_type": "markdown",
   "id": "28d83a4a",
   "metadata": {},
   "source": [
    "![](images/4.png)"
   ]
  },
  {
   "cell_type": "markdown",
   "id": "5a314eb1",
   "metadata": {},
   "source": [
    "**Note:** \n",
    "\n",
    "+ As the gradient decreases while moving towards the local minima, the size of the step decreases. So, the learning rate (alpha) can be constant over the optimization and need not be varied iteratively.\n",
    "\n",
    "**Local Minima:**\n",
    "\n",
    "+ The cost function may consist of many minimum points. The gradient may settle on any one of the minima, which depends on the initial point (i.e initial parameters(theta)) and the learning rate. Therefore, the optimization may converge to different points with different starting points and learning rate."
   ]
  },
  {
   "cell_type": "markdown",
   "id": "b0708c8e",
   "metadata": {},
   "source": [
    "## 5. What is categorical cross entropy"
   ]
  },
  {
   "cell_type": "markdown",
   "id": "107441a0",
   "metadata": {},
   "source": [
    "Cross-entropy loss, or log loss, measures the performance of a classification model whose output is a probability value between 0 and 1. Cross-entropy loss increases as the predicted probability diverges from the actual label. So predicting a probability of .012 when the actual observation label is 1 would be bad and result in a high loss value. A perfect model would have a log loss of 0."
   ]
  },
  {
   "cell_type": "markdown",
   "id": "8d367e4e",
   "metadata": {
    "ExecuteTime": {
     "end_time": "2022-03-07T19:35:30.297710Z",
     "start_time": "2022-03-07T19:35:30.249839Z"
    }
   },
   "source": [
    "![](images/ce.png)"
   ]
  },
  {
   "cell_type": "markdown",
   "id": "1d800b68",
   "metadata": {},
   "source": [
    "The graph above shows the range of possible loss values given a true observation (isDog = 1). As the predicted probability approaches 1, log loss slowly decreases. As the predicted probability decreases, however, the log loss increases rapidly. Log loss penalizes both types of errors, but especially those predictions that are confident and wrong!\n",
    "\n",
    "\n",
    "**Math:**\n",
    "\n",
    "+ In binary classification, where the number of classes M equals 2, cross-entropy can be calculated as:"
   ]
  },
  {
   "cell_type": "markdown",
   "id": "edaa41de",
   "metadata": {},
   "source": [
    "![](images/cs1.JPG)"
   ]
  },
  {
   "cell_type": "markdown",
   "id": "6e65f9e8",
   "metadata": {},
   "source": [
    "+ If M>2 (i.e. multiclass classification), we calculate a separate loss for each class label per observation and sum the result."
   ]
  },
  {
   "cell_type": "markdown",
   "id": "a3c76789",
   "metadata": {},
   "source": [
    "![](images/cs2.JPG)"
   ]
  },
  {
   "cell_type": "markdown",
   "id": "313772ad",
   "metadata": {},
   "source": [
    "**Note:**\n",
    "\n",
    "+ M - number of classes (dog, cat, fish)\n",
    "\n",
    "+ log - the natural log\n",
    "\n",
    "+ y - binary indicator (0 or 1) if class label c is the correct classification for observation o\n",
    "\n",
    "+ p - predicted probability observation o is of class c"
   ]
  },
  {
   "cell_type": "markdown",
   "id": "903d176f",
   "metadata": {},
   "source": [
    "## 6. Explain in short the following terms: Relu, Sigmoid, softmax"
   ]
  },
  {
   "cell_type": "markdown",
   "id": "4e00d722",
   "metadata": {},
   "source": [
    "**1) Sigmoid or Logistic Activation Function**\n",
    "\n",
    "The Sigmoid Function curve looks like a S-shape."
   ]
  },
  {
   "cell_type": "markdown",
   "id": "12dba73c",
   "metadata": {},
   "source": [
    "![](images/sig.JPG)"
   ]
  },
  {
   "cell_type": "markdown",
   "id": "cdfdfed1",
   "metadata": {},
   "source": [
    "+ The main reason why we use sigmoid function is because it exists between (0 to 1). Therefore, it is especially used for models where we have to predict the probability as an output.Since probability of anything exists only between the range of 0 and 1, sigmoid is the right choice.\n",
    "\n",
    "\n",
    "+ The function is differentiable.That means, we can find the slope of the sigmoid curve at any two points.\n",
    "\n",
    "\n",
    "+ The function is monotonic but function’s derivative is not.\n",
    "\n",
    "\n",
    "+ The logistic sigmoid function can cause a neural network to get stuck at the training time.\n",
    "\n",
    "\n",
    "+ The softmax function is a more generalized logistic activation function which is used for multiclass classification."
   ]
  },
  {
   "cell_type": "markdown",
   "id": "00bd5088",
   "metadata": {},
   "source": [
    "**2) ReLU (Rectified Linear Unit) Activation Function**\n",
    "\n",
    "+ The ReLU is the most used activation function in the world right now.Since, it is used in almost all the convolutional neural networks or deep learning."
   ]
  },
  {
   "cell_type": "markdown",
   "id": "640a9646",
   "metadata": {},
   "source": [
    "![](images/relu.JPG)"
   ]
  },
  {
   "cell_type": "markdown",
   "id": "cbbdb382",
   "metadata": {},
   "source": [
    "+ As you can see, the ReLU is half rectified (from bottom). f(z) is zero when z is less than zero and f(z) is equal to z when z is above or equal to zero.\n",
    "\n",
    "\n",
    "+ Range: [ 0 to infinity)\n",
    "\n",
    "\n",
    "+ The function and its derivative both are monotonic.\n",
    "\n",
    "\n",
    "+ But the issue is that all the negative values become zero immediately which decreases the ability of the model to fit or train from the data properly. That means any negative input given to the ReLU activation function turns the value into zero immediately in the graph, which in turns affects the resulting graph by not mapping the negative values appropriately."
   ]
  },
  {
   "cell_type": "markdown",
   "id": "e875e7ce",
   "metadata": {},
   "source": [
    "**3) Softmax**\n",
    "\n",
    "+ Generally, we use the function at last layer of neural network which calculates the probabilities distribution of the event over ’n’ different events. The main advantage of the function is able to handle multiple classes."
   ]
  },
  {
   "cell_type": "markdown",
   "id": "e16e91ed",
   "metadata": {},
   "source": [
    "![](images/soft.JPG)"
   ]
  },
  {
   "cell_type": "code",
   "execution_count": null,
   "id": "8a8aa942",
   "metadata": {},
   "outputs": [],
   "source": [
    "+ When we compare the sigmoid and softmax activation functions , they produce different results."
   ]
  },
  {
   "cell_type": "markdown",
   "id": "994b6df4",
   "metadata": {},
   "source": [
    "![](images/soft1.JPG)"
   ]
  },
  {
   "cell_type": "markdown",
   "id": "7bf084a5",
   "metadata": {},
   "source": [
    "+ Sigmoid’s probabilities produced by a Sigmoid are independent. Furthermore, they are not constrained to sum to one: 0.37 + 0.77 + 0.48 + 0.91 = 2.53.\n",
    "\n",
    "\n",
    "+ The reason for this is because the Sigmoid looks at each raw output value separately. Whereas Softmax’s the outputs are interrelated. \n",
    "\n",
    "\n",
    "+ The Softmax probabilities will always sum to one by design: 0.04 + 0.21 + 0.05 + 0.70 = 1.00. In this case, if we want to increase the likelihood of one class, the other has to decrease by an equal amount."
   ]
  },
  {
   "cell_type": "markdown",
   "id": "ecae8a28",
   "metadata": {},
   "source": [
    "**Note:**\n",
    "    \n",
    "**Why derivative/differentiation is used ?**\n",
    "\n",
    "When updating the curve, to know in which direction and how much to change or update the curve depending upon the slope.That is why we use differentiation in almost every part of Machine Learning and Deep Learning."
   ]
  },
  {
   "cell_type": "code",
   "execution_count": null,
   "id": "d6730f7e",
   "metadata": {},
   "outputs": [],
   "source": []
  },
  {
   "cell_type": "markdown",
   "id": "9b0d7108",
   "metadata": {},
   "source": [
    "## 7. Load the mnist dataset"
   ]
  },
  {
   "cell_type": "code",
   "execution_count": 26,
   "id": "99c74b5e",
   "metadata": {
    "ExecuteTime": {
     "end_time": "2022-03-07T20:37:56.210778Z",
     "start_time": "2022-03-07T20:37:56.193823Z"
    }
   },
   "outputs": [],
   "source": [
    "import numpy as np # linear algebra\n",
    "import pandas as pd # data processing, CSV file I/O (e.g. pd.read_csv)\n",
    "\n",
    "\n",
    "import matplotlib.pyplot as plt # plotting library\n",
    "%matplotlib inline\n",
    "import matplotlib\n",
    "\n",
    "from sklearn.datasets import fetch_openml\n",
    "from keras.models import Sequential\n",
    "from keras.utils import to_categorical\n",
    "from keras.layers import Dense , Activation, Dropout\n",
    "from keras.optimizers import Adam ,RMSprop\n",
    "from sklearn.model_selection import train_test_split\n",
    "import pickle\n"
   ]
  },
  {
   "cell_type": "code",
   "execution_count": 15,
   "id": "4216cc39",
   "metadata": {
    "ExecuteTime": {
     "end_time": "2022-03-07T20:27:40.660796Z",
     "start_time": "2022-03-07T20:26:45.341043Z"
    }
   },
   "outputs": [],
   "source": [
    "#X, y = fetch_openml('mnist_784', version=1, return_X_y=True)"
   ]
  },
  {
   "cell_type": "code",
   "execution_count": 20,
   "id": "1b168294",
   "metadata": {
    "ExecuteTime": {
     "end_time": "2022-03-07T20:31:20.586845Z",
     "start_time": "2022-03-07T20:31:16.002587Z"
    }
   },
   "outputs": [],
   "source": [
    "# file_save = open('mnist_784.pickle', 'wb')\n",
    "# pickle.dump(X, file_save)\n",
    "# file_save.close()\n",
    "\n",
    "# file_save1 = open('mnist_784_y.pickle', 'wb')\n",
    "# pickle.dump(y, file_save1)\n",
    "# file_save1.close()"
   ]
  },
  {
   "cell_type": "code",
   "execution_count": 21,
   "id": "0c9dce5b",
   "metadata": {
    "ExecuteTime": {
     "end_time": "2022-03-07T20:31:32.216263Z",
     "start_time": "2022-03-07T20:31:31.826184Z"
    }
   },
   "outputs": [],
   "source": [
    "# load dataset\n",
    "file_save = open('mnist_784.pickle', 'rb')\n",
    "X = pickle.load(file_save)\n",
    "\n",
    "file_save1 = open('mnist_784_y.pickle', 'rb')\n",
    "y = pickle.load(file_save1)"
   ]
  },
  {
   "cell_type": "code",
   "execution_count": 22,
   "id": "d996fbd1",
   "metadata": {
    "ExecuteTime": {
     "end_time": "2022-03-07T20:31:33.074752Z",
     "start_time": "2022-03-07T20:31:33.065776Z"
    }
   },
   "outputs": [
    {
     "data": {
      "text/plain": [
       "(70000, 784)"
      ]
     },
     "execution_count": 22,
     "metadata": {},
     "output_type": "execute_result"
    }
   ],
   "source": [
    "X.shape"
   ]
  },
  {
   "cell_type": "code",
   "execution_count": 23,
   "id": "301c6010",
   "metadata": {
    "ExecuteTime": {
     "end_time": "2022-03-07T20:31:33.541973Z",
     "start_time": "2022-03-07T20:31:33.529009Z"
    }
   },
   "outputs": [
    {
     "data": {
      "text/plain": [
       "(70000,)"
      ]
     },
     "execution_count": 23,
     "metadata": {},
     "output_type": "execute_result"
    }
   ],
   "source": [
    "y.shape"
   ]
  },
  {
   "cell_type": "markdown",
   "id": "f9646ce5",
   "metadata": {},
   "source": [
    "## 8. plot some sample images"
   ]
  },
  {
   "cell_type": "code",
   "execution_count": 28,
   "id": "6bdee0a0",
   "metadata": {
    "ExecuteTime": {
     "end_time": "2022-03-07T20:38:20.913053Z",
     "start_time": "2022-03-07T20:38:18.609757Z"
    },
    "scrolled": false
   },
   "outputs": [
    {
     "data": {
      "image/png": "[encoded data removed]",
      "text/plain": [
       "<Figure size 432x288 with 2 Axes>"
      ]
     },
     "metadata": {
      "needs_background": "light"
     },
     "output_type": "display_data"
    },
    {
     "data": {
      "image/png": "[encoded data removed]",
      "text/plain": [
       "<Figure size 432x288 with 2 Axes>"
      ]
     },
     "metadata": {
      "needs_background": "light"
     },
     "output_type": "display_data"
    },
    {
     "data": {
      "image/png": "[encoded data removed]",
      "text/plain": [
       "<Figure size 432x288 with 2 Axes>"
      ]
     },
     "metadata": {
      "needs_background": "light"
     },
     "output_type": "display_data"
    },
    {
     "data": {
      "image/png": "[encoded data removed]",
      "text/plain": [
       "<Figure size 432x288 with 2 Axes>"
      ]
     },
     "metadata": {
      "needs_background": "light"
     },
     "output_type": "display_data"
    },
    {
     "data": {
      "image/png": "[encoded data removed]",
      "text/plain": [
       "<Figure size 432x288 with 2 Axes>"
      ]
     },
     "metadata": {
      "needs_background": "light"
     },
     "output_type": "display_data"
    },
    {
     "data": {
      "image/png": "[encoded data removed]",
      "text/plain": [
       "<Figure size 432x288 with 2 Axes>"
      ]
     },
     "metadata": {
      "needs_background": "light"
     },
     "output_type": "display_data"
    },
    {
     "data": {
      "image/png": "[encoded data removed]",
      "text/plain": [
       "<Figure size 432x288 with 2 Axes>"
      ]
     },
     "metadata": {
      "needs_background": "light"
     },
     "output_type": "display_data"
    },
    {
     "data": {
      "image/png": "[encoded data removed]",
      "text/plain": [
       "<Figure size 432x288 with 2 Axes>"
      ]
     },
     "metadata": {
      "needs_background": "light"
     },
     "output_type": "display_data"
    },
    {
     "data": {
      "image/png": "[encoded data removed]",
      "text/plain": [
       "<Figure size 432x288 with 2 Axes>"
      ]
     },
     "metadata": {
      "needs_background": "light"
     },
     "output_type": "display_data"
    },
    {
     "data": {
      "image/png": "[encoded data removed]",
      "text/plain": [
       "<Figure size 432x288 with 2 Axes>"
      ]
     },
     "metadata": {
      "needs_background": "light"
     },
     "output_type": "display_data"
    }
   ],
   "source": [
    "for i in range(0, 10):\n",
    "    data = np.array(list(X.loc[i,:]))\n",
    "    nrows, ncols = 28, 28\n",
    "    \n",
    "    data = data.reshape(nrows, ncols)\n",
    "    \n",
    "    pixel_plot = plt.figure()\n",
    "    pixel_plot.add_subplot()\n",
    "    plt.title(\"Plot\")\n",
    "    pixel_plot = plt.imshow(data, cmap = matplotlib.cm.binary, interpolation = 'nearest', origin = 'lower')\n",
    "    \n",
    "    plt.colorbar(pixel_plot)\n",
    "    plt.show(pixel_plot)"
   ]
  },
  {
   "cell_type": "code",
   "execution_count": null,
   "id": "cb74b2b0",
   "metadata": {},
   "outputs": [],
   "source": []
  },
  {
   "cell_type": "markdown",
   "id": "e4157808",
   "metadata": {},
   "source": [
    "## 9. pre process the target variable to make it binary"
   ]
  },
  {
   "cell_type": "code",
   "execution_count": 29,
   "id": "bacb637c",
   "metadata": {
    "ExecuteTime": {
     "end_time": "2022-03-07T20:39:50.711581Z",
     "start_time": "2022-03-07T20:39:50.643616Z"
    }
   },
   "outputs": [],
   "source": [
    "y = y.astype(np.uint8)\n",
    "y_1 = (y==1)\n",
    "y_1 = y_1.astype(np.uint8)"
   ]
  },
  {
   "cell_type": "code",
   "execution_count": 31,
   "id": "ca48952e",
   "metadata": {
    "ExecuteTime": {
     "end_time": "2022-03-07T20:40:01.879396Z",
     "start_time": "2022-03-07T20:40:01.746582Z"
    }
   },
   "outputs": [
    {
     "data": {
      "text/plain": [
       "0    62123\n",
       "1     7877\n",
       "Name: class, dtype: int64"
      ]
     },
     "execution_count": 31,
     "metadata": {},
     "output_type": "execute_result"
    }
   ],
   "source": [
    "y_1.value_counts()"
   ]
  },
  {
   "cell_type": "markdown",
   "id": "a228c3dc",
   "metadata": {},
   "source": [
    "## 10. construct a neural network"
   ]
  },
  {
   "cell_type": "code",
   "execution_count": 32,
   "id": "a64cb0dc",
   "metadata": {
    "ExecuteTime": {
     "end_time": "2022-03-07T20:44:13.331543Z",
     "start_time": "2022-03-07T20:44:12.434225Z"
    }
   },
   "outputs": [
    {
     "ename": "AttributeError",
     "evalue": "module 'tensorflow.python.framework.ops' has no attribute '_TensorLike'",
     "output_type": "error",
     "traceback": [
      "\u001b[1;31m---------------------------------------------------------------------------\u001b[0m",
      "\u001b[1;31mAttributeError\u001b[0m                            Traceback (most recent call last)",
      "\u001b[1;32m~\\AppData\\Local\\Temp/ipykernel_27164/1333595171.py\u001b[0m in \u001b[0;36m<module>\u001b[1;34m\u001b[0m\n\u001b[0;32m      1\u001b[0m \u001b[0mmodel\u001b[0m \u001b[1;33m=\u001b[0m \u001b[0mSequential\u001b[0m\u001b[1;33m(\u001b[0m\u001b[1;33m)\u001b[0m\u001b[1;33m\u001b[0m\u001b[1;33m\u001b[0m\u001b[0m\n\u001b[1;32m----> 2\u001b[1;33m \u001b[0mmodel\u001b[0m\u001b[1;33m.\u001b[0m\u001b[0madd\u001b[0m\u001b[1;33m(\u001b[0m\u001b[0mDense\u001b[0m\u001b[1;33m(\u001b[0m\u001b[1;36m784\u001b[0m\u001b[1;33m,\u001b[0m \u001b[0mactivation\u001b[0m\u001b[1;33m=\u001b[0m\u001b[1;34m'relu'\u001b[0m\u001b[1;33m,\u001b[0m \u001b[0minput_dim\u001b[0m\u001b[1;33m=\u001b[0m\u001b[1;36m784\u001b[0m\u001b[1;33m)\u001b[0m\u001b[1;33m)\u001b[0m\u001b[1;33m\u001b[0m\u001b[1;33m\u001b[0m\u001b[0m\n\u001b[0m\u001b[0;32m      3\u001b[0m \u001b[0mmodel\u001b[0m\u001b[1;33m.\u001b[0m\u001b[0madd\u001b[0m\u001b[1;33m(\u001b[0m\u001b[0mDropout\u001b[0m\u001b[1;33m(\u001b[0m\u001b[1;36m0.125\u001b[0m\u001b[1;33m)\u001b[0m\u001b[1;33m)\u001b[0m\u001b[1;33m\u001b[0m\u001b[1;33m\u001b[0m\u001b[0m\n\u001b[0;32m      4\u001b[0m \u001b[0mmodel\u001b[0m\u001b[1;33m.\u001b[0m\u001b[0madd\u001b[0m\u001b[1;33m(\u001b[0m\u001b[0mDense\u001b[0m\u001b[1;33m(\u001b[0m\u001b[1;36m10\u001b[0m\u001b[1;33m,\u001b[0m \u001b[0mactivation\u001b[0m\u001b[1;33m=\u001b[0m\u001b[1;34m'relu'\u001b[0m\u001b[1;33m)\u001b[0m\u001b[1;33m)\u001b[0m\u001b[1;33m\u001b[0m\u001b[1;33m\u001b[0m\u001b[0m\n\u001b[0;32m      5\u001b[0m \u001b[0mmodel\u001b[0m\u001b[1;33m.\u001b[0m\u001b[0madd\u001b[0m\u001b[1;33m(\u001b[0m\u001b[0mDense\u001b[0m\u001b[1;33m(\u001b[0m\u001b[1;36m1\u001b[0m\u001b[1;33m,\u001b[0m \u001b[0mactivation\u001b[0m\u001b[1;33m=\u001b[0m\u001b[1;34m'sigmoid'\u001b[0m\u001b[1;33m)\u001b[0m\u001b[1;33m)\u001b[0m\u001b[1;33m\u001b[0m\u001b[1;33m\u001b[0m\u001b[0m\n",
      "\u001b[1;32mD:\\IDEs\\Anaconda\\lib\\site-packages\\keras\\engine\\sequential.py\u001b[0m in \u001b[0;36madd\u001b[1;34m(self, layer)\u001b[0m\n\u001b[0;32m    164\u001b[0m                     \u001b[1;31m# and create the node connecting the current layer\u001b[0m\u001b[1;33m\u001b[0m\u001b[1;33m\u001b[0m\u001b[1;33m\u001b[0m\u001b[0m\n\u001b[0;32m    165\u001b[0m                     \u001b[1;31m# to the input layer we just created.\u001b[0m\u001b[1;33m\u001b[0m\u001b[1;33m\u001b[0m\u001b[1;33m\u001b[0m\u001b[0m\n\u001b[1;32m--> 166\u001b[1;33m                     \u001b[0mlayer\u001b[0m\u001b[1;33m(\u001b[0m\u001b[0mx\u001b[0m\u001b[1;33m)\u001b[0m\u001b[1;33m\u001b[0m\u001b[1;33m\u001b[0m\u001b[0m\n\u001b[0m\u001b[0;32m    167\u001b[0m                     \u001b[0mset_inputs\u001b[0m \u001b[1;33m=\u001b[0m \u001b[1;32mTrue\u001b[0m\u001b[1;33m\u001b[0m\u001b[1;33m\u001b[0m\u001b[0m\n\u001b[0;32m    168\u001b[0m             \u001b[1;32melse\u001b[0m\u001b[1;33m:\u001b[0m\u001b[1;33m\u001b[0m\u001b[1;33m\u001b[0m\u001b[0m\n",
      "\u001b[1;32mD:\\IDEs\\Anaconda\\lib\\site-packages\\keras\\backend\\tensorflow_backend.py\u001b[0m in \u001b[0;36msymbolic_fn_wrapper\u001b[1;34m(*args, **kwargs)\u001b[0m\n\u001b[0;32m     73\u001b[0m         \u001b[1;32mif\u001b[0m \u001b[0m_SYMBOLIC_SCOPE\u001b[0m\u001b[1;33m.\u001b[0m\u001b[0mvalue\u001b[0m\u001b[1;33m:\u001b[0m\u001b[1;33m\u001b[0m\u001b[1;33m\u001b[0m\u001b[0m\n\u001b[0;32m     74\u001b[0m             \u001b[1;32mwith\u001b[0m \u001b[0mget_graph\u001b[0m\u001b[1;33m(\u001b[0m\u001b[1;33m)\u001b[0m\u001b[1;33m.\u001b[0m\u001b[0mas_default\u001b[0m\u001b[1;33m(\u001b[0m\u001b[1;33m)\u001b[0m\u001b[1;33m:\u001b[0m\u001b[1;33m\u001b[0m\u001b[1;33m\u001b[0m\u001b[0m\n\u001b[1;32m---> 75\u001b[1;33m                 \u001b[1;32mreturn\u001b[0m \u001b[0mfunc\u001b[0m\u001b[1;33m(\u001b[0m\u001b[1;33m*\u001b[0m\u001b[0margs\u001b[0m\u001b[1;33m,\u001b[0m \u001b[1;33m**\u001b[0m\u001b[0mkwargs\u001b[0m\u001b[1;33m)\u001b[0m\u001b[1;33m\u001b[0m\u001b[1;33m\u001b[0m\u001b[0m\n\u001b[0m\u001b[0;32m     76\u001b[0m         \u001b[1;32melse\u001b[0m\u001b[1;33m:\u001b[0m\u001b[1;33m\u001b[0m\u001b[1;33m\u001b[0m\u001b[0m\n\u001b[0;32m     77\u001b[0m             \u001b[1;32mreturn\u001b[0m \u001b[0mfunc\u001b[0m\u001b[1;33m(\u001b[0m\u001b[1;33m*\u001b[0m\u001b[0margs\u001b[0m\u001b[1;33m,\u001b[0m \u001b[1;33m**\u001b[0m\u001b[0mkwargs\u001b[0m\u001b[1;33m)\u001b[0m\u001b[1;33m\u001b[0m\u001b[1;33m\u001b[0m\u001b[0m\n",
      "\u001b[1;32mD:\\IDEs\\Anaconda\\lib\\site-packages\\keras\\engine\\base_layer.py\u001b[0m in \u001b[0;36m__call__\u001b[1;34m(self, inputs, **kwargs)\u001b[0m\n\u001b[0;32m    444\u001b[0m                 \u001b[1;31m# Raise exceptions in case the input is not compatible\u001b[0m\u001b[1;33m\u001b[0m\u001b[1;33m\u001b[0m\u001b[1;33m\u001b[0m\u001b[0m\n\u001b[0;32m    445\u001b[0m                 \u001b[1;31m# with the input_spec specified in the layer constructor.\u001b[0m\u001b[1;33m\u001b[0m\u001b[1;33m\u001b[0m\u001b[1;33m\u001b[0m\u001b[0m\n\u001b[1;32m--> 446\u001b[1;33m                 \u001b[0mself\u001b[0m\u001b[1;33m.\u001b[0m\u001b[0massert_input_compatibility\u001b[0m\u001b[1;33m(\u001b[0m\u001b[0minputs\u001b[0m\u001b[1;33m)\u001b[0m\u001b[1;33m\u001b[0m\u001b[1;33m\u001b[0m\u001b[0m\n\u001b[0m\u001b[0;32m    447\u001b[0m \u001b[1;33m\u001b[0m\u001b[0m\n\u001b[0;32m    448\u001b[0m                 \u001b[1;31m# Collect input shapes to build layer.\u001b[0m\u001b[1;33m\u001b[0m\u001b[1;33m\u001b[0m\u001b[1;33m\u001b[0m\u001b[0m\n",
      "\u001b[1;32mD:\\IDEs\\Anaconda\\lib\\site-packages\\keras\\engine\\base_layer.py\u001b[0m in \u001b[0;36massert_input_compatibility\u001b[1;34m(self, inputs)\u001b[0m\n\u001b[0;32m    308\u001b[0m         \u001b[1;32mfor\u001b[0m \u001b[0mx\u001b[0m \u001b[1;32min\u001b[0m \u001b[0minputs\u001b[0m\u001b[1;33m:\u001b[0m\u001b[1;33m\u001b[0m\u001b[1;33m\u001b[0m\u001b[0m\n\u001b[0;32m    309\u001b[0m             \u001b[1;32mtry\u001b[0m\u001b[1;33m:\u001b[0m\u001b[1;33m\u001b[0m\u001b[1;33m\u001b[0m\u001b[0m\n\u001b[1;32m--> 310\u001b[1;33m                 \u001b[0mK\u001b[0m\u001b[1;33m.\u001b[0m\u001b[0mis_keras_tensor\u001b[0m\u001b[1;33m(\u001b[0m\u001b[0mx\u001b[0m\u001b[1;33m)\u001b[0m\u001b[1;33m\u001b[0m\u001b[1;33m\u001b[0m\u001b[0m\n\u001b[0m\u001b[0;32m    311\u001b[0m             \u001b[1;32mexcept\u001b[0m \u001b[0mValueError\u001b[0m\u001b[1;33m:\u001b[0m\u001b[1;33m\u001b[0m\u001b[1;33m\u001b[0m\u001b[0m\n\u001b[0;32m    312\u001b[0m                 raise ValueError('Layer ' + self.name + ' was called with '\n",
      "\u001b[1;32mD:\\IDEs\\Anaconda\\lib\\site-packages\\keras\\backend\\tensorflow_backend.py\u001b[0m in \u001b[0;36mis_keras_tensor\u001b[1;34m(x)\u001b[0m\n\u001b[0;32m    693\u001b[0m     \u001b[0;31m`\u001b[0m\u001b[0;31m`\u001b[0m\u001b[0;31m`\u001b[0m\u001b[1;33m\u001b[0m\u001b[1;33m\u001b[0m\u001b[0m\n\u001b[0;32m    694\u001b[0m     \"\"\"\n\u001b[1;32m--> 695\u001b[1;33m     \u001b[1;32mif\u001b[0m \u001b[1;32mnot\u001b[0m \u001b[0mis_tensor\u001b[0m\u001b[1;33m(\u001b[0m\u001b[0mx\u001b[0m\u001b[1;33m)\u001b[0m\u001b[1;33m:\u001b[0m\u001b[1;33m\u001b[0m\u001b[1;33m\u001b[0m\u001b[0m\n\u001b[0m\u001b[0;32m    696\u001b[0m         raise ValueError('Unexpectedly found an instance of type `' +\n\u001b[0;32m    697\u001b[0m                          \u001b[0mstr\u001b[0m\u001b[1;33m(\u001b[0m\u001b[0mtype\u001b[0m\u001b[1;33m(\u001b[0m\u001b[0mx\u001b[0m\u001b[1;33m)\u001b[0m\u001b[1;33m)\u001b[0m \u001b[1;33m+\u001b[0m \u001b[1;34m'`. '\u001b[0m\u001b[1;33m\u001b[0m\u001b[1;33m\u001b[0m\u001b[0m\n",
      "\u001b[1;32mD:\\IDEs\\Anaconda\\lib\\site-packages\\keras\\backend\\tensorflow_backend.py\u001b[0m in \u001b[0;36mis_tensor\u001b[1;34m(x)\u001b[0m\n\u001b[0;32m    701\u001b[0m \u001b[1;33m\u001b[0m\u001b[0m\n\u001b[0;32m    702\u001b[0m \u001b[1;32mdef\u001b[0m \u001b[0mis_tensor\u001b[0m\u001b[1;33m(\u001b[0m\u001b[0mx\u001b[0m\u001b[1;33m)\u001b[0m\u001b[1;33m:\u001b[0m\u001b[1;33m\u001b[0m\u001b[1;33m\u001b[0m\u001b[0m\n\u001b[1;32m--> 703\u001b[1;33m     \u001b[1;32mreturn\u001b[0m \u001b[0misinstance\u001b[0m\u001b[1;33m(\u001b[0m\u001b[0mx\u001b[0m\u001b[1;33m,\u001b[0m \u001b[0mtf_ops\u001b[0m\u001b[1;33m.\u001b[0m\u001b[0m_TensorLike\u001b[0m\u001b[1;33m)\u001b[0m \u001b[1;32mor\u001b[0m \u001b[0mtf_ops\u001b[0m\u001b[1;33m.\u001b[0m\u001b[0mis_dense_tensor_like\u001b[0m\u001b[1;33m(\u001b[0m\u001b[0mx\u001b[0m\u001b[1;33m)\u001b[0m\u001b[1;33m\u001b[0m\u001b[1;33m\u001b[0m\u001b[0m\n\u001b[0m\u001b[0;32m    704\u001b[0m \u001b[1;33m\u001b[0m\u001b[0m\n\u001b[0;32m    705\u001b[0m \u001b[1;33m\u001b[0m\u001b[0m\n",
      "\u001b[1;31mAttributeError\u001b[0m: module 'tensorflow.python.framework.ops' has no attribute '_TensorLike'"
     ]
    }
   ],
   "source": [
    "model = Sequential()\n",
    "model.add(Dense(784, activation='relu', input_dim=784))\n",
    "model.add(Dropout(0.125))\n",
    "model.add(Dense(10, activation='relu'))\n",
    "model.add(Dense(1, activation='sigmoid'))\n",
    "model.compile(optimizer='adam', loss='binary_crossentropy', metrics=['TruePositive'])"
   ]
  },
  {
   "cell_type": "markdown",
   "id": "cc51fea4",
   "metadata": {},
   "source": [
    "## 11. plot the network (visualise/summarise)"
   ]
  },
  {
   "cell_type": "code",
   "execution_count": null,
   "id": "865f4a12",
   "metadata": {},
   "outputs": [],
   "source": []
  },
  {
   "cell_type": "markdown",
   "id": "aae59b84",
   "metadata": {},
   "source": [
    "## 12. train the network"
   ]
  },
  {
   "cell_type": "code",
   "execution_count": null,
   "id": "081a93f2",
   "metadata": {},
   "outputs": [],
   "source": []
  },
  {
   "cell_type": "markdown",
   "id": "a1e0f913",
   "metadata": {},
   "source": [
    "## 13. plot epoch vs accuracy curve"
   ]
  },
  {
   "cell_type": "code",
   "execution_count": null,
   "id": "633d3719",
   "metadata": {},
   "outputs": [],
   "source": []
  },
  {
   "cell_type": "markdown",
   "id": "b61ea7e8",
   "metadata": {},
   "source": [
    "## 14. print the results"
   ]
  },
  {
   "cell_type": "code",
   "execution_count": null,
   "id": "270fb556",
   "metadata": {},
   "outputs": [],
   "source": []
  },
  {
   "cell_type": "code",
   "execution_count": null,
   "id": "67a00fd5",
   "metadata": {},
   "outputs": [],
   "source": []
  },
  {
   "cell_type": "code",
   "execution_count": null,
   "id": "08690f12",
   "metadata": {},
   "outputs": [],
   "source": []
  },
  {
   "cell_type": "code",
   "execution_count": null,
   "id": "3add8ee2",
   "metadata": {},
   "outputs": [],
   "source": []
  },
  {
   "cell_type": "code",
   "execution_count": null,
   "id": "7b89aad5",
   "metadata": {},
   "outputs": [],
   "source": []
  },
  {
   "cell_type": "markdown",
   "id": "1a7fc6e0",
   "metadata": {},
   "source": [
    "Sources:\n",
    "\n",
    "https://www.freecodecamp.org/news/deep-learning-neural-networks-explained-in-plain-english/#:~:text=Neurons%20in%20deep%20learning%20models,They%20perform%20some%20calculations.\n",
    "\n",
    "https://www.v7labs.com/blog/neural-network-architectures-guide\n",
    "\n",
    "https://towardsdatascience.com/activation-functions-neural-networks-1cbd9f8d91d6\n",
    "\n",
    "https://medium.com/@cmukesh8688/activation-functions-sigmoid-tanh-relu-leaky-relu-softmax-50d3778dcea5"
   ]
  },
  {
   "cell_type": "code",
   "execution_count": null,
   "id": "bc31acdd",
   "metadata": {},
   "outputs": [],
   "source": []
  }
 ],
 "metadata": {
  "kernelspec": {
   "display_name": "Python 3 (ipykernel)",
   "language": "python",
   "name": "python3"
  },
  "language_info": {
   "codemirror_mode": {
    "name": "ipython",
    "version": 3
   },
   "file_extension": ".py",
   "mimetype": "text/x-python",
   "name": "python",
   "nbconvert_exporter": "python",
   "pygments_lexer": "ipython3",
   "version": "3.7.11"
  },
  "latex_envs": {
   "LaTeX_envs_menu_present": true,
   "autoclose": false,
   "autocomplete": true,
   "bibliofile": "biblio.bib",
   "cite_by": "apalike",
   "current_citInitial": 1,
   "eqLabelWithNumbers": true,
   "eqNumInitial": 1,
   "hotkeys": {
    "equation": "Ctrl-E",
    "itemize": "Ctrl-I"
   },
   "labels_anchors": false,
   "latex_user_defs": false,
   "report_style_numbering": false,
   "user_envs_cfg": false
  },
  "toc": {
   "base_numbering": 1,
   "nav_menu": {},
   "number_sections": true,
   "sideBar": true,
   "skip_h1_title": false,
   "title_cell": "Table of Contents",
   "title_sidebar": "Contents",
   "toc_cell": false,
   "toc_position": {},
   "toc_section_display": true,
   "toc_window_display": false
  },
  "varInspector": {
   "cols": {
    "lenName": 16,
    "lenType": 16,
    "lenVar": 40
   },
   "kernels_config": {
    "python": {
     "delete_cmd_postfix": "",
     "delete_cmd_prefix": "del ",
     "library": "var_list.py",
     "varRefreshCmd": "print(var_dic_list())"
    },
    "r": {
     "delete_cmd_postfix": ") ",
     "delete_cmd_prefix": "rm(",
     "library": "var_list.r",
     "varRefreshCmd": "cat(var_dic_list()) "
    }
   },
   "types_to_exclude": [
    "module",
    "function",
    "builtin_function_or_method",
    "instance",
    "_Feature"
   ],
   "window_display": false
  }
 },
 "nbformat": 4,
 "nbformat_minor": 5
}
