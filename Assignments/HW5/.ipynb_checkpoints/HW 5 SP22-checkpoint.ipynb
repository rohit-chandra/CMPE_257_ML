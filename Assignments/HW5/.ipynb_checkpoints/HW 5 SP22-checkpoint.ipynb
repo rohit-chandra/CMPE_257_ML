{
 "cells": [
  {
   "cell_type": "markdown",
   "id": "a32301db",
   "metadata": {},
   "source": [
    "# Neural Networks"
   ]
  },
  {
   "cell_type": "markdown",
   "id": "f3e3b67f",
   "metadata": {},
   "source": [
    "## 1. What are Neurons?"
   ]
  },
  {
   "cell_type": "code",
   "execution_count": null,
   "id": "e19e1146",
   "metadata": {},
   "outputs": [],
   "source": [
    "What is a Neuron in Biology?\n",
    "Neurons in deep learning were inspired by neurons in the human brain. Here is a diagram of the anatomy of a brain neuron:"
   ]
  },
  {
   "cell_type": "code",
   "execution_count": null,
   "id": "2d828ca0",
   "metadata": {},
   "outputs": [],
   "source": []
  },
  {
   "cell_type": "code",
   "execution_count": null,
   "id": "3d4e25b5",
   "metadata": {},
   "outputs": [],
   "source": []
  },
  {
   "cell_type": "markdown",
   "id": "bd8e8f04",
   "metadata": {},
   "source": [
    "## 2. Explain the architecture of a neural network"
   ]
  },
  {
   "cell_type": "code",
   "execution_count": null,
   "id": "f9b5a145",
   "metadata": {},
   "outputs": [],
   "source": []
  },
  {
   "cell_type": "code",
   "execution_count": null,
   "id": "bafbcb0f",
   "metadata": {},
   "outputs": [],
   "source": []
  },
  {
   "cell_type": "code",
   "execution_count": null,
   "id": "a08a8084",
   "metadata": {},
   "outputs": [],
   "source": []
  },
  {
   "cell_type": "code",
   "execution_count": null,
   "id": "440c316a",
   "metadata": {},
   "outputs": [],
   "source": []
  },
  {
   "cell_type": "markdown",
   "id": "599b6f46",
   "metadata": {},
   "source": [
    "## 3. How many parameters are there in a neural network with 4 hidden layers having 30,25,20,15 neurons each and the input and output layer having 50 and 1 neuron respectively"
   ]
  },
  {
   "cell_type": "markdown",
   "id": "36ea5362",
   "metadata": {},
   "source": [
    "## 4. Explain gradient descent"
   ]
  },
  {
   "cell_type": "markdown",
   "id": "b0708c8e",
   "metadata": {},
   "source": [
    "## 5. What is categorical cross entropy"
   ]
  },
  {
   "cell_type": "markdown",
   "id": "903d176f",
   "metadata": {},
   "source": [
    "## 6. Explain in short the following terms: Relu, Sigmoid, softmax"
   ]
  },
  {
   "cell_type": "markdown",
   "id": "9b0d7108",
   "metadata": {},
   "source": [
    "## 7. Load the mnist dataset"
   ]
  },
  {
   "cell_type": "markdown",
   "id": "f9646ce5",
   "metadata": {},
   "source": [
    "## 8. plot some sample images"
   ]
  },
  {
   "cell_type": "markdown",
   "id": "e4157808",
   "metadata": {},
   "source": [
    "## 9. pre process the target variable to make it binary"
   ]
  },
  {
   "cell_type": "markdown",
   "id": "a228c3dc",
   "metadata": {},
   "source": [
    "## 10. construct a neural network"
   ]
  },
  {
   "cell_type": "markdown",
   "id": "cc51fea4",
   "metadata": {},
   "source": [
    "## 11. plot the network (visualise/summarise)"
   ]
  },
  {
   "cell_type": "markdown",
   "id": "aae59b84",
   "metadata": {},
   "source": [
    "## 12. train the network"
   ]
  },
  {
   "cell_type": "markdown",
   "id": "a1e0f913",
   "metadata": {},
   "source": [
    "## 13. plot epoch vs accuracy curve"
   ]
  },
  {
   "cell_type": "markdown",
   "id": "b61ea7e8",
   "metadata": {},
   "source": [
    "## 14. print the results"
   ]
  }
 ],
 "metadata": {
  "kernelspec": {
   "display_name": "Python 3 (ipykernel)",
   "language": "python",
   "name": "python3"
  },
  "language_info": {
   "codemirror_mode": {
    "name": "ipython",
    "version": 3
   },
   "file_extension": ".py",
   "mimetype": "text/x-python",
   "name": "python",
   "nbconvert_exporter": "python",
   "pygments_lexer": "ipython3",
   "version": "3.7.11"
  },
  "latex_envs": {
   "LaTeX_envs_menu_present": true,
   "autoclose": false,
   "autocomplete": true,
   "bibliofile": "biblio.bib",
   "cite_by": "apalike",
   "current_citInitial": 1,
   "eqLabelWithNumbers": true,
   "eqNumInitial": 1,
   "hotkeys": {
    "equation": "Ctrl-E",
    "itemize": "Ctrl-I"
   },
   "labels_anchors": false,
   "latex_user_defs": false,
   "report_style_numbering": false,
   "user_envs_cfg": false
  },
  "toc": {
   "base_numbering": 1,
   "nav_menu": {},
   "number_sections": true,
   "sideBar": true,
   "skip_h1_title": false,
   "title_cell": "Table of Contents",
   "title_sidebar": "Contents",
   "toc_cell": false,
   "toc_position": {},
   "toc_section_display": true,
   "toc_window_display": false
  },
  "varInspector": {
   "cols": {
    "lenName": 16,
    "lenType": 16,
    "lenVar": 40
   },
   "kernels_config": {
    "python": {
     "delete_cmd_postfix": "",
     "delete_cmd_prefix": "del ",
     "library": "var_list.py",
     "varRefreshCmd": "print(var_dic_list())"
    },
    "r": {
     "delete_cmd_postfix": ") ",
     "delete_cmd_prefix": "rm(",
     "library": "var_list.r",
     "varRefreshCmd": "cat(var_dic_list()) "
    }
   },
   "types_to_exclude": [
    "module",
    "function",
    "builtin_function_or_method",
    "instance",
    "_Feature"
   ],
   "window_display": false
  }
 },
 "nbformat": 4,
 "nbformat_minor": 5
}
