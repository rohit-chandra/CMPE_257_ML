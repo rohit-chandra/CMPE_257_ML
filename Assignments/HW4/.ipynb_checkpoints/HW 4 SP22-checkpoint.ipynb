{
 "cells": [
  {
   "cell_type": "markdown",
   "id": "782b58d7",
   "metadata": {},
   "source": [
    "import matplotlib.pyplot as plt\n",
    "import plotly.express as px\n",
    "import pandas as pd\n",
    "# ^^^ pyforest auto-imports - don't write above this line\n",
    "# Classification Algorithms: Logistic Regression and Support Vector Machine"
   ]
  },
  {
   "cell_type": "markdown",
   "id": "1ca4935c",
   "metadata": {},
   "source": [
    "## 1 Explain what is classification and how it is different from regression"
   ]
  },
  {
   "cell_type": "markdown",
   "id": "294fb748",
   "metadata": {},
   "source": [
    "**Classification** is the process of finding a model that separates input data into multiple discrete classes or labels. In other words, a classification problem determines whether or not an input value can be part of a pre-identified group.\n",
    "\n",
    "Consider the same dataset of all the students at a university. A classification task would be to use parameters, such as a student’s weight, major, and diet, to determine whether they fall into the “Above Average” or “Below Average” category. Note that there are only two discrete labels in which the data is classified.\n",
    "\n",
    "A classification algorithm is evaluated by computing the accuracy with which it correctly classified its input.\n",
    "\n"
   ]
  },
  {
   "cell_type": "markdown",
   "id": "7c788d30",
   "metadata": {},
   "source": [
    "![](images/diff.JPG)"
   ]
  },
  {
   "cell_type": "markdown",
   "id": "b739a43f",
   "metadata": {},
   "source": [
    "#### The following are the differences between regression and classification\n",
    "\n",
    "\n",
    "The **main difference between Regression and Classification algorithms** that **Regression algorithms** are used to predict the continuous values such as price, salary, age, etc. and **Classification algorithms** are used to predict/Classify the discrete values such as Male or Female, True or False, Spam or Not Spam, etc."
   ]
  },
  {
   "cell_type": "markdown",
   "id": "76030af9",
   "metadata": {},
   "source": [
    "![](images/difference.JPG)"
   ]
  },
  {
   "cell_type": "markdown",
   "id": "69ca8723",
   "metadata": {},
   "source": [
    "## 2 Explain what is Logistic regression, its working and how it is different from linear regression"
   ]
  },
  {
   "cell_type": "markdown",
   "id": "6c666868",
   "metadata": {},
   "source": [
    "+ This type of statistical analysis (also known as **logit model**) is often used for predictive analytics and modeling, and extends to applications in machine learning. In this analytics approach, the dependent variable is finite or categorical: either A or B (binary regression) or a range of finite options A, B, C or D (multinomial regression). It is used in statistical software to understand the relationship between the dependent variable and one or more independent variables by estimating probabilities using a logistic regression equation.\n",
    "\n",
    "\n",
    "+ This type of analysis can help you **predict the likelihood of an event happening or a choice being made.** For example, you may want to know the likelihood of a visitor choosing an offer made on your website — or not (dependent variable). Your analysis can look at known characteristics of visitors, such as sites they came from, repeat visits to your site, behavior on your site (independent variables).\n",
    "\n",
    "\n",
    "+ **Logistic regression** models help you determine a probability of what type of visitors are likely to accept the offer — or not. As a result, you can make better decisions about promoting your offer or make decisions about the offer itself."
   ]
  },
  {
   "cell_type": "markdown",
   "id": "58ec05be",
   "metadata": {},
   "source": [
    "**How does Logistic Regression Work?**\n",
    "\n",
    "The logistic regression equation is quite similar to the linear regression model.\n",
    "\n",
    "Consider we have a model with one predictor “x” and one Bernoulli response variable “ŷ” and p is the probability of ŷ=1. The linear equation can be written as:"
   ]
  },
  {
   "cell_type": "markdown",
   "id": "113df3dd",
   "metadata": {},
   "source": [
    "![](images/1.JPG)"
   ]
  },
  {
   "cell_type": "markdown",
   "id": "04ccc5f4",
   "metadata": {},
   "source": [
    "+ The right-hand side of the equation (b0+b1x) is a linear equation and can hold values that exceed the range (0,1). But we know probability will always be in the range of (0,1).\n",
    "\n",
    "\n",
    "+ To overcome that, we predict odds instead of probability.\n",
    "\n",
    "\n",
    "+ **Odds: The ratio of the probability of an event occurring to the probability of an event not occurring.**\n",
    "\n",
    "\n",
    "+ **Odds = p/(1-p)**\n",
    "\n",
    "\n",
    "+ The equation 1 can be re-written as:"
   ]
  },
  {
   "cell_type": "markdown",
   "id": "831a4ec0",
   "metadata": {},
   "source": [
    "![](images/2.JPG)"
   ]
  },
  {
   "cell_type": "markdown",
   "id": "304533df",
   "metadata": {},
   "source": [
    "+ Odds can only be a positive value, to tackle the negative numbers, we predict the **logarithm of odds.**\n",
    "\n",
    "\n",
    "+ **Log of odds = ln(p/(1-p))**\n",
    "\n",
    "\n",
    "+ The equation 2 can be re-written as:"
   ]
  },
  {
   "cell_type": "markdown",
   "id": "6b24b92c",
   "metadata": {},
   "source": [
    "![](images/3.JPG)"
   ]
  },
  {
   "cell_type": "markdown",
   "id": "f0892f47",
   "metadata": {},
   "source": [
    "+ To recover p from equation 3, we apply exponential on both sides."
   ]
  },
  {
   "cell_type": "markdown",
   "id": "34d517c8",
   "metadata": {},
   "source": [
    "![](images/4.JPG)"
   ]
  },
  {
   "cell_type": "markdown",
   "id": "95595003",
   "metadata": {},
   "source": [
    "+ From the inverse rule of logarithms,"
   ]
  },
  {
   "cell_type": "markdown",
   "id": "a7b7c178",
   "metadata": {},
   "source": [
    "![](images/5.JPG)"
   ]
  },
  {
   "cell_type": "markdown",
   "id": "546bf8a5",
   "metadata": {},
   "source": [
    "+ Simple algebraic manipulations"
   ]
  },
  {
   "cell_type": "markdown",
   "id": "c8d67e13",
   "metadata": {},
   "source": [
    "![](images/6.JPG)"
   ]
  },
  {
   "cell_type": "markdown",
   "id": "82491c2e",
   "metadata": {},
   "source": [
    "+ Taking p as common on the right-hand side"
   ]
  },
  {
   "cell_type": "markdown",
   "id": "3ded96f3",
   "metadata": {},
   "source": [
    "![](images/7.JPG)"
   ]
  },
  {
   "cell_type": "markdown",
   "id": "1bb75212",
   "metadata": {},
   "source": [
    "+ Dividing numerator and denominator by e(b0+b1x) on the right-hand side"
   ]
  },
  {
   "cell_type": "markdown",
   "id": "a65f5ef0",
   "metadata": {},
   "source": [
    "![](images/9.JPG)"
   ]
  },
  {
   "cell_type": "markdown",
   "id": "f81202f0",
   "metadata": {},
   "source": [
    "+ Similarly, the equation for a logistic model with ‘n’ predictors is as below:"
   ]
  },
  {
   "cell_type": "markdown",
   "id": "d5db0328",
   "metadata": {},
   "source": [
    "![](images/10.JPG)"
   ]
  },
  {
   "cell_type": "markdown",
   "id": "14963331",
   "metadata": {},
   "source": [
    "+ The right side part is the sigmoid function. It helps to squeeze the output to be in the range between 0 and 1."
   ]
  },
  {
   "cell_type": "markdown",
   "id": "4b3179bc",
   "metadata": {},
   "source": [
    "**Sigmoid Function:**\n",
    "\n",
    "+ The sigmoid function is useful to map any predicted values of probabilities into another value between 0 and 1."
   ]
  },
  {
   "cell_type": "markdown",
   "id": "544facc1",
   "metadata": {},
   "source": [
    "![](images/sigmoid.JPG)"
   ]
  },
  {
   "cell_type": "markdown",
   "id": "71c74727",
   "metadata": {},
   "source": [
    "+ We started with a linear equation and ended up with a logistic regression model with the help of a sigmoid function.\n",
    "\n",
    "    + **Linear model: ŷ = b0+b1x**\n",
    "\n",
    "    + **Sigmoid function: σ(z) = 1/(1+e−z)**\n",
    "\n",
    "    + **Logistic regression model: ŷ = σ(b0+b1x) = 1/(1+e-(b0+b1x))**\n",
    "    \n",
    "\n",
    "+ So, unlike linear regression, **we get an ‘S’ shaped curve** in logistic regression."
   ]
  },
  {
   "cell_type": "markdown",
   "id": "7fe009a5",
   "metadata": {},
   "source": [
    "![](images/sigmoid1.JPG)"
   ]
  },
  {
   "cell_type": "markdown",
   "id": "4bef64f5",
   "metadata": {},
   "source": [
    "## 3 Explain what is Linear SVM and its working"
   ]
  },
  {
   "cell_type": "markdown",
   "id": "4c3fe38a",
   "metadata": {},
   "source": [
    "+ **SVM or Support Vector Machine:** is a linear model for classification and regression problems. It can solve linear and non-linear problems and work well for many practical problems.\n",
    "\n",
    "+ The idea of SVM is simple: The algorithm creates **a line or a hyperplane which separates the data into classes.**"
   ]
  },
  {
   "cell_type": "markdown",
   "id": "bf6ea3f0",
   "metadata": {},
   "source": [
    "![](images/svm.JPG)"
   ]
  },
  {
   "cell_type": "markdown",
   "id": "c622a58d",
   "metadata": {},
   "source": [
    "**THEORY:**\n",
    "\n",
    "+ At first approximation what SVMs do is to find a separating line(or hyperplane) between data of two classes. SVM is an algorithm that takes the data as an input and outputs a line that separates those classes if possible.\n",
    "\n",
    "\n",
    "+ Lets begin with a problem. Suppose you have a dataset as shown below and you need to classify the red rectangles from the blue ellipses(let’s say positives from the negatives). So your task is to find an ideal line that separates this dataset in two classes (say red and blue)."
   ]
  },
  {
   "cell_type": "markdown",
   "id": "34543861",
   "metadata": {},
   "source": [
    "![](images/svm2.JPG)"
   ]
  },
  {
   "cell_type": "markdown",
   "id": "2a066c43",
   "metadata": {},
   "source": [
    "+ Not a big task, right?\n",
    "\n",
    "\n",
    "+ But, as you notice there isn’t a unique line that does the job. In fact, we have an infinite lines that can separate these two classes. So how does SVM find the ideal one???\n",
    "Let’s take some probable candidates and figure it out ourselves."
   ]
  },
  {
   "cell_type": "markdown",
   "id": "4444d0c7",
   "metadata": {},
   "source": [
    "![](images/svm3.JPG)"
   ]
  },
  {
   "cell_type": "markdown",
   "id": "2461749b",
   "metadata": {},
   "source": [
    "+ We have two candidates here, the green colored line and the yellow colored line. Which line according to you best separates the data?\n",
    "\n",
    "\n",
    "+ If you selected the yellow line then congrats, because thats the line we are looking for. It’s visually quite intuitive in this case that the yellow line classifies better. But, we need something concrete to fix our line.\n",
    "\n",
    "\n",
    "+ The green line in the image above is quite close to the red class. Though it classifies the current datasets it is not a generalized line and in machine learning our goal is to get a more generalized separator."
   ]
  },
  {
   "cell_type": "markdown",
   "id": "0550365c",
   "metadata": {},
   "source": [
    "**SVM’s way to find the best line**"
   ]
  },
  {
   "cell_type": "markdown",
   "id": "9e25e817",
   "metadata": {},
   "source": [
    "+ According to the SVM algorithm we find the points closest to the line from both the classes.These points are called support vectors. Now, we compute the distance between the line and the support vectors. This distance is called the margin. \n",
    "\n",
    "\n",
    "+ Our goal is to maximize the margin. The hyperplane for which the margin is maximum is the optimal hyperplane."
   ]
  },
  {
   "cell_type": "markdown",
   "id": "cad7ba0d",
   "metadata": {},
   "source": [
    "![](images/svm4.JPG)"
   ]
  },
  {
   "cell_type": "markdown",
   "id": "fe409036",
   "metadata": {},
   "source": [
    "Thus SVM tries to make a decision boundary in such a way that the separation between the two classes(that street) is as wide as possible.\n"
   ]
  },
  {
   "cell_type": "markdown",
   "id": "6a3e25a7",
   "metadata": {},
   "source": [
    "## 4 What do you mean by kernel functions?"
   ]
  },
  {
   "cell_type": "markdown",
   "id": "42c9f6ce",
   "metadata": {},
   "source": [
    "+ Kernel is a way of computing the dot product of two vectors x and y in some (possibly very high dimensional) feature space, which is why kernel functions are sometimes called \"generalized dot product\".\n",
    "\n",
    "+ In machine learning, a “kernel” is usually used to refer to the kernel trick, a method of using a linear classifier to solve a non-linear problem. It entails transforming linearly inseparable data like (Fig. 3) to linearly separable ones (Fig. 2). The kernel function is what is applied on each data instance to map the original non-linear observations into a higher-dimensional space in which they become separable."
   ]
  },
  {
   "cell_type": "markdown",
   "id": "3e00915b",
   "metadata": {},
   "source": [
    "![](images/kernal2.JPG)"
   ]
  },
  {
   "cell_type": "markdown",
   "id": "f32eaff8",
   "metadata": {},
   "source": [
    "![](images/kernal1.JPG)"
   ]
  },
  {
   "cell_type": "markdown",
   "id": "7b38bf77",
   "metadata": {
    "ExecuteTime": {
     "end_time": "2022-02-27T21:09:08.152700Z",
     "start_time": "2022-02-27T21:09:08.133733Z"
    }
   },
   "source": [
    "Consider the following dataset where the yellow and blue points are clearly not linearly separable in two dimensions."
   ]
  },
  {
   "cell_type": "markdown",
   "id": "e965414e",
   "metadata": {},
   "source": [
    "![](images/kernal3.JPG)"
   ]
  },
  {
   "cell_type": "markdown",
   "id": "b902fb4d",
   "metadata": {},
   "source": [
    "If we could find a higher dimensional space in which these points were linearly separable, then we could do the following:\n",
    "\n",
    "+ Map the original features to the higher, transformer space (feature mapping)\n",
    "\n",
    "+ Perform linear SVM in this higher space\n",
    "\n",
    "+ Obtain a set of weights corresponding to the decision boundary hyperplane\n",
    "\n",
    "+ Map this hyperplane back into the original 2D space to obtain a non linear decision boundary\n",
    "\n",
    "\n",
    "There are many higher dimensional spaces in which these points are linearly separable."
   ]
  },
  {
   "cell_type": "markdown",
   "id": "e69d808d",
   "metadata": {},
   "source": [
    "**Visualizing the feature map and the resulting boundary line**"
   ]
  },
  {
   "cell_type": "markdown",
   "id": "edf0fa50",
   "metadata": {},
   "source": [
    "+ Left-hand side plot shows the points plotted in the transformed space together with the SVM linear boundary hyperplane\n",
    "\n",
    "\n",
    "+ Right-hand side plot shows the result in the original 2-D space"
   ]
  },
  {
   "cell_type": "markdown",
   "id": "7b82db3c",
   "metadata": {},
   "source": [
    "![](images/kernal4.JPG)"
   ]
  },
  {
   "cell_type": "markdown",
   "id": "c77d3934",
   "metadata": {},
   "source": [
    "## 5 Discuss how SVM makes use of kernel functions"
   ]
  },
  {
   "cell_type": "markdown",
   "id": "cfab8f0e",
   "metadata": {},
   "source": [
    "+ Briefly speaking, a **kernel is a shortcut that helps us do certain calculation faster which otherwise would involve computations in higher dimensional space.**\n",
    "\n",
    "\n",
    "+ **Mathematical definition:** K(x, y) = <f(x), f(y)>. Here K is the kernel function, x, y are n dimensional inputs. f is a map from n-dimension to m-dimension space. < x,y> denotes the dot product. usually m is much larger than n.\n",
    "\n",
    "\n",
    "+ **Intuition:** normally calculating <f(x), f(y)> requires us to calculate f(x), f(y) first, and then do the dot product. These two computation steps can be quite expensive as they involve manipulations in m dimensional space, where m can be a large number. But after all the trouble of going to the high dimensional space, the result of the dot product is really a scalar: we come back to one-dimensional space again! Now, the question we have is: do we really need to go through all the trouble to get this one number? do we really have to go to the m-dimensional space? The answer is no, if you find a clever kernel."
   ]
  },
  {
   "cell_type": "markdown",
   "id": "ee2669c1",
   "metadata": {},
   "source": [
    "![](images/kernal5.JPG)"
   ]
  },
  {
   "cell_type": "markdown",
   "id": "c270275f",
   "metadata": {},
   "source": [
    "+ **Additional beauty of Kernel:** kernels allow us to do stuff in infinite dimensions! Sometimes going to higher dimension is not just computationally expensive, but also impossible. f(x) can be a mapping from n dimension to infinite dimension which we may have little idea of how to deal with. Then kernel gives us a wonderful shortcut."
   ]
  },
  {
   "cell_type": "markdown",
   "id": "8d75995e",
   "metadata": {},
   "source": [
    "+ **Relation to SVM: now how is related to SVM?** The idea of SVM is that y = w phi(x) +b, where w is the weight, phi is the feature vector, and b is the bias. if y> 0, then we classify datum to class 1, else to class 0. We want to find a set of weight and bias such that the margin is maximized. Previous answers mention that kernel makes data linearly separable for SVM. I think a more precise way to put this is, kernels do not make the data linearly separable. The feature vector phi(x) makes the data linearly separable. Kernel is to make the calculation process faster and easier, especially when the feature vector phi is of very high dimension (for example, x1, x2, x3, ..., x_D^n, x1^2, x2^2, ...., x_D^2).\n",
    "\n",
    "\n",
    "+ **Why it can also be understood as a measure of similarity:**\n",
    "if we put the definition of kernel above, <f(x), f(y)>, in the context of SVM and feature vectors, it becomes <phi(x), phi(y)>. The inner product means the projection of phi(x) onto phi(y). or colloquially, how much overlap do x and y have in their feature space. In other words, how similar they are."
   ]
  },
  {
   "cell_type": "code",
   "execution_count": null,
   "id": "a3cd6363",
   "metadata": {},
   "outputs": [],
   "source": []
  },
  {
   "cell_type": "markdown",
   "id": "f8046cdb",
   "metadata": {},
   "source": [
    "## 6 Discuss the following terms: Accuracy, Precision, Recall, F1 score, Specificity, Sensitivity, AUROC, PRAUC"
   ]
  },
  {
   "cell_type": "code",
   "execution_count": null,
   "id": "89dbdd8c",
   "metadata": {},
   "outputs": [],
   "source": []
  },
  {
   "cell_type": "code",
   "execution_count": null,
   "id": "1ac5aad4",
   "metadata": {},
   "outputs": [],
   "source": []
  },
  {
   "cell_type": "code",
   "execution_count": null,
   "id": "b78f5a7e",
   "metadata": {},
   "outputs": [],
   "source": []
  },
  {
   "cell_type": "code",
   "execution_count": null,
   "id": "d2ba55cc",
   "metadata": {},
   "outputs": [],
   "source": []
  },
  {
   "cell_type": "code",
   "execution_count": null,
   "id": "da101a3f",
   "metadata": {},
   "outputs": [],
   "source": []
  },
  {
   "cell_type": "code",
   "execution_count": null,
   "id": "033abb66",
   "metadata": {},
   "outputs": [],
   "source": []
  },
  {
   "cell_type": "code",
   "execution_count": null,
   "id": "6185f520",
   "metadata": {},
   "outputs": [],
   "source": []
  },
  {
   "cell_type": "markdown",
   "id": "6c55cc5b",
   "metadata": {},
   "source": [
    "## 7 perform classification on zoo dataset from kaggle using logistic regression after performing appropriate data pre processing and hyper parameter tuning and evaluate using the technique you feel is fit for this task and give your comments."
   ]
  },
  {
   "cell_type": "code",
   "execution_count": 98,
   "id": "c23e359e",
   "metadata": {
    "ExecuteTime": {
     "end_time": "2022-02-28T02:40:49.621688Z",
     "start_time": "2022-02-28T02:40:49.611714Z"
    }
   },
   "outputs": [],
   "source": [
    "import pandas as pd\n",
    "import seaborn as sns\n",
    "from sklearn.linear_model import LogisticRegression\n",
    "from sklearn.model_selection import train_test_split, KFold, cross_validate\n",
    "from sklearn.metrics import classification_report, confusion_matrix, accuracy_score"
   ]
  },
  {
   "cell_type": "code",
   "execution_count": 64,
   "id": "f796d6fc",
   "metadata": {
    "ExecuteTime": {
     "end_time": "2022-02-28T02:33:07.688821Z",
     "start_time": "2022-02-28T02:33:07.675595Z"
    }
   },
   "outputs": [],
   "source": [
    "#save the csv in a dataframe\n",
    "zoo_df = pd.read_csv(\"D:/Masters/SJSU/Academics/sem_2/CMPE_257_ML/Assignments/HW4/Data/zoo.csv\")\n"
   ]
  },
  {
   "cell_type": "code",
   "execution_count": 65,
   "id": "eb25d0f4",
   "metadata": {
    "ExecuteTime": {
     "end_time": "2022-02-28T02:33:07.906969Z",
     "start_time": "2022-02-28T02:33:07.878038Z"
    }
   },
   "outputs": [
    {
     "data": {
      "text/html": [
       "<div>\n",
       "<style scoped>\n",
       "    .dataframe tbody tr th:only-of-type {\n",
       "        vertical-align: middle;\n",
       "    }\n",
       "\n",
       "    .dataframe tbody tr th {\n",
       "        vertical-align: top;\n",
       "    }\n",
       "\n",
       "    .dataframe thead th {\n",
       "        text-align: right;\n",
       "    }\n",
       "</style>\n",
       "<table border=\"1\" class=\"dataframe\">\n",
       "  <thead>\n",
       "    <tr style=\"text-align: right;\">\n",
       "      <th></th>\n",
       "      <th>animal_name</th>\n",
       "      <th>hair</th>\n",
       "      <th>feathers</th>\n",
       "      <th>eggs</th>\n",
       "      <th>milk</th>\n",
       "      <th>airborne</th>\n",
       "      <th>aquatic</th>\n",
       "      <th>predator</th>\n",
       "      <th>toothed</th>\n",
       "      <th>backbone</th>\n",
       "      <th>breathes</th>\n",
       "      <th>venomous</th>\n",
       "      <th>fins</th>\n",
       "      <th>legs</th>\n",
       "      <th>tail</th>\n",
       "      <th>domestic</th>\n",
       "      <th>catsize</th>\n",
       "      <th>class_type</th>\n",
       "    </tr>\n",
       "  </thead>\n",
       "  <tbody>\n",
       "    <tr>\n",
       "      <th>0</th>\n",
       "      <td>aardvark</td>\n",
       "      <td>1</td>\n",
       "      <td>0</td>\n",
       "      <td>0</td>\n",
       "      <td>1</td>\n",
       "      <td>0</td>\n",
       "      <td>0</td>\n",
       "      <td>1</td>\n",
       "      <td>1</td>\n",
       "      <td>1</td>\n",
       "      <td>1</td>\n",
       "      <td>0</td>\n",
       "      <td>0</td>\n",
       "      <td>4</td>\n",
       "      <td>0</td>\n",
       "      <td>0</td>\n",
       "      <td>1</td>\n",
       "      <td>1</td>\n",
       "    </tr>\n",
       "    <tr>\n",
       "      <th>1</th>\n",
       "      <td>antelope</td>\n",
       "      <td>1</td>\n",
       "      <td>0</td>\n",
       "      <td>0</td>\n",
       "      <td>1</td>\n",
       "      <td>0</td>\n",
       "      <td>0</td>\n",
       "      <td>0</td>\n",
       "      <td>1</td>\n",
       "      <td>1</td>\n",
       "      <td>1</td>\n",
       "      <td>0</td>\n",
       "      <td>0</td>\n",
       "      <td>4</td>\n",
       "      <td>1</td>\n",
       "      <td>0</td>\n",
       "      <td>1</td>\n",
       "      <td>1</td>\n",
       "    </tr>\n",
       "    <tr>\n",
       "      <th>2</th>\n",
       "      <td>bass</td>\n",
       "      <td>0</td>\n",
       "      <td>0</td>\n",
       "      <td>1</td>\n",
       "      <td>0</td>\n",
       "      <td>0</td>\n",
       "      <td>1</td>\n",
       "      <td>1</td>\n",
       "      <td>1</td>\n",
       "      <td>1</td>\n",
       "      <td>0</td>\n",
       "      <td>0</td>\n",
       "      <td>1</td>\n",
       "      <td>0</td>\n",
       "      <td>1</td>\n",
       "      <td>0</td>\n",
       "      <td>0</td>\n",
       "      <td>4</td>\n",
       "    </tr>\n",
       "    <tr>\n",
       "      <th>3</th>\n",
       "      <td>bear</td>\n",
       "      <td>1</td>\n",
       "      <td>0</td>\n",
       "      <td>0</td>\n",
       "      <td>1</td>\n",
       "      <td>0</td>\n",
       "      <td>0</td>\n",
       "      <td>1</td>\n",
       "      <td>1</td>\n",
       "      <td>1</td>\n",
       "      <td>1</td>\n",
       "      <td>0</td>\n",
       "      <td>0</td>\n",
       "      <td>4</td>\n",
       "      <td>0</td>\n",
       "      <td>0</td>\n",
       "      <td>1</td>\n",
       "      <td>1</td>\n",
       "    </tr>\n",
       "    <tr>\n",
       "      <th>4</th>\n",
       "      <td>boar</td>\n",
       "      <td>1</td>\n",
       "      <td>0</td>\n",
       "      <td>0</td>\n",
       "      <td>1</td>\n",
       "      <td>0</td>\n",
       "      <td>0</td>\n",
       "      <td>1</td>\n",
       "      <td>1</td>\n",
       "      <td>1</td>\n",
       "      <td>1</td>\n",
       "      <td>0</td>\n",
       "      <td>0</td>\n",
       "      <td>4</td>\n",
       "      <td>1</td>\n",
       "      <td>0</td>\n",
       "      <td>1</td>\n",
       "      <td>1</td>\n",
       "    </tr>\n",
       "  </tbody>\n",
       "</table>\n",
       "</div>"
      ],
      "text/plain": [
       "  animal_name  hair  feathers  eggs  milk  airborne  aquatic  predator  \\\n",
       "0    aardvark     1         0     0     1         0        0         1   \n",
       "1    antelope     1         0     0     1         0        0         0   \n",
       "2        bass     0         0     1     0         0        1         1   \n",
       "3        bear     1         0     0     1         0        0         1   \n",
       "4        boar     1         0     0     1         0        0         1   \n",
       "\n",
       "   toothed  backbone  breathes  venomous  fins  legs  tail  domestic  catsize  \\\n",
       "0        1         1         1         0     0     4     0         0        1   \n",
       "1        1         1         1         0     0     4     1         0        1   \n",
       "2        1         1         0         0     1     0     1         0        0   \n",
       "3        1         1         1         0     0     4     0         0        1   \n",
       "4        1         1         1         0     0     4     1         0        1   \n",
       "\n",
       "   class_type  \n",
       "0           1  \n",
       "1           1  \n",
       "2           4  \n",
       "3           1  \n",
       "4           1  "
      ]
     },
     "execution_count": 65,
     "metadata": {},
     "output_type": "execute_result"
    }
   ],
   "source": [
    "zoo_df.head()"
   ]
  },
  {
   "cell_type": "code",
   "execution_count": 66,
   "id": "60574f78",
   "metadata": {
    "ExecuteTime": {
     "end_time": "2022-02-28T02:33:08.110673Z",
     "start_time": "2022-02-28T02:33:08.096713Z"
    }
   },
   "outputs": [
    {
     "data": {
      "text/plain": [
       "(101, 18)"
      ]
     },
     "execution_count": 66,
     "metadata": {},
     "output_type": "execute_result"
    }
   ],
   "source": [
    "# shape of the entire dataset\n",
    "zoo_df.shape"
   ]
  },
  {
   "cell_type": "code",
   "execution_count": 67,
   "id": "d1b051ee",
   "metadata": {
    "ExecuteTime": {
     "end_time": "2022-02-28T02:33:08.361068Z",
     "start_time": "2022-02-28T02:33:08.347105Z"
    }
   },
   "outputs": [
    {
     "name": "stdout",
     "output_type": "stream",
     "text": [
      "<class 'pandas.core.frame.DataFrame'>\n",
      "RangeIndex: 101 entries, 0 to 100\n",
      "Data columns (total 18 columns):\n",
      " #   Column       Non-Null Count  Dtype \n",
      "---  ------       --------------  ----- \n",
      " 0   animal_name  101 non-null    object\n",
      " 1   hair         101 non-null    int64 \n",
      " 2   feathers     101 non-null    int64 \n",
      " 3   eggs         101 non-null    int64 \n",
      " 4   milk         101 non-null    int64 \n",
      " 5   airborne     101 non-null    int64 \n",
      " 6   aquatic      101 non-null    int64 \n",
      " 7   predator     101 non-null    int64 \n",
      " 8   toothed      101 non-null    int64 \n",
      " 9   backbone     101 non-null    int64 \n",
      " 10  breathes     101 non-null    int64 \n",
      " 11  venomous     101 non-null    int64 \n",
      " 12  fins         101 non-null    int64 \n",
      " 13  legs         101 non-null    int64 \n",
      " 14  tail         101 non-null    int64 \n",
      " 15  domestic     101 non-null    int64 \n",
      " 16  catsize      101 non-null    int64 \n",
      " 17  class_type   101 non-null    int64 \n",
      "dtypes: int64(17), object(1)\n",
      "memory usage: 14.3+ KB\n"
     ]
    }
   ],
   "source": [
    "zoo_df.info()"
   ]
  },
  {
   "cell_type": "markdown",
   "id": "32d018ff",
   "metadata": {},
   "source": [
    "**Observation:**\n",
    "\n",
    "+ There are no Null values"
   ]
  },
  {
   "cell_type": "code",
   "execution_count": 100,
   "id": "df517fb6",
   "metadata": {
    "ExecuteTime": {
     "end_time": "2022-02-28T03:31:54.979425Z",
     "start_time": "2022-02-28T03:31:54.929524Z"
    }
   },
   "outputs": [
    {
     "data": {
      "text/html": [
       "<div>\n",
       "<style scoped>\n",
       "    .dataframe tbody tr th:only-of-type {\n",
       "        vertical-align: middle;\n",
       "    }\n",
       "\n",
       "    .dataframe tbody tr th {\n",
       "        vertical-align: top;\n",
       "    }\n",
       "\n",
       "    .dataframe thead th {\n",
       "        text-align: right;\n",
       "    }\n",
       "</style>\n",
       "<table border=\"1\" class=\"dataframe\">\n",
       "  <thead>\n",
       "    <tr style=\"text-align: right;\">\n",
       "      <th></th>\n",
       "      <th>feathers</th>\n",
       "      <th>eggs</th>\n",
       "      <th>airborne</th>\n",
       "      <th>aquatic</th>\n",
       "      <th>predator</th>\n",
       "      <th>toothed</th>\n",
       "      <th>backbone</th>\n",
       "      <th>breathes</th>\n",
       "      <th>venomous</th>\n",
       "      <th>fins</th>\n",
       "      <th>legs</th>\n",
       "      <th>tail</th>\n",
       "      <th>domestic</th>\n",
       "      <th>catsize</th>\n",
       "      <th>class_type</th>\n",
       "    </tr>\n",
       "  </thead>\n",
       "  <tbody>\n",
       "    <tr>\n",
       "      <th>count</th>\n",
       "      <td>101.000000</td>\n",
       "      <td>101.000000</td>\n",
       "      <td>101.000000</td>\n",
       "      <td>101.000000</td>\n",
       "      <td>101.000000</td>\n",
       "      <td>101.000000</td>\n",
       "      <td>101.000000</td>\n",
       "      <td>101.000000</td>\n",
       "      <td>101.000000</td>\n",
       "      <td>101.000000</td>\n",
       "      <td>101.000000</td>\n",
       "      <td>101.000000</td>\n",
       "      <td>101.000000</td>\n",
       "      <td>101.000000</td>\n",
       "      <td>101.000000</td>\n",
       "    </tr>\n",
       "    <tr>\n",
       "      <th>mean</th>\n",
       "      <td>0.198020</td>\n",
       "      <td>0.584158</td>\n",
       "      <td>0.237624</td>\n",
       "      <td>0.356436</td>\n",
       "      <td>0.554455</td>\n",
       "      <td>0.603960</td>\n",
       "      <td>0.821782</td>\n",
       "      <td>0.792079</td>\n",
       "      <td>0.079208</td>\n",
       "      <td>0.168317</td>\n",
       "      <td>2.841584</td>\n",
       "      <td>0.742574</td>\n",
       "      <td>0.128713</td>\n",
       "      <td>0.435644</td>\n",
       "      <td>2.831683</td>\n",
       "    </tr>\n",
       "    <tr>\n",
       "      <th>std</th>\n",
       "      <td>0.400495</td>\n",
       "      <td>0.495325</td>\n",
       "      <td>0.427750</td>\n",
       "      <td>0.481335</td>\n",
       "      <td>0.499505</td>\n",
       "      <td>0.491512</td>\n",
       "      <td>0.384605</td>\n",
       "      <td>0.407844</td>\n",
       "      <td>0.271410</td>\n",
       "      <td>0.376013</td>\n",
       "      <td>2.033385</td>\n",
       "      <td>0.439397</td>\n",
       "      <td>0.336552</td>\n",
       "      <td>0.498314</td>\n",
       "      <td>2.102709</td>\n",
       "    </tr>\n",
       "    <tr>\n",
       "      <th>min</th>\n",
       "      <td>0.000000</td>\n",
       "      <td>0.000000</td>\n",
       "      <td>0.000000</td>\n",
       "      <td>0.000000</td>\n",
       "      <td>0.000000</td>\n",
       "      <td>0.000000</td>\n",
       "      <td>0.000000</td>\n",
       "      <td>0.000000</td>\n",
       "      <td>0.000000</td>\n",
       "      <td>0.000000</td>\n",
       "      <td>0.000000</td>\n",
       "      <td>0.000000</td>\n",
       "      <td>0.000000</td>\n",
       "      <td>0.000000</td>\n",
       "      <td>1.000000</td>\n",
       "    </tr>\n",
       "    <tr>\n",
       "      <th>25%</th>\n",
       "      <td>0.000000</td>\n",
       "      <td>0.000000</td>\n",
       "      <td>0.000000</td>\n",
       "      <td>0.000000</td>\n",
       "      <td>0.000000</td>\n",
       "      <td>0.000000</td>\n",
       "      <td>1.000000</td>\n",
       "      <td>1.000000</td>\n",
       "      <td>0.000000</td>\n",
       "      <td>0.000000</td>\n",
       "      <td>2.000000</td>\n",
       "      <td>0.000000</td>\n",
       "      <td>0.000000</td>\n",
       "      <td>0.000000</td>\n",
       "      <td>1.000000</td>\n",
       "    </tr>\n",
       "    <tr>\n",
       "      <th>50%</th>\n",
       "      <td>0.000000</td>\n",
       "      <td>1.000000</td>\n",
       "      <td>0.000000</td>\n",
       "      <td>0.000000</td>\n",
       "      <td>1.000000</td>\n",
       "      <td>1.000000</td>\n",
       "      <td>1.000000</td>\n",
       "      <td>1.000000</td>\n",
       "      <td>0.000000</td>\n",
       "      <td>0.000000</td>\n",
       "      <td>4.000000</td>\n",
       "      <td>1.000000</td>\n",
       "      <td>0.000000</td>\n",
       "      <td>0.000000</td>\n",
       "      <td>2.000000</td>\n",
       "    </tr>\n",
       "    <tr>\n",
       "      <th>75%</th>\n",
       "      <td>0.000000</td>\n",
       "      <td>1.000000</td>\n",
       "      <td>0.000000</td>\n",
       "      <td>1.000000</td>\n",
       "      <td>1.000000</td>\n",
       "      <td>1.000000</td>\n",
       "      <td>1.000000</td>\n",
       "      <td>1.000000</td>\n",
       "      <td>0.000000</td>\n",
       "      <td>0.000000</td>\n",
       "      <td>4.000000</td>\n",
       "      <td>1.000000</td>\n",
       "      <td>0.000000</td>\n",
       "      <td>1.000000</td>\n",
       "      <td>4.000000</td>\n",
       "    </tr>\n",
       "    <tr>\n",
       "      <th>max</th>\n",
       "      <td>1.000000</td>\n",
       "      <td>1.000000</td>\n",
       "      <td>1.000000</td>\n",
       "      <td>1.000000</td>\n",
       "      <td>1.000000</td>\n",
       "      <td>1.000000</td>\n",
       "      <td>1.000000</td>\n",
       "      <td>1.000000</td>\n",
       "      <td>1.000000</td>\n",
       "      <td>1.000000</td>\n",
       "      <td>8.000000</td>\n",
       "      <td>1.000000</td>\n",
       "      <td>1.000000</td>\n",
       "      <td>1.000000</td>\n",
       "      <td>7.000000</td>\n",
       "    </tr>\n",
       "  </tbody>\n",
       "</table>\n",
       "</div>"
      ],
      "text/plain": [
       "         feathers        eggs    airborne     aquatic    predator     toothed  \\\n",
       "count  101.000000  101.000000  101.000000  101.000000  101.000000  101.000000   \n",
       "mean     0.198020    0.584158    0.237624    0.356436    0.554455    0.603960   \n",
       "std      0.400495    0.495325    0.427750    0.481335    0.499505    0.491512   \n",
       "min      0.000000    0.000000    0.000000    0.000000    0.000000    0.000000   \n",
       "25%      0.000000    0.000000    0.000000    0.000000    0.000000    0.000000   \n",
       "50%      0.000000    1.000000    0.000000    0.000000    1.000000    1.000000   \n",
       "75%      0.000000    1.000000    0.000000    1.000000    1.000000    1.000000   \n",
       "max      1.000000    1.000000    1.000000    1.000000    1.000000    1.000000   \n",
       "\n",
       "         backbone    breathes    venomous        fins        legs        tail  \\\n",
       "count  101.000000  101.000000  101.000000  101.000000  101.000000  101.000000   \n",
       "mean     0.821782    0.792079    0.079208    0.168317    2.841584    0.742574   \n",
       "std      0.384605    0.407844    0.271410    0.376013    2.033385    0.439397   \n",
       "min      0.000000    0.000000    0.000000    0.000000    0.000000    0.000000   \n",
       "25%      1.000000    1.000000    0.000000    0.000000    2.000000    0.000000   \n",
       "50%      1.000000    1.000000    0.000000    0.000000    4.000000    1.000000   \n",
       "75%      1.000000    1.000000    0.000000    0.000000    4.000000    1.000000   \n",
       "max      1.000000    1.000000    1.000000    1.000000    8.000000    1.000000   \n",
       "\n",
       "         domestic     catsize  class_type  \n",
       "count  101.000000  101.000000  101.000000  \n",
       "mean     0.128713    0.435644    2.831683  \n",
       "std      0.336552    0.498314    2.102709  \n",
       "min      0.000000    0.000000    1.000000  \n",
       "25%      0.000000    0.000000    1.000000  \n",
       "50%      0.000000    0.000000    2.000000  \n",
       "75%      0.000000    1.000000    4.000000  \n",
       "max      1.000000    1.000000    7.000000  "
      ]
     },
     "execution_count": 100,
     "metadata": {},
     "output_type": "execute_result"
    }
   ],
   "source": [
    "# summary of the dataset\n",
    "\n",
    "zoo_df.describe()"
   ]
  },
  {
   "cell_type": "code",
   "execution_count": 69,
   "id": "7e973812",
   "metadata": {
    "ExecuteTime": {
     "end_time": "2022-02-28T02:33:08.928549Z",
     "start_time": "2022-02-28T02:33:08.915612Z"
    }
   },
   "outputs": [
    {
     "data": {
      "text/plain": [
       "1    41\n",
       "2    20\n",
       "4    13\n",
       "7    10\n",
       "6     8\n",
       "3     5\n",
       "5     4\n",
       "Name: class_type, dtype: int64"
      ]
     },
     "execution_count": 69,
     "metadata": {},
     "output_type": "execute_result"
    }
   ],
   "source": [
    "# check the target feature\n",
    "\n",
    "zoo_df['class_type'].value_counts()"
   ]
  },
  {
   "cell_type": "code",
   "execution_count": 70,
   "id": "6f7eff19",
   "metadata": {
    "ExecuteTime": {
     "end_time": "2022-02-28T02:33:09.133054Z",
     "start_time": "2022-02-28T02:33:09.072189Z"
    }
   },
   "outputs": [
    {
     "data": {
      "application/javascript": [
       "\n",
       "        if (window._pyforest_update_imports_cell) { window._pyforest_update_imports_cell('import matplotlib.pyplot as plt\\nimport plotly.express as px\\nimport pandas as pd'); }\n",
       "    "
      ],
      "text/plain": [
       "<IPython.core.display.Javascript object>"
      ]
     },
     "metadata": {},
     "output_type": "display_data"
    },
    {
     "data": {
      "application/vnd.plotly.v1+json": {
       "config": {
        "plotlyServerURL": "https://plot.ly"
       },
       "data": [
        {
         "alignmentgroup": "True",
         "hovertemplate": "Animal Class=%{x}<br>count=%{y}<br>color=%{marker.color}<extra></extra>",
         "legendgroup": "",
         "marker": {
          "color": [
           1,
           2,
           4,
           7,
           6,
           3,
           5
          ],
          "coloraxis": "coloraxis",
          "pattern": {
           "shape": ""
          }
         },
         "name": "",
         "offsetgroup": "",
         "orientation": "v",
         "showlegend": false,
         "textposition": "auto",
         "type": "bar",
         "x": [
          1,
          2,
          4,
          7,
          6,
          3,
          5
         ],
         "xaxis": "x",
         "y": [
          41,
          20,
          13,
          10,
          8,
          5,
          4
         ],
         "yaxis": "y"
        }
       ],
       "layout": {
        "barmode": "relative",
        "coloraxis": {
         "colorbar": {
          "title": {
           "text": "color"
          }
         },
         "colorscale": [
          [
           0,
           "#0d0887"
          ],
          [
           0.1111111111111111,
           "#46039f"
          ],
          [
           0.2222222222222222,
           "#7201a8"
          ],
          [
           0.3333333333333333,
           "#9c179e"
          ],
          [
           0.4444444444444444,
           "#bd3786"
          ],
          [
           0.5555555555555556,
           "#d8576b"
          ],
          [
           0.6666666666666666,
           "#ed7953"
          ],
          [
           0.7777777777777778,
           "#fb9f3a"
          ],
          [
           0.8888888888888888,
           "#fdca26"
          ],
          [
           1,
           "#f0f921"
          ]
         ]
        },
        "legend": {
         "tracegroupgap": 0
        },
        "template": {
         "data": {
          "bar": [
           {
            "error_x": {
             "color": "#2a3f5f"
            },
            "error_y": {
             "color": "#2a3f5f"
            },
            "marker": {
             "line": {
              "color": "#E5ECF6",
              "width": 0.5
             },
             "pattern": {
              "fillmode": "overlay",
              "size": 10,
              "solidity": 0.2
             }
            },
            "type": "bar"
           }
          ],
          "barpolar": [
           {
            "marker": {
             "line": {
              "color": "#E5ECF6",
              "width": 0.5
             },
             "pattern": {
              "fillmode": "overlay",
              "size": 10,
              "solidity": 0.2
             }
            },
            "type": "barpolar"
           }
          ],
          "carpet": [
           {
            "aaxis": {
             "endlinecolor": "#2a3f5f",
             "gridcolor": "white",
             "linecolor": "white",
             "minorgridcolor": "white",
             "startlinecolor": "#2a3f5f"
            },
            "baxis": {
             "endlinecolor": "#2a3f5f",
             "gridcolor": "white",
             "linecolor": "white",
             "minorgridcolor": "white",
             "startlinecolor": "#2a3f5f"
            },
            "type": "carpet"
           }
          ],
          "choropleth": [
           {
            "colorbar": {
             "outlinewidth": 0,
             "ticks": ""
            },
            "type": "choropleth"
           }
          ],
          "contour": [
           {
            "colorbar": {
             "outlinewidth": 0,
             "ticks": ""
            },
            "colorscale": [
             [
              0,
              "#0d0887"
             ],
             [
              0.1111111111111111,
              "#46039f"
             ],
             [
              0.2222222222222222,
              "#7201a8"
             ],
             [
              0.3333333333333333,
              "#9c179e"
             ],
             [
              0.4444444444444444,
              "#bd3786"
             ],
             [
              0.5555555555555556,
              "#d8576b"
             ],
             [
              0.6666666666666666,
              "#ed7953"
             ],
             [
              0.7777777777777778,
              "#fb9f3a"
             ],
             [
              0.8888888888888888,
              "#fdca26"
             ],
             [
              1,
              "#f0f921"
             ]
            ],
            "type": "contour"
           }
          ],
          "contourcarpet": [
           {
            "colorbar": {
             "outlinewidth": 0,
             "ticks": ""
            },
            "type": "contourcarpet"
           }
          ],
          "heatmap": [
           {
            "colorbar": {
             "outlinewidth": 0,
             "ticks": ""
            },
            "colorscale": [
             [
              0,
              "#0d0887"
             ],
             [
              0.1111111111111111,
              "#46039f"
             ],
             [
              0.2222222222222222,
              "#7201a8"
             ],
             [
              0.3333333333333333,
              "#9c179e"
             ],
             [
              0.4444444444444444,
              "#bd3786"
             ],
             [
              0.5555555555555556,
              "#d8576b"
             ],
             [
              0.6666666666666666,
              "#ed7953"
             ],
             [
              0.7777777777777778,
              "#fb9f3a"
             ],
             [
              0.8888888888888888,
              "#fdca26"
             ],
             [
              1,
              "#f0f921"
             ]
            ],
            "type": "heatmap"
           }
          ],
          "heatmapgl": [
           {
            "colorbar": {
             "outlinewidth": 0,
             "ticks": ""
            },
            "colorscale": [
             [
              0,
              "#0d0887"
             ],
             [
              0.1111111111111111,
              "#46039f"
             ],
             [
              0.2222222222222222,
              "#7201a8"
             ],
             [
              0.3333333333333333,
              "#9c179e"
             ],
             [
              0.4444444444444444,
              "#bd3786"
             ],
             [
              0.5555555555555556,
              "#d8576b"
             ],
             [
              0.6666666666666666,
              "#ed7953"
             ],
             [
              0.7777777777777778,
              "#fb9f3a"
             ],
             [
              0.8888888888888888,
              "#fdca26"
             ],
             [
              1,
              "#f0f921"
             ]
            ],
            "type": "heatmapgl"
           }
          ],
          "histogram": [
           {
            "marker": {
             "pattern": {
              "fillmode": "overlay",
              "size": 10,
              "solidity": 0.2
             }
            },
            "type": "histogram"
           }
          ],
          "histogram2d": [
           {
            "colorbar": {
             "outlinewidth": 0,
             "ticks": ""
            },
            "colorscale": [
             [
              0,
              "#0d0887"
             ],
             [
              0.1111111111111111,
              "#46039f"
             ],
             [
              0.2222222222222222,
              "#7201a8"
             ],
             [
              0.3333333333333333,
              "#9c179e"
             ],
             [
              0.4444444444444444,
              "#bd3786"
             ],
             [
              0.5555555555555556,
              "#d8576b"
             ],
             [
              0.6666666666666666,
              "#ed7953"
             ],
             [
              0.7777777777777778,
              "#fb9f3a"
             ],
             [
              0.8888888888888888,
              "#fdca26"
             ],
             [
              1,
              "#f0f921"
             ]
            ],
            "type": "histogram2d"
           }
          ],
          "histogram2dcontour": [
           {
            "colorbar": {
             "outlinewidth": 0,
             "ticks": ""
            },
            "colorscale": [
             [
              0,
              "#0d0887"
             ],
             [
              0.1111111111111111,
              "#46039f"
             ],
             [
              0.2222222222222222,
              "#7201a8"
             ],
             [
              0.3333333333333333,
              "#9c179e"
             ],
             [
              0.4444444444444444,
              "#bd3786"
             ],
             [
              0.5555555555555556,
              "#d8576b"
             ],
             [
              0.6666666666666666,
              "#ed7953"
             ],
             [
              0.7777777777777778,
              "#fb9f3a"
             ],
             [
              0.8888888888888888,
              "#fdca26"
             ],
             [
              1,
              "#f0f921"
             ]
            ],
            "type": "histogram2dcontour"
           }
          ],
          "mesh3d": [
           {
            "colorbar": {
             "outlinewidth": 0,
             "ticks": ""
            },
            "type": "mesh3d"
           }
          ],
          "parcoords": [
           {
            "line": {
             "colorbar": {
              "outlinewidth": 0,
              "ticks": ""
             }
            },
            "type": "parcoords"
           }
          ],
          "pie": [
           {
            "automargin": true,
            "type": "pie"
           }
          ],
          "scatter": [
           {
            "marker": {
             "colorbar": {
              "outlinewidth": 0,
              "ticks": ""
             }
            },
            "type": "scatter"
           }
          ],
          "scatter3d": [
           {
            "line": {
             "colorbar": {
              "outlinewidth": 0,
              "ticks": ""
             }
            },
            "marker": {
             "colorbar": {
              "outlinewidth": 0,
              "ticks": ""
             }
            },
            "type": "scatter3d"
           }
          ],
          "scattercarpet": [
           {
            "marker": {
             "colorbar": {
              "outlinewidth": 0,
              "ticks": ""
             }
            },
            "type": "scattercarpet"
           }
          ],
          "scattergeo": [
           {
            "marker": {
             "colorbar": {
              "outlinewidth": 0,
              "ticks": ""
             }
            },
            "type": "scattergeo"
           }
          ],
          "scattergl": [
           {
            "marker": {
             "colorbar": {
              "outlinewidth": 0,
              "ticks": ""
             }
            },
            "type": "scattergl"
           }
          ],
          "scattermapbox": [
           {
            "marker": {
             "colorbar": {
              "outlinewidth": 0,
              "ticks": ""
             }
            },
            "type": "scattermapbox"
           }
          ],
          "scatterpolar": [
           {
            "marker": {
             "colorbar": {
              "outlinewidth": 0,
              "ticks": ""
             }
            },
            "type": "scatterpolar"
           }
          ],
          "scatterpolargl": [
           {
            "marker": {
             "colorbar": {
              "outlinewidth": 0,
              "ticks": ""
             }
            },
            "type": "scatterpolargl"
           }
          ],
          "scatterternary": [
           {
            "marker": {
             "colorbar": {
              "outlinewidth": 0,
              "ticks": ""
             }
            },
            "type": "scatterternary"
           }
          ],
          "surface": [
           {
            "colorbar": {
             "outlinewidth": 0,
             "ticks": ""
            },
            "colorscale": [
             [
              0,
              "#0d0887"
             ],
             [
              0.1111111111111111,
              "#46039f"
             ],
             [
              0.2222222222222222,
              "#7201a8"
             ],
             [
              0.3333333333333333,
              "#9c179e"
             ],
             [
              0.4444444444444444,
              "#bd3786"
             ],
             [
              0.5555555555555556,
              "#d8576b"
             ],
             [
              0.6666666666666666,
              "#ed7953"
             ],
             [
              0.7777777777777778,
              "#fb9f3a"
             ],
             [
              0.8888888888888888,
              "#fdca26"
             ],
             [
              1,
              "#f0f921"
             ]
            ],
            "type": "surface"
           }
          ],
          "table": [
           {
            "cells": {
             "fill": {
              "color": "#EBF0F8"
             },
             "line": {
              "color": "white"
             }
            },
            "header": {
             "fill": {
              "color": "#C8D4E3"
             },
             "line": {
              "color": "white"
             }
            },
            "type": "table"
           }
          ]
         },
         "layout": {
          "annotationdefaults": {
           "arrowcolor": "#2a3f5f",
           "arrowhead": 0,
           "arrowwidth": 1
          },
          "autotypenumbers": "strict",
          "coloraxis": {
           "colorbar": {
            "outlinewidth": 0,
            "ticks": ""
           }
          },
          "colorscale": {
           "diverging": [
            [
             0,
             "#8e0152"
            ],
            [
             0.1,
             "#c51b7d"
            ],
            [
             0.2,
             "#de77ae"
            ],
            [
             0.3,
             "#f1b6da"
            ],
            [
             0.4,
             "#fde0ef"
            ],
            [
             0.5,
             "#f7f7f7"
            ],
            [
             0.6,
             "#e6f5d0"
            ],
            [
             0.7,
             "#b8e186"
            ],
            [
             0.8,
             "#7fbc41"
            ],
            [
             0.9,
             "#4d9221"
            ],
            [
             1,
             "#276419"
            ]
           ],
           "sequential": [
            [
             0,
             "#0d0887"
            ],
            [
             0.1111111111111111,
             "#46039f"
            ],
            [
             0.2222222222222222,
             "#7201a8"
            ],
            [
             0.3333333333333333,
             "#9c179e"
            ],
            [
             0.4444444444444444,
             "#bd3786"
            ],
            [
             0.5555555555555556,
             "#d8576b"
            ],
            [
             0.6666666666666666,
             "#ed7953"
            ],
            [
             0.7777777777777778,
             "#fb9f3a"
            ],
            [
             0.8888888888888888,
             "#fdca26"
            ],
            [
             1,
             "#f0f921"
            ]
           ],
           "sequentialminus": [
            [
             0,
             "#0d0887"
            ],
            [
             0.1111111111111111,
             "#46039f"
            ],
            [
             0.2222222222222222,
             "#7201a8"
            ],
            [
             0.3333333333333333,
             "#9c179e"
            ],
            [
             0.4444444444444444,
             "#bd3786"
            ],
            [
             0.5555555555555556,
             "#d8576b"
            ],
            [
             0.6666666666666666,
             "#ed7953"
            ],
            [
             0.7777777777777778,
             "#fb9f3a"
            ],
            [
             0.8888888888888888,
             "#fdca26"
            ],
            [
             1,
             "#f0f921"
            ]
           ]
          },
          "colorway": [
           "#636efa",
           "#EF553B",
           "#00cc96",
           "#ab63fa",
           "#FFA15A",
           "#19d3f3",
           "#FF6692",
           "#B6E880",
           "#FF97FF",
           "#FECB52"
          ],
          "font": {
           "color": "#2a3f5f"
          },
          "geo": {
           "bgcolor": "white",
           "lakecolor": "white",
           "landcolor": "#E5ECF6",
           "showlakes": true,
           "showland": true,
           "subunitcolor": "white"
          },
          "hoverlabel": {
           "align": "left"
          },
          "hovermode": "closest",
          "mapbox": {
           "style": "light"
          },
          "paper_bgcolor": "white",
          "plot_bgcolor": "#E5ECF6",
          "polar": {
           "angularaxis": {
            "gridcolor": "white",
            "linecolor": "white",
            "ticks": ""
           },
           "bgcolor": "#E5ECF6",
           "radialaxis": {
            "gridcolor": "white",
            "linecolor": "white",
            "ticks": ""
           }
          },
          "scene": {
           "xaxis": {
            "backgroundcolor": "#E5ECF6",
            "gridcolor": "white",
            "gridwidth": 2,
            "linecolor": "white",
            "showbackground": true,
            "ticks": "",
            "zerolinecolor": "white"
           },
           "yaxis": {
            "backgroundcolor": "#E5ECF6",
            "gridcolor": "white",
            "gridwidth": 2,
            "linecolor": "white",
            "showbackground": true,
            "ticks": "",
            "zerolinecolor": "white"
           },
           "zaxis": {
            "backgroundcolor": "#E5ECF6",
            "gridcolor": "white",
            "gridwidth": 2,
            "linecolor": "white",
            "showbackground": true,
            "ticks": "",
            "zerolinecolor": "white"
           }
          },
          "shapedefaults": {
           "line": {
            "color": "#2a3f5f"
           }
          },
          "ternary": {
           "aaxis": {
            "gridcolor": "white",
            "linecolor": "white",
            "ticks": ""
           },
           "baxis": {
            "gridcolor": "white",
            "linecolor": "white",
            "ticks": ""
           },
           "bgcolor": "#E5ECF6",
           "caxis": {
            "gridcolor": "white",
            "linecolor": "white",
            "ticks": ""
           }
          },
          "title": {
           "x": 0.05
          },
          "xaxis": {
           "automargin": true,
           "gridcolor": "white",
           "linecolor": "white",
           "ticks": "",
           "title": {
            "standoff": 15
           },
           "zerolinecolor": "white",
           "zerolinewidth": 2
          },
          "yaxis": {
           "automargin": true,
           "gridcolor": "white",
           "linecolor": "white",
           "ticks": "",
           "title": {
            "standoff": 15
           },
           "zerolinecolor": "white",
           "zerolinewidth": 2
          }
         }
        },
        "title": {
         "text": "Animal Class Type Distribution"
        },
        "xaxis": {
         "anchor": "y",
         "domain": [
          0,
          1
         ],
         "title": {
          "text": "Animal Class"
         }
        },
        "yaxis": {
         "anchor": "x",
         "domain": [
          0,
          1
         ],
         "title": {
          "text": "count"
         }
        }
       }
      },
      "text/html": [
       "<div>                            <div id=\"1524aedd-a44f-4201-82fe-2c865a011fc1\" class=\"plotly-graph-div\" style=\"height:525px; width:100%;\"></div>            <script type=\"text/javascript\">                require([\"plotly\"], function(Plotly) {                    window.PLOTLYENV=window.PLOTLYENV || {};                                    if (document.getElementById(\"1524aedd-a44f-4201-82fe-2c865a011fc1\")) {                    Plotly.newPlot(                        \"1524aedd-a44f-4201-82fe-2c865a011fc1\",                        [{\"alignmentgroup\":\"True\",\"hovertemplate\":\"Animal Class=%{x}<br>count=%{y}<br>color=%{marker.color}<extra></extra>\",\"legendgroup\":\"\",\"marker\":{\"color\":[1,2,4,7,6,3,5],\"coloraxis\":\"coloraxis\",\"pattern\":{\"shape\":\"\"}},\"name\":\"\",\"offsetgroup\":\"\",\"orientation\":\"v\",\"showlegend\":false,\"textposition\":\"auto\",\"type\":\"bar\",\"x\":[1,2,4,7,6,3,5],\"xaxis\":\"x\",\"y\":[41,20,13,10,8,5,4],\"yaxis\":\"y\"}],                        {\"barmode\":\"relative\",\"coloraxis\":{\"colorbar\":{\"title\":{\"text\":\"color\"}},\"colorscale\":[[0.0,\"#0d0887\"],[0.1111111111111111,\"#46039f\"],[0.2222222222222222,\"#7201a8\"],[0.3333333333333333,\"#9c179e\"],[0.4444444444444444,\"#bd3786\"],[0.5555555555555556,\"#d8576b\"],[0.6666666666666666,\"#ed7953\"],[0.7777777777777778,\"#fb9f3a\"],[0.8888888888888888,\"#fdca26\"],[1.0,\"#f0f921\"]]},\"legend\":{\"tracegroupgap\":0},\"template\":{\"data\":{\"bar\":[{\"error_x\":{\"color\":\"#2a3f5f\"},\"error_y\":{\"color\":\"#2a3f5f\"},\"marker\":{\"line\":{\"color\":\"#E5ECF6\",\"width\":0.5},\"pattern\":{\"fillmode\":\"overlay\",\"size\":10,\"solidity\":0.2}},\"type\":\"bar\"}],\"barpolar\":[{\"marker\":{\"line\":{\"color\":\"#E5ECF6\",\"width\":0.5},\"pattern\":{\"fillmode\":\"overlay\",\"size\":10,\"solidity\":0.2}},\"type\":\"barpolar\"}],\"carpet\":[{\"aaxis\":{\"endlinecolor\":\"#2a3f5f\",\"gridcolor\":\"white\",\"linecolor\":\"white\",\"minorgridcolor\":\"white\",\"startlinecolor\":\"#2a3f5f\"},\"baxis\":{\"endlinecolor\":\"#2a3f5f\",\"gridcolor\":\"white\",\"linecolor\":\"white\",\"minorgridcolor\":\"white\",\"startlinecolor\":\"#2a3f5f\"},\"type\":\"carpet\"}],\"choropleth\":[{\"colorbar\":{\"outlinewidth\":0,\"ticks\":\"\"},\"type\":\"choropleth\"}],\"contour\":[{\"colorbar\":{\"outlinewidth\":0,\"ticks\":\"\"},\"colorscale\":[[0.0,\"#0d0887\"],[0.1111111111111111,\"#46039f\"],[0.2222222222222222,\"#7201a8\"],[0.3333333333333333,\"#9c179e\"],[0.4444444444444444,\"#bd3786\"],[0.5555555555555556,\"#d8576b\"],[0.6666666666666666,\"#ed7953\"],[0.7777777777777778,\"#fb9f3a\"],[0.8888888888888888,\"#fdca26\"],[1.0,\"#f0f921\"]],\"type\":\"contour\"}],\"contourcarpet\":[{\"colorbar\":{\"outlinewidth\":0,\"ticks\":\"\"},\"type\":\"contourcarpet\"}],\"heatmap\":[{\"colorbar\":{\"outlinewidth\":0,\"ticks\":\"\"},\"colorscale\":[[0.0,\"#0d0887\"],[0.1111111111111111,\"#46039f\"],[0.2222222222222222,\"#7201a8\"],[0.3333333333333333,\"#9c179e\"],[0.4444444444444444,\"#bd3786\"],[0.5555555555555556,\"#d8576b\"],[0.6666666666666666,\"#ed7953\"],[0.7777777777777778,\"#fb9f3a\"],[0.8888888888888888,\"#fdca26\"],[1.0,\"#f0f921\"]],\"type\":\"heatmap\"}],\"heatmapgl\":[{\"colorbar\":{\"outlinewidth\":0,\"ticks\":\"\"},\"colorscale\":[[0.0,\"#0d0887\"],[0.1111111111111111,\"#46039f\"],[0.2222222222222222,\"#7201a8\"],[0.3333333333333333,\"#9c179e\"],[0.4444444444444444,\"#bd3786\"],[0.5555555555555556,\"#d8576b\"],[0.6666666666666666,\"#ed7953\"],[0.7777777777777778,\"#fb9f3a\"],[0.8888888888888888,\"#fdca26\"],[1.0,\"#f0f921\"]],\"type\":\"heatmapgl\"}],\"histogram\":[{\"marker\":{\"pattern\":{\"fillmode\":\"overlay\",\"size\":10,\"solidity\":0.2}},\"type\":\"histogram\"}],\"histogram2d\":[{\"colorbar\":{\"outlinewidth\":0,\"ticks\":\"\"},\"colorscale\":[[0.0,\"#0d0887\"],[0.1111111111111111,\"#46039f\"],[0.2222222222222222,\"#7201a8\"],[0.3333333333333333,\"#9c179e\"],[0.4444444444444444,\"#bd3786\"],[0.5555555555555556,\"#d8576b\"],[0.6666666666666666,\"#ed7953\"],[0.7777777777777778,\"#fb9f3a\"],[0.8888888888888888,\"#fdca26\"],[1.0,\"#f0f921\"]],\"type\":\"histogram2d\"}],\"histogram2dcontour\":[{\"colorbar\":{\"outlinewidth\":0,\"ticks\":\"\"},\"colorscale\":[[0.0,\"#0d0887\"],[0.1111111111111111,\"#46039f\"],[0.2222222222222222,\"#7201a8\"],[0.3333333333333333,\"#9c179e\"],[0.4444444444444444,\"#bd3786\"],[0.5555555555555556,\"#d8576b\"],[0.6666666666666666,\"#ed7953\"],[0.7777777777777778,\"#fb9f3a\"],[0.8888888888888888,\"#fdca26\"],[1.0,\"#f0f921\"]],\"type\":\"histogram2dcontour\"}],\"mesh3d\":[{\"colorbar\":{\"outlinewidth\":0,\"ticks\":\"\"},\"type\":\"mesh3d\"}],\"parcoords\":[{\"line\":{\"colorbar\":{\"outlinewidth\":0,\"ticks\":\"\"}},\"type\":\"parcoords\"}],\"pie\":[{\"automargin\":true,\"type\":\"pie\"}],\"scatter\":[{\"marker\":{\"colorbar\":{\"outlinewidth\":0,\"ticks\":\"\"}},\"type\":\"scatter\"}],\"scatter3d\":[{\"line\":{\"colorbar\":{\"outlinewidth\":0,\"ticks\":\"\"}},\"marker\":{\"colorbar\":{\"outlinewidth\":0,\"ticks\":\"\"}},\"type\":\"scatter3d\"}],\"scattercarpet\":[{\"marker\":{\"colorbar\":{\"outlinewidth\":0,\"ticks\":\"\"}},\"type\":\"scattercarpet\"}],\"scattergeo\":[{\"marker\":{\"colorbar\":{\"outlinewidth\":0,\"ticks\":\"\"}},\"type\":\"scattergeo\"}],\"scattergl\":[{\"marker\":{\"colorbar\":{\"outlinewidth\":0,\"ticks\":\"\"}},\"type\":\"scattergl\"}],\"scattermapbox\":[{\"marker\":{\"colorbar\":{\"outlinewidth\":0,\"ticks\":\"\"}},\"type\":\"scattermapbox\"}],\"scatterpolar\":[{\"marker\":{\"colorbar\":{\"outlinewidth\":0,\"ticks\":\"\"}},\"type\":\"scatterpolar\"}],\"scatterpolargl\":[{\"marker\":{\"colorbar\":{\"outlinewidth\":0,\"ticks\":\"\"}},\"type\":\"scatterpolargl\"}],\"scatterternary\":[{\"marker\":{\"colorbar\":{\"outlinewidth\":0,\"ticks\":\"\"}},\"type\":\"scatterternary\"}],\"surface\":[{\"colorbar\":{\"outlinewidth\":0,\"ticks\":\"\"},\"colorscale\":[[0.0,\"#0d0887\"],[0.1111111111111111,\"#46039f\"],[0.2222222222222222,\"#7201a8\"],[0.3333333333333333,\"#9c179e\"],[0.4444444444444444,\"#bd3786\"],[0.5555555555555556,\"#d8576b\"],[0.6666666666666666,\"#ed7953\"],[0.7777777777777778,\"#fb9f3a\"],[0.8888888888888888,\"#fdca26\"],[1.0,\"#f0f921\"]],\"type\":\"surface\"}],\"table\":[{\"cells\":{\"fill\":{\"color\":\"#EBF0F8\"},\"line\":{\"color\":\"white\"}},\"header\":{\"fill\":{\"color\":\"#C8D4E3\"},\"line\":{\"color\":\"white\"}},\"type\":\"table\"}]},\"layout\":{\"annotationdefaults\":{\"arrowcolor\":\"#2a3f5f\",\"arrowhead\":0,\"arrowwidth\":1},\"autotypenumbers\":\"strict\",\"coloraxis\":{\"colorbar\":{\"outlinewidth\":0,\"ticks\":\"\"}},\"colorscale\":{\"diverging\":[[0,\"#8e0152\"],[0.1,\"#c51b7d\"],[0.2,\"#de77ae\"],[0.3,\"#f1b6da\"],[0.4,\"#fde0ef\"],[0.5,\"#f7f7f7\"],[0.6,\"#e6f5d0\"],[0.7,\"#b8e186\"],[0.8,\"#7fbc41\"],[0.9,\"#4d9221\"],[1,\"#276419\"]],\"sequential\":[[0.0,\"#0d0887\"],[0.1111111111111111,\"#46039f\"],[0.2222222222222222,\"#7201a8\"],[0.3333333333333333,\"#9c179e\"],[0.4444444444444444,\"#bd3786\"],[0.5555555555555556,\"#d8576b\"],[0.6666666666666666,\"#ed7953\"],[0.7777777777777778,\"#fb9f3a\"],[0.8888888888888888,\"#fdca26\"],[1.0,\"#f0f921\"]],\"sequentialminus\":[[0.0,\"#0d0887\"],[0.1111111111111111,\"#46039f\"],[0.2222222222222222,\"#7201a8\"],[0.3333333333333333,\"#9c179e\"],[0.4444444444444444,\"#bd3786\"],[0.5555555555555556,\"#d8576b\"],[0.6666666666666666,\"#ed7953\"],[0.7777777777777778,\"#fb9f3a\"],[0.8888888888888888,\"#fdca26\"],[1.0,\"#f0f921\"]]},\"colorway\":[\"#636efa\",\"#EF553B\",\"#00cc96\",\"#ab63fa\",\"#FFA15A\",\"#19d3f3\",\"#FF6692\",\"#B6E880\",\"#FF97FF\",\"#FECB52\"],\"font\":{\"color\":\"#2a3f5f\"},\"geo\":{\"bgcolor\":\"white\",\"lakecolor\":\"white\",\"landcolor\":\"#E5ECF6\",\"showlakes\":true,\"showland\":true,\"subunitcolor\":\"white\"},\"hoverlabel\":{\"align\":\"left\"},\"hovermode\":\"closest\",\"mapbox\":{\"style\":\"light\"},\"paper_bgcolor\":\"white\",\"plot_bgcolor\":\"#E5ECF6\",\"polar\":{\"angularaxis\":{\"gridcolor\":\"white\",\"linecolor\":\"white\",\"ticks\":\"\"},\"bgcolor\":\"#E5ECF6\",\"radialaxis\":{\"gridcolor\":\"white\",\"linecolor\":\"white\",\"ticks\":\"\"}},\"scene\":{\"xaxis\":{\"backgroundcolor\":\"#E5ECF6\",\"gridcolor\":\"white\",\"gridwidth\":2,\"linecolor\":\"white\",\"showbackground\":true,\"ticks\":\"\",\"zerolinecolor\":\"white\"},\"yaxis\":{\"backgroundcolor\":\"#E5ECF6\",\"gridcolor\":\"white\",\"gridwidth\":2,\"linecolor\":\"white\",\"showbackground\":true,\"ticks\":\"\",\"zerolinecolor\":\"white\"},\"zaxis\":{\"backgroundcolor\":\"#E5ECF6\",\"gridcolor\":\"white\",\"gridwidth\":2,\"linecolor\":\"white\",\"showbackground\":true,\"ticks\":\"\",\"zerolinecolor\":\"white\"}},\"shapedefaults\":{\"line\":{\"color\":\"#2a3f5f\"}},\"ternary\":{\"aaxis\":{\"gridcolor\":\"white\",\"linecolor\":\"white\",\"ticks\":\"\"},\"baxis\":{\"gridcolor\":\"white\",\"linecolor\":\"white\",\"ticks\":\"\"},\"bgcolor\":\"#E5ECF6\",\"caxis\":{\"gridcolor\":\"white\",\"linecolor\":\"white\",\"ticks\":\"\"}},\"title\":{\"x\":0.05},\"xaxis\":{\"automargin\":true,\"gridcolor\":\"white\",\"linecolor\":\"white\",\"ticks\":\"\",\"title\":{\"standoff\":15},\"zerolinecolor\":\"white\",\"zerolinewidth\":2},\"yaxis\":{\"automargin\":true,\"gridcolor\":\"white\",\"linecolor\":\"white\",\"ticks\":\"\",\"title\":{\"standoff\":15},\"zerolinecolor\":\"white\",\"zerolinewidth\":2}}},\"title\":{\"text\":\"Animal Class Type Distribution\"},\"xaxis\":{\"anchor\":\"y\",\"domain\":[0.0,1.0],\"title\":{\"text\":\"Animal Class\"}},\"yaxis\":{\"anchor\":\"x\",\"domain\":[0.0,1.0],\"title\":{\"text\":\"count\"}}},                        {\"responsive\": true}                    ).then(function(){\n",
       "                            \n",
       "var gd = document.getElementById('1524aedd-a44f-4201-82fe-2c865a011fc1');\n",
       "var x = new MutationObserver(function (mutations, observer) {{\n",
       "        var display = window.getComputedStyle(gd).display;\n",
       "        if (!display || display === 'none') {{\n",
       "            console.log([gd, 'removed!']);\n",
       "            Plotly.purge(gd);\n",
       "            observer.disconnect();\n",
       "        }}\n",
       "}});\n",
       "\n",
       "// Listen for the removal of the full notebook cells\n",
       "var notebookContainer = gd.closest('#notebook-container');\n",
       "if (notebookContainer) {{\n",
       "    x.observe(notebookContainer, {childList: true});\n",
       "}}\n",
       "\n",
       "// Listen for the clearing of the current output cell\n",
       "var outputEl = gd.closest('.output');\n",
       "if (outputEl) {{\n",
       "    x.observe(outputEl, {childList: true});\n",
       "}}\n",
       "\n",
       "                        })                };                });            </script>        </div>"
      ]
     },
     "metadata": {},
     "output_type": "display_data"
    }
   ],
   "source": [
    "# plot the target variable distribution\n",
    "\n",
    "x = zoo_df['class_type'].value_counts().index.tolist()\n",
    "y = zoo_df['class_type'].value_counts().tolist()\n",
    "\n",
    "fig = px.bar(x=x, y=y, color=x, title=\"Animal Class Type Distribution\",\n",
    "             labels={\n",
    "                'x': 'Animal Class',\n",
    "                'y': 'count'\n",
    "                },)\n",
    "fig.show()"
   ]
  },
  {
   "cell_type": "code",
   "execution_count": 71,
   "id": "3314bf5e",
   "metadata": {
    "ExecuteTime": {
     "end_time": "2022-02-28T02:33:09.400683Z",
     "start_time": "2022-02-28T02:33:09.387719Z"
    }
   },
   "outputs": [
    {
     "data": {
      "text/plain": [
       "frog        2\n",
       "pony        1\n",
       "sealion     1\n",
       "seal        1\n",
       "seahorse    1\n",
       "           ..\n",
       "gorilla     1\n",
       "goat        1\n",
       "gnat        1\n",
       "girl        1\n",
       "wren        1\n",
       "Name: animal_name, Length: 100, dtype: int64"
      ]
     },
     "execution_count": 71,
     "metadata": {},
     "output_type": "execute_result"
    }
   ],
   "source": [
    "zoo_df['animal_name'].value_counts()"
   ]
  },
  {
   "cell_type": "code",
   "execution_count": 72,
   "id": "8d60c9ab",
   "metadata": {
    "ExecuteTime": {
     "end_time": "2022-02-28T02:33:10.680124Z",
     "start_time": "2022-02-28T02:33:09.607413Z"
    }
   },
   "outputs": [
    {
     "data": {
      "application/javascript": [
       "\n",
       "        if (window._pyforest_update_imports_cell) { window._pyforest_update_imports_cell('import matplotlib.pyplot as plt\\nimport plotly.express as px\\nimport pandas as pd'); }\n",
       "    "
      ],
      "text/plain": [
       "<IPython.core.display.Javascript object>"
      ]
     },
     "metadata": {},
     "output_type": "display_data"
    },
    {
     "data": {
      "image/png": "[encoded data removed]",
      "text/plain": [
       "<Figure size 1080x720 with 1 Axes>"
      ]
     },
     "metadata": {
      "needs_background": "light"
     },
     "output_type": "display_data"
    }
   ],
   "source": [
    "# correlation heatmap\n",
    "\n",
    "fig, ax = plt.subplots(figsize=(15,10))\n",
    "sns.heatmap(zoo_df.corr(), annot=True, fmt='.1g', cmap=\"viridis\", cbar=False, linewidths=0.5, linecolor='black');"
   ]
  },
  {
   "cell_type": "markdown",
   "id": "a7084bad",
   "metadata": {},
   "source": [
    "**Observation:**\n",
    "\n",
    "+ Dropping **hair** feature since it's high correlated with milk feature\n",
    "\n",
    "\n",
    "+ Dropping **milk** feature since it's highly correlated with eggs\n",
    "\n",
    "\n",
    "+ Dropping **animal_name** as it is insignificant "
   ]
  },
  {
   "cell_type": "code",
   "execution_count": 73,
   "id": "edd84975",
   "metadata": {
    "ExecuteTime": {
     "end_time": "2022-02-28T02:33:10.901153Z",
     "start_time": "2022-02-28T02:33:10.889150Z"
    }
   },
   "outputs": [],
   "source": [
    "# drop the above columns\n",
    "\n",
    "zoo_df.drop(['animal_name','hair', 'milk'], axis=1, inplace=True)"
   ]
  },
  {
   "cell_type": "code",
   "execution_count": 74,
   "id": "0346b623",
   "metadata": {
    "ExecuteTime": {
     "end_time": "2022-02-28T02:33:11.119171Z",
     "start_time": "2022-02-28T02:33:11.090216Z"
    }
   },
   "outputs": [
    {
     "data": {
      "text/html": [
       "<div>\n",
       "<style scoped>\n",
       "    .dataframe tbody tr th:only-of-type {\n",
       "        vertical-align: middle;\n",
       "    }\n",
       "\n",
       "    .dataframe tbody tr th {\n",
       "        vertical-align: top;\n",
       "    }\n",
       "\n",
       "    .dataframe thead th {\n",
       "        text-align: right;\n",
       "    }\n",
       "</style>\n",
       "<table border=\"1\" class=\"dataframe\">\n",
       "  <thead>\n",
       "    <tr style=\"text-align: right;\">\n",
       "      <th></th>\n",
       "      <th>feathers</th>\n",
       "      <th>eggs</th>\n",
       "      <th>airborne</th>\n",
       "      <th>aquatic</th>\n",
       "      <th>predator</th>\n",
       "      <th>toothed</th>\n",
       "      <th>backbone</th>\n",
       "      <th>breathes</th>\n",
       "      <th>venomous</th>\n",
       "      <th>fins</th>\n",
       "      <th>legs</th>\n",
       "      <th>tail</th>\n",
       "      <th>domestic</th>\n",
       "      <th>catsize</th>\n",
       "    </tr>\n",
       "  </thead>\n",
       "  <tbody>\n",
       "    <tr>\n",
       "      <th>0</th>\n",
       "      <td>0</td>\n",
       "      <td>0</td>\n",
       "      <td>0</td>\n",
       "      <td>0</td>\n",
       "      <td>1</td>\n",
       "      <td>1</td>\n",
       "      <td>1</td>\n",
       "      <td>1</td>\n",
       "      <td>0</td>\n",
       "      <td>0</td>\n",
       "      <td>4</td>\n",
       "      <td>0</td>\n",
       "      <td>0</td>\n",
       "      <td>1</td>\n",
       "    </tr>\n",
       "    <tr>\n",
       "      <th>1</th>\n",
       "      <td>0</td>\n",
       "      <td>0</td>\n",
       "      <td>0</td>\n",
       "      <td>0</td>\n",
       "      <td>0</td>\n",
       "      <td>1</td>\n",
       "      <td>1</td>\n",
       "      <td>1</td>\n",
       "      <td>0</td>\n",
       "      <td>0</td>\n",
       "      <td>4</td>\n",
       "      <td>1</td>\n",
       "      <td>0</td>\n",
       "      <td>1</td>\n",
       "    </tr>\n",
       "    <tr>\n",
       "      <th>2</th>\n",
       "      <td>0</td>\n",
       "      <td>1</td>\n",
       "      <td>0</td>\n",
       "      <td>1</td>\n",
       "      <td>1</td>\n",
       "      <td>1</td>\n",
       "      <td>1</td>\n",
       "      <td>0</td>\n",
       "      <td>0</td>\n",
       "      <td>1</td>\n",
       "      <td>0</td>\n",
       "      <td>1</td>\n",
       "      <td>0</td>\n",
       "      <td>0</td>\n",
       "    </tr>\n",
       "    <tr>\n",
       "      <th>3</th>\n",
       "      <td>0</td>\n",
       "      <td>0</td>\n",
       "      <td>0</td>\n",
       "      <td>0</td>\n",
       "      <td>1</td>\n",
       "      <td>1</td>\n",
       "      <td>1</td>\n",
       "      <td>1</td>\n",
       "      <td>0</td>\n",
       "      <td>0</td>\n",
       "      <td>4</td>\n",
       "      <td>0</td>\n",
       "      <td>0</td>\n",
       "      <td>1</td>\n",
       "    </tr>\n",
       "    <tr>\n",
       "      <th>4</th>\n",
       "      <td>0</td>\n",
       "      <td>0</td>\n",
       "      <td>0</td>\n",
       "      <td>0</td>\n",
       "      <td>1</td>\n",
       "      <td>1</td>\n",
       "      <td>1</td>\n",
       "      <td>1</td>\n",
       "      <td>0</td>\n",
       "      <td>0</td>\n",
       "      <td>4</td>\n",
       "      <td>1</td>\n",
       "      <td>0</td>\n",
       "      <td>1</td>\n",
       "    </tr>\n",
       "  </tbody>\n",
       "</table>\n",
       "</div>"
      ],
      "text/plain": [
       "   feathers  eggs  airborne  aquatic  predator  toothed  backbone  breathes  \\\n",
       "0         0     0         0        0         1        1         1         1   \n",
       "1         0     0         0        0         0        1         1         1   \n",
       "2         0     1         0        1         1        1         1         0   \n",
       "3         0     0         0        0         1        1         1         1   \n",
       "4         0     0         0        0         1        1         1         1   \n",
       "\n",
       "   venomous  fins  legs  tail  domestic  catsize  \n",
       "0         0     0     4     0         0        1  \n",
       "1         0     0     4     1         0        1  \n",
       "2         0     1     0     1         0        0  \n",
       "3         0     0     4     0         0        1  \n",
       "4         0     0     4     1         0        1  "
      ]
     },
     "execution_count": 74,
     "metadata": {},
     "output_type": "execute_result"
    }
   ],
   "source": [
    "# drop the target feature from the input data\n",
    "\n",
    "X = zoo_df.drop(\"class_type\", axis=1)\n",
    "X.head()"
   ]
  },
  {
   "cell_type": "code",
   "execution_count": 75,
   "id": "c2668e4b",
   "metadata": {
    "ExecuteTime": {
     "end_time": "2022-02-28T02:33:11.325104Z",
     "start_time": "2022-02-28T02:33:11.312106Z"
    }
   },
   "outputs": [
    {
     "data": {
      "text/plain": [
       "0    1\n",
       "1    1\n",
       "2    4\n",
       "3    1\n",
       "4    1\n",
       "Name: class_type, dtype: int64"
      ]
     },
     "execution_count": 75,
     "metadata": {},
     "output_type": "execute_result"
    }
   ],
   "source": [
    "# saving the target feature in y variable\n",
    "\n",
    "y = zoo_df[\"class_type\"]\n",
    "y.head()"
   ]
  },
  {
   "cell_type": "markdown",
   "id": "efc56bfe",
   "metadata": {},
   "source": [
    "Splitting the data into training and test datasets\n",
    "\n",
    "Here, we are trying to predict the class type of the animal using the given data. Hence, the class_type will be the y label and rest of the data will be the X or the input data"
   ]
  },
  {
   "cell_type": "code",
   "execution_count": 86,
   "id": "c6dd0382",
   "metadata": {
    "ExecuteTime": {
     "end_time": "2022-02-28T02:37:20.414882Z",
     "start_time": "2022-02-28T02:37:20.395933Z"
    }
   },
   "outputs": [
    {
     "name": "stdout",
     "output_type": "stream",
     "text": [
      "(60, 14)\n",
      "(60,)\n",
      "(41, 14)\n",
      "(41,)\n"
     ]
    }
   ],
   "source": [
    "# split the dataset into train test\n",
    "\n",
    "X_train, X_test, y_train, y_test = train_test_split(X, y, test_size = 0.4, random_state = 0)\n",
    "\n",
    "print(X_train.shape)\n",
    "print(Y_train.shape)\n",
    "print(X_test.shape)\n",
    "print(Y_test.shape)"
   ]
  },
  {
   "cell_type": "code",
   "execution_count": 87,
   "id": "3099af06",
   "metadata": {
    "ExecuteTime": {
     "end_time": "2022-02-28T02:37:24.888736Z",
     "start_time": "2022-02-28T02:37:24.837872Z"
    }
   },
   "outputs": [
    {
     "data": {
      "text/plain": [
       "LogisticRegression(max_iter=1500)"
      ]
     },
     "execution_count": 87,
     "metadata": {},
     "output_type": "execute_result"
    }
   ],
   "source": [
    "# Train the logsitic regression model\n",
    "\n",
    "LRmodel = LogisticRegression(max_iter = 1500)\n",
    "LRmodel.fit(X_train, y_train)"
   ]
  },
  {
   "cell_type": "code",
   "execution_count": 88,
   "id": "68dabea1",
   "metadata": {
    "ExecuteTime": {
     "end_time": "2022-02-28T02:37:28.607866Z",
     "start_time": "2022-02-28T02:37:28.601882Z"
    }
   },
   "outputs": [],
   "source": [
    "# Predicting for the training set\n",
    "y_train_pred = LRmodel.predict(X_train)"
   ]
  },
  {
   "cell_type": "code",
   "execution_count": 89,
   "id": "05e90399",
   "metadata": {
    "ExecuteTime": {
     "end_time": "2022-02-28T02:37:30.155864Z",
     "start_time": "2022-02-28T02:37:30.137914Z"
    }
   },
   "outputs": [
    {
     "name": "stdout",
     "output_type": "stream",
     "text": [
      "              precision    recall  f1-score   support\n",
      "\n",
      "           1       0.96      1.00      0.98        25\n",
      "           2       1.00      1.00      1.00        13\n",
      "           3       0.00      0.00      0.00         1\n",
      "           4       1.00      1.00      1.00         5\n",
      "           5       1.00      1.00      1.00         3\n",
      "           6       1.00      1.00      1.00         5\n",
      "           7       1.00      1.00      1.00         8\n",
      "\n",
      "    accuracy                           0.98        60\n",
      "   macro avg       0.85      0.86      0.85        60\n",
      "weighted avg       0.97      0.98      0.98        60\n",
      "\n"
     ]
    },
    {
     "name": "stderr",
     "output_type": "stream",
     "text": [
      "D:\\IDEs\\Anaconda\\lib\\site-packages\\sklearn\\metrics\\_classification.py:1318: UndefinedMetricWarning:\n",
      "\n",
      "Precision and F-score are ill-defined and being set to 0.0 in labels with no predicted samples. Use `zero_division` parameter to control this behavior.\n",
      "\n",
      "D:\\IDEs\\Anaconda\\lib\\site-packages\\sklearn\\metrics\\_classification.py:1318: UndefinedMetricWarning:\n",
      "\n",
      "Precision and F-score are ill-defined and being set to 0.0 in labels with no predicted samples. Use `zero_division` parameter to control this behavior.\n",
      "\n",
      "D:\\IDEs\\Anaconda\\lib\\site-packages\\sklearn\\metrics\\_classification.py:1318: UndefinedMetricWarning:\n",
      "\n",
      "Precision and F-score are ill-defined and being set to 0.0 in labels with no predicted samples. Use `zero_division` parameter to control this behavior.\n",
      "\n"
     ]
    }
   ],
   "source": [
    "# Checking the evaluation metrics of the train set\n",
    "\n",
    "print(classification_report(y_train, y_train_pred))"
   ]
  },
  {
   "cell_type": "code",
   "execution_count": 90,
   "id": "b1033e54",
   "metadata": {
    "ExecuteTime": {
     "end_time": "2022-02-28T02:37:35.435981Z",
     "start_time": "2022-02-28T02:37:35.417997Z"
    }
   },
   "outputs": [
    {
     "data": {
      "text/plain": [
       "array([[25,  0,  0,  0,  0,  0,  0],\n",
       "       [ 0, 13,  0,  0,  0,  0,  0],\n",
       "       [ 1,  0,  0,  0,  0,  0,  0],\n",
       "       [ 0,  0,  0,  5,  0,  0,  0],\n",
       "       [ 0,  0,  0,  0,  3,  0,  0],\n",
       "       [ 0,  0,  0,  0,  0,  5,  0],\n",
       "       [ 0,  0,  0,  0,  0,  0,  8]], dtype=int64)"
      ]
     },
     "execution_count": 90,
     "metadata": {},
     "output_type": "execute_result"
    }
   ],
   "source": [
    "#calculating the confusion matrix for train set\n",
    "\n",
    "confusion_matrix(y_train, y_train_pred)"
   ]
  },
  {
   "cell_type": "code",
   "execution_count": 91,
   "id": "670d9711",
   "metadata": {
    "ExecuteTime": {
     "end_time": "2022-02-28T02:37:52.002827Z",
     "start_time": "2022-02-28T02:37:51.985883Z"
    }
   },
   "outputs": [],
   "source": [
    "# Predicting for the test set\n",
    "\n",
    "y_test_pred = LRmodel.predict(X_test)"
   ]
  },
  {
   "cell_type": "code",
   "execution_count": 92,
   "id": "94c37efa",
   "metadata": {
    "ExecuteTime": {
     "end_time": "2022-02-28T02:37:52.879713Z",
     "start_time": "2022-02-28T02:37:52.858770Z"
    }
   },
   "outputs": [
    {
     "name": "stdout",
     "output_type": "stream",
     "text": [
      "              precision    recall  f1-score   support\n",
      "\n",
      "           1       0.88      0.94      0.91        16\n",
      "           2       0.88      1.00      0.93         7\n",
      "           3       0.00      0.00      0.00         4\n",
      "           4       0.80      1.00      0.89         8\n",
      "           5       1.00      1.00      1.00         1\n",
      "           6       0.75      1.00      0.86         3\n",
      "           7       1.00      0.50      0.67         2\n",
      "\n",
      "    accuracy                           0.85        41\n",
      "   macro avg       0.76      0.78      0.75        41\n",
      "weighted avg       0.78      0.85      0.81        41\n",
      "\n"
     ]
    },
    {
     "name": "stderr",
     "output_type": "stream",
     "text": [
      "D:\\IDEs\\Anaconda\\lib\\site-packages\\sklearn\\metrics\\_classification.py:1318: UndefinedMetricWarning:\n",
      "\n",
      "Precision and F-score are ill-defined and being set to 0.0 in labels with no predicted samples. Use `zero_division` parameter to control this behavior.\n",
      "\n",
      "D:\\IDEs\\Anaconda\\lib\\site-packages\\sklearn\\metrics\\_classification.py:1318: UndefinedMetricWarning:\n",
      "\n",
      "Precision and F-score are ill-defined and being set to 0.0 in labels with no predicted samples. Use `zero_division` parameter to control this behavior.\n",
      "\n",
      "D:\\IDEs\\Anaconda\\lib\\site-packages\\sklearn\\metrics\\_classification.py:1318: UndefinedMetricWarning:\n",
      "\n",
      "Precision and F-score are ill-defined and being set to 0.0 in labels with no predicted samples. Use `zero_division` parameter to control this behavior.\n",
      "\n"
     ]
    }
   ],
   "source": [
    "# Checking the evaluation metrics of the test set\n",
    "\n",
    "print(classification_report(y_test, y_test_pred))"
   ]
  },
  {
   "cell_type": "code",
   "execution_count": 93,
   "id": "76d2553f",
   "metadata": {
    "ExecuteTime": {
     "end_time": "2022-02-28T02:38:19.867274Z",
     "start_time": "2022-02-28T02:38:19.846330Z"
    }
   },
   "outputs": [
    {
     "data": {
      "text/plain": [
       "array([[15,  1,  0,  0,  0,  0,  0],\n",
       "       [ 0,  7,  0,  0,  0,  0,  0],\n",
       "       [ 2,  0,  0,  2,  0,  0,  0],\n",
       "       [ 0,  0,  0,  8,  0,  0,  0],\n",
       "       [ 0,  0,  0,  0,  1,  0,  0],\n",
       "       [ 0,  0,  0,  0,  0,  3,  0],\n",
       "       [ 0,  0,  0,  0,  0,  1,  1]], dtype=int64)"
      ]
     },
     "execution_count": 93,
     "metadata": {},
     "output_type": "execute_result"
    }
   ],
   "source": [
    "#calculating the confusion matrix for test set\n",
    "\n",
    "confusion_matrix(y_test, y_test_pred)"
   ]
  },
  {
   "cell_type": "code",
   "execution_count": 96,
   "id": "7ba5d4ea",
   "metadata": {
    "ExecuteTime": {
     "end_time": "2022-02-28T02:39:45.130395Z",
     "start_time": "2022-02-28T02:39:44.947299Z"
    }
   },
   "outputs": [
    {
     "data": {
      "text/plain": [
       "{'fit_time': array([0.02692986, 0.02293873, 0.02094412, 0.0249331 ]),\n",
       " 'score_time': array([0.00099754, 0.0009973 , 0.00099754, 0.00099754]),\n",
       " 'test_score': array([0.96153846, 1.        , 0.84      , 0.88      ]),\n",
       " 'train_score': array([0.97333333, 0.97368421, 0.98684211, 0.98684211])}"
      ]
     },
     "execution_count": 96,
     "metadata": {},
     "output_type": "execute_result"
    }
   ],
   "source": [
    "# Now instead of train and test set, using cross validation\n",
    "\n",
    "# since sv is 4 it'll give 4 different models \n",
    "\n",
    "# CV is used to check homogeneity, overfitting or high variance or to tune hyperparameters \n",
    "\n",
    "model = LogisticRegression(max_iter = 1000)\n",
    "scores = cross_validate(model, X, y, cv = 4, scoring = 'accuracy', return_train_score = True)\n",
    "scores"
   ]
  },
  {
   "cell_type": "markdown",
   "id": "727669d7",
   "metadata": {},
   "source": [
    "**Observation:**\n",
    "\n",
    "+ The accuracy of the **2nd model has the highest accuracy** on both train and test data\n",
    "\n",
    "+ **3rd model is performing worst.** We can infer that during that split the train and test data are not equally distributed"
   ]
  },
  {
   "cell_type": "code",
   "execution_count": 99,
   "id": "fb9fe6a7",
   "metadata": {
    "ExecuteTime": {
     "end_time": "2022-02-28T02:40:55.696864Z",
     "start_time": "2022-02-28T02:40:55.555217Z"
    }
   },
   "outputs": [
    {
     "name": "stdout",
     "output_type": "stream",
     "text": [
      "accuracy of each fold - [0.9615384615384616, 0.92, 0.88, 0.92]\n",
      "Avg accuracy : 0.9203846153846154\n"
     ]
    }
   ],
   "source": [
    "#Method 2 - performing cross validation using Kfold with code\n",
    "\n",
    "# Kfold gives the indices of training and testing dataset.\n",
    "\n",
    "# This is similar to cross_validate()\n",
    "\n",
    "acc_score = []\n",
    "\n",
    "cv = KFold(n_splits = 4, random_state = 100, shuffle = True)\n",
    "\n",
    "#loop runds for 4 times since n_splits = 4\n",
    "for train_index , test_index in cv.split(X):\n",
    "\n",
    "    X_train , X_test = X.iloc[train_index,:], X.iloc[test_index,:]\n",
    "    y_train , y_test = y[train_index] , y[test_index]\n",
    "\n",
    "    model = LogisticRegression(max_iter = 1000)\n",
    "    model.fit(X_train,y_train)\n",
    "    pred_values = model.predict(X_test)\n",
    "     \n",
    "    acc = accuracy_score(y_test, pred_values)\n",
    "    acc_score.append(acc)\n",
    "     \n",
    "avg_acc_score = sum(acc_score)/4\n",
    " \n",
    "print('accuracy of each fold - {}'.format(acc_score))\n",
    "print('Avg accuracy : {}'.format(avg_acc_score))"
   ]
  },
  {
   "cell_type": "markdown",
   "id": "f0b4e509",
   "metadata": {},
   "source": [
    "**Observation:**\n",
    "\n",
    "+ The accuracy for the 3rd fold is **88%** so we can infer that the train and test split were not equally distributed\n",
    "\n",
    "\n",
    "+ The avg accuracy is **92%** which is quite good"
   ]
  },
  {
   "cell_type": "code",
   "execution_count": null,
   "id": "ac19d983",
   "metadata": {},
   "outputs": [],
   "source": []
  },
  {
   "cell_type": "markdown",
   "id": "0a899783",
   "metadata": {},
   "source": [
    "## 8 perform classification on MNIST dataset using Linear SVM and then using Kernels and compare the methods"
   ]
  },
  {
   "cell_type": "code",
   "execution_count": null,
   "id": "e159ba98",
   "metadata": {},
   "outputs": [],
   "source": []
  },
  {
   "cell_type": "code",
   "execution_count": null,
   "id": "e33cc3a2",
   "metadata": {},
   "outputs": [],
   "source": []
  },
  {
   "cell_type": "code",
   "execution_count": null,
   "id": "bd9223f4",
   "metadata": {},
   "outputs": [],
   "source": []
  },
  {
   "cell_type": "code",
   "execution_count": null,
   "id": "face3980",
   "metadata": {},
   "outputs": [],
   "source": []
  },
  {
   "cell_type": "code",
   "execution_count": null,
   "id": "7ad61daf",
   "metadata": {},
   "outputs": [],
   "source": []
  },
  {
   "cell_type": "code",
   "execution_count": null,
   "id": "b76e3c2c",
   "metadata": {},
   "outputs": [],
   "source": []
  },
  {
   "cell_type": "code",
   "execution_count": null,
   "id": "e9a4ded9",
   "metadata": {},
   "outputs": [],
   "source": []
  },
  {
   "cell_type": "code",
   "execution_count": null,
   "id": "b54a9735",
   "metadata": {},
   "outputs": [],
   "source": []
  },
  {
   "cell_type": "code",
   "execution_count": null,
   "id": "c47ee460",
   "metadata": {},
   "outputs": [],
   "source": []
  },
  {
   "cell_type": "code",
   "execution_count": null,
   "id": "da8b4e51",
   "metadata": {},
   "outputs": [],
   "source": []
  },
  {
   "cell_type": "code",
   "execution_count": null,
   "id": "e424e31c",
   "metadata": {},
   "outputs": [],
   "source": []
  },
  {
   "cell_type": "code",
   "execution_count": null,
   "id": "cad71178",
   "metadata": {},
   "outputs": [],
   "source": []
  },
  {
   "cell_type": "markdown",
   "id": "6a3f747d",
   "metadata": {},
   "source": [
    "Sources to learn more about the topics:\n",
    "\n",
    "https://www.ibm.com/topics/logistic-regression\n",
    "\n",
    "https://www.analyticsvidhya.com/blog/2017/09/understaing-support-vector-machine-example-code/\n",
    "\n",
    "https://towardsdatascience.com/kernel-function-6f1d2be6091\n",
    "\n",
    "https://www.quora.com/What-are-kernels-in-machine-learning-and-SVM-and-why-do-we-need-them/answer/Lili-Jiang?srid=oOgT\n"
   ]
  },
  {
   "cell_type": "code",
   "execution_count": null,
   "id": "91cf1810",
   "metadata": {},
   "outputs": [],
   "source": []
  }
 ],
 "metadata": {
  "kernelspec": {
   "display_name": "Python 3 (ipykernel)",
   "language": "python",
   "name": "python3"
  },
  "language_info": {
   "codemirror_mode": {
    "name": "ipython",
    "version": 3
   },
   "file_extension": ".py",
   "mimetype": "text/x-python",
   "name": "python",
   "nbconvert_exporter": "python",
   "pygments_lexer": "ipython3",
   "version": "3.7.11"
  },
  "latex_envs": {
   "LaTeX_envs_menu_present": true,
   "autoclose": false,
   "autocomplete": true,
   "bibliofile": "biblio.bib",
   "cite_by": "apalike",
   "current_citInitial": 1,
   "eqLabelWithNumbers": true,
   "eqNumInitial": 1,
   "hotkeys": {
    "equation": "Ctrl-E",
    "itemize": "Ctrl-I"
   },
   "labels_anchors": false,
   "latex_user_defs": false,
   "report_style_numbering": false,
   "user_envs_cfg": false
  },
  "toc": {
   "base_numbering": 1,
   "nav_menu": {},
   "number_sections": true,
   "sideBar": true,
   "skip_h1_title": false,
   "title_cell": "Table of Contents",
   "title_sidebar": "Contents",
   "toc_cell": false,
   "toc_position": {},
   "toc_section_display": true,
   "toc_window_display": false
  },
  "varInspector": {
   "cols": {
    "lenName": 16,
    "lenType": 16,
    "lenVar": 40
   },
   "kernels_config": {
    "python": {
     "delete_cmd_postfix": "",
     "delete_cmd_prefix": "del ",
     "library": "var_list.py",
     "varRefreshCmd": "print(var_dic_list())"
    },
    "r": {
     "delete_cmd_postfix": ") ",
     "delete_cmd_prefix": "rm(",
     "library": "var_list.r",
     "varRefreshCmd": "cat(var_dic_list()) "
    }
   },
   "types_to_exclude": [
    "module",
    "function",
    "builtin_function_or_method",
    "instance",
    "_Feature"
   ],
   "window_display": false
  }
 },
 "nbformat": 4,
 "nbformat_minor": 5
}
